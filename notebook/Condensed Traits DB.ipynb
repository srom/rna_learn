{
 "cells": [
  {
   "cell_type": "code",
   "execution_count": 138,
   "metadata": {},
   "outputs": [],
   "source": [
    "import os\n",
    "import datetime\n",
    "from pathlib import Path\n",
    "\n",
    "import pandas as pd\n",
    "import numpy as np\n",
    "import matplotlib.pyplot as plt\n",
    "import seaborn as sns\n",
    "\n",
    "if os.getcwd().endswith('notebook'):\n",
    "    os.chdir('..')"
   ]
  },
  {
   "cell_type": "code",
   "execution_count": 2,
   "metadata": {},
   "outputs": [],
   "source": [
    "sns.set(palette='colorblind', font_scale=1.3)"
   ]
  },
  {
   "cell_type": "code",
   "execution_count": 199,
   "metadata": {},
   "outputs": [],
   "source": [
    "species_df = pd.read_csv(os.path.join(os.getcwd(), 'data/condensed_traits/condensed_species_NCBI.csv'))"
   ]
  },
  {
   "cell_type": "code",
   "execution_count": 200,
   "metadata": {},
   "outputs": [
    {
     "data": {
      "text/plain": [
       "14884"
      ]
     },
     "execution_count": 200,
     "metadata": {},
     "output_type": "execute_result"
    }
   ],
   "source": [
    "len(species_df)"
   ]
  },
  {
   "cell_type": "code",
   "execution_count": 5,
   "metadata": {},
   "outputs": [
    {
     "data": {
      "text/plain": [
       "Index(['species_tax_id', 'species', 'genus', 'family', 'order', 'class',\n",
       "       'phylum', 'superkingdom', 'gram_stain', 'metabolism', 'pathways',\n",
       "       'carbon_substrates', 'sporulation', 'motility', 'range_tmp',\n",
       "       'range_salinity', 'cell_shape', 'isolation_source', 'd1_lo', 'd1_up',\n",
       "       'd2_lo', 'd2_up', 'doubling_h', 'genome_size', 'gc_content',\n",
       "       'coding_genes', 'optimum_tmp', 'optimum_ph', 'growth_tmp',\n",
       "       'rRNA16S_genes', 'tRNA_genes', 'gram_stain.count', 'metabolism.count',\n",
       "       'pathways.count', 'carbon_substrates.count', 'sporulation.count',\n",
       "       'motility.count', 'range_tmp.count', 'range_salinity.count',\n",
       "       'cell_shape.count', 'isolation_source.count', 'gram_stain.prop',\n",
       "       'metabolism.prop', 'pathways.prop', 'carbon_substrates.prop',\n",
       "       'sporulation.prop', 'motility.prop', 'range_tmp.prop',\n",
       "       'range_salinity.prop', 'cell_shape.prop', 'isolation_source.prop',\n",
       "       'd1_lo.count', 'd1_up.count', 'd2_lo.count', 'd2_up.count',\n",
       "       'doubling_h.count', 'genome_size.count', 'gc_content.count',\n",
       "       'coding_genes.count', 'optimum_tmp.count', 'optimum_ph.count',\n",
       "       'growth_tmp.count', 'rRNA16S_genes.count', 'tRNA_genes.count',\n",
       "       'd1_lo.stdev', 'd1_up.stdev', 'd2_lo.stdev', 'd2_up.stdev',\n",
       "       'doubling_h.stdev', 'genome_size.stdev', 'gc_content.stdev',\n",
       "       'coding_genes.stdev', 'optimum_tmp.stdev', 'optimum_ph.stdev',\n",
       "       'growth_tmp.stdev', 'rRNA16S_genes.stdev', 'tRNA_genes.stdev',\n",
       "       'data_source', 'ref_id'],\n",
       "      dtype='object')"
      ]
     },
     "execution_count": 5,
     "metadata": {},
     "output_type": "execute_result"
    }
   ],
   "source": [
    "species_df.columns"
   ]
  },
  {
   "cell_type": "code",
   "execution_count": 6,
   "metadata": {},
   "outputs": [
    {
     "data": {
      "text/html": [
       "<div>\n",
       "<style scoped>\n",
       "    .dataframe tbody tr th:only-of-type {\n",
       "        vertical-align: middle;\n",
       "    }\n",
       "\n",
       "    .dataframe tbody tr th {\n",
       "        vertical-align: top;\n",
       "    }\n",
       "\n",
       "    .dataframe thead th {\n",
       "        text-align: right;\n",
       "    }\n",
       "</style>\n",
       "<table border=\"1\" class=\"dataframe\">\n",
       "  <thead>\n",
       "    <tr style=\"text-align: right;\">\n",
       "      <th></th>\n",
       "      <th>species_tax_id</th>\n",
       "      <th>species</th>\n",
       "      <th>genus</th>\n",
       "      <th>family</th>\n",
       "      <th>order</th>\n",
       "      <th>class</th>\n",
       "      <th>phylum</th>\n",
       "      <th>superkingdom</th>\n",
       "      <th>gram_stain</th>\n",
       "      <th>metabolism</th>\n",
       "      <th>...</th>\n",
       "      <th>genome_size.stdev</th>\n",
       "      <th>gc_content.stdev</th>\n",
       "      <th>coding_genes.stdev</th>\n",
       "      <th>optimum_tmp.stdev</th>\n",
       "      <th>optimum_ph.stdev</th>\n",
       "      <th>growth_tmp.stdev</th>\n",
       "      <th>rRNA16S_genes.stdev</th>\n",
       "      <th>tRNA_genes.stdev</th>\n",
       "      <th>data_source</th>\n",
       "      <th>ref_id</th>\n",
       "    </tr>\n",
       "  </thead>\n",
       "  <tbody>\n",
       "    <tr>\n",
       "      <th>0</th>\n",
       "      <td>1243001</td>\n",
       "      <td>Acidipropionibacterium damnosum</td>\n",
       "      <td>Acidipropionibacterium</td>\n",
       "      <td>Propionibacteriaceae</td>\n",
       "      <td>Propionibacteriales</td>\n",
       "      <td>Actinobacteria</td>\n",
       "      <td>Actinobacteria</td>\n",
       "      <td>Bacteria</td>\n",
       "      <td>NaN</td>\n",
       "      <td>microaerophilic</td>\n",
       "      <td>...</td>\n",
       "      <td>NaN</td>\n",
       "      <td>NaN</td>\n",
       "      <td>NaN</td>\n",
       "      <td>NaN</td>\n",
       "      <td>NaN</td>\n",
       "      <td>NaN</td>\n",
       "      <td>NaN</td>\n",
       "      <td>NaN</td>\n",
       "      <td>bacdive-microa</td>\n",
       "      <td>151</td>\n",
       "    </tr>\n",
       "    <tr>\n",
       "      <th>1</th>\n",
       "      <td>1679466</td>\n",
       "      <td>Apibacter adventoris</td>\n",
       "      <td>Apibacter</td>\n",
       "      <td>Flavobacteriaceae</td>\n",
       "      <td>Flavobacteriales</td>\n",
       "      <td>Flavobacteriia</td>\n",
       "      <td>Bacteroidetes</td>\n",
       "      <td>Bacteria</td>\n",
       "      <td>NaN</td>\n",
       "      <td>microaerophilic</td>\n",
       "      <td>...</td>\n",
       "      <td>NaN</td>\n",
       "      <td>NaN</td>\n",
       "      <td>NaN</td>\n",
       "      <td>NaN</td>\n",
       "      <td>NaN</td>\n",
       "      <td>NaN</td>\n",
       "      <td>NaN</td>\n",
       "      <td>NaN</td>\n",
       "      <td>bacdive-microa</td>\n",
       "      <td>151</td>\n",
       "    </tr>\n",
       "    <tr>\n",
       "      <th>2</th>\n",
       "      <td>1591092</td>\n",
       "      <td>Aquaspirillum soli</td>\n",
       "      <td>Aquaspirillum</td>\n",
       "      <td>Chromobacteriaceae</td>\n",
       "      <td>Neisseriales</td>\n",
       "      <td>Betaproteobacteria</td>\n",
       "      <td>Proteobacteria</td>\n",
       "      <td>Bacteria</td>\n",
       "      <td>NaN</td>\n",
       "      <td>microaerophilic</td>\n",
       "      <td>...</td>\n",
       "      <td>NaN</td>\n",
       "      <td>NaN</td>\n",
       "      <td>NaN</td>\n",
       "      <td>NaN</td>\n",
       "      <td>NaN</td>\n",
       "      <td>NaN</td>\n",
       "      <td>NaN</td>\n",
       "      <td>NaN</td>\n",
       "      <td>bacdive-microa</td>\n",
       "      <td>151</td>\n",
       "    </tr>\n",
       "    <tr>\n",
       "      <th>3</th>\n",
       "      <td>1904463</td>\n",
       "      <td>Arcobacter lekithochrous</td>\n",
       "      <td>Arcobacter</td>\n",
       "      <td>Campylobacteraceae</td>\n",
       "      <td>Campylobacterales</td>\n",
       "      <td>Epsilonproteobacteria</td>\n",
       "      <td>Proteobacteria</td>\n",
       "      <td>Bacteria</td>\n",
       "      <td>NaN</td>\n",
       "      <td>microaerophilic</td>\n",
       "      <td>...</td>\n",
       "      <td>NaN</td>\n",
       "      <td>NaN</td>\n",
       "      <td>NaN</td>\n",
       "      <td>NaN</td>\n",
       "      <td>NaN</td>\n",
       "      <td>NaN</td>\n",
       "      <td>NaN</td>\n",
       "      <td>NaN</td>\n",
       "      <td>bacdive-microa</td>\n",
       "      <td>151</td>\n",
       "    </tr>\n",
       "    <tr>\n",
       "      <th>4</th>\n",
       "      <td>1935204</td>\n",
       "      <td>Arcobacter porcinus</td>\n",
       "      <td>Arcobacter</td>\n",
       "      <td>Campylobacteraceae</td>\n",
       "      <td>Campylobacterales</td>\n",
       "      <td>Epsilonproteobacteria</td>\n",
       "      <td>Proteobacteria</td>\n",
       "      <td>Bacteria</td>\n",
       "      <td>NaN</td>\n",
       "      <td>microaerophilic</td>\n",
       "      <td>...</td>\n",
       "      <td>NaN</td>\n",
       "      <td>NaN</td>\n",
       "      <td>NaN</td>\n",
       "      <td>NaN</td>\n",
       "      <td>NaN</td>\n",
       "      <td>NaN</td>\n",
       "      <td>NaN</td>\n",
       "      <td>NaN</td>\n",
       "      <td>bacdive-microa</td>\n",
       "      <td>151</td>\n",
       "    </tr>\n",
       "  </tbody>\n",
       "</table>\n",
       "<p>5 rows × 79 columns</p>\n",
       "</div>"
      ],
      "text/plain": [
       "   species_tax_id                          species                   genus  \\\n",
       "0         1243001  Acidipropionibacterium damnosum  Acidipropionibacterium   \n",
       "1         1679466             Apibacter adventoris               Apibacter   \n",
       "2         1591092               Aquaspirillum soli           Aquaspirillum   \n",
       "3         1904463         Arcobacter lekithochrous              Arcobacter   \n",
       "4         1935204              Arcobacter porcinus              Arcobacter   \n",
       "\n",
       "                 family                order                  class  \\\n",
       "0  Propionibacteriaceae  Propionibacteriales         Actinobacteria   \n",
       "1     Flavobacteriaceae     Flavobacteriales         Flavobacteriia   \n",
       "2    Chromobacteriaceae         Neisseriales     Betaproteobacteria   \n",
       "3    Campylobacteraceae    Campylobacterales  Epsilonproteobacteria   \n",
       "4    Campylobacteraceae    Campylobacterales  Epsilonproteobacteria   \n",
       "\n",
       "           phylum superkingdom gram_stain       metabolism  ...  \\\n",
       "0  Actinobacteria     Bacteria        NaN  microaerophilic  ...   \n",
       "1   Bacteroidetes     Bacteria        NaN  microaerophilic  ...   \n",
       "2  Proteobacteria     Bacteria        NaN  microaerophilic  ...   \n",
       "3  Proteobacteria     Bacteria        NaN  microaerophilic  ...   \n",
       "4  Proteobacteria     Bacteria        NaN  microaerophilic  ...   \n",
       "\n",
       "  genome_size.stdev gc_content.stdev coding_genes.stdev optimum_tmp.stdev  \\\n",
       "0               NaN              NaN                NaN               NaN   \n",
       "1               NaN              NaN                NaN               NaN   \n",
       "2               NaN              NaN                NaN               NaN   \n",
       "3               NaN              NaN                NaN               NaN   \n",
       "4               NaN              NaN                NaN               NaN   \n",
       "\n",
       "  optimum_ph.stdev growth_tmp.stdev rRNA16S_genes.stdev tRNA_genes.stdev  \\\n",
       "0              NaN              NaN                 NaN              NaN   \n",
       "1              NaN              NaN                 NaN              NaN   \n",
       "2              NaN              NaN                 NaN              NaN   \n",
       "3              NaN              NaN                 NaN              NaN   \n",
       "4              NaN              NaN                 NaN              NaN   \n",
       "\n",
       "      data_source  ref_id  \n",
       "0  bacdive-microa     151  \n",
       "1  bacdive-microa     151  \n",
       "2  bacdive-microa     151  \n",
       "3  bacdive-microa     151  \n",
       "4  bacdive-microa     151  \n",
       "\n",
       "[5 rows x 79 columns]"
      ]
     },
     "execution_count": 6,
     "metadata": {},
     "output_type": "execute_result"
    }
   ],
   "source": [
    "species_df.head()"
   ]
  },
  {
   "cell_type": "code",
   "execution_count": 7,
   "metadata": {},
   "outputs": [
    {
     "data": {
      "text/plain": [
       "2753"
      ]
     },
     "execution_count": 7,
     "metadata": {},
     "output_type": "execute_result"
    }
   ],
   "source": [
    "len(species_df[species_df['range_tmp'].notnull()])"
   ]
  },
  {
   "cell_type": "code",
   "execution_count": 29,
   "metadata": {},
   "outputs": [
    {
     "data": {
      "text/plain": [
       "11265"
      ]
     },
     "execution_count": 29,
     "metadata": {},
     "output_type": "execute_result"
    }
   ],
   "source": [
    "len(species_df[species_df['growth_tmp'].notnull()])"
   ]
  },
  {
   "cell_type": "code",
   "execution_count": 8,
   "metadata": {},
   "outputs": [
    {
     "data": {
      "text/plain": [
       "73"
      ]
     },
     "execution_count": 8,
     "metadata": {},
     "output_type": "execute_result"
    }
   ],
   "source": [
    "len(species_df['phylum'].unique())"
   ]
  },
  {
   "cell_type": "code",
   "execution_count": 38,
   "metadata": {},
   "outputs": [
    {
     "data": {
      "image/png": "[encoded data removed]",
      "text/plain": [
       "<Figure size 720x360 with 1 Axes>"
      ]
     },
     "metadata": {},
     "output_type": "display_data"
    }
   ],
   "source": [
    "ax = species_df['growth_tmp'].hist(figsize=(10, 5), bins=50, log=True);\n",
    "ax.set_title('Distribution of Growth Temperature')\n",
    "ax.set_xlabel('Growth Temperature');\n",
    "ax.set_ylabel('Count (log-scale)');"
   ]
  },
  {
   "cell_type": "code",
   "execution_count": 10,
   "metadata": {},
   "outputs": [
    {
     "data": {
      "image/png": "[encoded data removed]",
      "text/plain": [
       "<Figure size 1152x432 with 1 Axes>"
      ]
     },
     "metadata": {},
     "output_type": "display_data"
    }
   ],
   "source": [
    "ax = species_df['range_tmp'].hist(figsize=(16, 6), log=True)"
   ]
  },
  {
   "cell_type": "markdown",
   "metadata": {},
   "source": [
    "Species selection:\n",
    "\n",
    "- Mesophilic, thermophilic, extreme thermophilic, psychrophilic\n",
    "- At least 5 species from the same Phylum"
   ]
  },
  {
   "cell_type": "code",
   "execution_count": 11,
   "metadata": {},
   "outputs": [],
   "source": [
    "phylum_count = species_df[species_df['range_tmp'].isin([\n",
    "    'thermophilic', 'mesophilic', 'psychrophilic', 'extreme thermophilic',\n",
    "])][\n",
    "    ['phylum', 'species_tax_id']\n",
    "].groupby(\n",
    "    ['phylum']\n",
    ").count().sort_values('species_tax_id', ascending=False)"
   ]
  },
  {
   "cell_type": "code",
   "execution_count": 12,
   "metadata": {},
   "outputs": [
    {
     "data": {
      "text/plain": [
       "35.18518518518518"
      ]
     },
     "execution_count": 12,
     "metadata": {},
     "output_type": "execute_result"
    }
   ],
   "source": [
    "100 * len(phylum_count[phylum_count['species_tax_id'] > 10]) / len(phylum_count)"
   ]
  },
  {
   "cell_type": "code",
   "execution_count": 13,
   "metadata": {},
   "outputs": [],
   "source": [
    "relevant_phylums = phylum_count[phylum_count['species_tax_id'] > 5].index"
   ]
  },
  {
   "cell_type": "code",
   "execution_count": 14,
   "metadata": {},
   "outputs": [],
   "source": [
    "n_phylum = lambda v: 100 * len(phylum_count[phylum_count['species_tax_id'] >= v]) / len(phylum_count)\n",
    "n_total = lambda v: len(phylum_count[phylum_count['species_tax_id'] >= v]) * v"
   ]
  },
  {
   "cell_type": "code",
   "execution_count": 15,
   "metadata": {},
   "outputs": [
    {
     "data": {
      "image/png": "[encoded data removed]",
      "text/plain": [
       "<Figure size 1440x432 with 2 Axes>"
      ]
     },
     "metadata": {},
     "output_type": "display_data"
    }
   ],
   "source": [
    "x = list(range(1, 21))\n",
    "y = [n_total(v) for v in x]\n",
    "\n",
    "f, axes = plt.subplots(1, 2, figsize=(20, 6))\n",
    "ax, ax2 = axes\n",
    "\n",
    "ax.plot(x, y);\n",
    "\n",
    "best_idx = np.argmax(y)\n",
    "best_value = x[best_idx]\n",
    "ax.axvline(best_value, color='green');\n",
    "ax.set_title(f'Best value: {best_value}, totaling {y[best_idx]:,} species');\n",
    "ax.set_xlabel('Number of species per phylum');\n",
    "ax.set_ylabel('Total number of species');\n",
    "\n",
    "y2 = [n_phylum(v) for v in x]\n",
    "ax2.plot(x, y2);\n",
    "ax2.axvline(best_value, color='green');\n",
    "ax2.set_title(f'Phyla considered at best value: {y2[best_idx]:.0f}%');\n",
    "ax2.set_xlabel('Number of species per phylum');\n",
    "ax2.set_ylabel('% of all phyla');"
   ]
  },
  {
   "cell_type": "code",
   "execution_count": 16,
   "metadata": {},
   "outputs": [
    {
     "data": {
      "image/png": "[encoded data removed]",
      "text/plain": [
       "<Figure size 1440x432 with 2 Axes>"
      ]
     },
     "metadata": {},
     "output_type": "display_data"
    }
   ],
   "source": [
    "x = list(range(1, 600))\n",
    "y = [n_total(v) for v in x]\n",
    "\n",
    "f, axes = plt.subplots(1, 2, figsize=(20, 6))\n",
    "ax, ax2 = axes\n",
    "\n",
    "ax.plot(x, y);\n",
    "\n",
    "best_idx = np.argmax(y)\n",
    "best_value = x[best_idx]\n",
    "ax.axvline(best_value, color='green');\n",
    "ax.set_title(f'Best value: {best_value}, totaling {y[best_idx]:,} species');\n",
    "ax.set_xlabel('Number of species per phylum');\n",
    "ax.set_ylabel('Total number of species');\n",
    "\n",
    "y2 = [n_phylum(v) for v in x]\n",
    "ax2.plot(x, y2);\n",
    "ax2.axvline(best_value, color='green');\n",
    "ax2.set_title(f'Phyla considered at best value: {y2[best_idx]:.0f}%');\n",
    "ax2.set_xlabel('Number of species per phylum');\n",
    "ax2.set_ylabel('% of all phyla');"
   ]
  },
  {
   "cell_type": "code",
   "execution_count": 17,
   "metadata": {},
   "outputs": [
    {
     "data": {
      "text/plain": [
       "18.9"
      ]
     },
     "execution_count": 17,
     "metadata": {},
     "output_type": "execute_result"
    }
   ],
   "source": [
    "0.35 * len(phylum_count)"
   ]
  },
  {
   "cell_type": "code",
   "execution_count": 18,
   "metadata": {},
   "outputs": [],
   "source": [
    "selected_phyla = phylum_count[phylum_count['species_tax_id'] >= 11].index"
   ]
  },
  {
   "cell_type": "code",
   "execution_count": 19,
   "metadata": {},
   "outputs": [
    {
     "data": {
      "text/plain": [
       "Index(['Proteobacteria', 'Firmicutes', 'Actinobacteria', 'Bacteroidetes',\n",
       "       'Euryarchaeota', 'Tenericutes', 'Spirochaetes', 'Crenarchaeota',\n",
       "       'Cyanobacteria', 'Chloroflexi', 'Planctomycetes', 'Deinococcus-Thermus',\n",
       "       'Thermotogae', 'Fusobacteria', 'Verrucomicrobia',\n",
       "       'Candidatus Parcubacteria', 'Thaumarchaeota', 'Chlamydiae', 'Chlorobi'],\n",
       "      dtype='object', name='phylum')"
      ]
     },
     "execution_count": 19,
     "metadata": {},
     "output_type": "execute_result"
    }
   ],
   "source": [
    "selected_phyla"
   ]
  },
  {
   "cell_type": "code",
   "execution_count": 20,
   "metadata": {},
   "outputs": [
    {
     "data": {
      "text/html": [
       "<div>\n",
       "<style scoped>\n",
       "    .dataframe tbody tr th:only-of-type {\n",
       "        vertical-align: middle;\n",
       "    }\n",
       "\n",
       "    .dataframe tbody tr th {\n",
       "        vertical-align: top;\n",
       "    }\n",
       "\n",
       "    .dataframe thead th {\n",
       "        text-align: right;\n",
       "    }\n",
       "</style>\n",
       "<table border=\"1\" class=\"dataframe\">\n",
       "  <thead>\n",
       "    <tr style=\"text-align: right;\">\n",
       "      <th></th>\n",
       "      <th>species_tax_id</th>\n",
       "    </tr>\n",
       "    <tr>\n",
       "      <th>range_tmp</th>\n",
       "      <th></th>\n",
       "    </tr>\n",
       "  </thead>\n",
       "  <tbody>\n",
       "    <tr>\n",
       "      <th>extreme thermophilic</th>\n",
       "      <td>70</td>\n",
       "    </tr>\n",
       "    <tr>\n",
       "      <th>mesophilic</th>\n",
       "      <td>2276</td>\n",
       "    </tr>\n",
       "    <tr>\n",
       "      <th>psychrophilic</th>\n",
       "      <td>73</td>\n",
       "    </tr>\n",
       "    <tr>\n",
       "      <th>thermophilic</th>\n",
       "      <td>212</td>\n",
       "    </tr>\n",
       "  </tbody>\n",
       "</table>\n",
       "</div>"
      ],
      "text/plain": [
       "                      species_tax_id\n",
       "range_tmp                           \n",
       "extreme thermophilic              70\n",
       "mesophilic                      2276\n",
       "psychrophilic                     73\n",
       "thermophilic                     212"
      ]
     },
     "execution_count": 20,
     "metadata": {},
     "output_type": "execute_result"
    }
   ],
   "source": [
    "species_df[\n",
    "    (species_df['phylum'].isin(selected_phyla)) &\n",
    "    (species_df['range_tmp'].isin([\n",
    "        'thermophilic', 'mesophilic', 'psychrophilic', 'extreme thermophilic',\n",
    "    ]))\n",
    "][['range_tmp', 'species_tax_id']].groupby(['range_tmp']).count()"
   ]
  },
  {
   "cell_type": "code",
   "execution_count": 21,
   "metadata": {},
   "outputs": [
    {
     "data": {
      "image/png": "[encoded data removed]",
      "text/plain": [
       "<Figure size 864x432 with 1 Axes>"
      ]
     },
     "metadata": {},
     "output_type": "display_data"
    }
   ],
   "source": [
    "avg = species_df['genome_size'].mean()\n",
    "ax = species_df['genome_size'].hist(figsize=(12, 6));\n",
    "ax.axvline(avg, color='red');\n",
    "ax.set_title(f'Distribution of genome Size (mean: {avg:,.0f} bases)');"
   ]
  },
  {
   "cell_type": "code",
   "execution_count": 22,
   "metadata": {},
   "outputs": [
    {
     "name": "stdout",
     "output_type": "stream",
     "text": [
      "209\n"
     ]
    }
   ],
   "source": [
    "seed = 10\n",
    "n_species_per_phylum = 11\n",
    "rs = np.random.RandomState(seed)\n",
    "selected_species = []\n",
    "for phylum in selected_phyla:\n",
    "    df = species_df[\n",
    "        (species_df['phylum'] == phylum) &\n",
    "        (species_df['range_tmp'].isin([\n",
    "            'thermophilic', 'mesophilic', 'psychrophilic', 'extreme thermophilic',\n",
    "        ]))\n",
    "    ]\n",
    "    ix = df.index.tolist()\n",
    "    selected_indices = rs.choice(ix, size=n_species_per_phylum, replace=False)\n",
    "    selected_species += species_df.loc[selected_indices]['species_tax_id'].values.tolist()\n",
    "    \n",
    "print(len(selected_species))"
   ]
  },
  {
   "cell_type": "code",
   "execution_count": 23,
   "metadata": {},
   "outputs": [
    {
     "data": {
      "text/html": [
       "<div>\n",
       "<style scoped>\n",
       "    .dataframe tbody tr th:only-of-type {\n",
       "        vertical-align: middle;\n",
       "    }\n",
       "\n",
       "    .dataframe tbody tr th {\n",
       "        vertical-align: top;\n",
       "    }\n",
       "\n",
       "    .dataframe thead th {\n",
       "        text-align: right;\n",
       "    }\n",
       "</style>\n",
       "<table border=\"1\" class=\"dataframe\">\n",
       "  <thead>\n",
       "    <tr style=\"text-align: right;\">\n",
       "      <th></th>\n",
       "      <th>species_tax_id</th>\n",
       "    </tr>\n",
       "    <tr>\n",
       "      <th>range_tmp</th>\n",
       "      <th></th>\n",
       "    </tr>\n",
       "  </thead>\n",
       "  <tbody>\n",
       "    <tr>\n",
       "      <th>extreme thermophilic</th>\n",
       "      <td>16</td>\n",
       "    </tr>\n",
       "    <tr>\n",
       "      <th>mesophilic</th>\n",
       "      <td>160</td>\n",
       "    </tr>\n",
       "    <tr>\n",
       "      <th>psychrophilic</th>\n",
       "      <td>4</td>\n",
       "    </tr>\n",
       "    <tr>\n",
       "      <th>thermophilic</th>\n",
       "      <td>29</td>\n",
       "    </tr>\n",
       "  </tbody>\n",
       "</table>\n",
       "</div>"
      ],
      "text/plain": [
       "                      species_tax_id\n",
       "range_tmp                           \n",
       "extreme thermophilic              16\n",
       "mesophilic                       160\n",
       "psychrophilic                      4\n",
       "thermophilic                      29"
      ]
     },
     "execution_count": 23,
     "metadata": {},
     "output_type": "execute_result"
    }
   ],
   "source": [
    "species_df[\n",
    "    species_df['species_tax_id'].isin(selected_species)\n",
    "][['range_tmp', 'species_tax_id']].groupby(['range_tmp']).count()"
   ]
  },
  {
   "cell_type": "markdown",
   "metadata": {},
   "source": [
    "## Stratification?"
   ]
  },
  {
   "cell_type": "code",
   "execution_count": 27,
   "metadata": {},
   "outputs": [
    {
     "data": {
      "text/plain": [
       "54"
      ]
     },
     "execution_count": 27,
     "metadata": {},
     "output_type": "execute_result"
    }
   ],
   "source": [
    "count_per_phylum = species_df[species_df['range_tmp'].notnull()][['phylum', 'species_tax_id']].groupby(['phylum']).count().sort_values(\n",
    "    'species_tax_id', ascending=False,\n",
    ")\n",
    "len(count_per_phylum)"
   ]
  },
  {
   "cell_type": "code",
   "execution_count": 28,
   "metadata": {},
   "outputs": [
    {
     "data": {
      "text/html": [
       "<div>\n",
       "<style scoped>\n",
       "    .dataframe tbody tr th:only-of-type {\n",
       "        vertical-align: middle;\n",
       "    }\n",
       "\n",
       "    .dataframe tbody tr th {\n",
       "        vertical-align: top;\n",
       "    }\n",
       "\n",
       "    .dataframe thead th {\n",
       "        text-align: right;\n",
       "    }\n",
       "</style>\n",
       "<table border=\"1\" class=\"dataframe\">\n",
       "  <thead>\n",
       "    <tr style=\"text-align: right;\">\n",
       "      <th></th>\n",
       "      <th>species_tax_id</th>\n",
       "    </tr>\n",
       "    <tr>\n",
       "      <th>phylum</th>\n",
       "      <th></th>\n",
       "    </tr>\n",
       "  </thead>\n",
       "  <tbody>\n",
       "    <tr>\n",
       "      <th>Proteobacteria</th>\n",
       "      <td>947</td>\n",
       "    </tr>\n",
       "    <tr>\n",
       "      <th>Firmicutes</th>\n",
       "      <td>585</td>\n",
       "    </tr>\n",
       "    <tr>\n",
       "      <th>Actinobacteria</th>\n",
       "      <td>489</td>\n",
       "    </tr>\n",
       "    <tr>\n",
       "      <th>Bacteroidetes</th>\n",
       "      <td>199</td>\n",
       "    </tr>\n",
       "    <tr>\n",
       "      <th>Euryarchaeota</th>\n",
       "      <td>102</td>\n",
       "    </tr>\n",
       "    <tr>\n",
       "      <th>Tenericutes</th>\n",
       "      <td>48</td>\n",
       "    </tr>\n",
       "    <tr>\n",
       "      <th>Spirochaetes</th>\n",
       "      <td>42</td>\n",
       "    </tr>\n",
       "    <tr>\n",
       "      <th>Crenarchaeota</th>\n",
       "      <td>32</td>\n",
       "    </tr>\n",
       "    <tr>\n",
       "      <th>Cyanobacteria</th>\n",
       "      <td>30</td>\n",
       "    </tr>\n",
       "    <tr>\n",
       "      <th>Chloroflexi</th>\n",
       "      <td>28</td>\n",
       "    </tr>\n",
       "    <tr>\n",
       "      <th>Planctomycetes</th>\n",
       "      <td>24</td>\n",
       "    </tr>\n",
       "    <tr>\n",
       "      <th>Deinococcus-Thermus</th>\n",
       "      <td>23</td>\n",
       "    </tr>\n",
       "    <tr>\n",
       "      <th>Thermotogae</th>\n",
       "      <td>17</td>\n",
       "    </tr>\n",
       "    <tr>\n",
       "      <th>Fusobacteria</th>\n",
       "      <td>14</td>\n",
       "    </tr>\n",
       "    <tr>\n",
       "      <th>Verrucomicrobia</th>\n",
       "      <td>14</td>\n",
       "    </tr>\n",
       "    <tr>\n",
       "      <th>Candidatus Parcubacteria</th>\n",
       "      <td>14</td>\n",
       "    </tr>\n",
       "    <tr>\n",
       "      <th>Thaumarchaeota</th>\n",
       "      <td>13</td>\n",
       "    </tr>\n",
       "    <tr>\n",
       "      <th>Chlamydiae</th>\n",
       "      <td>12</td>\n",
       "    </tr>\n",
       "    <tr>\n",
       "      <th>Chlorobi</th>\n",
       "      <td>11</td>\n",
       "    </tr>\n",
       "    <tr>\n",
       "      <th>Synergistetes</th>\n",
       "      <td>9</td>\n",
       "    </tr>\n",
       "    <tr>\n",
       "      <th>Nitrospirae</th>\n",
       "      <td>8</td>\n",
       "    </tr>\n",
       "    <tr>\n",
       "      <th>Aquificae</th>\n",
       "      <td>7</td>\n",
       "    </tr>\n",
       "    <tr>\n",
       "      <th>candidate division Zixibacteria</th>\n",
       "      <td>6</td>\n",
       "    </tr>\n",
       "    <tr>\n",
       "      <th>Candidatus Bathyarchaeota</th>\n",
       "      <td>6</td>\n",
       "    </tr>\n",
       "    <tr>\n",
       "      <th>Candidatus Cloacimonetes</th>\n",
       "      <td>6</td>\n",
       "    </tr>\n",
       "    <tr>\n",
       "      <th>Nanoarchaeota</th>\n",
       "      <td>5</td>\n",
       "    </tr>\n",
       "    <tr>\n",
       "      <th>Acidobacteria</th>\n",
       "      <td>4</td>\n",
       "    </tr>\n",
       "    <tr>\n",
       "      <th>Armatimonadetes</th>\n",
       "      <td>4</td>\n",
       "    </tr>\n",
       "    <tr>\n",
       "      <th>candidate division WOR-3</th>\n",
       "      <td>3</td>\n",
       "    </tr>\n",
       "    <tr>\n",
       "      <th>Candidatus Thorarchaeota</th>\n",
       "      <td>3</td>\n",
       "    </tr>\n",
       "    <tr>\n",
       "      <th>Deferribacteres</th>\n",
       "      <td>3</td>\n",
       "    </tr>\n",
       "    <tr>\n",
       "      <th>Gemmatimonadetes</th>\n",
       "      <td>2</td>\n",
       "    </tr>\n",
       "    <tr>\n",
       "      <th>Candidatus Omnitrophica</th>\n",
       "      <td>2</td>\n",
       "    </tr>\n",
       "    <tr>\n",
       "      <th>Thermodesulfobacteria</th>\n",
       "      <td>2</td>\n",
       "    </tr>\n",
       "    <tr>\n",
       "      <th>Candidatus Aminicenantes</th>\n",
       "      <td>2</td>\n",
       "    </tr>\n",
       "    <tr>\n",
       "      <th>Candidatus Marinimicrobia</th>\n",
       "      <td>2</td>\n",
       "    </tr>\n",
       "    <tr>\n",
       "      <th>Dictyoglomi</th>\n",
       "      <td>2</td>\n",
       "    </tr>\n",
       "    <tr>\n",
       "      <th>Candidatus Kryptonia</th>\n",
       "      <td>2</td>\n",
       "    </tr>\n",
       "    <tr>\n",
       "      <th>Kiritimatiellaeota</th>\n",
       "      <td>1</td>\n",
       "    </tr>\n",
       "    <tr>\n",
       "      <th>Candidatus Poribacteria</th>\n",
       "      <td>1</td>\n",
       "    </tr>\n",
       "    <tr>\n",
       "      <th>candidate division NC10</th>\n",
       "      <td>1</td>\n",
       "    </tr>\n",
       "    <tr>\n",
       "      <th>candidate division KD3-62</th>\n",
       "      <td>1</td>\n",
       "    </tr>\n",
       "    <tr>\n",
       "      <th>Candidatus Latescibacteria</th>\n",
       "      <td>1</td>\n",
       "    </tr>\n",
       "    <tr>\n",
       "      <th>Balneolaeota</th>\n",
       "      <td>1</td>\n",
       "    </tr>\n",
       "    <tr>\n",
       "      <th>Fibrobacteres</th>\n",
       "      <td>1</td>\n",
       "    </tr>\n",
       "    <tr>\n",
       "      <th>Candidatus Atribacteria</th>\n",
       "      <td>1</td>\n",
       "    </tr>\n",
       "    <tr>\n",
       "      <th>Candidatus Saccharibacteria</th>\n",
       "      <td>1</td>\n",
       "    </tr>\n",
       "    <tr>\n",
       "      <th>Candidatus Microgenomates</th>\n",
       "      <td>1</td>\n",
       "    </tr>\n",
       "    <tr>\n",
       "      <th>Candidatus Calescamantes</th>\n",
       "      <td>1</td>\n",
       "    </tr>\n",
       "    <tr>\n",
       "      <th>Elusimicrobia</th>\n",
       "      <td>1</td>\n",
       "    </tr>\n",
       "    <tr>\n",
       "      <th>Candidatus Fervidibacteria</th>\n",
       "      <td>1</td>\n",
       "    </tr>\n",
       "    <tr>\n",
       "      <th>Candidatus Hydrogenedentes</th>\n",
       "      <td>1</td>\n",
       "    </tr>\n",
       "    <tr>\n",
       "      <th>Candidatus Korarchaeota</th>\n",
       "      <td>1</td>\n",
       "    </tr>\n",
       "    <tr>\n",
       "      <th>Lentisphaerae</th>\n",
       "      <td>1</td>\n",
       "    </tr>\n",
       "  </tbody>\n",
       "</table>\n",
       "</div>"
      ],
      "text/plain": [
       "                                 species_tax_id\n",
       "phylum                                         \n",
       "Proteobacteria                              947\n",
       "Firmicutes                                  585\n",
       "Actinobacteria                              489\n",
       "Bacteroidetes                               199\n",
       "Euryarchaeota                               102\n",
       "Tenericutes                                  48\n",
       "Spirochaetes                                 42\n",
       "Crenarchaeota                                32\n",
       "Cyanobacteria                                30\n",
       "Chloroflexi                                  28\n",
       "Planctomycetes                               24\n",
       "Deinococcus-Thermus                          23\n",
       "Thermotogae                                  17\n",
       "Fusobacteria                                 14\n",
       "Verrucomicrobia                              14\n",
       "Candidatus Parcubacteria                     14\n",
       "Thaumarchaeota                               13\n",
       "Chlamydiae                                   12\n",
       "Chlorobi                                     11\n",
       "Synergistetes                                 9\n",
       "Nitrospirae                                   8\n",
       "Aquificae                                     7\n",
       "candidate division Zixibacteria               6\n",
       "Candidatus Bathyarchaeota                     6\n",
       "Candidatus Cloacimonetes                      6\n",
       "Nanoarchaeota                                 5\n",
       "Acidobacteria                                 4\n",
       "Armatimonadetes                               4\n",
       "candidate division WOR-3                      3\n",
       "Candidatus Thorarchaeota                      3\n",
       "Deferribacteres                               3\n",
       "Gemmatimonadetes                              2\n",
       "Candidatus Omnitrophica                       2\n",
       "Thermodesulfobacteria                         2\n",
       "Candidatus Aminicenantes                      2\n",
       "Candidatus Marinimicrobia                     2\n",
       "Dictyoglomi                                   2\n",
       "Candidatus Kryptonia                          2\n",
       "Kiritimatiellaeota                            1\n",
       "Candidatus Poribacteria                       1\n",
       "candidate division NC10                       1\n",
       "candidate division KD3-62                     1\n",
       "Candidatus Latescibacteria                    1\n",
       "Balneolaeota                                  1\n",
       "Fibrobacteres                                 1\n",
       "Candidatus Atribacteria                       1\n",
       "Candidatus Saccharibacteria                   1\n",
       "Candidatus Microgenomates                     1\n",
       "Candidatus Calescamantes                      1\n",
       "Elusimicrobia                                 1\n",
       "Candidatus Fervidibacteria                    1\n",
       "Candidatus Hydrogenedentes                    1\n",
       "Candidatus Korarchaeota                       1\n",
       "Lentisphaerae                                 1"
      ]
     },
     "execution_count": 28,
     "metadata": {},
     "output_type": "execute_result"
    }
   ],
   "source": [
    "count_per_phylum"
   ]
  },
  {
   "cell_type": "markdown",
   "metadata": {},
   "source": [
    "## Load list of NCBI species"
   ]
  },
  {
   "cell_type": "code",
   "execution_count": 128,
   "metadata": {},
   "outputs": [
    {
     "name": "stderr",
     "output_type": "stream",
     "text": [
      "/Users/srom/workspace/rna_learn/env/lib/python3.7/site-packages/IPython/core/interactiveshell.py:3051: DtypeWarning: Columns (21) have mixed types.Specify dtype option on import or set low_memory=False.\n",
      "  interactivity=interactivity, compiler=compiler, result=result)\n"
     ]
    },
    {
     "data": {
      "text/html": [
       "<div>\n",
       "<style scoped>\n",
       "    .dataframe tbody tr th:only-of-type {\n",
       "        vertical-align: middle;\n",
       "    }\n",
       "\n",
       "    .dataframe tbody tr th {\n",
       "        vertical-align: top;\n",
       "    }\n",
       "\n",
       "    .dataframe thead th {\n",
       "        text-align: right;\n",
       "    }\n",
       "</style>\n",
       "<table border=\"1\" class=\"dataframe\">\n",
       "  <thead>\n",
       "    <tr style=\"text-align: right;\">\n",
       "      <th></th>\n",
       "      <th>assembly_accession</th>\n",
       "      <th>bioproject</th>\n",
       "      <th>biosample</th>\n",
       "      <th>wgs_master</th>\n",
       "      <th>refseq_category</th>\n",
       "      <th>taxid</th>\n",
       "      <th>species_taxid</th>\n",
       "      <th>organism_name</th>\n",
       "      <th>infraspecific_name</th>\n",
       "      <th>isolate</th>\n",
       "      <th>...</th>\n",
       "      <th>release_type</th>\n",
       "      <th>genome_rep</th>\n",
       "      <th>seq_rel_date</th>\n",
       "      <th>asm_name</th>\n",
       "      <th>submitter</th>\n",
       "      <th>gbrs_paired_asm</th>\n",
       "      <th>paired_asm_comp</th>\n",
       "      <th>ftp_path</th>\n",
       "      <th>excluded_from_refseq</th>\n",
       "      <th>relation_to_type_material</th>\n",
       "    </tr>\n",
       "  </thead>\n",
       "  <tbody>\n",
       "    <tr>\n",
       "      <th>0</th>\n",
       "      <td>GCA_000001215.4</td>\n",
       "      <td>PRJNA13812</td>\n",
       "      <td>SAMN02803731</td>\n",
       "      <td>NaN</td>\n",
       "      <td>reference genome</td>\n",
       "      <td>7227</td>\n",
       "      <td>7227</td>\n",
       "      <td>Drosophila melanogaster</td>\n",
       "      <td>NaN</td>\n",
       "      <td>NaN</td>\n",
       "      <td>...</td>\n",
       "      <td>Major</td>\n",
       "      <td>Full</td>\n",
       "      <td>01/08/2014</td>\n",
       "      <td>Release 6 plus ISO1 MT</td>\n",
       "      <td>The FlyBase Consortium/Berkeley Drosophila Gen...</td>\n",
       "      <td>GCF_000001215.4</td>\n",
       "      <td>identical</td>\n",
       "      <td>ftp://ftp.ncbi.nlm.nih.gov/genomes/all/GCA/000...</td>\n",
       "      <td>NaN</td>\n",
       "      <td>NaN</td>\n",
       "    </tr>\n",
       "    <tr>\n",
       "      <th>1</th>\n",
       "      <td>GCA_000001405.28</td>\n",
       "      <td>PRJNA31257</td>\n",
       "      <td>NaN</td>\n",
       "      <td>NaN</td>\n",
       "      <td>reference genome</td>\n",
       "      <td>9606</td>\n",
       "      <td>9606</td>\n",
       "      <td>Homo sapiens</td>\n",
       "      <td>NaN</td>\n",
       "      <td>NaN</td>\n",
       "      <td>...</td>\n",
       "      <td>Patch</td>\n",
       "      <td>Full</td>\n",
       "      <td>28/02/2019</td>\n",
       "      <td>GRCh38.p13</td>\n",
       "      <td>Genome Reference Consortium</td>\n",
       "      <td>GCF_000001405.39</td>\n",
       "      <td>different</td>\n",
       "      <td>ftp://ftp.ncbi.nlm.nih.gov/genomes/all/GCA/000...</td>\n",
       "      <td>NaN</td>\n",
       "      <td>NaN</td>\n",
       "    </tr>\n",
       "    <tr>\n",
       "      <th>2</th>\n",
       "      <td>GCA_000001515.5</td>\n",
       "      <td>PRJNA13184</td>\n",
       "      <td>SAMN02981217</td>\n",
       "      <td>AACZ00000000.4</td>\n",
       "      <td>na</td>\n",
       "      <td>9598</td>\n",
       "      <td>9598</td>\n",
       "      <td>Pan troglodytes</td>\n",
       "      <td>NaN</td>\n",
       "      <td>Yerkes chimp pedigree #C0471 (Clint)</td>\n",
       "      <td>...</td>\n",
       "      <td>Major</td>\n",
       "      <td>Full</td>\n",
       "      <td>03/05/2016</td>\n",
       "      <td>Pan_tro 3.0</td>\n",
       "      <td>Chimpanzee Sequencing and Analysis Consortium</td>\n",
       "      <td>GCF_000001515.7</td>\n",
       "      <td>different</td>\n",
       "      <td>ftp://ftp.ncbi.nlm.nih.gov/genomes/all/GCA/000...</td>\n",
       "      <td>NaN</td>\n",
       "      <td>NaN</td>\n",
       "    </tr>\n",
       "    <tr>\n",
       "      <th>3</th>\n",
       "      <td>GCA_000001545.3</td>\n",
       "      <td>PRJNA20869</td>\n",
       "      <td>SAMN02981238</td>\n",
       "      <td>ABGA00000000.1</td>\n",
       "      <td>na</td>\n",
       "      <td>9601</td>\n",
       "      <td>9601</td>\n",
       "      <td>Pongo abelii</td>\n",
       "      <td>NaN</td>\n",
       "      <td>ISIS 71</td>\n",
       "      <td>...</td>\n",
       "      <td>Major</td>\n",
       "      <td>Full</td>\n",
       "      <td>13/11/2008</td>\n",
       "      <td>P_pygmaeus_2.0.2</td>\n",
       "      <td>Orangutan Genome Sequencing Consortium</td>\n",
       "      <td>na</td>\n",
       "      <td>na</td>\n",
       "      <td>ftp://ftp.ncbi.nlm.nih.gov/genomes/all/GCA/000...</td>\n",
       "      <td>NaN</td>\n",
       "      <td>NaN</td>\n",
       "    </tr>\n",
       "    <tr>\n",
       "      <th>4</th>\n",
       "      <td>GCA_000001635.8</td>\n",
       "      <td>PRJNA20689</td>\n",
       "      <td>NaN</td>\n",
       "      <td>NaN</td>\n",
       "      <td>reference genome</td>\n",
       "      <td>10090</td>\n",
       "      <td>10090</td>\n",
       "      <td>Mus musculus</td>\n",
       "      <td>NaN</td>\n",
       "      <td>NaN</td>\n",
       "      <td>...</td>\n",
       "      <td>Patch</td>\n",
       "      <td>Full</td>\n",
       "      <td>15/09/2017</td>\n",
       "      <td>GRCm38.p6</td>\n",
       "      <td>Genome Reference Consortium</td>\n",
       "      <td>GCF_000001635.26</td>\n",
       "      <td>identical</td>\n",
       "      <td>ftp://ftp.ncbi.nlm.nih.gov/genomes/all/GCA/000...</td>\n",
       "      <td>NaN</td>\n",
       "      <td>NaN</td>\n",
       "    </tr>\n",
       "  </tbody>\n",
       "</table>\n",
       "<p>5 rows × 22 columns</p>\n",
       "</div>"
      ],
      "text/plain": [
       "  assembly_accession  bioproject     biosample      wgs_master  \\\n",
       "0    GCA_000001215.4  PRJNA13812  SAMN02803731             NaN   \n",
       "1   GCA_000001405.28  PRJNA31257           NaN             NaN   \n",
       "2    GCA_000001515.5  PRJNA13184  SAMN02981217  AACZ00000000.4   \n",
       "3    GCA_000001545.3  PRJNA20869  SAMN02981238  ABGA00000000.1   \n",
       "4    GCA_000001635.8  PRJNA20689           NaN             NaN   \n",
       "\n",
       "    refseq_category  taxid  species_taxid            organism_name  \\\n",
       "0  reference genome   7227           7227  Drosophila melanogaster   \n",
       "1  reference genome   9606           9606             Homo sapiens   \n",
       "2                na   9598           9598          Pan troglodytes   \n",
       "3                na   9601           9601             Pongo abelii   \n",
       "4  reference genome  10090          10090             Mus musculus   \n",
       "\n",
       "  infraspecific_name                               isolate  ... release_type  \\\n",
       "0                NaN                                   NaN  ...        Major   \n",
       "1                NaN                                   NaN  ...        Patch   \n",
       "2                NaN  Yerkes chimp pedigree #C0471 (Clint)  ...        Major   \n",
       "3                NaN                               ISIS 71  ...        Major   \n",
       "4                NaN                                   NaN  ...        Patch   \n",
       "\n",
       "  genome_rep seq_rel_date                asm_name  \\\n",
       "0       Full   01/08/2014  Release 6 plus ISO1 MT   \n",
       "1       Full   28/02/2019              GRCh38.p13   \n",
       "2       Full   03/05/2016             Pan_tro 3.0   \n",
       "3       Full   13/11/2008        P_pygmaeus_2.0.2   \n",
       "4       Full   15/09/2017               GRCm38.p6   \n",
       "\n",
       "                                           submitter   gbrs_paired_asm  \\\n",
       "0  The FlyBase Consortium/Berkeley Drosophila Gen...   GCF_000001215.4   \n",
       "1                        Genome Reference Consortium  GCF_000001405.39   \n",
       "2      Chimpanzee Sequencing and Analysis Consortium   GCF_000001515.7   \n",
       "3             Orangutan Genome Sequencing Consortium                na   \n",
       "4                        Genome Reference Consortium  GCF_000001635.26   \n",
       "\n",
       "  paired_asm_comp                                           ftp_path  \\\n",
       "0       identical  ftp://ftp.ncbi.nlm.nih.gov/genomes/all/GCA/000...   \n",
       "1       different  ftp://ftp.ncbi.nlm.nih.gov/genomes/all/GCA/000...   \n",
       "2       different  ftp://ftp.ncbi.nlm.nih.gov/genomes/all/GCA/000...   \n",
       "3              na  ftp://ftp.ncbi.nlm.nih.gov/genomes/all/GCA/000...   \n",
       "4       identical  ftp://ftp.ncbi.nlm.nih.gov/genomes/all/GCA/000...   \n",
       "\n",
       "  excluded_from_refseq relation_to_type_material  \n",
       "0                  NaN                       NaN  \n",
       "1                  NaN                       NaN  \n",
       "2                  NaN                       NaN  \n",
       "3                  NaN                       NaN  \n",
       "4                  NaN                       NaN  \n",
       "\n",
       "[5 rows x 22 columns]"
      ]
     },
     "execution_count": 128,
     "metadata": {},
     "output_type": "execute_result"
    }
   ],
   "source": [
    "ncbi_full_list_path = os.path.join(os.getcwd(), 'data/condensed_traits/ncbi_available_sequences.txt')\n",
    "ncbi_genomes_list = pd.read_csv(ncbi_full_list_path, sep='\\t', skiprows=1)\n",
    "ncbi_genomes_list.head()"
   ]
  },
  {
   "cell_type": "code",
   "execution_count": 95,
   "metadata": {},
   "outputs": [
    {
     "data": {
      "text/plain": [
       "20521"
      ]
     },
     "execution_count": 95,
     "metadata": {},
     "output_type": "execute_result"
    }
   ],
   "source": [
    "species_taxids = ncbi_genomes_list[\n",
    "    (ncbi_genomes_list['assembly_level'] == 'Complete Genome') &\n",
    "    (ncbi_genomes_list['genome_rep'] == 'Full') &\n",
    "    (ncbi_genomes_list['excluded_from_refseq'].isnull())\n",
    "]['species_taxid'].unique()\n",
    "len(species_taxids)"
   ]
  },
  {
   "cell_type": "code",
   "execution_count": 96,
   "metadata": {},
   "outputs": [
    {
     "data": {
      "text/plain": [
       "11265"
      ]
     },
     "execution_count": 96,
     "metadata": {},
     "output_type": "execute_result"
    }
   ],
   "source": [
    "species_in_dataset = species_df[species_df['growth_tmp'].notnull()]['species_tax_id'].unique()\n",
    "len(species_in_dataset)"
   ]
  },
  {
   "cell_type": "code",
   "execution_count": 97,
   "metadata": {},
   "outputs": [
    {
     "data": {
      "text/plain": [
       "2478"
      ]
     },
     "execution_count": 97,
     "metadata": {},
     "output_type": "execute_result"
    }
   ],
   "source": [
    "candidate_species_taxids = sorted(set(species_taxids) & set(species_in_dataset))\n",
    "len(candidate_species_taxids)"
   ]
  },
  {
   "cell_type": "code",
   "execution_count": 98,
   "metadata": {},
   "outputs": [],
   "source": [
    "candidate_species = species_df[species_df['species_tax_id'].isin(candidate_species_taxids)].reset_index(drop=True)"
   ]
  },
  {
   "cell_type": "code",
   "execution_count": 168,
   "metadata": {},
   "outputs": [
    {
     "data": {
      "image/png": "[encoded data removed]",
      "text/plain": [
       "<Figure size 720x360 with 1 Axes>"
      ]
     },
     "metadata": {},
     "output_type": "display_data"
    }
   ],
   "source": [
    "ax = candidate_species['growth_tmp'].hist(figsize=(10, 5), bins=50, log=False);\n",
    "ax.set_title('Distribution of Growth Temperature')\n",
    "ax.set_xlabel('Growth Temperature');\n",
    "ax.set_ylabel('Count');"
   ]
  },
  {
   "cell_type": "code",
   "execution_count": 100,
   "metadata": {},
   "outputs": [
    {
     "data": {
      "image/png": "[encoded data removed]",
      "text/plain": [
       "<Figure size 720x360 with 1 Axes>"
      ]
     },
     "metadata": {},
     "output_type": "display_data"
    }
   ],
   "source": [
    "ax = candidate_species['growth_tmp'].hist(figsize=(10, 5), bins=50, log=True);\n",
    "ax.set_title('Distribution of Growth Temperature')\n",
    "ax.set_xlabel('Growth Temperature');\n",
    "ax.set_ylabel('Count (log-scale)');"
   ]
  },
  {
   "cell_type": "code",
   "execution_count": 101,
   "metadata": {},
   "outputs": [
    {
     "data": {
      "text/plain": [
       "14494"
      ]
     },
     "execution_count": 101,
     "metadata": {},
     "output_type": "execute_result"
    }
   ],
   "source": [
    "ncbi_candidate_records = ncbi_genomes_list[\n",
    "    (ncbi_genomes_list['assembly_level'] == 'Complete Genome') &\n",
    "    (ncbi_genomes_list['genome_rep'] == 'Full') &\n",
    "    (ncbi_genomes_list['species_taxid'].isin(candidate_species_taxids))\n",
    "].reset_index(drop=True)\n",
    "\n",
    "len(ncbi_candidate_records)"
   ]
  },
  {
   "cell_type": "code",
   "execution_count": 102,
   "metadata": {},
   "outputs": [],
   "source": [
    "ncbi_candidate_records['seq_rel_date_processed'] = ncbi_candidate_records['seq_rel_date'].apply(\n",
    "    lambda d_str: datetime.datetime.strptime(d_str, '%d/%m/%Y')\n",
    ")"
   ]
  },
  {
   "cell_type": "code",
   "execution_count": 123,
   "metadata": {},
   "outputs": [],
   "source": [
    "def select_representative_genome(ncbi_candidate_records):\n",
    "    species_taxid = ncbi_candidate_records['species_taxid'].unique()\n",
    "    \n",
    "    stats = {\n",
    "        'reference genome': 0,\n",
    "        'representative genome': 0,\n",
    "        'most recent': 0,\n",
    "        'most recent paired with GenBank': 0,\n",
    "        'most recent not paired with GenBank': 0,\n",
    "    }\n",
    "    stain_indices = []\n",
    "    for specie_taxid in species_taxid:\n",
    "        df = ncbi_candidate_records[ncbi_candidate_records['species_taxid'] == specie_taxid]\n",
    "        ix = df.index\n",
    "        for row_ix in ix:\n",
    "            row = ncbi_candidate_records.loc[row_ix]\n",
    "            refseq_category = row['refseq_category']\n",
    "            stain_idx = None\n",
    "            if refseq_category == 'reference genome':\n",
    "                stats['reference genome'] += 1\n",
    "                stain_idx = row_ix\n",
    "                break\n",
    "            elif refseq_category == 'representative genome':\n",
    "                stats['representative genome'] += 1\n",
    "                stain_idx = row_ix\n",
    "                break\n",
    "                \n",
    "        if stain_idx is None:\n",
    "            stats['most recent'] += 1\n",
    "            sorted_df = df.sort_values('seq_rel_date_processed', ascending=False)\n",
    "            \n",
    "            for row_ix in sorted_df.index:\n",
    "                row = ncbi_candidate_records.loc[row_ix]\n",
    "                gbrs_paired_asm = row['gbrs_paired_asm']\n",
    "                paired_asm_comp = row['paired_asm_comp']\n",
    "                if (\n",
    "                    not pd.isnull(gbrs_paired_asm) and \n",
    "                    not pd.isnull(paired_asm_comp) and \n",
    "                    paired_asm_comp == 'identical'\n",
    "                ):\n",
    "                    stain_idx = row_ix\n",
    "                    stats['most recent paired with GenBank'] += 1\n",
    "                    break\n",
    "                    \n",
    "            if stain_idx is None:\n",
    "                stain_idx = sorted_df.index[0]\n",
    "                stats['most recent not paired with GenBank'] += 1\n",
    "            \n",
    "        stain_indices.append(stain_idx)\n",
    "        \n",
    "    return ncbi_candidate_records.loc[stain_indices].reset_index(drop=True), stats"
   ]
  },
  {
   "cell_type": "code",
   "execution_count": 124,
   "metadata": {},
   "outputs": [],
   "source": [
    "ncbi_candidate_records_filtered, stats = select_representative_genome(ncbi_candidate_records)"
   ]
  },
  {
   "cell_type": "code",
   "execution_count": 125,
   "metadata": {},
   "outputs": [
    {
     "data": {
      "text/plain": [
       "2478"
      ]
     },
     "execution_count": 125,
     "metadata": {},
     "output_type": "execute_result"
    }
   ],
   "source": [
    "len(ncbi_candidate_records_filtered)"
   ]
  },
  {
   "cell_type": "code",
   "execution_count": 126,
   "metadata": {},
   "outputs": [
    {
     "data": {
      "text/plain": [
       "{'reference genome': 103,\n",
       " 'representative genome': 1336,\n",
       " 'most recent': 1039,\n",
       " 'most recent paired with GenBank': 1019,\n",
       " 'most recent not paired with GenBank': 20}"
      ]
     },
     "execution_count": 126,
     "metadata": {},
     "output_type": "execute_result"
    }
   ],
   "source": [
    "stats"
   ]
  },
  {
   "cell_type": "code",
   "execution_count": 127,
   "metadata": {},
   "outputs": [
    {
     "data": {
      "text/html": [
       "<div>\n",
       "<style scoped>\n",
       "    .dataframe tbody tr th:only-of-type {\n",
       "        vertical-align: middle;\n",
       "    }\n",
       "\n",
       "    .dataframe tbody tr th {\n",
       "        vertical-align: top;\n",
       "    }\n",
       "\n",
       "    .dataframe thead th {\n",
       "        text-align: right;\n",
       "    }\n",
       "</style>\n",
       "<table border=\"1\" class=\"dataframe\">\n",
       "  <thead>\n",
       "    <tr style=\"text-align: right;\">\n",
       "      <th></th>\n",
       "      <th>assembly_accession</th>\n",
       "      <th>bioproject</th>\n",
       "      <th>biosample</th>\n",
       "      <th>wgs_master</th>\n",
       "      <th>refseq_category</th>\n",
       "      <th>taxid</th>\n",
       "      <th>species_taxid</th>\n",
       "      <th>organism_name</th>\n",
       "      <th>infraspecific_name</th>\n",
       "      <th>isolate</th>\n",
       "      <th>...</th>\n",
       "      <th>genome_rep</th>\n",
       "      <th>seq_rel_date</th>\n",
       "      <th>asm_name</th>\n",
       "      <th>submitter</th>\n",
       "      <th>gbrs_paired_asm</th>\n",
       "      <th>paired_asm_comp</th>\n",
       "      <th>ftp_path</th>\n",
       "      <th>excluded_from_refseq</th>\n",
       "      <th>relation_to_type_material</th>\n",
       "      <th>seq_rel_date_processed</th>\n",
       "    </tr>\n",
       "  </thead>\n",
       "  <tbody>\n",
       "    <tr>\n",
       "      <th>0</th>\n",
       "      <td>GCA_000005825.2</td>\n",
       "      <td>PRJNA28811</td>\n",
       "      <td>SAMN02603086</td>\n",
       "      <td>NaN</td>\n",
       "      <td>representative genome</td>\n",
       "      <td>398511</td>\n",
       "      <td>79885</td>\n",
       "      <td>Bacillus pseudofirmus OF4</td>\n",
       "      <td>strain=OF4</td>\n",
       "      <td>NaN</td>\n",
       "      <td>...</td>\n",
       "      <td>Full</td>\n",
       "      <td>15/12/2010</td>\n",
       "      <td>ASM582v2</td>\n",
       "      <td>Center for Genomic Sciences, Allegheny-Singer ...</td>\n",
       "      <td>GCF_000005825.2</td>\n",
       "      <td>identical</td>\n",
       "      <td>ftp://ftp.ncbi.nlm.nih.gov/genomes/all/GCA/000...</td>\n",
       "      <td>NaN</td>\n",
       "      <td>NaN</td>\n",
       "      <td>2010-12-15</td>\n",
       "    </tr>\n",
       "    <tr>\n",
       "      <th>1</th>\n",
       "      <td>GCA_000005845.2</td>\n",
       "      <td>PRJNA225</td>\n",
       "      <td>SAMN02604091</td>\n",
       "      <td>NaN</td>\n",
       "      <td>reference genome</td>\n",
       "      <td>511145</td>\n",
       "      <td>562</td>\n",
       "      <td>Escherichia coli str. K-12 substr. MG1655</td>\n",
       "      <td>strain=K-12 substr. MG1655</td>\n",
       "      <td>NaN</td>\n",
       "      <td>...</td>\n",
       "      <td>Full</td>\n",
       "      <td>26/09/2013</td>\n",
       "      <td>ASM584v2</td>\n",
       "      <td>Univ. Wisconsin</td>\n",
       "      <td>GCF_000005845.2</td>\n",
       "      <td>identical</td>\n",
       "      <td>ftp://ftp.ncbi.nlm.nih.gov/genomes/all/GCA/000...</td>\n",
       "      <td>NaN</td>\n",
       "      <td>NaN</td>\n",
       "      <td>2013-09-26</td>\n",
       "    </tr>\n",
       "    <tr>\n",
       "      <th>2</th>\n",
       "      <td>GCA_000006175.2</td>\n",
       "      <td>PRJNA20131</td>\n",
       "      <td>SAMN00000040</td>\n",
       "      <td>NaN</td>\n",
       "      <td>representative genome</td>\n",
       "      <td>456320</td>\n",
       "      <td>2188</td>\n",
       "      <td>Methanococcus voltae A3</td>\n",
       "      <td>strain=A3</td>\n",
       "      <td>NaN</td>\n",
       "      <td>...</td>\n",
       "      <td>Full</td>\n",
       "      <td>03/06/2010</td>\n",
       "      <td>ASM617v2</td>\n",
       "      <td>US DOE Joint Genome Institute (JGI-PGF)</td>\n",
       "      <td>GCF_000006175.1</td>\n",
       "      <td>identical</td>\n",
       "      <td>ftp://ftp.ncbi.nlm.nih.gov/genomes/all/GCA/000...</td>\n",
       "      <td>NaN</td>\n",
       "      <td>NaN</td>\n",
       "      <td>2010-06-03</td>\n",
       "    </tr>\n",
       "    <tr>\n",
       "      <th>3</th>\n",
       "      <td>GCA_000006605.1</td>\n",
       "      <td>PRJNA13967</td>\n",
       "      <td>SAMEA3283089</td>\n",
       "      <td>NaN</td>\n",
       "      <td>representative genome</td>\n",
       "      <td>306537</td>\n",
       "      <td>38289</td>\n",
       "      <td>Corynebacterium jeikeium K411</td>\n",
       "      <td>NaN</td>\n",
       "      <td>NaN</td>\n",
       "      <td>...</td>\n",
       "      <td>Full</td>\n",
       "      <td>27/06/2005</td>\n",
       "      <td>ASM660v1</td>\n",
       "      <td>Bielefeld Univ</td>\n",
       "      <td>GCF_000006605.1</td>\n",
       "      <td>identical</td>\n",
       "      <td>ftp://ftp.ncbi.nlm.nih.gov/genomes/all/GCA/000...</td>\n",
       "      <td>NaN</td>\n",
       "      <td>NaN</td>\n",
       "      <td>2005-06-27</td>\n",
       "    </tr>\n",
       "    <tr>\n",
       "      <th>4</th>\n",
       "      <td>GCA_000019345.1</td>\n",
       "      <td>PRJNA19087</td>\n",
       "      <td>SAMN02604063</td>\n",
       "      <td>NaN</td>\n",
       "      <td>representative genome</td>\n",
       "      <td>505682</td>\n",
       "      <td>134821</td>\n",
       "      <td>Ureaplasma parvum serovar 3 str. ATCC 27815</td>\n",
       "      <td>strain=ATCC 27815</td>\n",
       "      <td>NaN</td>\n",
       "      <td>...</td>\n",
       "      <td>Full</td>\n",
       "      <td>26/02/2008</td>\n",
       "      <td>ASM1934v1</td>\n",
       "      <td>TIGR</td>\n",
       "      <td>GCF_000019345.1</td>\n",
       "      <td>identical</td>\n",
       "      <td>ftp://ftp.ncbi.nlm.nih.gov/genomes/all/GCA/000...</td>\n",
       "      <td>NaN</td>\n",
       "      <td>assembly from type material</td>\n",
       "      <td>2008-02-26</td>\n",
       "    </tr>\n",
       "  </tbody>\n",
       "</table>\n",
       "<p>5 rows × 23 columns</p>\n",
       "</div>"
      ],
      "text/plain": [
       "  assembly_accession  bioproject     biosample wgs_master  \\\n",
       "0    GCA_000005825.2  PRJNA28811  SAMN02603086        NaN   \n",
       "1    GCA_000005845.2    PRJNA225  SAMN02604091        NaN   \n",
       "2    GCA_000006175.2  PRJNA20131  SAMN00000040        NaN   \n",
       "3    GCA_000006605.1  PRJNA13967  SAMEA3283089        NaN   \n",
       "4    GCA_000019345.1  PRJNA19087  SAMN02604063        NaN   \n",
       "\n",
       "         refseq_category   taxid  species_taxid  \\\n",
       "0  representative genome  398511          79885   \n",
       "1       reference genome  511145            562   \n",
       "2  representative genome  456320           2188   \n",
       "3  representative genome  306537          38289   \n",
       "4  representative genome  505682         134821   \n",
       "\n",
       "                                 organism_name          infraspecific_name  \\\n",
       "0                    Bacillus pseudofirmus OF4                  strain=OF4   \n",
       "1    Escherichia coli str. K-12 substr. MG1655  strain=K-12 substr. MG1655   \n",
       "2                      Methanococcus voltae A3                   strain=A3   \n",
       "3                Corynebacterium jeikeium K411                         NaN   \n",
       "4  Ureaplasma parvum serovar 3 str. ATCC 27815           strain=ATCC 27815   \n",
       "\n",
       "  isolate  ... genome_rep seq_rel_date   asm_name  \\\n",
       "0     NaN  ...       Full   15/12/2010   ASM582v2   \n",
       "1     NaN  ...       Full   26/09/2013   ASM584v2   \n",
       "2     NaN  ...       Full   03/06/2010   ASM617v2   \n",
       "3     NaN  ...       Full   27/06/2005   ASM660v1   \n",
       "4     NaN  ...       Full   26/02/2008  ASM1934v1   \n",
       "\n",
       "                                           submitter  gbrs_paired_asm  \\\n",
       "0  Center for Genomic Sciences, Allegheny-Singer ...  GCF_000005825.2   \n",
       "1                                    Univ. Wisconsin  GCF_000005845.2   \n",
       "2            US DOE Joint Genome Institute (JGI-PGF)  GCF_000006175.1   \n",
       "3                                     Bielefeld Univ  GCF_000006605.1   \n",
       "4                                               TIGR  GCF_000019345.1   \n",
       "\n",
       "  paired_asm_comp                                           ftp_path  \\\n",
       "0       identical  ftp://ftp.ncbi.nlm.nih.gov/genomes/all/GCA/000...   \n",
       "1       identical  ftp://ftp.ncbi.nlm.nih.gov/genomes/all/GCA/000...   \n",
       "2       identical  ftp://ftp.ncbi.nlm.nih.gov/genomes/all/GCA/000...   \n",
       "3       identical  ftp://ftp.ncbi.nlm.nih.gov/genomes/all/GCA/000...   \n",
       "4       identical  ftp://ftp.ncbi.nlm.nih.gov/genomes/all/GCA/000...   \n",
       "\n",
       "  excluded_from_refseq    relation_to_type_material seq_rel_date_processed  \n",
       "0                  NaN                          NaN             2010-12-15  \n",
       "1                  NaN                          NaN             2013-09-26  \n",
       "2                  NaN                          NaN             2010-06-03  \n",
       "3                  NaN                          NaN             2005-06-27  \n",
       "4                  NaN  assembly from type material             2008-02-26  \n",
       "\n",
       "[5 rows x 23 columns]"
      ]
     },
     "execution_count": 127,
     "metadata": {},
     "output_type": "execute_result"
    }
   ],
   "source": [
    "ncbi_candidate_records_filtered.head()"
   ]
  },
  {
   "cell_type": "code",
   "execution_count": 150,
   "metadata": {},
   "outputs": [
    {
     "data": {
      "text/plain": [
       "'ftp://ftp.ncbi.nlm.nih.gov/genomes/all/GCA/000/005/825/GCA_000005825.2_ASM582v2/GCA_000005825.2_ASM582v2'"
      ]
     },
     "execution_count": 150,
     "metadata": {},
     "output_type": "execute_result"
    }
   ],
   "source": [
    "def make_download_url(row):\n",
    "    ftp_path = row['ftp_path'].strip().replace('(', '_').replace(')', '_')\n",
    "    assembly_accession = row['assembly_accession'].strip().replace('(', '_').replace(')', '_')\n",
    "    asm_name = row['asm_name'].strip().replace('/', '_').replace('#', '_').replace('(', '_').replace(')', '_')\n",
    "    download_url_base = f\"{ftp_path}/{assembly_accession}_{asm_name}\".replace(' ', '_')\n",
    "    return download_url_base\n",
    "\n",
    "\n",
    "ncbi_candidate_records_filtered['download_url_base'] = ncbi_candidate_records_filtered.apply(\n",
    "    make_download_url, \n",
    "    axis=1,\n",
    ")\n",
    "ncbi_candidate_records_filtered['download_url_base'].iloc[0]"
   ]
  },
  {
   "cell_type": "code",
   "execution_count": 151,
   "metadata": {},
   "outputs": [],
   "source": [
    "#ncbi_candidate_records_filtered.to_csv(\n",
    "#    os.path.join(os.getcwd(), 'data/condensed_traits/ncbi_species_to_fetch.csv'), \n",
    "#    index=False,\n",
    "#)"
   ]
  },
  {
   "cell_type": "markdown",
   "metadata": {},
   "source": [
    "## Check data quality of downloaded sequences"
   ]
  },
  {
   "cell_type": "code",
   "execution_count": 137,
   "metadata": {},
   "outputs": [],
   "source": [
    "data_folder = os.path.join(os.getcwd(), 'data/condensed_traits/sequences')"
   ]
  },
  {
   "cell_type": "code",
   "execution_count": 175,
   "metadata": {},
   "outputs": [],
   "source": [
    "def check_for_missing_files(ncbi_records, data_folder):\n",
    "    stats_missing = {\n",
    "        'dna (fna)': 0,\n",
    "        'annotations (gff)': 0,\n",
    "        'protein (faa)': 0,\n",
    "        'CDS (fna)': 0,\n",
    "        'RNA (fna)': 0,\n",
    "    }\n",
    "    \n",
    "    details = []\n",
    "    for row_ix in ncbi_records.index:\n",
    "        row = ncbi_records.loc[row_ix]\n",
    "        specie_taxid = row['species_taxid']\n",
    "        files = [\n",
    "            ('dna (fna)', os.path.join(data_folder, f'{specie_taxid}', f'{specie_taxid}_genomic.fna.gz')),\n",
    "            ('annotations (gff)', os.path.join(data_folder, f'{specie_taxid}', f'{specie_taxid}_genomic.gff.gz')),\n",
    "            ('protein (faa)', os.path.join(data_folder, f'{specie_taxid}', f'{specie_taxid}_protein.faa.gz')),\n",
    "            ('CDS (fna)', os.path.join(data_folder, f'{specie_taxid}', f'{specie_taxid}_cds_from_genomic.fna.gz')),\n",
    "            ('RNA (fna)', os.path.join(data_folder, f'{specie_taxid}', f'{specie_taxid}_rna_from_genomic.fna.gz')),\n",
    "        ]\n",
    "        for category, filepath in files:\n",
    "            is_missing = False\n",
    "            if not Path(filepath).is_file():\n",
    "                stats_missing[category] += 1\n",
    "                is_missing = True\n",
    "                \n",
    "            details.append([specie_taxid, category, is_missing])\n",
    "    \n",
    "    details_df = pd.DataFrame(details, columns=['species_taxid', 'content', 'is_missing'])\n",
    "     \n",
    "    return stats_missing, details_df"
   ]
  },
  {
   "cell_type": "code",
   "execution_count": 153,
   "metadata": {},
   "outputs": [],
   "source": [
    "stats_missing, details_df = check_for_missing_files(ncbi_candidate_records_filtered, data_folder)"
   ]
  },
  {
   "cell_type": "code",
   "execution_count": 154,
   "metadata": {},
   "outputs": [
    {
     "data": {
      "text/plain": [
       "{'dna (fna)': 0, 'annotations (gff)': 104, 'protein (faa)': 109}"
      ]
     },
     "execution_count": 154,
     "metadata": {},
     "output_type": "execute_result"
    }
   ],
   "source": [
    "stats_missing"
   ]
  },
  {
   "cell_type": "code",
   "execution_count": 156,
   "metadata": {},
   "outputs": [
    {
     "data": {
      "text/plain": [
       "109"
      ]
     },
     "execution_count": 156,
     "metadata": {},
     "output_type": "execute_result"
    }
   ],
   "source": [
    "species_to_discard = details_df[details_df['is_missing']]['species_taxid'].unique()\n",
    "len(species_to_discard)"
   ]
  },
  {
   "cell_type": "code",
   "execution_count": 158,
   "metadata": {},
   "outputs": [
    {
     "data": {
      "text/plain": [
       "2369"
      ]
     },
     "execution_count": 158,
     "metadata": {},
     "output_type": "execute_result"
    }
   ],
   "source": [
    "species_with_all_sequences = ncbi_candidate_records_filtered[\n",
    "    ~ncbi_candidate_records_filtered['species_taxid'].isin(species_to_discard)\n",
    "].reset_index(drop=True)\n",
    "len(species_with_all_sequences)"
   ]
  },
  {
   "cell_type": "code",
   "execution_count": 159,
   "metadata": {},
   "outputs": [],
   "source": [
    "#species_with_all_sequences.to_csv(\n",
    "#    os.path.join(os.getcwd(), 'data/condensed_traits/ncbi_species_final.csv'), \n",
    "#    index=False,\n",
    "#)"
   ]
  },
  {
   "cell_type": "code",
   "execution_count": 163,
   "metadata": {},
   "outputs": [],
   "source": [
    "species_taxid = species_with_all_sequences['species_taxid'].values.tolist()"
   ]
  },
  {
   "cell_type": "code",
   "execution_count": 172,
   "metadata": {},
   "outputs": [
    {
     "data": {
      "image/png": "[encoded data removed]",
      "text/plain": [
       "<Figure size 720x360 with 1 Axes>"
      ]
     },
     "metadata": {},
     "output_type": "display_data"
    }
   ],
   "source": [
    "df_ = species_df[species_df['species_tax_id'].isin(species_taxid)]\n",
    "ax = df_['growth_tmp'].hist(figsize=(10, 5), bins=50, log=True);\n",
    "ax.set_title('Distribution of Growth Temperature')\n",
    "ax.set_xlabel('Growth Temperature');\n",
    "ax.set_ylabel('Count (log scale)');"
   ]
  },
  {
   "cell_type": "code",
   "execution_count": 173,
   "metadata": {},
   "outputs": [
    {
     "data": {
      "text/plain": [
       "'ftp://ftp.ncbi.nlm.nih.gov/genomes/all/GCA/000/005/825/GCA_000005825.2_ASM582v2/GCA_000005825.2_ASM582v2'"
      ]
     },
     "execution_count": 173,
     "metadata": {},
     "output_type": "execute_result"
    }
   ],
   "source": [
    "species_with_all_sequences.iloc[0]['download_url_base']"
   ]
  },
  {
   "cell_type": "code",
   "execution_count": 176,
   "metadata": {},
   "outputs": [
    {
     "data": {
      "text/plain": [
       "{'dna (fna)': 0,\n",
       " 'annotations (gff)': 0,\n",
       " 'protein (faa)': 0,\n",
       " 'CDS (fna)': 0,\n",
       " 'RNA (fna)': 10}"
      ]
     },
     "execution_count": 176,
     "metadata": {},
     "output_type": "execute_result"
    }
   ],
   "source": [
    "stats_missing_2, details_df_2 = check_for_missing_files(species_with_all_sequences, data_folder)\n",
    "stats_missing_2"
   ]
  },
  {
   "cell_type": "code",
   "execution_count": 178,
   "metadata": {},
   "outputs": [
    {
     "data": {
      "text/plain": [
       "2359"
      ]
     },
     "execution_count": 178,
     "metadata": {},
     "output_type": "execute_result"
    }
   ],
   "source": [
    "species_to_discard_2 = details_df_2[details_df_2['is_missing']]['species_taxid'].unique()\n",
    "species_with_cds_and_rna = species_with_all_sequences[\n",
    "    ~species_with_all_sequences['species_taxid'].isin(species_to_discard_2)\n",
    "].reset_index(drop=True)\n",
    "len(species_with_cds_and_rna)"
   ]
  },
  {
   "cell_type": "code",
   "execution_count": 179,
   "metadata": {},
   "outputs": [],
   "source": [
    "#species_with_cds_and_rna.to_csv(\n",
    "#    os.path.join(os.getcwd(), 'data/condensed_traits/ncbi_species_final.csv'), \n",
    "#    index=False,\n",
    "#)"
   ]
  },
  {
   "cell_type": "code",
   "execution_count": 193,
   "metadata": {},
   "outputs": [
    {
     "data": {
      "image/png": "[encoded data removed]",
      "text/plain": [
       "<Figure size 720x360 with 1 Axes>"
      ]
     },
     "metadata": {},
     "output_type": "display_data"
    }
   ],
   "source": [
    "species_taxid = species_with_cds_and_rna['species_taxid'].values.tolist()\n",
    "df_ = species_df[species_df['species_tax_id'].isin(species_taxid)]\n",
    "ax = df_['growth_tmp'].hist(figsize=(10, 5), bins=50, log=True);\n",
    "ax.set_title('Distribution of Growth Temperature')\n",
    "ax.set_xlabel('Growth Temperature');\n",
    "ax.set_ylabel('Count (log scale)');"
   ]
  },
  {
   "cell_type": "code",
   "execution_count": 196,
   "metadata": {},
   "outputs": [
    {
     "data": {
      "text/plain": [
       "33"
      ]
     },
     "execution_count": 196,
     "metadata": {},
     "output_type": "execute_result"
    }
   ],
   "source": [
    "len(df_[['phylum', 'species_tax_id']].groupby(['phylum']).count().sort_values(\n",
    "    'species_tax_id', ascending=False,\n",
    "))"
   ]
  },
  {
   "cell_type": "code",
   "execution_count": 189,
   "metadata": {},
   "outputs": [
    {
     "data": {
      "text/html": [
       "<div>\n",
       "<style scoped>\n",
       "    .dataframe tbody tr th:only-of-type {\n",
       "        vertical-align: middle;\n",
       "    }\n",
       "\n",
       "    .dataframe tbody tr th {\n",
       "        vertical-align: top;\n",
       "    }\n",
       "\n",
       "    .dataframe thead th {\n",
       "        text-align: right;\n",
       "    }\n",
       "</style>\n",
       "<table border=\"1\" class=\"dataframe\">\n",
       "  <thead>\n",
       "    <tr style=\"text-align: right;\">\n",
       "      <th></th>\n",
       "      <th>species_tax_id</th>\n",
       "    </tr>\n",
       "    <tr>\n",
       "      <th>superkingdom</th>\n",
       "      <th></th>\n",
       "    </tr>\n",
       "  </thead>\n",
       "  <tbody>\n",
       "    <tr>\n",
       "      <th>Bacteria</th>\n",
       "      <td>2202</td>\n",
       "    </tr>\n",
       "    <tr>\n",
       "      <th>Archaea</th>\n",
       "      <td>157</td>\n",
       "    </tr>\n",
       "  </tbody>\n",
       "</table>\n",
       "</div>"
      ],
      "text/plain": [
       "              species_tax_id\n",
       "superkingdom                \n",
       "Bacteria                2202\n",
       "Archaea                  157"
      ]
     },
     "execution_count": 189,
     "metadata": {},
     "output_type": "execute_result"
    }
   ],
   "source": [
    "df_[['superkingdom', 'species_tax_id']].groupby(['superkingdom']).count().sort_values(\n",
    "    'species_tax_id', ascending=False,\n",
    ")"
   ]
  },
  {
   "cell_type": "code",
   "execution_count": 198,
   "metadata": {},
   "outputs": [
    {
     "data": {
      "image/png": "[encoded data removed]",
      "text/plain": [
       "<Figure size 720x360 with 1 Axes>"
      ]
     },
     "metadata": {},
     "output_type": "display_data"
    }
   ],
   "source": [
    "species_taxid = species_with_cds_and_rna['species_taxid'].values.tolist()\n",
    "df__ = species_df[\n",
    "    (species_df['species_tax_id'].isin(species_taxid)) &\n",
    "    (species_df['superkingdom'] == 'Archaea')\n",
    "]\n",
    "ax = df__['growth_tmp'].hist(figsize=(10, 5), bins=50, log=True);\n",
    "ax.set_title('Distribution of Growth Temperature for Archaea')\n",
    "ax.set_xlabel('Growth Temperature');\n",
    "ax.set_ylabel('Count (log scale)');"
   ]
  },
  {
   "cell_type": "code",
   "execution_count": 1,
   "metadata": {},
   "outputs": [],
   "source": []
  }
 ],
 "metadata": {
  "kernelspec": {
   "display_name": "Python 3",
   "language": "python",
   "name": "python3"
  },
  "language_info": {
   "codemirror_mode": {
    "name": "ipython",
    "version": 3
   },
   "file_extension": ".py",
   "mimetype": "text/x-python",
   "name": "python",
   "nbconvert_exporter": "python",
   "pygments_lexer": "ipython3",
   "version": "3.7.6"
  }
 },
 "nbformat": 4,
 "nbformat_minor": 4
}
