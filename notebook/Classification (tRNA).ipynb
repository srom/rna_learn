{
 "cells": [
  {
   "cell_type": "code",
   "execution_count": 1,
   "metadata": {},
   "outputs": [],
   "source": [
    "import os\n",
    "\n",
    "import pandas as pd\n",
    "import numpy as np\n",
    "import tensorflow as tf\n",
    "import matplotlib.pyplot as plt\n",
    "import seaborn as sns\n",
    "\n",
    "if os.getcwd().endswith('notebook'):\n",
    "    os.chdir('..')\n",
    "\n",
    "from rna_learn.model import (\n",
    "    rnn_classification_model,\n",
    "    compile_classification_model,\n",
    ")\n",
    "from rna_learn.transform import (\n",
    "    sequence_embedding, \n",
    "    make_dataset_balanced,\n",
    "    one_hot_encode_classes,\n",
    "    split_train_test_set,\n",
    "    normalize, \n",
    "    denormalize,\n",
    ")\n",
    "from rna_learn.load import load_rna_structure_dataset"
   ]
  },
  {
   "cell_type": "code",
   "execution_count": 2,
   "metadata": {},
   "outputs": [],
   "source": [
    "seed = 666\n",
    "np.random.seed(seed)\n",
    "\n",
    "sns.set(palette='colorblind', font_scale=1.3)"
   ]
  },
  {
   "cell_type": "markdown",
   "metadata": {},
   "source": [
    "## Model"
   ]
  },
  {
   "cell_type": "code",
   "execution_count": 3,
   "metadata": {},
   "outputs": [],
   "source": [
    "rna = 'trna'\n",
    "alphabet = ['.', '(', ')']\n",
    "alphabet_size = len(alphabet)\n",
    "metadata_folder = f'data/tab/{rna}.tab'\n",
    "sequences_folder = 'data/seq/'\n",
    "classes = ['psychrophile', 'mesophile', 'thermophile', 'hyperthermophile']\n",
    "n_classes = len(classes)\n",
    "n_entries_per_class = 153"
   ]
  },
  {
   "cell_type": "code",
   "execution_count": 4,
   "metadata": {},
   "outputs": [
    {
     "name": "stdout",
     "output_type": "stream",
     "text": [
      "Model: \"model\"\n",
      "_________________________________________________________________\n",
      "Layer (type)                 Output Shape              Param #   \n",
      "=================================================================\n",
      "sequence (InputLayer)        [(None, None, 3)]         0         \n",
      "_________________________________________________________________\n",
      "masking (Masking)            (None, None, 3)           0         \n",
      "_________________________________________________________________\n",
      "lstm (LSTM)                  (None, None, 100)         41600     \n",
      "_________________________________________________________________\n",
      "lstm_1 (LSTM)                (None, 100)               80400     \n",
      "_________________________________________________________________\n",
      "dense (Dense)                (None, 100)               10100     \n",
      "_________________________________________________________________\n",
      "dropout (Dropout)            (None, 100)               0         \n",
      "_________________________________________________________________\n",
      "dense_1 (Dense)              (None, 4)                 404       \n",
      "=================================================================\n",
      "Total params: 132,504\n",
      "Trainable params: 132,504\n",
      "Non-trainable params: 0\n",
      "_________________________________________________________________\n"
     ]
    }
   ],
   "source": [
    "output_path = os.path.join(os.getcwd(), 'saved_models', f'seed_{seed}', f'{rna}_classification.h5')\n",
    "\n",
    "model = rnn_classification_model(alphabet_size=alphabet_size, n_classes=n_classes, n_lstm=2)\n",
    "compile_classification_model(model, learning_rate=1e-4)\n",
    "\n",
    "model.load_weights(output_path)\n",
    "\n",
    "model.summary()"
   ]
  },
  {
   "cell_type": "markdown",
   "metadata": {},
   "source": [
    "## Data Loading"
   ]
  },
  {
   "cell_type": "code",
   "execution_count": 5,
   "metadata": {},
   "outputs": [
    {
     "name": "stdout",
     "output_type": "stream",
     "text": [
      "CPU times: user 204 ms, sys: 150 ms, total: 355 ms\n",
      "Wall time: 352 ms\n"
     ]
    }
   ],
   "source": [
    "%%time\n",
    "metadata = pd.read_csv(metadata_folder, delimiter='\\t')\n",
    "metadata['category'] = metadata['temp.cat']\n",
    "\n",
    "sequences = load_rna_structure_dataset(metadata, sequences_folder)"
   ]
  },
  {
   "cell_type": "code",
   "execution_count": 6,
   "metadata": {},
   "outputs": [],
   "source": [
    "def rna_type_distributions(metadata):\n",
    "    f, axes = plt.subplots(1, 4, figsize=(18, 5))\n",
    "    axes = axes.flatten()\n",
    "    for i, rna_type in enumerate(['psychrophile', 'mesophile', 'thermophile', 'hyperthermophile']):\n",
    "        metadata[metadata['rna.type'] == rna_type]['temp'].hist(ax=axes[i])\n",
    "        axes[i].set_title(f'{rna_type}');\n",
    "        axes[i].set_xlim(0, 100)"
   ]
  },
  {
   "cell_type": "code",
   "execution_count": 7,
   "metadata": {},
   "outputs": [
    {
     "name": "stdout",
     "output_type": "stream",
     "text": [
      "psychrophile 154\n",
      "mesophile 4636\n",
      "thermophile 411\n",
      "hyperthermophile 306\n"
     ]
    }
   ],
   "source": [
    "for i, rna_type in enumerate(['psychrophile', 'mesophile', 'thermophile', 'hyperthermophile']):\n",
    "    print(rna_type, len(metadata[metadata['rna.type'] == rna_type]))"
   ]
  },
  {
   "cell_type": "code",
   "execution_count": 8,
   "metadata": {},
   "outputs": [],
   "source": [
    "y_balanced, balanced_metadata = make_dataset_balanced(metadata, n_entries_per_class=n_entries_per_class)"
   ]
  },
  {
   "cell_type": "code",
   "execution_count": 9,
   "metadata": {},
   "outputs": [
    {
     "data": {
      "image/png": "[encoded data removed]",
      "text/plain": [
       "<Figure size 1296x360 with 4 Axes>"
      ]
     },
     "metadata": {},
     "output_type": "display_data"
    }
   ],
   "source": [
    "rna_type_distributions(balanced_metadata)"
   ]
  },
  {
   "cell_type": "markdown",
   "metadata": {},
   "source": [
    "## Evaluation"
   ]
  },
  {
   "cell_type": "code",
   "execution_count": 10,
   "metadata": {},
   "outputs": [],
   "source": [
    "balanced_sequences = load_rna_structure_dataset(balanced_metadata, sequences_folder)\n",
    "y = one_hot_encode_classes(y_balanced, classes)\n",
    "x = sequence_embedding(balanced_sequences, alphabet)\n",
    "x_train, y_train, x_test, y_test, train_idx, test_idx = split_train_test_set(\n",
    "    x, y, test_ratio=0.2, return_indices=True)"
   ]
  },
  {
   "cell_type": "code",
   "execution_count": 11,
   "metadata": {},
   "outputs": [
    {
     "name": "stdout",
     "output_type": "stream",
     "text": [
      "Loss: 1.4008\n",
      "Accuracy: 0.2869\n"
     ]
    }
   ],
   "source": [
    "loss, accuracy = model.evaluate(x_test, y_test, verbose=0)\n",
    "print(f'Loss: {loss:.4f}')\n",
    "print(f'Accuracy: {accuracy:.4f}')"
   ]
  },
  {
   "cell_type": "code",
   "execution_count": 12,
   "metadata": {},
   "outputs": [
    {
     "data": {
      "text/html": [
       "<div>\n",
       "<style scoped>\n",
       "    .dataframe tbody tr th:only-of-type {\n",
       "        vertical-align: middle;\n",
       "    }\n",
       "\n",
       "    .dataframe tbody tr th {\n",
       "        vertical-align: top;\n",
       "    }\n",
       "\n",
       "    .dataframe thead th {\n",
       "        text-align: right;\n",
       "    }\n",
       "</style>\n",
       "<table border=\"1\" class=\"dataframe\">\n",
       "  <thead>\n",
       "    <tr style=\"text-align: right;\">\n",
       "      <th></th>\n",
       "      <th>sp</th>\n",
       "      <th>taxid</th>\n",
       "      <th>temp.cat</th>\n",
       "      <th>rna.type</th>\n",
       "      <th>temp</th>\n",
       "      <th>length</th>\n",
       "      <th>gc</th>\n",
       "      <th>paired</th>\n",
       "      <th>asa</th>\n",
       "      <th>sd.asa</th>\n",
       "      <th>maxmin.asa</th>\n",
       "      <th>mfe</th>\n",
       "      <th>mfe1</th>\n",
       "      <th>mfe2</th>\n",
       "      <th>mfe3</th>\n",
       "      <th>category</th>\n",
       "    </tr>\n",
       "  </thead>\n",
       "  <tbody>\n",
       "    <tr>\n",
       "      <th>0</th>\n",
       "      <td>Aquifex aeolicus</td>\n",
       "      <td>63363</td>\n",
       "      <td>tRNA ala</td>\n",
       "      <td>hyperthermophile</td>\n",
       "      <td>95</td>\n",
       "      <td>73</td>\n",
       "      <td>0.684932</td>\n",
       "      <td>0.493151</td>\n",
       "      <td>172.914479</td>\n",
       "      <td>24.130625</td>\n",
       "      <td>129.8530</td>\n",
       "      <td>-25.4</td>\n",
       "      <td>8.561776</td>\n",
       "      <td>1.152125</td>\n",
       "      <td>6.897895</td>\n",
       "      <td>tRNA ala</td>\n",
       "    </tr>\n",
       "    <tr>\n",
       "      <th>1</th>\n",
       "      <td>Caldanaerobacter subterraneus</td>\n",
       "      <td>119072</td>\n",
       "      <td>tRNA ala</td>\n",
       "      <td>hyperthermophile</td>\n",
       "      <td>75</td>\n",
       "      <td>76</td>\n",
       "      <td>0.618421</td>\n",
       "      <td>0.552632</td>\n",
       "      <td>158.407026</td>\n",
       "      <td>17.657989</td>\n",
       "      <td>85.0490</td>\n",
       "      <td>-24.3</td>\n",
       "      <td>5.860808</td>\n",
       "      <td>3.708303</td>\n",
       "      <td>5.423183</td>\n",
       "      <td>tRNA ala</td>\n",
       "    </tr>\n",
       "    <tr>\n",
       "      <th>2</th>\n",
       "      <td>Sulfolobus tokodaii</td>\n",
       "      <td>111955</td>\n",
       "      <td>tRNA ala</td>\n",
       "      <td>hyperthermophile</td>\n",
       "      <td>75</td>\n",
       "      <td>74</td>\n",
       "      <td>0.689189</td>\n",
       "      <td>0.621622</td>\n",
       "      <td>166.143526</td>\n",
       "      <td>40.887388</td>\n",
       "      <td>233.2679</td>\n",
       "      <td>-31.6</td>\n",
       "      <td>2.605096</td>\n",
       "      <td>-4.562482</td>\n",
       "      <td>1.349967</td>\n",
       "      <td>tRNA ala</td>\n",
       "    </tr>\n",
       "    <tr>\n",
       "      <th>3</th>\n",
       "      <td>Thermoanaerobacter brockii</td>\n",
       "      <td>29325</td>\n",
       "      <td>tRNA ala</td>\n",
       "      <td>hyperthermophile</td>\n",
       "      <td>75</td>\n",
       "      <td>76</td>\n",
       "      <td>0.578947</td>\n",
       "      <td>0.552632</td>\n",
       "      <td>162.027039</td>\n",
       "      <td>21.247820</td>\n",
       "      <td>92.2730</td>\n",
       "      <td>-22.7</td>\n",
       "      <td>5.204949</td>\n",
       "      <td>5.308303</td>\n",
       "      <td>4.767323</td>\n",
       "      <td>tRNA ala</td>\n",
       "    </tr>\n",
       "    <tr>\n",
       "      <th>4</th>\n",
       "      <td>Thermocrinis ruber</td>\n",
       "      <td>75906</td>\n",
       "      <td>tRNA ala</td>\n",
       "      <td>hyperthermophile</td>\n",
       "      <td>80</td>\n",
       "      <td>75</td>\n",
       "      <td>0.666667</td>\n",
       "      <td>0.480000</td>\n",
       "      <td>167.370480</td>\n",
       "      <td>25.735351</td>\n",
       "      <td>147.3200</td>\n",
       "      <td>-26.2</td>\n",
       "      <td>6.717969</td>\n",
       "      <td>1.322910</td>\n",
       "      <td>5.871592</td>\n",
       "      <td>tRNA ala</td>\n",
       "    </tr>\n",
       "    <tr>\n",
       "      <th>...</th>\n",
       "      <td>...</td>\n",
       "      <td>...</td>\n",
       "      <td>...</td>\n",
       "      <td>...</td>\n",
       "      <td>...</td>\n",
       "      <td>...</td>\n",
       "      <td>...</td>\n",
       "      <td>...</td>\n",
       "      <td>...</td>\n",
       "      <td>...</td>\n",
       "      <td>...</td>\n",
       "      <td>...</td>\n",
       "      <td>...</td>\n",
       "      <td>...</td>\n",
       "      <td>...</td>\n",
       "      <td>...</td>\n",
       "    </tr>\n",
       "    <tr>\n",
       "      <th>607</th>\n",
       "      <td>Chloroflexus aurantiacus</td>\n",
       "      <td>1108</td>\n",
       "      <td>tRNA val</td>\n",
       "      <td>thermophile</td>\n",
       "      <td>60</td>\n",
       "      <td>77</td>\n",
       "      <td>0.558442</td>\n",
       "      <td>0.675325</td>\n",
       "      <td>171.963557</td>\n",
       "      <td>38.610744</td>\n",
       "      <td>225.3310</td>\n",
       "      <td>-30.6</td>\n",
       "      <td>-3.866926</td>\n",
       "      <td>-2.106304</td>\n",
       "      <td>-3.895800</td>\n",
       "      <td>tRNA val</td>\n",
       "    </tr>\n",
       "    <tr>\n",
       "      <th>608</th>\n",
       "      <td>Desulfotomaculum nigrificans</td>\n",
       "      <td>1565</td>\n",
       "      <td>tRNA val</td>\n",
       "      <td>thermophile</td>\n",
       "      <td>55</td>\n",
       "      <td>76</td>\n",
       "      <td>0.631579</td>\n",
       "      <td>0.552632</td>\n",
       "      <td>156.049895</td>\n",
       "      <td>19.691574</td>\n",
       "      <td>85.7900</td>\n",
       "      <td>-28.2</td>\n",
       "      <td>2.712761</td>\n",
       "      <td>-0.191697</td>\n",
       "      <td>2.275136</td>\n",
       "      <td>tRNA val</td>\n",
       "    </tr>\n",
       "    <tr>\n",
       "      <th>609</th>\n",
       "      <td>Desulfurobacterium thermolithotrophum</td>\n",
       "      <td>64160</td>\n",
       "      <td>tRNA val</td>\n",
       "      <td>thermophile</td>\n",
       "      <td>70</td>\n",
       "      <td>76</td>\n",
       "      <td>0.631579</td>\n",
       "      <td>0.605263</td>\n",
       "      <td>169.039237</td>\n",
       "      <td>19.443999</td>\n",
       "      <td>100.5390</td>\n",
       "      <td>-33.6</td>\n",
       "      <td>-2.687239</td>\n",
       "      <td>-5.591697</td>\n",
       "      <td>-3.124864</td>\n",
       "      <td>tRNA val</td>\n",
       "    </tr>\n",
       "    <tr>\n",
       "      <th>610</th>\n",
       "      <td>Ruminiclostridium thermocellum</td>\n",
       "      <td>1515</td>\n",
       "      <td>tRNA val</td>\n",
       "      <td>thermophile</td>\n",
       "      <td>61</td>\n",
       "      <td>76</td>\n",
       "      <td>0.605263</td>\n",
       "      <td>0.578947</td>\n",
       "      <td>154.653105</td>\n",
       "      <td>17.304454</td>\n",
       "      <td>69.8820</td>\n",
       "      <td>-29.1</td>\n",
       "      <td>0.308855</td>\n",
       "      <td>-1.091697</td>\n",
       "      <td>-0.128770</td>\n",
       "      <td>tRNA val</td>\n",
       "    </tr>\n",
       "    <tr>\n",
       "      <th>611</th>\n",
       "      <td>Symbiobacterium thermophilum</td>\n",
       "      <td>2734</td>\n",
       "      <td>tRNA val</td>\n",
       "      <td>thermophile</td>\n",
       "      <td>60</td>\n",
       "      <td>76</td>\n",
       "      <td>0.605263</td>\n",
       "      <td>0.605263</td>\n",
       "      <td>172.062421</td>\n",
       "      <td>19.240152</td>\n",
       "      <td>92.2080</td>\n",
       "      <td>-28.5</td>\n",
       "      <td>0.908855</td>\n",
       "      <td>-0.491697</td>\n",
       "      <td>0.471230</td>\n",
       "      <td>tRNA val</td>\n",
       "    </tr>\n",
       "  </tbody>\n",
       "</table>\n",
       "<p>612 rows × 16 columns</p>\n",
       "</div>"
      ],
      "text/plain": [
       "                                        sp   taxid  temp.cat  \\\n",
       "0                         Aquifex aeolicus   63363  tRNA ala   \n",
       "1            Caldanaerobacter subterraneus  119072  tRNA ala   \n",
       "2                      Sulfolobus tokodaii  111955  tRNA ala   \n",
       "3               Thermoanaerobacter brockii   29325  tRNA ala   \n",
       "4                       Thermocrinis ruber   75906  tRNA ala   \n",
       "..                                     ...     ...       ...   \n",
       "607               Chloroflexus aurantiacus    1108  tRNA val   \n",
       "608           Desulfotomaculum nigrificans    1565  tRNA val   \n",
       "609  Desulfurobacterium thermolithotrophum   64160  tRNA val   \n",
       "610         Ruminiclostridium thermocellum    1515  tRNA val   \n",
       "611           Symbiobacterium thermophilum    2734  tRNA val   \n",
       "\n",
       "             rna.type  temp  length        gc    paired         asa  \\\n",
       "0    hyperthermophile    95      73  0.684932  0.493151  172.914479   \n",
       "1    hyperthermophile    75      76  0.618421  0.552632  158.407026   \n",
       "2    hyperthermophile    75      74  0.689189  0.621622  166.143526   \n",
       "3    hyperthermophile    75      76  0.578947  0.552632  162.027039   \n",
       "4    hyperthermophile    80      75  0.666667  0.480000  167.370480   \n",
       "..                ...   ...     ...       ...       ...         ...   \n",
       "607       thermophile    60      77  0.558442  0.675325  171.963557   \n",
       "608       thermophile    55      76  0.631579  0.552632  156.049895   \n",
       "609       thermophile    70      76  0.631579  0.605263  169.039237   \n",
       "610       thermophile    61      76  0.605263  0.578947  154.653105   \n",
       "611       thermophile    60      76  0.605263  0.605263  172.062421   \n",
       "\n",
       "        sd.asa  maxmin.asa   mfe      mfe1      mfe2      mfe3  category  \n",
       "0    24.130625    129.8530 -25.4  8.561776  1.152125  6.897895  tRNA ala  \n",
       "1    17.657989     85.0490 -24.3  5.860808  3.708303  5.423183  tRNA ala  \n",
       "2    40.887388    233.2679 -31.6  2.605096 -4.562482  1.349967  tRNA ala  \n",
       "3    21.247820     92.2730 -22.7  5.204949  5.308303  4.767323  tRNA ala  \n",
       "4    25.735351    147.3200 -26.2  6.717969  1.322910  5.871592  tRNA ala  \n",
       "..         ...         ...   ...       ...       ...       ...       ...  \n",
       "607  38.610744    225.3310 -30.6 -3.866926 -2.106304 -3.895800  tRNA val  \n",
       "608  19.691574     85.7900 -28.2  2.712761 -0.191697  2.275136  tRNA val  \n",
       "609  19.443999    100.5390 -33.6 -2.687239 -5.591697 -3.124864  tRNA val  \n",
       "610  17.304454     69.8820 -29.1  0.308855 -1.091697 -0.128770  tRNA val  \n",
       "611  19.240152     92.2080 -28.5  0.908855 -0.491697  0.471230  tRNA val  \n",
       "\n",
       "[612 rows x 16 columns]"
      ]
     },
     "execution_count": 12,
     "metadata": {},
     "output_type": "execute_result"
    }
   ],
   "source": [
    "balanced_metadata"
   ]
  },
  {
   "cell_type": "markdown",
   "metadata": {},
   "source": [
    "Evaluation on a set of sequences left out by the balancing of the dataset (i.e. mesophile only):"
   ]
  },
  {
   "cell_type": "code",
   "execution_count": 13,
   "metadata": {},
   "outputs": [],
   "source": [
    "balanced_set = set([(a, b) for a, b in balanced_metadata[['taxid', 'category']].values])\n",
    "metadata_other_indices = []\n",
    "for i, tpl in enumerate(metadata.itertuples()):\n",
    "    if (tpl.taxid, tpl.category) not in balanced_set:\n",
    "        metadata_other_indices.append(i)\n",
    "\n",
    "metadata_other = metadata.iloc[metadata_other_indices].reset_index(drop=True)"
   ]
  },
  {
   "cell_type": "code",
   "execution_count": 14,
   "metadata": {},
   "outputs": [],
   "source": [
    "other_sequences = load_rna_structure_dataset(metadata_other, sequences_folder)\n",
    "x_other = sequence_embedding(other_sequences, alphabet)\n",
    "y_other = one_hot_encode_classes(metadata_other['rna.type'].values, classes)"
   ]
  },
  {
   "cell_type": "code",
   "execution_count": 15,
   "metadata": {},
   "outputs": [
    {
     "data": {
      "text/plain": [
       "[1.4455629208236476, 0.16486211]"
      ]
     },
     "execution_count": 15,
     "metadata": {},
     "output_type": "execute_result"
    }
   ],
   "source": [
    "model.evaluate(x_other, y_other, verbose=0)"
   ]
  },
  {
   "cell_type": "markdown",
   "metadata": {},
   "source": [
    "## Confusion matrix"
   ]
  },
  {
   "cell_type": "code",
   "execution_count": 16,
   "metadata": {},
   "outputs": [
    {
     "data": {
      "text/plain": [
       "array([[14,  2, 14,  3],\n",
       "       [10,  6,  9,  7],\n",
       "       [11,  3, 12,  3],\n",
       "       [ 6,  7, 12,  3]], dtype=int32)"
      ]
     },
     "execution_count": 16,
     "metadata": {},
     "output_type": "execute_result"
    }
   ],
   "source": [
    "y_pred = model(x_test)\n",
    "\n",
    "labels = [np.argmax(el) for el in y_test]\n",
    "predictions = [np.argmax(el) for el in y_pred]\n",
    "conf = tf.math.confusion_matrix(labels, predictions).numpy()\n",
    "conf"
   ]
  },
  {
   "cell_type": "code",
   "execution_count": 17,
   "metadata": {},
   "outputs": [
    {
     "data": {
      "image/png": "[encoded data removed]",
      "text/plain": [
       "<Figure size 432x288 with 2 Axes>"
      ]
     },
     "metadata": {},
     "output_type": "display_data"
    }
   ],
   "source": [
    "df_cm = pd.DataFrame(\n",
    "    conf, \n",
    "    index=[f'{c}: {i}' for i, c in enumerate(classes)],\n",
    "    columns=[f'{i}' for i, c in enumerate(classes)],\n",
    ")\n",
    "ax = sns.heatmap(df_cm, cmap=\"Purples\");\n",
    "ax.set_xlabel('Predictions');\n",
    "ax.set_ylabel('Labels');"
   ]
  },
  {
   "cell_type": "code",
   "execution_count": 18,
   "metadata": {},
   "outputs": [
    {
     "name": "stdout",
     "output_type": "stream",
     "text": [
      "Accuracy for class psychrophile: 42.4%\n",
      "Accuracy for class mesophile: 18.8%\n",
      "Accuracy for class thermophile: 41.4%\n",
      "Accuracy for class hyperthermophile: 10.7%\n"
     ]
    }
   ],
   "source": [
    "conf_sum = np.sum(conf, axis=1)\n",
    "for i in range(len(classes)):\n",
    "    acc = 100 * conf[i, i] / conf_sum[i]\n",
    "    print(f'Accuracy for class {classes[i]}: {acc:.1f}%')"
   ]
  },
  {
   "cell_type": "code",
   "execution_count": 19,
   "metadata": {},
   "outputs": [
    {
     "data": {
      "text/plain": [
       "[1.4716758180837162, 0.12295082]"
      ]
     },
     "execution_count": 19,
     "metadata": {},
     "output_type": "execute_result"
    }
   ],
   "source": [
    "b = balanced_metadata.iloc[train_idx][['taxid', 'category']]\n",
    "balanced_set = set([(a, b) for a, b in b.values])\n",
    "metadata_other_indices = []\n",
    "for i, tpl in enumerate(balanced_metadata.iloc[test_idx].itertuples()):\n",
    "    if (tpl.taxid, tpl.category) not in balanced_set:\n",
    "        metadata_other_indices.append(i)\n",
    "\n",
    "metadata_other = metadata.iloc[metadata_other_indices].reset_index(drop=True)\n",
    "other_sequences = load_rna_structure_dataset(metadata_other, sequences_folder)\n",
    "x_other = sequence_embedding(other_sequences, alphabet)\n",
    "y_other = one_hot_encode_classes(metadata_other['rna.type'].values, classes)\n",
    "model.evaluate(x_other, y_other, verbose=0)"
   ]
  },
  {
   "cell_type": "code",
   "execution_count": null,
   "metadata": {},
   "outputs": [],
   "source": []
  }
 ],
 "metadata": {
  "kernelspec": {
   "display_name": "Python 3",
   "language": "python",
   "name": "python3"
  },
  "language_info": {
   "codemirror_mode": {
    "name": "ipython",
    "version": 3
   },
   "file_extension": ".py",
   "mimetype": "text/x-python",
   "name": "python",
   "nbconvert_exporter": "python",
   "pygments_lexer": "ipython3",
   "version": "3.7.5"
  }
 },
 "nbformat": 4,
 "nbformat_minor": 2
}
