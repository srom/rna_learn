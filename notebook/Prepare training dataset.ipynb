{
 "cells": [
  {
   "cell_type": "code",
   "execution_count": 1,
   "metadata": {},
   "outputs": [],
   "source": [
    "import os\n",
    "\n",
    "import pandas as pd\n",
    "import numpy as np\n",
    "import tensorflow as tf\n",
    "import matplotlib.pyplot as plt\n",
    "import seaborn as sns\n",
    "\n",
    "if os.getcwd().endswith('notebook'):\n",
    "    os.chdir('..')\n",
    "\n",
    "from rna_learn.load import load_dataset\n",
    "from rna_learn.transform import (\n",
    "    sequence_embedding, \n",
    "    normalize, denormalize,\n",
    "    make_dataset_balanced,\n",
    "    one_hot_encode_classes,\n",
    "    split_train_test_set,\n",
    ")"
   ]
  },
  {
   "cell_type": "code",
   "execution_count": 2,
   "metadata": {},
   "outputs": [],
   "source": [
    "sns.set(palette='colorblind', font_scale=1.3)"
   ]
  },
  {
   "cell_type": "code",
   "execution_count": 3,
   "metadata": {},
   "outputs": [],
   "source": [
    "input_path = os.path.join(os.getcwd(), 'data/ncbi/dataset.csv')\n",
    "alphabet = ['A', 'T', 'G', 'C']\n",
    "classes = ['psychrophilic', 'mesophilic', 'thermophilic']"
   ]
  },
  {
   "cell_type": "code",
   "execution_count": 4,
   "metadata": {},
   "outputs": [],
   "source": [
    "dataset_df = load_dataset(input_path, alphabet)"
   ]
  },
  {
   "cell_type": "code",
   "execution_count": 5,
   "metadata": {},
   "outputs": [
    {
     "data": {
      "text/html": [
       "<div>\n",
       "<style scoped>\n",
       "    .dataframe tbody tr th:only-of-type {\n",
       "        vertical-align: middle;\n",
       "    }\n",
       "\n",
       "    .dataframe tbody tr th {\n",
       "        vertical-align: top;\n",
       "    }\n",
       "\n",
       "    .dataframe thead th {\n",
       "        text-align: right;\n",
       "    }\n",
       "</style>\n",
       "<table border=\"1\" class=\"dataframe\">\n",
       "  <thead>\n",
       "    <tr style=\"text-align: right;\">\n",
       "      <th></th>\n",
       "      <th>specie_name</th>\n",
       "      <th>seqid</th>\n",
       "      <th>gene_name</th>\n",
       "      <th>start_inclusive</th>\n",
       "      <th>end_exclusive</th>\n",
       "      <th>length</th>\n",
       "      <th>strand</th>\n",
       "      <th>temperature</th>\n",
       "      <th>temperature_range</th>\n",
       "      <th>sequence</th>\n",
       "      <th>gc_content</th>\n",
       "    </tr>\n",
       "  </thead>\n",
       "  <tbody>\n",
       "    <tr>\n",
       "      <th>0</th>\n",
       "      <td>Acetobacter aceti</td>\n",
       "      <td>NZ_CP014692.1</td>\n",
       "      <td>rnpB</td>\n",
       "      <td>888876</td>\n",
       "      <td>889266</td>\n",
       "      <td>390</td>\n",
       "      <td>-</td>\n",
       "      <td>26.0</td>\n",
       "      <td>mesophilic</td>\n",
       "      <td>CCAGACGGTCGGGCGATCGCTGTTGCCTTTCAGGTGATGGAGGAAA...</td>\n",
       "      <td>0.638462</td>\n",
       "    </tr>\n",
       "    <tr>\n",
       "      <th>1</th>\n",
       "      <td>Acetobacter aceti</td>\n",
       "      <td>NZ_CP014692.1</td>\n",
       "      <td>ssrA</td>\n",
       "      <td>1260173</td>\n",
       "      <td>1260502</td>\n",
       "      <td>329</td>\n",
       "      <td>+</td>\n",
       "      <td>26.0</td>\n",
       "      <td>mesophilic</td>\n",
       "      <td>GACCTTGCGGAAGGTGATGCATACCCCTATCTTCATGAGTGCAGGA...</td>\n",
       "      <td>0.580547</td>\n",
       "    </tr>\n",
       "    <tr>\n",
       "      <th>2</th>\n",
       "      <td>Acetobacter aceti</td>\n",
       "      <td>NZ_CP014692.1</td>\n",
       "      <td>ffs</td>\n",
       "      <td>2223427</td>\n",
       "      <td>2223522</td>\n",
       "      <td>95</td>\n",
       "      <td>-</td>\n",
       "      <td>26.0</td>\n",
       "      <td>mesophilic</td>\n",
       "      <td>AGAGGCCTGTGATGGACGGGCGCCTTGCCAACCCGGTCAGATCCGG...</td>\n",
       "      <td>0.610526</td>\n",
       "    </tr>\n",
       "    <tr>\n",
       "      <th>3</th>\n",
       "      <td>Acetobacter aceti</td>\n",
       "      <td>NZ_CP014692.1</td>\n",
       "      <td>rrf</td>\n",
       "      <td>2846207</td>\n",
       "      <td>2846323</td>\n",
       "      <td>116</td>\n",
       "      <td>-</td>\n",
       "      <td>26.0</td>\n",
       "      <td>mesophilic</td>\n",
       "      <td>CCTGGTGGCTATGGCGGGGAGAGATCCACCCGATCCCATCCCGAAC...</td>\n",
       "      <td>0.629310</td>\n",
       "    </tr>\n",
       "    <tr>\n",
       "      <th>4</th>\n",
       "      <td>Acetobacter cerevisiae</td>\n",
       "      <td>NZ_LHZA01000109.1</td>\n",
       "      <td>efp</td>\n",
       "      <td>9288</td>\n",
       "      <td>9855</td>\n",
       "      <td>567</td>\n",
       "      <td>+</td>\n",
       "      <td>26.0</td>\n",
       "      <td>mesophilic</td>\n",
       "      <td>ATGAAACAGCAGGCGAACCTGATCCGGGCCGGACAGGTCATCGAGC...</td>\n",
       "      <td>0.569665</td>\n",
       "    </tr>\n",
       "  </tbody>\n",
       "</table>\n",
       "</div>"
      ],
      "text/plain": [
       "              specie_name              seqid gene_name  start_inclusive  \\\n",
       "0       Acetobacter aceti      NZ_CP014692.1      rnpB           888876   \n",
       "1       Acetobacter aceti      NZ_CP014692.1      ssrA          1260173   \n",
       "2       Acetobacter aceti      NZ_CP014692.1       ffs          2223427   \n",
       "3       Acetobacter aceti      NZ_CP014692.1       rrf          2846207   \n",
       "4  Acetobacter cerevisiae  NZ_LHZA01000109.1       efp             9288   \n",
       "\n",
       "   end_exclusive  length strand  temperature temperature_range  \\\n",
       "0         889266     390      -         26.0        mesophilic   \n",
       "1        1260502     329      +         26.0        mesophilic   \n",
       "2        2223522      95      -         26.0        mesophilic   \n",
       "3        2846323     116      -         26.0        mesophilic   \n",
       "4           9855     567      +         26.0        mesophilic   \n",
       "\n",
       "                                            sequence  gc_content  \n",
       "0  CCAGACGGTCGGGCGATCGCTGTTGCCTTTCAGGTGATGGAGGAAA...    0.638462  \n",
       "1  GACCTTGCGGAAGGTGATGCATACCCCTATCTTCATGAGTGCAGGA...    0.580547  \n",
       "2  AGAGGCCTGTGATGGACGGGCGCCTTGCCAACCCGGTCAGATCCGG...    0.610526  \n",
       "3  CCTGGTGGCTATGGCGGGGAGAGATCCACCCGATCCCATCCCGAAC...    0.629310  \n",
       "4  ATGAAACAGCAGGCGAACCTGATCCGGGCCGGACAGGTCATCGAGC...    0.569665  "
      ]
     },
     "execution_count": 5,
     "metadata": {},
     "output_type": "execute_result"
    }
   ],
   "source": [
    "dataset_df.head()"
   ]
  },
  {
   "cell_type": "code",
   "execution_count": 6,
   "metadata": {},
   "outputs": [],
   "source": [
    "y_str, balanced_dataset_df = make_dataset_balanced(\n",
    "    dataset_df, \n",
    "    cat_name='temperature_range',\n",
    "    classes=classes,\n",
    ")\n",
    "y = one_hot_encode_classes(y_str, classes)\n",
    "\n",
    "sequences = balanced_dataset_df['sequence'].values\n",
    "x = sequence_embedding(sequences, alphabet)\n",
    "\n",
    "x_train, y_train, x_test, y_test, train_idx, test_idx = split_train_test_set(\n",
    "    x, y, test_ratio=0.2, return_indices=True)"
   ]
  },
  {
   "cell_type": "code",
   "execution_count": 7,
   "metadata": {},
   "outputs": [],
   "source": [
    "output_train_path = os.path.join(os.getcwd(), 'data/dataset_train.csv')\n",
    "output_test_path = os.path.join(os.getcwd(), 'data/dataset_test.csv')\n",
    "unused_indices_path = os.path.join(os.getcwd(), 'data/dataset_unused_indices.csv')"
   ]
  },
  {
   "cell_type": "code",
   "execution_count": 8,
   "metadata": {},
   "outputs": [],
   "source": [
    "# balanced_dataset_df.iloc[train_idx].reset_index(drop=True).to_csv(output_train_path, index=False)\n",
    "# balanced_dataset_df.iloc[test_idx].reset_index(drop=True).to_csv(output_test_path, index=False)"
   ]
  },
  {
   "cell_type": "code",
   "execution_count": 9,
   "metadata": {},
   "outputs": [],
   "source": [
    "idx_set = set(train_idx) | set(test_idx)\n",
    "unused_indices = np.array([\n",
    "    idx for idx in range(len(dataset_df)) if idx not in idx_set\n",
    "])[:,np.newaxis]"
   ]
  },
  {
   "cell_type": "code",
   "execution_count": 10,
   "metadata": {},
   "outputs": [
    {
     "data": {
      "text/plain": [
       "(40791, 1)"
      ]
     },
     "execution_count": 10,
     "metadata": {},
     "output_type": "execute_result"
    }
   ],
   "source": [
    "unused_indices.shape"
   ]
  },
  {
   "cell_type": "code",
   "execution_count": 11,
   "metadata": {},
   "outputs": [],
   "source": [
    "# pd.DataFrame(unused_indices, columns=['index']).to_csv(unused_indices_path, index=False)"
   ]
  },
  {
   "cell_type": "code",
   "execution_count": 13,
   "metadata": {},
   "outputs": [
    {
     "name": "stdout",
     "output_type": "stream",
     "text": [
      "min 41\n",
      "max 4413\n",
      "mean 936.2871911628299\n",
      "std 707.6570982159337\n"
     ]
    }
   ],
   "source": [
    "l = [len(sequence) for sequence in dataset_df['sequence'].values]\n",
    "print('min', np.min(l))\n",
    "print('max', np.max(l))\n",
    "print('mean', np.mean(l))\n",
    "print('std', np.std(l))"
   ]
  },
  {
   "cell_type": "code",
   "execution_count": null,
   "metadata": {},
   "outputs": [],
   "source": []
  }
 ],
 "metadata": {
  "kernelspec": {
   "display_name": "Python 3",
   "language": "python",
   "name": "python3"
  },
  "language_info": {
   "codemirror_mode": {
    "name": "ipython",
    "version": 3
   },
   "file_extension": ".py",
   "mimetype": "text/x-python",
   "name": "python",
   "nbconvert_exporter": "python",
   "pygments_lexer": "ipython3",
   "version": "3.7.6"
  }
 },
 "nbformat": 4,
 "nbformat_minor": 2
}
