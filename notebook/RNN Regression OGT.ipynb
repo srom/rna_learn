{
 "cells": [
  {
   "cell_type": "code",
   "execution_count": 1,
   "metadata": {},
   "outputs": [],
   "source": [
    "import os\n",
    "\n",
    "import pandas as pd\n",
    "import numpy as np\n",
    "import tensorflow as tf\n",
    "\n",
    "if os.getcwd().endswith('notebook'):\n",
    "    os.chdir('..')\n",
    "\n",
    "from rna_learn.model import rnn_regression_model, compile_model\n",
    "from rna_learn.transform import sequence_embedding\n",
    "from rna_learn.load import load_rna_structure_dataset"
   ]
  },
  {
   "cell_type": "code",
   "execution_count": 2,
   "metadata": {},
   "outputs": [
    {
     "name": "stdout",
     "output_type": "stream",
     "text": [
      "Model: \"model\"\n",
      "__________________________________________________________________________________________________\n",
      "Layer (type)                    Output Shape         Param #     Connected to                     \n",
      "==================================================================================================\n",
      "sequence (InputLayer)           [(None, None, 3)]    0                                            \n",
      "__________________________________________________________________________________________________\n",
      "masking (Masking)               (None, None, 3)      0           sequence[0][0]                   \n",
      "__________________________________________________________________________________________________\n",
      "gru (GRU)                       (None, 100)          31500       masking[0][0]                    \n",
      "__________________________________________________________________________________________________\n",
      "logits (Dense)                  (None, 100)          10100       gru[0][0]                        \n",
      "__________________________________________________________________________________________________\n",
      "dropout (Dropout)               (None, 100)          0           logits[0][0]                     \n",
      "__________________________________________________________________________________________________\n",
      "loc (Dense)                     (None, 1)            101         dropout[0][0]                    \n",
      "__________________________________________________________________________________________________\n",
      "scale (Dense)                   (None, 1)            101         dropout[0][0]                    \n",
      "__________________________________________________________________________________________________\n",
      "concatenate (Concatenate)       (None, 2)            0           loc[0][0]                        \n",
      "                                                                 scale[0][0]                      \n",
      "__________________________________________________________________________________________________\n",
      "independent_normal (Independent ((None, 1), (None, 1 0           concatenate[0][0]                \n",
      "==================================================================================================\n",
      "Total params: 41,802\n",
      "Trainable params: 41,802\n",
      "Non-trainable params: 0\n",
      "__________________________________________________________________________________________________\n"
     ]
    }
   ],
   "source": [
    "model = rnn_regression_model(alphabet_size=3)\n",
    "model.summary()"
   ]
  },
  {
   "cell_type": "code",
   "execution_count": 3,
   "metadata": {},
   "outputs": [],
   "source": [
    "compile_model(model, learning_rate=1e-4)"
   ]
  },
  {
   "cell_type": "code",
   "execution_count": 4,
   "metadata": {},
   "outputs": [
    {
     "data": {
      "text/plain": [
       "(2, 33, 3)"
      ]
     },
     "execution_count": 4,
     "metadata": {},
     "output_type": "execute_result"
    }
   ],
   "source": [
    "alphabet=['.', '(', ')']\n",
    "sequences = [\n",
    "    '..................(((',\n",
    "    '...((((...)))).((((((((.(((.....)',\n",
    "]\n",
    "x = sequence_embedding(sequences, alphabet)\n",
    "x.shape"
   ]
  },
  {
   "cell_type": "code",
   "execution_count": 5,
   "metadata": {},
   "outputs": [
    {
     "data": {
      "text/plain": [
       "<tf.Tensor: id=2689, shape=(2, 1), dtype=float32, numpy=\n",
       "array([[-0.07895306],\n",
       "       [-0.04923508]], dtype=float32)>"
      ]
     },
     "execution_count": 5,
     "metadata": {},
     "output_type": "execute_result"
    }
   ],
   "source": [
    "model(x).mean()"
   ]
  },
  {
   "cell_type": "code",
   "execution_count": 6,
   "metadata": {},
   "outputs": [
    {
     "name": "stdout",
     "output_type": "stream",
     "text": [
      "CPU times: user 613 ms, sys: 302 ms, total: 915 ms\n",
      "Wall time: 927 ms\n"
     ]
    }
   ],
   "source": [
    "%%time\n",
    "sequences, metadata = load_rna_structure_dataset('data/tab/mrna.tab', 'data/seq/')"
   ]
  },
  {
   "cell_type": "code",
   "execution_count": 7,
   "metadata": {},
   "outputs": [
    {
     "data": {
      "text/html": [
       "<div>\n",
       "<style scoped>\n",
       "    .dataframe tbody tr th:only-of-type {\n",
       "        vertical-align: middle;\n",
       "    }\n",
       "\n",
       "    .dataframe tbody tr th {\n",
       "        vertical-align: top;\n",
       "    }\n",
       "\n",
       "    .dataframe thead th {\n",
       "        text-align: right;\n",
       "    }\n",
       "</style>\n",
       "<table border=\"1\" class=\"dataframe\">\n",
       "  <thead>\n",
       "    <tr style=\"text-align: right;\">\n",
       "      <th></th>\n",
       "      <th>sp</th>\n",
       "      <th>taxid</th>\n",
       "      <th>temp.cat</th>\n",
       "      <th>rna.type</th>\n",
       "      <th>temp</th>\n",
       "      <th>length</th>\n",
       "      <th>gc</th>\n",
       "      <th>paired</th>\n",
       "      <th>asa</th>\n",
       "      <th>sd.asa</th>\n",
       "      <th>maxmin.asa</th>\n",
       "      <th>mfe</th>\n",
       "      <th>mfe1</th>\n",
       "      <th>mfe2</th>\n",
       "      <th>mfe3</th>\n",
       "      <th>category</th>\n",
       "    </tr>\n",
       "  </thead>\n",
       "  <tbody>\n",
       "    <tr>\n",
       "      <th>0</th>\n",
       "      <td>Achromobacter denitrificans</td>\n",
       "      <td>32002</td>\n",
       "      <td>mRNA eno</td>\n",
       "      <td>mesophile</td>\n",
       "      <td>30</td>\n",
       "      <td>1281</td>\n",
       "      <td>0.711944</td>\n",
       "      <td>0.685402</td>\n",
       "      <td>159.123952</td>\n",
       "      <td>16.743722</td>\n",
       "      <td>112.4710</td>\n",
       "      <td>-687.0</td>\n",
       "      <td>-116.113844</td>\n",
       "      <td>-257.076746</td>\n",
       "      <td>-44.467685</td>\n",
       "      <td>mRNA eno</td>\n",
       "    </tr>\n",
       "    <tr>\n",
       "      <th>1</th>\n",
       "      <td>Acidithiobacillus ferrooxidans</td>\n",
       "      <td>920</td>\n",
       "      <td>mRNA eno</td>\n",
       "      <td>mesophile</td>\n",
       "      <td>31</td>\n",
       "      <td>1281</td>\n",
       "      <td>0.578454</td>\n",
       "      <td>0.661983</td>\n",
       "      <td>171.630226</td>\n",
       "      <td>11.805094</td>\n",
       "      <td>98.4460</td>\n",
       "      <td>-515.9</td>\n",
       "      <td>-84.663969</td>\n",
       "      <td>-85.976746</td>\n",
       "      <td>-13.017809</td>\n",
       "      <td>mRNA eno</td>\n",
       "    </tr>\n",
       "    <tr>\n",
       "      <th>2</th>\n",
       "      <td>Actinobacillus pleuropneumoniae</td>\n",
       "      <td>715</td>\n",
       "      <td>mRNA eno</td>\n",
       "      <td>mesophile</td>\n",
       "      <td>37</td>\n",
       "      <td>1311</td>\n",
       "      <td>0.421053</td>\n",
       "      <td>0.607170</td>\n",
       "      <td>141.066765</td>\n",
       "      <td>18.037808</td>\n",
       "      <td>127.2285</td>\n",
       "      <td>-369.0</td>\n",
       "      <td>-102.429906</td>\n",
       "      <td>71.401738</td>\n",
       "      <td>-20.539147</td>\n",
       "      <td>mRNA eno</td>\n",
       "    </tr>\n",
       "    <tr>\n",
       "      <th>3</th>\n",
       "      <td>Actinobacillus suis</td>\n",
       "      <td>716</td>\n",
       "      <td>mRNA eno</td>\n",
       "      <td>mesophile</td>\n",
       "      <td>37</td>\n",
       "      <td>1311</td>\n",
       "      <td>0.397407</td>\n",
       "      <td>0.639207</td>\n",
       "      <td>143.607326</td>\n",
       "      <td>18.291201</td>\n",
       "      <td>132.1183</td>\n",
       "      <td>-369.4</td>\n",
       "      <td>-127.567266</td>\n",
       "      <td>71.001738</td>\n",
       "      <td>-45.676507</td>\n",
       "      <td>mRNA eno</td>\n",
       "    </tr>\n",
       "    <tr>\n",
       "      <th>4</th>\n",
       "      <td>Aequorivita sublithincola</td>\n",
       "      <td>101385</td>\n",
       "      <td>mRNA eno</td>\n",
       "      <td>psychrophile</td>\n",
       "      <td>4</td>\n",
       "      <td>1287</td>\n",
       "      <td>0.397824</td>\n",
       "      <td>0.581197</td>\n",
       "      <td>177.095760</td>\n",
       "      <td>11.562361</td>\n",
       "      <td>90.4570</td>\n",
       "      <td>-323.9</td>\n",
       "      <td>-81.630144</td>\n",
       "      <td>108.118951</td>\n",
       "      <td>-7.935065</td>\n",
       "      <td>mRNA eno</td>\n",
       "    </tr>\n",
       "  </tbody>\n",
       "</table>\n",
       "</div>"
      ],
      "text/plain": [
       "                                sp   taxid  temp.cat      rna.type  temp  \\\n",
       "0      Achromobacter denitrificans   32002  mRNA eno     mesophile    30   \n",
       "1   Acidithiobacillus ferrooxidans     920  mRNA eno     mesophile    31   \n",
       "2  Actinobacillus pleuropneumoniae     715  mRNA eno     mesophile    37   \n",
       "3              Actinobacillus suis     716  mRNA eno     mesophile    37   \n",
       "4        Aequorivita sublithincola  101385  mRNA eno  psychrophile     4   \n",
       "\n",
       "   length        gc    paired         asa     sd.asa  maxmin.asa    mfe  \\\n",
       "0    1281  0.711944  0.685402  159.123952  16.743722    112.4710 -687.0   \n",
       "1    1281  0.578454  0.661983  171.630226  11.805094     98.4460 -515.9   \n",
       "2    1311  0.421053  0.607170  141.066765  18.037808    127.2285 -369.0   \n",
       "3    1311  0.397407  0.639207  143.607326  18.291201    132.1183 -369.4   \n",
       "4    1287  0.397824  0.581197  177.095760  11.562361     90.4570 -323.9   \n",
       "\n",
       "         mfe1        mfe2       mfe3  category  \n",
       "0 -116.113844 -257.076746 -44.467685  mRNA eno  \n",
       "1  -84.663969  -85.976746 -13.017809  mRNA eno  \n",
       "2 -102.429906   71.401738 -20.539147  mRNA eno  \n",
       "3 -127.567266   71.001738 -45.676507  mRNA eno  \n",
       "4  -81.630144  108.118951  -7.935065  mRNA eno  "
      ]
     },
     "execution_count": 7,
     "metadata": {},
     "output_type": "execute_result"
    }
   ],
   "source": [
    "metadata.head()"
   ]
  },
  {
   "cell_type": "code",
   "execution_count": 13,
   "metadata": {},
   "outputs": [
    {
     "name": "stdout",
     "output_type": "stream",
     "text": [
      "..................(((((((..((.(((((((((((((((((....(((((((((((.(((((((..((((....((((((((((...(((...)))..)))))))))))))))))))))(((((.((((...((((.(((((((.(((.((....)).)))))))).)).))))..((((((((((((((((..((((.((((....)))).))))))))))((..(((((((((....))))...))))).))((((.((((.((.....)).)))).)))).)))))))))).......((((((.(((((....))))).)).))))..(((((((((((((((.......))))))....))))))))).((((((((((((((.....((((((((((....))..)))))))))))))).(((((....)))))..)))))))))))).))))).........)))))...(((((........)))))..))))))((((((.....))))))..((((.......))))(((.((((((...)))))))))((((((((((...)).)))))))).((((((...((.(((((.((...(((((.(((...))).))))).)).)))))))...)))))).............((.((((((((((((((((((((.(((..((.((((......(((((((((((....))).)))))))).......((((((...)))))).((((.....))))...((((((((..((....))..)))))))).)))).)).))))))))))))))))(((.........)))))))))).)).((((...))))(((((.((((((((.((((.......(((((((...)))))))))))(((((((....))))))))))))))))))))........))))))))).)))))...))).))((((((((...((....))...))))))))..((((.....))))(((((.((..(((....)))..))))))).(((((((((((((((((((((...(((((((((.(.(((...(((....)))....))).).))))).(((((((.....)))))))((((((...(((((............((((.(((....))).)))).)))))..............((((((.(((((.....)))))...)))))).))))))))))...))))))).)))))))))))))))).)))))...\n"
     ]
    },
    {
     "data": {
      "text/plain": [
       "sp            Achromobacter denitrificans\n",
       "taxid                               32002\n",
       "temp.cat                         mRNA eno\n",
       "rna.type                        mesophile\n",
       "temp                                   30\n",
       "length                               1281\n",
       "gc                               0.711944\n",
       "paired                           0.685402\n",
       "asa                               159.124\n",
       "sd.asa                            16.7437\n",
       "maxmin.asa                        112.471\n",
       "mfe                                  -687\n",
       "mfe1                             -116.114\n",
       "mfe2                             -257.077\n",
       "mfe3                             -44.4677\n",
       "category                         mRNA eno\n",
       "Name: 0, dtype: object"
      ]
     },
     "execution_count": 13,
     "metadata": {},
     "output_type": "execute_result"
    }
   ],
   "source": [
    "print(sequences[0])\n",
    "metadata.iloc[0]"
   ]
  },
  {
   "cell_type": "code",
   "execution_count": 14,
   "metadata": {},
   "outputs": [
    {
     "name": "stdout",
     "output_type": "stream",
     "text": [
      "CPU times: user 11.4 s, sys: 823 ms, total: 12.3 s\n",
      "Wall time: 12.4 s\n"
     ]
    },
    {
     "data": {
      "text/plain": [
       "(9624, 4725, 3)"
      ]
     },
     "execution_count": 14,
     "metadata": {},
     "output_type": "execute_result"
    }
   ],
   "source": [
    "%%time\n",
    "x = sequence_embedding(sequences, alphabet)\n",
    "x.shape"
   ]
  },
  {
   "cell_type": "code",
   "execution_count": 21,
   "metadata": {},
   "outputs": [
    {
     "data": {
      "image/png": "[encoded data removed]",
      "text/plain": [
       "<Figure size 432x288 with 1 Axes>"
      ]
     },
     "metadata": {
      "needs_background": "light"
     },
     "output_type": "display_data"
    }
   ],
   "source": [
    "y = metadata['temp']\n",
    "y.hist();"
   ]
  },
  {
   "cell_type": "code",
   "execution_count": null,
   "metadata": {},
   "outputs": [],
   "source": []
  }
 ],
 "metadata": {
  "kernelspec": {
   "display_name": "Python 3",
   "language": "python",
   "name": "python3"
  },
  "language_info": {
   "codemirror_mode": {
    "name": "ipython",
    "version": 3
   },
   "file_extension": ".py",
   "mimetype": "text/x-python",
   "name": "python",
   "nbconvert_exporter": "python",
   "pygments_lexer": "ipython3",
   "version": "3.7.5"
  }
 },
 "nbformat": 4,
 "nbformat_minor": 2
}
