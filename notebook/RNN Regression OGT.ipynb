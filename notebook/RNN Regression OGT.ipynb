{
 "cells": [
  {
   "cell_type": "code",
   "execution_count": 1,
   "metadata": {},
   "outputs": [],
   "source": [
    "import os\n",
    "\n",
    "import numpy as np\n",
    "import tensorflow as tf\n",
    "\n",
    "if os.getcwd().endswith('notebook'):\n",
    "    os.chdir('..')\n",
    "\n",
    "from rna_learn.model import rnn_regression_model, compile_model\n",
    "from rna_learn.transform import sequence_embedding"
   ]
  },
  {
   "cell_type": "code",
   "execution_count": 2,
   "metadata": {},
   "outputs": [
    {
     "name": "stdout",
     "output_type": "stream",
     "text": [
      "Model: \"model\"\n",
      "__________________________________________________________________________________________________\n",
      "Layer (type)                    Output Shape         Param #     Connected to                     \n",
      "==================================================================================================\n",
      "sequence (InputLayer)           [(None, None, 3)]    0                                            \n",
      "__________________________________________________________________________________________________\n",
      "masking (Masking)               (None, None, 3)      0           sequence[0][0]                   \n",
      "__________________________________________________________________________________________________\n",
      "gru (GRU)                       (None, 100)          31500       masking[0][0]                    \n",
      "__________________________________________________________________________________________________\n",
      "logits (Dense)                  (None, 100)          10100       gru[0][0]                        \n",
      "__________________________________________________________________________________________________\n",
      "dropout (Dropout)               (None, 100)          0           logits[0][0]                     \n",
      "__________________________________________________________________________________________________\n",
      "loc (Dense)                     (None, 1)            101         dropout[0][0]                    \n",
      "__________________________________________________________________________________________________\n",
      "scale (Dense)                   (None, 1)            101         dropout[0][0]                    \n",
      "__________________________________________________________________________________________________\n",
      "concatenate (Concatenate)       (None, 2)            0           loc[0][0]                        \n",
      "                                                                 scale[0][0]                      \n",
      "__________________________________________________________________________________________________\n",
      "independent_normal (Independent ((None, 1), (None, 1 0           concatenate[0][0]                \n",
      "==================================================================================================\n",
      "Total params: 41,802\n",
      "Trainable params: 41,802\n",
      "Non-trainable params: 0\n",
      "__________________________________________________________________________________________________\n"
     ]
    }
   ],
   "source": [
    "model = rnn_regression_model(alphabet_size=3)\n",
    "model.summary()"
   ]
  },
  {
   "cell_type": "code",
   "execution_count": 3,
   "metadata": {},
   "outputs": [],
   "source": [
    "compile_model(model, learning_rate=1e-4)"
   ]
  },
  {
   "cell_type": "code",
   "execution_count": 4,
   "metadata": {},
   "outputs": [
    {
     "data": {
      "text/plain": [
       "(2, 33, 3)"
      ]
     },
     "execution_count": 4,
     "metadata": {},
     "output_type": "execute_result"
    }
   ],
   "source": [
    "alphabet=['.', '(', ')']\n",
    "sequences = [\n",
    "    '..................(((',\n",
    "    '...((((...)))).((((((((.(((.....)',\n",
    "]\n",
    "x = sequence_embedding(sequences, alphabet)\n",
    "x.shape"
   ]
  },
  {
   "cell_type": "code",
   "execution_count": 5,
   "metadata": {},
   "outputs": [
    {
     "data": {
      "text/plain": [
       "<tf.Tensor: id=2717, shape=(2, 1), dtype=float32, numpy=\n",
       "array([[0.11563063],\n",
       "       [0.04557621]], dtype=float32)>"
      ]
     },
     "execution_count": 5,
     "metadata": {},
     "output_type": "execute_result"
    }
   ],
   "source": [
    "model(x).mean()"
   ]
  },
  {
   "cell_type": "code",
   "execution_count": null,
   "metadata": {},
   "outputs": [],
   "source": []
  }
 ],
 "metadata": {
  "kernelspec": {
   "display_name": "Python 3",
   "language": "python",
   "name": "python3"
  },
  "language_info": {
   "codemirror_mode": {
    "name": "ipython",
    "version": 3
   },
   "file_extension": ".py",
   "mimetype": "text/x-python",
   "name": "python",
   "nbconvert_exporter": "python",
   "pygments_lexer": "ipython3",
   "version": "3.7.5"
  }
 },
 "nbformat": 4,
 "nbformat_minor": 2
}
