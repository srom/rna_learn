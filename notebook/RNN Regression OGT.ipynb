{
 "cells": [
  {
   "cell_type": "code",
   "execution_count": 1,
   "metadata": {},
   "outputs": [],
   "source": [
    "import os\n",
    "\n",
    "import pandas as pd\n",
    "import numpy as np\n",
    "import tensorflow as tf\n",
    "import matplotlib.pyplot as plt\n",
    "import seaborn as sns\n",
    "\n",
    "if os.getcwd().endswith('notebook'):\n",
    "    os.chdir('..')\n",
    "\n",
    "from rna_learn.model import (\n",
    "    rnn_regression_model, \n",
    "    compile_regression_model,\n",
    ")\n",
    "from rna_learn.transform import sequence_embedding, normalize, denormalize\n",
    "from rna_learn.load import load_rna_structure_dataset"
   ]
  },
  {
   "cell_type": "code",
   "execution_count": 2,
   "metadata": {},
   "outputs": [],
   "source": [
    "np.random.seed(444)\n",
    "\n",
    "sns.set(palette='colorblind', font_scale=1.3)"
   ]
  },
  {
   "cell_type": "markdown",
   "metadata": {},
   "source": [
    "## Model"
   ]
  },
  {
   "cell_type": "code",
   "execution_count": 3,
   "metadata": {},
   "outputs": [
    {
     "name": "stdout",
     "output_type": "stream",
     "text": [
      "Model: \"model\"\n",
      "__________________________________________________________________________________________________\n",
      "Layer (type)                    Output Shape         Param #     Connected to                     \n",
      "==================================================================================================\n",
      "sequence (InputLayer)           [(None, None, 3)]    0                                            \n",
      "__________________________________________________________________________________________________\n",
      "masking (Masking)               (None, None, 3)      0           sequence[0][0]                   \n",
      "__________________________________________________________________________________________________\n",
      "lstm (LSTM)                     (None, 100)          41600       masking[0][0]                    \n",
      "__________________________________________________________________________________________________\n",
      "logits (Dense)                  (None, 100)          10100       lstm[0][0]                       \n",
      "__________________________________________________________________________________________________\n",
      "dropout (Dropout)               (None, 100)          0           logits[0][0]                     \n",
      "__________________________________________________________________________________________________\n",
      "loc (Dense)                     (None, 1)            101         dropout[0][0]                    \n",
      "__________________________________________________________________________________________________\n",
      "scale (Dense)                   (None, 1)            101         dropout[0][0]                    \n",
      "__________________________________________________________________________________________________\n",
      "concatenate (Concatenate)       (None, 2)            0           loc[0][0]                        \n",
      "                                                                 scale[0][0]                      \n",
      "__________________________________________________________________________________________________\n",
      "independent_normal (Independent ((None, 1), (None, 1 0           concatenate[0][0]                \n",
      "==================================================================================================\n",
      "Total params: 51,902\n",
      "Trainable params: 51,902\n",
      "Non-trainable params: 0\n",
      "__________________________________________________________________________________________________\n"
     ]
    }
   ],
   "source": [
    "alphabet = ['.', '(', ')']\n",
    "alphabet_size = len(alphabet)\n",
    "    \n",
    "model = rnn_regression_model(alphabet_size=alphabet_size)\n",
    "model.summary()"
   ]
  },
  {
   "cell_type": "code",
   "execution_count": 4,
   "metadata": {},
   "outputs": [],
   "source": [
    "compile_regression_model(model, learning_rate=1e-4)"
   ]
  },
  {
   "cell_type": "code",
   "execution_count": 5,
   "metadata": {},
   "outputs": [],
   "source": [
    "model_path = 'saved_models/mrna_learn.h5'\n",
    "model.load_weights(model_path)"
   ]
  },
  {
   "cell_type": "markdown",
   "metadata": {},
   "source": [
    "## Data"
   ]
  },
  {
   "cell_type": "code",
   "execution_count": 6,
   "metadata": {},
   "outputs": [
    {
     "name": "stdout",
     "output_type": "stream",
     "text": [
      "CPU times: user 558 ms, sys: 269 ms, total: 827 ms\n",
      "Wall time: 827 ms\n"
     ]
    }
   ],
   "source": [
    "%%time\n",
    "metadata = pd.read_csv('data/tab/mrna.tab', delimiter='\\t')\n",
    "metadata['category'] = metadata['temp.cat']\n",
    "\n",
    "sequences = load_rna_structure_dataset(metadata, 'data/seq/')"
   ]
  },
  {
   "cell_type": "code",
   "execution_count": 7,
   "metadata": {},
   "outputs": [
    {
     "data": {
      "text/html": [
       "<div>\n",
       "<style scoped>\n",
       "    .dataframe tbody tr th:only-of-type {\n",
       "        vertical-align: middle;\n",
       "    }\n",
       "\n",
       "    .dataframe tbody tr th {\n",
       "        vertical-align: top;\n",
       "    }\n",
       "\n",
       "    .dataframe thead th {\n",
       "        text-align: right;\n",
       "    }\n",
       "</style>\n",
       "<table border=\"1\" class=\"dataframe\">\n",
       "  <thead>\n",
       "    <tr style=\"text-align: right;\">\n",
       "      <th></th>\n",
       "      <th>sp</th>\n",
       "      <th>taxid</th>\n",
       "      <th>temp.cat</th>\n",
       "      <th>rna.type</th>\n",
       "      <th>temp</th>\n",
       "      <th>length</th>\n",
       "      <th>gc</th>\n",
       "      <th>paired</th>\n",
       "      <th>asa</th>\n",
       "      <th>sd.asa</th>\n",
       "      <th>maxmin.asa</th>\n",
       "      <th>mfe</th>\n",
       "      <th>mfe1</th>\n",
       "      <th>mfe2</th>\n",
       "      <th>mfe3</th>\n",
       "      <th>category</th>\n",
       "    </tr>\n",
       "  </thead>\n",
       "  <tbody>\n",
       "    <tr>\n",
       "      <th>0</th>\n",
       "      <td>Achromobacter denitrificans</td>\n",
       "      <td>32002</td>\n",
       "      <td>mRNA eno</td>\n",
       "      <td>mesophile</td>\n",
       "      <td>30</td>\n",
       "      <td>1281</td>\n",
       "      <td>0.711944</td>\n",
       "      <td>0.685402</td>\n",
       "      <td>159.123952</td>\n",
       "      <td>16.743722</td>\n",
       "      <td>112.4710</td>\n",
       "      <td>-687.0</td>\n",
       "      <td>-116.113844</td>\n",
       "      <td>-257.076746</td>\n",
       "      <td>-44.467685</td>\n",
       "      <td>mRNA eno</td>\n",
       "    </tr>\n",
       "    <tr>\n",
       "      <th>1</th>\n",
       "      <td>Acidithiobacillus ferrooxidans</td>\n",
       "      <td>920</td>\n",
       "      <td>mRNA eno</td>\n",
       "      <td>mesophile</td>\n",
       "      <td>31</td>\n",
       "      <td>1281</td>\n",
       "      <td>0.578454</td>\n",
       "      <td>0.661983</td>\n",
       "      <td>171.630226</td>\n",
       "      <td>11.805094</td>\n",
       "      <td>98.4460</td>\n",
       "      <td>-515.9</td>\n",
       "      <td>-84.663969</td>\n",
       "      <td>-85.976746</td>\n",
       "      <td>-13.017809</td>\n",
       "      <td>mRNA eno</td>\n",
       "    </tr>\n",
       "    <tr>\n",
       "      <th>2</th>\n",
       "      <td>Actinobacillus pleuropneumoniae</td>\n",
       "      <td>715</td>\n",
       "      <td>mRNA eno</td>\n",
       "      <td>mesophile</td>\n",
       "      <td>37</td>\n",
       "      <td>1311</td>\n",
       "      <td>0.421053</td>\n",
       "      <td>0.607170</td>\n",
       "      <td>141.066765</td>\n",
       "      <td>18.037808</td>\n",
       "      <td>127.2285</td>\n",
       "      <td>-369.0</td>\n",
       "      <td>-102.429906</td>\n",
       "      <td>71.401738</td>\n",
       "      <td>-20.539147</td>\n",
       "      <td>mRNA eno</td>\n",
       "    </tr>\n",
       "    <tr>\n",
       "      <th>3</th>\n",
       "      <td>Actinobacillus suis</td>\n",
       "      <td>716</td>\n",
       "      <td>mRNA eno</td>\n",
       "      <td>mesophile</td>\n",
       "      <td>37</td>\n",
       "      <td>1311</td>\n",
       "      <td>0.397407</td>\n",
       "      <td>0.639207</td>\n",
       "      <td>143.607326</td>\n",
       "      <td>18.291201</td>\n",
       "      <td>132.1183</td>\n",
       "      <td>-369.4</td>\n",
       "      <td>-127.567266</td>\n",
       "      <td>71.001738</td>\n",
       "      <td>-45.676507</td>\n",
       "      <td>mRNA eno</td>\n",
       "    </tr>\n",
       "    <tr>\n",
       "      <th>4</th>\n",
       "      <td>Aequorivita sublithincola</td>\n",
       "      <td>101385</td>\n",
       "      <td>mRNA eno</td>\n",
       "      <td>psychrophile</td>\n",
       "      <td>4</td>\n",
       "      <td>1287</td>\n",
       "      <td>0.397824</td>\n",
       "      <td>0.581197</td>\n",
       "      <td>177.095760</td>\n",
       "      <td>11.562361</td>\n",
       "      <td>90.4570</td>\n",
       "      <td>-323.9</td>\n",
       "      <td>-81.630144</td>\n",
       "      <td>108.118951</td>\n",
       "      <td>-7.935065</td>\n",
       "      <td>mRNA eno</td>\n",
       "    </tr>\n",
       "  </tbody>\n",
       "</table>\n",
       "</div>"
      ],
      "text/plain": [
       "                                sp   taxid  temp.cat      rna.type  temp  \\\n",
       "0      Achromobacter denitrificans   32002  mRNA eno     mesophile    30   \n",
       "1   Acidithiobacillus ferrooxidans     920  mRNA eno     mesophile    31   \n",
       "2  Actinobacillus pleuropneumoniae     715  mRNA eno     mesophile    37   \n",
       "3              Actinobacillus suis     716  mRNA eno     mesophile    37   \n",
       "4        Aequorivita sublithincola  101385  mRNA eno  psychrophile     4   \n",
       "\n",
       "   length        gc    paired         asa     sd.asa  maxmin.asa    mfe  \\\n",
       "0    1281  0.711944  0.685402  159.123952  16.743722    112.4710 -687.0   \n",
       "1    1281  0.578454  0.661983  171.630226  11.805094     98.4460 -515.9   \n",
       "2    1311  0.421053  0.607170  141.066765  18.037808    127.2285 -369.0   \n",
       "3    1311  0.397407  0.639207  143.607326  18.291201    132.1183 -369.4   \n",
       "4    1287  0.397824  0.581197  177.095760  11.562361     90.4570 -323.9   \n",
       "\n",
       "         mfe1        mfe2       mfe3  category  \n",
       "0 -116.113844 -257.076746 -44.467685  mRNA eno  \n",
       "1  -84.663969  -85.976746 -13.017809  mRNA eno  \n",
       "2 -102.429906   71.401738 -20.539147  mRNA eno  \n",
       "3 -127.567266   71.001738 -45.676507  mRNA eno  \n",
       "4  -81.630144  108.118951  -7.935065  mRNA eno  "
      ]
     },
     "execution_count": 7,
     "metadata": {},
     "output_type": "execute_result"
    }
   ],
   "source": [
    "metadata.head()"
   ]
  },
  {
   "cell_type": "code",
   "execution_count": 8,
   "metadata": {},
   "outputs": [
    {
     "name": "stdout",
     "output_type": "stream",
     "text": [
      "CPU times: user 12 s, sys: 707 ms, total: 12.7 s\n",
      "Wall time: 12.7 s\n"
     ]
    }
   ],
   "source": [
    "%%time\n",
    "x = sequence_embedding(sequences, alphabet)\n",
    "y = metadata['temp'].values.astype(np.float32)"
   ]
  },
  {
   "cell_type": "code",
   "execution_count": 9,
   "metadata": {},
   "outputs": [],
   "source": [
    "n_seq = len(sequences)\n",
    "test_idx = np.random.choice(range(n_seq), size=int(0.2 * n_seq), replace=False)\n",
    "test_idx_set = set(test_idx.tolist())\n",
    "train_idx = np.array([idx for idx in range(n_seq) if idx not in test_idx_set])\n",
    "\n",
    "mean, std = np.mean(y), np.std(y)\n",
    "\n",
    "x_test, y_test = x[test_idx], y[test_idx]\n",
    "x_train, y_train = x[train_idx], y[train_idx]\n",
    "\n",
    "y_test_norm = normalize(y_test, mean, std)\n",
    "y_train_norm = normalize(y_train, mean, std)"
   ]
  },
  {
   "cell_type": "code",
   "execution_count": 10,
   "metadata": {},
   "outputs": [
    {
     "data": {
      "image/png": "[encoded data removed]",
      "text/plain": [
       "<Figure size 1152x360 with 3 Axes>"
      ]
     },
     "metadata": {},
     "output_type": "display_data"
    }
   ],
   "source": [
    "f, axes = plt.subplots(1, 3, figsize=(16, 5))\n",
    "axes = axes.flatten()\n",
    "metadata['temp'].hist(ax=axes[0]);\n",
    "axes[0].set_title('Temperature histogram (all)')\n",
    "metadata['temp'].iloc[train_idx].hist(ax=axes[1]);\n",
    "axes[1].set_title('Temperature histogram (train)')\n",
    "metadata['temp'].iloc[test_idx].hist(ax=axes[2]);\n",
    "axes[2].set_title('Temperature histogram (test)');"
   ]
  },
  {
   "cell_type": "markdown",
   "metadata": {},
   "source": [
    "## Evaluation"
   ]
  },
  {
   "cell_type": "code",
   "execution_count": 11,
   "metadata": {},
   "outputs": [
    {
     "name": "stdout",
     "output_type": "stream",
     "text": [
      "CPU times: user 1min 9s, sys: 16.3 s, total: 1min 26s\n",
      "Wall time: 30.8 s\n"
     ]
    },
    {
     "data": {
      "text/plain": [
       "1.4434865088571878"
      ]
     },
     "execution_count": 11,
     "metadata": {},
     "output_type": "execute_result"
    }
   ],
   "source": [
    "%%time\n",
    "model.evaluate(x_test, y_test_norm, verbose=0)"
   ]
  },
  {
   "cell_type": "code",
   "execution_count": 13,
   "metadata": {},
   "outputs": [
    {
     "name": "stdout",
     "output_type": "stream",
     "text": [
      "CPU times: user 1min 22s, sys: 1min 52s, total: 3min 15s\n",
      "Wall time: 42.7 s\n"
     ]
    }
   ],
   "source": [
    "%%time\n",
    "y_hat = model(x_test)\n",
    "y_hat_mean = y_hat.mean()\n",
    "y_mean = denormalize(y_hat_mean, mean, std)\n",
    "y_std = denormalize(y_hat.stddev(), mean, std)"
   ]
  },
  {
   "cell_type": "code",
   "execution_count": 23,
   "metadata": {},
   "outputs": [],
   "source": [
    "def plot_true_vs_prediction_scatter(metadata, y_true, y_pred):\n",
    "    f, ax = plt.subplots(1, 1, figsize=(8, 8))\n",
    "    \n",
    "    palette = sns.color_palette()\n",
    "    \n",
    "    for i, tpl in enumerate(metadata.itertuples()):\n",
    "        y_t = y_true[i]\n",
    "        y_p = y_pred[i]\n",
    "        ax.plot(y_t, y_p, 'o', color=palette[0])\n",
    "    \n",
    "    x_straight = range(0, 100)\n",
    "    ax.plot(x_straight, x_straight, '--', color=palette[1], alpha=0.5)\n",
    "    \n",
    "    ax.set_xlabel('Temperature °C (true)')\n",
    "    ax.set_ylabel('Temperature °C (prediction)')"
   ]
  },
  {
   "cell_type": "code",
   "execution_count": 24,
   "metadata": {},
   "outputs": [
    {
     "data": {
      "image/png": "[encoded data removed]",
      "text/plain": [
       "<Figure size 576x576 with 1 Axes>"
      ]
     },
     "metadata": {},
     "output_type": "display_data"
    }
   ],
   "source": [
    "plot_true_vs_prediction_scatter(metadata.iloc[test_idx], y_test, y_mean)"
   ]
  },
  {
   "cell_type": "code",
   "execution_count": null,
   "metadata": {},
   "outputs": [],
   "source": []
  }
 ],
 "metadata": {
  "kernelspec": {
   "display_name": "Python 3",
   "language": "python",
   "name": "python3"
  },
  "language_info": {
   "codemirror_mode": {
    "name": "ipython",
    "version": 3
   },
   "file_extension": ".py",
   "mimetype": "text/x-python",
   "name": "python",
   "nbconvert_exporter": "python",
   "pygments_lexer": "ipython3",
   "version": "3.7.5"
  }
 },
 "nbformat": 4,
 "nbformat_minor": 2
}
