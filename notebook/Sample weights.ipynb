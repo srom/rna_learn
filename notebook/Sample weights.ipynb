{
 "cells": [
  {
   "cell_type": "code",
   "execution_count": 1,
   "metadata": {},
   "outputs": [],
   "source": [
    "import os\n",
    "\n",
    "import pandas as pd\n",
    "import numpy as np\n",
    "import matplotlib.pyplot as plt\n",
    "import seaborn as sns\n",
    "from sqlalchemy import create_engine\n",
    "\n",
    "if os.getcwd().endswith('notebook'):\n",
    "    os.chdir('..')"
   ]
  },
  {
   "cell_type": "code",
   "execution_count": 2,
   "metadata": {},
   "outputs": [],
   "source": [
    "sns.set(palette='colorblind', font_scale=1.3)"
   ]
  },
  {
   "cell_type": "code",
   "execution_count": 3,
   "metadata": {},
   "outputs": [],
   "source": [
    "db_path = os.path.join(os.getcwd(), 'data/condensed_traits/db/seq.db')\n",
    "engine = create_engine(f'sqlite+pysqlite:///{db_path}')"
   ]
  },
  {
   "cell_type": "code",
   "execution_count": 4,
   "metadata": {},
   "outputs": [],
   "source": [
    "growth_temperatures = pd.read_sql(\n",
    "    'select growth_tmp from species_traits',\n",
    "    engine,\n",
    ")['growth_tmp'].values"
   ]
  },
  {
   "cell_type": "code",
   "execution_count": 5,
   "metadata": {},
   "outputs": [
    {
     "data": {
      "text/plain": [
       "array([  4,   5,   8,   9,  10,  11,  12,  14,  15,  16,  17,  18,  20,\n",
       "        21,  22,  23,  24,  25,  26,  27,  28,  29,  30,  31,  32,  33,\n",
       "        34,  35,  36,  37,  38,  39,  40,  41,  42,  43,  44,  45,  46,\n",
       "        47,  48,  50,  51,  52,  53,  54,  55,  56,  57,  58,  59,  60,\n",
       "        61,  62,  63,  64,  65,  66,  67,  68,  69,  70,  71,  72,  73,\n",
       "        74,  75,  76,  77,  78,  79,  80,  81,  83,  84,  85,  86,  87,\n",
       "        88,  89,  90,  94,  95,  97,  98,  99, 100, 103, 104])"
      ]
     },
     "execution_count": 5,
     "metadata": {},
     "output_type": "execute_result"
    }
   ],
   "source": [
    "unique_rounded_temperatures = np.unique([int(round(t)) for t in growth_temperatures])\n",
    "unique_rounded_temperatures"
   ]
  },
  {
   "cell_type": "code",
   "execution_count": 6,
   "metadata": {},
   "outputs": [],
   "source": [
    "min_ = int(np.floor(np.min(growth_temperatures)))\n",
    "max_ = int(np.ceil(np.max(growth_temperatures)))\n",
    "step = 3\n",
    "bins = list(range(min_, max_, step)) + [max_]"
   ]
  },
  {
   "cell_type": "code",
   "execution_count": 7,
   "metadata": {},
   "outputs": [
    {
     "data": {
      "image/png": "[encoded data removed]",
      "text/plain": [
       "<Figure size 864x432 with 1 Axes>"
      ]
     },
     "metadata": {},
     "output_type": "display_data"
    }
   ],
   "source": [
    "_, ax = plt.subplots(1, 1, figsize=(12, 6))\n",
    "ax.hist(growth_temperatures, bins=bins, log=True);"
   ]
  },
  {
   "cell_type": "code",
   "execution_count": 8,
   "metadata": {},
   "outputs": [],
   "source": [
    "def compute_inverse_probability_weights(growth_temperatures, step=3):\n",
    "    min_ = int(np.floor(np.min(growth_temperatures)))\n",
    "    max_ = int(np.ceil(np.max(growth_temperatures)))\n",
    "    bins = list(range(min_, max_, step)) + [max_]\n",
    "    total = len(growth_temperatures)\n",
    "    values, _ = np.histogram(growth_temperatures, bins)\n",
    "    weights_dict = {\n",
    "        b: total / values[i]\n",
    "        for i, b in enumerate(bins[:-1])\n",
    "    }\n",
    "    return weights_dict, bins"
   ]
  },
  {
   "cell_type": "code",
   "execution_count": 9,
   "metadata": {},
   "outputs": [],
   "source": [
    "weights_dict, bins = compute_inverse_probability_weights(growth_temperatures)"
   ]
  },
  {
   "cell_type": "code",
   "execution_count": 10,
   "metadata": {
    "scrolled": false
   },
   "outputs": [
    {
     "data": {
      "text/plain": [
       "{4: 566.25,\n",
       " 7: 566.25,\n",
       " 10: 453.0,\n",
       " 13: 323.57142857142856,\n",
       " 16: 205.9090909090909,\n",
       " 19: 80.89285714285714,\n",
       " 22: 48.191489361702125,\n",
       " 25: 8.451492537313433,\n",
       " 28: 2.9038461538461537,\n",
       " 31: 14.51923076923077,\n",
       " 34: 10.889423076923077,\n",
       " 37: 4.641393442622951,\n",
       " 40: 113.25,\n",
       " 43: 188.75,\n",
       " 46: 226.5,\n",
       " 49: 141.5625,\n",
       " 52: 283.125,\n",
       " 55: 75.5,\n",
       " 58: 107.85714285714286,\n",
       " 61: 283.125,\n",
       " 64: 174.23076923076923,\n",
       " 67: 133.23529411764707,\n",
       " 70: 151.0,\n",
       " 73: 161.78571428571428,\n",
       " 76: 453.0,\n",
       " 79: 102.95454545454545,\n",
       " 82: 251.66666666666666,\n",
       " 85: 133.23529411764707,\n",
       " 88: 205.9090909090909,\n",
       " 91: 2265.0,\n",
       " 94: 1132.5,\n",
       " 97: 453.0,\n",
       " 100: 2265.0,\n",
       " 103: 1132.5}"
      ]
     },
     "execution_count": 10,
     "metadata": {},
     "output_type": "execute_result"
    }
   ],
   "source": [
    "weights_dict"
   ]
  },
  {
   "cell_type": "code",
   "execution_count": 11,
   "metadata": {},
   "outputs": [],
   "source": [
    "def assign_weight_to_batch_values(growth_temperatures, weights_dict, bins, dtype='float32'):\n",
    "    index = np.digitize(growth_temperatures, bins)\n",
    "    weights_u = np.array(\n",
    "        [weights_dict[bins[ix-1]] for ix in index],\n",
    "        dtype=dtype,\n",
    "    )\n",
    "    return weights_u / np.sum(weights_u)"
   ]
  },
  {
   "cell_type": "code",
   "execution_count": 12,
   "metadata": {},
   "outputs": [
    {
     "data": {
      "text/plain": [
       "64"
      ]
     },
     "execution_count": 12,
     "metadata": {},
     "output_type": "execute_result"
    }
   ],
   "source": [
    "weights = assign_weight_to_batch_values(\n",
    "    np.random.choice(growth_temperatures, size=64, replace=False),\n",
    "    weights_dict, \n",
    "    bins,\n",
    ")\n",
    "len(weights)"
   ]
  },
  {
   "cell_type": "code",
   "execution_count": 13,
   "metadata": {},
   "outputs": [
    {
     "data": {
      "text/plain": [
       "array([0.00372971, 0.07052533, 0.00158971, 0.11082552, 0.07052533,\n",
       "       0.00372971, 0.00372971, 0.00099459, 0.00158971, 0.00372971,\n",
       "       0.00099459, 0.00099459, 0.0028947 , 0.00372971, 0.00158971,\n",
       "       0.0028947 , 0.00158971, 0.0028947 , 0.00372971, 0.19394466,\n",
       "       0.00099459, 0.00099459, 0.00099459, 0.00099459, 0.00497294,\n",
       "       0.00099459, 0.00372971, 0.00158971, 0.0028947 , 0.00158971,\n",
       "       0.00158971, 0.00158971, 0.00099459, 0.0028947 , 0.00099459,\n",
       "       0.00099459, 0.00158971, 0.00099459, 0.04848617, 0.05967528,\n",
       "       0.00158971, 0.00099459, 0.04563404, 0.00099459, 0.15515573,\n",
       "       0.0028947 , 0.00158971, 0.0028947 , 0.00099459, 0.00372971,\n",
       "       0.00158971, 0.00372971, 0.00099459, 0.00099459, 0.00372971,\n",
       "       0.00099459, 0.07757787, 0.00158971, 0.00099459, 0.00099459,\n",
       "       0.05967528, 0.0028947 , 0.00099459, 0.00099459], dtype=float32)"
      ]
     },
     "execution_count": 13,
     "metadata": {},
     "output_type": "execute_result"
    }
   ],
   "source": [
    "weights"
   ]
  },
  {
   "cell_type": "code",
   "execution_count": 14,
   "metadata": {},
   "outputs": [
    {
     "data": {
      "text/plain": [
       "2265"
      ]
     },
     "execution_count": 14,
     "metadata": {},
     "output_type": "execute_result"
    }
   ],
   "source": [
    "weights = assign_weight_to_batch_values(\n",
    "    growth_temperatures,\n",
    "    weights_dict, \n",
    "    bins,\n",
    ")\n",
    "len(weights)"
   ]
  },
  {
   "cell_type": "code",
   "execution_count": 15,
   "metadata": {},
   "outputs": [],
   "source": [
    "def mae(y_true, y_pred, weights=None):\n",
    "    return np.average(np.abs(y_true - y_pred), weights=weights)"
   ]
  },
  {
   "cell_type": "code",
   "execution_count": 16,
   "metadata": {},
   "outputs": [
    {
     "data": {
      "text/plain": [
       "34.99763222958057"
      ]
     },
     "execution_count": 16,
     "metadata": {},
     "output_type": "execute_result"
    }
   ],
   "source": [
    "mean_ogt = np.mean(growth_temperatures)\n",
    "mean_ogt"
   ]
  },
  {
   "cell_type": "code",
   "execution_count": 17,
   "metadata": {},
   "outputs": [
    {
     "data": {
      "text/plain": [
       "8.0155055129161"
      ]
     },
     "execution_count": 17,
     "metadata": {},
     "output_type": "execute_result"
    }
   ],
   "source": [
    "mae(growth_temperatures, mean_ogt)"
   ]
  },
  {
   "cell_type": "code",
   "execution_count": 18,
   "metadata": {},
   "outputs": [
    {
     "data": {
      "text/plain": [
       "29.354706465396497"
      ]
     },
     "execution_count": 18,
     "metadata": {},
     "output_type": "execute_result"
    }
   ],
   "source": [
    "mae(growth_temperatures, mean_ogt, weights)"
   ]
  },
  {
   "cell_type": "code",
   "execution_count": 19,
   "metadata": {},
   "outputs": [],
   "source": [
    "def get_count_per_bin(growth_temperatures, step=3):\n",
    "    min_ = int(np.floor(np.min(growth_temperatures)))\n",
    "    max_ = int(np.ceil(np.max(growth_temperatures)))\n",
    "    bins = list(range(min_, max_, step)) + [max_]\n",
    "    total = len(growth_temperatures)\n",
    "    return np.histogram(growth_temperatures, bins)"
   ]
  },
  {
   "cell_type": "code",
   "execution_count": 20,
   "metadata": {},
   "outputs": [
    {
     "data": {
      "text/plain": [
       "array([  4,   4,   5,   7,  11,  28,  47, 268, 780, 156, 208, 488,  20,\n",
       "        12,  10,  16,   8,  30,  21,   8,  13,  17,  15,  14,   5,  22,\n",
       "         9,  17,  11,   1,   2,   5,   1,   2])"
      ]
     },
     "execution_count": 20,
     "metadata": {},
     "output_type": "execute_result"
    }
   ],
   "source": [
    "n_samples_per_bin, bins = get_count_per_bin(growth_temperatures)\n",
    "n_samples_per_bin"
   ]
  },
  {
   "cell_type": "code",
   "execution_count": 21,
   "metadata": {},
   "outputs": [
    {
     "data": {
      "text/plain": [
       "array([0.25378141, 0.25378141, 0.2040402 , 0.14720028, 0.09554589,\n",
       "       0.04076961, 0.02656222, 0.01072552, 0.01000394, 0.01263412,\n",
       "       0.01141069, 0.01007468, 0.05491697, 0.08801645, 0.1045829 ,\n",
       "       0.06732092, 0.12944095, 0.03841727, 0.0525563 , 0.12944095,\n",
       "       0.08164666, 0.06367123, 0.07145836, 0.07618805, 0.2040402 ,\n",
       "       0.050411  , 0.11562999, 0.06367123, 0.09554589, 1.        ,\n",
       "       0.50251256, 0.2040402 , 1.        , 0.50251256])"
      ]
     },
     "execution_count": 21,
     "metadata": {},
     "output_type": "execute_result"
    }
   ],
   "source": [
    "beta = 0.99\n",
    "inv_effective_sample_fn = lambda n: (1 - beta) / (1 - beta**n)\n",
    "inv_effective_weights = np.apply_along_axis(inv_effective_sample_fn, 0, n_samples_per_bin)\n",
    "inv_effective_weights"
   ]
  },
  {
   "cell_type": "code",
   "execution_count": 22,
   "metadata": {},
   "outputs": [
    {
     "data": {
      "text/plain": [
       "array([0.25      , 0.25      , 0.2       , 0.14285714, 0.09090909,\n",
       "       0.03571429, 0.0212766 , 0.00373134, 0.00128205, 0.00641026,\n",
       "       0.00480769, 0.00204918, 0.05      , 0.08333333, 0.1       ,\n",
       "       0.0625    , 0.125     , 0.03333333, 0.04761905, 0.125     ,\n",
       "       0.07692308, 0.05882353, 0.06666667, 0.07142857, 0.2       ,\n",
       "       0.04545455, 0.11111111, 0.05882353, 0.09090909, 1.        ,\n",
       "       0.5       , 0.2       , 1.        , 0.5       ])"
      ]
     },
     "execution_count": 22,
     "metadata": {},
     "output_type": "execute_result"
    }
   ],
   "source": [
    "inverse_frequency_fn = lambda n: 1 / n\n",
    "inverse_frequency = np.apply_along_axis(inverse_frequency_fn, 0, n_samples_per_bin)\n",
    "inverse_frequency"
   ]
  },
  {
   "cell_type": "code",
   "execution_count": 23,
   "metadata": {},
   "outputs": [
    {
     "data": {
      "text/plain": [
       "(0.010003941149545446, 0.001282051282051282)"
      ]
     },
     "execution_count": 23,
     "metadata": {},
     "output_type": "execute_result"
    }
   ],
   "source": [
    "np.min(inv_effective_weights), np.min(inverse_frequency)"
   ]
  },
  {
   "cell_type": "code",
   "execution_count": 24,
   "metadata": {},
   "outputs": [
    {
     "data": {
      "text/plain": [
       "63.99999999999999"
      ]
     },
     "execution_count": 24,
     "metadata": {},
     "output_type": "execute_result"
    }
   ],
   "source": [
    "v = inv_effective_weights * 64 / np.sum(inv_effective_weights)\n",
    "np.sum(v)"
   ]
  },
  {
   "cell_type": "code",
   "execution_count": 25,
   "metadata": {},
   "outputs": [
    {
     "data": {
      "text/plain": [
       "array([ 2.81366264,  2.81366264,  2.26218419,  1.63200268,  1.05931287,\n",
       "        0.45201081,  0.29449406,  0.11891336,  0.11091323,  0.14007388,\n",
       "        0.12650982,  0.11169751,  0.60886194,  0.97583426,  1.15950576,\n",
       "        0.74638394,  1.43510577,  0.42593044,  0.5826893 ,  1.43510577,\n",
       "        0.90521277,  0.70591996,  0.79225547,  0.84469331,  2.26218419,\n",
       "        0.55890439,  1.28198434,  0.70591996,  1.05931287, 11.08695344,\n",
       "        5.57133339,  2.26218419, 11.08695344,  5.57133339])"
      ]
     },
     "execution_count": 25,
     "metadata": {},
     "output_type": "execute_result"
    }
   ],
   "source": [
    "v"
   ]
  },
  {
   "cell_type": "code",
   "execution_count": 26,
   "metadata": {},
   "outputs": [
    {
     "data": {
      "text/plain": [
       "(0.11091322978692074, 11.08695344453924)"
      ]
     },
     "execution_count": 26,
     "metadata": {},
     "output_type": "execute_result"
    }
   ],
   "source": [
    "np.min(v), np.max(v)"
   ]
  },
  {
   "cell_type": "code",
   "execution_count": 27,
   "metadata": {},
   "outputs": [
    {
     "data": {
      "text/plain": [
       "array([  0,  10,  20,  30,  40,  50,  60,  70,  80,  90, 105])"
      ]
     },
     "execution_count": 27,
     "metadata": {},
     "output_type": "execute_result"
    }
   ],
   "source": [
    "min_ = int(np.floor(np.min(growth_temperatures)))\n",
    "max_ = int(np.ceil(np.max(growth_temperatures)))\n",
    "bins = list(range(0, max_, 10))\n",
    "bins[-1] = max_\n",
    "np.array(bins)"
   ]
  },
  {
   "cell_type": "code",
   "execution_count": 28,
   "metadata": {},
   "outputs": [],
   "source": [
    "bins = np.array([  0,  20,  30,  40,  50,  60,  70,  80,  90, 105])"
   ]
  },
  {
   "cell_type": "code",
   "execution_count": 38,
   "metadata": {},
   "outputs": [],
   "source": [
    "def compute_inverse_effective_sample(\n",
    "    growth_temperatures, \n",
    "    batch_size,\n",
    "    bins,\n",
    "    beta=0.99,\n",
    "):\n",
    "    \"\"\"\n",
    "    Class-balanced weighting based on inverse effective sample.\n",
    "    Effective sample = (1 - beta^n) / (1 - beta)\n",
    "    Beta is an parameter; 0.99 is a good value in practice.\n",
    "    https://arxiv.org/abs/1901.05555\n",
    "    \"\"\"\n",
    "    values, _ = np.histogram(growth_temperatures, bins)\n",
    "    inv_effective_sample_fn = lambda n: (1 - beta) / (1 - beta**n)\n",
    "    inv_effective_weights = np.apply_along_axis(\n",
    "        inv_effective_sample_fn, \n",
    "        axis=0, \n",
    "        arr=values,\n",
    "    )\n",
    "    ###\n",
    "    # Factor inferred experimentally such that for a typical\n",
    "    # batch, the sum of weights will equal the batch size.\n",
    "    # A widely different distribution of temperatures would\n",
    "    # lead to a different factor.\n",
    "    factor = 0.341\n",
    "    alpha = factor * batch_size\n",
    "    ###\n",
    "    weights_sum = np.sum(inv_effective_weights)\n",
    "    weights_dict = {\n",
    "        b: alpha * inv_effective_weights[i] / weights_sum\n",
    "        for i, b in enumerate(bins[:-1])\n",
    "    }\n",
    "    return weights_dict"
   ]
  },
  {
   "cell_type": "code",
   "execution_count": 39,
   "metadata": {},
   "outputs": [],
   "source": [
    "weights_dict = compute_inverse_effective_sample(\n",
    "    growth_temperatures, \n",
    "    batch_size=64,\n",
    "    bins=bins,\n",
    "    beta=0.99,\n",
    ")"
   ]
  },
  {
   "cell_type": "code",
   "execution_count": 40,
   "metadata": {},
   "outputs": [],
   "source": [
    "def assign_weight_to_batch_values(\n",
    "    batch_temperatures, \n",
    "    weights_dict, \n",
    "    bins, \n",
    "    dtype='float32',\n",
    "):\n",
    "    index = np.digitize(batch_temperatures, bins)\n",
    "    return np.array(\n",
    "        [weights_dict[bins[ix-1]] for ix in index],\n",
    "        dtype=dtype,\n",
    "    )"
   ]
  },
  {
   "cell_type": "code",
   "execution_count": 41,
   "metadata": {},
   "outputs": [
    {
     "data": {
      "text/plain": [
       "array([0.8527041, 0.8527041, 2.0352526, 5.7386518], dtype=float32)"
      ]
     },
     "execution_count": 41,
     "metadata": {},
     "output_type": "execute_result"
    }
   ],
   "source": [
    "batch_temperatures = [25, 25, 65, 101]\n",
    "assign_weight_to_batch_values(batch_temperatures, weights_dict, bins)"
   ]
  },
  {
   "cell_type": "code",
   "execution_count": 42,
   "metadata": {},
   "outputs": [
    {
     "data": {
      "image/png": "[encoded data removed]",
      "text/plain": [
       "<Figure size 864x432 with 1 Axes>"
      ]
     },
     "metadata": {},
     "output_type": "display_data"
    }
   ],
   "source": [
    "weights_values = [weights_dict[k] for k in sorted(weights_dict.keys())]\n",
    "_, ax = plt.subplots(1, 1, figsize=(12, 6))\n",
    "ax.bar(\n",
    "    sorted(weights_dict.keys()),\n",
    "    weights_values,\n",
    ");"
   ]
  },
  {
   "cell_type": "code",
   "execution_count": 43,
   "metadata": {},
   "outputs": [
    {
     "data": {
      "text/plain": [
       "(0.8524384919737126, 5.738651528835896)"
      ]
     },
     "execution_count": 43,
     "metadata": {},
     "output_type": "execute_result"
    }
   ],
   "source": [
    "np.min(weights_values), np.max(weights_values)"
   ]
  },
  {
   "cell_type": "code",
   "execution_count": null,
   "metadata": {},
   "outputs": [],
   "source": []
  },
  {
   "cell_type": "code",
   "execution_count": 35,
   "metadata": {},
   "outputs": [
    {
     "name": "stdout",
     "output_type": "stream",
     "text": [
      "CPU times: user 12.8 s, sys: 1.13 s, total: 13.9 s\n",
      "Wall time: 13.9 s\n"
     ]
    }
   ],
   "source": [
    "%%time\n",
    "q = \"\"\"\n",
    "select t.growth_tmp \n",
    "from sequences as s \n",
    "inner join species_traits as t \n",
    "on t.species_taxid = s.species_taxid\n",
    "\"\"\"\n",
    "all_tmps = pd.read_sql(q, engine)['growth_tmp']"
   ]
  },
  {
   "cell_type": "code",
   "execution_count": 44,
   "metadata": {},
   "outputs": [
    {
     "name": "stdout",
     "output_type": "stream",
     "text": [
      "50 / 1000\n",
      "100 / 1000\n",
      "150 / 1000\n",
      "200 / 1000\n",
      "250 / 1000\n",
      "300 / 1000\n",
      "350 / 1000\n",
      "400 / 1000\n",
      "450 / 1000\n",
      "500 / 1000\n",
      "550 / 1000\n",
      "600 / 1000\n",
      "650 / 1000\n",
      "700 / 1000\n",
      "750 / 1000\n",
      "800 / 1000\n",
      "850 / 1000\n",
      "900 / 1000\n",
      "950 / 1000\n",
      "1000 / 1000\n",
      "CPU times: user 8min 34s, sys: 6.61 s, total: 8min 40s\n",
      "Wall time: 8min 47s\n"
     ]
    },
    {
     "data": {
      "text/plain": [
       "63.982006"
      ]
     },
     "execution_count": 44,
     "metadata": {},
     "output_type": "execute_result"
    }
   ],
   "source": [
    "%%time\n",
    "sums = []\n",
    "n_samples = 1000\n",
    "for i in range(n_samples):\n",
    "    if (i+1) % 50 == 0:\n",
    "        print(f'{i+1} / {n_samples}')\n",
    "    batch_tmps = np.random.choice(all_tmps, size=64, replace=False)\n",
    "    w = assign_weight_to_batch_values(batch_tmps, weights_dict, bins)\n",
    "    sums.append(np.sum(w))\n",
    "    \n",
    "np.mean(sums)"
   ]
  },
  {
   "cell_type": "code",
   "execution_count": null,
   "metadata": {},
   "outputs": [],
   "source": []
  }
 ],
 "metadata": {
  "kernelspec": {
   "display_name": "Python 3",
   "language": "python",
   "name": "python3"
  },
  "language_info": {
   "codemirror_mode": {
    "name": "ipython",
    "version": 3
   },
   "file_extension": ".py",
   "mimetype": "text/x-python",
   "name": "python",
   "nbconvert_exporter": "python",
   "pygments_lexer": "ipython3",
   "version": "3.7.6"
  }
 },
 "nbformat": 4,
 "nbformat_minor": 4
}
