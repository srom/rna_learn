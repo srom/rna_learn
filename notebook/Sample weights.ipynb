{
 "cells": [
  {
   "cell_type": "code",
   "execution_count": 1,
   "metadata": {},
   "outputs": [],
   "source": [
    "import os\n",
    "\n",
    "import pandas as pd\n",
    "import numpy as np\n",
    "import matplotlib.pyplot as plt\n",
    "import seaborn as sns\n",
    "from sqlalchemy import create_engine\n",
    "\n",
    "if os.getcwd().endswith('notebook'):\n",
    "    os.chdir('..')"
   ]
  },
  {
   "cell_type": "code",
   "execution_count": 2,
   "metadata": {},
   "outputs": [],
   "source": [
    "sns.set(palette='colorblind', font_scale=1.3)"
   ]
  },
  {
   "cell_type": "code",
   "execution_count": 3,
   "metadata": {},
   "outputs": [],
   "source": [
    "db_path = os.path.join(os.getcwd(), 'data/condensed_traits/db/seq.db')\n",
    "engine = create_engine(f'sqlite+pysqlite:///{db_path}')"
   ]
  },
  {
   "cell_type": "code",
   "execution_count": 4,
   "metadata": {},
   "outputs": [],
   "source": [
    "growth_temperatures = pd.read_sql(\n",
    "    'select growth_tmp from species_traits',\n",
    "    engine,\n",
    ")['growth_tmp'].values"
   ]
  },
  {
   "cell_type": "code",
   "execution_count": 5,
   "metadata": {},
   "outputs": [
    {
     "data": {
      "image/png": "[encoded data removed]",
      "text/plain": [
       "<Figure size 864x432 with 1 Axes>"
      ]
     },
     "metadata": {},
     "output_type": "display_data"
    }
   ],
   "source": [
    "_, ax = plt.subplots(1, 1, figsize=(12, 6))\n",
    "ax.hist(growth_temperatures, bins=100, log=True);"
   ]
  },
  {
   "cell_type": "code",
   "execution_count": 24,
   "metadata": {},
   "outputs": [],
   "source": [
    "def compute_inverse_effective_sample(\n",
    "    growth_temperatures, \n",
    "    batch_size,\n",
    "    bins,\n",
    "    beta=0.99,\n",
    "):\n",
    "    \"\"\"\n",
    "    Class-balanced weighting based on inverse effective sample.\n",
    "    Effective sample = (1 - beta^n) / (1 - beta)\n",
    "    Typical values of beta are 0.9, 0.99 or 0.999.\n",
    "    https://arxiv.org/abs/1901.05555\n",
    "    \"\"\"\n",
    "    values, _ = np.histogram(growth_temperatures, bins)\n",
    "    inv_effective_sample_fn = lambda n: (1 - beta) / (1 - beta**n)\n",
    "    inv_effective_weights = np.apply_along_axis(\n",
    "        inv_effective_sample_fn, \n",
    "        axis=0, \n",
    "        arr=values,\n",
    "    )\n",
    "    ###\n",
    "    # Factor inferred experimentally such that for a typical\n",
    "    # batch, the sum of weights will equal the batch size.\n",
    "    # A widely different distribution of temperatures would\n",
    "    # lead to a different factor.\n",
    "    # See notebook Sample weights.ipynb for calculation details.\n",
    "    factor = 2.58844\n",
    "    alpha = factor * batch_size\n",
    "    ###\n",
    "    weights_sum = np.sum(inv_effective_weights)\n",
    "    weights_dict = {\n",
    "        b: alpha * inv_effective_weights[i] / weights_sum\n",
    "        for i, b in enumerate(bins[:-1])\n",
    "    }\n",
    "    return weights_dict"
   ]
  },
  {
   "cell_type": "code",
   "execution_count": 25,
   "metadata": {},
   "outputs": [],
   "source": [
    "bins = np.array([\n",
    "    4,   10,  16,  19,  22,  25,  28,  31,  34,  37,  40,\n",
    "    43,  46,  49,  52,  55,  58,  61,  64,  67,  70,  73,  76,\n",
    "    82,  85,  88,  91,  106,\n",
    "])"
   ]
  },
  {
   "cell_type": "code",
   "execution_count": 26,
   "metadata": {},
   "outputs": [],
   "source": [
    "weights_dict = compute_inverse_effective_sample(\n",
    "    growth_temperatures, \n",
    "    batch_size=64,\n",
    "    bins=bins,\n",
    "    beta=0.999,\n",
    ")"
   ]
  },
  {
   "cell_type": "code",
   "execution_count": 27,
   "metadata": {},
   "outputs": [
    {
     "data": {
      "image/png": "[encoded data removed]",
      "text/plain": [
       "<Figure size 864x432 with 1 Axes>"
      ]
     },
     "metadata": {},
     "output_type": "display_data"
    }
   ],
   "source": [
    "weights_values = [weights_dict[k] for k in sorted(weights_dict.keys())]\n",
    "_, ax = plt.subplots(1, 1, figsize=(12, 6))\n",
    "ax.bar(\n",
    "    sorted(weights_dict.keys()),\n",
    "    weights_values,\n",
    ");"
   ]
  },
  {
   "cell_type": "code",
   "execution_count": 28,
   "metadata": {},
   "outputs": [
    {
     "name": "stdout",
     "output_type": "stream",
     "text": [
      "min: 0.18\n",
      "max: 12.39\n",
      "ratio: 67.96\n"
     ]
    }
   ],
   "source": [
    "min_ = np.min(weights_values)\n",
    "max_ = np.max(weights_values)\n",
    "ratio = max_ / min_\n",
    "print(f'min: {min_:.2f}')\n",
    "print(f'max: {max_:.2f}')\n",
    "print(f'ratio: {ratio:.2f}')"
   ]
  },
  {
   "cell_type": "code",
   "execution_count": 20,
   "metadata": {},
   "outputs": [],
   "source": [
    "def assign_weight_to_batch_values(\n",
    "    batch_temperatures, \n",
    "    weights_dict, \n",
    "    bins, \n",
    "    dtype='float32',\n",
    "):\n",
    "    index = np.digitize(batch_temperatures, bins)\n",
    "    return np.array(\n",
    "        [weights_dict[bins[ix-1]] for ix in index],\n",
    "        dtype=dtype,\n",
    "    )"
   ]
  },
  {
   "cell_type": "code",
   "execution_count": 21,
   "metadata": {},
   "outputs": [
    {
     "name": "stdout",
     "output_type": "stream",
     "text": [
      "CPU times: user 13.4 s, sys: 1.31 s, total: 14.7 s\n",
      "Wall time: 15 s\n"
     ]
    }
   ],
   "source": [
    "%%time\n",
    "q = \"\"\"\n",
    "select t.growth_tmp \n",
    "from sequences as s \n",
    "inner join species_traits as t \n",
    "on t.species_taxid = s.species_taxid\n",
    "\"\"\"\n",
    "all_tmps = pd.read_sql(q, engine)['growth_tmp']"
   ]
  },
  {
   "cell_type": "code",
   "execution_count": 22,
   "metadata": {},
   "outputs": [
    {
     "name": "stdout",
     "output_type": "stream",
     "text": [
      "50 / 1000\n",
      "100 / 1000\n",
      "150 / 1000\n",
      "200 / 1000\n",
      "250 / 1000\n",
      "300 / 1000\n",
      "350 / 1000\n",
      "400 / 1000\n",
      "450 / 1000\n",
      "500 / 1000\n",
      "550 / 1000\n",
      "600 / 1000\n",
      "650 / 1000\n",
      "700 / 1000\n",
      "750 / 1000\n",
      "800 / 1000\n",
      "850 / 1000\n",
      "900 / 1000\n",
      "950 / 1000\n",
      "1000 / 1000\n",
      "CPU times: user 9min 20s, sys: 10.4 s, total: 9min 31s\n",
      "Wall time: 9min 40s\n"
     ]
    },
    {
     "data": {
      "text/plain": [
       "62.83074"
      ]
     },
     "execution_count": 22,
     "metadata": {},
     "output_type": "execute_result"
    }
   ],
   "source": [
    "%%time\n",
    "sums = []\n",
    "n_samples = 1000\n",
    "for i in range(n_samples):\n",
    "    if (i+1) % 50 == 0:\n",
    "        print(f'{i+1} / {n_samples}')\n",
    "    batch_tmps = np.random.choice(all_tmps, size=64, replace=False)\n",
    "    w = assign_weight_to_batch_values(batch_tmps, weights_dict, bins)\n",
    "    sums.append(np.sum(w))\n",
    "    \n",
    "np.mean(sums)"
   ]
  },
  {
   "cell_type": "code",
   "execution_count": null,
   "metadata": {},
   "outputs": [],
   "source": []
  }
 ],
 "metadata": {
  "kernelspec": {
   "display_name": "Python 3",
   "language": "python",
   "name": "python3"
  },
  "language_info": {
   "codemirror_mode": {
    "name": "ipython",
    "version": 3
   },
   "file_extension": ".py",
   "mimetype": "text/x-python",
   "name": "python",
   "nbconvert_exporter": "python",
   "pygments_lexer": "ipython3",
   "version": "3.7.6"
  }
 },
 "nbformat": 4,
 "nbformat_minor": 4
}
