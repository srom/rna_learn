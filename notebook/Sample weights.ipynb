{
 "cells": [
  {
   "cell_type": "code",
   "execution_count": 1,
   "metadata": {},
   "outputs": [],
   "source": [
    "import os\n",
    "\n",
    "import pandas as pd\n",
    "import numpy as np\n",
    "import matplotlib.pyplot as plt\n",
    "import seaborn as sns\n",
    "from sqlalchemy import create_engine\n",
    "\n",
    "if os.getcwd().endswith('notebook'):\n",
    "    os.chdir('..')"
   ]
  },
  {
   "cell_type": "code",
   "execution_count": 2,
   "metadata": {},
   "outputs": [],
   "source": [
    "sns.set(palette='colorblind', font_scale=1.3)"
   ]
  },
  {
   "cell_type": "code",
   "execution_count": 3,
   "metadata": {},
   "outputs": [],
   "source": [
    "db_path = os.path.join(os.getcwd(), 'data/condensed_traits/db/seq.db')\n",
    "engine = create_engine(f'sqlite+pysqlite:///{db_path}')"
   ]
  },
  {
   "cell_type": "code",
   "execution_count": 4,
   "metadata": {},
   "outputs": [],
   "source": [
    "growth_temperatures = pd.read_sql(\n",
    "    'select growth_tmp from species_traits',\n",
    "    engine,\n",
    ")['growth_tmp'].values"
   ]
  },
  {
   "cell_type": "code",
   "execution_count": 5,
   "metadata": {},
   "outputs": [
    {
     "data": {
      "text/plain": [
       "array([  4,   5,   8,   9,  10,  11,  12,  14,  15,  16,  17,  18,  20,\n",
       "        21,  22,  23,  24,  25,  26,  27,  28,  29,  30,  31,  32,  33,\n",
       "        34,  35,  36,  37,  38,  39,  40,  41,  42,  43,  44,  45,  46,\n",
       "        47,  48,  50,  51,  52,  53,  54,  55,  56,  57,  58,  59,  60,\n",
       "        61,  62,  63,  64,  65,  66,  67,  68,  69,  70,  71,  72,  73,\n",
       "        74,  75,  76,  77,  78,  79,  80,  81,  83,  84,  85,  86,  87,\n",
       "        88,  89,  90,  94,  95,  97,  98,  99, 100, 103, 104])"
      ]
     },
     "execution_count": 5,
     "metadata": {},
     "output_type": "execute_result"
    }
   ],
   "source": [
    "unique_rounded_temperatures = np.unique([int(round(t)) for t in growth_temperatures])\n",
    "unique_rounded_temperatures"
   ]
  },
  {
   "cell_type": "code",
   "execution_count": 6,
   "metadata": {},
   "outputs": [],
   "source": [
    "min_ = int(np.floor(np.min(growth_temperatures)))\n",
    "max_ = int(np.ceil(np.max(growth_temperatures)))\n",
    "step = 3\n",
    "bins = list(range(min_, max_, step)) + [max_]"
   ]
  },
  {
   "cell_type": "code",
   "execution_count": 7,
   "metadata": {},
   "outputs": [
    {
     "data": {
      "image/png": "[encoded data removed]",
      "text/plain": [
       "<Figure size 864x432 with 1 Axes>"
      ]
     },
     "metadata": {},
     "output_type": "display_data"
    }
   ],
   "source": [
    "_, ax = plt.subplots(1, 1, figsize=(12, 6))\n",
    "ax.hist(growth_temperatures, bins=bins, log=True);"
   ]
  },
  {
   "cell_type": "code",
   "execution_count": 49,
   "metadata": {},
   "outputs": [
    {
     "data": {
      "image/png": "[encoded data removed]",
      "text/plain": [
       "<Figure size 864x432 with 1 Axes>"
      ]
     },
     "metadata": {},
     "output_type": "display_data"
    }
   ],
   "source": [
    "_, ax = plt.subplots(1, 1, figsize=(12, 6))\n",
    "ax.hist(np.random.choice(growth_temperatures, size=64, replace=False), bins=bins);"
   ]
  },
  {
   "cell_type": "code",
   "execution_count": 37,
   "metadata": {},
   "outputs": [],
   "source": [
    "def compute_inverse_probability_weights(growth_temperatures, step=3):\n",
    "    min_ = int(np.floor(np.min(growth_temperatures)))\n",
    "    max_ = int(np.ceil(np.max(growth_temperatures)))\n",
    "    bins = list(range(min_, max_, step)) + [max_]\n",
    "    total = len(growth_temperatures)\n",
    "    values, _ = np.histogram(growth_temperatures, bins)\n",
    "    weights_dict = {\n",
    "        b: total / values[i]\n",
    "        for i, b in enumerate(bins[:-1])\n",
    "    }\n",
    "    return weights_dict, bins"
   ]
  },
  {
   "cell_type": "code",
   "execution_count": 38,
   "metadata": {},
   "outputs": [],
   "source": [
    "weights_dict, bins = compute_inverse_probability_weights(growth_temperatures)"
   ]
  },
  {
   "cell_type": "code",
   "execution_count": 39,
   "metadata": {
    "scrolled": false
   },
   "outputs": [
    {
     "data": {
      "text/plain": [
       "{4: 566.25,\n",
       " 7: 566.25,\n",
       " 10: 453.0,\n",
       " 13: 323.57142857142856,\n",
       " 16: 205.9090909090909,\n",
       " 19: 80.89285714285714,\n",
       " 22: 48.191489361702125,\n",
       " 25: 8.451492537313433,\n",
       " 28: 2.9038461538461537,\n",
       " 31: 14.51923076923077,\n",
       " 34: 10.889423076923077,\n",
       " 37: 4.641393442622951,\n",
       " 40: 113.25,\n",
       " 43: 188.75,\n",
       " 46: 226.5,\n",
       " 49: 141.5625,\n",
       " 52: 283.125,\n",
       " 55: 75.5,\n",
       " 58: 107.85714285714286,\n",
       " 61: 283.125,\n",
       " 64: 174.23076923076923,\n",
       " 67: 133.23529411764707,\n",
       " 70: 151.0,\n",
       " 73: 161.78571428571428,\n",
       " 76: 453.0,\n",
       " 79: 102.95454545454545,\n",
       " 82: 251.66666666666666,\n",
       " 85: 133.23529411764707,\n",
       " 88: 205.9090909090909,\n",
       " 91: 2265.0,\n",
       " 94: 1132.5,\n",
       " 97: 453.0,\n",
       " 100: 2265.0,\n",
       " 103: 1132.5}"
      ]
     },
     "execution_count": 39,
     "metadata": {},
     "output_type": "execute_result"
    }
   ],
   "source": [
    "weights_dict"
   ]
  },
  {
   "cell_type": "code",
   "execution_count": 45,
   "metadata": {},
   "outputs": [],
   "source": [
    "def assign_weight_to_batch_values(growth_temperatures, weights_dict, bins, dtype='float32'):\n",
    "    index = np.digitize(growth_temperatures, bins)\n",
    "    weights_u = np.array(\n",
    "        [weights_dict[bins[ix-1]] for ix in index],\n",
    "        dtype=dtype,\n",
    "    )\n",
    "    return weights_u / np.sum(weights_u)"
   ]
  },
  {
   "cell_type": "code",
   "execution_count": 46,
   "metadata": {},
   "outputs": [
    {
     "data": {
      "text/plain": [
       "64"
      ]
     },
     "execution_count": 46,
     "metadata": {},
     "output_type": "execute_result"
    }
   ],
   "source": [
    "weights = assign_weight_to_batch_values(\n",
    "    np.random.choice(growth_temperatures, size=64, replace=False),\n",
    "    weights_dict, \n",
    "    bins,\n",
    ")\n",
    "len(weights)"
   ]
  },
  {
   "cell_type": "code",
   "execution_count": 47,
   "metadata": {},
   "outputs": [
    {
     "data": {
      "text/plain": [
       "array([0.00246949, 0.00718732, 0.04098304, 0.00246949, 0.00246949,\n",
       "       0.00394714, 0.00246949, 0.00926059, 0.00394714, 0.00394714,\n",
       "       0.00246949, 0.01234745, 0.00394714, 0.00718732, 0.00394714,\n",
       "       0.00394714, 0.00926059, 0.01234745, 0.00718732, 0.00926059,\n",
       "       0.17510934, 0.00246949, 0.01234745, 0.00718732, 0.00394714,\n",
       "       0.00246949, 0.00246949, 0.00246949, 0.00394714, 0.00394714,\n",
       "       0.00246949, 0.00718732, 0.00246949, 0.11330604, 0.00246949,\n",
       "       0.00246949, 0.00246949, 0.00394714, 0.00246949, 0.00246949,\n",
       "       0.00394714, 0.00718732, 0.00394714, 0.00394714, 0.00246949,\n",
       "       0.00926059, 0.09631014, 0.00394714, 0.00246949, 0.00246949,\n",
       "       0.00926059, 0.00394714, 0.00394714, 0.00246949, 0.00394714,\n",
       "       0.00394714, 0.00394714, 0.00718732, 0.00246949, 0.00926059,\n",
       "       0.00246949, 0.1605169 , 0.13758592, 0.00394714], dtype=float32)"
      ]
     },
     "execution_count": 47,
     "metadata": {},
     "output_type": "execute_result"
    }
   ],
   "source": [
    "weights"
   ]
  },
  {
   "cell_type": "code",
   "execution_count": 58,
   "metadata": {},
   "outputs": [
    {
     "data": {
      "text/plain": [
       "2265"
      ]
     },
     "execution_count": 58,
     "metadata": {},
     "output_type": "execute_result"
    }
   ],
   "source": [
    "weights = assign_weight_to_batch_values(\n",
    "    growth_temperatures,\n",
    "    weights_dict, \n",
    "    bins,\n",
    ")\n",
    "len(weights)"
   ]
  },
  {
   "cell_type": "code",
   "execution_count": 59,
   "metadata": {},
   "outputs": [],
   "source": [
    "def mae(y_true, y_pred, weights=None):\n",
    "    return np.average(np.abs(y_true - y_pred), weights=weights)"
   ]
  },
  {
   "cell_type": "code",
   "execution_count": 60,
   "metadata": {},
   "outputs": [
    {
     "data": {
      "text/plain": [
       "34.99763222958057"
      ]
     },
     "execution_count": 60,
     "metadata": {},
     "output_type": "execute_result"
    }
   ],
   "source": [
    "mean_ogt = np.mean(growth_temperatures)\n",
    "mean_ogt"
   ]
  },
  {
   "cell_type": "code",
   "execution_count": 61,
   "metadata": {},
   "outputs": [
    {
     "data": {
      "text/plain": [
       "8.0155055129161"
      ]
     },
     "execution_count": 61,
     "metadata": {},
     "output_type": "execute_result"
    }
   ],
   "source": [
    "mae(growth_temperatures, mean_ogt)"
   ]
  },
  {
   "cell_type": "code",
   "execution_count": 62,
   "metadata": {},
   "outputs": [
    {
     "data": {
      "text/plain": [
       "29.354706465396497"
      ]
     },
     "execution_count": 62,
     "metadata": {},
     "output_type": "execute_result"
    }
   ],
   "source": [
    "mae(growth_temperatures, mean_ogt, weights)"
   ]
  },
  {
   "cell_type": "code",
   "execution_count": null,
   "metadata": {},
   "outputs": [],
   "source": []
  }
 ],
 "metadata": {
  "kernelspec": {
   "display_name": "Python 3",
   "language": "python",
   "name": "python3"
  },
  "language_info": {
   "codemirror_mode": {
    "name": "ipython",
    "version": 3
   },
   "file_extension": ".py",
   "mimetype": "text/x-python",
   "name": "python",
   "nbconvert_exporter": "python",
   "pygments_lexer": "ipython3",
   "version": "3.7.6"
  }
 },
 "nbformat": 4,
 "nbformat_minor": 4
}
