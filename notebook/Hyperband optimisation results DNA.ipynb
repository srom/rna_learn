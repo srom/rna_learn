{
 "cells": [
  {
   "cell_type": "code",
   "execution_count": 1,
   "metadata": {},
   "outputs": [],
   "source": [
    "import argparse\n",
    "import os\n",
    "\n",
    "import numpy as np\n",
    "import pandas as pd\n",
    "import matplotlib.pyplot as plt\n",
    "import seaborn as sns\n",
    "import tensorflow as tf\n",
    "from tensorflow import keras\n",
    "import tensorflow_probability as tfp\n",
    "import kerastuner as kt\n",
    "from kerastuner.tuners import Hyperband\n",
    "import statsmodels.api as sm\n",
    "\n",
    "if os.getcwd().endswith('notebook'):\n",
    "    os.chdir('..')\n",
    "\n",
    "from rna_learn.alphabet import ALPHABET_DNA, ALPHABET_PROTEIN\n",
    "from rna_learn.transform import (\n",
    "    sequence_embedding, \n",
    "    normalize, denormalize,\n",
    "    one_hot_encode_classes,\n",
    "    split_train_test_set,\n",
    "    combine_sequences,\n",
    ")\n",
    "from rna_learn.hyperband import hyperband_densenet_model"
   ]
  },
  {
   "cell_type": "code",
   "execution_count": 2,
   "metadata": {},
   "outputs": [],
   "source": [
    "sns.set(palette='colorblind', font_scale=1.3)"
   ]
  },
  {
   "cell_type": "markdown",
   "metadata": {},
   "source": [
    "## Hyperband optimisation results"
   ]
  },
  {
   "cell_type": "code",
   "execution_count": 3,
   "metadata": {},
   "outputs": [
    {
     "name": "stdout",
     "output_type": "stream",
     "text": [
      "INFO:tensorflow:Reloading Oracle from existing project ./hyperband_logs/dna/run_tdscx_top10/oracle.json\n",
      "INFO:tensorflow:Reloading Tuner from ./hyperband_logs/dna/run_tdscx_top10/tuner0.json\n"
     ]
    }
   ],
   "source": [
    "hyperband_run_id = 'run_tdscx_top10'\n",
    "\n",
    "build_model_fn = hyperband_densenet_model(n_inputs=len(ALPHABET_DNA))\n",
    "\n",
    "hypermodel = Hyperband(\n",
    "    build_model_fn,\n",
    "    max_epochs=100,\n",
    "    objective=kt.Objective('val_loss', 'min'),\n",
    "    factor=3,\n",
    "    hyperband_iterations=1,\n",
    "    project_name=f'hyperband_logs/dna/{hyperband_run_id}',\n",
    ")"
   ]
  },
  {
   "cell_type": "code",
   "execution_count": 4,
   "metadata": {},
   "outputs": [],
   "source": [
    "best_hyperparameters_sets = hypermodel.get_best_hyperparameters(10)"
   ]
  },
  {
   "cell_type": "code",
   "execution_count": 5,
   "metadata": {},
   "outputs": [],
   "source": [
    "best_model_idx = 0\n",
    "best_hyperparameters = best_hyperparameters_sets[best_model_idx]"
   ]
  },
  {
   "cell_type": "code",
   "execution_count": 6,
   "metadata": {},
   "outputs": [
    {
     "data": {
      "text/plain": [
       "{'n_layers': 14,\n",
       " 'growth_rate': 12,\n",
       " 'l2_reg': 1e-05,\n",
       " 'learning_rate': 0.0005,\n",
       " 'kernel_size_l1': 2,\n",
       " 'kernel_size_l2': 4,\n",
       " 'kernel_size_l3': 4,\n",
       " 'kernel_size_l4': 8,\n",
       " 'kernel_size_l5': 3,\n",
       " 'kernel_size_l6': 2,\n",
       " 'kernel_size_l7': 7,\n",
       " 'kernel_size_l8': 9,\n",
       " 'kernel_size_l9': 10,\n",
       " 'kernel_size_l10': 3,\n",
       " 'kernel_size_l11': 7,\n",
       " 'kernel_size_l12': 8,\n",
       " 'kernel_size_l13': 6,\n",
       " 'kernel_size_l14': 8,\n",
       " 'tuner/epochs': 100,\n",
       " 'tuner/initial_epoch': 34,\n",
       " 'tuner/bracket': 3,\n",
       " 'tuner/round': 3,\n",
       " 'tuner/trial_id': 'd0f76055db1862f43951424cfb7c923f'}"
      ]
     },
     "execution_count": 6,
     "metadata": {},
     "output_type": "execute_result"
    }
   ],
   "source": [
    "best_hyperparameters.values"
   ]
  },
  {
   "cell_type": "code",
   "execution_count": 7,
   "metadata": {},
   "outputs": [
    {
     "name": "stdout",
     "output_type": "stream",
     "text": [
      "Learning rate:\n",
      " 1: 5e-04\n",
      " 2: 1e-03\n",
      " 3: 1e-03\n",
      " 4: 1e-03\n",
      " 5: 1e-03\n",
      " 6: 5e-04\n",
      " 7: 1e-03\n",
      " 8: 1e-03\n",
      " 9: 1e-03\n",
      "10: 1e-03\n"
     ]
    }
   ],
   "source": [
    "print(f'Learning rate:')\n",
    "for i in range(10):\n",
    "    l = best_hyperparameters_sets[i].values['learning_rate']\n",
    "    print(f'{i+1:2d}: {l:.0e}')"
   ]
  },
  {
   "cell_type": "code",
   "execution_count": 8,
   "metadata": {},
   "outputs": [
    {
     "name": "stdout",
     "output_type": "stream",
     "text": [
      "L2 regularization:\n",
      " 1: 1e-05\n",
      " 2: 1e-05\n",
      " 3: 5e-06\n",
      " 4: 1e-05\n",
      " 5: 1e-05\n",
      " 6: 1e-05\n",
      " 7: 5e-06\n",
      " 8: 5e-06\n",
      " 9: 1e-05\n",
      "10: 5e-05\n"
     ]
    }
   ],
   "source": [
    "print(f'L2 regularization:')\n",
    "for i in range(10):\n",
    "    l = best_hyperparameters_sets[i].values['l2_reg']\n",
    "    print(f'{i+1:2d}: {l:.0e}')"
   ]
  },
  {
   "cell_type": "code",
   "execution_count": 9,
   "metadata": {},
   "outputs": [
    {
     "name": "stdout",
     "output_type": "stream",
     "text": [
      "Number of layers:\n",
      " 1: 14\n",
      " 2: 14\n",
      " 3: 12\n",
      " 4: 10\n",
      " 5: 12\n",
      " 6: 14\n",
      " 7:  8\n",
      " 8: 12\n",
      " 9: 14\n",
      "10: 10\n"
     ]
    }
   ],
   "source": [
    "print(f'Number of layers:')\n",
    "for i in range(10):\n",
    "    l = best_hyperparameters_sets[i].values['n_layers']\n",
    "    print(f'{i+1:2d}: {l:2d}')"
   ]
  },
  {
   "cell_type": "code",
   "execution_count": 10,
   "metadata": {},
   "outputs": [
    {
     "name": "stdout",
     "output_type": "stream",
     "text": [
      "Growth rate:\n",
      " 1: 12\n",
      " 2: 10\n",
      " 3: 12\n",
      " 4: 12\n",
      " 5:  8\n",
      " 6: 12\n",
      " 7: 12\n",
      " 8: 12\n",
      " 9: 10\n",
      "10: 10\n"
     ]
    }
   ],
   "source": [
    "print(f'Growth rate:')\n",
    "for i in range(10):\n",
    "    l = best_hyperparameters_sets[i].values['growth_rate']\n",
    "    print(f'{i+1:2d}: {l:2d}')"
   ]
  },
  {
   "cell_type": "code",
   "execution_count": 11,
   "metadata": {},
   "outputs": [
    {
     "name": "stdout",
     "output_type": "stream",
     "text": [
      "Kernel size (layer 1)\n",
      " 1:  2\n",
      " 2:  7\n",
      " 3:  9\n",
      " 4:  2\n",
      " 5:  7\n",
      " 6:  2\n",
      " 7:  5\n",
      " 8:  9\n",
      " 9:  7\n",
      "10:  5\n"
     ]
    }
   ],
   "source": [
    "print(f'Kernel size (layer 1)')\n",
    "for i in range(10):\n",
    "    l = best_hyperparameters_sets[i].values['kernel_size_l1']\n",
    "    print(f'{i+1:2d}: {l:2d}')"
   ]
  },
  {
   "cell_type": "code",
   "execution_count": 12,
   "metadata": {},
   "outputs": [],
   "source": [
    "trials = hypermodel.oracle.get_best_trials(10)\n",
    "best_model = hypermodel.load_model(trials[best_model_idx])"
   ]
  },
  {
   "cell_type": "code",
   "execution_count": 13,
   "metadata": {},
   "outputs": [
    {
     "name": "stdout",
     "output_type": "stream",
     "text": [
      "Model: \"model\"\n",
      "__________________________________________________________________________________________________\n",
      "Layer (type)                    Output Shape         Param #     Connected to                     \n",
      "==================================================================================================\n",
      "sequence (InputLayer)           [(None, None, 4)]    0                                            \n",
      "__________________________________________________________________________________________________\n",
      "conv_1 (Conv1D)                 (None, None, 12)     108         sequence[0][0]                   \n",
      "__________________________________________________________________________________________________\n",
      "concat_1 (Concatenate)          (None, None, 16)     0           sequence[0][0]                   \n",
      "                                                                 conv_1[0][0]                     \n",
      "__________________________________________________________________________________________________\n",
      "conv_2 (Conv1D)                 (None, None, 12)     780         concat_1[0][0]                   \n",
      "__________________________________________________________________________________________________\n",
      "concat_2 (Concatenate)          (None, None, 28)     0           concat_1[0][0]                   \n",
      "                                                                 conv_2[0][0]                     \n",
      "__________________________________________________________________________________________________\n",
      "conv_3 (Conv1D)                 (None, None, 12)     1356        concat_2[0][0]                   \n",
      "__________________________________________________________________________________________________\n",
      "concat_3 (Concatenate)          (None, None, 40)     0           concat_2[0][0]                   \n",
      "                                                                 conv_3[0][0]                     \n",
      "__________________________________________________________________________________________________\n",
      "conv_4 (Conv1D)                 (None, None, 12)     3852        concat_3[0][0]                   \n",
      "__________________________________________________________________________________________________\n",
      "concat_4 (Concatenate)          (None, None, 52)     0           concat_3[0][0]                   \n",
      "                                                                 conv_4[0][0]                     \n",
      "__________________________________________________________________________________________________\n",
      "conv_5 (Conv1D)                 (None, None, 12)     1884        concat_4[0][0]                   \n",
      "__________________________________________________________________________________________________\n",
      "concat_5 (Concatenate)          (None, None, 64)     0           concat_4[0][0]                   \n",
      "                                                                 conv_5[0][0]                     \n",
      "__________________________________________________________________________________________________\n",
      "conv_6 (Conv1D)                 (None, None, 12)     1548        concat_5[0][0]                   \n",
      "__________________________________________________________________________________________________\n",
      "concat_6 (Concatenate)          (None, None, 76)     0           concat_5[0][0]                   \n",
      "                                                                 conv_6[0][0]                     \n",
      "__________________________________________________________________________________________________\n",
      "conv_7 (Conv1D)                 (None, None, 12)     6396        concat_6[0][0]                   \n",
      "__________________________________________________________________________________________________\n",
      "concat_7 (Concatenate)          (None, None, 88)     0           concat_6[0][0]                   \n",
      "                                                                 conv_7[0][0]                     \n",
      "__________________________________________________________________________________________________\n",
      "conv_8 (Conv1D)                 (None, None, 12)     9516        concat_7[0][0]                   \n",
      "__________________________________________________________________________________________________\n",
      "concat_8 (Concatenate)          (None, None, 100)    0           concat_7[0][0]                   \n",
      "                                                                 conv_8[0][0]                     \n",
      "__________________________________________________________________________________________________\n",
      "conv_9 (Conv1D)                 (None, None, 12)     12012       concat_8[0][0]                   \n",
      "__________________________________________________________________________________________________\n",
      "concat_9 (Concatenate)          (None, None, 112)    0           concat_8[0][0]                   \n",
      "                                                                 conv_9[0][0]                     \n",
      "__________________________________________________________________________________________________\n",
      "conv_10 (Conv1D)                (None, None, 12)     4044        concat_9[0][0]                   \n",
      "__________________________________________________________________________________________________\n",
      "concat_10 (Concatenate)         (None, None, 124)    0           concat_9[0][0]                   \n",
      "                                                                 conv_10[0][0]                    \n",
      "__________________________________________________________________________________________________\n",
      "conv_11 (Conv1D)                (None, None, 12)     10428       concat_10[0][0]                  \n",
      "__________________________________________________________________________________________________\n",
      "concat_11 (Concatenate)         (None, None, 136)    0           concat_10[0][0]                  \n",
      "                                                                 conv_11[0][0]                    \n",
      "__________________________________________________________________________________________________\n",
      "conv_12 (Conv1D)                (None, None, 12)     13068       concat_11[0][0]                  \n",
      "__________________________________________________________________________________________________\n",
      "concat_12 (Concatenate)         (None, None, 148)    0           concat_11[0][0]                  \n",
      "                                                                 conv_12[0][0]                    \n",
      "__________________________________________________________________________________________________\n",
      "conv_13 (Conv1D)                (None, None, 12)     10668       concat_12[0][0]                  \n",
      "__________________________________________________________________________________________________\n",
      "concat_13 (Concatenate)         (None, None, 160)    0           concat_12[0][0]                  \n",
      "                                                                 conv_13[0][0]                    \n",
      "__________________________________________________________________________________________________\n",
      "conv_14 (Conv1D)                (None, None, 12)     15372       concat_13[0][0]                  \n",
      "__________________________________________________________________________________________________\n",
      "tf_op_layer_NotEqual (TensorFlo [(None, None, 4)]    0           sequence[0][0]                   \n",
      "__________________________________________________________________________________________________\n",
      "concat_14 (Concatenate)         (None, None, 172)    0           concat_13[0][0]                  \n",
      "                                                                 conv_14[0][0]                    \n",
      "__________________________________________________________________________________________________\n",
      "tf_op_layer_Any (TensorFlowOpLa [(None, None)]       0           tf_op_layer_NotEqual[0][0]       \n",
      "__________________________________________________________________________________________________\n",
      "logits (GlobalAveragePooling1D) (None, 172)          0           concat_14[0][0]                  \n",
      "__________________________________________________________________________________________________\n",
      "dropout (Dropout)               (None, 172)          0           logits[0][0]                     \n"
     ]
    },
    {
     "name": "stdout",
     "output_type": "stream",
     "text": [
      "__________________________________________________________________________________________________\n",
      "mean_and_std (Dense)            (None, 2)            346         dropout[0][0]                    \n",
      "__________________________________________________________________________________________________\n",
      "independent_normal (Independent ((None, 1), (None, 1 0           mean_and_std[0][0]               \n",
      "==================================================================================================\n",
      "Total params: 91,378\n",
      "Trainable params: 91,378\n",
      "Non-trainable params: 0\n",
      "__________________________________________________________________________________________________\n"
     ]
    }
   ],
   "source": [
    "best_model.summary()"
   ]
  },
  {
   "cell_type": "markdown",
   "metadata": {},
   "source": [
    "## Best model evaluation"
   ]
  },
  {
   "cell_type": "code",
   "execution_count": null,
   "metadata": {},
   "outputs": [],
   "source": [
    "train_set_path = os.path.join(os.getcwd(), 'data/gtdb/dataset_full_train.csv')\n",
    "test_set_path = os.path.join(os.getcwd(), 'data/gtdb/dataset_full_test.csv')\n",
    "\n",
    "train_df = pd.read_csv(train_set_path)\n",
    "dataset_df = pd.read_csv(test_set_path)"
   ]
  },
  {
   "cell_type": "code",
   "execution_count": null,
   "metadata": {},
   "outputs": [],
   "source": [
    "alphabet = ALPHABET_DNA\n",
    "y_train = train_df['temperature'].values.astype('float64')\n",
    "mean, std = np.mean(y_train), np.std(y_train)\n",
    "\n",
    "raw_sequences = dataset_df['nucleotide_sequence'].values\n",
    "\n",
    "x_dna = sequence_embedding(raw_sequences, alphabet, dtype='float32')\n",
    "\n",
    "y = dataset_df['temperature'].values.astype('float32')\n",
    "y_norm = normalize(y, mean, std)"
   ]
  },
  {
   "cell_type": "code",
   "execution_count": null,
   "metadata": {},
   "outputs": [],
   "source": [
    "%%time\n",
    "b = int(np.ceil(len(x_dna) / 30))\n",
    "y_mean = []\n",
    "for idx in range(30):\n",
    "    x_ = x_dna[idx * b:(idx + 1) * b]\n",
    "    y_hat_ = best_model(x_)\n",
    "    y_mean_ = denormalize(y_hat_.mean().numpy(), mean, std).flatten().tolist()\n",
    "    y_mean += y_mean_\n",
    "\n",
    "y_mean = np.array(y_mean)"
   ]
  },
  {
   "cell_type": "code",
   "execution_count": null,
   "metadata": {},
   "outputs": [],
   "source": [
    "mae = np.mean(np.abs(y_mean.flatten() - y))\n",
    "rmse = np.sqrt(np.mean((y_mean.flatten() - y) **2))\n",
    "correlation = np.corrcoef(y, y_mean.flatten())[0, 1]\n",
    "\n",
    "print(f'Mean Absolute Error    = {mae:.2f}')\n",
    "print(f'Root Mean Square Error = {rmse:.2f}')\n",
    "print(f'Correlation            = {correlation:.2f}')"
   ]
  },
  {
   "cell_type": "code",
   "execution_count": null,
   "metadata": {},
   "outputs": [],
   "source": [
    "def predictions_per_specie(dataset_df, y_true, y_pred):\n",
    "    y_species_pred = []\n",
    "    y_species_actual = []\n",
    "    y_species_pred_std  = []\n",
    "    \n",
    "    sequence_ids = sorted(dataset_df['gtdb_genome_representative'].unique().tolist())\n",
    "    for sequence_id in sequence_ids:\n",
    "        indices = dataset_df[dataset_df['gtdb_genome_representative'] == sequence_id].index\n",
    "        \n",
    "        truth = y_true[indices[0]]\n",
    "        prediction = np.mean(y_pred[indices])\n",
    "        prediction_std = np.std(y_pred[indices])\n",
    "        \n",
    "        y_species_actual.append(truth)\n",
    "        y_species_pred.append(prediction)\n",
    "        y_species_pred_std.append(prediction_std)\n",
    "    \n",
    "    return np.array(y_species_actual), np.array(y_species_pred), np.array(y_species_pred_std)"
   ]
  },
  {
   "cell_type": "code",
   "execution_count": null,
   "metadata": {},
   "outputs": [],
   "source": [
    "def plot_true_vs_prediction_per_specie(y_true, y_pred):\n",
    "    f, ax = plt.subplots(1, 1, figsize=(8, 8))\n",
    "    \n",
    "    palette = sns.color_palette()\n",
    "    \n",
    "    x_straight = range(0, 80)\n",
    "    ax.plot(x_straight, x_straight, '--', color=palette[1], linewidth=2)\n",
    "    \n",
    "    for i in range(len(y_true)):\n",
    "        y_t = y_true[i]\n",
    "        y_p = y_pred[i]\n",
    "        ax.plot(y_t, y_p, 'o', color=palette[0])\n",
    "    \n",
    "    ax.set_xlim(0, 80)\n",
    "    ax.set_ylim(0, 80)\n",
    "    ax.set_xlabel('Temperature °C (truth)')\n",
    "    ax.set_ylabel('Temperature °C (prediction)')\n",
    "    return f, ax"
   ]
  },
  {
   "cell_type": "code",
   "execution_count": null,
   "metadata": {},
   "outputs": [],
   "source": [
    "y_species_actual, y_species_pred, y_species_pred_std = predictions_per_specie(dataset_df, y, y_mean)"
   ]
  },
  {
   "cell_type": "code",
   "execution_count": null,
   "metadata": {},
   "outputs": [],
   "source": [
    "mae_species = np.mean(np.abs(y_species_pred.flatten() - y_species_actual))\n",
    "rmse_species = np.sqrt(np.mean((y_species_pred.flatten() - y_species_actual) **2))\n",
    "corr_species = np.corrcoef(y_species_actual, y_species_pred.flatten())[0, 1]"
   ]
  },
  {
   "cell_type": "code",
   "execution_count": null,
   "metadata": {},
   "outputs": [],
   "source": [
    "f, ax = plot_true_vs_prediction_per_specie(y_species_actual, y_species_pred);\n",
    "title = f'Predictions aggregated per specie\\n\\n'\n",
    "title += f'MAE : {mae_species:.2f} °C | '\n",
    "title += f'RMSE: {rmse_species:.2f} °C | '\n",
    "title += f'Corr: {corr_species:.2f}'\n",
    "ax.set_title(title);"
   ]
  },
  {
   "cell_type": "markdown",
   "metadata": {},
   "source": [
    "### Results per gene"
   ]
  },
  {
   "cell_type": "code",
   "execution_count": null,
   "metadata": {},
   "outputs": [],
   "source": [
    "def mae_per_gene(dataset_df, y_true, y_pred, plot_top=20):\n",
    "    f, ax = plt.subplots(1, 1, figsize=(6, 12))\n",
    "    palette = sns.color_palette()\n",
    "    \n",
    "    genes = np.array(sorted(dataset_df['gene_name'].unique().tolist()))\n",
    "    \n",
    "    results = []\n",
    "    for i, gene in enumerate(genes):\n",
    "        df = dataset_df[dataset_df['gene_name'] == gene]\n",
    "        indices = df.index\n",
    "\n",
    "        y_p = y_pred[indices]\n",
    "        y_t = y_true[indices]\n",
    "        \n",
    "        results.append(np.mean(np.abs(y_p - y_t)))\n",
    "    \n",
    "    sorted_idx = np.argsort([np.sum(r) for r in results]).tolist()\n",
    "    sorted_maes = np.array(results)[sorted_idx]\n",
    "    \n",
    "    cm = pd.DataFrame(\n",
    "        sorted_maes[:plot_top], \n",
    "        index=[f'{g}' for i, g in enumerate(genes[sorted_idx][:plot_top])],\n",
    "        columns=[''],\n",
    "    )\n",
    "    sns.heatmap(cm, cmap=\"Greys_r\", annot=True, fmt='.2f', cbar=False, ax=ax);\n",
    "    plt.yticks(rotation=0)\n",
    "    ax.set_title('Mean average error (°C)')\n",
    "    \n",
    "    return f, ax, genes[sorted_idx], sorted_maes"
   ]
  },
  {
   "cell_type": "code",
   "execution_count": null,
   "metadata": {},
   "outputs": [],
   "source": [
    "_, _, sorted_genes, sorted_gene_maes = mae_per_gene(dataset_df, y, y_mean.flatten(), plot_top=20)"
   ]
  },
  {
   "cell_type": "code",
   "execution_count": null,
   "metadata": {},
   "outputs": [],
   "source": []
  }
 ],
 "metadata": {
  "kernelspec": {
   "display_name": "Python 3",
   "language": "python",
   "name": "python3"
  },
  "language_info": {
   "codemirror_mode": {
    "name": "ipython",
    "version": 3
   },
   "file_extension": ".py",
   "mimetype": "text/x-python",
   "name": "python",
   "nbconvert_exporter": "python",
   "pygments_lexer": "ipython3",
   "version": "3.7.6"
  }
 },
 "nbformat": 4,
 "nbformat_minor": 4
}
