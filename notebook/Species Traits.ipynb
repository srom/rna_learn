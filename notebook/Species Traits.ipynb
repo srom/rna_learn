{
 "cells": [
  {
   "cell_type": "code",
   "execution_count": 1,
   "metadata": {},
   "outputs": [],
   "source": [
    "import os\n",
    "\n",
    "import pandas as pd\n",
    "import numpy as np\n",
    "import matplotlib.pyplot as plt\n",
    "import seaborn as sns\n",
    "from sqlalchemy import create_engine\n",
    "\n",
    "if os.getcwd().endswith('notebook'):\n",
    "    os.chdir('..')"
   ]
  },
  {
   "cell_type": "code",
   "execution_count": 2,
   "metadata": {},
   "outputs": [],
   "source": [
    "sns.set(palette='colorblind', font_scale=1.3)"
   ]
  },
  {
   "cell_type": "code",
   "execution_count": 3,
   "metadata": {},
   "outputs": [],
   "source": [
    "db_path = os.path.join(os.getcwd(), 'data/condensed_traits/db/seq.db')\n",
    "engine = create_engine(f'sqlite+pysqlite:///{db_path}')"
   ]
  },
  {
   "cell_type": "code",
   "execution_count": 4,
   "metadata": {},
   "outputs": [
    {
     "data": {
      "text/html": [
       "<div>\n",
       "<style scoped>\n",
       "    .dataframe tbody tr th:only-of-type {\n",
       "        vertical-align: middle;\n",
       "    }\n",
       "\n",
       "    .dataframe tbody tr th {\n",
       "        vertical-align: top;\n",
       "    }\n",
       "\n",
       "    .dataframe thead th {\n",
       "        text-align: right;\n",
       "    }\n",
       "</style>\n",
       "<table border=\"1\" class=\"dataframe\">\n",
       "  <thead>\n",
       "    <tr style=\"text-align: right;\">\n",
       "      <th></th>\n",
       "      <th>species_taxid</th>\n",
       "      <th>species</th>\n",
       "      <th>genus</th>\n",
       "      <th>family</th>\n",
       "      <th>order</th>\n",
       "      <th>class</th>\n",
       "      <th>phylum</th>\n",
       "      <th>superkingdom</th>\n",
       "      <th>gram_stain</th>\n",
       "      <th>metabolism</th>\n",
       "      <th>...</th>\n",
       "      <th>genome_size.stdev</th>\n",
       "      <th>gc_content.stdev</th>\n",
       "      <th>coding_genes.stdev</th>\n",
       "      <th>optimum_tmp.stdev</th>\n",
       "      <th>optimum_ph.stdev</th>\n",
       "      <th>growth_tmp.stdev</th>\n",
       "      <th>rRNA16S_genes.stdev</th>\n",
       "      <th>tRNA_genes.stdev</th>\n",
       "      <th>data_source</th>\n",
       "      <th>ref_id</th>\n",
       "    </tr>\n",
       "  </thead>\n",
       "  <tbody>\n",
       "    <tr>\n",
       "      <th>0</th>\n",
       "      <td>7</td>\n",
       "      <td>Azorhizobium caulinodans</td>\n",
       "      <td>Azorhizobium</td>\n",
       "      <td>Xanthobacteraceae</td>\n",
       "      <td>Rhizobiales</td>\n",
       "      <td>Alphaproteobacteria</td>\n",
       "      <td>Proteobacteria</td>\n",
       "      <td>Bacteria</td>\n",
       "      <td>negative</td>\n",
       "      <td>aerobic</td>\n",
       "      <td>...</td>\n",
       "      <td>1.000</td>\n",
       "      <td>NaN</td>\n",
       "      <td>7.572</td>\n",
       "      <td>NaN</td>\n",
       "      <td>NaN</td>\n",
       "      <td>NaN</td>\n",
       "      <td>0.0</td>\n",
       "      <td>0.000</td>\n",
       "      <td>engqvist, genbank, gold, jemma-refseq, kegg, p...</td>\n",
       "      <td>705, 6102, 13521, 13643, 15838, 19908, 19956</td>\n",
       "    </tr>\n",
       "    <tr>\n",
       "      <th>1</th>\n",
       "      <td>9</td>\n",
       "      <td>Buchnera aphidicola</td>\n",
       "      <td>Buchnera</td>\n",
       "      <td>Erwiniaceae</td>\n",
       "      <td>Enterobacterales</td>\n",
       "      <td>Gammaproteobacteria</td>\n",
       "      <td>Proteobacteria</td>\n",
       "      <td>Bacteria</td>\n",
       "      <td>negative</td>\n",
       "      <td>None</td>\n",
       "      <td>...</td>\n",
       "      <td>81529.139</td>\n",
       "      <td>1.855</td>\n",
       "      <td>82.983</td>\n",
       "      <td>NaN</td>\n",
       "      <td>NaN</td>\n",
       "      <td>0.000</td>\n",
       "      <td>0.0</td>\n",
       "      <td>0.566</td>\n",
       "      <td>genbank, gold, jemma-refseq, kegg, microbe-dir...</td>\n",
       "      <td>5601, 9112, 9158, 9864, 9910, 10313, 10358, 10...</td>\n",
       "    </tr>\n",
       "    <tr>\n",
       "      <th>2</th>\n",
       "      <td>11</td>\n",
       "      <td>Cellulomonas gilvus</td>\n",
       "      <td>Cellulomonas</td>\n",
       "      <td>Cellulomonadaceae</td>\n",
       "      <td>Micrococcales</td>\n",
       "      <td>Actinobacteria</td>\n",
       "      <td>Actinobacteria</td>\n",
       "      <td>Bacteria</td>\n",
       "      <td>positive</td>\n",
       "      <td>facultative</td>\n",
       "      <td>...</td>\n",
       "      <td>0.447</td>\n",
       "      <td>0.007</td>\n",
       "      <td>23.587</td>\n",
       "      <td>0.0</td>\n",
       "      <td>NaN</td>\n",
       "      <td>NaN</td>\n",
       "      <td>0.0</td>\n",
       "      <td>0.000</td>\n",
       "      <td>engqvist, faprotax, genbank, gold, jemma-refse...</td>\n",
       "      <td>705, 1030, 6289, 13521, 13874, 16639, 19891, 1...</td>\n",
       "    </tr>\n",
       "    <tr>\n",
       "      <th>3</th>\n",
       "      <td>14</td>\n",
       "      <td>Dictyoglomus thermophilum</td>\n",
       "      <td>Dictyoglomus</td>\n",
       "      <td>Dictyoglomaceae</td>\n",
       "      <td>Dictyoglomales</td>\n",
       "      <td>Dictyoglomia</td>\n",
       "      <td>Dictyoglomi</td>\n",
       "      <td>Bacteria</td>\n",
       "      <td>negative</td>\n",
       "      <td>anaerobic</td>\n",
       "      <td>...</td>\n",
       "      <td>1.342</td>\n",
       "      <td>0.000</td>\n",
       "      <td>31.086</td>\n",
       "      <td>0.0</td>\n",
       "      <td>NaN</td>\n",
       "      <td>5.869</td>\n",
       "      <td>0.0</td>\n",
       "      <td>0.000</td>\n",
       "      <td>corkrey, engqvist, genbank, gold, jemma-refseq...</td>\n",
       "      <td>436, 705, 6230, 13521, 14083, 16003, 19891, 19...</td>\n",
       "    </tr>\n",
       "    <tr>\n",
       "      <th>4</th>\n",
       "      <td>19</td>\n",
       "      <td>Pelobacter carbinolicus</td>\n",
       "      <td>Pelobacter</td>\n",
       "      <td>Desulfuromonadaceae</td>\n",
       "      <td>Desulfuromonadales</td>\n",
       "      <td>Deltaproteobacteria</td>\n",
       "      <td>Proteobacteria</td>\n",
       "      <td>Bacteria</td>\n",
       "      <td>negative</td>\n",
       "      <td>anaerobic</td>\n",
       "      <td>...</td>\n",
       "      <td>138769.146</td>\n",
       "      <td>0.000</td>\n",
       "      <td>72.016</td>\n",
       "      <td>NaN</td>\n",
       "      <td>NaN</td>\n",
       "      <td>NaN</td>\n",
       "      <td>0.0</td>\n",
       "      <td>0.000</td>\n",
       "      <td>engqvist, faprotax, genbank, gold, jemma-refse...</td>\n",
       "      <td>705, 760, 5944, 13521, 14696, 15514, 19891, 19...</td>\n",
       "    </tr>\n",
       "  </tbody>\n",
       "</table>\n",
       "<p>5 rows × 79 columns</p>\n",
       "</div>"
      ],
      "text/plain": [
       "   species_taxid                    species         genus  \\\n",
       "0              7   Azorhizobium caulinodans  Azorhizobium   \n",
       "1              9        Buchnera aphidicola      Buchnera   \n",
       "2             11        Cellulomonas gilvus  Cellulomonas   \n",
       "3             14  Dictyoglomus thermophilum  Dictyoglomus   \n",
       "4             19    Pelobacter carbinolicus    Pelobacter   \n",
       "\n",
       "                family               order                class  \\\n",
       "0    Xanthobacteraceae         Rhizobiales  Alphaproteobacteria   \n",
       "1          Erwiniaceae    Enterobacterales  Gammaproteobacteria   \n",
       "2    Cellulomonadaceae       Micrococcales       Actinobacteria   \n",
       "3      Dictyoglomaceae      Dictyoglomales         Dictyoglomia   \n",
       "4  Desulfuromonadaceae  Desulfuromonadales  Deltaproteobacteria   \n",
       "\n",
       "           phylum superkingdom gram_stain   metabolism  ... genome_size.stdev  \\\n",
       "0  Proteobacteria     Bacteria   negative      aerobic  ...             1.000   \n",
       "1  Proteobacteria     Bacteria   negative         None  ...         81529.139   \n",
       "2  Actinobacteria     Bacteria   positive  facultative  ...             0.447   \n",
       "3     Dictyoglomi     Bacteria   negative    anaerobic  ...             1.342   \n",
       "4  Proteobacteria     Bacteria   negative    anaerobic  ...        138769.146   \n",
       "\n",
       "  gc_content.stdev coding_genes.stdev optimum_tmp.stdev optimum_ph.stdev  \\\n",
       "0              NaN              7.572               NaN              NaN   \n",
       "1            1.855             82.983               NaN              NaN   \n",
       "2            0.007             23.587               0.0              NaN   \n",
       "3            0.000             31.086               0.0              NaN   \n",
       "4            0.000             72.016               NaN              NaN   \n",
       "\n",
       "  growth_tmp.stdev rRNA16S_genes.stdev tRNA_genes.stdev  \\\n",
       "0              NaN                 0.0            0.000   \n",
       "1            0.000                 0.0            0.566   \n",
       "2              NaN                 0.0            0.000   \n",
       "3            5.869                 0.0            0.000   \n",
       "4              NaN                 0.0            0.000   \n",
       "\n",
       "                                         data_source  \\\n",
       "0  engqvist, genbank, gold, jemma-refseq, kegg, p...   \n",
       "1  genbank, gold, jemma-refseq, kegg, microbe-dir...   \n",
       "2  engqvist, faprotax, genbank, gold, jemma-refse...   \n",
       "3  corkrey, engqvist, genbank, gold, jemma-refseq...   \n",
       "4  engqvist, faprotax, genbank, gold, jemma-refse...   \n",
       "\n",
       "                                              ref_id  \n",
       "0       705, 6102, 13521, 13643, 15838, 19908, 19956  \n",
       "1  5601, 9112, 9158, 9864, 9910, 10313, 10358, 10...  \n",
       "2  705, 1030, 6289, 13521, 13874, 16639, 19891, 1...  \n",
       "3  436, 705, 6230, 13521, 14083, 16003, 19891, 19...  \n",
       "4  705, 760, 5944, 13521, 14696, 15514, 19891, 19...  \n",
       "\n",
       "[5 rows x 79 columns]"
      ]
     },
     "execution_count": 4,
     "metadata": {},
     "output_type": "execute_result"
    }
   ],
   "source": [
    "query = \"select * from species_traits\"\n",
    "traits = pd.read_sql(query, engine)\n",
    "traits.head()"
   ]
  },
  {
   "cell_type": "code",
   "execution_count": 5,
   "metadata": {},
   "outputs": [
    {
     "data": {
      "text/plain": [
       "Index(['species_taxid', 'species', 'genus', 'family', 'order', 'class',\n",
       "       'phylum', 'superkingdom', 'gram_stain', 'metabolism', 'pathways',\n",
       "       'carbon_substrates', 'sporulation', 'motility', 'range_tmp',\n",
       "       'range_salinity', 'cell_shape', 'isolation_source', 'd1_lo', 'd1_up',\n",
       "       'd2_lo', 'd2_up', 'doubling_h', 'genome_size', 'gc_content',\n",
       "       'coding_genes', 'optimum_tmp', 'optimum_ph', 'growth_tmp',\n",
       "       'rRNA16S_genes', 'tRNA_genes', 'gram_stain.count', 'metabolism.count',\n",
       "       'pathways.count', 'carbon_substrates.count', 'sporulation.count',\n",
       "       'motility.count', 'range_tmp.count', 'range_salinity.count',\n",
       "       'cell_shape.count', 'isolation_source.count', 'gram_stain.prop',\n",
       "       'metabolism.prop', 'pathways.prop', 'carbon_substrates.prop',\n",
       "       'sporulation.prop', 'motility.prop', 'range_tmp.prop',\n",
       "       'range_salinity.prop', 'cell_shape.prop', 'isolation_source.prop',\n",
       "       'd1_lo.count', 'd1_up.count', 'd2_lo.count', 'd2_up.count',\n",
       "       'doubling_h.count', 'genome_size.count', 'gc_content.count',\n",
       "       'coding_genes.count', 'optimum_tmp.count', 'optimum_ph.count',\n",
       "       'growth_tmp.count', 'rRNA16S_genes.count', 'tRNA_genes.count',\n",
       "       'd1_lo.stdev', 'd1_up.stdev', 'd2_lo.stdev', 'd2_up.stdev',\n",
       "       'doubling_h.stdev', 'genome_size.stdev', 'gc_content.stdev',\n",
       "       'coding_genes.stdev', 'optimum_tmp.stdev', 'optimum_ph.stdev',\n",
       "       'growth_tmp.stdev', 'rRNA16S_genes.stdev', 'tRNA_genes.stdev',\n",
       "       'data_source', 'ref_id'],\n",
       "      dtype='object')"
      ]
     },
     "execution_count": 5,
     "metadata": {},
     "output_type": "execute_result"
    }
   ],
   "source": [
    "traits.columns"
   ]
  },
  {
   "cell_type": "code",
   "execution_count": 34,
   "metadata": {},
   "outputs": [
    {
     "data": {
      "text/html": [
       "<div>\n",
       "<style scoped>\n",
       "    .dataframe tbody tr th:only-of-type {\n",
       "        vertical-align: middle;\n",
       "    }\n",
       "\n",
       "    .dataframe tbody tr th {\n",
       "        vertical-align: top;\n",
       "    }\n",
       "\n",
       "    .dataframe thead th {\n",
       "        text-align: right;\n",
       "    }\n",
       "</style>\n",
       "<table border=\"1\" class=\"dataframe\">\n",
       "  <thead>\n",
       "    <tr style=\"text-align: right;\">\n",
       "      <th></th>\n",
       "      <th>species_taxid</th>\n",
       "    </tr>\n",
       "    <tr>\n",
       "      <th>rRNA16S_genes</th>\n",
       "      <th></th>\n",
       "    </tr>\n",
       "  </thead>\n",
       "  <tbody>\n",
       "    <tr>\n",
       "      <th>2.000</th>\n",
       "      <td>316</td>\n",
       "    </tr>\n",
       "    <tr>\n",
       "      <th>3.000</th>\n",
       "      <td>265</td>\n",
       "    </tr>\n",
       "    <tr>\n",
       "      <th>4.000</th>\n",
       "      <td>233</td>\n",
       "    </tr>\n",
       "    <tr>\n",
       "      <th>1.000</th>\n",
       "      <td>207</td>\n",
       "    </tr>\n",
       "    <tr>\n",
       "      <th>6.000</th>\n",
       "      <td>139</td>\n",
       "    </tr>\n",
       "    <tr>\n",
       "      <th>...</th>\n",
       "      <td>...</td>\n",
       "    </tr>\n",
       "    <tr>\n",
       "      <th>4.933</th>\n",
       "      <td>1</td>\n",
       "    </tr>\n",
       "    <tr>\n",
       "      <th>4.900</th>\n",
       "      <td>1</td>\n",
       "    </tr>\n",
       "    <tr>\n",
       "      <th>4.800</th>\n",
       "      <td>1</td>\n",
       "    </tr>\n",
       "    <tr>\n",
       "      <th>4.667</th>\n",
       "      <td>1</td>\n",
       "    </tr>\n",
       "    <tr>\n",
       "      <th>17.000</th>\n",
       "      <td>1</td>\n",
       "    </tr>\n",
       "  </tbody>\n",
       "</table>\n",
       "<p>127 rows × 1 columns</p>\n",
       "</div>"
      ],
      "text/plain": [
       "               species_taxid\n",
       "rRNA16S_genes               \n",
       "2.000                    316\n",
       "3.000                    265\n",
       "4.000                    233\n",
       "1.000                    207\n",
       "6.000                    139\n",
       "...                      ...\n",
       "4.933                      1\n",
       "4.900                      1\n",
       "4.800                      1\n",
       "4.667                      1\n",
       "17.000                     1\n",
       "\n",
       "[127 rows x 1 columns]"
      ]
     },
     "execution_count": 34,
     "metadata": {},
     "output_type": "execute_result"
    }
   ],
   "source": [
    "trait = 'rRNA16S_genes'\n",
    "traits[['species_taxid', trait]].groupby(trait).count().sort_values('species_taxid', ascending=False)"
   ]
  },
  {
   "cell_type": "code",
   "execution_count": 35,
   "metadata": {},
   "outputs": [
    {
     "data": {
      "text/plain": [
       "count    1740.000000\n",
       "mean        4.295890\n",
       "std         2.745868\n",
       "min         1.000000\n",
       "25%         2.000000\n",
       "50%         4.000000\n",
       "75%         6.000000\n",
       "max        17.000000\n",
       "Name: rRNA16S_genes, dtype: float64"
      ]
     },
     "execution_count": 35,
     "metadata": {},
     "output_type": "execute_result"
    }
   ],
   "source": [
    "traits['rRNA16S_genes'].describe()"
   ]
  },
  {
   "cell_type": "code",
   "execution_count": 6,
   "metadata": {},
   "outputs": [
    {
     "data": {
      "image/png": "[encoded data removed]",
      "text/plain": [
       "<Figure size 864x432 with 1 Axes>"
      ]
     },
     "metadata": {},
     "output_type": "display_data"
    }
   ],
   "source": [
    "_, ax = plt.subplots(1, 1, figsize=(12, 6))\n",
    "traits[traits['growth_tmp.stdev'].notnull()]['growth_tmp.stdev'].hist(ax=ax, bins=100);"
   ]
  },
  {
   "cell_type": "code",
   "execution_count": 7,
   "metadata": {},
   "outputs": [],
   "source": [
    "candidates = traits[\n",
    "    (traits['growth_tmp.stdev'].notnull()) &\n",
    "    (traits['growth_tmp.stdev'] > 0) &\n",
    "    (traits['growth_tmp.stdev'] < 5)\n",
    "]"
   ]
  },
  {
   "cell_type": "code",
   "execution_count": 8,
   "metadata": {},
   "outputs": [
    {
     "data": {
      "text/plain": [
       "6       engqvist, genbank, gold, jemma-refseq, kegg, m...\n",
       "7            engqvist, genbank, gold, kegg, patric, rrndb\n",
       "12      engqvist, faprotax, genbank, gold, jemma-refse...\n",
       "17      engqvist, faprotax, genbank, gold, jemma-refse...\n",
       "23      corkrey, engqvist, genbank, gold, jemma-refseq...\n",
       "                              ...                        \n",
       "2164          campedelli, engqvist, genbank, gold, patric\n",
       "2166                                    corkrey, engqvist\n",
       "2171                    corkrey, engqvist, fierer, patric\n",
       "2182                 campedelli, engqvist, fierer, patric\n",
       "2264                      engqvist, genbank, gold, patric\n",
       "Name: data_source, Length: 525, dtype: object"
      ]
     },
     "execution_count": 8,
     "metadata": {},
     "output_type": "execute_result"
    }
   ],
   "source": [
    "candidates['data_source']"
   ]
  },
  {
   "cell_type": "code",
   "execution_count": 9,
   "metadata": {},
   "outputs": [
    {
     "data": {
      "text/plain": [
       "['growth_tmp', 'growth_tmp.count', 'growth_tmp.stdev']"
      ]
     },
     "execution_count": 9,
     "metadata": {},
     "output_type": "execute_result"
    }
   ],
   "source": [
    "[c for c in traits.columns if 'growth_tmp' in c]"
   ]
  },
  {
   "cell_type": "code",
   "execution_count": 10,
   "metadata": {},
   "outputs": [
    {
     "data": {
      "text/plain": [
       "species       Elizabethkingia meningoseptica\n",
       "growth_tmp                                34\n",
       "Name: 53, dtype: object"
      ]
     },
     "execution_count": 10,
     "metadata": {},
     "output_type": "execute_result"
    }
   ],
   "source": [
    "candidates.iloc[10][['species', 'growth_tmp']]"
   ]
  },
  {
   "cell_type": "code",
   "execution_count": null,
   "metadata": {},
   "outputs": [],
   "source": []
  }
 ],
 "metadata": {
  "kernelspec": {
   "display_name": "Python 3",
   "language": "python",
   "name": "python3"
  },
  "language_info": {
   "codemirror_mode": {
    "name": "ipython",
    "version": 3
   },
   "file_extension": ".py",
   "mimetype": "text/x-python",
   "name": "python",
   "nbconvert_exporter": "python",
   "pygments_lexer": "ipython3",
   "version": "3.7.6"
  }
 },
 "nbformat": 4,
 "nbformat_minor": 4
}
