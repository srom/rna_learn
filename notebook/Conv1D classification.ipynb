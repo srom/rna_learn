{
 "cells": [
  {
   "cell_type": "code",
   "execution_count": 1,
   "metadata": {},
   "outputs": [],
   "source": [
    "import os\n",
    "import json\n",
    "\n",
    "import pandas as pd\n",
    "import numpy as np\n",
    "import tensorflow as tf\n",
    "import matplotlib.pyplot as plt\n",
    "import seaborn as sns\n",
    "from tensorflow.keras.models import load_model\n",
    "\n",
    "if os.getcwd().endswith('notebook'):\n",
    "    os.chdir('..')\n",
    "\n",
    "from rna_learn.transform import (\n",
    "    sequence_embedding, \n",
    "    normalize, denormalize,\n",
    "    make_dataset_balanced,\n",
    "    one_hot_encode_classes,\n",
    "    split_train_test_set,\n",
    ")\n",
    "from rna_learn.load import load_mrna_model, load_dataset\n",
    "from rna_learn.model import conv1d_classification_model\n",
    "from rna_learn.vae import variational_autoencoder, compile_vae"
   ]
  },
  {
   "cell_type": "code",
   "execution_count": 2,
   "metadata": {},
   "outputs": [],
   "source": [
    "sns.set(palette='colorblind', font_scale=1.3)"
   ]
  },
  {
   "cell_type": "code",
   "execution_count": 3,
   "metadata": {},
   "outputs": [],
   "source": [
    "alphabet = ['A', 'T', 'G', 'C']\n",
    "classes = ['psychrophilic', 'mesophilic', 'thermophilic']"
   ]
  },
  {
   "cell_type": "code",
   "execution_count": 4,
   "metadata": {},
   "outputs": [],
   "source": [
    "run_id = 'run_1eo28'\n",
    "model_path = os.path.join(os.getcwd(), f'hyperparameters/{run_id}/best_model.h5')\n",
    "test_set_path = os.path.join(os.getcwd(), 'data/dataset_test.csv')"
   ]
  },
  {
   "cell_type": "code",
   "execution_count": 5,
   "metadata": {},
   "outputs": [
    {
     "name": "stdout",
     "output_type": "stream",
     "text": [
      "Model: \"model_1\"\n",
      "_________________________________________________________________\n",
      "Layer (type)                 Output Shape              Param #   \n",
      "=================================================================\n",
      "sequence (InputLayer)        [(None, None, 4)]         0         \n",
      "_________________________________________________________________\n",
      "conv1d_2 (Conv1D)            (None, None, 100)         4100      \n",
      "_________________________________________________________________\n",
      "conv1d_3 (Conv1D)            (None, None, 100)         100100    \n",
      "_________________________________________________________________\n",
      "conv1d_4 (Conv1D)            (None, None, 100)         100100    \n",
      "_________________________________________________________________\n",
      "conv1d_5 (Conv1D)            (None, None, 100)         100100    \n",
      "_________________________________________________________________\n",
      "global_average_pooling1d_1 ( (None, 100)               0         \n",
      "_________________________________________________________________\n",
      "dropout_1 (Dropout)          (None, 100)               0         \n",
      "_________________________________________________________________\n",
      "dense_1 (Dense)              (None, 3)                 303       \n",
      "=================================================================\n",
      "Total params: 304,703\n",
      "Trainable params: 304,703\n",
      "Non-trainable params: 0\n",
      "_________________________________________________________________\n"
     ]
    }
   ],
   "source": [
    "model = load_model(model_path)\n",
    "model.summary()"
   ]
  },
  {
   "cell_type": "code",
   "execution_count": 6,
   "metadata": {},
   "outputs": [
    {
     "data": {
      "text/html": [
       "<div>\n",
       "<style scoped>\n",
       "    .dataframe tbody tr th:only-of-type {\n",
       "        vertical-align: middle;\n",
       "    }\n",
       "\n",
       "    .dataframe tbody tr th {\n",
       "        vertical-align: top;\n",
       "    }\n",
       "\n",
       "    .dataframe thead th {\n",
       "        text-align: right;\n",
       "    }\n",
       "</style>\n",
       "<table border=\"1\" class=\"dataframe\">\n",
       "  <thead>\n",
       "    <tr style=\"text-align: right;\">\n",
       "      <th></th>\n",
       "      <th>specie_name</th>\n",
       "      <th>seqid</th>\n",
       "      <th>gene_name</th>\n",
       "      <th>start_inclusive</th>\n",
       "      <th>end_exclusive</th>\n",
       "      <th>length</th>\n",
       "      <th>strand</th>\n",
       "      <th>temperature</th>\n",
       "      <th>temperature_range</th>\n",
       "      <th>sequence</th>\n",
       "      <th>gc_content</th>\n",
       "    </tr>\n",
       "  </thead>\n",
       "  <tbody>\n",
       "    <tr>\n",
       "      <th>0</th>\n",
       "      <td>Micropolyspora internatus</td>\n",
       "      <td>NC_013159.1</td>\n",
       "      <td>rnpB</td>\n",
       "      <td>742238</td>\n",
       "      <td>742645</td>\n",
       "      <td>407</td>\n",
       "      <td>+</td>\n",
       "      <td>45.0</td>\n",
       "      <td>thermophilic</td>\n",
       "      <td>CGAGTTGGCAGGGCGGCCGCGGCCGAGGGCATCGTCTCGACGTCTT...</td>\n",
       "      <td>0.685504</td>\n",
       "    </tr>\n",
       "    <tr>\n",
       "      <th>1</th>\n",
       "      <td>Listonella anguillarum</td>\n",
       "      <td>NC_015633.1</td>\n",
       "      <td>recA</td>\n",
       "      <td>2753532</td>\n",
       "      <td>2754579</td>\n",
       "      <td>1047</td>\n",
       "      <td>-</td>\n",
       "      <td>20.0</td>\n",
       "      <td>psychrophilic</td>\n",
       "      <td>ATGGACGAAAATAAGCAGAAGGCGCTAGCCGCAGCACTGGGTCAAA...</td>\n",
       "      <td>0.442216</td>\n",
       "    </tr>\n",
       "    <tr>\n",
       "      <th>2</th>\n",
       "      <td>Comamonas badia</td>\n",
       "      <td>NZ_AXVM01000006.1</td>\n",
       "      <td>rpsR</td>\n",
       "      <td>29593</td>\n",
       "      <td>29878</td>\n",
       "      <td>285</td>\n",
       "      <td>-</td>\n",
       "      <td>28.0</td>\n",
       "      <td>mesophilic</td>\n",
       "      <td>TTGACCATGTTCAGGAAATTCAACAAGAATGGCAAGAACGGCAAGC...</td>\n",
       "      <td>0.568421</td>\n",
       "    </tr>\n",
       "    <tr>\n",
       "      <th>3</th>\n",
       "      <td>Acetobacter orientalis</td>\n",
       "      <td>NZ_BAMX01000009.1</td>\n",
       "      <td>tsaD</td>\n",
       "      <td>11584</td>\n",
       "      <td>12799</td>\n",
       "      <td>1215</td>\n",
       "      <td>-</td>\n",
       "      <td>30.0</td>\n",
       "      <td>mesophilic</td>\n",
       "      <td>ATGGCGGTCAGCAGCCAGTTTTCAGGCTTACCCGGCACCCCTCACA...</td>\n",
       "      <td>0.596708</td>\n",
       "    </tr>\n",
       "    <tr>\n",
       "      <th>4</th>\n",
       "      <td>Alicyclobacillus kakegawensis</td>\n",
       "      <td>NZ_BCRP01000001.1</td>\n",
       "      <td>tsaD</td>\n",
       "      <td>64880</td>\n",
       "      <td>65918</td>\n",
       "      <td>1038</td>\n",
       "      <td>-</td>\n",
       "      <td>50.0</td>\n",
       "      <td>thermophilic</td>\n",
       "      <td>TTGCTCCTGTTGGGCATTGAGACGAGTTGCGACGAGACCGCCGCGG...</td>\n",
       "      <td>0.680154</td>\n",
       "    </tr>\n",
       "  </tbody>\n",
       "</table>\n",
       "</div>"
      ],
      "text/plain": [
       "                     specie_name              seqid gene_name  \\\n",
       "0      Micropolyspora internatus        NC_013159.1      rnpB   \n",
       "1         Listonella anguillarum        NC_015633.1      recA   \n",
       "2                Comamonas badia  NZ_AXVM01000006.1      rpsR   \n",
       "3         Acetobacter orientalis  NZ_BAMX01000009.1      tsaD   \n",
       "4  Alicyclobacillus kakegawensis  NZ_BCRP01000001.1      tsaD   \n",
       "\n",
       "   start_inclusive  end_exclusive  length strand  temperature  \\\n",
       "0           742238         742645     407      +         45.0   \n",
       "1          2753532        2754579    1047      -         20.0   \n",
       "2            29593          29878     285      -         28.0   \n",
       "3            11584          12799    1215      -         30.0   \n",
       "4            64880          65918    1038      -         50.0   \n",
       "\n",
       "  temperature_range                                           sequence  \\\n",
       "0      thermophilic  CGAGTTGGCAGGGCGGCCGCGGCCGAGGGCATCGTCTCGACGTCTT...   \n",
       "1     psychrophilic  ATGGACGAAAATAAGCAGAAGGCGCTAGCCGCAGCACTGGGTCAAA...   \n",
       "2        mesophilic  TTGACCATGTTCAGGAAATTCAACAAGAATGGCAAGAACGGCAAGC...   \n",
       "3        mesophilic  ATGGCGGTCAGCAGCCAGTTTTCAGGCTTACCCGGCACCCCTCACA...   \n",
       "4      thermophilic  TTGCTCCTGTTGGGCATTGAGACGAGTTGCGACGAGACCGCCGCGG...   \n",
       "\n",
       "   gc_content  \n",
       "0    0.685504  \n",
       "1    0.442216  \n",
       "2    0.568421  \n",
       "3    0.596708  \n",
       "4    0.680154  "
      ]
     },
     "execution_count": 6,
     "metadata": {},
     "output_type": "execute_result"
    }
   ],
   "source": [
    "dataset_df = load_dataset(test_set_path, alphabet)\n",
    "dataset_df.head()"
   ]
  },
  {
   "cell_type": "code",
   "execution_count": 7,
   "metadata": {},
   "outputs": [],
   "source": [
    "sequences = dataset_df['sequence'].values\n",
    "temperature_classes = dataset_df['temperature_range'].values\n",
    "\n",
    "x_test = sequence_embedding(sequences, alphabet)\n",
    "y_test = one_hot_encode_classes(temperature_classes, classes)"
   ]
  },
  {
   "cell_type": "code",
   "execution_count": 8,
   "metadata": {},
   "outputs": [
    {
     "name": "stdout",
     "output_type": "stream",
     "text": [
      "CPU times: user 3min 36s, sys: 1.64 s, total: 3min 38s\n",
      "Wall time: 29.7 s\n"
     ]
    },
    {
     "data": {
      "text/plain": [
       "[0.9927175012794701, 0.5016216]"
      ]
     },
     "execution_count": 8,
     "metadata": {},
     "output_type": "execute_result"
    }
   ],
   "source": [
    "%%time\n",
    "model.evaluate(x_test, y_test, verbose=0)"
   ]
  },
  {
   "cell_type": "code",
   "execution_count": null,
   "metadata": {},
   "outputs": [],
   "source": [
    "%%time\n",
    "y_pred = model(x_test)\n",
    "\n",
    "labels = [np.argmax(el) for el in y_test]\n",
    "predictions = [np.argmax(el) for el in y_pred]"
   ]
  },
  {
   "cell_type": "code",
   "execution_count": null,
   "metadata": {},
   "outputs": [],
   "source": [
    "def plot_confusion_matrix(labels, predictions, classes):\n",
    "    conf = tf.math.confusion_matrix(labels, predictions).numpy()\n",
    "    conf_sum = np.sum(conf, axis=1)\n",
    "    conf_p = conf / conf_sum\n",
    "    \n",
    "    df_cm = pd.DataFrame(\n",
    "        conf_p, \n",
    "        index=[f'{c}: {i}' for i, c in enumerate(classes)],\n",
    "        columns=[f'{i}' for i, c in enumerate(classes)],\n",
    "    )\n",
    "    ax = sns.heatmap(df_cm, cmap=\"Purples\", annot=True, fmt='.0%', cbar=False);\n",
    "    ax.set_xlabel('Predictions');\n",
    "    ax.set_ylabel('Labels');"
   ]
  },
  {
   "cell_type": "code",
   "execution_count": null,
   "metadata": {},
   "outputs": [],
   "source": [
    "plot_confusion_matrix(labels, predictions, classes)"
   ]
  },
  {
   "cell_type": "markdown",
   "metadata": {},
   "source": [
    "## VAE"
   ]
  },
  {
   "cell_type": "code",
   "execution_count": null,
   "metadata": {},
   "outputs": [],
   "source": [
    "prior, encoder, decoder, vae = variational_autoencoder(\n",
    "    n_inputs=100, \n",
    "    encoding_size=2, \n",
    "    n_hidden=100,\n",
    "    n_layers=3,\n",
    ")\n",
    "compile_vae(vae, learning_rate=1e-4)\n",
    "vae.summary()"
   ]
  },
  {
   "cell_type": "code",
   "execution_count": null,
   "metadata": {},
   "outputs": [],
   "source": [
    "layer_name = 'global_average_pooling1d_1'\n",
    "intermediate_layer_model = tf.keras.Model(\n",
    "    inputs=model.input,\n",
    "    outputs=model.get_layer(layer_name).output,\n",
    ")\n",
    "x_logits = intermediate_layer_model(x_test).numpy()\n",
    "print(x_logits.shape)"
   ]
  },
  {
   "cell_type": "code",
   "execution_count": null,
   "metadata": {
    "scrolled": true
   },
   "outputs": [],
   "source": [
    "do_train_vae = True\n",
    "vae_model_path = os.path.join(os.getcwd(), f'hyperparameters/{run_id}/vae.h5')\n",
    "\n",
    "if do_train_vae:\n",
    "    vae.fit(\n",
    "        x_logits, x_logits,\n",
    "        #validation_data=(x_logits, x_logits),\n",
    "        batch_size=32,\n",
    "        epochs=2000,\n",
    "    )\n",
    "    vae.save(vae_model_path)\n",
    "else:\n",
    "    vae.load_weights(vae_model_path)"
   ]
  },
  {
   "cell_type": "code",
   "execution_count": null,
   "metadata": {},
   "outputs": [],
   "source": [
    "encoding_dist = encoder(x_logits)\n",
    "encoding = encoding_dist.mean().numpy()"
   ]
  },
  {
   "cell_type": "code",
   "execution_count": null,
   "metadata": {},
   "outputs": [],
   "source": [
    "def plot_encoding(encoding, labels, figsize=(12, 6), show_only=None):\n",
    "    f, ax = plt.subplots(1, 1, figsize=figsize)\n",
    "    \n",
    "    palette = sns.color_palette()\n",
    "    \n",
    "    for i, code in enumerate(encoding):\n",
    "        if show_only is not None and labels[i] not in show_only:\n",
    "            continue\n",
    "        ax.plot(code[0], code[1], 'o', color=palette[labels[i]])\n",
    "    \n",
    "    return f, ax"
   ]
  },
  {
   "cell_type": "code",
   "execution_count": null,
   "metadata": {},
   "outputs": [],
   "source": [
    "plot_encoding(encoding, labels, show_only=(0, 2));"
   ]
  },
  {
   "cell_type": "code",
   "execution_count": null,
   "metadata": {},
   "outputs": [],
   "source": []
  }
 ],
 "metadata": {
  "kernelspec": {
   "display_name": "Python 3",
   "language": "python",
   "name": "python3"
  },
  "language_info": {
   "codemirror_mode": {
    "name": "ipython",
    "version": 3
   },
   "file_extension": ".py",
   "mimetype": "text/x-python",
   "name": "python",
   "nbconvert_exporter": "python",
   "pygments_lexer": "ipython3",
   "version": "3.7.5"
  }
 },
 "nbformat": 4,
 "nbformat_minor": 2
}
