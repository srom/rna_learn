{
 "cells": [
  {
   "cell_type": "code",
   "execution_count": 164,
   "metadata": {},
   "outputs": [],
   "source": [
    "import re\n",
    "import os\n",
    "import datetime\n",
    "import gzip\n",
    "from pathlib import Path\n",
    "\n",
    "import pandas as pd\n",
    "import numpy as np\n",
    "import matplotlib.pyplot as plt\n",
    "import seaborn as sns\n",
    "from Bio import SeqIO\n",
    "import gffutils\n",
    "\n",
    "if os.getcwd().endswith('notebook'):\n",
    "    os.chdir('..')"
   ]
  },
  {
   "cell_type": "code",
   "execution_count": 3,
   "metadata": {},
   "outputs": [],
   "source": [
    "sns.set(palette='colorblind', font_scale=1.3)"
   ]
  },
  {
   "cell_type": "markdown",
   "metadata": {},
   "source": [
    "## Load traits"
   ]
  },
  {
   "cell_type": "code",
   "execution_count": 8,
   "metadata": {},
   "outputs": [
    {
     "data": {
      "text/plain": [
       "11265"
      ]
     },
     "execution_count": 8,
     "metadata": {},
     "output_type": "execute_result"
    }
   ],
   "source": [
    "species_traits_path = os.path.join(os.getcwd(), 'data/condensed_traits/condensed_species_NCBI_with_ogt.csv')\n",
    "species_traits_all = pd.read_csv(species_traits_path)\n",
    "len(species_traits_all)"
   ]
  },
  {
   "cell_type": "code",
   "execution_count": 10,
   "metadata": {},
   "outputs": [],
   "source": [
    "species_traits_all['species_taxid'] = species_traits_all['species_tax_id']"
   ]
  },
  {
   "cell_type": "code",
   "execution_count": 11,
   "metadata": {},
   "outputs": [
    {
     "data": {
      "text/html": [
       "<div>\n",
       "<style scoped>\n",
       "    .dataframe tbody tr th:only-of-type {\n",
       "        vertical-align: middle;\n",
       "    }\n",
       "\n",
       "    .dataframe tbody tr th {\n",
       "        vertical-align: top;\n",
       "    }\n",
       "\n",
       "    .dataframe thead th {\n",
       "        text-align: right;\n",
       "    }\n",
       "</style>\n",
       "<table border=\"1\" class=\"dataframe\">\n",
       "  <thead>\n",
       "    <tr style=\"text-align: right;\">\n",
       "      <th></th>\n",
       "      <th>species_tax_id</th>\n",
       "      <th>species</th>\n",
       "      <th>genus</th>\n",
       "      <th>family</th>\n",
       "      <th>order</th>\n",
       "      <th>class</th>\n",
       "      <th>phylum</th>\n",
       "      <th>superkingdom</th>\n",
       "      <th>gram_stain</th>\n",
       "      <th>metabolism</th>\n",
       "      <th>...</th>\n",
       "      <th>gc_content.stdev</th>\n",
       "      <th>coding_genes.stdev</th>\n",
       "      <th>optimum_tmp.stdev</th>\n",
       "      <th>optimum_ph.stdev</th>\n",
       "      <th>growth_tmp.stdev</th>\n",
       "      <th>rRNA16S_genes.stdev</th>\n",
       "      <th>tRNA_genes.stdev</th>\n",
       "      <th>data_source</th>\n",
       "      <th>ref_id</th>\n",
       "      <th>species_taxid</th>\n",
       "    </tr>\n",
       "  </thead>\n",
       "  <tbody>\n",
       "    <tr>\n",
       "      <th>0</th>\n",
       "      <td>1416943</td>\n",
       "      <td>Lactobacillus sicerae</td>\n",
       "      <td>Lactobacillus</td>\n",
       "      <td>Lactobacillaceae</td>\n",
       "      <td>Lactobacillales</td>\n",
       "      <td>Bacilli</td>\n",
       "      <td>Firmicutes</td>\n",
       "      <td>Bacteria</td>\n",
       "      <td>NaN</td>\n",
       "      <td>anaerobic</td>\n",
       "      <td>...</td>\n",
       "      <td>NaN</td>\n",
       "      <td>NaN</td>\n",
       "      <td>NaN</td>\n",
       "      <td>NaN</td>\n",
       "      <td>0.0</td>\n",
       "      <td>NaN</td>\n",
       "      <td>NaN</td>\n",
       "      <td>campedelli</td>\n",
       "      <td>152</td>\n",
       "      <td>1416943</td>\n",
       "    </tr>\n",
       "    <tr>\n",
       "      <th>1</th>\n",
       "      <td>1229250</td>\n",
       "      <td>Ammoniibacillus agariperforans</td>\n",
       "      <td>Ammoniibacillus</td>\n",
       "      <td>Paenibacillaceae</td>\n",
       "      <td>Bacillales</td>\n",
       "      <td>Bacilli</td>\n",
       "      <td>Firmicutes</td>\n",
       "      <td>Bacteria</td>\n",
       "      <td>NaN</td>\n",
       "      <td>aerobic</td>\n",
       "      <td>...</td>\n",
       "      <td>NaN</td>\n",
       "      <td>NaN</td>\n",
       "      <td>NaN</td>\n",
       "      <td>NaN</td>\n",
       "      <td>0.0</td>\n",
       "      <td>NaN</td>\n",
       "      <td>NaN</td>\n",
       "      <td>corkrey</td>\n",
       "      <td>181</td>\n",
       "      <td>1229250</td>\n",
       "    </tr>\n",
       "    <tr>\n",
       "      <th>2</th>\n",
       "      <td>1081799</td>\n",
       "      <td>Thermomarinilinea lacunifontana</td>\n",
       "      <td>Thermomarinilinea</td>\n",
       "      <td>Anaerolineaceae</td>\n",
       "      <td>Anaerolineales</td>\n",
       "      <td>Anaerolineae</td>\n",
       "      <td>Chloroflexi</td>\n",
       "      <td>Bacteria</td>\n",
       "      <td>NaN</td>\n",
       "      <td>aerobic</td>\n",
       "      <td>...</td>\n",
       "      <td>NaN</td>\n",
       "      <td>NaN</td>\n",
       "      <td>NaN</td>\n",
       "      <td>NaN</td>\n",
       "      <td>0.0</td>\n",
       "      <td>NaN</td>\n",
       "      <td>NaN</td>\n",
       "      <td>corkrey</td>\n",
       "      <td>206</td>\n",
       "      <td>1081799</td>\n",
       "    </tr>\n",
       "    <tr>\n",
       "      <th>3</th>\n",
       "      <td>1323370</td>\n",
       "      <td>Caloranaerobacter ferrireducens</td>\n",
       "      <td>Caloranaerobacter</td>\n",
       "      <td>Clostridiaceae</td>\n",
       "      <td>Clostridiales</td>\n",
       "      <td>Clostridia</td>\n",
       "      <td>Firmicutes</td>\n",
       "      <td>Bacteria</td>\n",
       "      <td>NaN</td>\n",
       "      <td>anaerobic</td>\n",
       "      <td>...</td>\n",
       "      <td>NaN</td>\n",
       "      <td>NaN</td>\n",
       "      <td>NaN</td>\n",
       "      <td>NaN</td>\n",
       "      <td>0.0</td>\n",
       "      <td>NaN</td>\n",
       "      <td>NaN</td>\n",
       "      <td>corkrey</td>\n",
       "      <td>380</td>\n",
       "      <td>1323370</td>\n",
       "    </tr>\n",
       "    <tr>\n",
       "      <th>4</th>\n",
       "      <td>192731</td>\n",
       "      <td>Halomicronema excentricum</td>\n",
       "      <td>Halomicronema</td>\n",
       "      <td>Leptolyngbyaceae</td>\n",
       "      <td>Synechococcales</td>\n",
       "      <td>NaN</td>\n",
       "      <td>Cyanobacteria</td>\n",
       "      <td>Bacteria</td>\n",
       "      <td>NaN</td>\n",
       "      <td>aerobic</td>\n",
       "      <td>...</td>\n",
       "      <td>NaN</td>\n",
       "      <td>NaN</td>\n",
       "      <td>NaN</td>\n",
       "      <td>NaN</td>\n",
       "      <td>0.0</td>\n",
       "      <td>NaN</td>\n",
       "      <td>NaN</td>\n",
       "      <td>corkrey</td>\n",
       "      <td>406</td>\n",
       "      <td>192731</td>\n",
       "    </tr>\n",
       "  </tbody>\n",
       "</table>\n",
       "<p>5 rows × 80 columns</p>\n",
       "</div>"
      ],
      "text/plain": [
       "   species_tax_id                          species              genus  \\\n",
       "0         1416943            Lactobacillus sicerae      Lactobacillus   \n",
       "1         1229250   Ammoniibacillus agariperforans    Ammoniibacillus   \n",
       "2         1081799  Thermomarinilinea lacunifontana  Thermomarinilinea   \n",
       "3         1323370  Caloranaerobacter ferrireducens  Caloranaerobacter   \n",
       "4          192731        Halomicronema excentricum      Halomicronema   \n",
       "\n",
       "             family            order         class         phylum  \\\n",
       "0  Lactobacillaceae  Lactobacillales       Bacilli     Firmicutes   \n",
       "1  Paenibacillaceae       Bacillales       Bacilli     Firmicutes   \n",
       "2   Anaerolineaceae   Anaerolineales  Anaerolineae    Chloroflexi   \n",
       "3    Clostridiaceae    Clostridiales    Clostridia     Firmicutes   \n",
       "4  Leptolyngbyaceae  Synechococcales           NaN  Cyanobacteria   \n",
       "\n",
       "  superkingdom gram_stain metabolism  ... gc_content.stdev coding_genes.stdev  \\\n",
       "0     Bacteria        NaN  anaerobic  ...              NaN                NaN   \n",
       "1     Bacteria        NaN    aerobic  ...              NaN                NaN   \n",
       "2     Bacteria        NaN    aerobic  ...              NaN                NaN   \n",
       "3     Bacteria        NaN  anaerobic  ...              NaN                NaN   \n",
       "4     Bacteria        NaN    aerobic  ...              NaN                NaN   \n",
       "\n",
       "  optimum_tmp.stdev optimum_ph.stdev growth_tmp.stdev rRNA16S_genes.stdev  \\\n",
       "0               NaN              NaN              0.0                 NaN   \n",
       "1               NaN              NaN              0.0                 NaN   \n",
       "2               NaN              NaN              0.0                 NaN   \n",
       "3               NaN              NaN              0.0                 NaN   \n",
       "4               NaN              NaN              0.0                 NaN   \n",
       "\n",
       "  tRNA_genes.stdev data_source  ref_id  species_taxid  \n",
       "0              NaN  campedelli     152        1416943  \n",
       "1              NaN     corkrey     181        1229250  \n",
       "2              NaN     corkrey     206        1081799  \n",
       "3              NaN     corkrey     380        1323370  \n",
       "4              NaN     corkrey     406         192731  \n",
       "\n",
       "[5 rows x 80 columns]"
      ]
     },
     "execution_count": 11,
     "metadata": {},
     "output_type": "execute_result"
    }
   ],
   "source": [
    "species_traits_all.head()"
   ]
  },
  {
   "cell_type": "markdown",
   "metadata": {},
   "source": [
    "## Load NCBI species short-list"
   ]
  },
  {
   "cell_type": "code",
   "execution_count": 334,
   "metadata": {},
   "outputs": [
    {
     "data": {
      "text/plain": [
       "2359"
      ]
     },
     "execution_count": 334,
     "metadata": {},
     "output_type": "execute_result"
    }
   ],
   "source": [
    "ncbi_species_metadata = pd.read_csv(\n",
    "    os.path.join(os.getcwd(), 'data/condensed_traits/ncbi_species_final.csv'),\n",
    "    parse_dates=['seq_rel_date_processed'],\n",
    ")\n",
    "len(ncbi_species_metadata)"
   ]
  },
  {
   "cell_type": "code",
   "execution_count": 335,
   "metadata": {},
   "outputs": [
    {
     "data": {
      "text/html": [
       "<div>\n",
       "<style scoped>\n",
       "    .dataframe tbody tr th:only-of-type {\n",
       "        vertical-align: middle;\n",
       "    }\n",
       "\n",
       "    .dataframe tbody tr th {\n",
       "        vertical-align: top;\n",
       "    }\n",
       "\n",
       "    .dataframe thead th {\n",
       "        text-align: right;\n",
       "    }\n",
       "</style>\n",
       "<table border=\"1\" class=\"dataframe\">\n",
       "  <thead>\n",
       "    <tr style=\"text-align: right;\">\n",
       "      <th></th>\n",
       "      <th>assembly_accession</th>\n",
       "      <th>bioproject</th>\n",
       "      <th>biosample</th>\n",
       "      <th>wgs_master</th>\n",
       "      <th>refseq_category</th>\n",
       "      <th>taxid</th>\n",
       "      <th>species_taxid</th>\n",
       "      <th>organism_name</th>\n",
       "      <th>infraspecific_name</th>\n",
       "      <th>isolate</th>\n",
       "      <th>...</th>\n",
       "      <th>seq_rel_date</th>\n",
       "      <th>asm_name</th>\n",
       "      <th>submitter</th>\n",
       "      <th>gbrs_paired_asm</th>\n",
       "      <th>paired_asm_comp</th>\n",
       "      <th>ftp_path</th>\n",
       "      <th>excluded_from_refseq</th>\n",
       "      <th>relation_to_type_material</th>\n",
       "      <th>seq_rel_date_processed</th>\n",
       "      <th>download_url_base</th>\n",
       "    </tr>\n",
       "  </thead>\n",
       "  <tbody>\n",
       "    <tr>\n",
       "      <th>0</th>\n",
       "      <td>GCA_000005825.2</td>\n",
       "      <td>PRJNA28811</td>\n",
       "      <td>SAMN02603086</td>\n",
       "      <td>NaN</td>\n",
       "      <td>representative genome</td>\n",
       "      <td>398511</td>\n",
       "      <td>79885</td>\n",
       "      <td>Bacillus pseudofirmus OF4</td>\n",
       "      <td>strain=OF4</td>\n",
       "      <td>NaN</td>\n",
       "      <td>...</td>\n",
       "      <td>15/12/2010</td>\n",
       "      <td>ASM582v2</td>\n",
       "      <td>Center for Genomic Sciences, Allegheny-Singer ...</td>\n",
       "      <td>GCF_000005825.2</td>\n",
       "      <td>identical</td>\n",
       "      <td>ftp://ftp.ncbi.nlm.nih.gov/genomes/all/GCA/000...</td>\n",
       "      <td>NaN</td>\n",
       "      <td>NaN</td>\n",
       "      <td>2010-12-15</td>\n",
       "      <td>ftp://ftp.ncbi.nlm.nih.gov/genomes/all/GCA/000...</td>\n",
       "    </tr>\n",
       "    <tr>\n",
       "      <th>1</th>\n",
       "      <td>GCA_000005845.2</td>\n",
       "      <td>PRJNA225</td>\n",
       "      <td>SAMN02604091</td>\n",
       "      <td>NaN</td>\n",
       "      <td>reference genome</td>\n",
       "      <td>511145</td>\n",
       "      <td>562</td>\n",
       "      <td>Escherichia coli str. K-12 substr. MG1655</td>\n",
       "      <td>strain=K-12 substr. MG1655</td>\n",
       "      <td>NaN</td>\n",
       "      <td>...</td>\n",
       "      <td>26/09/2013</td>\n",
       "      <td>ASM584v2</td>\n",
       "      <td>Univ. Wisconsin</td>\n",
       "      <td>GCF_000005845.2</td>\n",
       "      <td>identical</td>\n",
       "      <td>ftp://ftp.ncbi.nlm.nih.gov/genomes/all/GCA/000...</td>\n",
       "      <td>NaN</td>\n",
       "      <td>NaN</td>\n",
       "      <td>2013-09-26</td>\n",
       "      <td>ftp://ftp.ncbi.nlm.nih.gov/genomes/all/GCA/000...</td>\n",
       "    </tr>\n",
       "    <tr>\n",
       "      <th>2</th>\n",
       "      <td>GCA_000006175.2</td>\n",
       "      <td>PRJNA20131</td>\n",
       "      <td>SAMN00000040</td>\n",
       "      <td>NaN</td>\n",
       "      <td>representative genome</td>\n",
       "      <td>456320</td>\n",
       "      <td>2188</td>\n",
       "      <td>Methanococcus voltae A3</td>\n",
       "      <td>strain=A3</td>\n",
       "      <td>NaN</td>\n",
       "      <td>...</td>\n",
       "      <td>03/06/2010</td>\n",
       "      <td>ASM617v2</td>\n",
       "      <td>US DOE Joint Genome Institute (JGI-PGF)</td>\n",
       "      <td>GCF_000006175.1</td>\n",
       "      <td>identical</td>\n",
       "      <td>ftp://ftp.ncbi.nlm.nih.gov/genomes/all/GCA/000...</td>\n",
       "      <td>NaN</td>\n",
       "      <td>NaN</td>\n",
       "      <td>2010-06-03</td>\n",
       "      <td>ftp://ftp.ncbi.nlm.nih.gov/genomes/all/GCA/000...</td>\n",
       "    </tr>\n",
       "    <tr>\n",
       "      <th>3</th>\n",
       "      <td>GCA_000006605.1</td>\n",
       "      <td>PRJNA13967</td>\n",
       "      <td>SAMEA3283089</td>\n",
       "      <td>NaN</td>\n",
       "      <td>representative genome</td>\n",
       "      <td>306537</td>\n",
       "      <td>38289</td>\n",
       "      <td>Corynebacterium jeikeium K411</td>\n",
       "      <td>NaN</td>\n",
       "      <td>NaN</td>\n",
       "      <td>...</td>\n",
       "      <td>27/06/2005</td>\n",
       "      <td>ASM660v1</td>\n",
       "      <td>Bielefeld Univ</td>\n",
       "      <td>GCF_000006605.1</td>\n",
       "      <td>identical</td>\n",
       "      <td>ftp://ftp.ncbi.nlm.nih.gov/genomes/all/GCA/000...</td>\n",
       "      <td>NaN</td>\n",
       "      <td>NaN</td>\n",
       "      <td>2005-06-27</td>\n",
       "      <td>ftp://ftp.ncbi.nlm.nih.gov/genomes/all/GCA/000...</td>\n",
       "    </tr>\n",
       "    <tr>\n",
       "      <th>4</th>\n",
       "      <td>GCA_000019345.1</td>\n",
       "      <td>PRJNA19087</td>\n",
       "      <td>SAMN02604063</td>\n",
       "      <td>NaN</td>\n",
       "      <td>representative genome</td>\n",
       "      <td>505682</td>\n",
       "      <td>134821</td>\n",
       "      <td>Ureaplasma parvum serovar 3 str. ATCC 27815</td>\n",
       "      <td>strain=ATCC 27815</td>\n",
       "      <td>NaN</td>\n",
       "      <td>...</td>\n",
       "      <td>26/02/2008</td>\n",
       "      <td>ASM1934v1</td>\n",
       "      <td>TIGR</td>\n",
       "      <td>GCF_000019345.1</td>\n",
       "      <td>identical</td>\n",
       "      <td>ftp://ftp.ncbi.nlm.nih.gov/genomes/all/GCA/000...</td>\n",
       "      <td>NaN</td>\n",
       "      <td>assembly from type material</td>\n",
       "      <td>2008-02-26</td>\n",
       "      <td>ftp://ftp.ncbi.nlm.nih.gov/genomes/all/GCA/000...</td>\n",
       "    </tr>\n",
       "  </tbody>\n",
       "</table>\n",
       "<p>5 rows × 24 columns</p>\n",
       "</div>"
      ],
      "text/plain": [
       "  assembly_accession  bioproject     biosample  wgs_master  \\\n",
       "0    GCA_000005825.2  PRJNA28811  SAMN02603086         NaN   \n",
       "1    GCA_000005845.2    PRJNA225  SAMN02604091         NaN   \n",
       "2    GCA_000006175.2  PRJNA20131  SAMN00000040         NaN   \n",
       "3    GCA_000006605.1  PRJNA13967  SAMEA3283089         NaN   \n",
       "4    GCA_000019345.1  PRJNA19087  SAMN02604063         NaN   \n",
       "\n",
       "         refseq_category   taxid  species_taxid  \\\n",
       "0  representative genome  398511          79885   \n",
       "1       reference genome  511145            562   \n",
       "2  representative genome  456320           2188   \n",
       "3  representative genome  306537          38289   \n",
       "4  representative genome  505682         134821   \n",
       "\n",
       "                                 organism_name          infraspecific_name  \\\n",
       "0                    Bacillus pseudofirmus OF4                  strain=OF4   \n",
       "1    Escherichia coli str. K-12 substr. MG1655  strain=K-12 substr. MG1655   \n",
       "2                      Methanococcus voltae A3                   strain=A3   \n",
       "3                Corynebacterium jeikeium K411                         NaN   \n",
       "4  Ureaplasma parvum serovar 3 str. ATCC 27815           strain=ATCC 27815   \n",
       "\n",
       "  isolate  ... seq_rel_date   asm_name  \\\n",
       "0     NaN  ...   15/12/2010   ASM582v2   \n",
       "1     NaN  ...   26/09/2013   ASM584v2   \n",
       "2     NaN  ...   03/06/2010   ASM617v2   \n",
       "3     NaN  ...   27/06/2005   ASM660v1   \n",
       "4     NaN  ...   26/02/2008  ASM1934v1   \n",
       "\n",
       "                                           submitter  gbrs_paired_asm  \\\n",
       "0  Center for Genomic Sciences, Allegheny-Singer ...  GCF_000005825.2   \n",
       "1                                    Univ. Wisconsin  GCF_000005845.2   \n",
       "2            US DOE Joint Genome Institute (JGI-PGF)  GCF_000006175.1   \n",
       "3                                     Bielefeld Univ  GCF_000006605.1   \n",
       "4                                               TIGR  GCF_000019345.1   \n",
       "\n",
       "  paired_asm_comp                                           ftp_path  \\\n",
       "0       identical  ftp://ftp.ncbi.nlm.nih.gov/genomes/all/GCA/000...   \n",
       "1       identical  ftp://ftp.ncbi.nlm.nih.gov/genomes/all/GCA/000...   \n",
       "2       identical  ftp://ftp.ncbi.nlm.nih.gov/genomes/all/GCA/000...   \n",
       "3       identical  ftp://ftp.ncbi.nlm.nih.gov/genomes/all/GCA/000...   \n",
       "4       identical  ftp://ftp.ncbi.nlm.nih.gov/genomes/all/GCA/000...   \n",
       "\n",
       "  excluded_from_refseq    relation_to_type_material seq_rel_date_processed  \\\n",
       "0                  NaN                          NaN             2010-12-15   \n",
       "1                  NaN                          NaN             2013-09-26   \n",
       "2                  NaN                          NaN             2010-06-03   \n",
       "3                  NaN                          NaN             2005-06-27   \n",
       "4                  NaN  assembly from type material             2008-02-26   \n",
       "\n",
       "                                   download_url_base  \n",
       "0  ftp://ftp.ncbi.nlm.nih.gov/genomes/all/GCA/000...  \n",
       "1  ftp://ftp.ncbi.nlm.nih.gov/genomes/all/GCA/000...  \n",
       "2  ftp://ftp.ncbi.nlm.nih.gov/genomes/all/GCA/000...  \n",
       "3  ftp://ftp.ncbi.nlm.nih.gov/genomes/all/GCA/000...  \n",
       "4  ftp://ftp.ncbi.nlm.nih.gov/genomes/all/GCA/000...  \n",
       "\n",
       "[5 rows x 24 columns]"
      ]
     },
     "execution_count": 335,
     "metadata": {},
     "output_type": "execute_result"
    }
   ],
   "source": [
    "ncbi_species_metadata.head()"
   ]
  },
  {
   "cell_type": "code",
   "execution_count": 338,
   "metadata": {},
   "outputs": [
    {
     "data": {
      "text/plain": [
       "Index(['assembly_accession', 'bioproject', 'biosample', 'wgs_master',\n",
       "       'refseq_category', 'taxid', 'species_taxid', 'organism_name',\n",
       "       'infraspecific_name', 'isolate', 'version_status', 'assembly_level',\n",
       "       'release_type', 'genome_rep', 'seq_rel_date', 'asm_name', 'submitter',\n",
       "       'gbrs_paired_asm', 'paired_asm_comp', 'ftp_path',\n",
       "       'excluded_from_refseq', 'relation_to_type_material',\n",
       "       'seq_rel_date_processed', 'download_url_base'],\n",
       "      dtype='object')"
      ]
     },
     "execution_count": 338,
     "metadata": {},
     "output_type": "execute_result"
    }
   ],
   "source": [
    "ncbi_species_metadata.columns"
   ]
  },
  {
   "cell_type": "markdown",
   "metadata": {},
   "source": [
    "## Keep traits from short-listed species only"
   ]
  },
  {
   "cell_type": "code",
   "execution_count": 12,
   "metadata": {},
   "outputs": [
    {
     "data": {
      "text/plain": [
       "2359"
      ]
     },
     "execution_count": 12,
     "metadata": {},
     "output_type": "execute_result"
    }
   ],
   "source": [
    "species_traits = species_traits_all[\n",
    "    species_traits_all['species_taxid'].isin(ncbi_species_metadata['species_taxid'].values)\n",
    "].reset_index(drop=True)\n",
    "len(species_traits)"
   ]
  },
  {
   "cell_type": "code",
   "execution_count": 15,
   "metadata": {},
   "outputs": [
    {
     "data": {
      "text/plain": [
       "Index(['species_tax_id', 'species', 'genus', 'family', 'order', 'class',\n",
       "       'phylum', 'superkingdom', 'gram_stain', 'metabolism', 'pathways',\n",
       "       'carbon_substrates', 'sporulation', 'motility', 'range_tmp',\n",
       "       'range_salinity', 'cell_shape', 'isolation_source', 'd1_lo', 'd1_up',\n",
       "       'd2_lo', 'd2_up', 'doubling_h', 'genome_size', 'gc_content',\n",
       "       'coding_genes', 'optimum_tmp', 'optimum_ph', 'growth_tmp',\n",
       "       'rRNA16S_genes', 'tRNA_genes', 'gram_stain.count', 'metabolism.count',\n",
       "       'pathways.count', 'carbon_substrates.count', 'sporulation.count',\n",
       "       'motility.count', 'range_tmp.count', 'range_salinity.count',\n",
       "       'cell_shape.count', 'isolation_source.count', 'gram_stain.prop',\n",
       "       'metabolism.prop', 'pathways.prop', 'carbon_substrates.prop',\n",
       "       'sporulation.prop', 'motility.prop', 'range_tmp.prop',\n",
       "       'range_salinity.prop', 'cell_shape.prop', 'isolation_source.prop',\n",
       "       'd1_lo.count', 'd1_up.count', 'd2_lo.count', 'd2_up.count',\n",
       "       'doubling_h.count', 'genome_size.count', 'gc_content.count',\n",
       "       'coding_genes.count', 'optimum_tmp.count', 'optimum_ph.count',\n",
       "       'growth_tmp.count', 'rRNA16S_genes.count', 'tRNA_genes.count',\n",
       "       'd1_lo.stdev', 'd1_up.stdev', 'd2_lo.stdev', 'd2_up.stdev',\n",
       "       'doubling_h.stdev', 'genome_size.stdev', 'gc_content.stdev',\n",
       "       'coding_genes.stdev', 'optimum_tmp.stdev', 'optimum_ph.stdev',\n",
       "       'growth_tmp.stdev', 'rRNA16S_genes.stdev', 'tRNA_genes.stdev',\n",
       "       'data_source', 'ref_id', 'species_taxid'],\n",
       "      dtype='object')"
      ]
     },
     "execution_count": 15,
     "metadata": {},
     "output_type": "execute_result"
    }
   ],
   "source": [
    "species_traits.columns"
   ]
  },
  {
   "cell_type": "code",
   "execution_count": 18,
   "metadata": {},
   "outputs": [],
   "source": [
    "assert np.all(species_traits['growth_tmp'].notnull())"
   ]
  },
  {
   "cell_type": "markdown",
   "metadata": {},
   "source": [
    "## Load CDS"
   ]
  },
  {
   "cell_type": "code",
   "execution_count": 103,
   "metadata": {},
   "outputs": [],
   "source": [
    "cds_path_fmt = os.path.join(os.getcwd(), 'data/condensed_traits/sequences/{taxid}/{taxid}_cds_from_genomic.fna.gz')"
   ]
  },
  {
   "cell_type": "code",
   "execution_count": 104,
   "metadata": {},
   "outputs": [
    {
     "data": {
      "text/html": [
       "<div>\n",
       "<style scoped>\n",
       "    .dataframe tbody tr th:only-of-type {\n",
       "        vertical-align: middle;\n",
       "    }\n",
       "\n",
       "    .dataframe tbody tr th {\n",
       "        vertical-align: top;\n",
       "    }\n",
       "\n",
       "    .dataframe thead th {\n",
       "        text-align: right;\n",
       "    }\n",
       "</style>\n",
       "<table border=\"1\" class=\"dataframe\">\n",
       "  <thead>\n",
       "    <tr style=\"text-align: right;\">\n",
       "      <th></th>\n",
       "      <th>species_taxid</th>\n",
       "      <th>species</th>\n",
       "      <th>phylum</th>\n",
       "      <th>growth_tmp</th>\n",
       "      <th>genome_size</th>\n",
       "      <th>coding_genes</th>\n",
       "    </tr>\n",
       "  </thead>\n",
       "  <tbody>\n",
       "    <tr>\n",
       "      <th>110</th>\n",
       "      <td>375</td>\n",
       "      <td>Bradyrhizobium japonicum</td>\n",
       "      <td>Proteobacteria</td>\n",
       "      <td>27.0</td>\n",
       "      <td>9075243.179</td>\n",
       "      <td>8530.667</td>\n",
       "    </tr>\n",
       "  </tbody>\n",
       "</table>\n",
       "</div>"
      ],
      "text/plain": [
       "     species_taxid                   species          phylum  growth_tmp  \\\n",
       "110            375  Bradyrhizobium japonicum  Proteobacteria        27.0   \n",
       "\n",
       "     genome_size  coding_genes  \n",
       "110  9075243.179      8530.667  "
      ]
     },
     "execution_count": 104,
     "metadata": {},
     "output_type": "execute_result"
    }
   ],
   "source": [
    "idx = 110\n",
    "specie_taxid = species_traits.iloc[idx]['species_taxid']\n",
    "species_traits.iloc[[idx]][['species_taxid', 'species', 'phylum', 'growth_tmp', 'genome_size', 'coding_genes']]"
   ]
  },
  {
   "cell_type": "code",
   "execution_count": 105,
   "metadata": {},
   "outputs": [],
   "source": [
    "with gzip.open(cds_path_fmt.format(taxid=specie_taxid), mode='rt') as f:\n",
    "    record_dict = SeqIO.to_dict(SeqIO.parse(f, \"fasta\"))"
   ]
  },
  {
   "cell_type": "code",
   "execution_count": 106,
   "metadata": {},
   "outputs": [],
   "source": [
    "r = sorted(record_dict.keys())[0]"
   ]
  },
  {
   "cell_type": "code",
   "execution_count": 107,
   "metadata": {},
   "outputs": [],
   "source": [
    "cds = record_dict[r]"
   ]
  },
  {
   "cell_type": "code",
   "execution_count": 108,
   "metadata": {},
   "outputs": [
    {
     "data": {
      "text/plain": [
       "SeqRecord(seq=Seq('ATGTTCGCTGATCGCCTCAAAGATTACAACCTTGCCCTAGCGACCGTGCTTCAG...TGA', SingleLetterAlphabet()), id='lcl|AP012206.1_cds_BAL05302.1_1', name='lcl|AP012206.1_cds_BAL05302.1_1', description='lcl|AP012206.1_cds_BAL05302.1_1 [locus_tag=BJ6T_00010] [protein=hypothetical protein] [protein_id=BAL05302.1] [location=123..428] [gbkey=CDS]', dbxrefs=[])"
      ]
     },
     "execution_count": 108,
     "metadata": {},
     "output_type": "execute_result"
    }
   ],
   "source": [
    "cds"
   ]
  },
  {
   "cell_type": "code",
   "execution_count": 109,
   "metadata": {},
   "outputs": [
    {
     "data": {
      "text/plain": [
       "SeqRecord(seq=Seq('MFADRLKDYNLALATVLQSVNSFELVGVGLVLDVPTDIASRRIFSNRTSASWSN...CS*', HasStopCodon(ExtendedIUPACProtein(), '*')), id='<unknown id>', name='<unknown name>', description='<unknown description>', dbxrefs=[])"
      ]
     },
     "execution_count": 109,
     "metadata": {},
     "output_type": "execute_result"
    }
   ],
   "source": [
    "cds.translate()"
   ]
  },
  {
   "cell_type": "markdown",
   "metadata": {},
   "source": [
    "## Load RNA"
   ]
  },
  {
   "cell_type": "code",
   "execution_count": 112,
   "metadata": {},
   "outputs": [],
   "source": [
    "rna_path_fmt = os.path.join(os.getcwd(), 'data/condensed_traits/sequences/{taxid}/{taxid}_rna_from_genomic.fna.gz')"
   ]
  },
  {
   "cell_type": "code",
   "execution_count": 113,
   "metadata": {},
   "outputs": [],
   "source": [
    "with gzip.open(rna_path_fmt.format(taxid=specie_taxid), mode='rt') as f:\n",
    "    rna_dict = SeqIO.to_dict(SeqIO.parse(f, \"fasta\"))"
   ]
  },
  {
   "cell_type": "code",
   "execution_count": 118,
   "metadata": {},
   "outputs": [],
   "source": [
    "rna_id = sorted(rna_dict.keys())[20]\n",
    "rna = rna_dict[rna_id]"
   ]
  },
  {
   "cell_type": "code",
   "execution_count": 119,
   "metadata": {},
   "outputs": [
    {
     "data": {
      "text/plain": [
       "SeqRecord(seq=Seq('GGCGGGGTAGCTCAGCTGGTTAGAGCACGGGAATCATAATCCTGGGGTCGGGGG...CCA', SingleLetterAlphabet()), id='lcl|AP012206.1_trna_23', name='lcl|AP012206.1_trna_23', description='lcl|AP012206.1_trna_23 [locus_tag=BJ6T_24130] [product=tRNA-Met] [location=2487544..2487620] [gbkey=tRNA]', dbxrefs=[])"
      ]
     },
     "execution_count": 119,
     "metadata": {},
     "output_type": "execute_result"
    }
   ],
   "source": [
    "rna"
   ]
  },
  {
   "cell_type": "markdown",
   "metadata": {},
   "source": [
    "## Putting it together"
   ]
  },
  {
   "cell_type": "code",
   "execution_count": 120,
   "metadata": {},
   "outputs": [],
   "source": [
    "def load_specie_sequences(specie_taxid):\n",
    "    dna_path = os.path.join(\n",
    "        os.getcwd(), \n",
    "        f'data/condensed_traits/sequences/{specie_taxid}/{specie_taxid}_genomic.fna.gz',\n",
    "    )\n",
    "    cds_path = os.path.join(\n",
    "        os.getcwd(), \n",
    "        f'data/condensed_traits/sequences/{specie_taxid}/{specie_taxid}_cds_from_genomic.fna.gz',\n",
    "    )\n",
    "    rna_path = os.path.join(\n",
    "        os.getcwd(), \n",
    "        f'data/condensed_traits/sequences/{specie_taxid}/{specie_taxid}_rna_from_genomic.fna.gz',\n",
    "    )\n",
    "    \n",
    "    with gzip.open(dna_path, mode='rt') as f:\n",
    "        dna = SeqIO.to_dict(SeqIO.parse(f, \"fasta\"))\n",
    "    \n",
    "    with gzip.open(cds_path, mode='rt') as f:\n",
    "        cds = SeqIO.to_dict(SeqIO.parse(f, \"fasta\"))\n",
    "        \n",
    "    with gzip.open(rna_path, mode='rt') as f:\n",
    "        rna = SeqIO.to_dict(SeqIO.parse(f, \"fasta\"))\n",
    "        \n",
    "    return dna, cds, rna"
   ]
  },
  {
   "cell_type": "markdown",
   "metadata": {},
   "source": [
    "## Parse location information"
   ]
  },
  {
   "cell_type": "code",
   "execution_count": null,
   "metadata": {},
   "outputs": [],
   "source": [
    "dna_dict, cds_dict, rna_dict = load_specie_sequences(specie_taxid)"
   ]
  },
  {
   "cell_type": "code",
   "execution_count": 161,
   "metadata": {},
   "outputs": [
    {
     "data": {
      "text/plain": [
       "SeqRecord(seq=Seq('ATGTCAGTGATCGATCTATCGCGCGCCGATCCGCGCACGTTGATCGGCAAGGGA...TAG', SingleLetterAlphabet()), id='lcl|AP012206.1_cds_BAL05308.1_7', name='lcl|AP012206.1_cds_BAL05308.1_7', description='lcl|AP012206.1_cds_BAL05308.1_7 [locus_tag=BJ6T_00070] [protein=ribonucleoside-diphosphate reductase beta subunit] [protein_id=BAL05308.1] [location=complement(4970..6043)] [gbkey=CDS]', dbxrefs=[])"
      ]
     },
     "execution_count": 161,
     "metadata": {},
     "output_type": "execute_result"
    }
   ],
   "source": [
    "cds_dict['lcl|AP012206.1_cds_BAL05308.1_7']"
   ]
  },
  {
   "cell_type": "code",
   "execution_count": null,
   "metadata": {},
   "outputs": [],
   "source": [
    "description = (\n",
    "    \"lcl|CP042806.1_cds_QEE29787.1_3650 [locus_tag=FTW19_18435] \"\n",
    "    \"[protein=peptide chain release factor 2] [exception=ribosomal slippage] \"\n",
    "    \"[protein_id=QEE29787.1] [location=complement(join(4615525..4616595,4616597..4616665))] [gbkey=CDS]\"\n",
    ")"
   ]
  },
  {
   "cell_type": "code",
   "execution_count": 165,
   "metadata": {},
   "outputs": [],
   "source": [
    "gff_path_fmt = os.path.join(os.getcwd(), 'data/condensed_traits/sequences/{taxid}/{taxid}_genomic.gff.gz')"
   ]
  },
  {
   "cell_type": "code",
   "execution_count": 301,
   "metadata": {},
   "outputs": [],
   "source": [
    "annotations = gffutils.create_db(\n",
    "    gff_path_fmt.format(taxid=specie_taxid), \n",
    "    ':memory:', \n",
    "    merge_strategy='replace',\n",
    ")"
   ]
  },
  {
   "cell_type": "code",
   "execution_count": 169,
   "metadata": {},
   "outputs": [
    {
     "name": "stdout",
     "output_type": "stream",
     "text": [
      "CDS\n",
      "exon\n",
      "gene\n",
      "rRNA\n",
      "region\n",
      "tRNA\n",
      "tmRNA\n"
     ]
    }
   ],
   "source": [
    "for f in annotations.featuretypes():\n",
    "    print(f)"
   ]
  },
  {
   "cell_type": "code",
   "execution_count": 269,
   "metadata": {},
   "outputs": [
    {
     "name": "stdout",
     "output_type": "stream",
     "text": [
      "8829\n"
     ]
    },
    {
     "data": {
      "text/plain": [
       "(885.5548759768943, 120, 17028)"
      ]
     },
     "execution_count": 269,
     "metadata": {},
     "output_type": "execute_result"
    }
   ],
   "source": [
    "c = 0\n",
    "cds_lengths = []\n",
    "for i, feature in enumerate(annotations.features_of_type('CDS')):\n",
    "    start, end = feature.start, feature.end\n",
    "    assert start < end\n",
    "    cds_lengths.append((end - start) + 1)\n",
    "    c += 1\n",
    "    \n",
    "print(c)\n",
    "np.mean(cds_lengths), np.min(cds_lengths), np.max(cds_lengths)"
   ]
  },
  {
   "cell_type": "code",
   "execution_count": 302,
   "metadata": {},
   "outputs": [],
   "source": [
    "for i, feature in enumerate(annotations.features_of_type('CDS')):\n",
    "    length = (feature.end - feature.start) + 1\n",
    "    assert length % 3 == 0, 'nope'"
   ]
  },
  {
   "cell_type": "code",
   "execution_count": 268,
   "metadata": {},
   "outputs": [],
   "source": [
    "def extract_non_coding_locations(dna_dict, annotations):\n",
    "    regions = sorted(dna_dict.keys())\n",
    "    full_length = sum([\n",
    "        len(dna_dict[region].seq)\n",
    "        for region in regions\n",
    "    ])\n",
    "    \n",
    "    all_indices = set(range(1, full_length + 1))\n",
    "    coding_indices = set()\n",
    "    \n",
    "    for feature_type in ['CDS', 'exon']:\n",
    "        for i, feature in enumerate(annotations.features_of_type(feature_type)):\n",
    "            start, end, strand = feature.start, feature.end, feature.strand\n",
    "            \n",
    "            if strand == '-':\n",
    "                prev_start = start\n",
    "                start = full_length - (end - 1)\n",
    "                end = full_length - (prev_start - 1)\n",
    "                assert start < end\n",
    "            \n",
    "            coding_indices |= set(range(start, end + 1))\n",
    "            \n",
    "    remaining_indices = sorted(all_indices - coding_indices)\n",
    "    \n",
    "    non_coding_segments = []\n",
    "    start, end = None, None\n",
    "    for i in remaining_indices:\n",
    "        if start is None:\n",
    "            start = i\n",
    "            end = start\n",
    "        elif end + 1 != i:\n",
    "            if end != start:\n",
    "                non_coding_segments.append([start, end])\n",
    "            else:\n",
    "                non_coding_segments.append([start])\n",
    "                \n",
    "            start = i\n",
    "            end = start\n",
    "        elif i == remaining_indices[-1]:\n",
    "            if start == i:\n",
    "                non_coding_segments.append([start])\n",
    "            else:\n",
    "                non_coding_segments.append([start, i])\n",
    "        else:\n",
    "            end = i\n",
    "        \n",
    "    return remaining_indices, full_length, non_coding_segments"
   ]
  },
  {
   "cell_type": "code",
   "execution_count": 259,
   "metadata": {},
   "outputs": [
    {
     "data": {
      "text/plain": [
       "33.33924163475749"
      ]
     },
     "execution_count": 259,
     "metadata": {},
     "output_type": "execute_result"
    }
   ],
   "source": [
    "remaining_indices, full_length, non_coding_segments = extract_non_coding_locations(dna_dict, annotations)\n",
    "\n",
    "100 * len(remaining_indices) / full_length"
   ]
  },
  {
   "cell_type": "code",
   "execution_count": 260,
   "metadata": {},
   "outputs": [
    {
     "data": {
      "text/plain": [
       "4479"
      ]
     },
     "execution_count": 260,
     "metadata": {},
     "output_type": "execute_result"
    }
   ],
   "source": [
    "len(non_coding_segments)"
   ]
  },
  {
   "cell_type": "code",
   "execution_count": 283,
   "metadata": {},
   "outputs": [],
   "source": [
    "lengths = []\n",
    "for s in non_coding_segments:\n",
    "    if len(s) == 1:\n",
    "        lengths.append(1)\n",
    "    else:\n",
    "        assert len(s) == 2\n",
    "        start, end = s\n",
    "        assert start < end, f'{start}, {end}'\n",
    "        lengths.append((end - start) + 1)"
   ]
  },
  {
   "cell_type": "code",
   "execution_count": 284,
   "metadata": {},
   "outputs": [
    {
     "data": {
      "text/plain": [
       "(685.3476222371065, 1, 19661)"
      ]
     },
     "execution_count": 284,
     "metadata": {},
     "output_type": "execute_result"
    }
   ],
   "source": [
    "np.mean(lengths), np.min(lengths), np.max(lengths)"
   ]
  },
  {
   "cell_type": "code",
   "execution_count": 265,
   "metadata": {},
   "outputs": [
    {
     "data": {
      "text/plain": [
       "([1, 122], [429, 483])"
      ]
     },
     "execution_count": 265,
     "metadata": {},
     "output_type": "execute_result"
    }
   ],
   "source": [
    "non_coding_segments[0], non_coding_segments[1]"
   ]
  },
  {
   "cell_type": "markdown",
   "metadata": {},
   "source": [
    "## Location field"
   ]
  },
  {
   "cell_type": "code",
   "execution_count": 364,
   "metadata": {},
   "outputs": [],
   "source": [
    "def retrieve_odd_looking_location_fields(species_taxid):\n",
    "    for specie_taxid in species_taxid:\n",
    "        _, cds_dict, rna_dict = load_specie_sequences(specie_taxid)\n",
    "        data = {}\n",
    "        data.update(cds_dict)\n",
    "        data.update(rna_dict)\n",
    "\n",
    "        keys = sorted(data.keys())\n",
    "\n",
    "        for key in keys:\n",
    "            description = data[key].description\n",
    "\n",
    "            m1 = re.match(r'^\\s?.*\\[location=([0-9]+)..([0-9]+)\\].*$', description)\n",
    "            m2 = re.match(r'^\\s?.*\\[location=complement\\(([0-9]+)..([0-9]+)\\)\\]\\s?.*$', description)\n",
    "\n",
    "            location = re.match(r'^.*\\s?\\[location=([^\\s]+)\\]\\s?.*$', description)[1]\n",
    "            if m1 is None and m2 is None and 'join' not in location:\n",
    "                print(key, location)"
   ]
  },
  {
   "cell_type": "code",
   "execution_count": 366,
   "metadata": {
    "scrolled": false
   },
   "outputs": [],
   "source": [
    "#retrieve_odd_looking_location_fields(ncbi_species_metadata['species_taxid'].values)"
   ]
  },
  {
   "cell_type": "code",
   "execution_count": 377,
   "metadata": {},
   "outputs": [],
   "source": [
    "def all_cds_have_length_modulo_3(species_taxid):\n",
    "    for i, specie_taxid in enumerate(species_taxid):\n",
    "        if (i+1) % 100 == 0:\n",
    "            print(f'{i+1} / {len(species_taxid)}')\n",
    "            \n",
    "        _, cds_dict, _ = load_specie_sequences(specie_taxid)\n",
    "\n",
    "        keys = sorted(cds_dict.keys())\n",
    "\n",
    "        c = 0\n",
    "        for key in keys:\n",
    "            seq_len = len(cds_dict[key].seq)\n",
    "\n",
    "            if seq_len % 3 != 0:\n",
    "                c += 1\n",
    "                \n",
    "        if c > 0:\n",
    "            print(specie_taxid, c, f'{100 * c / len(keys):.2f}%')"
   ]
  },
  {
   "cell_type": "code",
   "execution_count": 378,
   "metadata": {},
   "outputs": [
    {
     "name": "stdout",
     "output_type": "stream",
     "text": [
      "24 12 0.30%\n",
      "56 1 0.01%\n",
      "69 301 5.91%\n",
      "72 26 1.09%\n",
      "122 78 1.33%\n",
      "134 52 1.21%\n",
      "140 12 0.96%\n",
      "159 14 0.53%\n",
      "162 50 1.63%\n",
      "193 1 0.02%\n",
      "235 99 3.00%\n",
      "246 99 2.19%\n",
      "254 32 0.84%\n",
      "293 20 0.58%\n",
      "296 120 2.58%\n",
      "337 108 1.83%\n",
      "346 166 3.26%\n",
      "358 115 2.09%\n",
      "359 71 1.37%\n",
      "381 83 1.17%\n",
      "382 1 0.02%\n",
      "100 / 2359\n",
      "426 67 1.41%\n",
      "435 38 1.15%\n",
      "438 34 1.21%\n",
      "454 39 1.43%\n",
      "476 70 2.42%\n",
      "484 70 3.17%\n",
      "488 98 3.69%\n",
      "492 13 0.63%\n",
      "519 1 0.02%\n",
      "520 2 0.05%\n",
      "521 1 0.03%\n",
      "539 38 1.58%\n",
      "545 20 0.47%\n",
      "549 185 4.00%\n",
      "562 30 0.69%\n",
      "575 50 0.97%\n",
      "615 8 0.17%\n",
      "622 1 0.02%\n",
      "623 141 3.00%\n",
      "624 325 6.53%\n",
      "630 1 0.02%\n",
      "631 38 0.86%\n",
      "632 62 1.47%\n",
      "633 137 3.50%\n",
      "636 25 0.75%\n",
      "648 81 1.91%\n",
      "651 60 1.33%\n",
      "654 10 0.23%\n",
      "668 4 0.10%\n",
      "672 36 0.80%\n",
      "673 12 0.34%\n",
      "676 17 0.39%\n",
      "687 21 0.50%\n",
      "689 40 0.74%\n",
      "691 7 0.16%\n",
      "728 65 2.89%\n",
      "729 24 1.21%\n",
      "200 / 2359\n",
      "735 41 2.09%\n",
      "803 77 5.89%\n",
      "849 15 0.94%\n",
      "850 29 1.12%\n",
      "859 58 2.46%\n",
      "860 46 1.86%\n",
      "960 2 0.05%\n",
      "1017 33 1.24%\n",
      "1050 33 1.24%\n",
      "1075 18 0.51%\n",
      "1084 1 0.03%\n",
      "1112 7 0.25%\n",
      "300 / 2359\n",
      "1246 11 0.66%\n",
      "1249 12 0.66%\n",
      "1254 11 0.56%\n",
      "1275 32 0.90%\n",
      "1281 132 5.24%\n",
      "1286 18 0.73%\n",
      "1290 22 1.02%\n",
      "1292 4 0.16%\n",
      "1294 12 0.60%\n",
      "1296 7 0.26%\n",
      "1307 2 0.10%\n",
      "1322 24 0.81%\n",
      "1329 63 3.03%\n",
      "1335 8 0.45%\n",
      "1336 1 0.05%\n",
      "1341 24 1.21%\n",
      "1352 1 0.03%\n",
      "1353 34 1.11%\n",
      "1366 20 0.91%\n",
      "1374 26 0.79%\n",
      "1376 5 0.29%\n",
      "1377 18 0.91%\n",
      "1397 96 1.99%\n",
      "1401 56 0.86%\n",
      "1421 8 0.25%\n",
      "1422 103 3.03%\n",
      "1462 142 3.84%\n",
      "1464 294 6.70%\n",
      "1474 22 0.72%\n",
      "1476 23 0.54%\n",
      "1479 6 0.16%\n",
      "1482 12 0.32%\n",
      "400 / 2359\n",
      "1497 23 0.56%\n",
      "1504 127 4.06%\n",
      "1505 3 0.09%\n",
      "1520 41 0.74%\n",
      "1570 7 0.17%\n",
      "1571 13 0.41%\n",
      "1583 10 0.51%\n",
      "1588 42 1.42%\n",
      "1589 89 2.67%\n",
      "1590 2 0.06%\n",
      "1599 53 2.63%\n",
      "1601 17 0.83%\n",
      "1602 27 1.20%\n",
      "1603 18 1.12%\n",
      "1605 9 0.43%\n",
      "1610 62 2.21%\n",
      "1612 15 0.62%\n",
      "1614 9 0.68%\n",
      "1618 89 3.61%\n",
      "1622 25 1.16%\n",
      "1633 54 3.02%\n",
      "1640 1 0.04%\n",
      "1642 14 0.49%\n",
      "1648 4 0.23%\n",
      "1660 18 0.88%\n",
      "1703 9 0.27%\n",
      "1710 93 2.26%\n",
      "1719 51 2.47%\n",
      "1725 30 1.19%\n",
      "1736 14 0.34%\n",
      "500 / 2359\n",
      "1749 25 0.95%\n",
      "1769 698 25.66%\n",
      "1823 36 0.53%\n",
      "1829 65 1.24%\n",
      "1830 82 1.65%\n",
      "1885 133 1.80%\n",
      "1886 642 10.61%\n",
      "1893 316 3.69%\n",
      "1894 111 1.81%\n",
      "1901 21 0.35%\n",
      "1902 19 0.23%\n",
      "1906 59 1.02%\n",
      "1908 295 4.32%\n",
      "1927 113 1.39%\n",
      "1930 1 0.01%\n",
      "1932 311 4.66%\n",
      "1935 85 1.26%\n",
      "1950 430 6.06%\n",
      "1960 120 1.74%\n",
      "1967 103 1.18%\n",
      "1969 72 0.83%\n",
      "2026 18 0.69%\n",
      "2035 924 24.51%\n",
      "2055 18 0.36%\n",
      "2116 2 0.19%\n",
      "600 / 2359\n",
      "2130 6 0.91%\n",
      "2177 3 0.15%\n",
      "2238 61 1.46%\n",
      "2246 61 1.49%\n",
      "2257 12 0.42%\n",
      "2264 23 1.18%\n",
      "2271 1 0.05%\n",
      "2283 91 3.56%\n",
      "2320 1 0.06%\n",
      "2434 10 0.24%\n",
      "2746 4 0.11%\n",
      "2748 23 0.94%\n",
      "13689 24 0.65%\n",
      "13690 74 1.35%\n",
      "28026 33 1.91%\n",
      "28038 23 1.16%\n",
      "28077 21 0.34%\n",
      "28090 40 1.21%\n",
      "28104 135 1.95%\n",
      "700 / 2359\n",
      "28113 34 1.19%\n",
      "28119 59 2.15%\n",
      "28131 43 1.88%\n",
      "28132 28 1.15%\n",
      "28141 15 0.33%\n",
      "28151 22 0.42%\n",
      "28184 200 4.73%\n",
      "28189 11 0.48%\n",
      "28200 7 0.37%\n",
      "28258 19 0.56%\n",
      "28447 1 0.03%\n",
      "28449 50 2.41%\n",
      "28450 1 0.02%\n",
      "28894 106 1.59%\n",
      "29380 17 0.66%\n",
      "29382 62 2.39%\n",
      "29384 15 0.59%\n",
      "29391 16 0.99%\n",
      "29394 13 0.67%\n",
      "29429 109 2.12%\n",
      "29430 45 1.30%\n",
      "29438 154 2.84%\n",
      "29449 1 0.02%\n",
      "29461 86 2.62%\n",
      "29471 47 1.07%\n",
      "29484 38 0.84%\n",
      "29519 33 2.98%\n",
      "29542 93 3.20%\n",
      "29555 11 1.67%\n",
      "29570 63 1.77%\n",
      "31958 41 0.49%\n",
      "32002 453 6.95%\n",
      "800 / 2359\n",
      "33038 43 1.24%\n",
      "33070 172 6.98%\n",
      "33887 47 1.61%\n",
      "33899 61 0.88%\n",
      "33932 32 0.67%\n",
      "33934 76 2.70%\n",
      "33936 106 2.76%\n",
      "33938 68 1.92%\n",
      "33941 40 1.18%\n",
      "33945 62 1.30%\n",
      "33959 68 3.72%\n",
      "33962 34 1.45%\n",
      "33968 31 1.39%\n",
      "34018 10 0.25%\n",
      "34038 1 0.02%\n",
      "34062 13 0.56%\n",
      "34103 25 0.64%\n",
      "35703 37 0.82%\n",
      "35760 11 0.61%\n",
      "35787 47 2.88%\n",
      "35806 21 0.53%\n",
      "35841 62 1.67%\n",
      "36805 46 1.42%\n",
      "36818 79 1.18%\n",
      "36855 86 2.65%\n",
      "37482 28 0.88%\n",
      "37928 41 0.90%\n",
      "38293 70 1.74%\n",
      "900 / 2359\n",
      "38313 26 0.61%\n",
      "38323 54 3.35%\n",
      "39777 21 1.15%\n",
      "39950 8 0.68%\n",
      "39956 140 2.23%\n",
      "40215 71 2.25%\n",
      "40269 4 0.09%\n",
      "40318 108 1.58%\n",
      "41276 11 0.33%\n",
      "41673 159 5.10%\n",
      "41675 50 2.35%\n",
      "41977 22 0.54%\n",
      "43263 2 0.05%\n",
      "43306 314 4.97%\n",
      "43657 25 0.50%\n",
      "43662 237 5.17%\n",
      "43770 43 1.57%\n",
      "44935 44 1.10%\n",
      "45065 7 0.30%\n",
      "45243 35 1.52%\n",
      "45398 99 1.27%\n",
      "45668 34 0.80%\n",
      "45972 34 1.40%\n",
      "46126 245 10.50%\n",
      "46127 17 0.74%\n",
      "46256 20 1.07%\n",
      "46257 190 3.01%\n",
      "47304 13 0.55%\n",
      "1000 / 2359\n",
      "47678 42 1.15%\n",
      "47716 383 5.51%\n",
      "47763 46 0.65%\n",
      "47770 47 2.40%\n",
      "47877 143 2.48%\n",
      "47878 42 0.66%\n",
      "47879 25 0.48%\n",
      "47885 22 0.46%\n",
      "47886 66 1.20%\n",
      "47951 34 0.78%\n",
      "47960 3 0.13%\n",
      "48003 4 0.52%\n",
      "48074 2 0.06%\n",
      "48664 205 5.41%\n",
      "48665 85 1.25%\n",
      "49899 15 0.71%\n",
      "50719 64 1.33%\n",
      "51049 20 0.94%\n",
      "51101 138 2.70%\n",
      "51664 16 0.93%\n",
      "51665 6 0.34%\n",
      "53336 16 0.39%\n",
      "53345 72 2.59%\n",
      "53408 31 0.46%\n",
      "53409 69 1.34%\n",
      "53413 165 3.93%\n",
      "53437 23 0.42%\n",
      "53444 26 1.87%\n",
      "53458 15 0.45%\n",
      "53952 27 1.34%\n",
      "54077 11 0.55%\n",
      "54262 31 1.47%\n",
      "54291 100 1.66%\n",
      "54736 45 1.10%\n",
      "54913 131 2.24%\n",
      "55208 84 1.88%\n",
      "55210 63 1.40%\n",
      "55211 136 2.91%\n",
      "55213 65 1.85%\n",
      "1100 / 2359\n",
      "56448 140 3.14%\n",
      "56453 113 2.86%\n",
      "56454 130 2.89%\n",
      "56455 137 3.16%\n",
      "56459 256 5.60%\n",
      "56460 129 2.80%\n",
      "57706 18 0.40%\n",
      "57975 298 4.74%\n",
      "58346 116 1.57%\n",
      "59277 66 2.79%\n",
      "59310 72 3.26%\n",
      "59737 40 1.25%\n",
      "59814 23 0.55%\n",
      "60519 26 1.55%\n",
      "60520 69 2.13%\n",
      "60548 64 0.96%\n",
      "60550 146 1.97%\n",
      "60552 115 1.83%\n",
      "61645 20 0.45%\n",
      "61647 33 0.67%\n",
      "61648 21 0.47%\n",
      "61858 48 1.13%\n",
      "64897 1 0.07%\n",
      "65058 23 1.04%\n",
      "65959 72 2.40%\n",
      "66269 118 2.25%\n",
      "66425 139 2.15%\n",
      "67258 87 1.34%\n",
      "67260 75 1.12%\n",
      "67345 133 1.99%\n",
      "67581 117 1.79%\n",
      "67780 126 3.40%\n",
      "67824 89 1.58%\n",
      "67825 2 0.04%\n",
      "67827 34 0.72%\n",
      "68173 69 1.00%\n",
      "68203 86 1.27%\n",
      "68209 61 0.93%\n",
      "68214 97 1.04%\n",
      "68249 113 1.54%\n",
      "68270 88 1.07%\n",
      "69218 13 0.28%\n",
      "1200 / 2359\n",
      "69220 45 1.00%\n",
      "69527 43 1.15%\n",
      "69656 102 3.44%\n",
      "69666 16 0.37%\n",
      "70255 31 1.25%\n",
      "70348 55 1.49%\n",
      "70775 69 1.38%\n",
      "71433 98 1.45%\n",
      "71997 15 0.83%\n",
      "71998 18 0.94%\n",
      "72361 109 2.49%\n",
      "72803 9 0.43%\n",
      "73044 52 0.89%\n",
      "74969 10 0.56%\n",
      "75105 98 1.22%\n",
      "76759 27 0.69%\n",
      "76761 218 3.32%\n",
      "76832 30 0.87%\n",
      "76853 10 0.26%\n",
      "78344 22 1.09%\n",
      "79263 64 1.10%\n",
      "79601 63 2.45%\n",
      "79880 8 0.19%\n",
      "79881 93 2.26%\n",
      "79883 37 0.87%\n",
      "79967 123 3.24%\n",
      "80842 25 0.51%\n",
      "81479 47 1.21%\n",
      "82367 87 2.04%\n",
      "82633 19 0.30%\n",
      "82688 28 1.17%\n",
      "82983 98 2.14%\n",
      "83262 15 0.28%\n",
      "1300 / 2359\n",
      "83555 34 3.40%\n",
      "83655 29 0.64%\n",
      "83656 129 1.84%\n",
      "83683 85 5.34%\n",
      "84023 17 0.42%\n",
      "84032 28 0.70%\n",
      "84096 77 1.72%\n",
      "84135 28 1.69%\n",
      "84292 28 0.94%\n",
      "85404 11 0.55%\n",
      "86185 250 5.87%\n",
      "86664 160 3.95%\n",
      "87541 25 1.69%\n",
      "87883 50 0.85%\n",
      "88724 92 2.04%\n",
      "89059 1 0.04%\n",
      "90245 26 1.12%\n",
      "90270 210 4.12%\n",
      "90736 26 0.64%\n",
      "92400 1 0.16%\n",
      "92644 259 3.00%\n",
      "93064 23 0.50%\n",
      "93219 16 0.30%\n",
      "93221 14 0.28%\n",
      "93378 27 0.83%\n",
      "94624 2 0.04%\n",
      "95486 172 2.32%\n",
      "96344 57 0.87%\n",
      "101564 22 0.46%\n",
      "102684 14 0.78%\n",
      "103733 115 1.24%\n",
      "1400 / 2359\n",
      "104087 87 1.46%\n",
      "104102 45 1.21%\n",
      "104268 8 0.27%\n",
      "104336 15 0.43%\n",
      "104955 19 1.14%\n",
      "106592 70 1.04%\n",
      "106648 46 1.10%\n",
      "106654 46 1.16%\n",
      "107401 25 0.87%\n",
      "109790 29 1.86%\n",
      "110937 11 0.28%\n",
      "111015 36 1.43%\n",
      "112234 14 0.32%\n",
      "114090 49 2.21%\n",
      "114527 3 0.18%\n",
      "115561 8 0.23%\n",
      "116188 159 1.88%\n",
      "119206 7 0.40%\n",
      "128944 8 0.49%\n",
      "129338 34 1.04%\n",
      "132132 36 1.41%\n",
      "132473 106 1.54%\n",
      "134534 53 1.41%\n",
      "134536 204 3.16%\n",
      "135740 64 1.55%\n",
      "137545 66 1.36%\n",
      "139021 12 0.34%\n",
      "139438 5 0.18%\n",
      "142649 2 0.33%\n",
      "142650 4 0.59%\n",
      "142651 1 0.16%\n",
      "1500 / 2359\n",
      "146923 25 0.37%\n",
      "147645 93 2.01%\n",
      "150056 28 1.21%\n",
      "150120 51 1.24%\n",
      "152500 118 2.01%\n",
      "152682 215 5.63%\n",
      "153496 33 1.00%\n",
      "155085 50 2.20%\n",
      "157779 15 0.46%\n",
      "157782 25 0.55%\n",
      "158500 55 0.88%\n",
      "158836 30 0.68%\n",
      "160453 47 1.25%\n",
      "160660 108 3.20%\n",
      "161360 72 1.98%\n",
      "162426 14 0.42%\n",
      "163877 43 1.06%\n",
      "169176 63 1.56%\n",
      "169292 1 0.04%\n",
      "169427 99 1.55%\n",
      "169430 198 2.00%\n",
      "170573 17 0.74%\n",
      "1600 / 2359\n",
      "172045 38 1.00%\n",
      "172713 107 2.13%\n",
      "173366 45 1.25%\n",
      "176102 31 0.78%\n",
      "176292 17 0.86%\n",
      "180282 115 1.89%\n",
      "182773 14 0.54%\n",
      "183417 41 1.17%\n",
      "185007 21 0.66%\n",
      "187304 18 0.30%\n",
      "187452 1 0.05%\n",
      "187493 2 0.05%\n",
      "187880 5 0.25%\n",
      "188770 140 2.22%\n",
      "189381 137 3.03%\n",
      "190721 13 0.23%\n",
      "192421 26 0.83%\n",
      "192812 30 0.98%\n",
      "193462 39 0.57%\n",
      "195105 40 1.02%\n",
      "196024 20 0.46%\n",
      "197162 16 0.67%\n",
      "197614 75 3.50%\n",
      "198620 155 2.20%\n",
      "199441 133 2.85%\n",
      "200991 3 0.09%\n",
      "202954 19 0.59%\n",
      "202956 29 1.04%\n",
      "206506 68 2.00%\n",
      "207340 40 0.89%\n",
      "208223 95 2.11%\n",
      "208224 56 1.07%\n",
      "208479 51 0.84%\n",
      "1700 / 2359\n",
      "214473 41 1.54%\n",
      "216427 3 0.41%\n",
      "217203 84 1.38%\n",
      "217204 13 0.22%\n",
      "218284 204 4.45%\n",
      "221822 21 0.54%\n",
      "222805 94 1.59%\n",
      "223919 33 0.65%\n",
      "225992 36 1.11%\n",
      "225999 1 0.13%\n",
      "227942 134 7.14%\n",
      "229155 3 0.24%\n",
      "233316 6 0.15%\n",
      "236753 5 0.34%\n",
      "237258 16 0.64%\n",
      "237610 18 0.37%\n",
      "238834 22 0.51%\n",
      "240427 73 2.27%\n",
      "241244 38 1.15%\n",
      "242606 8 0.19%\n",
      "244366 19 0.37%\n",
      "244566 40 0.73%\n",
      "244734 168 2.36%\n",
      "247523 44 1.11%\n",
      "252514 17 0.53%\n",
      "252967 35 1.04%\n",
      "255247 26 0.65%\n",
      "257438 87 2.62%\n",
      "257708 23 0.48%\n",
      "260364 38 1.02%\n",
      "260552 5 0.14%\n",
      "260554 390 9.41%\n",
      "1800 / 2359\n",
      "264691 29 0.49%\n",
      "264697 31 0.65%\n",
      "265883 2 0.08%\n",
      "265960 66 1.88%\n",
      "267375 13 0.42%\n",
      "272774 33 0.91%\n",
      "274537 27 1.08%\n",
      "277988 20 0.89%\n",
      "280236 124 2.33%\n",
      "283686 51 0.95%\n",
      "285570 78 1.19%\n",
      "287094 17 0.44%\n"
     ]
    },
    {
     "name": "stdout",
     "output_type": "stream",
     "text": [
      "290335 53 2.07%\n",
      "291048 2 0.11%\n",
      "292800 19 0.52%\n",
      "293091 126 4.20%\n",
      "293387 23 0.59%\n",
      "296842 28 0.69%\n",
      "299767 20 0.45%\n",
      "300019 15 0.47%\n",
      "303541 5 0.33%\n",
      "304207 76 2.17%\n",
      "311180 36 0.75%\n",
      "311230 75 0.83%\n",
      "312306 17 0.33%\n",
      "312539 26 1.12%\n",
      "314275 13 0.35%\n",
      "314281 42 1.00%\n",
      "317577 20 0.51%\n",
      "321983 19 0.31%\n",
      "321984 133 2.61%\n",
      "322596 54 1.90%\n",
      "323284 22 0.57%\n",
      "323450 19 0.45%\n",
      "1900 / 2359\n",
      "327575 13 0.60%\n",
      "329854 53 1.21%\n",
      "330922 10 0.39%\n",
      "332101 29 0.58%\n",
      "333962 162 3.87%\n",
      "334542 68 1.09%\n",
      "336203 319 6.32%\n",
      "337243 54 1.48%\n",
      "338644 18 0.57%\n",
      "351679 78 1.93%\n",
      "353852 18 2.95%\n",
      "361111 26 0.88%\n",
      "371601 71 1.35%\n",
      "375175 14 0.55%\n",
      "376489 30 0.78%\n",
      "379347 15 0.33%\n",
      "386891 34 1.75%\n",
      "391905 33 0.79%\n",
      "399497 78 2.22%\n",
      "401471 16 0.38%\n",
      "402297 482 14.05%\n",
      "402384 22 0.55%\n",
      "412593 12 0.67%\n",
      "412690 78 2.37%\n",
      "2000 / 2359\n",
      "413503 20 0.49%\n",
      "414771 143 1.88%\n",
      "414778 12 0.38%\n",
      "414996 80 1.76%\n",
      "416273 34 1.18%\n",
      "417367 39 1.06%\n",
      "417368 23 0.95%\n",
      "419257 45 0.95%\n",
      "419475 23 0.50%\n",
      "420953 92 1.39%\n",
      "421000 56 2.42%\n",
      "421525 90 3.49%\n",
      "421767 100 1.91%\n",
      "430522 6 0.11%\n",
      "436515 256 3.91%\n",
      "441209 14 0.38%\n",
      "442694 106 2.49%\n",
      "444444 15 0.40%\n",
      "450367 106 2.03%\n",
      "453304 8 0.21%\n",
      "453783 11 0.30%\n",
      "455432 58 0.73%\n",
      "456327 168 3.42%\n",
      "459472 1324 32.38%\n",
      "463025 16 0.31%\n",
      "468911 55 2.23%\n",
      "470933 34 0.78%\n",
      "470934 21 0.48%\n",
      "479978 93 1.40%\n",
      "482957 184 2.22%\n",
      "487316 17 0.51%\n",
      "488447 61 0.79%\n",
      "492670 38 1.00%\n",
      "526944 26 1.17%\n",
      "528191 51 0.84%\n",
      "530584 22 0.34%\n",
      "544580 34 1.42%\n",
      "546160 62 1.78%\n",
      "546367 25 0.62%\n",
      "549298 95 4.14%\n",
      "553151 20 0.49%\n",
      "553239 13 0.32%\n",
      "553510 100 1.35%\n",
      "2100 / 2359\n",
      "556288 22 0.67%\n",
      "556499 46 1.79%\n",
      "558152 30 0.78%\n",
      "561061 2 0.06%\n",
      "569860 14 0.44%\n",
      "573737 61 1.08%\n",
      "582702 86 2.39%\n",
      "587753 52 0.81%\n",
      "588932 5 0.18%\n",
      "622488 84 4.60%\n",
      "626937 16 0.57%\n",
      "633807 62 2.84%\n",
      "639310 11 0.35%\n",
      "643674 455 17.54%\n",
      "648995 78 1.65%\n",
      "651561 24 0.50%\n",
      "655015 33 0.75%\n",
      "656178 14 0.29%\n",
      "656179 40 0.80%\n",
      "659243 82 1.91%\n",
      "661488 79 1.30%\n",
      "664662 78 6.18%\n",
      "665099 49 0.86%\n",
      "665913 118 2.97%\n",
      "665914 125 3.03%\n",
      "674079 20 0.65%\n",
      "696485 43 0.76%\n",
      "701042 39 0.80%\n",
      "754476 17 0.57%\n",
      "759811 64 1.33%\n",
      "859143 112 2.45%\n",
      "863372 18 0.36%\n",
      "864828 28 0.46%\n",
      "871742 20 0.34%\n",
      "881260 52 1.11%\n",
      "889453 15 0.41%\n",
      "904291 15 0.54%\n",
      "913107 2 0.07%\n",
      "929813 19 0.40%\n",
      "930166 16 0.28%\n",
      "930805 228 5.93%\n",
      "938155 23 0.89%\n",
      "945844 112 2.19%\n",
      "948519 89 2.21%\n",
      "980427 167 4.48%\n",
      "985002 38 1.50%\n",
      "985762 61 2.74%\n",
      "2200 / 2359\n",
      "1032623 2 0.11%\n",
      "1038856 64 2.04%\n",
      "1049583 60 2.39%\n",
      "1074311 462 10.30%\n",
      "1076588 11 0.38%\n",
      "1082851 44 1.16%\n",
      "1089444 22 0.54%\n",
      "1108595 20 0.45%\n",
      "1109412 17 0.37%\n",
      "1120045 272 4.94%\n",
      "1124835 46 0.94%\n",
      "1134435 12 0.32%\n",
      "1134687 181 3.04%\n",
      "1138822 8 0.41%\n",
      "1158459 13 0.29%\n",
      "1177574 70 2.28%\n",
      "1178537 38 1.05%\n",
      "1190415 31 0.60%\n",
      "1193713 50 0.91%\n",
      "1197717 6 0.19%\n",
      "1208308 59 1.21%\n",
      "1215089 29 0.89%\n",
      "1218493 23 1.26%\n",
      "1218494 9 0.53%\n",
      "1221500 7 0.17%\n",
      "1222016 89 3.27%\n",
      "1263550 27 0.74%\n",
      "1287055 48 1.72%\n",
      "1288494 15 0.51%\n",
      "1296540 35 1.59%\n",
      "1303590 10 0.59%\n",
      "1312183 231 3.05%\n",
      "1323375 42 1.36%\n",
      "1338368 78 1.69%\n",
      "1355015 170 2.67%\n",
      "1387353 22 0.38%\n",
      "2300 / 2359\n",
      "1402861 59 1.15%\n",
      "1411902 21 0.59%\n",
      "1424653 5 0.25%\n",
      "1463165 38 0.77%\n",
      "1484693 10 0.25%\n",
      "1500843 103 2.23%\n",
      "1510150 18 0.48%\n",
      "1535768 225 2.92%\n",
      "1546149 40 1.09%\n",
      "1549855 7 0.32%\n",
      "1563222 79 1.77%\n",
      "1586287 299 3.20%\n",
      "1592106 16 0.32%\n",
      "1610493 59 2.02%\n",
      "1616788 39 0.84%\n",
      "1619308 17 0.42%\n",
      "1642299 68 0.94%\n",
      "1667168 83 3.92%\n",
      "1674146 60 4.88%\n",
      "1715806 69 2.44%\n",
      "1778540 46 1.06%\n",
      "1813019 45 3.09%\n",
      "1813871 13 0.28%\n",
      "1833852 18 0.58%\n",
      "1945662 57 2.01%\n"
     ]
    }
   ],
   "source": [
    "all_cds_have_length_modulo_3(sorted(ncbi_species_metadata['species_taxid'].values.tolist()))"
   ]
  },
  {
   "cell_type": "markdown",
   "metadata": {},
   "source": [
    "## Percentage of non-coding DNA in species of our dataset"
   ]
  },
  {
   "cell_type": "code",
   "execution_count": 300,
   "metadata": {},
   "outputs": [
    {
     "name": "stdout",
     "output_type": "stream",
     "text": [
      "Specie 1 / 2359\n"
     ]
    },
    {
     "ename": "KeyboardInterrupt",
     "evalue": "",
     "output_type": "error",
     "traceback": [
      "\u001b[0;31m---------------------------------------------------------------------------\u001b[0m",
      "\u001b[0;31mKeyboardInterrupt\u001b[0m                         Traceback (most recent call last)",
      "\u001b[0;32m<timed exec>\u001b[0m in \u001b[0;36m<module>\u001b[0;34m\u001b[0m\n",
      "\u001b[0;32m<ipython-input-268-464c8a066cfa>\u001b[0m in \u001b[0;36mextract_non_coding_locations\u001b[0;34m(dna_dict, annotations)\u001b[0m\n\u001b[1;32m     29\u001b[0m             \u001b[0mstart\u001b[0m \u001b[0;34m=\u001b[0m \u001b[0mi\u001b[0m\u001b[0;34m\u001b[0m\u001b[0;34m\u001b[0m\u001b[0m\n\u001b[1;32m     30\u001b[0m             \u001b[0mend\u001b[0m \u001b[0;34m=\u001b[0m \u001b[0mstart\u001b[0m\u001b[0;34m\u001b[0m\u001b[0;34m\u001b[0m\u001b[0m\n\u001b[0;32m---> 31\u001b[0;31m         \u001b[0;32melif\u001b[0m \u001b[0mend\u001b[0m \u001b[0;34m+\u001b[0m \u001b[0;36m1\u001b[0m \u001b[0;34m!=\u001b[0m \u001b[0mi\u001b[0m\u001b[0;34m:\u001b[0m\u001b[0;34m\u001b[0m\u001b[0;34m\u001b[0m\u001b[0m\n\u001b[0m\u001b[1;32m     32\u001b[0m             \u001b[0;32mif\u001b[0m \u001b[0mend\u001b[0m \u001b[0;34m!=\u001b[0m \u001b[0mstart\u001b[0m\u001b[0;34m:\u001b[0m\u001b[0;34m\u001b[0m\u001b[0;34m\u001b[0m\u001b[0m\n\u001b[1;32m     33\u001b[0m                 \u001b[0mnon_coding_segments\u001b[0m\u001b[0;34m.\u001b[0m\u001b[0mappend\u001b[0m\u001b[0;34m(\u001b[0m\u001b[0;34m[\u001b[0m\u001b[0mstart\u001b[0m\u001b[0;34m,\u001b[0m \u001b[0mend\u001b[0m\u001b[0;34m]\u001b[0m\u001b[0;34m)\u001b[0m\u001b[0;34m\u001b[0m\u001b[0;34m\u001b[0m\u001b[0m\n",
      "\u001b[0;31mKeyboardInterrupt\u001b[0m: "
     ]
    }
   ],
   "source": [
    "%%time\n",
    "non_coding_percentages = []\n",
    "for i, taxid in enumerate(species_traits['species_taxid'].values):\n",
    "    if i == 0 or (i + 1) % 10 == 0:\n",
    "        print(f'Specie {i+1} / {len(species_traits)}')\n",
    "    \n",
    "    dna_dict, _, _ = load_specie_sequences(specie_taxid)\n",
    "    \n",
    "    annotations = gffutils.create_db(\n",
    "        gff_path_fmt.format(taxid=taxid), \n",
    "        ':memory:', \n",
    "        merge_strategy='replace',\n",
    "    )\n",
    "    \n",
    "    remaining_indices, full_length, _ = extract_non_coding_locations(dna_dict, annotations)\n",
    "    perc = 100 * len(remaining_indices) / full_length\n",
    "    non_coding_percentages.append(perc)"
   ]
  },
  {
   "cell_type": "code",
   "execution_count": 381,
   "metadata": {},
   "outputs": [
    {
     "data": {
      "text/plain": [
       "SeqRecord(seq=Seq('ATGTTCGCTGATCGCCTCAAAGATTACAACCTTGCCCTAGCGACCGTGCTTCAG...TGA', SingleLetterAlphabet()), id='lcl|AP012206.1_cds_BAL05302.1_1', name='lcl|AP012206.1_cds_BAL05302.1_1', description='lcl|AP012206.1_cds_BAL05302.1_1 [locus_tag=BJ6T_00010] [protein=hypothetical protein] [protein_id=BAL05302.1] [location=123..428] [gbkey=CDS]', dbxrefs=[])"
      ]
     },
     "execution_count": 381,
     "metadata": {},
     "output_type": "execute_result"
    }
   ],
   "source": [
    "seq_record = cds_dict['lcl|AP012206.1_cds_BAL05302.1_1']\n",
    "seq_record"
   ]
  },
  {
   "cell_type": "code",
   "execution_count": 382,
   "metadata": {},
   "outputs": [],
   "source": [
    "seq = seq_record.seq"
   ]
  },
  {
   "cell_type": "code",
   "execution_count": 387,
   "metadata": {},
   "outputs": [],
   "source": [
    "translated_seq_str = str(seq.translate())"
   ]
  },
  {
   "cell_type": "code",
   "execution_count": 388,
   "metadata": {},
   "outputs": [
    {
     "data": {
      "text/plain": [
       "True"
      ]
     },
     "execution_count": 388,
     "metadata": {},
     "output_type": "execute_result"
    }
   ],
   "source": [
    "translated_seq_str[-1] == '*'"
   ]
  },
  {
   "cell_type": "code",
   "execution_count": 389,
   "metadata": {},
   "outputs": [
    {
     "data": {
      "text/plain": [
       "True"
      ]
     },
     "execution_count": 389,
     "metadata": {},
     "output_type": "execute_result"
    }
   ],
   "source": [
    "'*' not in translated_seq_str[:-1]"
   ]
  },
  {
   "cell_type": "code",
   "execution_count": 391,
   "metadata": {},
   "outputs": [
    {
     "name": "stdout",
     "output_type": "stream",
     "text": [
      "1441386\n"
     ]
    }
   ],
   "source": [
    "for specie_taxid in species_traits['species_taxid'].values:\n",
    "    dna_path = os.path.join(\n",
    "        os.getcwd(), \n",
    "        f'data/condensed_traits/sequences/{specie_taxid}/{specie_taxid}_genomic.fna.gz',\n",
    "    )\n",
    "    with gzip.open(dna_path, mode='rt') as f:\n",
    "        dna = SeqIO.to_dict(SeqIO.parse(f, \"fasta\"))\n",
    "    \n",
    "    if len(dna) > 1:\n",
    "        print(specie_taxid)\n",
    "        break"
   ]
  },
  {
   "cell_type": "code",
   "execution_count": 392,
   "metadata": {},
   "outputs": [],
   "source": [
    "dna_path_1441386 = os.path.join(\n",
    "    os.getcwd(), \n",
    "    f'data/condensed_traits/sequences/1441386/1441386_genomic.fna.gz',\n",
    ")\n",
    "with gzip.open(dna_path_1441386, mode='rt') as f:\n",
    "    dna_1441386 = SeqIO.to_dict(SeqIO.parse(f, \"fasta\"))"
   ]
  },
  {
   "cell_type": "code",
   "execution_count": 393,
   "metadata": {},
   "outputs": [
    {
     "data": {
      "text/plain": [
       "dict_keys(['AP019551.1', 'AP019552.1', 'AP019553.1'])"
      ]
     },
     "execution_count": 393,
     "metadata": {},
     "output_type": "execute_result"
    }
   ],
   "source": [
    "dna_1441386.keys()"
   ]
  },
  {
   "cell_type": "code",
   "execution_count": null,
   "metadata": {},
   "outputs": [],
   "source": []
  }
 ],
 "metadata": {
  "kernelspec": {
   "display_name": "Python 3",
   "language": "python",
   "name": "python3"
  },
  "language_info": {
   "codemirror_mode": {
    "name": "ipython",
    "version": 3
   },
   "file_extension": ".py",
   "mimetype": "text/x-python",
   "name": "python",
   "nbconvert_exporter": "python",
   "pygments_lexer": "ipython3",
   "version": "3.7.6"
  }
 },
 "nbformat": 4,
 "nbformat_minor": 4
}
