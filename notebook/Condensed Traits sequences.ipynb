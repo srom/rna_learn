{
 "cells": [
  {
   "cell_type": "code",
   "execution_count": 164,
   "metadata": {},
   "outputs": [],
   "source": [
    "import re\n",
    "import os\n",
    "import datetime\n",
    "import gzip\n",
    "from pathlib import Path\n",
    "\n",
    "import pandas as pd\n",
    "import numpy as np\n",
    "import matplotlib.pyplot as plt\n",
    "import seaborn as sns\n",
    "from Bio import SeqIO\n",
    "import gffutils\n",
    "\n",
    "if os.getcwd().endswith('notebook'):\n",
    "    os.chdir('..')"
   ]
  },
  {
   "cell_type": "code",
   "execution_count": 3,
   "metadata": {},
   "outputs": [],
   "source": [
    "sns.set(palette='colorblind', font_scale=1.3)"
   ]
  },
  {
   "cell_type": "markdown",
   "metadata": {},
   "source": [
    "## Load traits"
   ]
  },
  {
   "cell_type": "code",
   "execution_count": 8,
   "metadata": {},
   "outputs": [
    {
     "data": {
      "text/plain": [
       "11265"
      ]
     },
     "execution_count": 8,
     "metadata": {},
     "output_type": "execute_result"
    }
   ],
   "source": [
    "species_traits_path = os.path.join(os.getcwd(), 'data/condensed_traits/condensed_species_NCBI_with_ogt.csv')\n",
    "species_traits_all = pd.read_csv(species_traits_path)\n",
    "len(species_traits_all)"
   ]
  },
  {
   "cell_type": "code",
   "execution_count": 10,
   "metadata": {},
   "outputs": [],
   "source": [
    "species_traits_all['species_taxid'] = species_traits_all['species_tax_id']"
   ]
  },
  {
   "cell_type": "code",
   "execution_count": 11,
   "metadata": {},
   "outputs": [
    {
     "data": {
      "text/html": [
       "<div>\n",
       "<style scoped>\n",
       "    .dataframe tbody tr th:only-of-type {\n",
       "        vertical-align: middle;\n",
       "    }\n",
       "\n",
       "    .dataframe tbody tr th {\n",
       "        vertical-align: top;\n",
       "    }\n",
       "\n",
       "    .dataframe thead th {\n",
       "        text-align: right;\n",
       "    }\n",
       "</style>\n",
       "<table border=\"1\" class=\"dataframe\">\n",
       "  <thead>\n",
       "    <tr style=\"text-align: right;\">\n",
       "      <th></th>\n",
       "      <th>species_tax_id</th>\n",
       "      <th>species</th>\n",
       "      <th>genus</th>\n",
       "      <th>family</th>\n",
       "      <th>order</th>\n",
       "      <th>class</th>\n",
       "      <th>phylum</th>\n",
       "      <th>superkingdom</th>\n",
       "      <th>gram_stain</th>\n",
       "      <th>metabolism</th>\n",
       "      <th>...</th>\n",
       "      <th>gc_content.stdev</th>\n",
       "      <th>coding_genes.stdev</th>\n",
       "      <th>optimum_tmp.stdev</th>\n",
       "      <th>optimum_ph.stdev</th>\n",
       "      <th>growth_tmp.stdev</th>\n",
       "      <th>rRNA16S_genes.stdev</th>\n",
       "      <th>tRNA_genes.stdev</th>\n",
       "      <th>data_source</th>\n",
       "      <th>ref_id</th>\n",
       "      <th>species_taxid</th>\n",
       "    </tr>\n",
       "  </thead>\n",
       "  <tbody>\n",
       "    <tr>\n",
       "      <th>0</th>\n",
       "      <td>1416943</td>\n",
       "      <td>Lactobacillus sicerae</td>\n",
       "      <td>Lactobacillus</td>\n",
       "      <td>Lactobacillaceae</td>\n",
       "      <td>Lactobacillales</td>\n",
       "      <td>Bacilli</td>\n",
       "      <td>Firmicutes</td>\n",
       "      <td>Bacteria</td>\n",
       "      <td>NaN</td>\n",
       "      <td>anaerobic</td>\n",
       "      <td>...</td>\n",
       "      <td>NaN</td>\n",
       "      <td>NaN</td>\n",
       "      <td>NaN</td>\n",
       "      <td>NaN</td>\n",
       "      <td>0.0</td>\n",
       "      <td>NaN</td>\n",
       "      <td>NaN</td>\n",
       "      <td>campedelli</td>\n",
       "      <td>152</td>\n",
       "      <td>1416943</td>\n",
       "    </tr>\n",
       "    <tr>\n",
       "      <th>1</th>\n",
       "      <td>1229250</td>\n",
       "      <td>Ammoniibacillus agariperforans</td>\n",
       "      <td>Ammoniibacillus</td>\n",
       "      <td>Paenibacillaceae</td>\n",
       "      <td>Bacillales</td>\n",
       "      <td>Bacilli</td>\n",
       "      <td>Firmicutes</td>\n",
       "      <td>Bacteria</td>\n",
       "      <td>NaN</td>\n",
       "      <td>aerobic</td>\n",
       "      <td>...</td>\n",
       "      <td>NaN</td>\n",
       "      <td>NaN</td>\n",
       "      <td>NaN</td>\n",
       "      <td>NaN</td>\n",
       "      <td>0.0</td>\n",
       "      <td>NaN</td>\n",
       "      <td>NaN</td>\n",
       "      <td>corkrey</td>\n",
       "      <td>181</td>\n",
       "      <td>1229250</td>\n",
       "    </tr>\n",
       "    <tr>\n",
       "      <th>2</th>\n",
       "      <td>1081799</td>\n",
       "      <td>Thermomarinilinea lacunifontana</td>\n",
       "      <td>Thermomarinilinea</td>\n",
       "      <td>Anaerolineaceae</td>\n",
       "      <td>Anaerolineales</td>\n",
       "      <td>Anaerolineae</td>\n",
       "      <td>Chloroflexi</td>\n",
       "      <td>Bacteria</td>\n",
       "      <td>NaN</td>\n",
       "      <td>aerobic</td>\n",
       "      <td>...</td>\n",
       "      <td>NaN</td>\n",
       "      <td>NaN</td>\n",
       "      <td>NaN</td>\n",
       "      <td>NaN</td>\n",
       "      <td>0.0</td>\n",
       "      <td>NaN</td>\n",
       "      <td>NaN</td>\n",
       "      <td>corkrey</td>\n",
       "      <td>206</td>\n",
       "      <td>1081799</td>\n",
       "    </tr>\n",
       "    <tr>\n",
       "      <th>3</th>\n",
       "      <td>1323370</td>\n",
       "      <td>Caloranaerobacter ferrireducens</td>\n",
       "      <td>Caloranaerobacter</td>\n",
       "      <td>Clostridiaceae</td>\n",
       "      <td>Clostridiales</td>\n",
       "      <td>Clostridia</td>\n",
       "      <td>Firmicutes</td>\n",
       "      <td>Bacteria</td>\n",
       "      <td>NaN</td>\n",
       "      <td>anaerobic</td>\n",
       "      <td>...</td>\n",
       "      <td>NaN</td>\n",
       "      <td>NaN</td>\n",
       "      <td>NaN</td>\n",
       "      <td>NaN</td>\n",
       "      <td>0.0</td>\n",
       "      <td>NaN</td>\n",
       "      <td>NaN</td>\n",
       "      <td>corkrey</td>\n",
       "      <td>380</td>\n",
       "      <td>1323370</td>\n",
       "    </tr>\n",
       "    <tr>\n",
       "      <th>4</th>\n",
       "      <td>192731</td>\n",
       "      <td>Halomicronema excentricum</td>\n",
       "      <td>Halomicronema</td>\n",
       "      <td>Leptolyngbyaceae</td>\n",
       "      <td>Synechococcales</td>\n",
       "      <td>NaN</td>\n",
       "      <td>Cyanobacteria</td>\n",
       "      <td>Bacteria</td>\n",
       "      <td>NaN</td>\n",
       "      <td>aerobic</td>\n",
       "      <td>...</td>\n",
       "      <td>NaN</td>\n",
       "      <td>NaN</td>\n",
       "      <td>NaN</td>\n",
       "      <td>NaN</td>\n",
       "      <td>0.0</td>\n",
       "      <td>NaN</td>\n",
       "      <td>NaN</td>\n",
       "      <td>corkrey</td>\n",
       "      <td>406</td>\n",
       "      <td>192731</td>\n",
       "    </tr>\n",
       "  </tbody>\n",
       "</table>\n",
       "<p>5 rows × 80 columns</p>\n",
       "</div>"
      ],
      "text/plain": [
       "   species_tax_id                          species              genus  \\\n",
       "0         1416943            Lactobacillus sicerae      Lactobacillus   \n",
       "1         1229250   Ammoniibacillus agariperforans    Ammoniibacillus   \n",
       "2         1081799  Thermomarinilinea lacunifontana  Thermomarinilinea   \n",
       "3         1323370  Caloranaerobacter ferrireducens  Caloranaerobacter   \n",
       "4          192731        Halomicronema excentricum      Halomicronema   \n",
       "\n",
       "             family            order         class         phylum  \\\n",
       "0  Lactobacillaceae  Lactobacillales       Bacilli     Firmicutes   \n",
       "1  Paenibacillaceae       Bacillales       Bacilli     Firmicutes   \n",
       "2   Anaerolineaceae   Anaerolineales  Anaerolineae    Chloroflexi   \n",
       "3    Clostridiaceae    Clostridiales    Clostridia     Firmicutes   \n",
       "4  Leptolyngbyaceae  Synechococcales           NaN  Cyanobacteria   \n",
       "\n",
       "  superkingdom gram_stain metabolism  ... gc_content.stdev coding_genes.stdev  \\\n",
       "0     Bacteria        NaN  anaerobic  ...              NaN                NaN   \n",
       "1     Bacteria        NaN    aerobic  ...              NaN                NaN   \n",
       "2     Bacteria        NaN    aerobic  ...              NaN                NaN   \n",
       "3     Bacteria        NaN  anaerobic  ...              NaN                NaN   \n",
       "4     Bacteria        NaN    aerobic  ...              NaN                NaN   \n",
       "\n",
       "  optimum_tmp.stdev optimum_ph.stdev growth_tmp.stdev rRNA16S_genes.stdev  \\\n",
       "0               NaN              NaN              0.0                 NaN   \n",
       "1               NaN              NaN              0.0                 NaN   \n",
       "2               NaN              NaN              0.0                 NaN   \n",
       "3               NaN              NaN              0.0                 NaN   \n",
       "4               NaN              NaN              0.0                 NaN   \n",
       "\n",
       "  tRNA_genes.stdev data_source  ref_id  species_taxid  \n",
       "0              NaN  campedelli     152        1416943  \n",
       "1              NaN     corkrey     181        1229250  \n",
       "2              NaN     corkrey     206        1081799  \n",
       "3              NaN     corkrey     380        1323370  \n",
       "4              NaN     corkrey     406         192731  \n",
       "\n",
       "[5 rows x 80 columns]"
      ]
     },
     "execution_count": 11,
     "metadata": {},
     "output_type": "execute_result"
    }
   ],
   "source": [
    "species_traits_all.head()"
   ]
  },
  {
   "cell_type": "markdown",
   "metadata": {},
   "source": [
    "## Load NCBI species short-list"
   ]
  },
  {
   "cell_type": "code",
   "execution_count": 334,
   "metadata": {},
   "outputs": [
    {
     "data": {
      "text/plain": [
       "2359"
      ]
     },
     "execution_count": 334,
     "metadata": {},
     "output_type": "execute_result"
    }
   ],
   "source": [
    "ncbi_species_metadata = pd.read_csv(\n",
    "    os.path.join(os.getcwd(), 'data/condensed_traits/ncbi_species_final.csv'),\n",
    "    parse_dates=['seq_rel_date_processed'],\n",
    ")\n",
    "len(ncbi_species_metadata)"
   ]
  },
  {
   "cell_type": "code",
   "execution_count": 335,
   "metadata": {},
   "outputs": [
    {
     "data": {
      "text/html": [
       "<div>\n",
       "<style scoped>\n",
       "    .dataframe tbody tr th:only-of-type {\n",
       "        vertical-align: middle;\n",
       "    }\n",
       "\n",
       "    .dataframe tbody tr th {\n",
       "        vertical-align: top;\n",
       "    }\n",
       "\n",
       "    .dataframe thead th {\n",
       "        text-align: right;\n",
       "    }\n",
       "</style>\n",
       "<table border=\"1\" class=\"dataframe\">\n",
       "  <thead>\n",
       "    <tr style=\"text-align: right;\">\n",
       "      <th></th>\n",
       "      <th>assembly_accession</th>\n",
       "      <th>bioproject</th>\n",
       "      <th>biosample</th>\n",
       "      <th>wgs_master</th>\n",
       "      <th>refseq_category</th>\n",
       "      <th>taxid</th>\n",
       "      <th>species_taxid</th>\n",
       "      <th>organism_name</th>\n",
       "      <th>infraspecific_name</th>\n",
       "      <th>isolate</th>\n",
       "      <th>...</th>\n",
       "      <th>seq_rel_date</th>\n",
       "      <th>asm_name</th>\n",
       "      <th>submitter</th>\n",
       "      <th>gbrs_paired_asm</th>\n",
       "      <th>paired_asm_comp</th>\n",
       "      <th>ftp_path</th>\n",
       "      <th>excluded_from_refseq</th>\n",
       "      <th>relation_to_type_material</th>\n",
       "      <th>seq_rel_date_processed</th>\n",
       "      <th>download_url_base</th>\n",
       "    </tr>\n",
       "  </thead>\n",
       "  <tbody>\n",
       "    <tr>\n",
       "      <th>0</th>\n",
       "      <td>GCA_000005825.2</td>\n",
       "      <td>PRJNA28811</td>\n",
       "      <td>SAMN02603086</td>\n",
       "      <td>NaN</td>\n",
       "      <td>representative genome</td>\n",
       "      <td>398511</td>\n",
       "      <td>79885</td>\n",
       "      <td>Bacillus pseudofirmus OF4</td>\n",
       "      <td>strain=OF4</td>\n",
       "      <td>NaN</td>\n",
       "      <td>...</td>\n",
       "      <td>15/12/2010</td>\n",
       "      <td>ASM582v2</td>\n",
       "      <td>Center for Genomic Sciences, Allegheny-Singer ...</td>\n",
       "      <td>GCF_000005825.2</td>\n",
       "      <td>identical</td>\n",
       "      <td>ftp://ftp.ncbi.nlm.nih.gov/genomes/all/GCA/000...</td>\n",
       "      <td>NaN</td>\n",
       "      <td>NaN</td>\n",
       "      <td>2010-12-15</td>\n",
       "      <td>ftp://ftp.ncbi.nlm.nih.gov/genomes/all/GCA/000...</td>\n",
       "    </tr>\n",
       "    <tr>\n",
       "      <th>1</th>\n",
       "      <td>GCA_000005845.2</td>\n",
       "      <td>PRJNA225</td>\n",
       "      <td>SAMN02604091</td>\n",
       "      <td>NaN</td>\n",
       "      <td>reference genome</td>\n",
       "      <td>511145</td>\n",
       "      <td>562</td>\n",
       "      <td>Escherichia coli str. K-12 substr. MG1655</td>\n",
       "      <td>strain=K-12 substr. MG1655</td>\n",
       "      <td>NaN</td>\n",
       "      <td>...</td>\n",
       "      <td>26/09/2013</td>\n",
       "      <td>ASM584v2</td>\n",
       "      <td>Univ. Wisconsin</td>\n",
       "      <td>GCF_000005845.2</td>\n",
       "      <td>identical</td>\n",
       "      <td>ftp://ftp.ncbi.nlm.nih.gov/genomes/all/GCA/000...</td>\n",
       "      <td>NaN</td>\n",
       "      <td>NaN</td>\n",
       "      <td>2013-09-26</td>\n",
       "      <td>ftp://ftp.ncbi.nlm.nih.gov/genomes/all/GCA/000...</td>\n",
       "    </tr>\n",
       "    <tr>\n",
       "      <th>2</th>\n",
       "      <td>GCA_000006175.2</td>\n",
       "      <td>PRJNA20131</td>\n",
       "      <td>SAMN00000040</td>\n",
       "      <td>NaN</td>\n",
       "      <td>representative genome</td>\n",
       "      <td>456320</td>\n",
       "      <td>2188</td>\n",
       "      <td>Methanococcus voltae A3</td>\n",
       "      <td>strain=A3</td>\n",
       "      <td>NaN</td>\n",
       "      <td>...</td>\n",
       "      <td>03/06/2010</td>\n",
       "      <td>ASM617v2</td>\n",
       "      <td>US DOE Joint Genome Institute (JGI-PGF)</td>\n",
       "      <td>GCF_000006175.1</td>\n",
       "      <td>identical</td>\n",
       "      <td>ftp://ftp.ncbi.nlm.nih.gov/genomes/all/GCA/000...</td>\n",
       "      <td>NaN</td>\n",
       "      <td>NaN</td>\n",
       "      <td>2010-06-03</td>\n",
       "      <td>ftp://ftp.ncbi.nlm.nih.gov/genomes/all/GCA/000...</td>\n",
       "    </tr>\n",
       "    <tr>\n",
       "      <th>3</th>\n",
       "      <td>GCA_000006605.1</td>\n",
       "      <td>PRJNA13967</td>\n",
       "      <td>SAMEA3283089</td>\n",
       "      <td>NaN</td>\n",
       "      <td>representative genome</td>\n",
       "      <td>306537</td>\n",
       "      <td>38289</td>\n",
       "      <td>Corynebacterium jeikeium K411</td>\n",
       "      <td>NaN</td>\n",
       "      <td>NaN</td>\n",
       "      <td>...</td>\n",
       "      <td>27/06/2005</td>\n",
       "      <td>ASM660v1</td>\n",
       "      <td>Bielefeld Univ</td>\n",
       "      <td>GCF_000006605.1</td>\n",
       "      <td>identical</td>\n",
       "      <td>ftp://ftp.ncbi.nlm.nih.gov/genomes/all/GCA/000...</td>\n",
       "      <td>NaN</td>\n",
       "      <td>NaN</td>\n",
       "      <td>2005-06-27</td>\n",
       "      <td>ftp://ftp.ncbi.nlm.nih.gov/genomes/all/GCA/000...</td>\n",
       "    </tr>\n",
       "    <tr>\n",
       "      <th>4</th>\n",
       "      <td>GCA_000019345.1</td>\n",
       "      <td>PRJNA19087</td>\n",
       "      <td>SAMN02604063</td>\n",
       "      <td>NaN</td>\n",
       "      <td>representative genome</td>\n",
       "      <td>505682</td>\n",
       "      <td>134821</td>\n",
       "      <td>Ureaplasma parvum serovar 3 str. ATCC 27815</td>\n",
       "      <td>strain=ATCC 27815</td>\n",
       "      <td>NaN</td>\n",
       "      <td>...</td>\n",
       "      <td>26/02/2008</td>\n",
       "      <td>ASM1934v1</td>\n",
       "      <td>TIGR</td>\n",
       "      <td>GCF_000019345.1</td>\n",
       "      <td>identical</td>\n",
       "      <td>ftp://ftp.ncbi.nlm.nih.gov/genomes/all/GCA/000...</td>\n",
       "      <td>NaN</td>\n",
       "      <td>assembly from type material</td>\n",
       "      <td>2008-02-26</td>\n",
       "      <td>ftp://ftp.ncbi.nlm.nih.gov/genomes/all/GCA/000...</td>\n",
       "    </tr>\n",
       "  </tbody>\n",
       "</table>\n",
       "<p>5 rows × 24 columns</p>\n",
       "</div>"
      ],
      "text/plain": [
       "  assembly_accession  bioproject     biosample  wgs_master  \\\n",
       "0    GCA_000005825.2  PRJNA28811  SAMN02603086         NaN   \n",
       "1    GCA_000005845.2    PRJNA225  SAMN02604091         NaN   \n",
       "2    GCA_000006175.2  PRJNA20131  SAMN00000040         NaN   \n",
       "3    GCA_000006605.1  PRJNA13967  SAMEA3283089         NaN   \n",
       "4    GCA_000019345.1  PRJNA19087  SAMN02604063         NaN   \n",
       "\n",
       "         refseq_category   taxid  species_taxid  \\\n",
       "0  representative genome  398511          79885   \n",
       "1       reference genome  511145            562   \n",
       "2  representative genome  456320           2188   \n",
       "3  representative genome  306537          38289   \n",
       "4  representative genome  505682         134821   \n",
       "\n",
       "                                 organism_name          infraspecific_name  \\\n",
       "0                    Bacillus pseudofirmus OF4                  strain=OF4   \n",
       "1    Escherichia coli str. K-12 substr. MG1655  strain=K-12 substr. MG1655   \n",
       "2                      Methanococcus voltae A3                   strain=A3   \n",
       "3                Corynebacterium jeikeium K411                         NaN   \n",
       "4  Ureaplasma parvum serovar 3 str. ATCC 27815           strain=ATCC 27815   \n",
       "\n",
       "  isolate  ... seq_rel_date   asm_name  \\\n",
       "0     NaN  ...   15/12/2010   ASM582v2   \n",
       "1     NaN  ...   26/09/2013   ASM584v2   \n",
       "2     NaN  ...   03/06/2010   ASM617v2   \n",
       "3     NaN  ...   27/06/2005   ASM660v1   \n",
       "4     NaN  ...   26/02/2008  ASM1934v1   \n",
       "\n",
       "                                           submitter  gbrs_paired_asm  \\\n",
       "0  Center for Genomic Sciences, Allegheny-Singer ...  GCF_000005825.2   \n",
       "1                                    Univ. Wisconsin  GCF_000005845.2   \n",
       "2            US DOE Joint Genome Institute (JGI-PGF)  GCF_000006175.1   \n",
       "3                                     Bielefeld Univ  GCF_000006605.1   \n",
       "4                                               TIGR  GCF_000019345.1   \n",
       "\n",
       "  paired_asm_comp                                           ftp_path  \\\n",
       "0       identical  ftp://ftp.ncbi.nlm.nih.gov/genomes/all/GCA/000...   \n",
       "1       identical  ftp://ftp.ncbi.nlm.nih.gov/genomes/all/GCA/000...   \n",
       "2       identical  ftp://ftp.ncbi.nlm.nih.gov/genomes/all/GCA/000...   \n",
       "3       identical  ftp://ftp.ncbi.nlm.nih.gov/genomes/all/GCA/000...   \n",
       "4       identical  ftp://ftp.ncbi.nlm.nih.gov/genomes/all/GCA/000...   \n",
       "\n",
       "  excluded_from_refseq    relation_to_type_material seq_rel_date_processed  \\\n",
       "0                  NaN                          NaN             2010-12-15   \n",
       "1                  NaN                          NaN             2013-09-26   \n",
       "2                  NaN                          NaN             2010-06-03   \n",
       "3                  NaN                          NaN             2005-06-27   \n",
       "4                  NaN  assembly from type material             2008-02-26   \n",
       "\n",
       "                                   download_url_base  \n",
       "0  ftp://ftp.ncbi.nlm.nih.gov/genomes/all/GCA/000...  \n",
       "1  ftp://ftp.ncbi.nlm.nih.gov/genomes/all/GCA/000...  \n",
       "2  ftp://ftp.ncbi.nlm.nih.gov/genomes/all/GCA/000...  \n",
       "3  ftp://ftp.ncbi.nlm.nih.gov/genomes/all/GCA/000...  \n",
       "4  ftp://ftp.ncbi.nlm.nih.gov/genomes/all/GCA/000...  \n",
       "\n",
       "[5 rows x 24 columns]"
      ]
     },
     "execution_count": 335,
     "metadata": {},
     "output_type": "execute_result"
    }
   ],
   "source": [
    "ncbi_species_metadata.head()"
   ]
  },
  {
   "cell_type": "code",
   "execution_count": 338,
   "metadata": {},
   "outputs": [
    {
     "data": {
      "text/plain": [
       "Index(['assembly_accession', 'bioproject', 'biosample', 'wgs_master',\n",
       "       'refseq_category', 'taxid', 'species_taxid', 'organism_name',\n",
       "       'infraspecific_name', 'isolate', 'version_status', 'assembly_level',\n",
       "       'release_type', 'genome_rep', 'seq_rel_date', 'asm_name', 'submitter',\n",
       "       'gbrs_paired_asm', 'paired_asm_comp', 'ftp_path',\n",
       "       'excluded_from_refseq', 'relation_to_type_material',\n",
       "       'seq_rel_date_processed', 'download_url_base'],\n",
       "      dtype='object')"
      ]
     },
     "execution_count": 338,
     "metadata": {},
     "output_type": "execute_result"
    }
   ],
   "source": [
    "ncbi_species_metadata.columns"
   ]
  },
  {
   "cell_type": "markdown",
   "metadata": {},
   "source": [
    "## Keep traits from short-listed species only"
   ]
  },
  {
   "cell_type": "code",
   "execution_count": 12,
   "metadata": {},
   "outputs": [
    {
     "data": {
      "text/plain": [
       "2359"
      ]
     },
     "execution_count": 12,
     "metadata": {},
     "output_type": "execute_result"
    }
   ],
   "source": [
    "species_traits = species_traits_all[\n",
    "    species_traits_all['species_taxid'].isin(ncbi_species_metadata['species_taxid'].values)\n",
    "].reset_index(drop=True)\n",
    "len(species_traits)"
   ]
  },
  {
   "cell_type": "code",
   "execution_count": 15,
   "metadata": {},
   "outputs": [
    {
     "data": {
      "text/plain": [
       "Index(['species_tax_id', 'species', 'genus', 'family', 'order', 'class',\n",
       "       'phylum', 'superkingdom', 'gram_stain', 'metabolism', 'pathways',\n",
       "       'carbon_substrates', 'sporulation', 'motility', 'range_tmp',\n",
       "       'range_salinity', 'cell_shape', 'isolation_source', 'd1_lo', 'd1_up',\n",
       "       'd2_lo', 'd2_up', 'doubling_h', 'genome_size', 'gc_content',\n",
       "       'coding_genes', 'optimum_tmp', 'optimum_ph', 'growth_tmp',\n",
       "       'rRNA16S_genes', 'tRNA_genes', 'gram_stain.count', 'metabolism.count',\n",
       "       'pathways.count', 'carbon_substrates.count', 'sporulation.count',\n",
       "       'motility.count', 'range_tmp.count', 'range_salinity.count',\n",
       "       'cell_shape.count', 'isolation_source.count', 'gram_stain.prop',\n",
       "       'metabolism.prop', 'pathways.prop', 'carbon_substrates.prop',\n",
       "       'sporulation.prop', 'motility.prop', 'range_tmp.prop',\n",
       "       'range_salinity.prop', 'cell_shape.prop', 'isolation_source.prop',\n",
       "       'd1_lo.count', 'd1_up.count', 'd2_lo.count', 'd2_up.count',\n",
       "       'doubling_h.count', 'genome_size.count', 'gc_content.count',\n",
       "       'coding_genes.count', 'optimum_tmp.count', 'optimum_ph.count',\n",
       "       'growth_tmp.count', 'rRNA16S_genes.count', 'tRNA_genes.count',\n",
       "       'd1_lo.stdev', 'd1_up.stdev', 'd2_lo.stdev', 'd2_up.stdev',\n",
       "       'doubling_h.stdev', 'genome_size.stdev', 'gc_content.stdev',\n",
       "       'coding_genes.stdev', 'optimum_tmp.stdev', 'optimum_ph.stdev',\n",
       "       'growth_tmp.stdev', 'rRNA16S_genes.stdev', 'tRNA_genes.stdev',\n",
       "       'data_source', 'ref_id', 'species_taxid'],\n",
       "      dtype='object')"
      ]
     },
     "execution_count": 15,
     "metadata": {},
     "output_type": "execute_result"
    }
   ],
   "source": [
    "species_traits.columns"
   ]
  },
  {
   "cell_type": "code",
   "execution_count": 349,
   "metadata": {},
   "outputs": [
    {
     "name": "stdout",
     "output_type": "stream",
     "text": [
      "species_tax_id <class 'numpy.int64'> False\n",
      "species <class 'str'> False\n",
      "genus <class 'str'> False\n",
      "family <class 'str'> False\n",
      "order <class 'str'> False\n",
      "class <class 'str'> False\n",
      "phylum <class 'str'> False\n",
      "superkingdom <class 'str'> False\n",
      "gram_stain <class 'float'> True\n",
      "metabolism <class 'str'> False\n",
      "pathways <class 'float'> True\n",
      "carbon_substrates <class 'float'> True\n",
      "sporulation <class 'float'> True\n",
      "motility <class 'float'> True\n",
      "range_tmp <class 'float'> True\n",
      "range_salinity <class 'float'> True\n",
      "cell_shape <class 'float'> True\n",
      "isolation_source <class 'float'> True\n",
      "d1_lo <class 'numpy.float64'> True\n",
      "d1_up <class 'numpy.float64'> True\n",
      "d2_lo <class 'numpy.float64'> True\n",
      "d2_up <class 'numpy.float64'> True\n",
      "doubling_h <class 'numpy.float64'> True\n",
      "genome_size <class 'numpy.float64'> True\n",
      "gc_content <class 'numpy.float64'> True\n",
      "coding_genes <class 'numpy.float64'> True\n",
      "optimum_tmp <class 'numpy.float64'> True\n",
      "optimum_ph <class 'numpy.float64'> True\n",
      "growth_tmp <class 'numpy.float64'> True\n",
      "rRNA16S_genes <class 'numpy.float64'> True\n",
      "tRNA_genes <class 'numpy.float64'> True\n",
      "gram_stain.count <class 'numpy.int64'> False\n",
      "metabolism.count <class 'numpy.float64'> True\n",
      "pathways.count <class 'numpy.int64'> False\n",
      "carbon_substrates.count <class 'numpy.int64'> False\n",
      "sporulation.count <class 'numpy.int64'> False\n",
      "motility.count <class 'numpy.int64'> False\n",
      "range_tmp.count <class 'numpy.int64'> False\n",
      "range_salinity.count <class 'numpy.int64'> False\n",
      "cell_shape.count <class 'numpy.int64'> False\n",
      "isolation_source.count <class 'numpy.float64'> True\n",
      "gram_stain.prop <class 'numpy.float64'> True\n",
      "metabolism.prop <class 'numpy.float64'> True\n",
      "pathways.prop <class 'numpy.float64'> True\n",
      "carbon_substrates.prop <class 'numpy.float64'> True\n",
      "sporulation.prop <class 'numpy.float64'> True\n",
      "motility.prop <class 'numpy.float64'> True\n",
      "range_tmp.prop <class 'numpy.float64'> True\n",
      "range_salinity.prop <class 'numpy.float64'> True\n",
      "cell_shape.prop <class 'numpy.float64'> True\n",
      "isolation_source.prop <class 'numpy.float64'> True\n",
      "d1_lo.count <class 'numpy.int64'> False\n",
      "d1_up.count <class 'numpy.int64'> False\n",
      "d2_lo.count <class 'numpy.float64'> True\n",
      "d2_up.count <class 'numpy.float64'> True\n",
      "doubling_h.count <class 'numpy.int64'> False\n",
      "genome_size.count <class 'numpy.int64'> False\n",
      "gc_content.count <class 'numpy.int64'> False\n",
      "coding_genes.count <class 'numpy.int64'> False\n",
      "optimum_tmp.count <class 'numpy.int64'> False\n",
      "optimum_ph.count <class 'numpy.int64'> False\n",
      "growth_tmp.count <class 'numpy.int64'> False\n",
      "rRNA16S_genes.count <class 'numpy.int64'> False\n",
      "tRNA_genes.count <class 'numpy.int64'> False\n",
      "d1_lo.stdev <class 'numpy.float64'> True\n",
      "d1_up.stdev <class 'numpy.float64'> True\n",
      "d2_lo.stdev <class 'numpy.float64'> True\n",
      "d2_up.stdev <class 'numpy.float64'> True\n",
      "doubling_h.stdev <class 'numpy.float64'> True\n",
      "genome_size.stdev <class 'numpy.float64'> True\n",
      "gc_content.stdev <class 'numpy.float64'> True\n",
      "coding_genes.stdev <class 'numpy.float64'> True\n",
      "optimum_tmp.stdev <class 'numpy.float64'> True\n",
      "optimum_ph.stdev <class 'numpy.float64'> True\n",
      "growth_tmp.stdev <class 'numpy.float64'> True\n",
      "rRNA16S_genes.stdev <class 'numpy.float64'> True\n",
      "tRNA_genes.stdev <class 'numpy.float64'> True\n",
      "data_source <class 'str'> False\n",
      "ref_id <class 'str'> False\n",
      "species_taxid <class 'numpy.int64'> False\n"
     ]
    }
   ],
   "source": [
    "for c in species_traits.columns:\n",
    "    v = species_traits[c].iloc[0]\n",
    "    print(c, type(v), isinstance(v, float))"
   ]
  },
  {
   "cell_type": "code",
   "execution_count": 18,
   "metadata": {},
   "outputs": [],
   "source": [
    "assert np.all(species_traits['growth_tmp'].notnull())"
   ]
  },
  {
   "cell_type": "markdown",
   "metadata": {},
   "source": [
    "## Load CDS"
   ]
  },
  {
   "cell_type": "code",
   "execution_count": 103,
   "metadata": {},
   "outputs": [],
   "source": [
    "cds_path_fmt = os.path.join(os.getcwd(), 'data/condensed_traits/sequences/{taxid}/{taxid}_cds_from_genomic.fna.gz')"
   ]
  },
  {
   "cell_type": "code",
   "execution_count": 104,
   "metadata": {},
   "outputs": [
    {
     "data": {
      "text/html": [
       "<div>\n",
       "<style scoped>\n",
       "    .dataframe tbody tr th:only-of-type {\n",
       "        vertical-align: middle;\n",
       "    }\n",
       "\n",
       "    .dataframe tbody tr th {\n",
       "        vertical-align: top;\n",
       "    }\n",
       "\n",
       "    .dataframe thead th {\n",
       "        text-align: right;\n",
       "    }\n",
       "</style>\n",
       "<table border=\"1\" class=\"dataframe\">\n",
       "  <thead>\n",
       "    <tr style=\"text-align: right;\">\n",
       "      <th></th>\n",
       "      <th>species_taxid</th>\n",
       "      <th>species</th>\n",
       "      <th>phylum</th>\n",
       "      <th>growth_tmp</th>\n",
       "      <th>genome_size</th>\n",
       "      <th>coding_genes</th>\n",
       "    </tr>\n",
       "  </thead>\n",
       "  <tbody>\n",
       "    <tr>\n",
       "      <th>110</th>\n",
       "      <td>375</td>\n",
       "      <td>Bradyrhizobium japonicum</td>\n",
       "      <td>Proteobacteria</td>\n",
       "      <td>27.0</td>\n",
       "      <td>9075243.179</td>\n",
       "      <td>8530.667</td>\n",
       "    </tr>\n",
       "  </tbody>\n",
       "</table>\n",
       "</div>"
      ],
      "text/plain": [
       "     species_taxid                   species          phylum  growth_tmp  \\\n",
       "110            375  Bradyrhizobium japonicum  Proteobacteria        27.0   \n",
       "\n",
       "     genome_size  coding_genes  \n",
       "110  9075243.179      8530.667  "
      ]
     },
     "execution_count": 104,
     "metadata": {},
     "output_type": "execute_result"
    }
   ],
   "source": [
    "idx = 110\n",
    "specie_taxid = species_traits.iloc[idx]['species_taxid']\n",
    "species_traits.iloc[[idx]][['species_taxid', 'species', 'phylum', 'growth_tmp', 'genome_size', 'coding_genes']]"
   ]
  },
  {
   "cell_type": "code",
   "execution_count": 105,
   "metadata": {},
   "outputs": [],
   "source": [
    "with gzip.open(cds_path_fmt.format(taxid=specie_taxid), mode='rt') as f:\n",
    "    record_dict = SeqIO.to_dict(SeqIO.parse(f, \"fasta\"))"
   ]
  },
  {
   "cell_type": "code",
   "execution_count": 106,
   "metadata": {},
   "outputs": [],
   "source": [
    "r = sorted(record_dict.keys())[0]"
   ]
  },
  {
   "cell_type": "code",
   "execution_count": 107,
   "metadata": {},
   "outputs": [],
   "source": [
    "cds = record_dict[r]"
   ]
  },
  {
   "cell_type": "code",
   "execution_count": 108,
   "metadata": {},
   "outputs": [
    {
     "data": {
      "text/plain": [
       "SeqRecord(seq=Seq('ATGTTCGCTGATCGCCTCAAAGATTACAACCTTGCCCTAGCGACCGTGCTTCAG...TGA', SingleLetterAlphabet()), id='lcl|AP012206.1_cds_BAL05302.1_1', name='lcl|AP012206.1_cds_BAL05302.1_1', description='lcl|AP012206.1_cds_BAL05302.1_1 [locus_tag=BJ6T_00010] [protein=hypothetical protein] [protein_id=BAL05302.1] [location=123..428] [gbkey=CDS]', dbxrefs=[])"
      ]
     },
     "execution_count": 108,
     "metadata": {},
     "output_type": "execute_result"
    }
   ],
   "source": [
    "cds"
   ]
  },
  {
   "cell_type": "code",
   "execution_count": 109,
   "metadata": {},
   "outputs": [
    {
     "data": {
      "text/plain": [
       "SeqRecord(seq=Seq('MFADRLKDYNLALATVLQSVNSFELVGVGLVLDVPTDIASRRIFSNRTSASWSN...CS*', HasStopCodon(ExtendedIUPACProtein(), '*')), id='<unknown id>', name='<unknown name>', description='<unknown description>', dbxrefs=[])"
      ]
     },
     "execution_count": 109,
     "metadata": {},
     "output_type": "execute_result"
    }
   ],
   "source": [
    "cds.translate()"
   ]
  },
  {
   "cell_type": "markdown",
   "metadata": {},
   "source": [
    "## Load RNA"
   ]
  },
  {
   "cell_type": "code",
   "execution_count": 112,
   "metadata": {},
   "outputs": [],
   "source": [
    "rna_path_fmt = os.path.join(os.getcwd(), 'data/condensed_traits/sequences/{taxid}/{taxid}_rna_from_genomic.fna.gz')"
   ]
  },
  {
   "cell_type": "code",
   "execution_count": 113,
   "metadata": {},
   "outputs": [],
   "source": [
    "with gzip.open(rna_path_fmt.format(taxid=specie_taxid), mode='rt') as f:\n",
    "    rna_dict = SeqIO.to_dict(SeqIO.parse(f, \"fasta\"))"
   ]
  },
  {
   "cell_type": "code",
   "execution_count": 118,
   "metadata": {},
   "outputs": [],
   "source": [
    "rna_id = sorted(rna_dict.keys())[20]\n",
    "rna = rna_dict[rna_id]"
   ]
  },
  {
   "cell_type": "code",
   "execution_count": 119,
   "metadata": {},
   "outputs": [
    {
     "data": {
      "text/plain": [
       "SeqRecord(seq=Seq('GGCGGGGTAGCTCAGCTGGTTAGAGCACGGGAATCATAATCCTGGGGTCGGGGG...CCA', SingleLetterAlphabet()), id='lcl|AP012206.1_trna_23', name='lcl|AP012206.1_trna_23', description='lcl|AP012206.1_trna_23 [locus_tag=BJ6T_24130] [product=tRNA-Met] [location=2487544..2487620] [gbkey=tRNA]', dbxrefs=[])"
      ]
     },
     "execution_count": 119,
     "metadata": {},
     "output_type": "execute_result"
    }
   ],
   "source": [
    "rna"
   ]
  },
  {
   "cell_type": "markdown",
   "metadata": {},
   "source": [
    "## Putting it together"
   ]
  },
  {
   "cell_type": "code",
   "execution_count": 120,
   "metadata": {},
   "outputs": [],
   "source": [
    "def load_specie_sequences(specie_taxid):\n",
    "    dna_path = os.path.join(\n",
    "        os.getcwd(), \n",
    "        f'data/condensed_traits/sequences/{specie_taxid}/{specie_taxid}_genomic.fna.gz',\n",
    "    )\n",
    "    cds_path = os.path.join(\n",
    "        os.getcwd(), \n",
    "        f'data/condensed_traits/sequences/{specie_taxid}/{specie_taxid}_cds_from_genomic.fna.gz',\n",
    "    )\n",
    "    rna_path = os.path.join(\n",
    "        os.getcwd(), \n",
    "        f'data/condensed_traits/sequences/{specie_taxid}/{specie_taxid}_rna_from_genomic.fna.gz',\n",
    "    )\n",
    "    \n",
    "    with gzip.open(dna_path, mode='rt') as f:\n",
    "        dna = SeqIO.to_dict(SeqIO.parse(f, \"fasta\"))\n",
    "    \n",
    "    with gzip.open(cds_path, mode='rt') as f:\n",
    "        cds = SeqIO.to_dict(SeqIO.parse(f, \"fasta\"))\n",
    "        \n",
    "    with gzip.open(rna_path, mode='rt') as f:\n",
    "        rna = SeqIO.to_dict(SeqIO.parse(f, \"fasta\"))\n",
    "        \n",
    "    return dna, cds, rna"
   ]
  },
  {
   "cell_type": "markdown",
   "metadata": {},
   "source": [
    "## Parse location information"
   ]
  },
  {
   "cell_type": "code",
   "execution_count": null,
   "metadata": {},
   "outputs": [],
   "source": [
    "dna_dict, cds_dict, rna_dict = load_specie_sequences(specie_taxid)"
   ]
  },
  {
   "cell_type": "code",
   "execution_count": 161,
   "metadata": {},
   "outputs": [
    {
     "data": {
      "text/plain": [
       "SeqRecord(seq=Seq('ATGTCAGTGATCGATCTATCGCGCGCCGATCCGCGCACGTTGATCGGCAAGGGA...TAG', SingleLetterAlphabet()), id='lcl|AP012206.1_cds_BAL05308.1_7', name='lcl|AP012206.1_cds_BAL05308.1_7', description='lcl|AP012206.1_cds_BAL05308.1_7 [locus_tag=BJ6T_00070] [protein=ribonucleoside-diphosphate reductase beta subunit] [protein_id=BAL05308.1] [location=complement(4970..6043)] [gbkey=CDS]', dbxrefs=[])"
      ]
     },
     "execution_count": 161,
     "metadata": {},
     "output_type": "execute_result"
    }
   ],
   "source": [
    "cds_dict['lcl|AP012206.1_cds_BAL05308.1_7']"
   ]
  },
  {
   "cell_type": "code",
   "execution_count": null,
   "metadata": {},
   "outputs": [],
   "source": [
    "description = (\n",
    "    \"lcl|CP042806.1_cds_QEE29787.1_3650 [locus_tag=FTW19_18435] \"\n",
    "    \"[protein=peptide chain release factor 2] [exception=ribosomal slippage] \"\n",
    "    \"[protein_id=QEE29787.1] [location=complement(join(4615525..4616595,4616597..4616665))] [gbkey=CDS]\"\n",
    ")"
   ]
  },
  {
   "cell_type": "code",
   "execution_count": 165,
   "metadata": {},
   "outputs": [],
   "source": [
    "gff_path_fmt = os.path.join(os.getcwd(), 'data/condensed_traits/sequences/{taxid}/{taxid}_genomic.gff.gz')"
   ]
  },
  {
   "cell_type": "code",
   "execution_count": 301,
   "metadata": {},
   "outputs": [],
   "source": [
    "annotations = gffutils.create_db(\n",
    "    gff_path_fmt.format(taxid=specie_taxid), \n",
    "    ':memory:', \n",
    "    merge_strategy='replace',\n",
    ")"
   ]
  },
  {
   "cell_type": "code",
   "execution_count": 169,
   "metadata": {},
   "outputs": [
    {
     "name": "stdout",
     "output_type": "stream",
     "text": [
      "CDS\n",
      "exon\n",
      "gene\n",
      "rRNA\n",
      "region\n",
      "tRNA\n",
      "tmRNA\n"
     ]
    }
   ],
   "source": [
    "for f in annotations.featuretypes():\n",
    "    print(f)"
   ]
  },
  {
   "cell_type": "code",
   "execution_count": 269,
   "metadata": {},
   "outputs": [
    {
     "name": "stdout",
     "output_type": "stream",
     "text": [
      "8829\n"
     ]
    },
    {
     "data": {
      "text/plain": [
       "(885.5548759768943, 120, 17028)"
      ]
     },
     "execution_count": 269,
     "metadata": {},
     "output_type": "execute_result"
    }
   ],
   "source": [
    "c = 0\n",
    "cds_lengths = []\n",
    "for i, feature in enumerate(annotations.features_of_type('CDS')):\n",
    "    start, end = feature.start, feature.end\n",
    "    assert start < end\n",
    "    cds_lengths.append((end - start) + 1)\n",
    "    c += 1\n",
    "    \n",
    "print(c)\n",
    "np.mean(cds_lengths), np.min(cds_lengths), np.max(cds_lengths)"
   ]
  },
  {
   "cell_type": "code",
   "execution_count": 302,
   "metadata": {},
   "outputs": [],
   "source": [
    "for i, feature in enumerate(annotations.features_of_type('CDS')):\n",
    "    length = (feature.end - feature.start) + 1\n",
    "    assert length % 3 == 0, 'nope'"
   ]
  },
  {
   "cell_type": "code",
   "execution_count": 268,
   "metadata": {},
   "outputs": [],
   "source": [
    "def extract_non_coding_locations(dna_dict, annotations):\n",
    "    regions = sorted(dna_dict.keys())\n",
    "    full_length = sum([\n",
    "        len(dna_dict[region].seq)\n",
    "        for region in regions\n",
    "    ])\n",
    "    \n",
    "    all_indices = set(range(1, full_length + 1))\n",
    "    coding_indices = set()\n",
    "    \n",
    "    for feature_type in ['CDS', 'exon']:\n",
    "        for i, feature in enumerate(annotations.features_of_type(feature_type)):\n",
    "            start, end, strand = feature.start, feature.end, feature.strand\n",
    "            \n",
    "            if strand == '-':\n",
    "                prev_start = start\n",
    "                start = full_length - (end - 1)\n",
    "                end = full_length - (prev_start - 1)\n",
    "                assert start < end\n",
    "            \n",
    "            coding_indices |= set(range(start, end + 1))\n",
    "            \n",
    "    remaining_indices = sorted(all_indices - coding_indices)\n",
    "    \n",
    "    non_coding_segments = []\n",
    "    start, end = None, None\n",
    "    for i in remaining_indices:\n",
    "        if start is None:\n",
    "            start = i\n",
    "            end = start\n",
    "        elif end + 1 != i:\n",
    "            if end != start:\n",
    "                non_coding_segments.append([start, end])\n",
    "            else:\n",
    "                non_coding_segments.append([start])\n",
    "                \n",
    "            start = i\n",
    "            end = start\n",
    "        elif i == remaining_indices[-1]:\n",
    "            if start == i:\n",
    "                non_coding_segments.append([start])\n",
    "            else:\n",
    "                non_coding_segments.append([start, i])\n",
    "        else:\n",
    "            end = i\n",
    "        \n",
    "    return remaining_indices, full_length, non_coding_segments"
   ]
  },
  {
   "cell_type": "code",
   "execution_count": 259,
   "metadata": {},
   "outputs": [
    {
     "data": {
      "text/plain": [
       "33.33924163475749"
      ]
     },
     "execution_count": 259,
     "metadata": {},
     "output_type": "execute_result"
    }
   ],
   "source": [
    "remaining_indices, full_length, non_coding_segments = extract_non_coding_locations(dna_dict, annotations)\n",
    "\n",
    "100 * len(remaining_indices) / full_length"
   ]
  },
  {
   "cell_type": "code",
   "execution_count": 260,
   "metadata": {},
   "outputs": [
    {
     "data": {
      "text/plain": [
       "4479"
      ]
     },
     "execution_count": 260,
     "metadata": {},
     "output_type": "execute_result"
    }
   ],
   "source": [
    "len(non_coding_segments)"
   ]
  },
  {
   "cell_type": "code",
   "execution_count": 283,
   "metadata": {},
   "outputs": [],
   "source": [
    "lengths = []\n",
    "for s in non_coding_segments:\n",
    "    if len(s) == 1:\n",
    "        lengths.append(1)\n",
    "    else:\n",
    "        assert len(s) == 2\n",
    "        start, end = s\n",
    "        assert start < end, f'{start}, {end}'\n",
    "        lengths.append((end - start) + 1)"
   ]
  },
  {
   "cell_type": "code",
   "execution_count": 284,
   "metadata": {},
   "outputs": [
    {
     "data": {
      "text/plain": [
       "(685.3476222371065, 1, 19661)"
      ]
     },
     "execution_count": 284,
     "metadata": {},
     "output_type": "execute_result"
    }
   ],
   "source": [
    "np.mean(lengths), np.min(lengths), np.max(lengths)"
   ]
  },
  {
   "cell_type": "code",
   "execution_count": 265,
   "metadata": {},
   "outputs": [
    {
     "data": {
      "text/plain": [
       "([1, 122], [429, 483])"
      ]
     },
     "execution_count": 265,
     "metadata": {},
     "output_type": "execute_result"
    }
   ],
   "source": [
    "non_coding_segments[0], non_coding_segments[1]"
   ]
  },
  {
   "cell_type": "markdown",
   "metadata": {},
   "source": [
    "## Percentage of non-coding DNA in species of our dataset"
   ]
  },
  {
   "cell_type": "code",
   "execution_count": 300,
   "metadata": {},
   "outputs": [
    {
     "name": "stdout",
     "output_type": "stream",
     "text": [
      "Specie 1 / 2359\n"
     ]
    },
    {
     "ename": "KeyboardInterrupt",
     "evalue": "",
     "output_type": "error",
     "traceback": [
      "\u001b[0;31m---------------------------------------------------------------------------\u001b[0m",
      "\u001b[0;31mKeyboardInterrupt\u001b[0m                         Traceback (most recent call last)",
      "\u001b[0;32m<timed exec>\u001b[0m in \u001b[0;36m<module>\u001b[0;34m\u001b[0m\n",
      "\u001b[0;32m<ipython-input-268-464c8a066cfa>\u001b[0m in \u001b[0;36mextract_non_coding_locations\u001b[0;34m(dna_dict, annotations)\u001b[0m\n\u001b[1;32m     29\u001b[0m             \u001b[0mstart\u001b[0m \u001b[0;34m=\u001b[0m \u001b[0mi\u001b[0m\u001b[0;34m\u001b[0m\u001b[0;34m\u001b[0m\u001b[0m\n\u001b[1;32m     30\u001b[0m             \u001b[0mend\u001b[0m \u001b[0;34m=\u001b[0m \u001b[0mstart\u001b[0m\u001b[0;34m\u001b[0m\u001b[0;34m\u001b[0m\u001b[0m\n\u001b[0;32m---> 31\u001b[0;31m         \u001b[0;32melif\u001b[0m \u001b[0mend\u001b[0m \u001b[0;34m+\u001b[0m \u001b[0;36m1\u001b[0m \u001b[0;34m!=\u001b[0m \u001b[0mi\u001b[0m\u001b[0;34m:\u001b[0m\u001b[0;34m\u001b[0m\u001b[0;34m\u001b[0m\u001b[0m\n\u001b[0m\u001b[1;32m     32\u001b[0m             \u001b[0;32mif\u001b[0m \u001b[0mend\u001b[0m \u001b[0;34m!=\u001b[0m \u001b[0mstart\u001b[0m\u001b[0;34m:\u001b[0m\u001b[0;34m\u001b[0m\u001b[0;34m\u001b[0m\u001b[0m\n\u001b[1;32m     33\u001b[0m                 \u001b[0mnon_coding_segments\u001b[0m\u001b[0;34m.\u001b[0m\u001b[0mappend\u001b[0m\u001b[0;34m(\u001b[0m\u001b[0;34m[\u001b[0m\u001b[0mstart\u001b[0m\u001b[0;34m,\u001b[0m \u001b[0mend\u001b[0m\u001b[0;34m]\u001b[0m\u001b[0;34m)\u001b[0m\u001b[0;34m\u001b[0m\u001b[0;34m\u001b[0m\u001b[0m\n",
      "\u001b[0;31mKeyboardInterrupt\u001b[0m: "
     ]
    }
   ],
   "source": [
    "%%time\n",
    "non_coding_percentages = []\n",
    "for i, taxid in enumerate(species_traits['species_taxid'].values):\n",
    "    if i == 0 or (i + 1) % 10 == 0:\n",
    "        print(f'Specie {i+1} / {len(species_traits)}')\n",
    "    \n",
    "    dna_dict, _, _ = load_specie_sequences(specie_taxid)\n",
    "    \n",
    "    annotations = gffutils.create_db(\n",
    "        gff_path_fmt.format(taxid=taxid), \n",
    "        ':memory:', \n",
    "        merge_strategy='replace',\n",
    "    )\n",
    "    \n",
    "    remaining_indices, full_length, _ = extract_non_coding_locations(dna_dict, annotations)\n",
    "    perc = 100 * len(remaining_indices) / full_length\n",
    "    non_coding_percentages.append(perc)"
   ]
  },
  {
   "cell_type": "code",
   "execution_count": null,
   "metadata": {},
   "outputs": [],
   "source": []
  }
 ],
 "metadata": {
  "kernelspec": {
   "display_name": "Python 3",
   "language": "python",
   "name": "python3"
  },
  "language_info": {
   "codemirror_mode": {
    "name": "ipython",
    "version": 3
   },
   "file_extension": ".py",
   "mimetype": "text/x-python",
   "name": "python",
   "nbconvert_exporter": "python",
   "pygments_lexer": "ipython3",
   "version": "3.7.6"
  }
 },
 "nbformat": 4,
 "nbformat_minor": 4
}
