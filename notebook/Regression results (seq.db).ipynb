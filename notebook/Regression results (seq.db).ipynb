{
 "cells": [
  {
   "cell_type": "code",
   "execution_count": 1,
   "metadata": {},
   "outputs": [],
   "source": [
    "import collections\n",
    "import os\n",
    "import json\n",
    "\n",
    "import pandas as pd\n",
    "import numpy as np\n",
    "import tensorflow as tf\n",
    "import matplotlib.pyplot as plt\n",
    "import seaborn as sns\n",
    "from tensorflow.keras.models import load_model\n",
    "import statsmodels.api as sm\n",
    "from sqlalchemy import create_engine\n",
    "\n",
    "if os.getcwd().endswith('notebook'):\n",
    "    os.chdir('..')\n",
    "\n",
    "from rna_learn.alphabet import ALPHABET_DNA\n",
    "from rna_learn.load_sequences import (\n",
    "    load_growth_temperatures, \n",
    "    compute_inverse_probability_weights,\n",
    "    assign_weight_to_batch_values,\n",
    ")\n",
    "from rna_learn.transform import sequence_embedding, normalize, denormalize\n",
    "from rna_learn.model import conv1d_densenet_regression_model, compile_regression_model, DenormalizedMAE"
   ]
  },
  {
   "cell_type": "code",
   "execution_count": 2,
   "metadata": {},
   "outputs": [],
   "source": [
    "sns.set(palette='colorblind', font_scale=1.3)"
   ]
  },
  {
   "cell_type": "code",
   "execution_count": 3,
   "metadata": {},
   "outputs": [],
   "source": [
    "db_path = os.path.join(os.getcwd(), 'data/condensed_traits/db/seq.db')\n",
    "engine = create_engine(f'sqlite+pysqlite:///{db_path}')"
   ]
  },
  {
   "cell_type": "code",
   "execution_count": 4,
   "metadata": {},
   "outputs": [],
   "source": [
    "run_id = 'run_31tod'\n",
    "model_path = os.path.join(os.getcwd(), f'saved_models/{run_id}/model.h5')\n",
    "metadata_path = os.path.join(os.getcwd(), f'saved_models/{run_id}/metadata.json')"
   ]
  },
  {
   "cell_type": "code",
   "execution_count": 5,
   "metadata": {},
   "outputs": [
    {
     "data": {
      "text/plain": [
       "{'run_id': 'run_31tod',\n",
       " 'alphabet': ['A', 'C', 'G', 'T'],\n",
       " 'learning_rate': 0.0001,\n",
       " 'batch_size': 64,\n",
       " 'encoding_size': 20,\n",
       " 'decoder_n_hidden': 100,\n",
       " 'growth_rate': 15,\n",
       " 'n_layers': 5,\n",
       " 'kernel_sizes': [2, 3, 5, 5, 10],\n",
       " 'dilation_rates': [1, 1, 4, 1, 1],\n",
       " 'l2_reg': 0.0005,\n",
       " 'dropout': 0.5,\n",
       " 'n_epochs': 2,\n",
       " 'seed': 6012,\n",
       " 'val_loss': 0.0003009206848219037,\n",
       " 'val_mae': 20.711156845092773}"
      ]
     },
     "execution_count": 5,
     "metadata": {},
     "output_type": "execute_result"
    }
   ],
   "source": [
    "with open(metadata_path) as f:\n",
    "    metadata = json.load(f)\n",
    "    \n",
    "metadata"
   ]
  },
  {
   "cell_type": "code",
   "execution_count": 7,
   "metadata": {},
   "outputs": [
    {
     "name": "stdout",
     "output_type": "stream",
     "text": [
      "Model: \"functional_3\"\n",
      "__________________________________________________________________________________________________\n",
      "Layer (type)                    Output Shape         Param #     Connected to                     \n",
      "==================================================================================================\n",
      "sequence (InputLayer)           [(None, None, 4)]    0                                            \n",
      "__________________________________________________________________________________________________\n",
      "conv_1 (Conv1D)                 (None, None, 10)     130         sequence[0][0]                   \n",
      "__________________________________________________________________________________________________\n",
      "concat_1 (Concatenate)          (None, None, 14)     0           sequence[0][0]                   \n",
      "                                                                 conv_1[0][0]                     \n",
      "__________________________________________________________________________________________________\n",
      "conv_2 (Conv1D)                 (None, None, 10)     710         concat_1[0][0]                   \n",
      "__________________________________________________________________________________________________\n",
      "concat_2 (Concatenate)          (None, None, 24)     0           concat_1[0][0]                   \n",
      "                                                                 conv_2[0][0]                     \n",
      "__________________________________________________________________________________________________\n",
      "conv_3 (Conv1D)                 (None, None, 10)     1210        concat_2[0][0]                   \n",
      "__________________________________________________________________________________________________\n",
      "concat_3 (Concatenate)          (None, None, 34)     0           concat_2[0][0]                   \n",
      "                                                                 conv_3[0][0]                     \n",
      "__________________________________________________________________________________________________\n",
      "conv_4 (Conv1D)                 (None, None, 10)     1710        concat_3[0][0]                   \n",
      "__________________________________________________________________________________________________\n",
      "concat_4 (Concatenate)          (None, None, 44)     0           concat_3[0][0]                   \n",
      "                                                                 conv_4[0][0]                     \n",
      "__________________________________________________________________________________________________\n",
      "conv_5 (Conv1D)                 (None, None, 10)     2210        concat_4[0][0]                   \n",
      "__________________________________________________________________________________________________\n",
      "concat_5 (Concatenate)          (None, None, 54)     0           concat_4[0][0]                   \n",
      "                                                                 conv_5[0][0]                     \n",
      "__________________________________________________________________________________________________\n",
      "conv_6 (Conv1D)                 (None, None, 10)     2710        concat_5[0][0]                   \n",
      "__________________________________________________________________________________________________\n",
      "concat_6 (Concatenate)          (None, None, 64)     0           concat_5[0][0]                   \n",
      "                                                                 conv_6[0][0]                     \n",
      "__________________________________________________________________________________________________\n",
      "conv_7 (Conv1D)                 (None, None, 10)     3210        concat_6[0][0]                   \n",
      "__________________________________________________________________________________________________\n",
      "concat_7 (Concatenate)          (None, None, 74)     0           concat_6[0][0]                   \n",
      "                                                                 conv_7[0][0]                     \n",
      "__________________________________________________________________________________________________\n",
      "conv_8 (Conv1D)                 (None, None, 10)     3710        concat_7[0][0]                   \n",
      "__________________________________________________________________________________________________\n",
      "concat_8 (Concatenate)          (None, None, 84)     0           concat_7[0][0]                   \n",
      "                                                                 conv_8[0][0]                     \n",
      "__________________________________________________________________________________________________\n",
      "conv_9 (Conv1D)                 (None, None, 10)     4210        concat_8[0][0]                   \n",
      "__________________________________________________________________________________________________\n",
      "concat_9 (Concatenate)          (None, None, 94)     0           concat_8[0][0]                   \n",
      "                                                                 conv_9[0][0]                     \n",
      "__________________________________________________________________________________________________\n",
      "conv_10 (Conv1D)                (None, None, 10)     4710        concat_9[0][0]                   \n",
      "__________________________________________________________________________________________________\n",
      "concat_10 (Concatenate)         (None, None, 104)    0           concat_9[0][0]                   \n",
      "                                                                 conv_10[0][0]                    \n",
      "__________________________________________________________________________________________________\n",
      "logits (GlobalAveragePooling1D) (None, 104)          0           concat_10[0][0]                  \n",
      "__________________________________________________________________________________________________\n",
      "dropout_1 (Dropout)             (None, 104)          0           logits[0][0]                     \n",
      "__________________________________________________________________________________________________\n",
      "mean_and_std (Dense)            (None, 2)            210         dropout_1[0][0]                  \n",
      "__________________________________________________________________________________________________\n",
      "independent_normal_1 (Independe ((None, 1), (None, 1 0           mean_and_std[0][0]               \n",
      "==================================================================================================\n",
      "Total params: 24,730\n",
      "Trainable params: 24,730\n",
      "Non-trainable params: 0\n",
      "__________________________________________________________________________________________________\n"
     ]
    }
   ],
   "source": [
    "kernel_sizes = [3] + [5] * 9\n",
    "strides = None\n",
    "dilation_rates = None\n",
    "model = conv1d_densenet_regression_model(\n",
    "    alphabet_size=len(ALPHABET_DNA), \n",
    "    growth_rate=10,\n",
    "    n_layers=len(kernel_sizes),\n",
    "    kernel_sizes=kernel_sizes,\n",
    "    dilation_rates=dilation_rates,\n",
    "    l2_reg=metadata['l2_reg'],\n",
    "    dropout=metadata['dropout'],\n",
    ")\n",
    "model.summary()"
   ]
  },
  {
   "cell_type": "markdown",
   "metadata": {},
   "source": [
    "## Load sequences from a single specie"
   ]
  },
  {
   "cell_type": "code",
   "execution_count": 41,
   "metadata": {},
   "outputs": [
    {
     "data": {
      "text/plain": [
       "7053"
      ]
     },
     "execution_count": 41,
     "metadata": {},
     "output_type": "execute_result"
    }
   ],
   "source": [
    "query = \"\"\"\n",
    "select s.sequence, s.length, t.growth_tmp\n",
    "from sequences as s\n",
    "inner join species_traits as t\n",
    "on t.species_taxid = s.species_taxid\n",
    "where s.species_taxid = 7\n",
    "\"\"\"\n",
    "species_df = pd.read_sql(query, engine)\n",
    "len(species_df)"
   ]
  },
  {
   "cell_type": "code",
   "execution_count": 8,
   "metadata": {},
   "outputs": [
    {
     "data": {
      "image/png": "[encoded data removed]",
      "text/plain": [
       "<Figure size 864x432 with 1 Axes>"
      ]
     },
     "metadata": {},
     "output_type": "display_data"
    }
   ],
   "source": [
    "_, ax = plt.subplots(1, 1, figsize=(12, 6))\n",
    "ax.hist(species_df['length'], bins=100, log=True);"
   ]
  },
  {
   "cell_type": "code",
   "execution_count": 9,
   "metadata": {},
   "outputs": [],
   "source": [
    "temperatures, mean, std = load_growth_temperatures(engine)"
   ]
  },
  {
   "cell_type": "code",
   "execution_count": 42,
   "metadata": {},
   "outputs": [],
   "source": [
    "x = sequence_embedding(\n",
    "    species_df['sequence'].values, \n",
    "    ALPHABET_DNA, \n",
    "    dtype='float32',\n",
    ")\n",
    "y = species_df['growth_tmp'].values\n",
    "y_norm = normalize(y, mean, std)"
   ]
  },
  {
   "cell_type": "code",
   "execution_count": 43,
   "metadata": {},
   "outputs": [],
   "source": [
    "bin_to_weights, bins = compute_inverse_probability_weights(temperatures)\n",
    "sample_weights = assign_weight_to_batch_values(\n",
    "    y, \n",
    "    bin_to_weights, \n",
    "    bins,\n",
    "    dtype='float32',\n",
    ")"
   ]
  },
  {
   "cell_type": "code",
   "execution_count": 12,
   "metadata": {},
   "outputs": [],
   "source": [
    "compile_regression_model(\n",
    "    model, \n",
    "    learning_rate=1e-4,\n",
    "    weighted_metrics=[\n",
    "        DenormalizedMAE(\n",
    "            mean=mean, \n",
    "            std=std,\n",
    "            dtype='float32',\n",
    "        )\n",
    "    ],\n",
    ")\n",
    "model.load_weights(model_path)"
   ]
  },
  {
   "cell_type": "code",
   "execution_count": 13,
   "metadata": {},
   "outputs": [],
   "source": [
    "min_ = int(np.floor(np.min(temperatures)))\n",
    "max_ = int(np.ceil(np.max(temperatures)))\n",
    "temp_range = list(range(-10, 110, 3))\n",
    "temp_range_norm = normalize(temp_range, mean, std)"
   ]
  },
  {
   "cell_type": "code",
   "execution_count": 22,
   "metadata": {
    "scrolled": true
   },
   "outputs": [
    {
     "name": "stdout",
     "output_type": "stream",
     "text": [
      "100 / 2641\n",
      "200 / 2641\n",
      "300 / 2641\n",
      "400 / 2641\n",
      "500 / 2641\n",
      "600 / 2641\n",
      "700 / 2641\n",
      "800 / 2641\n",
      "900 / 2641\n",
      "1000 / 2641\n",
      "1100 / 2641\n",
      "1200 / 2641\n",
      "1300 / 2641\n",
      "1400 / 2641\n",
      "1500 / 2641\n",
      "1600 / 2641\n",
      "1700 / 2641\n",
      "1800 / 2641\n",
      "1900 / 2641\n",
      "2000 / 2641\n",
      "2100 / 2641\n",
      "2200 / 2641\n",
      "2300 / 2641\n",
      "2400 / 2641\n",
      "2500 / 2641\n",
      "2600 / 2641\n",
      "CPU times: user 4min 12s, sys: 28.6 s, total: 4min 41s\n",
      "Wall time: 1min 42s\n"
     ]
    }
   ],
   "source": [
    "%%time\n",
    "total_pmass = []\n",
    "for i in range(len(x)):\n",
    "    if (i+1) % 100 == 0:\n",
    "        print(f'{i+1} / {len(x)}')\n",
    "    pmass = []\n",
    "    dist = model(x[i:i+1])\n",
    "    for t in temp_range_norm:\n",
    "        pmass.append(dist.prob(t).numpy()[0])\n",
    "    total_pmass.append(pmass)"
   ]
  },
  {
   "cell_type": "code",
   "execution_count": 34,
   "metadata": {},
   "outputs": [
    {
     "data": {
      "image/png": "[encoded data removed]",
      "text/plain": [
       "<Figure size 864x432 with 1 Axes>"
      ]
     },
     "metadata": {},
     "output_type": "display_data"
    }
   ],
   "source": [
    "p = np.mean(total_pmass, axis=0)\n",
    "\n",
    "_, ax = plt.subplots(1, 1, figsize=(12, 6))\n",
    "ax.plot(temp_range, p);"
   ]
  },
  {
   "cell_type": "code",
   "execution_count": null,
   "metadata": {},
   "outputs": [],
   "source": []
  }
 ],
 "metadata": {
  "kernelspec": {
   "display_name": "Python 3",
   "language": "python",
   "name": "python3"
  },
  "language_info": {
   "codemirror_mode": {
    "name": "ipython",
    "version": 3
   },
   "file_extension": ".py",
   "mimetype": "text/x-python",
   "name": "python",
   "nbconvert_exporter": "python",
   "pygments_lexer": "ipython3",
   "version": "3.7.6"
  }
 },
 "nbformat": 4,
 "nbformat_minor": 4
}
