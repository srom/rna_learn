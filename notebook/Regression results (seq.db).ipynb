{
 "cells": [
  {
   "cell_type": "code",
   "execution_count": 1,
   "metadata": {},
   "outputs": [],
   "source": [
    "import collections\n",
    "import os\n",
    "import json\n",
    "\n",
    "import pandas as pd\n",
    "import numpy as np\n",
    "import tensorflow as tf\n",
    "import tensorflow_probability as tfp\n",
    "import matplotlib.pyplot as plt\n",
    "import seaborn as sns\n",
    "from tensorflow.keras.models import load_model\n",
    "import statsmodels.api as sm\n",
    "from sqlalchemy import create_engine\n",
    "\n",
    "if os.getcwd().endswith('notebook'):\n",
    "    os.chdir('..')\n",
    "\n",
    "from rna_learn.alphabet import ALPHABET_DNA\n",
    "from rna_learn.load_sequences import (\n",
    "    load_growth_temperatures, \n",
    "    compute_inverse_effective_sample,\n",
    "    assign_weight_to_batch_values,\n",
    "    SpeciesSequence,\n",
    ")\n",
    "from rna_learn.transform import sequence_embedding, normalize, denormalize\n",
    "from rna_learn.model import conv1d_densenet_regression_model, compile_regression_model, DenormalizedMAE"
   ]
  },
  {
   "cell_type": "code",
   "execution_count": 2,
   "metadata": {},
   "outputs": [],
   "source": [
    "sns.set(palette='colorblind', font_scale=1.3)"
   ]
  },
  {
   "cell_type": "code",
   "execution_count": 3,
   "metadata": {},
   "outputs": [],
   "source": [
    "db_path = os.path.join(os.getcwd(), 'data/condensed_traits/db/seq.db')\n",
    "engine = create_engine(f'sqlite+pysqlite:///{db_path}')"
   ]
  },
  {
   "cell_type": "code",
   "execution_count": 4,
   "metadata": {},
   "outputs": [],
   "source": [
    "run_id = 'run_lsko3'\n",
    "model_path = os.path.join(os.getcwd(), f'saved_models/{run_id}/model.h5')\n",
    "metadata_path = os.path.join(os.getcwd(), f'saved_models/{run_id}/metadata.json')"
   ]
  },
  {
   "cell_type": "code",
   "execution_count": 5,
   "metadata": {},
   "outputs": [
    {
     "data": {
      "text/plain": [
       "{'run_id': 'run_lsko3',\n",
       " 'alphabet': ['A', 'C', 'G', 'T'],\n",
       " 'learning_rate': 0.0001,\n",
       " 'batch_size': 64,\n",
       " 'encoding_size': 20,\n",
       " 'decoder_n_hidden': 100,\n",
       " 'growth_rate': 15,\n",
       " 'n_layers': 10,\n",
       " 'kernel_sizes': [3, 5, 5, 5, 5, 5, 5, 5, 5, 5],\n",
       " 'strides': None,\n",
       " 'dilation_rates': None,\n",
       " 'l2_reg': 1e-05,\n",
       " 'dropout': 0.5,\n",
       " 'n_epochs': 2,\n",
       " 'seed': 7778,\n",
       " 'val_loss': 1.4337137937545776,\n",
       " 'val_mae': 12.203943252563477}"
      ]
     },
     "execution_count": 5,
     "metadata": {},
     "output_type": "execute_result"
    }
   ],
   "source": [
    "with open(metadata_path) as f:\n",
    "    metadata = json.load(f)\n",
    "    \n",
    "metadata"
   ]
  },
  {
   "cell_type": "code",
   "execution_count": 6,
   "metadata": {},
   "outputs": [
    {
     "name": "stdout",
     "output_type": "stream",
     "text": [
      "Model: \"functional_1\"\n",
      "__________________________________________________________________________________________________\n",
      "Layer (type)                    Output Shape         Param #     Connected to                     \n",
      "==================================================================================================\n",
      "sequence (InputLayer)           [(None, None, 4)]    0                                            \n",
      "__________________________________________________________________________________________________\n",
      "conv_1 (Conv1D)                 (None, None, 15)     195         sequence[0][0]                   \n",
      "__________________________________________________________________________________________________\n",
      "concat_1 (Concatenate)          (None, None, 19)     0           sequence[0][0]                   \n",
      "                                                                 conv_1[0][0]                     \n",
      "__________________________________________________________________________________________________\n",
      "conv_2 (Conv1D)                 (None, None, 15)     1440        concat_1[0][0]                   \n",
      "__________________________________________________________________________________________________\n",
      "concat_2 (Concatenate)          (None, None, 34)     0           concat_1[0][0]                   \n",
      "                                                                 conv_2[0][0]                     \n",
      "__________________________________________________________________________________________________\n",
      "conv_3 (Conv1D)                 (None, None, 15)     2565        concat_2[0][0]                   \n",
      "__________________________________________________________________________________________________\n",
      "concat_3 (Concatenate)          (None, None, 49)     0           concat_2[0][0]                   \n",
      "                                                                 conv_3[0][0]                     \n",
      "__________________________________________________________________________________________________\n",
      "conv_4 (Conv1D)                 (None, None, 15)     3690        concat_3[0][0]                   \n",
      "__________________________________________________________________________________________________\n",
      "concat_4 (Concatenate)          (None, None, 64)     0           concat_3[0][0]                   \n",
      "                                                                 conv_4[0][0]                     \n",
      "__________________________________________________________________________________________________\n",
      "conv_5 (Conv1D)                 (None, None, 15)     4815        concat_4[0][0]                   \n",
      "__________________________________________________________________________________________________\n",
      "concat_5 (Concatenate)          (None, None, 79)     0           concat_4[0][0]                   \n",
      "                                                                 conv_5[0][0]                     \n",
      "__________________________________________________________________________________________________\n",
      "conv_6 (Conv1D)                 (None, None, 15)     5940        concat_5[0][0]                   \n",
      "__________________________________________________________________________________________________\n",
      "concat_6 (Concatenate)          (None, None, 94)     0           concat_5[0][0]                   \n",
      "                                                                 conv_6[0][0]                     \n",
      "__________________________________________________________________________________________________\n",
      "conv_7 (Conv1D)                 (None, None, 15)     7065        concat_6[0][0]                   \n",
      "__________________________________________________________________________________________________\n",
      "concat_7 (Concatenate)          (None, None, 109)    0           concat_6[0][0]                   \n",
      "                                                                 conv_7[0][0]                     \n",
      "__________________________________________________________________________________________________\n",
      "conv_8 (Conv1D)                 (None, None, 15)     8190        concat_7[0][0]                   \n",
      "__________________________________________________________________________________________________\n",
      "concat_8 (Concatenate)          (None, None, 124)    0           concat_7[0][0]                   \n",
      "                                                                 conv_8[0][0]                     \n",
      "__________________________________________________________________________________________________\n",
      "conv_9 (Conv1D)                 (None, None, 15)     9315        concat_8[0][0]                   \n",
      "__________________________________________________________________________________________________\n",
      "concat_9 (Concatenate)          (None, None, 139)    0           concat_8[0][0]                   \n",
      "                                                                 conv_9[0][0]                     \n",
      "__________________________________________________________________________________________________\n",
      "conv_10 (Conv1D)                (None, None, 15)     10440       concat_9[0][0]                   \n",
      "__________________________________________________________________________________________________\n",
      "concat_10 (Concatenate)         (None, None, 154)    0           concat_9[0][0]                   \n",
      "                                                                 conv_10[0][0]                    \n",
      "__________________________________________________________________________________________________\n",
      "logits (GlobalAveragePooling1D) (None, 154)          0           concat_10[0][0]                  \n",
      "__________________________________________________________________________________________________\n",
      "dropout (Dropout)               (None, 154)          0           logits[0][0]                     \n",
      "__________________________________________________________________________________________________\n",
      "mean_and_std (Dense)            (None, 2)            310         dropout[0][0]                    \n",
      "__________________________________________________________________________________________________\n",
      "independent_normal (Independent ((None, 1), (None, 1 0           mean_and_std[0][0]               \n",
      "==================================================================================================\n",
      "Total params: 53,965\n",
      "Trainable params: 53,965\n",
      "Non-trainable params: 0\n",
      "__________________________________________________________________________________________________\n"
     ]
    }
   ],
   "source": [
    "model = conv1d_densenet_regression_model(\n",
    "    alphabet_size=len(metadata['alphabet']), \n",
    "    growth_rate=metadata['growth_rate'],\n",
    "    n_layers=metadata['n_layers'],\n",
    "    kernel_sizes=metadata['kernel_sizes'],\n",
    "    dilation_rates=metadata['dilation_rates'],\n",
    "    l2_reg=metadata['l2_reg'],\n",
    "    dropout=metadata['dropout'],\n",
    "    convert_to_tensor_fn=tfp.distributions.Distribution.mean,\n",
    ")\n",
    "model.summary()"
   ]
  },
  {
   "cell_type": "markdown",
   "metadata": {},
   "source": [
    "## Load sequences from a single specie"
   ]
  },
  {
   "cell_type": "code",
   "execution_count": 7,
   "metadata": {},
   "outputs": [
    {
     "data": {
      "text/plain": [
       "4517"
      ]
     },
     "execution_count": 7,
     "metadata": {},
     "output_type": "execute_result"
    }
   ],
   "source": [
    "query = \"\"\"\n",
    "select s.sequence, s.length, t.growth_tmp\n",
    "from sequences as s\n",
    "inner join species_traits as t\n",
    "on t.species_taxid = s.species_taxid\n",
    "where s.species_taxid = ?\n",
    "\"\"\"\n",
    "species_taxid = 11\n",
    "species_df = pd.read_sql(query, engine, params=(species_taxid,))\n",
    "len(species_df)"
   ]
  },
  {
   "cell_type": "code",
   "execution_count": 8,
   "metadata": {},
   "outputs": [
    {
     "data": {
      "image/png": "[encoded data removed]",
      "text/plain": [
       "<Figure size 864x432 with 1 Axes>"
      ]
     },
     "metadata": {},
     "output_type": "display_data"
    }
   ],
   "source": [
    "_, ax = plt.subplots(1, 1, figsize=(12, 6))\n",
    "ax.hist(species_df['length'], bins=100, log=True);"
   ]
  },
  {
   "cell_type": "code",
   "execution_count": 9,
   "metadata": {},
   "outputs": [
    {
     "data": {
      "text/plain": [
       "26.0"
      ]
     },
     "execution_count": 9,
     "metadata": {},
     "output_type": "execute_result"
    }
   ],
   "source": [
    "species_df['growth_tmp'].iloc[0]"
   ]
  },
  {
   "cell_type": "code",
   "execution_count": 10,
   "metadata": {},
   "outputs": [],
   "source": [
    "temperatures, mean, std = load_growth_temperatures(engine)"
   ]
  },
  {
   "cell_type": "code",
   "execution_count": 11,
   "metadata": {},
   "outputs": [],
   "source": [
    "species_seq = SpeciesSequence(\n",
    "    engine, \n",
    "    species_taxid=species_taxid,\n",
    "    batch_size=64, \n",
    "    temperatures=temperatures,\n",
    "    mean=mean,\n",
    "    std=std,\n",
    "    dtype='float32',\n",
    "    alphabet=ALPHABET_DNA, \n",
    "    max_sequence_length=int(1e4),\n",
    "    random_seed=444,\n",
    ")"
   ]
  },
  {
   "cell_type": "code",
   "execution_count": 12,
   "metadata": {},
   "outputs": [],
   "source": [
    "compile_regression_model(\n",
    "    model, \n",
    "    learning_rate=1e-4,\n",
    "    weighted_metrics=[\n",
    "        DenormalizedMAE(\n",
    "            mean=mean, \n",
    "            std=std,\n",
    "            dtype='float32',\n",
    "        )\n",
    "    ],\n",
    ")\n",
    "model.load_weights(model_path)"
   ]
  },
  {
   "cell_type": "code",
   "execution_count": 17,
   "metadata": {},
   "outputs": [
    {
     "name": "stdout",
     "output_type": "stream",
     "text": [
      "71/71 [==============================] - 13s 187ms/step\n"
     ]
    }
   ],
   "source": [
    "predicted_temps_norm = model.predict(species_seq, verbose=1)"
   ]
  },
  {
   "cell_type": "code",
   "execution_count": 18,
   "metadata": {},
   "outputs": [
    {
     "data": {
      "text/plain": [
       "109.45276"
      ]
     },
     "execution_count": 18,
     "metadata": {},
     "output_type": "execute_result"
    }
   ],
   "source": [
    "predicted_temps = denormalize(predicted_temps_norm, mean, std)\n",
    "np.mean(predicted_temps)"
   ]
  },
  {
   "cell_type": "code",
   "execution_count": null,
   "metadata": {},
   "outputs": [],
   "source": []
  }
 ],
 "metadata": {
  "kernelspec": {
   "display_name": "Python 3",
   "language": "python",
   "name": "python3"
  },
  "language_info": {
   "codemirror_mode": {
    "name": "ipython",
    "version": 3
   },
   "file_extension": ".py",
   "mimetype": "text/x-python",
   "name": "python",
   "nbconvert_exporter": "python",
   "pygments_lexer": "ipython3",
   "version": "3.7.6"
  }
 },
 "nbformat": 4,
 "nbformat_minor": 4
}
