{
 "cells": [
  {
   "cell_type": "code",
   "execution_count": 1,
   "metadata": {},
   "outputs": [],
   "source": [
    "import collections\n",
    "import os\n",
    "import json\n",
    "import logging\n",
    "\n",
    "import pandas as pd\n",
    "import numpy as np\n",
    "import scipy\n",
    "import tensorflow as tf\n",
    "import matplotlib.pyplot as plt\n",
    "import seaborn as sns\n",
    "from tensorflow.keras.models import load_model\n",
    "import statsmodels.api as sm\n",
    "from sqlalchemy import create_engine\n",
    "\n",
    "if os.getcwd().endswith('notebook'):\n",
    "    os.chdir('..')\n",
    "\n",
    "from rna_learn.alphabet import ALPHABET_DNA\n",
    "from rna_learn.load_sequences import (\n",
    "    load_growth_temperatures, \n",
    "    compute_inverse_effective_sample,\n",
    "    assign_weight_to_batch_values,\n",
    "    SpeciesSequence,\n",
    ")\n",
    "from rna_learn.transform import sequence_embedding, normalize, denormalize\n",
    "from rna_learn.model import conv1d_densenet_regression_model, compile_regression_model, DenormalizedMAE"
   ]
  },
  {
   "cell_type": "code",
   "execution_count": 2,
   "metadata": {},
   "outputs": [],
   "source": [
    "sns.set(palette='colorblind', font_scale=1.3)\n",
    "logging.basicConfig(level=logging.INFO, format=\"%(asctime)s (%(levelname)s) %(message)s\")"
   ]
  },
  {
   "cell_type": "code",
   "execution_count": 3,
   "metadata": {},
   "outputs": [],
   "source": [
    "db_path = os.path.join(os.getcwd(), 'data/condensed_traits/db/seq.db')\n",
    "engine = create_engine(f'sqlite+pysqlite:///{db_path}')"
   ]
  },
  {
   "cell_type": "code",
   "execution_count": 4,
   "metadata": {},
   "outputs": [],
   "source": [
    "run_id = 'run_regj7'\n",
    "model_path = os.path.join(os.getcwd(), f'saved_models/{run_id}/model.h5')\n",
    "metadata_path = os.path.join(os.getcwd(), f'saved_models/{run_id}/metadata.json')"
   ]
  },
  {
   "cell_type": "code",
   "execution_count": 5,
   "metadata": {},
   "outputs": [
    {
     "data": {
      "text/plain": [
       "{'run_id': 'run_regj7',\n",
       " 'alphabet': ['A', 'C', 'G', 'T'],\n",
       " 'learning_rate': 0.0005,\n",
       " 'batch_size': 64,\n",
       " 'encoding_size': 20,\n",
       " 'decoder_n_hidden': 100,\n",
       " 'growth_rate': 15,\n",
       " 'n_layers': 10,\n",
       " 'kernel_sizes': [3, 5, 5, 5, 5, 5, 5, 5, 5, 5],\n",
       " 'strides': None,\n",
       " 'dilation_rates': None,\n",
       " 'l2_reg': 1e-05,\n",
       " 'dropout': 0.5,\n",
       " 'n_epochs': 2,\n",
       " 'max_sequence_length': 5000,\n",
       " 'seed': 3943,\n",
       " 'val_loss': 1.5735052824020386}"
      ]
     },
     "execution_count": 5,
     "metadata": {},
     "output_type": "execute_result"
    }
   ],
   "source": [
    "with open(metadata_path) as f:\n",
    "    metadata = json.load(f)\n",
    "    \n",
    "metadata"
   ]
  },
  {
   "cell_type": "code",
   "execution_count": 6,
   "metadata": {},
   "outputs": [
    {
     "name": "stdout",
     "output_type": "stream",
     "text": [
      "Model: \"functional_1\"\n",
      "__________________________________________________________________________________________________\n",
      "Layer (type)                    Output Shape         Param #     Connected to                     \n",
      "==================================================================================================\n",
      "sequence (InputLayer)           [(None, None, 4)]    0                                            \n",
      "__________________________________________________________________________________________________\n",
      "conv_1 (Conv1D)                 (None, None, 15)     195         sequence[0][0]                   \n",
      "__________________________________________________________________________________________________\n",
      "concat_1 (Concatenate)          (None, None, 19)     0           sequence[0][0]                   \n",
      "                                                                 conv_1[0][0]                     \n",
      "__________________________________________________________________________________________________\n",
      "conv_2 (Conv1D)                 (None, None, 15)     1440        concat_1[0][0]                   \n",
      "__________________________________________________________________________________________________\n",
      "concat_2 (Concatenate)          (None, None, 34)     0           concat_1[0][0]                   \n",
      "                                                                 conv_2[0][0]                     \n",
      "__________________________________________________________________________________________________\n",
      "conv_3 (Conv1D)                 (None, None, 15)     2565        concat_2[0][0]                   \n",
      "__________________________________________________________________________________________________\n",
      "concat_3 (Concatenate)          (None, None, 49)     0           concat_2[0][0]                   \n",
      "                                                                 conv_3[0][0]                     \n",
      "__________________________________________________________________________________________________\n",
      "conv_4 (Conv1D)                 (None, None, 15)     3690        concat_3[0][0]                   \n",
      "__________________________________________________________________________________________________\n",
      "concat_4 (Concatenate)          (None, None, 64)     0           concat_3[0][0]                   \n",
      "                                                                 conv_4[0][0]                     \n",
      "__________________________________________________________________________________________________\n",
      "conv_5 (Conv1D)                 (None, None, 15)     4815        concat_4[0][0]                   \n",
      "__________________________________________________________________________________________________\n",
      "concat_5 (Concatenate)          (None, None, 79)     0           concat_4[0][0]                   \n",
      "                                                                 conv_5[0][0]                     \n",
      "__________________________________________________________________________________________________\n",
      "conv_6 (Conv1D)                 (None, None, 15)     5940        concat_5[0][0]                   \n",
      "__________________________________________________________________________________________________\n",
      "concat_6 (Concatenate)          (None, None, 94)     0           concat_5[0][0]                   \n",
      "                                                                 conv_6[0][0]                     \n",
      "__________________________________________________________________________________________________\n",
      "conv_7 (Conv1D)                 (None, None, 15)     7065        concat_6[0][0]                   \n",
      "__________________________________________________________________________________________________\n",
      "concat_7 (Concatenate)          (None, None, 109)    0           concat_6[0][0]                   \n",
      "                                                                 conv_7[0][0]                     \n",
      "__________________________________________________________________________________________________\n",
      "conv_8 (Conv1D)                 (None, None, 15)     8190        concat_7[0][0]                   \n",
      "__________________________________________________________________________________________________\n",
      "concat_8 (Concatenate)          (None, None, 124)    0           concat_7[0][0]                   \n",
      "                                                                 conv_8[0][0]                     \n",
      "__________________________________________________________________________________________________\n",
      "conv_9 (Conv1D)                 (None, None, 15)     9315        concat_8[0][0]                   \n",
      "__________________________________________________________________________________________________\n",
      "concat_9 (Concatenate)          (None, None, 139)    0           concat_8[0][0]                   \n",
      "                                                                 conv_9[0][0]                     \n",
      "__________________________________________________________________________________________________\n",
      "conv_10 (Conv1D)                (None, None, 15)     10440       concat_9[0][0]                   \n",
      "__________________________________________________________________________________________________\n",
      "concat_10 (Concatenate)         (None, None, 154)    0           concat_9[0][0]                   \n",
      "                                                                 conv_10[0][0]                    \n",
      "__________________________________________________________________________________________________\n",
      "logits (GlobalAveragePooling1D) (None, 154)          0           concat_10[0][0]                  \n",
      "__________________________________________________________________________________________________\n",
      "dropout (Dropout)               (None, 154)          0           logits[0][0]                     \n",
      "__________________________________________________________________________________________________\n",
      "mean_and_std (Dense)            (None, 2)            310         dropout[0][0]                    \n",
      "__________________________________________________________________________________________________\n",
      "independent_normal (Independent ((None, 1), (None, 1 0           mean_and_std[0][0]               \n",
      "==================================================================================================\n",
      "Total params: 53,965\n",
      "Trainable params: 53,965\n",
      "Non-trainable params: 0\n",
      "__________________________________________________________________________________________________\n"
     ]
    }
   ],
   "source": [
    "model = conv1d_densenet_regression_model(\n",
    "    alphabet_size=len(metadata['alphabet']), \n",
    "    growth_rate=metadata['growth_rate'],\n",
    "    n_layers=metadata['n_layers'],\n",
    "    kernel_sizes=metadata['kernel_sizes'],\n",
    "    dilation_rates=metadata['dilation_rates'],\n",
    "    l2_reg=metadata['l2_reg'],\n",
    "    dropout=metadata['dropout'],\n",
    ")\n",
    "model.summary()"
   ]
  },
  {
   "cell_type": "markdown",
   "metadata": {},
   "source": [
    "## Load sequences from a single specie"
   ]
  },
  {
   "cell_type": "code",
   "execution_count": 7,
   "metadata": {},
   "outputs": [
    {
     "data": {
      "text/plain": [
       "2641"
      ]
     },
     "execution_count": 7,
     "metadata": {},
     "output_type": "execute_result"
    }
   ],
   "source": [
    "query = \"\"\"\n",
    "select t.species, s.sequence, s.length, t.growth_tmp\n",
    "from sequences as s\n",
    "inner join species_traits as t\n",
    "on t.species_taxid = s.species_taxid\n",
    "where s.species_taxid = ?\n",
    "\"\"\"\n",
    "species_taxid = 14\n",
    "species_df = pd.read_sql(query, engine, params=(species_taxid,))\n",
    "len(species_df)"
   ]
  },
  {
   "cell_type": "code",
   "execution_count": 8,
   "metadata": {},
   "outputs": [
    {
     "data": {
      "text/plain": [
       "('Dictyoglomus thermophilum', 74.15)"
      ]
     },
     "execution_count": 8,
     "metadata": {},
     "output_type": "execute_result"
    }
   ],
   "source": [
    "species = species_df['species'].iloc[0]\n",
    "actual_tmp = species_df['growth_tmp'].iloc[0]\n",
    "species, actual_tmp"
   ]
  },
  {
   "cell_type": "code",
   "execution_count": 9,
   "metadata": {},
   "outputs": [
    {
     "data": {
      "image/png": "[encoded data removed]",
      "text/plain": [
       "<Figure size 864x432 with 1 Axes>"
      ]
     },
     "metadata": {},
     "output_type": "display_data"
    }
   ],
   "source": [
    "_, ax = plt.subplots(1, 1, figsize=(12, 6))\n",
    "ax.hist(species_df['length'], bins=100, log=True);"
   ]
  },
  {
   "cell_type": "code",
   "execution_count": 10,
   "metadata": {},
   "outputs": [
    {
     "data": {
      "text/plain": [
       "74.15"
      ]
     },
     "execution_count": 10,
     "metadata": {},
     "output_type": "execute_result"
    }
   ],
   "source": [
    "actual_tmp = species_df['growth_tmp'].iloc[0]\n",
    "actual_tmp"
   ]
  },
  {
   "cell_type": "code",
   "execution_count": 11,
   "metadata": {},
   "outputs": [],
   "source": [
    "temperatures, mean, std = load_growth_temperatures(engine)"
   ]
  },
  {
   "cell_type": "code",
   "execution_count": 12,
   "metadata": {},
   "outputs": [],
   "source": [
    "max_sequence_length = metadata.get('max_sequence_length', 5000)\n",
    "species_seq = SpeciesSequence(\n",
    "    engine, \n",
    "    species_taxid=species_taxid,\n",
    "    batch_size=64, \n",
    "    temperatures=temperatures,\n",
    "    mean=mean,\n",
    "    std=std,\n",
    "    alphabet=ALPHABET_DNA, \n",
    "    max_sequence_length=max_sequence_length,\n",
    "    random_seed=444,\n",
    ")"
   ]
  },
  {
   "cell_type": "code",
   "execution_count": 13,
   "metadata": {},
   "outputs": [],
   "source": [
    "compile_regression_model(\n",
    "    model, \n",
    "    learning_rate=1e-4,\n",
    ")\n",
    "model.load_weights(model_path)"
   ]
  },
  {
   "cell_type": "code",
   "execution_count": 14,
   "metadata": {},
   "outputs": [],
   "source": [
    "temperature_range = np.arange(-15, 125, 0.5)\n",
    "temperature_range_norm = normalize(temperature_range, mean, std)"
   ]
  },
  {
   "cell_type": "code",
   "execution_count": 15,
   "metadata": {},
   "outputs": [
    {
     "name": "stdout",
     "output_type": "stream",
     "text": [
      "10 / 42\n",
      "20 / 42\n",
      "30 / 42\n",
      "40 / 42\n",
      "CPU times: user 31 s, sys: 19.8 s, total: 50.7 s\n",
      "Wall time: 15.9 s\n"
     ]
    }
   ],
   "source": [
    "%%time\n",
    "cursor = 0\n",
    "n_sequences = len(species_seq.rowids)\n",
    "predictions = np.zeros((n_sequences, 1))\n",
    "log_probabilities = np.zeros((n_sequences, len(temperature_range)))\n",
    "for i in range(len(species_seq)):\n",
    "    if (i + 1) % 10 == 0:\n",
    "        print(f'{i+1} / {len(species_seq)}')\n",
    "        \n",
    "    x_batch, _, _ = species_seq[i]\n",
    "    \n",
    "    a = cursor\n",
    "    b = cursor + len(x_batch)\n",
    "    \n",
    "    dist = model(x_batch)\n",
    "    y_pred_norm = dist.mean().numpy()\n",
    "    y_pred = denormalize(y_pred_norm, mean, std)\n",
    "    predictions[a:b] = y_pred\n",
    "    \n",
    "    for j, t in enumerate(temperature_range_norm):\n",
    "        log_probs = dist.log_prob(t).numpy()\n",
    "        log_probabilities[a:b, j] = log_probs\n",
    "        \n",
    "    cursor += len(x_batch)"
   ]
  },
  {
   "cell_type": "code",
   "execution_count": 16,
   "metadata": {},
   "outputs": [
    {
     "data": {
      "image/png": "[encoded data removed]",
      "text/plain": [
       "<Figure size 864x432 with 1 Axes>"
      ]
     },
     "metadata": {},
     "output_type": "display_data"
    }
   ],
   "source": [
    "_, ax = plt.subplots(1, 1, figsize=(12, 6))\n",
    "probs_u = np.exp(scipy.special.logsumexp(log_probabilities, axis=0))\n",
    "probs = probs_u / np.sum(probs_u)\n",
    "ax.plot(temperature_range, probs);"
   ]
  },
  {
   "cell_type": "code",
   "execution_count": 17,
   "metadata": {},
   "outputs": [],
   "source": [
    "mode = temperature_range[np.argmax(probs)]\n",
    "mean = np.average(temperature_range, weights=probs)"
   ]
  },
  {
   "cell_type": "code",
   "execution_count": 18,
   "metadata": {},
   "outputs": [
    {
     "data": {
      "text/plain": [
       "(74.15, 58.33549184248362, 57.5)"
      ]
     },
     "execution_count": 18,
     "metadata": {},
     "output_type": "execute_result"
    }
   ],
   "source": [
    "actual_tmp, mean, mode"
   ]
  },
  {
   "cell_type": "code",
   "execution_count": 19,
   "metadata": {},
   "outputs": [
    {
     "data": {
      "text/plain": [
       "23.125909832859797"
      ]
     },
     "execution_count": 19,
     "metadata": {},
     "output_type": "execute_result"
    }
   ],
   "source": [
    "variance = np.average(\n",
    "    [(t - mean)**2 for t in temperature_range], \n",
    "    weights=probs,\n",
    ")\n",
    "std = np.sqrt(variance)\n",
    "std"
   ]
  },
  {
   "cell_type": "code",
   "execution_count": null,
   "metadata": {},
   "outputs": [],
   "source": []
  }
 ],
 "metadata": {
  "kernelspec": {
   "display_name": "Python 3",
   "language": "python",
   "name": "python3"
  },
  "language_info": {
   "codemirror_mode": {
    "name": "ipython",
    "version": 3
   },
   "file_extension": ".py",
   "mimetype": "text/x-python",
   "name": "python",
   "nbconvert_exporter": "python",
   "pygments_lexer": "ipython3",
   "version": "3.7.6"
  }
 },
 "nbformat": 4,
 "nbformat_minor": 4
}
