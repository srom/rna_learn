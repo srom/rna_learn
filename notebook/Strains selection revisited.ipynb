{
 "cells": [
  {
   "cell_type": "code",
   "execution_count": 136,
   "metadata": {},
   "outputs": [],
   "source": [
    "import os\n",
    "import datetime\n",
    "from pathlib import Path\n",
    "import collections\n",
    "import shutil\n",
    "\n",
    "import pandas as pd\n",
    "import numpy as np\n",
    "import matplotlib.pyplot as plt\n",
    "import seaborn as sns\n",
    "from sqlalchemy import create_engine\n",
    "\n",
    "if os.getcwd().endswith('notebook'):\n",
    "    os.chdir('..')"
   ]
  },
  {
   "cell_type": "code",
   "execution_count": 155,
   "metadata": {},
   "outputs": [],
   "source": [
    "sns.set(palette='colorblind', font_scale=1.3)\n",
    "palette = sns.color_palette()"
   ]
  },
  {
   "cell_type": "code",
   "execution_count": 6,
   "metadata": {},
   "outputs": [],
   "source": [
    "db_path = os.path.join(os.getcwd(), 'data/condensed_traits/db/seq.db')\n",
    "engine = create_engine(f'sqlite+pysqlite:///{db_path}')"
   ]
  },
  {
   "cell_type": "code",
   "execution_count": 2,
   "metadata": {},
   "outputs": [
    {
     "name": "stderr",
     "output_type": "stream",
     "text": [
      "/Users/srom/workspace/rna_learn/env/lib/python3.7/site-packages/IPython/core/interactiveshell.py:3051: DtypeWarning: Columns (21) have mixed types.Specify dtype option on import or set low_memory=False.\n",
      "  interactivity=interactivity, compiler=compiler, result=result)\n"
     ]
    },
    {
     "data": {
      "text/html": [
       "<div>\n",
       "<style scoped>\n",
       "    .dataframe tbody tr th:only-of-type {\n",
       "        vertical-align: middle;\n",
       "    }\n",
       "\n",
       "    .dataframe tbody tr th {\n",
       "        vertical-align: top;\n",
       "    }\n",
       "\n",
       "    .dataframe thead th {\n",
       "        text-align: right;\n",
       "    }\n",
       "</style>\n",
       "<table border=\"1\" class=\"dataframe\">\n",
       "  <thead>\n",
       "    <tr style=\"text-align: right;\">\n",
       "      <th></th>\n",
       "      <th>assembly_accession</th>\n",
       "      <th>bioproject</th>\n",
       "      <th>biosample</th>\n",
       "      <th>wgs_master</th>\n",
       "      <th>refseq_category</th>\n",
       "      <th>taxid</th>\n",
       "      <th>species_taxid</th>\n",
       "      <th>organism_name</th>\n",
       "      <th>infraspecific_name</th>\n",
       "      <th>isolate</th>\n",
       "      <th>...</th>\n",
       "      <th>release_type</th>\n",
       "      <th>genome_rep</th>\n",
       "      <th>seq_rel_date</th>\n",
       "      <th>asm_name</th>\n",
       "      <th>submitter</th>\n",
       "      <th>gbrs_paired_asm</th>\n",
       "      <th>paired_asm_comp</th>\n",
       "      <th>ftp_path</th>\n",
       "      <th>excluded_from_refseq</th>\n",
       "      <th>relation_to_type_material</th>\n",
       "    </tr>\n",
       "  </thead>\n",
       "  <tbody>\n",
       "    <tr>\n",
       "      <th>0</th>\n",
       "      <td>GCA_000001215.4</td>\n",
       "      <td>PRJNA13812</td>\n",
       "      <td>SAMN02803731</td>\n",
       "      <td>NaN</td>\n",
       "      <td>reference genome</td>\n",
       "      <td>7227</td>\n",
       "      <td>7227</td>\n",
       "      <td>Drosophila melanogaster</td>\n",
       "      <td>NaN</td>\n",
       "      <td>NaN</td>\n",
       "      <td>...</td>\n",
       "      <td>Major</td>\n",
       "      <td>Full</td>\n",
       "      <td>01/08/2014</td>\n",
       "      <td>Release 6 plus ISO1 MT</td>\n",
       "      <td>The FlyBase Consortium/Berkeley Drosophila Gen...</td>\n",
       "      <td>GCF_000001215.4</td>\n",
       "      <td>identical</td>\n",
       "      <td>ftp://ftp.ncbi.nlm.nih.gov/genomes/all/GCA/000...</td>\n",
       "      <td>NaN</td>\n",
       "      <td>NaN</td>\n",
       "    </tr>\n",
       "    <tr>\n",
       "      <th>1</th>\n",
       "      <td>GCA_000001405.28</td>\n",
       "      <td>PRJNA31257</td>\n",
       "      <td>NaN</td>\n",
       "      <td>NaN</td>\n",
       "      <td>reference genome</td>\n",
       "      <td>9606</td>\n",
       "      <td>9606</td>\n",
       "      <td>Homo sapiens</td>\n",
       "      <td>NaN</td>\n",
       "      <td>NaN</td>\n",
       "      <td>...</td>\n",
       "      <td>Patch</td>\n",
       "      <td>Full</td>\n",
       "      <td>28/02/2019</td>\n",
       "      <td>GRCh38.p13</td>\n",
       "      <td>Genome Reference Consortium</td>\n",
       "      <td>GCF_000001405.39</td>\n",
       "      <td>different</td>\n",
       "      <td>ftp://ftp.ncbi.nlm.nih.gov/genomes/all/GCA/000...</td>\n",
       "      <td>NaN</td>\n",
       "      <td>NaN</td>\n",
       "    </tr>\n",
       "    <tr>\n",
       "      <th>2</th>\n",
       "      <td>GCA_000001515.5</td>\n",
       "      <td>PRJNA13184</td>\n",
       "      <td>SAMN02981217</td>\n",
       "      <td>AACZ00000000.4</td>\n",
       "      <td>na</td>\n",
       "      <td>9598</td>\n",
       "      <td>9598</td>\n",
       "      <td>Pan troglodytes</td>\n",
       "      <td>NaN</td>\n",
       "      <td>Yerkes chimp pedigree #C0471 (Clint)</td>\n",
       "      <td>...</td>\n",
       "      <td>Major</td>\n",
       "      <td>Full</td>\n",
       "      <td>03/05/2016</td>\n",
       "      <td>Pan_tro 3.0</td>\n",
       "      <td>Chimpanzee Sequencing and Analysis Consortium</td>\n",
       "      <td>GCF_000001515.7</td>\n",
       "      <td>different</td>\n",
       "      <td>ftp://ftp.ncbi.nlm.nih.gov/genomes/all/GCA/000...</td>\n",
       "      <td>NaN</td>\n",
       "      <td>NaN</td>\n",
       "    </tr>\n",
       "    <tr>\n",
       "      <th>3</th>\n",
       "      <td>GCA_000001545.3</td>\n",
       "      <td>PRJNA20869</td>\n",
       "      <td>SAMN02981238</td>\n",
       "      <td>ABGA00000000.1</td>\n",
       "      <td>na</td>\n",
       "      <td>9601</td>\n",
       "      <td>9601</td>\n",
       "      <td>Pongo abelii</td>\n",
       "      <td>NaN</td>\n",
       "      <td>ISIS 71</td>\n",
       "      <td>...</td>\n",
       "      <td>Major</td>\n",
       "      <td>Full</td>\n",
       "      <td>13/11/2008</td>\n",
       "      <td>P_pygmaeus_2.0.2</td>\n",
       "      <td>Orangutan Genome Sequencing Consortium</td>\n",
       "      <td>na</td>\n",
       "      <td>na</td>\n",
       "      <td>ftp://ftp.ncbi.nlm.nih.gov/genomes/all/GCA/000...</td>\n",
       "      <td>NaN</td>\n",
       "      <td>NaN</td>\n",
       "    </tr>\n",
       "    <tr>\n",
       "      <th>4</th>\n",
       "      <td>GCA_000001635.8</td>\n",
       "      <td>PRJNA20689</td>\n",
       "      <td>NaN</td>\n",
       "      <td>NaN</td>\n",
       "      <td>reference genome</td>\n",
       "      <td>10090</td>\n",
       "      <td>10090</td>\n",
       "      <td>Mus musculus</td>\n",
       "      <td>NaN</td>\n",
       "      <td>NaN</td>\n",
       "      <td>...</td>\n",
       "      <td>Patch</td>\n",
       "      <td>Full</td>\n",
       "      <td>15/09/2017</td>\n",
       "      <td>GRCm38.p6</td>\n",
       "      <td>Genome Reference Consortium</td>\n",
       "      <td>GCF_000001635.26</td>\n",
       "      <td>identical</td>\n",
       "      <td>ftp://ftp.ncbi.nlm.nih.gov/genomes/all/GCA/000...</td>\n",
       "      <td>NaN</td>\n",
       "      <td>NaN</td>\n",
       "    </tr>\n",
       "  </tbody>\n",
       "</table>\n",
       "<p>5 rows × 22 columns</p>\n",
       "</div>"
      ],
      "text/plain": [
       "  assembly_accession  bioproject     biosample      wgs_master  \\\n",
       "0    GCA_000001215.4  PRJNA13812  SAMN02803731             NaN   \n",
       "1   GCA_000001405.28  PRJNA31257           NaN             NaN   \n",
       "2    GCA_000001515.5  PRJNA13184  SAMN02981217  AACZ00000000.4   \n",
       "3    GCA_000001545.3  PRJNA20869  SAMN02981238  ABGA00000000.1   \n",
       "4    GCA_000001635.8  PRJNA20689           NaN             NaN   \n",
       "\n",
       "    refseq_category  taxid  species_taxid            organism_name  \\\n",
       "0  reference genome   7227           7227  Drosophila melanogaster   \n",
       "1  reference genome   9606           9606             Homo sapiens   \n",
       "2                na   9598           9598          Pan troglodytes   \n",
       "3                na   9601           9601             Pongo abelii   \n",
       "4  reference genome  10090          10090             Mus musculus   \n",
       "\n",
       "  infraspecific_name                               isolate  ... release_type  \\\n",
       "0                NaN                                   NaN  ...        Major   \n",
       "1                NaN                                   NaN  ...        Patch   \n",
       "2                NaN  Yerkes chimp pedigree #C0471 (Clint)  ...        Major   \n",
       "3                NaN                               ISIS 71  ...        Major   \n",
       "4                NaN                                   NaN  ...        Patch   \n",
       "\n",
       "  genome_rep seq_rel_date                asm_name  \\\n",
       "0       Full   01/08/2014  Release 6 plus ISO1 MT   \n",
       "1       Full   28/02/2019              GRCh38.p13   \n",
       "2       Full   03/05/2016             Pan_tro 3.0   \n",
       "3       Full   13/11/2008        P_pygmaeus_2.0.2   \n",
       "4       Full   15/09/2017               GRCm38.p6   \n",
       "\n",
       "                                           submitter   gbrs_paired_asm  \\\n",
       "0  The FlyBase Consortium/Berkeley Drosophila Gen...   GCF_000001215.4   \n",
       "1                        Genome Reference Consortium  GCF_000001405.39   \n",
       "2      Chimpanzee Sequencing and Analysis Consortium   GCF_000001515.7   \n",
       "3             Orangutan Genome Sequencing Consortium                na   \n",
       "4                        Genome Reference Consortium  GCF_000001635.26   \n",
       "\n",
       "  paired_asm_comp                                           ftp_path  \\\n",
       "0       identical  ftp://ftp.ncbi.nlm.nih.gov/genomes/all/GCA/000...   \n",
       "1       different  ftp://ftp.ncbi.nlm.nih.gov/genomes/all/GCA/000...   \n",
       "2       different  ftp://ftp.ncbi.nlm.nih.gov/genomes/all/GCA/000...   \n",
       "3              na  ftp://ftp.ncbi.nlm.nih.gov/genomes/all/GCA/000...   \n",
       "4       identical  ftp://ftp.ncbi.nlm.nih.gov/genomes/all/GCA/000...   \n",
       "\n",
       "  excluded_from_refseq relation_to_type_material  \n",
       "0                  NaN                       NaN  \n",
       "1                  NaN                       NaN  \n",
       "2                  NaN                       NaN  \n",
       "3                  NaN                       NaN  \n",
       "4                  NaN                       NaN  \n",
       "\n",
       "[5 rows x 22 columns]"
      ]
     },
     "execution_count": 2,
     "metadata": {},
     "output_type": "execute_result"
    }
   ],
   "source": [
    "ncbi_full_list_path = os.path.join(os.getcwd(), 'data/condensed_traits/ncbi_available_sequences.txt')\n",
    "ncbi_genomes_list = pd.read_csv(ncbi_full_list_path, sep='\\t', skiprows=1)\n",
    "ncbi_genomes_list.head()"
   ]
  },
  {
   "cell_type": "code",
   "execution_count": 10,
   "metadata": {},
   "outputs": [
    {
     "name": "stderr",
     "output_type": "stream",
     "text": [
      "/Users/srom/workspace/rna_learn/env/lib/python3.7/site-packages/IPython/core/interactiveshell.py:3051: DtypeWarning: Columns (11,12,13,14,15,16,17,18,19,20) have mixed types.Specify dtype option on import or set low_memory=False.\n",
      "  interactivity=interactivity, compiler=compiler, result=result)\n"
     ]
    },
    {
     "data": {
      "text/html": [
       "<div>\n",
       "<style scoped>\n",
       "    .dataframe tbody tr th:only-of-type {\n",
       "        vertical-align: middle;\n",
       "    }\n",
       "\n",
       "    .dataframe tbody tr th {\n",
       "        vertical-align: top;\n",
       "    }\n",
       "\n",
       "    .dataframe thead th {\n",
       "        text-align: right;\n",
       "    }\n",
       "</style>\n",
       "<table border=\"1\" class=\"dataframe\">\n",
       "  <thead>\n",
       "    <tr style=\"text-align: right;\">\n",
       "      <th></th>\n",
       "      <th>tax_id</th>\n",
       "      <th>species_tax_id</th>\n",
       "      <th>data_source</th>\n",
       "      <th>org_name</th>\n",
       "      <th>species</th>\n",
       "      <th>genus</th>\n",
       "      <th>family</th>\n",
       "      <th>order</th>\n",
       "      <th>class</th>\n",
       "      <th>phylum</th>\n",
       "      <th>...</th>\n",
       "      <th>doubling_h</th>\n",
       "      <th>genome_size</th>\n",
       "      <th>gc_content</th>\n",
       "      <th>coding_genes</th>\n",
       "      <th>optimum_tmp</th>\n",
       "      <th>optimum_ph</th>\n",
       "      <th>growth_tmp</th>\n",
       "      <th>rRNA16S_genes</th>\n",
       "      <th>tRNA_genes</th>\n",
       "      <th>ref_id</th>\n",
       "    </tr>\n",
       "  </thead>\n",
       "  <tbody>\n",
       "    <tr>\n",
       "      <th>0</th>\n",
       "      <td>54261</td>\n",
       "      <td>54261</td>\n",
       "      <td>amend-shock</td>\n",
       "      <td>Ferroglobus placidus</td>\n",
       "      <td>Ferroglobus placidus</td>\n",
       "      <td>Ferroglobus</td>\n",
       "      <td>Archaeoglobaceae</td>\n",
       "      <td>Archaeoglobales</td>\n",
       "      <td>Archaeoglobi</td>\n",
       "      <td>Euryarchaeota</td>\n",
       "      <td>...</td>\n",
       "      <td>NaN</td>\n",
       "      <td>NaN</td>\n",
       "      <td>NaN</td>\n",
       "      <td>NaN</td>\n",
       "      <td>NaN</td>\n",
       "      <td>NaN</td>\n",
       "      <td>NaN</td>\n",
       "      <td>NaN</td>\n",
       "      <td>NaN</td>\n",
       "      <td>1.0</td>\n",
       "    </tr>\n",
       "    <tr>\n",
       "      <th>1</th>\n",
       "      <td>2714</td>\n",
       "      <td>2714</td>\n",
       "      <td>amend-shock</td>\n",
       "      <td>Aquifex pyrophilus</td>\n",
       "      <td>Aquifex pyrophilus</td>\n",
       "      <td>Aquifex</td>\n",
       "      <td>Aquificaceae</td>\n",
       "      <td>Aquificales</td>\n",
       "      <td>Aquificae</td>\n",
       "      <td>Aquificae</td>\n",
       "      <td>...</td>\n",
       "      <td>NaN</td>\n",
       "      <td>NaN</td>\n",
       "      <td>NaN</td>\n",
       "      <td>NaN</td>\n",
       "      <td>NaN</td>\n",
       "      <td>NaN</td>\n",
       "      <td>NaN</td>\n",
       "      <td>NaN</td>\n",
       "      <td>NaN</td>\n",
       "      <td>2.0</td>\n",
       "    </tr>\n",
       "    <tr>\n",
       "      <th>2</th>\n",
       "      <td>29466</td>\n",
       "      <td>29466</td>\n",
       "      <td>amend-shock</td>\n",
       "      <td>Veillonella alcalescens</td>\n",
       "      <td>Veillonella parvula</td>\n",
       "      <td>Veillonella</td>\n",
       "      <td>Veillonellaceae</td>\n",
       "      <td>Veillonellales</td>\n",
       "      <td>Negativicutes</td>\n",
       "      <td>Firmicutes</td>\n",
       "      <td>...</td>\n",
       "      <td>NaN</td>\n",
       "      <td>NaN</td>\n",
       "      <td>NaN</td>\n",
       "      <td>NaN</td>\n",
       "      <td>NaN</td>\n",
       "      <td>NaN</td>\n",
       "      <td>NaN</td>\n",
       "      <td>NaN</td>\n",
       "      <td>NaN</td>\n",
       "      <td>NaN</td>\n",
       "    </tr>\n",
       "    <tr>\n",
       "      <th>3</th>\n",
       "      <td>266</td>\n",
       "      <td>266</td>\n",
       "      <td>amend-shock</td>\n",
       "      <td>Micrococcus denitrificans</td>\n",
       "      <td>Paracoccus denitrificans</td>\n",
       "      <td>Paracoccus</td>\n",
       "      <td>Rhodobacteraceae</td>\n",
       "      <td>Rhodobacterales</td>\n",
       "      <td>Alphaproteobacteria</td>\n",
       "      <td>Proteobacteria</td>\n",
       "      <td>...</td>\n",
       "      <td>NaN</td>\n",
       "      <td>NaN</td>\n",
       "      <td>NaN</td>\n",
       "      <td>NaN</td>\n",
       "      <td>NaN</td>\n",
       "      <td>NaN</td>\n",
       "      <td>NaN</td>\n",
       "      <td>NaN</td>\n",
       "      <td>NaN</td>\n",
       "      <td>NaN</td>\n",
       "    </tr>\n",
       "    <tr>\n",
       "      <th>4</th>\n",
       "      <td>36861</td>\n",
       "      <td>36861</td>\n",
       "      <td>amend-shock</td>\n",
       "      <td>Thiobacillus denitrificans</td>\n",
       "      <td>Thiobacillus denitrificans</td>\n",
       "      <td>Thiobacillus</td>\n",
       "      <td>Thiobacillaceae</td>\n",
       "      <td>Nitrosomonadales</td>\n",
       "      <td>Betaproteobacteria</td>\n",
       "      <td>Proteobacteria</td>\n",
       "      <td>...</td>\n",
       "      <td>NaN</td>\n",
       "      <td>NaN</td>\n",
       "      <td>NaN</td>\n",
       "      <td>NaN</td>\n",
       "      <td>NaN</td>\n",
       "      <td>NaN</td>\n",
       "      <td>NaN</td>\n",
       "      <td>NaN</td>\n",
       "      <td>NaN</td>\n",
       "      <td>3.0</td>\n",
       "    </tr>\n",
       "  </tbody>\n",
       "</table>\n",
       "<p>5 rows × 35 columns</p>\n",
       "</div>"
      ],
      "text/plain": [
       "   tax_id  species_tax_id  data_source                    org_name  \\\n",
       "0   54261           54261  amend-shock        Ferroglobus placidus   \n",
       "1    2714            2714  amend-shock          Aquifex pyrophilus   \n",
       "2   29466           29466  amend-shock     Veillonella alcalescens   \n",
       "3     266             266  amend-shock   Micrococcus denitrificans   \n",
       "4   36861           36861  amend-shock  Thiobacillus denitrificans   \n",
       "\n",
       "                      species         genus            family  \\\n",
       "0        Ferroglobus placidus   Ferroglobus  Archaeoglobaceae   \n",
       "1          Aquifex pyrophilus       Aquifex      Aquificaceae   \n",
       "2         Veillonella parvula   Veillonella   Veillonellaceae   \n",
       "3    Paracoccus denitrificans    Paracoccus  Rhodobacteraceae   \n",
       "4  Thiobacillus denitrificans  Thiobacillus   Thiobacillaceae   \n",
       "\n",
       "              order                class          phylum  ... doubling_h  \\\n",
       "0   Archaeoglobales         Archaeoglobi   Euryarchaeota  ...        NaN   \n",
       "1       Aquificales            Aquificae       Aquificae  ...        NaN   \n",
       "2    Veillonellales        Negativicutes      Firmicutes  ...        NaN   \n",
       "3   Rhodobacterales  Alphaproteobacteria  Proteobacteria  ...        NaN   \n",
       "4  Nitrosomonadales   Betaproteobacteria  Proteobacteria  ...        NaN   \n",
       "\n",
       "  genome_size gc_content coding_genes optimum_tmp optimum_ph growth_tmp  \\\n",
       "0         NaN        NaN          NaN         NaN        NaN        NaN   \n",
       "1         NaN        NaN          NaN         NaN        NaN        NaN   \n",
       "2         NaN        NaN          NaN         NaN        NaN        NaN   \n",
       "3         NaN        NaN          NaN         NaN        NaN        NaN   \n",
       "4         NaN        NaN          NaN         NaN        NaN        NaN   \n",
       "\n",
       "  rRNA16S_genes tRNA_genes ref_id  \n",
       "0           NaN        NaN    1.0  \n",
       "1           NaN        NaN    2.0  \n",
       "2           NaN        NaN    NaN  \n",
       "3           NaN        NaN    NaN  \n",
       "4           NaN        NaN    3.0  \n",
       "\n",
       "[5 rows x 35 columns]"
      ]
     },
     "execution_count": 10,
     "metadata": {},
     "output_type": "execute_result"
    }
   ],
   "source": [
    "traits_df = pd.read_csv(os.path.join(os.getcwd(), 'data/condensed_traits/condensed_traits_NCBI.csv'))\n",
    "traits_df.head()"
   ]
  },
  {
   "cell_type": "code",
   "execution_count": 33,
   "metadata": {},
   "outputs": [
    {
     "data": {
      "text/plain": [
       "11824"
      ]
     },
     "execution_count": 33,
     "metadata": {},
     "output_type": "execute_result"
    }
   ],
   "source": [
    "tax_ids = traits_df[~traits_df['growth_tmp'].isnull()]['tax_id'].unique()\n",
    "len(tax_ids)"
   ]
  },
  {
   "cell_type": "code",
   "execution_count": 7,
   "metadata": {},
   "outputs": [
    {
     "data": {
      "text/plain": [
       "2265"
      ]
     },
     "execution_count": 7,
     "metadata": {},
     "output_type": "execute_result"
    }
   ],
   "source": [
    "species_taxid = pd.read_sql('select species_taxid from train_test_split', engine)['species_taxid'].values\n",
    "len(species_taxid)"
   ]
  },
  {
   "cell_type": "code",
   "execution_count": 105,
   "metadata": {},
   "outputs": [],
   "source": [
    "already_downloaded_df = pd.read_csv(os.path.join(os.getcwd(), 'data/condensed_traits/ncbi_species_final.csv'))"
   ]
  },
  {
   "cell_type": "code",
   "execution_count": 107,
   "metadata": {},
   "outputs": [],
   "source": [
    "filtered_ncbi_df = ncbi_genomes_list[\n",
    "    #(ncbi_genomes_list['species_taxid'].isin(species_taxid)) &\n",
    "    (ncbi_genomes_list['taxid'].isin(tax_ids)) &\n",
    "    (ncbi_genomes_list['version_status'] == 'latest') &\n",
    "    #(ncbi_genomes_list['assembly_level'] == 'Complete Genome') &\n",
    "    (ncbi_genomes_list['excluded_from_refseq'].isnull()) &\n",
    "    ~ncbi_genomes_list['assembly_accession'].isin(already_downloaded_df['assembly_accession'].values)\n",
    "]"
   ]
  },
  {
   "cell_type": "code",
   "execution_count": 110,
   "metadata": {},
   "outputs": [
    {
     "data": {
      "text/plain": [
       "5495"
      ]
     },
     "execution_count": 110,
     "metadata": {},
     "output_type": "execute_result"
    }
   ],
   "source": [
    "filtered_taxids = filtered_ncbi_df['taxid'].unique()\n",
    "len(filtered_taxids)"
   ]
  },
  {
   "cell_type": "code",
   "execution_count": 111,
   "metadata": {},
   "outputs": [
    {
     "data": {
      "text/html": [
       "<div>\n",
       "<style scoped>\n",
       "    .dataframe tbody tr th:only-of-type {\n",
       "        vertical-align: middle;\n",
       "    }\n",
       "\n",
       "    .dataframe tbody tr th {\n",
       "        vertical-align: top;\n",
       "    }\n",
       "\n",
       "    .dataframe thead th {\n",
       "        text-align: right;\n",
       "    }\n",
       "</style>\n",
       "<table border=\"1\" class=\"dataframe\">\n",
       "  <thead>\n",
       "    <tr style=\"text-align: right;\">\n",
       "      <th></th>\n",
       "      <th>tax_id</th>\n",
       "      <th>species_tax_id</th>\n",
       "      <th>org_name</th>\n",
       "      <th>species</th>\n",
       "      <th>genus</th>\n",
       "      <th>class</th>\n",
       "      <th>phylum</th>\n",
       "      <th>superkingdom</th>\n",
       "      <th>growth_tmp</th>\n",
       "    </tr>\n",
       "  </thead>\n",
       "  <tbody>\n",
       "    <tr>\n",
       "      <th>6703</th>\n",
       "      <td>14</td>\n",
       "      <td>14</td>\n",
       "      <td>dictyoglomus_thermophilum</td>\n",
       "      <td>Dictyoglomus thermophilum</td>\n",
       "      <td>Dictyoglomus</td>\n",
       "      <td>Dictyoglomia</td>\n",
       "      <td>Dictyoglomi</td>\n",
       "      <td>Bacteria</td>\n",
       "      <td>70.0</td>\n",
       "    </tr>\n",
       "    <tr>\n",
       "      <th>2484</th>\n",
       "      <td>14</td>\n",
       "      <td>14</td>\n",
       "      <td>Dictyoglomus thermophilum</td>\n",
       "      <td>Dictyoglomus thermophilum</td>\n",
       "      <td>Dictyoglomus</td>\n",
       "      <td>Dictyoglomia</td>\n",
       "      <td>Dictyoglomi</td>\n",
       "      <td>Bacteria</td>\n",
       "      <td>78.3</td>\n",
       "    </tr>\n",
       "    <tr>\n",
       "      <th>3810</th>\n",
       "      <td>25</td>\n",
       "      <td>25</td>\n",
       "      <td>alteromonas_hanedai</td>\n",
       "      <td>Shewanella hanedai</td>\n",
       "      <td>Shewanella</td>\n",
       "      <td>Gammaproteobacteria</td>\n",
       "      <td>Proteobacteria</td>\n",
       "      <td>Bacteria</td>\n",
       "      <td>16.0</td>\n",
       "    </tr>\n",
       "    <tr>\n",
       "      <th>7241</th>\n",
       "      <td>102</td>\n",
       "      <td>102</td>\n",
       "      <td>flectobacillus_glomeratus</td>\n",
       "      <td>Polaribacter glomeratus</td>\n",
       "      <td>Polaribacter</td>\n",
       "      <td>Flavobacteriia</td>\n",
       "      <td>Bacteroidetes</td>\n",
       "      <td>Bacteria</td>\n",
       "      <td>15.0</td>\n",
       "    </tr>\n",
       "    <tr>\n",
       "      <th>169672</th>\n",
       "      <td>228</td>\n",
       "      <td>228</td>\n",
       "      <td>Pseudoalteromonas haloplanktis</td>\n",
       "      <td>Pseudoalteromonas haloplanktis</td>\n",
       "      <td>Pseudoalteromonas</td>\n",
       "      <td>Gammaproteobacteria</td>\n",
       "      <td>Proteobacteria</td>\n",
       "      <td>Bacteria</td>\n",
       "      <td>15.0</td>\n",
       "    </tr>\n",
       "    <tr>\n",
       "      <th>...</th>\n",
       "      <td>...</td>\n",
       "      <td>...</td>\n",
       "      <td>...</td>\n",
       "      <td>...</td>\n",
       "      <td>...</td>\n",
       "      <td>...</td>\n",
       "      <td>...</td>\n",
       "      <td>...</td>\n",
       "      <td>...</td>\n",
       "    </tr>\n",
       "    <tr>\n",
       "      <th>5254</th>\n",
       "      <td>1674942</td>\n",
       "      <td>1674942</td>\n",
       "      <td>caenibacillus_caldisaponilyticus</td>\n",
       "      <td>Caenibacillus caldisaponilyticus</td>\n",
       "      <td>Caenibacillus</td>\n",
       "      <td>Bacilli</td>\n",
       "      <td>Firmicutes</td>\n",
       "      <td>Bacteria</td>\n",
       "      <td>55.0</td>\n",
       "    </tr>\n",
       "    <tr>\n",
       "      <th>7955</th>\n",
       "      <td>1677857</td>\n",
       "      <td>1677857</td>\n",
       "      <td>herbivorax_saccincola</td>\n",
       "      <td>Herbivorax saccincola</td>\n",
       "      <td>Herbivorax</td>\n",
       "      <td>Clostridia</td>\n",
       "      <td>Firmicutes</td>\n",
       "      <td>Bacteria</td>\n",
       "      <td>55.0</td>\n",
       "    </tr>\n",
       "    <tr>\n",
       "      <th>14341</th>\n",
       "      <td>1706046</td>\n",
       "      <td>1706046</td>\n",
       "      <td>sulfurirhabdus_autotrophica</td>\n",
       "      <td>Sulfurirhabdus autotrophica</td>\n",
       "      <td>Sulfurirhabdus</td>\n",
       "      <td>Betaproteobacteria</td>\n",
       "      <td>Proteobacteria</td>\n",
       "      <td>Bacteria</td>\n",
       "      <td>15.0</td>\n",
       "    </tr>\n",
       "    <tr>\n",
       "      <th>8096</th>\n",
       "      <td>1750597</td>\n",
       "      <td>1750597</td>\n",
       "      <td>inmirania_thermothiophila</td>\n",
       "      <td>Inmirania thermothiophila</td>\n",
       "      <td>Inmirania</td>\n",
       "      <td>Gammaproteobacteria</td>\n",
       "      <td>Proteobacteria</td>\n",
       "      <td>Bacteria</td>\n",
       "      <td>65.0</td>\n",
       "    </tr>\n",
       "    <tr>\n",
       "      <th>14617</th>\n",
       "      <td>1795632</td>\n",
       "      <td>1795632</td>\n",
       "      <td>thermodesulfatator_autotrophicus</td>\n",
       "      <td>Thermodesulfatator autotrophicus</td>\n",
       "      <td>Thermodesulfatator</td>\n",
       "      <td>Thermodesulfobacteria</td>\n",
       "      <td>Thermodesulfobacteria</td>\n",
       "      <td>Bacteria</td>\n",
       "      <td>65.0</td>\n",
       "    </tr>\n",
       "  </tbody>\n",
       "</table>\n",
       "<p>403 rows × 9 columns</p>\n",
       "</div>"
      ],
      "text/plain": [
       "         tax_id  species_tax_id                          org_name  \\\n",
       "6703         14              14         dictyoglomus_thermophilum   \n",
       "2484         14              14         Dictyoglomus thermophilum   \n",
       "3810         25              25               alteromonas_hanedai   \n",
       "7241        102             102         flectobacillus_glomeratus   \n",
       "169672      228             228    Pseudoalteromonas haloplanktis   \n",
       "...         ...             ...                               ...   \n",
       "5254    1674942         1674942  caenibacillus_caldisaponilyticus   \n",
       "7955    1677857         1677857             herbivorax_saccincola   \n",
       "14341   1706046         1706046       sulfurirhabdus_autotrophica   \n",
       "8096    1750597         1750597         inmirania_thermothiophila   \n",
       "14617   1795632         1795632  thermodesulfatator_autotrophicus   \n",
       "\n",
       "                                 species               genus  \\\n",
       "6703           Dictyoglomus thermophilum        Dictyoglomus   \n",
       "2484           Dictyoglomus thermophilum        Dictyoglomus   \n",
       "3810                  Shewanella hanedai          Shewanella   \n",
       "7241             Polaribacter glomeratus        Polaribacter   \n",
       "169672    Pseudoalteromonas haloplanktis   Pseudoalteromonas   \n",
       "...                                  ...                 ...   \n",
       "5254    Caenibacillus caldisaponilyticus       Caenibacillus   \n",
       "7955               Herbivorax saccincola          Herbivorax   \n",
       "14341        Sulfurirhabdus autotrophica      Sulfurirhabdus   \n",
       "8096           Inmirania thermothiophila           Inmirania   \n",
       "14617   Thermodesulfatator autotrophicus  Thermodesulfatator   \n",
       "\n",
       "                        class                 phylum superkingdom  growth_tmp  \n",
       "6703             Dictyoglomia            Dictyoglomi     Bacteria        70.0  \n",
       "2484             Dictyoglomia            Dictyoglomi     Bacteria        78.3  \n",
       "3810      Gammaproteobacteria         Proteobacteria     Bacteria        16.0  \n",
       "7241           Flavobacteriia          Bacteroidetes     Bacteria        15.0  \n",
       "169672    Gammaproteobacteria         Proteobacteria     Bacteria        15.0  \n",
       "...                       ...                    ...          ...         ...  \n",
       "5254                  Bacilli             Firmicutes     Bacteria        55.0  \n",
       "7955               Clostridia             Firmicutes     Bacteria        55.0  \n",
       "14341      Betaproteobacteria         Proteobacteria     Bacteria        15.0  \n",
       "8096      Gammaproteobacteria         Proteobacteria     Bacteria        65.0  \n",
       "14617   Thermodesulfobacteria  Thermodesulfobacteria     Bacteria        65.0  \n",
       "\n",
       "[403 rows x 9 columns]"
      ]
     },
     "execution_count": 111,
     "metadata": {},
     "output_type": "execute_result"
    }
   ],
   "source": [
    "candidate_new_strains = traits_df[\n",
    "    (traits_df['tax_id'].isin(filtered_taxids))\n",
    "    & (\n",
    "        (traits_df['growth_tmp'] < 20) |\n",
    "        (traits_df['growth_tmp'] > 45)\n",
    "    )\n",
    "]\n",
    "candidate_new_strains[\n",
    "    ['tax_id', 'species_tax_id', 'org_name', 'species', 'genus', \n",
    "     'class', 'phylum', 'superkingdom', 'growth_tmp']\n",
    "].sort_values(['species_tax_id', 'growth_tmp'])"
   ]
  },
  {
   "cell_type": "code",
   "execution_count": 112,
   "metadata": {},
   "outputs": [
    {
     "data": {
      "image/png": "[encoded data removed]",
      "text/plain": [
       "<Figure size 432x288 with 1 Axes>"
      ]
     },
     "metadata": {},
     "output_type": "display_data"
    }
   ],
   "source": [
    "candidate_new_strains['growth_tmp'].hist();"
   ]
  },
  {
   "cell_type": "markdown",
   "metadata": {},
   "source": [
    "## Results after running preprocessing/select_strains.py"
   ]
  },
  {
   "cell_type": "code",
   "execution_count": 160,
   "metadata": {},
   "outputs": [
    {
     "data": {
      "text/plain": [
       "3794"
      ]
     },
     "execution_count": 160,
     "metadata": {},
     "output_type": "execute_result"
    }
   ],
   "source": [
    "assembly_df = pd.read_csv(os.path.join(os.getcwd(), 'data/NCBI_selected_assemblies.csv'))\n",
    "len(assembly_df)"
   ]
  },
  {
   "cell_type": "code",
   "execution_count": 161,
   "metadata": {},
   "outputs": [],
   "source": [
    "species_traits_path = os.path.join(os.getcwd(), 'data/condensed_traits/condensed_species_NCBI.csv')\n",
    "species_traits = pd.read_csv(species_traits_path)\n",
    "species_traits['species_taxid'] = species_traits['species_tax_id']\n",
    "species_traits = species_traits.set_index('species_taxid')"
   ]
  },
  {
   "cell_type": "code",
   "execution_count": 162,
   "metadata": {},
   "outputs": [],
   "source": [
    "assembly_df['growth_tmp'] = assembly_df['species_taxid'].apply(lambda sid: species_traits.loc[sid]['growth_tmp'])"
   ]
  },
  {
   "cell_type": "code",
   "execution_count": 163,
   "metadata": {},
   "outputs": [
    {
     "data": {
      "image/png": "[encoded data removed]",
      "text/plain": [
       "<Figure size 864x432 with 1 Axes>"
      ]
     },
     "metadata": {},
     "output_type": "display_data"
    }
   ],
   "source": [
    "assembly_df['growth_tmp'].hist(figsize=(12, 6), bins=100, log=True);"
   ]
  },
  {
   "cell_type": "code",
   "execution_count": 131,
   "metadata": {},
   "outputs": [],
   "source": [
    "def count_temperatures(temperatures):\n",
    "    categories_count = collections.defaultdict(int)\n",
    "    for i, t in enumerate(temperatures):\n",
    "        if t < 20:\n",
    "            categories_count['psychrophiles'] += 1\n",
    "        elif t >= 20 and t < 45:\n",
    "            categories_count['mesophiles'] += 1\n",
    "        elif t >= 45 and t < 75:\n",
    "            categories_count['thermophiles'] += 1\n",
    "        else:\n",
    "            categories_count['hyperthermophiles'] += 1\n",
    "        \n",
    "    return dict(categories_count)"
   ]
  },
  {
   "cell_type": "code",
   "execution_count": 132,
   "metadata": {},
   "outputs": [
    {
     "data": {
      "text/plain": [
       "{'mesophiles': 2226,\n",
       " 'thermophiles': 746,\n",
       " 'hyperthermophiles': 154,\n",
       " 'psychrophiles': 344}"
      ]
     },
     "execution_count": 132,
     "metadata": {},
     "output_type": "execute_result"
    }
   ],
   "source": [
    "count_temperatures(assembly_df['growth_tmp'].values)"
   ]
  },
  {
   "cell_type": "markdown",
   "metadata": {},
   "source": [
    "## One off move from data/condensed_traits/sequences to data/sequences"
   ]
  },
  {
   "cell_type": "code",
   "execution_count": 138,
   "metadata": {},
   "outputs": [],
   "source": [
    "def move_existing_sequences(already_downloaded_df):\n",
    "    base_path = os.path.join(os.getcwd(), 'data')\n",
    "    old_sequences_folder = os.path.join(base_path, 'condensed_traits/sequences')\n",
    "    new_sequences_folder = os.path.join(base_path, 'sequences')\n",
    "    \n",
    "    for tpl in already_downloaded_df.itertuples():\n",
    "        species_taxid = tpl.species_taxid\n",
    "        assembly_accession = tpl.assembly_accession\n",
    "        \n",
    "        new_dir = os.path.join(new_sequences_folder, f'{assembly_accession}')\n",
    "        Path(new_dir).mkdir(parents=True, exist_ok=True)\n",
    "        \n",
    "        sources = [\n",
    "            os.path.join(old_sequences_folder, f'{species_taxid}/{species_taxid}_genomic.fna.gz'),\n",
    "            os.path.join(old_sequences_folder, f'{species_taxid}/{species_taxid}_genomic.gff.gz'),\n",
    "            os.path.join(old_sequences_folder, f'{species_taxid}/{species_taxid}_protein.faa.gz'),\n",
    "            os.path.join(old_sequences_folder, f'{species_taxid}/{species_taxid}_cds_from_genomic.fna.gz'),\n",
    "            os.path.join(old_sequences_folder, f'{species_taxid}/{species_taxid}_rna_from_genomic.fna.gz'),\n",
    "        ]\n",
    "        destinations = [\n",
    "            os.path.join(new_sequences_folder, f'{assembly_accession}/{assembly_accession}_genomic.fna.gz'),\n",
    "            os.path.join(new_sequences_folder, f'{assembly_accession}/{assembly_accession}_genomic.gff.gz'),\n",
    "            os.path.join(new_sequences_folder, f'{assembly_accession}/{assembly_accession}_protein.faa.gz'),\n",
    "            os.path.join(new_sequences_folder, f'{assembly_accession}/{assembly_accession}_cds_from_genomic.fna.gz'),\n",
    "            os.path.join(new_sequences_folder, f'{assembly_accession}/{assembly_accession}_rna_from_genomic.fna.gz'),\n",
    "        ]\n",
    "        for i, src in enumerate(sources):\n",
    "            dst = destinations[i]\n",
    "            shutil.copyfile(src, dst)"
   ]
  },
  {
   "cell_type": "code",
   "execution_count": 140,
   "metadata": {},
   "outputs": [],
   "source": [
    "# move_existing_sequences(already_downloaded_df)"
   ]
  },
  {
   "cell_type": "code",
   "execution_count": null,
   "metadata": {},
   "outputs": [],
   "source": []
  },
  {
   "cell_type": "markdown",
   "metadata": {},
   "source": [
    "## Results"
   ]
  },
  {
   "cell_type": "code",
   "execution_count": 167,
   "metadata": {},
   "outputs": [],
   "source": [
    "assembly_final = pd.read_csv(os.path.join(os.getcwd(), 'data/NCBI_assemblies_final.csv'))"
   ]
  },
  {
   "cell_type": "code",
   "execution_count": 168,
   "metadata": {},
   "outputs": [],
   "source": [
    "assembly_final['growth_tmp'] = assembly_final['species_taxid'].apply(\n",
    "    lambda sid: species_traits.loc[sid]['growth_tmp'])"
   ]
  },
  {
   "cell_type": "code",
   "execution_count": 169,
   "metadata": {},
   "outputs": [
    {
     "data": {
      "image/png": "[encoded data removed]",
      "text/plain": [
       "<Figure size 864x432 with 1 Axes>"
      ]
     },
     "metadata": {},
     "output_type": "display_data"
    }
   ],
   "source": [
    "assembly_final['growth_tmp'].hist(figsize=(12, 6), bins=100, log=True);"
   ]
  },
  {
   "cell_type": "code",
   "execution_count": 170,
   "metadata": {},
   "outputs": [],
   "source": [
    "old_assembly = pd.read_csv(os.path.join(os.getcwd(), 'data/condensed_traits/ncbi_species_final.csv'))\n",
    "old_assembly['growth_tmp'] = old_assembly['species_taxid'].apply(lambda sid: species_traits.loc[sid]['growth_tmp'])"
   ]
  },
  {
   "cell_type": "code",
   "execution_count": 171,
   "metadata": {},
   "outputs": [
    {
     "data": {
      "image/png": "[encoded data removed]",
      "text/plain": [
       "<Figure size 864x432 with 1 Axes>"
      ]
     },
     "metadata": {},
     "output_type": "display_data"
    }
   ],
   "source": [
    "old_assembly['growth_tmp'].hist(figsize=(12, 6), bins=100, log=True);"
   ]
  },
  {
   "cell_type": "code",
   "execution_count": 182,
   "metadata": {},
   "outputs": [
    {
     "data": {
      "image/png": "[encoded data removed]",
      "text/plain": [
       "<Figure size 864x432 with 1 Axes>"
      ]
     },
     "metadata": {},
     "output_type": "display_data"
    }
   ],
   "source": [
    "_, ax = plt.subplots(1, 1, figsize=(12, 6))\n",
    "assembly_final['growth_tmp'].hist(ax=ax, bins=100, log=True, color=palette[0], label='new data');\n",
    "old_assembly['growth_tmp'].hist(ax=ax, bins=100, log=True, color=palette[1], label='previous data');\n",
    "ax.legend();"
   ]
  },
  {
   "cell_type": "code",
   "execution_count": null,
   "metadata": {},
   "outputs": [],
   "source": []
  }
 ],
 "metadata": {
  "kernelspec": {
   "display_name": "Python 3",
   "language": "python",
   "name": "python3"
  },
  "language_info": {
   "codemirror_mode": {
    "name": "ipython",
    "version": 3
   },
   "file_extension": ".py",
   "mimetype": "text/x-python",
   "name": "python",
   "nbconvert_exporter": "python",
   "pygments_lexer": "ipython3",
   "version": "3.7.6"
  }
 },
 "nbformat": 4,
 "nbformat_minor": 4
}
