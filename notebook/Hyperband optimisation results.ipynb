{
 "cells": [
  {
   "cell_type": "code",
   "execution_count": 1,
   "metadata": {},
   "outputs": [],
   "source": [
    "import argparse\n",
    "import os\n",
    "\n",
    "import numpy as np\n",
    "import pandas as pd\n",
    "import matplotlib.pyplot as plt\n",
    "import seaborn as sns\n",
    "import tensorflow as tf\n",
    "from tensorflow import keras\n",
    "import tensorflow_probability as tfp\n",
    "import kerastuner as kt\n",
    "from kerastuner.tuners import Hyperband\n",
    "\n",
    "if os.getcwd().endswith('notebook'):\n",
    "    os.chdir('..')\n",
    "\n",
    "from rna_learn.alphabet import ALPHABET_DNA, ALPHABET_PROTEIN\n",
    "from rna_learn.transform import (\n",
    "    sequence_embedding, \n",
    "    normalize, denormalize,\n",
    "    one_hot_encode_classes,\n",
    "    split_train_test_set,\n",
    "    combine_sequences,\n",
    ")\n",
    "from rna_learn.hyperband import hyperband_densenet_model"
   ]
  },
  {
   "cell_type": "code",
   "execution_count": 2,
   "metadata": {},
   "outputs": [],
   "source": [
    "sns.set(palette='colorblind', font_scale=1.3)"
   ]
  },
  {
   "cell_type": "markdown",
   "metadata": {},
   "source": [
    "## Hyperband optimisation results"
   ]
  },
  {
   "cell_type": "code",
   "execution_count": 3,
   "metadata": {},
   "outputs": [
    {
     "name": "stdout",
     "output_type": "stream",
     "text": [
      "INFO:tensorflow:Reloading Oracle from existing project ./hyperband_logs/protein_4gtcy/oracle.json\n",
      "INFO:tensorflow:Reloading Tuner from ./hyperband_logs/protein_4gtcy/tuner0.json\n"
     ]
    }
   ],
   "source": [
    "hyperband_run_id = 'protein_4gtcy'\n",
    "\n",
    "build_model_fn = hyperband_densenet_model(n_inputs=len(ALPHABET_PROTEIN))\n",
    "\n",
    "hypermodel = Hyperband(\n",
    "    build_model_fn,\n",
    "    max_epochs=200,\n",
    "    objective=kt.Objective('val_loss', 'min'),\n",
    "    factor=3,\n",
    "    hyperband_iterations=1,\n",
    "    project_name=f'hyperband_logs/{hyperband_run_id}',\n",
    ")"
   ]
  },
  {
   "cell_type": "code",
   "execution_count": 4,
   "metadata": {},
   "outputs": [],
   "source": [
    "best_hyperparameters_sets = hypermodel.get_best_hyperparameters()"
   ]
  },
  {
   "cell_type": "code",
   "execution_count": 5,
   "metadata": {},
   "outputs": [],
   "source": [
    "best_hyperparameters = best_hyperparameters_sets[0]"
   ]
  },
  {
   "cell_type": "code",
   "execution_count": 6,
   "metadata": {},
   "outputs": [
    {
     "data": {
      "text/plain": [
       "{'n_layers': 14,\n",
       " 'growth_rate': 14,\n",
       " 'l2_reg_conv': 1e-05,\n",
       " 'l2_reg_mean_std': 1e-05,\n",
       " 'learning_rate': 0.0005,\n",
       " 'kernel_size_l1': 2,\n",
       " 'kernel_size_l2': 3,\n",
       " 'kernel_size_l3': 5,\n",
       " 'kernel_size_l4': 4,\n",
       " 'kernel_size_l5': 3,\n",
       " 'kernel_size_l6': 3,\n",
       " 'kernel_size_l7': 3,\n",
       " 'kernel_size_l8': 3,\n",
       " 'kernel_size_l9': 3,\n",
       " 'kernel_size_l10': 5,\n",
       " 'kernel_size_l11': 4,\n",
       " 'kernel_size_l12': 4,\n",
       " 'kernel_size_l13': 3,\n",
       " 'kernel_size_l14': 3,\n",
       " 'kernel_size_l15': 4,\n",
       " 'kernel_size_l16': 5,\n",
       " 'kernel_size_l17': 5,\n",
       " 'kernel_size_l18': 5,\n",
       " 'kernel_size_l19': 3,\n",
       " 'kernel_size_l20': 3,\n",
       " 'tuner/epochs': 67,\n",
       " 'tuner/initial_epoch': 23,\n",
       " 'tuner/bracket': 2,\n",
       " 'tuner/round': 1,\n",
       " 'tuner/trial_id': '2e24aa8caad2bcf505ca5cbbb899285d'}"
      ]
     },
     "execution_count": 6,
     "metadata": {},
     "output_type": "execute_result"
    }
   ],
   "source": [
    "best_hyperparameters.values"
   ]
  },
  {
   "cell_type": "code",
   "execution_count": 26,
   "metadata": {},
   "outputs": [
    {
     "data": {
      "text/plain": [
       "'2e24aa8caad2bcf505ca5cbbb899285d'"
      ]
     },
     "execution_count": 26,
     "metadata": {},
     "output_type": "execute_result"
    }
   ],
   "source": [
    "best_trial_id = best_hyperparameters.values['tuner/trial_id']\n",
    "best_trial_id"
   ]
  },
  {
   "cell_type": "code",
   "execution_count": 7,
   "metadata": {},
   "outputs": [
    {
     "name": "stdout",
     "output_type": "stream",
     "text": [
      "WARNING:tensorflow:Inconsistent references when loading the checkpoint into this object graph. Either the Trackable object references in the Python program have changed in an incompatible way, or the checkpoint was generated in an incompatible program.\n",
      "\n",
      "Two checkpoint references resolved to different objects (<tensorflow.python.keras.layers.core.Dense object at 0x1425d8e50> and <tensorflow.python.keras.layers.pooling.GlobalAveragePooling1D object at 0x1425d13d0>).\n"
     ]
    }
   ],
   "source": [
    "best_model = hypermodel.get_best_models(1)[0]"
   ]
  },
  {
   "cell_type": "code",
   "execution_count": 8,
   "metadata": {},
   "outputs": [
    {
     "name": "stdout",
     "output_type": "stream",
     "text": [
      "2 67\n",
      "2 200\n",
      "2 23\n",
      "2 200\n",
      "4 67\n",
      "4 200\n",
      "4 67\n",
      "4 23\n",
      "3 67\n",
      "2 67\n"
     ]
    }
   ],
   "source": [
    "for hp in hypermodel.get_best_hyperparameters(10):\n",
    "    print(hp.values['tuner/bracket'], hp.values['tuner/epochs'])"
   ]
  },
  {
   "cell_type": "code",
   "execution_count": 51,
   "metadata": {},
   "outputs": [
    {
     "name": "stdout",
     "output_type": "stream",
     "text": [
      "Number of parameters set tried: 254\n"
     ]
    }
   ],
   "source": [
    "print('Number of parameters set tried:', len(hypermodel.oracle.trials))"
   ]
  },
  {
   "cell_type": "markdown",
   "metadata": {},
   "source": [
    "## Best model evaluation"
   ]
  },
  {
   "cell_type": "code",
   "execution_count": 9,
   "metadata": {},
   "outputs": [],
   "source": [
    "train_set_path = os.path.join(os.getcwd(), 'data/gtdb/dataset_test.csv')\n",
    "test_set_path = os.path.join(os.getcwd(), 'data/gtdb/dataset_test.csv')\n",
    "\n",
    "train_df = pd.read_csv(train_set_path)\n",
    "dataset_df = pd.read_csv(test_set_path)"
   ]
  },
  {
   "cell_type": "code",
   "execution_count": 10,
   "metadata": {},
   "outputs": [],
   "source": [
    "y_train = train_df['temperature'].values.astype('float64')\n",
    "mean, std = np.mean(y_train), np.std(y_train)\n",
    "\n",
    "dna_sequences = dataset_df['mrna_candidate_sequence'].values\n",
    "protein_sequences = dataset_df['amino_acid_sequence'].values\n",
    "\n",
    "x_protein = sequence_embedding(protein_sequences, ALPHABET_PROTEIN, dtype='float32')\n",
    "y = dataset_df['temperature'].values.astype('float32')\n",
    "y_norm = normalize(y, mean, std)"
   ]
  },
  {
   "cell_type": "code",
   "execution_count": 11,
   "metadata": {},
   "outputs": [
    {
     "name": "stdout",
     "output_type": "stream",
     "text": [
      "CPU times: user 3.95 s, sys: 555 ms, total: 4.51 s\n",
      "Wall time: 1.55 s\n"
     ]
    },
    {
     "data": {
      "text/plain": [
       "1.4926798137195585"
      ]
     },
     "execution_count": 11,
     "metadata": {},
     "output_type": "execute_result"
    }
   ],
   "source": [
    "%%time\n",
    "best_model.evaluate(x_protein, y_norm, verbose=0)"
   ]
  },
  {
   "cell_type": "code",
   "execution_count": 12,
   "metadata": {},
   "outputs": [],
   "source": [
    "y_hat = best_model(x_protein)\n",
    "y_mean = denormalize(y_hat.mean().numpy(), mean, std)\n",
    "y_std = denormalize(y_hat.stddev().numpy(), mean, std)"
   ]
  },
  {
   "cell_type": "code",
   "execution_count": 13,
   "metadata": {},
   "outputs": [
    {
     "name": "stdout",
     "output_type": "stream",
     "text": [
      "Mean Absolute Error    = 10.33\n",
      "Root Mean Square Error = 13.25\n",
      "Correlation            = 0.61\n"
     ]
    }
   ],
   "source": [
    "mae = np.mean(np.abs(y_mean.flatten() - y))\n",
    "rmse = np.sqrt(np.mean((y_mean.flatten() - y) **2))\n",
    "correlation = np.corrcoef(y, y_mean.flatten())[0, 1]\n",
    "\n",
    "print(f'Mean Absolute Error    = {mae:.2f}')\n",
    "print(f'Root Mean Square Error = {rmse:.2f}')\n",
    "print(f'Correlation            = {correlation:.2f}')"
   ]
  },
  {
   "cell_type": "code",
   "execution_count": 46,
   "metadata": {},
   "outputs": [],
   "source": [
    "def predictions_per_specie(dataset_df, y_true, y_pred):\n",
    "    y_species_pred = []\n",
    "    y_species_actual = []\n",
    "    y_species_pred_std  = []\n",
    "    \n",
    "    sequence_ids = sorted(dataset_df['gtdb_genome_representative'].unique().tolist())\n",
    "    for sequence_id in sequence_ids:\n",
    "        indices = dataset_df[dataset_df['gtdb_genome_representative'] == sequence_id].index\n",
    "        \n",
    "        truth = y_true[indices[0]]\n",
    "        prediction = np.mean(y_pred[indices])\n",
    "        prediction_std = np.std(y_pred[indices])\n",
    "        \n",
    "        y_species_actual.append(truth)\n",
    "        y_species_pred.append(prediction)\n",
    "        y_species_pred_std.append(prediction_std)\n",
    "    \n",
    "    return np.array(y_species_actual), np.array(y_species_pred), np.array(y_species_pred_std)"
   ]
  },
  {
   "cell_type": "code",
   "execution_count": 15,
   "metadata": {},
   "outputs": [],
   "source": [
    "def plot_true_vs_prediction_per_specie(y_true, y_pred):\n",
    "    f, ax = plt.subplots(1, 1, figsize=(8, 8))\n",
    "    \n",
    "    palette = sns.color_palette()\n",
    "    \n",
    "    x_straight = range(0, 80)\n",
    "    ax.plot(x_straight, x_straight, '--', color=palette[1], linewidth=2)\n",
    "    \n",
    "    for i in range(len(y_true)):\n",
    "        y_t = y_true[i]\n",
    "        y_p = y_pred[i]\n",
    "        ax.plot(y_t, y_p, 'o', color=palette[0])\n",
    "    \n",
    "    ax.set_xlim(0, 80)\n",
    "    ax.set_ylim(0, 80)\n",
    "    ax.set_xlabel('Temperature °C (truth)')\n",
    "    ax.set_ylabel('Temperature °C (prediction)')\n",
    "    return f, ax"
   ]
  },
  {
   "cell_type": "code",
   "execution_count": 47,
   "metadata": {},
   "outputs": [],
   "source": [
    "y_species_actual, y_species_pred, y_species_pred_std = predictions_per_specie(dataset_df, y, y_mean)"
   ]
  },
  {
   "cell_type": "code",
   "execution_count": 17,
   "metadata": {},
   "outputs": [],
   "source": [
    "mae_species = np.mean(np.abs(y_species_pred.flatten() - y_species_actual))\n",
    "rmse_species = np.sqrt(np.mean((y_species_pred.flatten() - y_species_actual) **2))\n",
    "corr_species = np.corrcoef(y_species_actual, y_species_pred.flatten())[0, 1]"
   ]
  },
  {
   "cell_type": "code",
   "execution_count": 18,
   "metadata": {},
   "outputs": [
    {
     "data": {
      "image/png": "[encoded data removed]",
      "text/plain": [
       "<Figure size 576x576 with 1 Axes>"
      ]
     },
     "metadata": {},
     "output_type": "display_data"
    }
   ],
   "source": [
    "f, ax = plot_true_vs_prediction_per_specie(y_species_actual, y_species_pred);\n",
    "title = f'Predictions aggregated per specie\\n\\n'\n",
    "title += f'MAE : {mae_species:.2f} °C | '\n",
    "title += f'RMSE: {rmse_species:.2f} °C | '\n",
    "title += f'Corr: {corr_species:.2f}'\n",
    "ax.set_title(title);"
   ]
  },
  {
   "cell_type": "code",
   "execution_count": null,
   "metadata": {},
   "outputs": [],
   "source": []
  }
 ],
 "metadata": {
  "kernelspec": {
   "display_name": "Python 3",
   "language": "python",
   "name": "python3"
  },
  "language_info": {
   "codemirror_mode": {
    "name": "ipython",
    "version": 3
   },
   "file_extension": ".py",
   "mimetype": "text/x-python",
   "name": "python",
   "nbconvert_exporter": "python",
   "pygments_lexer": "ipython3",
   "version": "3.7.6"
  }
 },
 "nbformat": 4,
 "nbformat_minor": 4
}
