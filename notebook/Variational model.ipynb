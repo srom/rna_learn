{
 "cells": [
  {
   "cell_type": "code",
   "execution_count": 1,
   "metadata": {},
   "outputs": [],
   "source": [
    "import argparse\n",
    "import os\n",
    "\n",
    "import numpy as np\n",
    "import pandas as pd\n",
    "import matplotlib.pyplot as plt\n",
    "import seaborn as sns\n",
    "import tensorflow as tf\n",
    "from tensorflow import keras\n",
    "import tensorflow_probability as tfp\n",
    "\n",
    "if os.getcwd().endswith('notebook'):\n",
    "    os.chdir('..')\n",
    "\n",
    "from rna_learn.alphabet import ALPHABET_DNA\n",
    "from rna_learn.model import variational_conv1d_densenet, compile_variational_model"
   ]
  },
  {
   "cell_type": "code",
   "execution_count": 2,
   "metadata": {},
   "outputs": [
    {
     "name": "stdout",
     "output_type": "stream",
     "text": [
      "WARNING:tensorflow:From /Users/srom/workspace/rna_learn/env/lib/python3.7/site-packages/tensorflow_core/python/ops/linalg/linear_operator_lower_triangular.py:158: calling LinearOperator.__init__ (from tensorflow.python.ops.linalg.linear_operator) with graph_parents is deprecated and will be removed in a future version.\n",
      "Instructions for updating:\n",
      "Do not pass `graph_parents`.  They will  no longer be used.\n"
     ]
    }
   ],
   "source": [
    "prior, encoder, decoder, model = variational_conv1d_densenet(\n",
    "    encoding_size=10,\n",
    "    alphabet_size=len(ALPHABET_DNA),\n",
    "    growth_rate=12,\n",
    "    n_layers=10,\n",
    "    kernel_sizes=[3, 2, 4, 4, 8, 3, 2, 7, 9, 10],\n",
    "    strides=None,\n",
    "    decoder_n_hidden=100,\n",
    "    l2_reg=1e-5,\n",
    "    dropout=0.5,\n",
    ")"
   ]
  },
  {
   "cell_type": "code",
   "execution_count": 3,
   "metadata": {},
   "outputs": [],
   "source": [
    "compile_variational_model(model, learning_rate=5e-4)"
   ]
  },
  {
   "cell_type": "code",
   "execution_count": 5,
   "metadata": {},
   "outputs": [
    {
     "name": "stdout",
     "output_type": "stream",
     "text": [
      "Model: \"model\"\n",
      "__________________________________________________________________________________________________\n",
      "Layer (type)                    Output Shape         Param #     Connected to                     \n",
      "==================================================================================================\n",
      "sequence (InputLayer)           [(None, None, 4)]    0                                            \n",
      "__________________________________________________________________________________________________\n",
      "encoder_conv_1 (Conv1D)         (None, None, 12)     156         sequence[0][0]                   \n",
      "__________________________________________________________________________________________________\n",
      "concat_1 (Concatenate)          (None, None, 16)     0           sequence[0][0]                   \n",
      "                                                                 encoder_conv_1[0][0]             \n",
      "__________________________________________________________________________________________________\n",
      "encoder_conv_2 (Conv1D)         (None, None, 12)     396         concat_1[0][0]                   \n",
      "__________________________________________________________________________________________________\n",
      "concat_2 (Concatenate)          (None, None, 28)     0           concat_1[0][0]                   \n",
      "                                                                 encoder_conv_2[0][0]             \n",
      "__________________________________________________________________________________________________\n",
      "encoder_conv_3 (Conv1D)         (None, None, 12)     1356        concat_2[0][0]                   \n",
      "__________________________________________________________________________________________________\n",
      "concat_3 (Concatenate)          (None, None, 40)     0           concat_2[0][0]                   \n",
      "                                                                 encoder_conv_3[0][0]             \n",
      "__________________________________________________________________________________________________\n",
      "encoder_conv_4 (Conv1D)         (None, None, 12)     1932        concat_3[0][0]                   \n",
      "__________________________________________________________________________________________________\n",
      "concat_4 (Concatenate)          (None, None, 52)     0           concat_3[0][0]                   \n",
      "                                                                 encoder_conv_4[0][0]             \n",
      "__________________________________________________________________________________________________\n",
      "encoder_conv_5 (Conv1D)         (None, None, 12)     5004        concat_4[0][0]                   \n",
      "__________________________________________________________________________________________________\n",
      "concat_5 (Concatenate)          (None, None, 64)     0           concat_4[0][0]                   \n",
      "                                                                 encoder_conv_5[0][0]             \n",
      "__________________________________________________________________________________________________\n",
      "encoder_conv_6 (Conv1D)         (None, None, 12)     2316        concat_5[0][0]                   \n",
      "__________________________________________________________________________________________________\n",
      "concat_6 (Concatenate)          (None, None, 76)     0           concat_5[0][0]                   \n",
      "                                                                 encoder_conv_6[0][0]             \n",
      "__________________________________________________________________________________________________\n",
      "encoder_conv_7 (Conv1D)         (None, None, 12)     1836        concat_6[0][0]                   \n",
      "__________________________________________________________________________________________________\n",
      "concat_7 (Concatenate)          (None, None, 88)     0           concat_6[0][0]                   \n",
      "                                                                 encoder_conv_7[0][0]             \n",
      "__________________________________________________________________________________________________\n",
      "encoder_conv_8 (Conv1D)         (None, None, 12)     7404        concat_7[0][0]                   \n",
      "__________________________________________________________________________________________________\n",
      "concat_8 (Concatenate)          (None, None, 100)    0           concat_7[0][0]                   \n",
      "                                                                 encoder_conv_8[0][0]             \n",
      "__________________________________________________________________________________________________\n",
      "encoder_conv_9 (Conv1D)         (None, None, 12)     10812       concat_8[0][0]                   \n",
      "__________________________________________________________________________________________________\n",
      "concat_9 (Concatenate)          (None, None, 112)    0           concat_8[0][0]                   \n",
      "                                                                 encoder_conv_9[0][0]             \n",
      "__________________________________________________________________________________________________\n",
      "encoder_conv_10 (Conv1D)        (None, None, 12)     13452       concat_9[0][0]                   \n",
      "__________________________________________________________________________________________________\n",
      "tf_op_layer_NotEqual (TensorFlo [(None, None, 4)]    0           sequence[0][0]                   \n",
      "__________________________________________________________________________________________________\n",
      "concat_10 (Concatenate)         (None, None, 124)    0           concat_9[0][0]                   \n",
      "                                                                 encoder_conv_10[0][0]            \n",
      "__________________________________________________________________________________________________\n",
      "tf_op_layer_Any (TensorFlowOpLa [(None, None)]       0           tf_op_layer_NotEqual[0][0]       \n",
      "__________________________________________________________________________________________________\n",
      "logits (GlobalAveragePooling1D) (None, 124)          0           concat_10[0][0]                  \n",
      "__________________________________________________________________________________________________\n",
      "dropout (Dropout)               (None, 124)          0           logits[0][0]                     \n",
      "__________________________________________________________________________________________________\n",
      "encoder_dense_linear (Dense)    (None, 65)           8125        dropout[0][0]                    \n",
      "__________________________________________________________________________________________________\n",
      "multivariate_normal_tri_l (Mult ((None, 10), (None,  0           encoder_dense_linear[0][0]       \n",
      "==================================================================================================\n",
      "Total params: 52,789\n",
      "Trainable params: 52,789\n",
      "Non-trainable params: 0\n",
      "__________________________________________________________________________________________________\n"
     ]
    }
   ],
   "source": [
    "encoder.summary()"
   ]
  },
  {
   "cell_type": "code",
   "execution_count": 6,
   "metadata": {},
   "outputs": [
    {
     "name": "stdout",
     "output_type": "stream",
     "text": [
      "Model: \"model_1\"\n",
      "_________________________________________________________________\n",
      "Layer (type)                 Output Shape              Param #   \n",
      "=================================================================\n",
      "input_1 (InputLayer)         [(None, 10)]              0         \n",
      "_________________________________________________________________\n",
      "decoder_dense_relu_1 (Dense) (None, 100)               1100      \n",
      "_________________________________________________________________\n",
      "dropout_1 (Dropout)          (None, 100)               0         \n",
      "_________________________________________________________________\n",
      "decoder_dense_linear (Dense) (None, 2)                 202       \n",
      "_________________________________________________________________\n",
      "independent_normal (Independ ((None, 1), (None, 1))    1302      \n",
      "=================================================================\n",
      "Total params: 1,302\n",
      "Trainable params: 1,302\n",
      "Non-trainable params: 0\n",
      "_________________________________________________________________\n"
     ]
    }
   ],
   "source": [
    "decoder.summary()"
   ]
  },
  {
   "cell_type": "code",
   "execution_count": null,
   "metadata": {},
   "outputs": [],
   "source": []
  }
 ],
 "metadata": {
  "kernelspec": {
   "display_name": "Python 3",
   "language": "python",
   "name": "python3"
  },
  "language_info": {
   "codemirror_mode": {
    "name": "ipython",
    "version": 3
   },
   "file_extension": ".py",
   "mimetype": "text/x-python",
   "name": "python",
   "nbconvert_exporter": "python",
   "pygments_lexer": "ipython3",
   "version": "3.7.6"
  }
 },
 "nbformat": 4,
 "nbformat_minor": 4
}
