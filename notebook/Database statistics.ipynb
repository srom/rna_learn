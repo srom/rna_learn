{
 "cells": [
  {
   "cell_type": "code",
   "execution_count": 43,
   "metadata": {},
   "outputs": [],
   "source": [
    "import os\n",
    "import json\n",
    "import gzip\n",
    "\n",
    "import pandas as pd\n",
    "import numpy as np\n",
    "import matplotlib.pyplot as plt\n",
    "import seaborn as sns\n",
    "from Bio import SeqIO\n",
    "from Bio.Seq import Seq\n",
    "from sqlalchemy import create_engine\n",
    "\n",
    "if os.getcwd().endswith('notebook'):\n",
    "    os.chdir('..')\n",
    "    \n",
    "from preprocessing.sequence_utils import is_valid_cds"
   ]
  },
  {
   "cell_type": "code",
   "execution_count": 2,
   "metadata": {},
   "outputs": [],
   "source": [
    "sns.set(palette='colorblind', font_scale=1.3)"
   ]
  },
  {
   "cell_type": "code",
   "execution_count": 3,
   "metadata": {},
   "outputs": [],
   "source": [
    "db_path = os.path.join(os.getcwd(), 'data/condensed_traits/db/seq.db')\n",
    "engine = create_engine(f'sqlite+pysqlite:///{db_path}')"
   ]
  },
  {
   "cell_type": "markdown",
   "metadata": {},
   "source": [
    "## Number of sequences"
   ]
  },
  {
   "cell_type": "code",
   "execution_count": 4,
   "metadata": {},
   "outputs": [],
   "source": [
    "seq_per_species_query = \"\"\"\n",
    "select \n",
    "    species_taxid, \n",
    "    count(*) as sequence_count,\n",
    "    min(length) as min_length,\n",
    "    max(length) as max_length,\n",
    "    avg(length) as avg_length\n",
    "from sequences\n",
    "group by species_taxid\n",
    "\"\"\" \n",
    "sequence_count_per_species = pd.read_sql(seq_per_species_query, engine).set_index('species_taxid', drop=True)"
   ]
  },
  {
   "cell_type": "code",
   "execution_count": 5,
   "metadata": {},
   "outputs": [
    {
     "data": {
      "text/html": [
       "<div>\n",
       "<style scoped>\n",
       "    .dataframe tbody tr th:only-of-type {\n",
       "        vertical-align: middle;\n",
       "    }\n",
       "\n",
       "    .dataframe tbody tr th {\n",
       "        vertical-align: top;\n",
       "    }\n",
       "\n",
       "    .dataframe thead th {\n",
       "        text-align: right;\n",
       "    }\n",
       "</style>\n",
       "<table border=\"1\" class=\"dataframe\">\n",
       "  <thead>\n",
       "    <tr style=\"text-align: right;\">\n",
       "      <th></th>\n",
       "      <th>sequence_count</th>\n",
       "      <th>min_length</th>\n",
       "      <th>max_length</th>\n",
       "      <th>avg_length</th>\n",
       "    </tr>\n",
       "    <tr>\n",
       "      <th>species_taxid</th>\n",
       "      <th></th>\n",
       "      <th></th>\n",
       "      <th></th>\n",
       "      <th></th>\n",
       "    </tr>\n",
       "  </thead>\n",
       "  <tbody>\n",
       "    <tr>\n",
       "      <th>7</th>\n",
       "      <td>7053</td>\n",
       "      <td>1</td>\n",
       "      <td>18146</td>\n",
       "      <td>913.653481</td>\n",
       "    </tr>\n",
       "    <tr>\n",
       "      <th>9</th>\n",
       "      <td>883</td>\n",
       "      <td>1</td>\n",
       "      <td>11750</td>\n",
       "      <td>857.484711</td>\n",
       "    </tr>\n",
       "    <tr>\n",
       "      <th>11</th>\n",
       "      <td>4517</td>\n",
       "      <td>1</td>\n",
       "      <td>14127</td>\n",
       "      <td>956.019261</td>\n",
       "    </tr>\n",
       "    <tr>\n",
       "      <th>14</th>\n",
       "      <td>2641</td>\n",
       "      <td>1</td>\n",
       "      <td>38224</td>\n",
       "      <td>927.024233</td>\n",
       "    </tr>\n",
       "    <tr>\n",
       "      <th>19</th>\n",
       "      <td>5141</td>\n",
       "      <td>1</td>\n",
       "      <td>16057</td>\n",
       "      <td>856.794982</td>\n",
       "    </tr>\n",
       "  </tbody>\n",
       "</table>\n",
       "</div>"
      ],
      "text/plain": [
       "               sequence_count  min_length  max_length  avg_length\n",
       "species_taxid                                                    \n",
       "7                        7053           1       18146  913.653481\n",
       "9                         883           1       11750  857.484711\n",
       "11                       4517           1       14127  956.019261\n",
       "14                       2641           1       38224  927.024233\n",
       "19                       5141           1       16057  856.794982"
      ]
     },
     "execution_count": 5,
     "metadata": {},
     "output_type": "execute_result"
    }
   ],
   "source": [
    "sequence_count_per_species.head()"
   ]
  },
  {
   "cell_type": "code",
   "execution_count": 6,
   "metadata": {},
   "outputs": [
    {
     "name": "stdout",
     "output_type": "stream",
     "text": [
      "Sequence count\n",
      "Minimum: 166\n",
      "Maximum: 21,020\n",
      "Mean: 5,269\n"
     ]
    }
   ],
   "source": [
    "min_s = sequence_count_per_species['sequence_count'].min()\n",
    "max_s = sequence_count_per_species['sequence_count'].max()\n",
    "avg_s = sequence_count_per_species['sequence_count'].mean()\n",
    "print('Sequence count')\n",
    "print(f'Minimum: {min_s:,}')\n",
    "print(f'Maximum: {max_s:,}')\n",
    "print(f'Mean: {avg_s:,.0f}')"
   ]
  },
  {
   "cell_type": "markdown",
   "metadata": {},
   "source": [
    "## Sequence lengths"
   ]
  },
  {
   "cell_type": "code",
   "execution_count": 7,
   "metadata": {},
   "outputs": [
    {
     "name": "stdout",
     "output_type": "stream",
     "text": [
      "Sequence length\n",
      "Minimum: 1\n",
      "Maximum: 2,201,803\n"
     ]
    }
   ],
   "source": [
    "min_s = sequence_count_per_species['min_length'].min()\n",
    "max_s = sequence_count_per_species['max_length'].max()\n",
    "print('Sequence length')\n",
    "print(f'Minimum: {min_s:,}')\n",
    "print(f'Maximum: {max_s:,}')"
   ]
  },
  {
   "cell_type": "code",
   "execution_count": 8,
   "metadata": {},
   "outputs": [
    {
     "name": "stdout",
     "output_type": "stream",
     "text": [
      "Average sequence length: 899\n"
     ]
    }
   ],
   "source": [
    "avg_sequence_length = pd.read_sql(\n",
    "    'select avg(length) as avg_seq_l from sequences', \n",
    "    engine,\n",
    ").iloc[0]['avg_seq_l']\n",
    "print(f'Average sequence length: {avg_sequence_length:,.0f}')"
   ]
  },
  {
   "cell_type": "code",
   "execution_count": 9,
   "metadata": {},
   "outputs": [
    {
     "data": {
      "text/plain": [
       "19"
      ]
     },
     "execution_count": 9,
     "metadata": {},
     "output_type": "execute_result"
    }
   ],
   "source": [
    "q = 'select distinct(species_taxid) from sequences where length > 100000'\n",
    "length_very_high_species = pd.read_sql(q, engine)['species_taxid'].values\n",
    "len(length_very_high_species)"
   ]
  },
  {
   "cell_type": "code",
   "execution_count": 10,
   "metadata": {},
   "outputs": [
    {
     "data": {
      "text/plain": [
       "array([  2136,   2149,  28227,  51365, 134537, 138853, 214888, 215578,\n",
       "       216427, 216932, 216933, 216934, 216935, 216936, 216937, 216944,\n",
       "       216945, 225999, 362837])"
      ]
     },
     "execution_count": 10,
     "metadata": {},
     "output_type": "execute_result"
    }
   ],
   "source": [
    "length_very_high_species"
   ]
  },
  {
   "cell_type": "code",
   "execution_count": 11,
   "metadata": {},
   "outputs": [],
   "source": [
    "sequence_lengths = pd.read_sql('select length from sequences', engine)['length'].values"
   ]
  },
  {
   "cell_type": "code",
   "execution_count": 104,
   "metadata": {},
   "outputs": [
    {
     "data": {
      "image/png": "[encoded data removed]",
      "text/plain": [
       "<Figure size 864x432 with 1 Axes>"
      ]
     },
     "metadata": {},
     "output_type": "display_data"
    }
   ],
   "source": [
    "_, ax = plt.subplots(1, 1, figsize=(12, 6))\n",
    "bins = [1,     10,    100,   1000, 2000, 3000, 4000, 5000, 6000, 7000, 8000, 9000, 10000, 1e5, 1e6]\n",
    "ax.set_xscale('log');\n",
    "ax.hist(sequence_lengths, bins=bins, log=True);"
   ]
  },
  {
   "cell_type": "code",
   "execution_count": 13,
   "metadata": {},
   "outputs": [
    {
     "data": {
      "text/plain": [
       "[1, 10, 100, 1000, 5000, 10000, 100000.0, 1000000.0]"
      ]
     },
     "execution_count": 13,
     "metadata": {},
     "output_type": "execute_result"
    }
   ],
   "source": [
    "bins"
   ]
  },
  {
   "cell_type": "code",
   "execution_count": 14,
   "metadata": {},
   "outputs": [
    {
     "data": {
      "text/plain": [
       "'(2136,2149,28227,51365,134537,138853,214888,215578,216427,216932,216933,216934,216935,216936,216937,216944,216945,225999,362837)'"
      ]
     },
     "execution_count": 14,
     "metadata": {},
     "output_type": "execute_result"
    }
   ],
   "source": [
    "specie_taxids_str = '(' + ','.join([str(s) for s in length_very_high_species]) + ')'\n",
    "specie_taxids_str"
   ]
  },
  {
   "cell_type": "code",
   "execution_count": 15,
   "metadata": {},
   "outputs": [
    {
     "data": {
      "text/plain": [
       "array(['non_coding'], dtype=object)"
      ]
     },
     "execution_count": 15,
     "metadata": {},
     "output_type": "execute_result"
    }
   ],
   "source": [
    "q = (\n",
    "    f'select distinct(sequence_type) as sequence_type from sequences where species_taxid in {specie_taxids_str} '\n",
    "    'and length > 100000'\n",
    ")\n",
    "pd.read_sql(q, engine)['sequence_type'].values"
   ]
  },
  {
   "cell_type": "code",
   "execution_count": 77,
   "metadata": {},
   "outputs": [],
   "source": [
    "q = \"\"\"\n",
    "select \n",
    "    species_taxid, \n",
    "    cast(sum(length) / 1000 as integer) as cds_total_length\n",
    "from sequences\n",
    "where sequence_type = 'CDS'\n",
    "group by species_taxid\n",
    "\"\"\" \n",
    "s1 = pd.read_sql(q, engine)"
   ]
  },
  {
   "cell_type": "code",
   "execution_count": 78,
   "metadata": {},
   "outputs": [],
   "source": [
    "q = \"\"\"\n",
    "select \n",
    "    species_taxid, \n",
    "    cast(sum(length) / 1000 as integer) as non_coding_total_length\n",
    "from sequences\n",
    "where sequence_type = 'non_coding'\n",
    "group by species_taxid\n",
    "\"\"\" \n",
    "s2 = pd.read_sql(q, engine)"
   ]
  },
  {
   "cell_type": "code",
   "execution_count": 79,
   "metadata": {},
   "outputs": [
    {
     "data": {
      "text/html": [
       "<div>\n",
       "<style scoped>\n",
       "    .dataframe tbody tr th:only-of-type {\n",
       "        vertical-align: middle;\n",
       "    }\n",
       "\n",
       "    .dataframe tbody tr th {\n",
       "        vertical-align: top;\n",
       "    }\n",
       "\n",
       "    .dataframe thead th {\n",
       "        text-align: right;\n",
       "    }\n",
       "</style>\n",
       "<table border=\"1\" class=\"dataframe\">\n",
       "  <thead>\n",
       "    <tr style=\"text-align: right;\">\n",
       "      <th></th>\n",
       "      <th>cds_total_length</th>\n",
       "      <th>non_coding_total_length</th>\n",
       "    </tr>\n",
       "    <tr>\n",
       "      <th>species_taxid</th>\n",
       "      <th></th>\n",
       "      <th></th>\n",
       "    </tr>\n",
       "  </thead>\n",
       "  <tbody>\n",
       "    <tr>\n",
       "      <th>7</th>\n",
       "      <td>4829</td>\n",
       "      <td>1596</td>\n",
       "    </tr>\n",
       "    <tr>\n",
       "      <th>9</th>\n",
       "      <td>534</td>\n",
       "      <td>214</td>\n",
       "    </tr>\n",
       "    <tr>\n",
       "      <th>11</th>\n",
       "      <td>3217</td>\n",
       "      <td>1086</td>\n",
       "    </tr>\n",
       "    <tr>\n",
       "      <th>14</th>\n",
       "      <td>1829</td>\n",
       "      <td>604</td>\n",
       "    </tr>\n",
       "    <tr>\n",
       "      <th>19</th>\n",
       "      <td>3184</td>\n",
       "      <td>1202</td>\n",
       "    </tr>\n",
       "  </tbody>\n",
       "</table>\n",
       "</div>"
      ],
      "text/plain": [
       "               cds_total_length  non_coding_total_length\n",
       "species_taxid                                           \n",
       "7                          4829                     1596\n",
       "9                           534                      214\n",
       "11                         3217                     1086\n",
       "14                         1829                      604\n",
       "19                         3184                     1202"
      ]
     },
     "execution_count": 79,
     "metadata": {},
     "output_type": "execute_result"
    }
   ],
   "source": [
    "s = pd.merge(s1, s2, on='species_taxid').set_index('species_taxid', drop=True)\n",
    "s.head()"
   ]
  },
  {
   "cell_type": "code",
   "execution_count": 87,
   "metadata": {},
   "outputs": [],
   "source": [
    "s['coding_ratio'] = s.apply(\n",
    "    lambda row: row['cds_total_length'] / (row['cds_total_length'] + row['non_coding_total_length']), \n",
    "    axis=1,\n",
    ")"
   ]
  },
  {
   "cell_type": "code",
   "execution_count": 88,
   "metadata": {},
   "outputs": [
    {
     "data": {
      "text/html": [
       "<div>\n",
       "<style scoped>\n",
       "    .dataframe tbody tr th:only-of-type {\n",
       "        vertical-align: middle;\n",
       "    }\n",
       "\n",
       "    .dataframe tbody tr th {\n",
       "        vertical-align: top;\n",
       "    }\n",
       "\n",
       "    .dataframe thead th {\n",
       "        text-align: right;\n",
       "    }\n",
       "</style>\n",
       "<table border=\"1\" class=\"dataframe\">\n",
       "  <thead>\n",
       "    <tr style=\"text-align: right;\">\n",
       "      <th></th>\n",
       "      <th>cds_total_length</th>\n",
       "      <th>non_coding_total_length</th>\n",
       "      <th>coding_ratio</th>\n",
       "    </tr>\n",
       "    <tr>\n",
       "      <th>species_taxid</th>\n",
       "      <th></th>\n",
       "      <th></th>\n",
       "      <th></th>\n",
       "    </tr>\n",
       "  </thead>\n",
       "  <tbody>\n",
       "    <tr>\n",
       "      <th>7</th>\n",
       "      <td>4829</td>\n",
       "      <td>1596</td>\n",
       "      <td>0.751595</td>\n",
       "    </tr>\n",
       "    <tr>\n",
       "      <th>9</th>\n",
       "      <td>534</td>\n",
       "      <td>214</td>\n",
       "      <td>0.713904</td>\n",
       "    </tr>\n",
       "    <tr>\n",
       "      <th>11</th>\n",
       "      <td>3217</td>\n",
       "      <td>1086</td>\n",
       "      <td>0.747618</td>\n",
       "    </tr>\n",
       "    <tr>\n",
       "      <th>14</th>\n",
       "      <td>1829</td>\n",
       "      <td>604</td>\n",
       "      <td>0.751747</td>\n",
       "    </tr>\n",
       "    <tr>\n",
       "      <th>19</th>\n",
       "      <td>3184</td>\n",
       "      <td>1202</td>\n",
       "      <td>0.725946</td>\n",
       "    </tr>\n",
       "    <tr>\n",
       "      <th>...</th>\n",
       "      <td>...</td>\n",
       "      <td>...</td>\n",
       "      <td>...</td>\n",
       "    </tr>\n",
       "    <tr>\n",
       "      <th>1813871</th>\n",
       "      <td>4681</td>\n",
       "      <td>1821</td>\n",
       "      <td>0.719932</td>\n",
       "    </tr>\n",
       "    <tr>\n",
       "      <th>1833852</th>\n",
       "      <td>2700</td>\n",
       "      <td>1186</td>\n",
       "      <td>0.694802</td>\n",
       "    </tr>\n",
       "    <tr>\n",
       "      <th>1835254</th>\n",
       "      <td>1890</td>\n",
       "      <td>596</td>\n",
       "      <td>0.760257</td>\n",
       "    </tr>\n",
       "    <tr>\n",
       "      <th>1945662</th>\n",
       "      <td>2617</td>\n",
       "      <td>968</td>\n",
       "      <td>0.729986</td>\n",
       "    </tr>\n",
       "    <tr>\n",
       "      <th>1985254</th>\n",
       "      <td>4303</td>\n",
       "      <td>1939</td>\n",
       "      <td>0.689362</td>\n",
       "    </tr>\n",
       "  </tbody>\n",
       "</table>\n",
       "<p>2358 rows × 3 columns</p>\n",
       "</div>"
      ],
      "text/plain": [
       "               cds_total_length  non_coding_total_length  coding_ratio\n",
       "species_taxid                                                         \n",
       "7                          4829                     1596      0.751595\n",
       "9                           534                      214      0.713904\n",
       "11                         3217                     1086      0.747618\n",
       "14                         1829                      604      0.751747\n",
       "19                         3184                     1202      0.725946\n",
       "...                         ...                      ...           ...\n",
       "1813871                    4681                     1821      0.719932\n",
       "1833852                    2700                     1186      0.694802\n",
       "1835254                    1890                      596      0.760257\n",
       "1945662                    2617                      968      0.729986\n",
       "1985254                    4303                     1939      0.689362\n",
       "\n",
       "[2358 rows x 3 columns]"
      ]
     },
     "execution_count": 88,
     "metadata": {},
     "output_type": "execute_result"
    }
   ],
   "source": [
    "s"
   ]
  },
  {
   "cell_type": "code",
   "execution_count": 89,
   "metadata": {},
   "outputs": [
    {
     "data": {
      "image/png": "[encoded data removed]",
      "text/plain": [
       "<Figure size 864x432 with 1 Axes>"
      ]
     },
     "metadata": {},
     "output_type": "display_data"
    }
   ],
   "source": [
    "_, ax = plt.subplots(1, 1, figsize=(12, 6))\n",
    "ax.hist(s['coding_ratio'], bins=20, log=True);"
   ]
  },
  {
   "cell_type": "code",
   "execution_count": 95,
   "metadata": {},
   "outputs": [],
   "source": [
    "low_coding_ratio_species = s[s['coding_ratio'] < 0.2].index.tolist()"
   ]
  },
  {
   "cell_type": "code",
   "execution_count": null,
   "metadata": {},
   "outputs": [],
   "source": []
  }
 ],
 "metadata": {
  "kernelspec": {
   "display_name": "Python 3",
   "language": "python",
   "name": "python3"
  },
  "language_info": {
   "codemirror_mode": {
    "name": "ipython",
    "version": 3
   },
   "file_extension": ".py",
   "mimetype": "text/x-python",
   "name": "python",
   "nbconvert_exporter": "python",
   "pygments_lexer": "ipython3",
   "version": "3.7.6"
  }
 },
 "nbformat": 4,
 "nbformat_minor": 4
}
