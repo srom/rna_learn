{
 "cells": [
  {
   "cell_type": "code",
   "execution_count": 43,
   "metadata": {},
   "outputs": [],
   "source": [
    "import os\n",
    "import json\n",
    "import gzip\n",
    "\n",
    "import pandas as pd\n",
    "import numpy as np\n",
    "import matplotlib.pyplot as plt\n",
    "import seaborn as sns\n",
    "from Bio import SeqIO\n",
    "from Bio.Seq import Seq\n",
    "from sqlalchemy import create_engine\n",
    "\n",
    "if os.getcwd().endswith('notebook'):\n",
    "    os.chdir('..')\n",
    "    \n",
    "from preprocessing.sequence_utils import is_valid_cds"
   ]
  },
  {
   "cell_type": "code",
   "execution_count": 2,
   "metadata": {},
   "outputs": [],
   "source": [
    "sns.set(palette='colorblind', font_scale=1.3)"
   ]
  },
  {
   "cell_type": "code",
   "execution_count": 3,
   "metadata": {},
   "outputs": [],
   "source": [
    "db_path = os.path.join(os.getcwd(), 'data/condensed_traits/db/seq.db')\n",
    "engine = create_engine(f'sqlite+pysqlite:///{db_path}')"
   ]
  },
  {
   "cell_type": "markdown",
   "metadata": {},
   "source": [
    "## Number of sequences"
   ]
  },
  {
   "cell_type": "code",
   "execution_count": 4,
   "metadata": {},
   "outputs": [],
   "source": [
    "seq_per_species_query = \"\"\"\n",
    "select \n",
    "    species_taxid, \n",
    "    count(*) as sequence_count,\n",
    "    min(sequence_length) as min_length,\n",
    "    max(sequence_length) as max_length,\n",
    "    avg(sequence_length) as avg_length\n",
    "from sequences\n",
    "group by species_taxid\n",
    "\"\"\" \n",
    "sequence_count_per_species = pd.read_sql(seq_per_species_query, engine).set_index('species_taxid', drop=True)"
   ]
  },
  {
   "cell_type": "code",
   "execution_count": 5,
   "metadata": {},
   "outputs": [
    {
     "data": {
      "text/html": [
       "<div>\n",
       "<style scoped>\n",
       "    .dataframe tbody tr th:only-of-type {\n",
       "        vertical-align: middle;\n",
       "    }\n",
       "\n",
       "    .dataframe tbody tr th {\n",
       "        vertical-align: top;\n",
       "    }\n",
       "\n",
       "    .dataframe thead th {\n",
       "        text-align: right;\n",
       "    }\n",
       "</style>\n",
       "<table border=\"1\" class=\"dataframe\">\n",
       "  <thead>\n",
       "    <tr style=\"text-align: right;\">\n",
       "      <th></th>\n",
       "      <th>sequence_count</th>\n",
       "      <th>min_length</th>\n",
       "      <th>max_length</th>\n",
       "      <th>avg_length</th>\n",
       "    </tr>\n",
       "    <tr>\n",
       "      <th>species_taxid</th>\n",
       "      <th></th>\n",
       "      <th></th>\n",
       "      <th></th>\n",
       "      <th></th>\n",
       "    </tr>\n",
       "  </thead>\n",
       "  <tbody>\n",
       "    <tr>\n",
       "      <th>7</th>\n",
       "      <td>7053</td>\n",
       "      <td>1</td>\n",
       "      <td>18146</td>\n",
       "      <td>913.653481</td>\n",
       "    </tr>\n",
       "    <tr>\n",
       "      <th>9</th>\n",
       "      <td>883</td>\n",
       "      <td>1</td>\n",
       "      <td>11750</td>\n",
       "      <td>857.484711</td>\n",
       "    </tr>\n",
       "    <tr>\n",
       "      <th>11</th>\n",
       "      <td>4517</td>\n",
       "      <td>1</td>\n",
       "      <td>14127</td>\n",
       "      <td>956.019261</td>\n",
       "    </tr>\n",
       "    <tr>\n",
       "      <th>14</th>\n",
       "      <td>2641</td>\n",
       "      <td>1</td>\n",
       "      <td>38224</td>\n",
       "      <td>927.024233</td>\n",
       "    </tr>\n",
       "    <tr>\n",
       "      <th>19</th>\n",
       "      <td>5141</td>\n",
       "      <td>1</td>\n",
       "      <td>16057</td>\n",
       "      <td>856.794982</td>\n",
       "    </tr>\n",
       "  </tbody>\n",
       "</table>\n",
       "</div>"
      ],
      "text/plain": [
       "               sequence_count  min_length  max_length  avg_length\n",
       "species_taxid                                                    \n",
       "7                        7053           1       18146  913.653481\n",
       "9                         883           1       11750  857.484711\n",
       "11                       4517           1       14127  956.019261\n",
       "14                       2641           1       38224  927.024233\n",
       "19                       5141           1       16057  856.794982"
      ]
     },
     "execution_count": 5,
     "metadata": {},
     "output_type": "execute_result"
    }
   ],
   "source": [
    "sequence_count_per_species.head()"
   ]
  },
  {
   "cell_type": "code",
   "execution_count": 6,
   "metadata": {},
   "outputs": [
    {
     "name": "stdout",
     "output_type": "stream",
     "text": [
      "Sequence count\n",
      "Minimum: 166\n",
      "Maximum: 21,020\n",
      "Mean: 5,269\n"
     ]
    }
   ],
   "source": [
    "min_s = sequence_count_per_species['sequence_count'].min()\n",
    "max_s = sequence_count_per_species['sequence_count'].max()\n",
    "avg_s = sequence_count_per_species['sequence_count'].mean()\n",
    "print('Sequence count')\n",
    "print(f'Minimum: {min_s:,}')\n",
    "print(f'Maximum: {max_s:,}')\n",
    "print(f'Mean: {avg_s:,.0f}')"
   ]
  },
  {
   "cell_type": "markdown",
   "metadata": {},
   "source": [
    "## Sequence lengths"
   ]
  },
  {
   "cell_type": "code",
   "execution_count": 7,
   "metadata": {},
   "outputs": [
    {
     "name": "stdout",
     "output_type": "stream",
     "text": [
      "Sequence length\n",
      "Minimum: 1\n",
      "Maximum: 2,201,803\n"
     ]
    }
   ],
   "source": [
    "min_s = sequence_count_per_species['min_length'].min()\n",
    "max_s = sequence_count_per_species['max_length'].max()\n",
    "print('Sequence length')\n",
    "print(f'Minimum: {min_s:,}')\n",
    "print(f'Maximum: {max_s:,}')"
   ]
  },
  {
   "cell_type": "code",
   "execution_count": 8,
   "metadata": {},
   "outputs": [
    {
     "name": "stdout",
     "output_type": "stream",
     "text": [
      "Average sequence length: 899\n"
     ]
    }
   ],
   "source": [
    "avg_sequence_length = pd.read_sql(\n",
    "    'select avg(sequence_length) as avg_seq_l from sequences', \n",
    "    engine,\n",
    ").iloc[0]['avg_seq_l']\n",
    "print(f'Average sequence length: {avg_sequence_length:,.0f}')"
   ]
  },
  {
   "cell_type": "code",
   "execution_count": 9,
   "metadata": {},
   "outputs": [
    {
     "data": {
      "text/plain": [
       "19"
      ]
     },
     "execution_count": 9,
     "metadata": {},
     "output_type": "execute_result"
    }
   ],
   "source": [
    "q = 'select distinct(species_taxid) from sequences where sequence_length > 100000'\n",
    "length_very_high_species = pd.read_sql(q, engine)['species_taxid'].values\n",
    "len(length_very_high_species)"
   ]
  },
  {
   "cell_type": "code",
   "execution_count": 10,
   "metadata": {},
   "outputs": [
    {
     "data": {
      "text/plain": [
       "array([  2136,   2149,  28227,  51365, 134537, 138853, 214888, 215578,\n",
       "       216427, 216932, 216933, 216934, 216935, 216936, 216937, 216944,\n",
       "       216945, 225999, 362837])"
      ]
     },
     "execution_count": 10,
     "metadata": {},
     "output_type": "execute_result"
    }
   ],
   "source": [
    "length_very_high_species"
   ]
  },
  {
   "cell_type": "code",
   "execution_count": 11,
   "metadata": {},
   "outputs": [],
   "source": [
    "sequence_lengths = pd.read_sql('select sequence_length from sequences', engine)['sequence_length'].values"
   ]
  },
  {
   "cell_type": "code",
   "execution_count": 12,
   "metadata": {},
   "outputs": [
    {
     "data": {
      "image/png": "[encoded data removed]",
      "text/plain": [
       "<Figure size 864x432 with 1 Axes>"
      ]
     },
     "metadata": {},
     "output_type": "display_data"
    }
   ],
   "source": [
    "_, ax = plt.subplots(1, 1, figsize=(12, 6))\n",
    "bins = [1,     10,    100,   1000,  5000, 10000, 1e5, 1e6]\n",
    "ax.set_xscale('log');\n",
    "ax.hist(sequence_lengths, bins=bins);"
   ]
  },
  {
   "cell_type": "code",
   "execution_count": 13,
   "metadata": {},
   "outputs": [
    {
     "data": {
      "text/plain": [
       "[1, 10, 100, 1000, 5000, 10000, 100000.0, 1000000.0]"
      ]
     },
     "execution_count": 13,
     "metadata": {},
     "output_type": "execute_result"
    }
   ],
   "source": [
    "bins"
   ]
  },
  {
   "cell_type": "code",
   "execution_count": 14,
   "metadata": {},
   "outputs": [
    {
     "data": {
      "text/plain": [
       "'(2136,2149,28227,51365,134537,138853,214888,215578,216427,216932,216933,216934,216935,216936,216937,216944,216945,225999,362837)'"
      ]
     },
     "execution_count": 14,
     "metadata": {},
     "output_type": "execute_result"
    }
   ],
   "source": [
    "specie_taxids_str = '(' + ','.join([str(s) for s in length_very_high_species]) + ')'\n",
    "specie_taxids_str"
   ]
  },
  {
   "cell_type": "code",
   "execution_count": 15,
   "metadata": {},
   "outputs": [
    {
     "data": {
      "text/plain": [
       "array(['non_coding'], dtype=object)"
      ]
     },
     "execution_count": 15,
     "metadata": {},
     "output_type": "execute_result"
    }
   ],
   "source": [
    "q = (\n",
    "    f'select distinct(sequence_type) as sequence_type from sequences where species_taxid in {specie_taxids_str} '\n",
    "    'and sequence_length > 100000'\n",
    ")\n",
    "pd.read_sql(q, engine)['sequence_type'].values"
   ]
  },
  {
   "cell_type": "code",
   "execution_count": 77,
   "metadata": {},
   "outputs": [],
   "source": [
    "q = \"\"\"\n",
    "select \n",
    "    species_taxid, \n",
    "    cast(sum(sequence_length) / 1000 as integer) as cds_total_length\n",
    "from sequences\n",
    "where sequence_type = 'CDS'\n",
    "group by species_taxid\n",
    "\"\"\" \n",
    "s1 = pd.read_sql(q, engine)"
   ]
  },
  {
   "cell_type": "code",
   "execution_count": 78,
   "metadata": {},
   "outputs": [],
   "source": [
    "q = \"\"\"\n",
    "select \n",
    "    species_taxid, \n",
    "    cast(sum(sequence_length) / 1000 as integer) as non_coding_total_length\n",
    "from sequences\n",
    "where sequence_type = 'non_coding'\n",
    "group by species_taxid\n",
    "\"\"\" \n",
    "s2 = pd.read_sql(q, engine)"
   ]
  },
  {
   "cell_type": "code",
   "execution_count": 79,
   "metadata": {},
   "outputs": [
    {
     "data": {
      "text/html": [
       "<div>\n",
       "<style scoped>\n",
       "    .dataframe tbody tr th:only-of-type {\n",
       "        vertical-align: middle;\n",
       "    }\n",
       "\n",
       "    .dataframe tbody tr th {\n",
       "        vertical-align: top;\n",
       "    }\n",
       "\n",
       "    .dataframe thead th {\n",
       "        text-align: right;\n",
       "    }\n",
       "</style>\n",
       "<table border=\"1\" class=\"dataframe\">\n",
       "  <thead>\n",
       "    <tr style=\"text-align: right;\">\n",
       "      <th></th>\n",
       "      <th>cds_total_length</th>\n",
       "      <th>non_coding_total_length</th>\n",
       "    </tr>\n",
       "    <tr>\n",
       "      <th>species_taxid</th>\n",
       "      <th></th>\n",
       "      <th></th>\n",
       "    </tr>\n",
       "  </thead>\n",
       "  <tbody>\n",
       "    <tr>\n",
       "      <th>7</th>\n",
       "      <td>4829</td>\n",
       "      <td>1596</td>\n",
       "    </tr>\n",
       "    <tr>\n",
       "      <th>9</th>\n",
       "      <td>534</td>\n",
       "      <td>214</td>\n",
       "    </tr>\n",
       "    <tr>\n",
       "      <th>11</th>\n",
       "      <td>3217</td>\n",
       "      <td>1086</td>\n",
       "    </tr>\n",
       "    <tr>\n",
       "      <th>14</th>\n",
       "      <td>1829</td>\n",
       "      <td>604</td>\n",
       "    </tr>\n",
       "    <tr>\n",
       "      <th>19</th>\n",
       "      <td>3184</td>\n",
       "      <td>1202</td>\n",
       "    </tr>\n",
       "  </tbody>\n",
       "</table>\n",
       "</div>"
      ],
      "text/plain": [
       "               cds_total_length  non_coding_total_length\n",
       "species_taxid                                           \n",
       "7                          4829                     1596\n",
       "9                           534                      214\n",
       "11                         3217                     1086\n",
       "14                         1829                      604\n",
       "19                         3184                     1202"
      ]
     },
     "execution_count": 79,
     "metadata": {},
     "output_type": "execute_result"
    }
   ],
   "source": [
    "s = pd.merge(s1, s2, on='species_taxid').set_index('species_taxid', drop=True)\n",
    "s.head()"
   ]
  },
  {
   "cell_type": "code",
   "execution_count": 87,
   "metadata": {},
   "outputs": [],
   "source": [
    "s['coding_ratio'] = s.apply(\n",
    "    lambda row: row['cds_total_length'] / (row['cds_total_length'] + row['non_coding_total_length']), \n",
    "    axis=1,\n",
    ")"
   ]
  },
  {
   "cell_type": "code",
   "execution_count": 88,
   "metadata": {},
   "outputs": [
    {
     "data": {
      "text/html": [
       "<div>\n",
       "<style scoped>\n",
       "    .dataframe tbody tr th:only-of-type {\n",
       "        vertical-align: middle;\n",
       "    }\n",
       "\n",
       "    .dataframe tbody tr th {\n",
       "        vertical-align: top;\n",
       "    }\n",
       "\n",
       "    .dataframe thead th {\n",
       "        text-align: right;\n",
       "    }\n",
       "</style>\n",
       "<table border=\"1\" class=\"dataframe\">\n",
       "  <thead>\n",
       "    <tr style=\"text-align: right;\">\n",
       "      <th></th>\n",
       "      <th>cds_total_length</th>\n",
       "      <th>non_coding_total_length</th>\n",
       "      <th>coding_ratio</th>\n",
       "    </tr>\n",
       "    <tr>\n",
       "      <th>species_taxid</th>\n",
       "      <th></th>\n",
       "      <th></th>\n",
       "      <th></th>\n",
       "    </tr>\n",
       "  </thead>\n",
       "  <tbody>\n",
       "    <tr>\n",
       "      <th>7</th>\n",
       "      <td>4829</td>\n",
       "      <td>1596</td>\n",
       "      <td>0.751595</td>\n",
       "    </tr>\n",
       "    <tr>\n",
       "      <th>9</th>\n",
       "      <td>534</td>\n",
       "      <td>214</td>\n",
       "      <td>0.713904</td>\n",
       "    </tr>\n",
       "    <tr>\n",
       "      <th>11</th>\n",
       "      <td>3217</td>\n",
       "      <td>1086</td>\n",
       "      <td>0.747618</td>\n",
       "    </tr>\n",
       "    <tr>\n",
       "      <th>14</th>\n",
       "      <td>1829</td>\n",
       "      <td>604</td>\n",
       "      <td>0.751747</td>\n",
       "    </tr>\n",
       "    <tr>\n",
       "      <th>19</th>\n",
       "      <td>3184</td>\n",
       "      <td>1202</td>\n",
       "      <td>0.725946</td>\n",
       "    </tr>\n",
       "    <tr>\n",
       "      <th>...</th>\n",
       "      <td>...</td>\n",
       "      <td>...</td>\n",
       "      <td>...</td>\n",
       "    </tr>\n",
       "    <tr>\n",
       "      <th>1813871</th>\n",
       "      <td>4681</td>\n",
       "      <td>1821</td>\n",
       "      <td>0.719932</td>\n",
       "    </tr>\n",
       "    <tr>\n",
       "      <th>1833852</th>\n",
       "      <td>2700</td>\n",
       "      <td>1186</td>\n",
       "      <td>0.694802</td>\n",
       "    </tr>\n",
       "    <tr>\n",
       "      <th>1835254</th>\n",
       "      <td>1890</td>\n",
       "      <td>596</td>\n",
       "      <td>0.760257</td>\n",
       "    </tr>\n",
       "    <tr>\n",
       "      <th>1945662</th>\n",
       "      <td>2617</td>\n",
       "      <td>968</td>\n",
       "      <td>0.729986</td>\n",
       "    </tr>\n",
       "    <tr>\n",
       "      <th>1985254</th>\n",
       "      <td>4303</td>\n",
       "      <td>1939</td>\n",
       "      <td>0.689362</td>\n",
       "    </tr>\n",
       "  </tbody>\n",
       "</table>\n",
       "<p>2358 rows × 3 columns</p>\n",
       "</div>"
      ],
      "text/plain": [
       "               cds_total_length  non_coding_total_length  coding_ratio\n",
       "species_taxid                                                         \n",
       "7                          4829                     1596      0.751595\n",
       "9                           534                      214      0.713904\n",
       "11                         3217                     1086      0.747618\n",
       "14                         1829                      604      0.751747\n",
       "19                         3184                     1202      0.725946\n",
       "...                         ...                      ...           ...\n",
       "1813871                    4681                     1821      0.719932\n",
       "1833852                    2700                     1186      0.694802\n",
       "1835254                    1890                      596      0.760257\n",
       "1945662                    2617                      968      0.729986\n",
       "1985254                    4303                     1939      0.689362\n",
       "\n",
       "[2358 rows x 3 columns]"
      ]
     },
     "execution_count": 88,
     "metadata": {},
     "output_type": "execute_result"
    }
   ],
   "source": [
    "s"
   ]
  },
  {
   "cell_type": "code",
   "execution_count": 89,
   "metadata": {},
   "outputs": [
    {
     "data": {
      "image/png": "[encoded data removed]",
      "text/plain": [
       "<Figure size 864x432 with 1 Axes>"
      ]
     },
     "metadata": {},
     "output_type": "display_data"
    }
   ],
   "source": [
    "_, ax = plt.subplots(1, 1, figsize=(12, 6))\n",
    "ax.hist(s['coding_ratio'], bins=20, log=True);"
   ]
  },
  {
   "cell_type": "code",
   "execution_count": 95,
   "metadata": {},
   "outputs": [],
   "source": [
    "low_coding_ratio_species = s[s['coding_ratio'] < 0.2].index.tolist()"
   ]
  },
  {
   "cell_type": "code",
   "execution_count": 92,
   "metadata": {},
   "outputs": [
    {
     "data": {
      "text/html": [
       "<div>\n",
       "<style scoped>\n",
       "    .dataframe tbody tr th:only-of-type {\n",
       "        vertical-align: middle;\n",
       "    }\n",
       "\n",
       "    .dataframe tbody tr th {\n",
       "        vertical-align: top;\n",
       "    }\n",
       "\n",
       "    .dataframe thead th {\n",
       "        text-align: right;\n",
       "    }\n",
       "</style>\n",
       "<table border=\"1\" class=\"dataframe\">\n",
       "  <thead>\n",
       "    <tr style=\"text-align: right;\">\n",
       "      <th></th>\n",
       "      <th>species_taxid</th>\n",
       "      <th>taxid</th>\n",
       "      <th>assembly_accession</th>\n",
       "      <th>bioproject</th>\n",
       "      <th>refseq_category</th>\n",
       "      <th>organism_name</th>\n",
       "      <th>infraspecific_name</th>\n",
       "      <th>version_status</th>\n",
       "      <th>assembly_level</th>\n",
       "      <th>release_type</th>\n",
       "      <th>genome_rep</th>\n",
       "      <th>seq_rel_date</th>\n",
       "      <th>asm_name</th>\n",
       "      <th>submitter</th>\n",
       "      <th>gbrs_paired_asm</th>\n",
       "      <th>paired_asm_comp</th>\n",
       "      <th>relation_to_type_material</th>\n",
       "      <th>download_url_base</th>\n",
       "    </tr>\n",
       "  </thead>\n",
       "  <tbody>\n",
       "    <tr>\n",
       "      <th>0</th>\n",
       "      <td>2094</td>\n",
       "      <td>2094</td>\n",
       "      <td>GCA_001547975.1</td>\n",
       "      <td>PRJDB3222</td>\n",
       "      <td>representative genome</td>\n",
       "      <td>Mycoplasma arginini</td>\n",
       "      <td>strain=HAZ145_1</td>\n",
       "      <td>latest</td>\n",
       "      <td>Complete Genome</td>\n",
       "      <td>Major</td>\n",
       "      <td>Full</td>\n",
       "      <td>2015-02-25</td>\n",
       "      <td>ASM154797v1</td>\n",
       "      <td>National Institute of Animal Health, National ...</td>\n",
       "      <td>GCF_001547975.1</td>\n",
       "      <td>identical</td>\n",
       "      <td>None</td>\n",
       "      <td>ftp://ftp.ncbi.nlm.nih.gov/genomes/all/GCA/001...</td>\n",
       "    </tr>\n",
       "    <tr>\n",
       "      <th>1</th>\n",
       "      <td>2095</td>\n",
       "      <td>340047</td>\n",
       "      <td>GCA_000012765.1</td>\n",
       "      <td>PRJNA16208</td>\n",
       "      <td>representative genome</td>\n",
       "      <td>Mycoplasma capricolum subsp. capricolum ATCC 2...</td>\n",
       "      <td>strain=ATCC 27343</td>\n",
       "      <td>latest</td>\n",
       "      <td>Complete Genome</td>\n",
       "      <td>Major</td>\n",
       "      <td>Full</td>\n",
       "      <td>2005-12-06</td>\n",
       "      <td>ASM1276v1</td>\n",
       "      <td>J. Craig Venter Institute</td>\n",
       "      <td>GCF_000012765.1</td>\n",
       "      <td>identical</td>\n",
       "      <td>assembly from type material</td>\n",
       "      <td>ftp://ftp.ncbi.nlm.nih.gov/genomes/all/GCA/000...</td>\n",
       "    </tr>\n",
       "    <tr>\n",
       "      <th>2</th>\n",
       "      <td>2096</td>\n",
       "      <td>710127</td>\n",
       "      <td>GCA_000092585.1</td>\n",
       "      <td>PRJNA409</td>\n",
       "      <td>representative genome</td>\n",
       "      <td>Mycoplasma gallisepticum str. R(low)</td>\n",
       "      <td>strain=R</td>\n",
       "      <td>latest</td>\n",
       "      <td>Complete Genome</td>\n",
       "      <td>Major</td>\n",
       "      <td>Full</td>\n",
       "      <td>2010-01-28</td>\n",
       "      <td>ASM9258v1</td>\n",
       "      <td>Univ. Connecticut</td>\n",
       "      <td>GCF_000092585.1</td>\n",
       "      <td>identical</td>\n",
       "      <td>None</td>\n",
       "      <td>ftp://ftp.ncbi.nlm.nih.gov/genomes/all/GCA/000...</td>\n",
       "    </tr>\n",
       "    <tr>\n",
       "      <th>3</th>\n",
       "      <td>2097</td>\n",
       "      <td>243273</td>\n",
       "      <td>GCA_000027325.1</td>\n",
       "      <td>PRJNA97</td>\n",
       "      <td>representative genome</td>\n",
       "      <td>Mycoplasma genitalium G37</td>\n",
       "      <td>strain=G-37</td>\n",
       "      <td>latest</td>\n",
       "      <td>Complete Genome</td>\n",
       "      <td>Major</td>\n",
       "      <td>Full</td>\n",
       "      <td>2006-01-09</td>\n",
       "      <td>ASM2732v1</td>\n",
       "      <td>TIGR</td>\n",
       "      <td>GCF_000027325.1</td>\n",
       "      <td>identical</td>\n",
       "      <td>assembly from type material</td>\n",
       "      <td>ftp://ftp.ncbi.nlm.nih.gov/genomes/all/GCA/000...</td>\n",
       "    </tr>\n",
       "    <tr>\n",
       "      <th>4</th>\n",
       "      <td>2098</td>\n",
       "      <td>347256</td>\n",
       "      <td>GCA_000085865.1</td>\n",
       "      <td>PRJEA53147</td>\n",
       "      <td>representative genome</td>\n",
       "      <td>Mycoplasma hominis ATCC 23114</td>\n",
       "      <td>strain=ATCC 23114</td>\n",
       "      <td>latest</td>\n",
       "      <td>Complete Genome</td>\n",
       "      <td>Major</td>\n",
       "      <td>Full</td>\n",
       "      <td>2009-11-16</td>\n",
       "      <td>ASM8586v1</td>\n",
       "      <td>Genoscope</td>\n",
       "      <td>GCF_000085865.1</td>\n",
       "      <td>identical</td>\n",
       "      <td>assembly from type material</td>\n",
       "      <td>ftp://ftp.ncbi.nlm.nih.gov/genomes/all/GCA/000...</td>\n",
       "    </tr>\n",
       "  </tbody>\n",
       "</table>\n",
       "</div>"
      ],
      "text/plain": [
       "   species_taxid   taxid assembly_accession  bioproject  \\\n",
       "0           2094    2094    GCA_001547975.1   PRJDB3222   \n",
       "1           2095  340047    GCA_000012765.1  PRJNA16208   \n",
       "2           2096  710127    GCA_000092585.1    PRJNA409   \n",
       "3           2097  243273    GCA_000027325.1     PRJNA97   \n",
       "4           2098  347256    GCA_000085865.1  PRJEA53147   \n",
       "\n",
       "         refseq_category                                      organism_name  \\\n",
       "0  representative genome                                Mycoplasma arginini   \n",
       "1  representative genome  Mycoplasma capricolum subsp. capricolum ATCC 2...   \n",
       "2  representative genome               Mycoplasma gallisepticum str. R(low)   \n",
       "3  representative genome                          Mycoplasma genitalium G37   \n",
       "4  representative genome                      Mycoplasma hominis ATCC 23114   \n",
       "\n",
       "  infraspecific_name version_status   assembly_level release_type genome_rep  \\\n",
       "0    strain=HAZ145_1         latest  Complete Genome        Major       Full   \n",
       "1  strain=ATCC 27343         latest  Complete Genome        Major       Full   \n",
       "2           strain=R         latest  Complete Genome        Major       Full   \n",
       "3        strain=G-37         latest  Complete Genome        Major       Full   \n",
       "4  strain=ATCC 23114         latest  Complete Genome        Major       Full   \n",
       "\n",
       "  seq_rel_date     asm_name  \\\n",
       "0   2015-02-25  ASM154797v1   \n",
       "1   2005-12-06    ASM1276v1   \n",
       "2   2010-01-28    ASM9258v1   \n",
       "3   2006-01-09    ASM2732v1   \n",
       "4   2009-11-16    ASM8586v1   \n",
       "\n",
       "                                           submitter  gbrs_paired_asm  \\\n",
       "0  National Institute of Animal Health, National ...  GCF_001547975.1   \n",
       "1                          J. Craig Venter Institute  GCF_000012765.1   \n",
       "2                                  Univ. Connecticut  GCF_000092585.1   \n",
       "3                                               TIGR  GCF_000027325.1   \n",
       "4                                          Genoscope  GCF_000085865.1   \n",
       "\n",
       "  paired_asm_comp    relation_to_type_material  \\\n",
       "0       identical                         None   \n",
       "1       identical  assembly from type material   \n",
       "2       identical                         None   \n",
       "3       identical  assembly from type material   \n",
       "4       identical  assembly from type material   \n",
       "\n",
       "                                   download_url_base  \n",
       "0  ftp://ftp.ncbi.nlm.nih.gov/genomes/all/GCA/001...  \n",
       "1  ftp://ftp.ncbi.nlm.nih.gov/genomes/all/GCA/000...  \n",
       "2  ftp://ftp.ncbi.nlm.nih.gov/genomes/all/GCA/000...  \n",
       "3  ftp://ftp.ncbi.nlm.nih.gov/genomes/all/GCA/000...  \n",
       "4  ftp://ftp.ncbi.nlm.nih.gov/genomes/all/GCA/000...  "
      ]
     },
     "execution_count": 92,
     "metadata": {},
     "output_type": "execute_result"
    }
   ],
   "source": [
    "low_coding_ratio_species_str = ','.join([str(s) for s in low_coding_ratio_species])\n",
    "q = f'select * from species_source where species_taxid in ({low_coding_ratio_species_str})'\n",
    "low_coding_ratio_sources = pd.read_sql(q, engine)\n",
    "low_coding_ratio_sources.head()"
   ]
  },
  {
   "cell_type": "code",
   "execution_count": 100,
   "metadata": {},
   "outputs": [],
   "source": [
    "sequences_base_folder = 'data/condensed_traits/sequences'\n",
    "cds_path_fmt = os.path.join(sequences_base_folder, '{0}/{0}_cds_from_genomic.fna.gz')\n",
    "data = []\n",
    "for s_id in [134537]:\n",
    "    cds_path = cds_path_fmt.format(s_id)\n",
    "    with gzip.open(cds_path, mode='rt') as f:\n",
    "        records = list(SeqIO.parse(f, \"fasta\"))\n",
    "        \n",
    "    n_valid = 0\n",
    "    total = len(records)\n",
    "    for record in records:\n",
    "        seq = record.seq\n",
    "        if is_valid_cds(seq):\n",
    "            n_valid += 1\n",
    "            \n",
    "    data.append([s_id, 100 * n_valid / total])\n",
    "    \n",
    "res_df = pd.DataFrame(data, columns=['species_taxid', 'valid_cds_percent'])"
   ]
  },
  {
   "cell_type": "code",
   "execution_count": 101,
   "metadata": {},
   "outputs": [
    {
     "data": {
      "text/html": [
       "<div>\n",
       "<style scoped>\n",
       "    .dataframe tbody tr th:only-of-type {\n",
       "        vertical-align: middle;\n",
       "    }\n",
       "\n",
       "    .dataframe tbody tr th {\n",
       "        vertical-align: top;\n",
       "    }\n",
       "\n",
       "    .dataframe thead th {\n",
       "        text-align: right;\n",
       "    }\n",
       "</style>\n",
       "<table border=\"1\" class=\"dataframe\">\n",
       "  <thead>\n",
       "    <tr style=\"text-align: right;\">\n",
       "      <th></th>\n",
       "      <th>species_taxid</th>\n",
       "      <th>valid_cds_percent</th>\n",
       "    </tr>\n",
       "  </thead>\n",
       "  <tbody>\n",
       "    <tr>\n",
       "      <th>0</th>\n",
       "      <td>134537</td>\n",
       "      <td>100.0</td>\n",
       "    </tr>\n",
       "  </tbody>\n",
       "</table>\n",
       "</div>"
      ],
      "text/plain": [
       "   species_taxid  valid_cds_percent\n",
       "0         134537              100.0"
      ]
     },
     "execution_count": 101,
     "metadata": {},
     "output_type": "execute_result"
    }
   ],
   "source": [
    "res_df.sort_values('valid_cds_percent', ascending=False)"
   ]
  },
  {
   "cell_type": "code",
   "execution_count": 94,
   "metadata": {},
   "outputs": [
    {
     "data": {
      "text/html": [
       "<div>\n",
       "<style scoped>\n",
       "    .dataframe tbody tr th:only-of-type {\n",
       "        vertical-align: middle;\n",
       "    }\n",
       "\n",
       "    .dataframe tbody tr th {\n",
       "        vertical-align: top;\n",
       "    }\n",
       "\n",
       "    .dataframe thead th {\n",
       "        text-align: right;\n",
       "    }\n",
       "</style>\n",
       "<table border=\"1\" class=\"dataframe\">\n",
       "  <thead>\n",
       "    <tr style=\"text-align: right;\">\n",
       "      <th></th>\n",
       "      <th>max(sequence_length)</th>\n",
       "    </tr>\n",
       "  </thead>\n",
       "  <tbody>\n",
       "    <tr>\n",
       "      <th>0</th>\n",
       "      <td>87609</td>\n",
       "    </tr>\n",
       "  </tbody>\n",
       "</table>\n",
       "</div>"
      ],
      "text/plain": [
       "   max(sequence_length)\n",
       "0                 87609"
      ]
     },
     "execution_count": 94,
     "metadata": {},
     "output_type": "execute_result"
    }
   ],
   "source": [
    "pd.read_sql(\n",
    "    f'select max(sequence_length) from sequences where species_taxid not in ({low_coding_ratio_species_str})', \n",
    "    engine,\n",
    ")"
   ]
  },
  {
   "cell_type": "code",
   "execution_count": null,
   "metadata": {},
   "outputs": [],
   "source": []
  }
 ],
 "metadata": {
  "kernelspec": {
   "display_name": "Python 3",
   "language": "python",
   "name": "python3"
  },
  "language_info": {
   "codemirror_mode": {
    "name": "ipython",
    "version": 3
   },
   "file_extension": ".py",
   "mimetype": "text/x-python",
   "name": "python",
   "nbconvert_exporter": "python",
   "pygments_lexer": "ipython3",
   "version": "3.7.6"
  }
 },
 "nbformat": 4,
 "nbformat_minor": 4
}
