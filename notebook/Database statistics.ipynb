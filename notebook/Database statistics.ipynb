{
 "cells": [
  {
   "cell_type": "code",
   "execution_count": 1,
   "metadata": {},
   "outputs": [],
   "source": [
    "import os\n",
    "import json\n",
    "import gzip\n",
    "\n",
    "import pandas as pd\n",
    "import numpy as np\n",
    "import matplotlib.pyplot as plt\n",
    "import seaborn as sns\n",
    "from Bio import SeqIO\n",
    "from Bio.Seq import Seq\n",
    "from sqlalchemy import create_engine\n",
    "\n",
    "if os.getcwd().endswith('notebook'):\n",
    "    os.chdir('..')\n",
    "    \n",
    "from preprocessing.sequence_utils import is_valid_cds"
   ]
  },
  {
   "cell_type": "code",
   "execution_count": 2,
   "metadata": {},
   "outputs": [],
   "source": [
    "sns.set(palette='colorblind', font_scale=1.3)"
   ]
  },
  {
   "cell_type": "code",
   "execution_count": 3,
   "metadata": {},
   "outputs": [],
   "source": [
    "db_path = os.path.join(os.getcwd(), 'data/db/seq.db')\n",
    "engine = create_engine(f'sqlite+pysqlite:///{db_path}')"
   ]
  },
  {
   "cell_type": "markdown",
   "metadata": {},
   "source": [
    "## Number of sequences"
   ]
  },
  {
   "cell_type": "code",
   "execution_count": 4,
   "metadata": {},
   "outputs": [],
   "source": [
    "seq_per_species_query = \"\"\"\n",
    "select \n",
    "    assembly_accession, \n",
    "    count(*) as sequence_count,\n",
    "    min(length) as min_length,\n",
    "    max(length) as max_length,\n",
    "    avg(length) as avg_length\n",
    "from sequences\n",
    "group by assembly_accession\n",
    "\"\"\" \n",
    "sequence_count_per_species = pd.read_sql(seq_per_species_query, engine).set_index('assembly_accession', drop=True)"
   ]
  },
  {
   "cell_type": "code",
   "execution_count": 5,
   "metadata": {},
   "outputs": [
    {
     "data": {
      "text/html": [
       "<div>\n",
       "<style scoped>\n",
       "    .dataframe tbody tr th:only-of-type {\n",
       "        vertical-align: middle;\n",
       "    }\n",
       "\n",
       "    .dataframe tbody tr th {\n",
       "        vertical-align: top;\n",
       "    }\n",
       "\n",
       "    .dataframe thead th {\n",
       "        text-align: right;\n",
       "    }\n",
       "</style>\n",
       "<table border=\"1\" class=\"dataframe\">\n",
       "  <thead>\n",
       "    <tr style=\"text-align: right;\">\n",
       "      <th></th>\n",
       "      <th>sequence_count</th>\n",
       "      <th>min_length</th>\n",
       "      <th>max_length</th>\n",
       "      <th>avg_length</th>\n",
       "    </tr>\n",
       "    <tr>\n",
       "      <th>assembly_accession</th>\n",
       "      <th></th>\n",
       "      <th></th>\n",
       "      <th></th>\n",
       "      <th></th>\n",
       "    </tr>\n",
       "  </thead>\n",
       "  <tbody>\n",
       "    <tr>\n",
       "      <th>GCA_000005825.2</th>\n",
       "      <td>6374</td>\n",
       "      <td>1</td>\n",
       "      <td>15209</td>\n",
       "      <td>815.123157</td>\n",
       "    </tr>\n",
       "    <tr>\n",
       "      <th>GCA_000005845.2</th>\n",
       "      <td>6667</td>\n",
       "      <td>1</td>\n",
       "      <td>15867</td>\n",
       "      <td>827.127944</td>\n",
       "    </tr>\n",
       "    <tr>\n",
       "      <th>GCA_000006175.2</th>\n",
       "      <td>2784</td>\n",
       "      <td>1</td>\n",
       "      <td>11153</td>\n",
       "      <td>801.007902</td>\n",
       "    </tr>\n",
       "    <tr>\n",
       "      <th>GCA_000006605.1</th>\n",
       "      <td>3169</td>\n",
       "      <td>1</td>\n",
       "      <td>19006</td>\n",
       "      <td>949.865573</td>\n",
       "    </tr>\n",
       "    <tr>\n",
       "      <th>GCA_000006685.1</th>\n",
       "      <td>1411</td>\n",
       "      <td>1</td>\n",
       "      <td>10208</td>\n",
       "      <td>917.391212</td>\n",
       "    </tr>\n",
       "  </tbody>\n",
       "</table>\n",
       "</div>"
      ],
      "text/plain": [
       "                    sequence_count  min_length  max_length  avg_length\n",
       "assembly_accession                                                    \n",
       "GCA_000005825.2               6374           1       15209  815.123157\n",
       "GCA_000005845.2               6667           1       15867  827.127944\n",
       "GCA_000006175.2               2784           1       11153  801.007902\n",
       "GCA_000006605.1               3169           1       19006  949.865573\n",
       "GCA_000006685.1               1411           1       10208  917.391212"
      ]
     },
     "execution_count": 5,
     "metadata": {},
     "output_type": "execute_result"
    }
   ],
   "source": [
    "sequence_count_per_species.head()"
   ]
  },
  {
   "cell_type": "code",
   "execution_count": 6,
   "metadata": {},
   "outputs": [
    {
     "name": "stdout",
     "output_type": "stream",
     "text": [
      "Sequence count\n",
      "Minimum: 194\n",
      "Maximum: 21,020\n",
      "Mean: 5,135\n"
     ]
    }
   ],
   "source": [
    "min_s = sequence_count_per_species['sequence_count'].min()\n",
    "max_s = sequence_count_per_species['sequence_count'].max()\n",
    "avg_s = sequence_count_per_species['sequence_count'].mean()\n",
    "print('Sequence count')\n",
    "print(f'Minimum: {min_s:,}')\n",
    "print(f'Maximum: {max_s:,}')\n",
    "print(f'Mean: {avg_s:,.0f}')"
   ]
  },
  {
   "cell_type": "code",
   "execution_count": 44,
   "metadata": {},
   "outputs": [
    {
     "data": {
      "text/plain": [
       "sequence_count      259.000000\n",
       "min_length            1.000000\n",
       "max_length        34892.000000\n",
       "avg_length         2678.664093\n",
       "Name: GCA_000828855.1, dtype: float64"
      ]
     },
     "execution_count": 44,
     "metadata": {},
     "output_type": "execute_result"
    }
   ],
   "source": [
    "sequence_count_per_species.loc['GCA_000828855.1']"
   ]
  },
  {
   "cell_type": "code",
   "execution_count": 41,
   "metadata": {},
   "outputs": [
    {
     "data": {
      "text/html": [
       "<div>\n",
       "<style scoped>\n",
       "    .dataframe tbody tr th:only-of-type {\n",
       "        vertical-align: middle;\n",
       "    }\n",
       "\n",
       "    .dataframe tbody tr th {\n",
       "        vertical-align: top;\n",
       "    }\n",
       "\n",
       "    .dataframe thead th {\n",
       "        text-align: right;\n",
       "    }\n",
       "</style>\n",
       "<table border=\"1\" class=\"dataframe\">\n",
       "  <thead>\n",
       "    <tr style=\"text-align: right;\">\n",
       "      <th></th>\n",
       "      <th>sequence_count</th>\n",
       "      <th>min_length</th>\n",
       "      <th>max_length</th>\n",
       "      <th>avg_length</th>\n",
       "    </tr>\n",
       "    <tr>\n",
       "      <th>assembly_accession</th>\n",
       "      <th></th>\n",
       "      <th></th>\n",
       "      <th></th>\n",
       "      <th></th>\n",
       "    </tr>\n",
       "  </thead>\n",
       "  <tbody>\n",
       "    <tr>\n",
       "      <th>GCA_000013845.2</th>\n",
       "      <td>194</td>\n",
       "      <td>3</td>\n",
       "      <td>672255</td>\n",
       "      <td>15258.185567</td>\n",
       "    </tr>\n",
       "    <tr>\n",
       "      <th>GCA_007830355.1</th>\n",
       "      <td>2465</td>\n",
       "      <td>1</td>\n",
       "      <td>329560</td>\n",
       "      <td>1544.011765</td>\n",
       "    </tr>\n",
       "    <tr>\n",
       "      <th>GCA_001691185.1</th>\n",
       "      <td>230</td>\n",
       "      <td>13</td>\n",
       "      <td>231881</td>\n",
       "      <td>22746.456522</td>\n",
       "    </tr>\n",
       "    <tr>\n",
       "      <th>GCA_001281045.1</th>\n",
       "      <td>404</td>\n",
       "      <td>1</td>\n",
       "      <td>168605</td>\n",
       "      <td>2929.965347</td>\n",
       "    </tr>\n",
       "    <tr>\n",
       "      <th>GCA_002804225.1</th>\n",
       "      <td>302</td>\n",
       "      <td>1</td>\n",
       "      <td>164065</td>\n",
       "      <td>2790.443709</td>\n",
       "    </tr>\n",
       "    <tr>\n",
       "      <th>...</th>\n",
       "      <td>...</td>\n",
       "      <td>...</td>\n",
       "      <td>...</td>\n",
       "      <td>...</td>\n",
       "    </tr>\n",
       "    <tr>\n",
       "      <th>GCA_000474195.1</th>\n",
       "      <td>6425</td>\n",
       "      <td>1</td>\n",
       "      <td>5667</td>\n",
       "      <td>575.901167</td>\n",
       "    </tr>\n",
       "    <tr>\n",
       "      <th>GCA_900128875.1</th>\n",
       "      <td>5012</td>\n",
       "      <td>1</td>\n",
       "      <td>5540</td>\n",
       "      <td>649.614725</td>\n",
       "    </tr>\n",
       "    <tr>\n",
       "      <th>GCA_001587495.1</th>\n",
       "      <td>5493</td>\n",
       "      <td>1</td>\n",
       "      <td>5232</td>\n",
       "      <td>553.833060</td>\n",
       "    </tr>\n",
       "    <tr>\n",
       "      <th>GCA_001399695.1</th>\n",
       "      <td>2981</td>\n",
       "      <td>1</td>\n",
       "      <td>5097</td>\n",
       "      <td>665.939953</td>\n",
       "    </tr>\n",
       "    <tr>\n",
       "      <th>GCA_000017945.1</th>\n",
       "      <td>2137</td>\n",
       "      <td>1</td>\n",
       "      <td>5006</td>\n",
       "      <td>736.770707</td>\n",
       "    </tr>\n",
       "  </tbody>\n",
       "</table>\n",
       "<p>3284 rows × 4 columns</p>\n",
       "</div>"
      ],
      "text/plain": [
       "                    sequence_count  min_length  max_length    avg_length\n",
       "assembly_accession                                                      \n",
       "GCA_000013845.2                194           3      672255  15258.185567\n",
       "GCA_007830355.1               2465           1      329560   1544.011765\n",
       "GCA_001691185.1                230          13      231881  22746.456522\n",
       "GCA_001281045.1                404           1      168605   2929.965347\n",
       "GCA_002804225.1                302           1      164065   2790.443709\n",
       "...                            ...         ...         ...           ...\n",
       "GCA_000474195.1               6425           1        5667    575.901167\n",
       "GCA_900128875.1               5012           1        5540    649.614725\n",
       "GCA_001587495.1               5493           1        5232    553.833060\n",
       "GCA_001399695.1               2981           1        5097    665.939953\n",
       "GCA_000017945.1               2137           1        5006    736.770707\n",
       "\n",
       "[3284 rows x 4 columns]"
      ]
     },
     "execution_count": 41,
     "metadata": {},
     "output_type": "execute_result"
    }
   ],
   "source": [
    "sequence_count_per_species.sort_values('max_length', ascending=False)"
   ]
  },
  {
   "cell_type": "markdown",
   "metadata": {},
   "source": [
    "## Sequence lengths"
   ]
  },
  {
   "cell_type": "code",
   "execution_count": 7,
   "metadata": {},
   "outputs": [
    {
     "name": "stdout",
     "output_type": "stream",
     "text": [
      "Sequence length\n",
      "Minimum: 1\n",
      "Maximum: 672,255\n"
     ]
    }
   ],
   "source": [
    "min_s = sequence_count_per_species['min_length'].min()\n",
    "max_s = sequence_count_per_species['max_length'].max()\n",
    "print('Sequence length')\n",
    "print(f'Minimum: {min_s:,}')\n",
    "print(f'Maximum: {max_s:,}')"
   ]
  },
  {
   "cell_type": "code",
   "execution_count": 8,
   "metadata": {},
   "outputs": [
    {
     "name": "stdout",
     "output_type": "stream",
     "text": [
      "Average sequence length: 869\n"
     ]
    }
   ],
   "source": [
    "avg_sequence_length = pd.read_sql(\n",
    "    'select avg(length) as avg_seq_l from sequences', \n",
    "    engine,\n",
    ").iloc[0]['avg_seq_l']\n",
    "print(f'Average sequence length: {avg_sequence_length:,.0f}')"
   ]
  },
  {
   "cell_type": "code",
   "execution_count": 9,
   "metadata": {},
   "outputs": [],
   "source": [
    "sequence_lengths = pd.read_sql('select length from sequences', engine)['length'].values"
   ]
  },
  {
   "cell_type": "code",
   "execution_count": 10,
   "metadata": {},
   "outputs": [
    {
     "data": {
      "image/png": "[encoded data removed]",
      "text/plain": [
       "<Figure size 864x432 with 1 Axes>"
      ]
     },
     "metadata": {},
     "output_type": "display_data"
    }
   ],
   "source": [
    "_, ax = plt.subplots(1, 1, figsize=(12, 6))\n",
    "bins = [\n",
    "    1, 2, 3, 4, 5, 6, 7, 8, 9, \n",
    "    10, 20, 30, 40, 50, 60, 70, 80, 90, \n",
    "    100, 200, 300, 400, 500, 600, 700, 800, 900, \n",
    "    1000, 2000, 3000, 4000, 5000, 6000, 7000, 8000, 9000, \n",
    "    10e3, 20e3, 30e3, 40e3, 50e3, 60e3, 70e3, 80e3, 90e3,\n",
    "]\n",
    "ax.set_xscale('log');\n",
    "ax.hist(sequence_lengths, bins=bins, log=True);"
   ]
  },
  {
   "cell_type": "code",
   "execution_count": 11,
   "metadata": {},
   "outputs": [],
   "source": [
    "q = \"\"\"\n",
    "select \n",
    "    assembly_accession, \n",
    "    cast(sum(length) / 1000 as integer) as cds_total_length\n",
    "from sequences\n",
    "where sequence_type = 'CDS'\n",
    "group by assembly_accession\n",
    "\"\"\" \n",
    "s1 = pd.read_sql(q, engine)"
   ]
  },
  {
   "cell_type": "code",
   "execution_count": 12,
   "metadata": {},
   "outputs": [],
   "source": [
    "q = \"\"\"\n",
    "select \n",
    "    assembly_accession, \n",
    "    cast(sum(length) / 1000 as integer) as non_coding_total_length\n",
    "from sequences\n",
    "where sequence_type = 'non_coding'\n",
    "group by assembly_accession\n",
    "\"\"\" \n",
    "s2 = pd.read_sql(q, engine)"
   ]
  },
  {
   "cell_type": "code",
   "execution_count": 13,
   "metadata": {},
   "outputs": [
    {
     "data": {
      "text/html": [
       "<div>\n",
       "<style scoped>\n",
       "    .dataframe tbody tr th:only-of-type {\n",
       "        vertical-align: middle;\n",
       "    }\n",
       "\n",
       "    .dataframe tbody tr th {\n",
       "        vertical-align: top;\n",
       "    }\n",
       "\n",
       "    .dataframe thead th {\n",
       "        text-align: right;\n",
       "    }\n",
       "</style>\n",
       "<table border=\"1\" class=\"dataframe\">\n",
       "  <thead>\n",
       "    <tr style=\"text-align: right;\">\n",
       "      <th></th>\n",
       "      <th>cds_total_length</th>\n",
       "      <th>non_coding_total_length</th>\n",
       "    </tr>\n",
       "    <tr>\n",
       "      <th>assembly_accession</th>\n",
       "      <th></th>\n",
       "      <th></th>\n",
       "    </tr>\n",
       "  </thead>\n",
       "  <tbody>\n",
       "    <tr>\n",
       "      <th>GCA_000005825.2</th>\n",
       "      <td>3609</td>\n",
       "      <td>1546</td>\n",
       "    </tr>\n",
       "    <tr>\n",
       "      <th>GCA_000005845.2</th>\n",
       "      <td>4032</td>\n",
       "      <td>1433</td>\n",
       "    </tr>\n",
       "    <tr>\n",
       "      <th>GCA_000006175.2</th>\n",
       "      <td>1535</td>\n",
       "      <td>682</td>\n",
       "    </tr>\n",
       "    <tr>\n",
       "      <th>GCA_000006605.1</th>\n",
       "      <td>2212</td>\n",
       "      <td>778</td>\n",
       "    </tr>\n",
       "    <tr>\n",
       "      <th>GCA_000006685.1</th>\n",
       "      <td>971</td>\n",
       "      <td>310</td>\n",
       "    </tr>\n",
       "  </tbody>\n",
       "</table>\n",
       "</div>"
      ],
      "text/plain": [
       "                    cds_total_length  non_coding_total_length\n",
       "assembly_accession                                           \n",
       "GCA_000005825.2                 3609                     1546\n",
       "GCA_000005845.2                 4032                     1433\n",
       "GCA_000006175.2                 1535                      682\n",
       "GCA_000006605.1                 2212                      778\n",
       "GCA_000006685.1                  971                      310"
      ]
     },
     "execution_count": 13,
     "metadata": {},
     "output_type": "execute_result"
    }
   ],
   "source": [
    "s = pd.merge(s1, s2, on='assembly_accession').set_index('assembly_accession', drop=True)\n",
    "s.head()"
   ]
  },
  {
   "cell_type": "code",
   "execution_count": 14,
   "metadata": {},
   "outputs": [],
   "source": [
    "s['coding_ratio'] = s.apply(\n",
    "    lambda row: row['cds_total_length'] / (row['cds_total_length'] + row['non_coding_total_length']), \n",
    "    axis=1,\n",
    ")"
   ]
  },
  {
   "cell_type": "code",
   "execution_count": 15,
   "metadata": {},
   "outputs": [
    {
     "data": {
      "text/html": [
       "<div>\n",
       "<style scoped>\n",
       "    .dataframe tbody tr th:only-of-type {\n",
       "        vertical-align: middle;\n",
       "    }\n",
       "\n",
       "    .dataframe tbody tr th {\n",
       "        vertical-align: top;\n",
       "    }\n",
       "\n",
       "    .dataframe thead th {\n",
       "        text-align: right;\n",
       "    }\n",
       "</style>\n",
       "<table border=\"1\" class=\"dataframe\">\n",
       "  <thead>\n",
       "    <tr style=\"text-align: right;\">\n",
       "      <th></th>\n",
       "      <th>cds_total_length</th>\n",
       "      <th>non_coding_total_length</th>\n",
       "      <th>coding_ratio</th>\n",
       "    </tr>\n",
       "    <tr>\n",
       "      <th>assembly_accession</th>\n",
       "      <th></th>\n",
       "      <th></th>\n",
       "      <th></th>\n",
       "    </tr>\n",
       "  </thead>\n",
       "  <tbody>\n",
       "    <tr>\n",
       "      <th>GCA_000005825.2</th>\n",
       "      <td>3609</td>\n",
       "      <td>1546</td>\n",
       "      <td>0.700097</td>\n",
       "    </tr>\n",
       "    <tr>\n",
       "      <th>GCA_000005845.2</th>\n",
       "      <td>4032</td>\n",
       "      <td>1433</td>\n",
       "      <td>0.737786</td>\n",
       "    </tr>\n",
       "    <tr>\n",
       "      <th>GCA_000006175.2</th>\n",
       "      <td>1535</td>\n",
       "      <td>682</td>\n",
       "      <td>0.692377</td>\n",
       "    </tr>\n",
       "    <tr>\n",
       "      <th>GCA_000006605.1</th>\n",
       "      <td>2212</td>\n",
       "      <td>778</td>\n",
       "      <td>0.739799</td>\n",
       "    </tr>\n",
       "    <tr>\n",
       "      <th>GCA_000006685.1</th>\n",
       "      <td>971</td>\n",
       "      <td>310</td>\n",
       "      <td>0.758002</td>\n",
       "    </tr>\n",
       "    <tr>\n",
       "      <th>...</th>\n",
       "      <td>...</td>\n",
       "      <td>...</td>\n",
       "      <td>...</td>\n",
       "    </tr>\n",
       "    <tr>\n",
       "      <th>GCA_901542335.1</th>\n",
       "      <td>1908</td>\n",
       "      <td>817</td>\n",
       "      <td>0.700183</td>\n",
       "    </tr>\n",
       "    <tr>\n",
       "      <th>GCA_901543175.1</th>\n",
       "      <td>1714</td>\n",
       "      <td>740</td>\n",
       "      <td>0.698452</td>\n",
       "    </tr>\n",
       "    <tr>\n",
       "      <th>GCA_901543605.1</th>\n",
       "      <td>1541</td>\n",
       "      <td>714</td>\n",
       "      <td>0.683370</td>\n",
       "    </tr>\n",
       "    <tr>\n",
       "      <th>GCA_902459475.1</th>\n",
       "      <td>2351</td>\n",
       "      <td>794</td>\n",
       "      <td>0.747536</td>\n",
       "    </tr>\n",
       "    <tr>\n",
       "      <th>GCA_902459485.1</th>\n",
       "      <td>2545</td>\n",
       "      <td>851</td>\n",
       "      <td>0.749411</td>\n",
       "    </tr>\n",
       "  </tbody>\n",
       "</table>\n",
       "<p>3282 rows × 3 columns</p>\n",
       "</div>"
      ],
      "text/plain": [
       "                    cds_total_length  non_coding_total_length  coding_ratio\n",
       "assembly_accession                                                         \n",
       "GCA_000005825.2                 3609                     1546      0.700097\n",
       "GCA_000005845.2                 4032                     1433      0.737786\n",
       "GCA_000006175.2                 1535                      682      0.692377\n",
       "GCA_000006605.1                 2212                      778      0.739799\n",
       "GCA_000006685.1                  971                      310      0.758002\n",
       "...                              ...                      ...           ...\n",
       "GCA_901542335.1                 1908                      817      0.700183\n",
       "GCA_901543175.1                 1714                      740      0.698452\n",
       "GCA_901543605.1                 1541                      714      0.683370\n",
       "GCA_902459475.1                 2351                      794      0.747536\n",
       "GCA_902459485.1                 2545                      851      0.749411\n",
       "\n",
       "[3282 rows x 3 columns]"
      ]
     },
     "execution_count": 15,
     "metadata": {},
     "output_type": "execute_result"
    }
   ],
   "source": [
    "s"
   ]
  },
  {
   "cell_type": "code",
   "execution_count": 16,
   "metadata": {},
   "outputs": [
    {
     "data": {
      "image/png": "[encoded data removed]",
      "text/plain": [
       "<Figure size 864x432 with 1 Axes>"
      ]
     },
     "metadata": {},
     "output_type": "display_data"
    }
   ],
   "source": [
    "_, ax = plt.subplots(1, 1, figsize=(12, 6))\n",
    "ax.hist(s['coding_ratio'], bins=20, log=True);"
   ]
  },
  {
   "cell_type": "code",
   "execution_count": null,
   "metadata": {},
   "outputs": [],
   "source": []
  }
 ],
 "metadata": {
  "kernelspec": {
   "display_name": "Python 3",
   "language": "python",
   "name": "python3"
  },
  "language_info": {
   "codemirror_mode": {
    "name": "ipython",
    "version": 3
   },
   "file_extension": ".py",
   "mimetype": "text/x-python",
   "name": "python",
   "nbconvert_exporter": "python",
   "pygments_lexer": "ipython3",
   "version": "3.7.6"
  }
 },
 "nbformat": 4,
 "nbformat_minor": 4
}
