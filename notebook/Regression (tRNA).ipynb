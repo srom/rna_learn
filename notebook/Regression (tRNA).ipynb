{
 "cells": [
  {
   "cell_type": "code",
   "execution_count": 1,
   "metadata": {},
   "outputs": [],
   "source": [
    "import os\n",
    "\n",
    "import pandas as pd\n",
    "import numpy as np\n",
    "import tensorflow as tf\n",
    "import matplotlib.pyplot as plt\n",
    "import seaborn as sns\n",
    "\n",
    "if os.getcwd().endswith('notebook'):\n",
    "    os.chdir('..')\n",
    "\n",
    "from rna_learn.model import (\n",
    "    rnn_regression_model, \n",
    "    compile_regression_model,\n",
    ")\n",
    "from rna_learn.transform import (\n",
    "    sequence_embedding, \n",
    "    split_train_test_set, \n",
    "    make_dataset_balanced,\n",
    "    normalize, \n",
    "    denormalize,\n",
    ")\n",
    "from rna_learn.load import load_rna_structure_dataset"
   ]
  },
  {
   "cell_type": "code",
   "execution_count": 2,
   "metadata": {},
   "outputs": [],
   "source": [
    "seed = 555\n",
    "np.random.seed(seed)\n",
    "\n",
    "sns.set(palette='colorblind', font_scale=1.3)"
   ]
  },
  {
   "cell_type": "markdown",
   "metadata": {},
   "source": [
    "## Model"
   ]
  },
  {
   "cell_type": "code",
   "execution_count": 3,
   "metadata": {},
   "outputs": [
    {
     "name": "stdout",
     "output_type": "stream",
     "text": [
      "Model: \"model\"\n",
      "__________________________________________________________________________________________________\n",
      "Layer (type)                    Output Shape         Param #     Connected to                     \n",
      "==================================================================================================\n",
      "sequence (InputLayer)           [(None, None, 3)]    0                                            \n",
      "__________________________________________________________________________________________________\n",
      "masking (Masking)               (None, None, 3)      0           sequence[0][0]                   \n",
      "__________________________________________________________________________________________________\n",
      "lstm (LSTM)                     (None, 100)          41600       masking[0][0]                    \n",
      "__________________________________________________________________________________________________\n",
      "logits (Dense)                  (None, 100)          10100       lstm[0][0]                       \n",
      "__________________________________________________________________________________________________\n",
      "dropout (Dropout)               (None, 100)          0           logits[0][0]                     \n",
      "__________________________________________________________________________________________________\n",
      "loc (Dense)                     (None, 1)            101         dropout[0][0]                    \n",
      "__________________________________________________________________________________________________\n",
      "scale (Dense)                   (None, 1)            101         dropout[0][0]                    \n",
      "__________________________________________________________________________________________________\n",
      "concatenate (Concatenate)       (None, 2)            0           loc[0][0]                        \n",
      "                                                                 scale[0][0]                      \n",
      "__________________________________________________________________________________________________\n",
      "independent_normal (Independent ((None, 1), (None, 1 0           concatenate[0][0]                \n",
      "==================================================================================================\n",
      "Total params: 51,902\n",
      "Trainable params: 51,902\n",
      "Non-trainable params: 0\n",
      "__________________________________________________________________________________________________\n"
     ]
    }
   ],
   "source": [
    "rna = 'trna'\n",
    "alphabet = ['.', '(', ')']\n",
    "alphabet_size = len(alphabet)\n",
    "metadata_folder = f'data/tab/{rna}.tab'\n",
    "sequences_folder = 'data/seq/'\n",
    "    \n",
    "model = rnn_regression_model(alphabet_size=alphabet_size)\n",
    "model.summary()"
   ]
  },
  {
   "cell_type": "code",
   "execution_count": 4,
   "metadata": {},
   "outputs": [],
   "source": [
    "compile_regression_model(model, learning_rate=1e-4)"
   ]
  },
  {
   "cell_type": "code",
   "execution_count": 5,
   "metadata": {},
   "outputs": [],
   "source": [
    "output_folder = os.path.join(os.getcwd(), 'saved_models', f'seed_{seed}')\n",
    "output_path = os.path.join(output_folder, f'{rna}_regression.h5')\n",
    "\n",
    "model.load_weights(output_path)"
   ]
  },
  {
   "cell_type": "markdown",
   "metadata": {},
   "source": [
    "## Data"
   ]
  },
  {
   "cell_type": "code",
   "execution_count": 6,
   "metadata": {},
   "outputs": [
    {
     "name": "stdout",
     "output_type": "stream",
     "text": [
      "CPU times: user 202 ms, sys: 145 ms, total: 347 ms\n",
      "Wall time: 348 ms\n"
     ]
    }
   ],
   "source": [
    "%%time\n",
    "metadata = pd.read_csv(metadata_folder, delimiter='\\t')\n",
    "metadata['category'] = metadata['temp.cat']\n",
    "\n",
    "sequences = load_rna_structure_dataset(metadata, sequences_folder)"
   ]
  },
  {
   "cell_type": "code",
   "execution_count": 7,
   "metadata": {},
   "outputs": [
    {
     "name": "stdout",
     "output_type": "stream",
     "text": [
      "CPU times: user 181 ms, sys: 19.4 ms, total: 200 ms\n",
      "Wall time: 199 ms\n"
     ]
    }
   ],
   "source": [
    "%%time\n",
    "n_entries_per_class = 153\n",
    "y, balanced_metadata = make_dataset_balanced(\n",
    "    metadata, \n",
    "    output_col='temp', \n",
    "    n_entries_per_class=n_entries_per_class,\n",
    ")\n",
    "y = y.astype(np.float32)\n",
    "\n",
    "sequences = load_rna_structure_dataset(balanced_metadata, sequences_folder)\n",
    "x = sequence_embedding(sequences, alphabet)"
   ]
  },
  {
   "cell_type": "code",
   "execution_count": 8,
   "metadata": {},
   "outputs": [],
   "source": [
    "x_train, y_train, x_test, y_test, train_idx, test_idx = split_train_test_set(\n",
    "    x, y, test_ratio=0.2, return_indices=True)\n",
    "\n",
    "mean, std = np.mean(y), np.std(y)\n",
    "\n",
    "y_test_norm = normalize(y_test, mean, std)\n",
    "y_train_norm = normalize(y_train, mean, std)"
   ]
  },
  {
   "cell_type": "code",
   "execution_count": 9,
   "metadata": {},
   "outputs": [
    {
     "data": {
      "image/png": "[encoded data removed]",
      "text/plain": [
       "<Figure size 1152x360 with 3 Axes>"
      ]
     },
     "metadata": {},
     "output_type": "display_data"
    }
   ],
   "source": [
    "f, axes = plt.subplots(1, 3, figsize=(16, 5))\n",
    "axes = axes.flatten()\n",
    "balanced_metadata['temp'].hist(ax=axes[0]);\n",
    "axes[0].set_title('Temperature histogram (all)')\n",
    "balanced_metadata['temp'].iloc[train_idx].hist(ax=axes[1]);\n",
    "axes[1].set_title('Temperature histogram (train)')\n",
    "balanced_metadata['temp'].iloc[test_idx].hist(ax=axes[2]);\n",
    "axes[2].set_title('Temperature histogram (test)');"
   ]
  },
  {
   "cell_type": "markdown",
   "metadata": {},
   "source": [
    "## Evaluation"
   ]
  },
  {
   "cell_type": "code",
   "execution_count": 10,
   "metadata": {},
   "outputs": [
    {
     "name": "stdout",
     "output_type": "stream",
     "text": [
      "CPU times: user 512 ms, sys: 54.3 ms, total: 567 ms\n",
      "Wall time: 423 ms\n"
     ]
    },
    {
     "data": {
      "text/plain": [
       "1.4720230356591646"
      ]
     },
     "execution_count": 10,
     "metadata": {},
     "output_type": "execute_result"
    }
   ],
   "source": [
    "%%time\n",
    "model.evaluate(x_test, y_test_norm, verbose=0)"
   ]
  },
  {
   "cell_type": "code",
   "execution_count": 11,
   "metadata": {},
   "outputs": [
    {
     "name": "stdout",
     "output_type": "stream",
     "text": [
      "CPU times: user 370 ms, sys: 84.7 ms, total: 455 ms\n",
      "Wall time: 300 ms\n"
     ]
    }
   ],
   "source": [
    "%%time\n",
    "y_hat = model(x_test)\n",
    "y_hat_mean = y_hat.mean().numpy().flatten()\n",
    "y_mean = denormalize(y_hat_mean, mean, std)\n",
    "y_std = denormalize(y_hat.stddev().numpy().flatten(), mean, std)"
   ]
  },
  {
   "cell_type": "code",
   "execution_count": 12,
   "metadata": {},
   "outputs": [],
   "source": [
    "def plot_true_vs_prediction_scatter(metadata, y_true, y_pred):\n",
    "    f, ax = plt.subplots(1, 1, figsize=(8, 8))\n",
    "    \n",
    "    palette = sns.color_palette()\n",
    "    \n",
    "    for i, tpl in enumerate(metadata.itertuples()):\n",
    "        y_t = y_true[i]\n",
    "        y_p = y_pred[i]\n",
    "        ax.plot(y_t, y_p, 'o', color=palette[0])\n",
    "    \n",
    "    x_straight = range(0, 100)\n",
    "    ax.plot(x_straight, x_straight, '--', color=palette[1], alpha=0.5)\n",
    "    \n",
    "    ax.set_xlabel('Temperature °C (true)')\n",
    "    ax.set_ylabel('Temperature °C (prediction)')"
   ]
  },
  {
   "cell_type": "code",
   "execution_count": 13,
   "metadata": {},
   "outputs": [
    {
     "data": {
      "image/png": "[encoded data removed]",
      "text/plain": [
       "<Figure size 576x576 with 1 Axes>"
      ]
     },
     "metadata": {},
     "output_type": "display_data"
    }
   ],
   "source": [
    "plot_true_vs_prediction_scatter(balanced_metadata.iloc[test_idx], y_test, y_mean)"
   ]
  },
  {
   "cell_type": "code",
   "execution_count": null,
   "metadata": {},
   "outputs": [],
   "source": []
  }
 ],
 "metadata": {
  "kernelspec": {
   "display_name": "Python 3",
   "language": "python",
   "name": "python3"
  },
  "language_info": {
   "codemirror_mode": {
    "name": "ipython",
    "version": 3
   },
   "file_extension": ".py",
   "mimetype": "text/x-python",
   "name": "python",
   "nbconvert_exporter": "python",
   "pygments_lexer": "ipython3",
   "version": "3.7.5"
  }
 },
 "nbformat": 4,
 "nbformat_minor": 2
}
