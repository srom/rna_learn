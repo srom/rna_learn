{
 "cells": [
  {
   "cell_type": "code",
   "execution_count": 4,
   "metadata": {},
   "outputs": [],
   "source": [
    "import os\n",
    "\n",
    "import pandas as pd\n",
    "import numpy as np\n",
    "import tensorflow as tf\n",
    "import matplotlib.pyplot as plt\n",
    "import seaborn as sns\n",
    "import json\n",
    "\n",
    "if os.getcwd().endswith('notebook'):\n",
    "    os.chdir('..')\n",
    "\n",
    "from rna_learn.transform import (\n",
    "    sequence_embedding, \n",
    "    normalize, denormalize,\n",
    "    make_dataset_balanced,\n",
    "    one_hot_encode_classes,\n",
    "    split_train_test_set,\n",
    ")\n",
    "from rna_learn.load import load_mrna_model, load_dataset"
   ]
  },
  {
   "cell_type": "code",
   "execution_count": 5,
   "metadata": {},
   "outputs": [],
   "source": [
    "sns.set(palette='colorblind', font_scale=1.3)"
   ]
  },
  {
   "cell_type": "code",
   "execution_count": 6,
   "metadata": {},
   "outputs": [],
   "source": [
    "run_id = 'run_a1xjj'\n",
    "learning_type = 'regression'\n",
    "\n",
    "input_path = os.path.join(os.getcwd(), 'data/ncbi/dataset.csv')\n",
    "output_folder = os.path.join(os.getcwd(), f'saved_models_mrna/{run_id}/')\n",
    "model_path = os.path.join(output_folder, f'{learning_type}_model.h5')\n",
    "metadata_path = os.path.join(output_folder, f'{learning_type}_metadata.json')"
   ]
  },
  {
   "cell_type": "code",
   "execution_count": 7,
   "metadata": {},
   "outputs": [],
   "source": [
    "learning_rate = 1e-4\n",
    "model, metadata = load_mrna_model(\n",
    "    run_id, \n",
    "    learning_type, \n",
    "    learning_rate, \n",
    "    model_path, \n",
    "    metadata_path, \n",
    "    resume=True,\n",
    ")"
   ]
  },
  {
   "cell_type": "code",
   "execution_count": 8,
   "metadata": {},
   "outputs": [
    {
     "name": "stdout",
     "output_type": "stream",
     "text": [
      "Model: \"model\"\n",
      "__________________________________________________________________________________________________\n",
      "Layer (type)                    Output Shape         Param #     Connected to                     \n",
      "==================================================================================================\n",
      "sequence (InputLayer)           [(None, None, 4)]    0                                            \n",
      "__________________________________________________________________________________________________\n",
      "masking (Masking)               (None, None, 4)      0           sequence[0][0]                   \n",
      "__________________________________________________________________________________________________\n",
      "lstm (LSTM)                     (None, None, 100)    42000       masking[0][0]                    \n",
      "__________________________________________________________________________________________________\n",
      "lstm_1 (LSTM)                   (None, 100)          80400       lstm[0][0]                       \n",
      "__________________________________________________________________________________________________\n",
      "logits (Dense)                  (None, 100)          10100       lstm_1[0][0]                     \n",
      "__________________________________________________________________________________________________\n",
      "dropout (Dropout)               (None, 100)          0           logits[0][0]                     \n",
      "__________________________________________________________________________________________________\n",
      "loc (Dense)                     (None, 1)            101         dropout[0][0]                    \n",
      "__________________________________________________________________________________________________\n",
      "scale (Dense)                   (None, 1)            101         dropout[0][0]                    \n",
      "__________________________________________________________________________________________________\n",
      "concatenate (Concatenate)       (None, 2)            0           loc[0][0]                        \n",
      "                                                                 scale[0][0]                      \n",
      "__________________________________________________________________________________________________\n",
      "independent_normal (Independent ((None, 1), (None, 1 0           concatenate[0][0]                \n",
      "==================================================================================================\n",
      "Total params: 132,702\n",
      "Trainable params: 132,702\n",
      "Non-trainable params: 0\n",
      "__________________________________________________________________________________________________\n"
     ]
    }
   ],
   "source": [
    "model.summary()"
   ]
  },
  {
   "cell_type": "code",
   "execution_count": 7,
   "metadata": {},
   "outputs": [],
   "source": [
    "alphabet = metadata['alphabet']\n",
    "classes = metadata['classes']\n",
    "\n",
    "dataset_df = load_dataset(input_path, alphabet)\n",
    "\n",
    "if learning_type == 'regression':\n",
    "    y, dataset_df = make_dataset_balanced(\n",
    "        dataset_df,\n",
    "        cat_name='temperature_range',\n",
    "        output_col='temperature', \n",
    "        classes=classes, \n",
    "    )\n",
    "    y = y.astype(np.float32)\n",
    "else:\n",
    "    y_str, dataset_df = make_dataset_balanced(\n",
    "        dataset_df, \n",
    "        cat_name='temperature_range',\n",
    "        classes=classes,\n",
    "    )\n",
    "    y = one_hot_encode_classes(y_str, classes)\n",
    "\n",
    "sequences = dataset_df['sequence'].values\n",
    "x = sequence_embedding(sequences, alphabet)\n",
    "\n",
    "x_train, y_train, x_test, y_test = split_train_test_set(x, y, test_ratio=0.2)\n",
    "\n",
    "if learning_type == 'regression':\n",
    "    mean, std = np.mean(y), np.std(y)\n",
    "    y_test_norm = normalize(y_test, mean, std)\n",
    "    y_train_norm = normalize(y_train, mean, std)\n",
    "else:\n",
    "    y_test_norm = y_test\n",
    "    y_train_norm = y_train"
   ]
  },
  {
   "cell_type": "code",
   "execution_count": 9,
   "metadata": {},
   "outputs": [
    {
     "name": "stdout",
     "output_type": "stream",
     "text": [
      "CPU times: user 4min 42s, sys: 1min 12s, total: 5min 54s\n",
      "Wall time: 2min 3s\n"
     ]
    },
    {
     "data": {
      "text/plain": [
       "1.4063457110121445"
      ]
     },
     "execution_count": 9,
     "metadata": {},
     "output_type": "execute_result"
    }
   ],
   "source": [
    "%%time\n",
    "model.evaluate(x_test, y_test_norm, verbose=0)"
   ]
  },
  {
   "cell_type": "code",
   "execution_count": 13,
   "metadata": {},
   "outputs": [],
   "source": [
    "def plot_true_vs_prediction_scatter(y_true, y_pred):\n",
    "    f, ax = plt.subplots(1, 1, figsize=(8, 8))\n",
    "    \n",
    "    palette = sns.color_palette()\n",
    "    \n",
    "    for i in range(len(y_true)):\n",
    "        y_t = y_true[i]\n",
    "        y_p = y_pred[i]\n",
    "        ax.plot(y_t, y_p, 'o', color=palette[0])\n",
    "    \n",
    "    x_straight = range(0, 100)\n",
    "    ax.plot(x_straight, x_straight, '--', color=palette[1], alpha=0.5)\n",
    "    \n",
    "    ax.set_xlabel('Temperature °C (true)')\n",
    "    ax.set_ylabel('Temperature °C (prediction)')"
   ]
  },
  {
   "cell_type": "code",
   "execution_count": 11,
   "metadata": {},
   "outputs": [
    {
     "name": "stdout",
     "output_type": "stream",
     "text": [
      "CPU times: user 6min 39s, sys: 8min 35s, total: 15min 15s\n",
      "Wall time: 5min 26s\n"
     ]
    }
   ],
   "source": [
    "%%time\n",
    "y_hat = model(x_test)\n",
    "y_hat_mean = y_hat.mean().numpy().flatten()\n",
    "y_mean = denormalize(y_hat_mean, mean, std)\n",
    "y_std = denormalize(y_hat.stddev().numpy().flatten(), mean, std)"
   ]
  },
  {
   "cell_type": "code",
   "execution_count": 16,
   "metadata": {},
   "outputs": [
    {
     "data": {
      "image/png": "[encoded data removed]",
      "text/plain": [
       "<Figure size 576x576 with 1 Axes>"
      ]
     },
     "metadata": {},
     "output_type": "display_data"
    }
   ],
   "source": [
    "plot_true_vs_prediction_scatter(y_test, y_mean)"
   ]
  },
  {
   "cell_type": "code",
   "execution_count": null,
   "metadata": {},
   "outputs": [],
   "source": []
  }
 ],
 "metadata": {
  "kernelspec": {
   "display_name": "Python 3",
   "language": "python",
   "name": "python3"
  },
  "language_info": {
   "codemirror_mode": {
    "name": "ipython",
    "version": 3
   },
   "file_extension": ".py",
   "mimetype": "text/x-python",
   "name": "python",
   "nbconvert_exporter": "python",
   "pygments_lexer": "ipython3",
   "version": "3.7.5"
  }
 },
 "nbformat": 4,
 "nbformat_minor": 2
}
