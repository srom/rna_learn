{
 "cells": [
  {
   "cell_type": "code",
   "execution_count": 18,
   "metadata": {},
   "outputs": [],
   "source": [
    "import os\n",
    "import json\n",
    "\n",
    "import pandas as pd\n",
    "import numpy as np\n",
    "import tensorflow as tf\n",
    "import matplotlib.pyplot as plt\n",
    "import seaborn as sns\n",
    "from scipy.stats import norm\n",
    "from sklearn.gaussian_process import GaussianProcessRegressor\n",
    "from sklearn.gaussian_process.kernels import ConstantKernel, Matern\n",
    "\n",
    "if os.getcwd().endswith('notebook'):\n",
    "    os.chdir('..')\n",
    "\n",
    "from rna_learn.hyperparameters import expected_improvement, propose_location"
   ]
  },
  {
   "cell_type": "code",
   "execution_count": 2,
   "metadata": {},
   "outputs": [],
   "source": [
    "sns.set(palette='colorblind', font_scale=1.3)"
   ]
  },
  {
   "cell_type": "code",
   "execution_count": 3,
   "metadata": {},
   "outputs": [],
   "source": [
    "path_to_trace = os.path.join(os.getcwd(), 'hyperparameters/run_1eo28/trace.json')"
   ]
  },
  {
   "cell_type": "code",
   "execution_count": 4,
   "metadata": {},
   "outputs": [],
   "source": [
    "m52 = ConstantKernel(1.0) * Matern(length_scale=1.0, nu=2.5)\n",
    "m52_s = ConstantKernel(1.0) * Matern(length_scale=1.0, nu=2.5)\n",
    "\n",
    "gpr = GaussianProcessRegressor(kernel=m52)\n",
    "gpr_s = GaussianProcessRegressor(kernel=m52_s)"
   ]
  },
  {
   "cell_type": "code",
   "execution_count": 5,
   "metadata": {},
   "outputs": [],
   "source": [
    "with open(path_to_trace) as f:\n",
    "    trace = json.load(f)['trace']"
   ]
  },
  {
   "cell_type": "code",
   "execution_count": 6,
   "metadata": {},
   "outputs": [
    {
     "data": {
      "text/plain": [
       "{'x': {'n_epochs': 18,\n",
       "  'batch_size': 12,\n",
       "  'learning_rate': 0.02317854498433085,\n",
       "  'adam_epsilon': 0.125095546820125,\n",
       "  'n_conv_1': 2,\n",
       "  'n_filters_1': 47,\n",
       "  'kernel_size_1': 79,\n",
       "  'l2_reg_1': 0.04730964904410152,\n",
       "  'n_conv_2': 10,\n",
       "  'n_filters_2': 54,\n",
       "  'kernel_size_2': 41,\n",
       "  'l2_reg_2': 0.07996356530213358,\n",
       "  'dropout': 0.3525910668913288},\n",
       " 'expected_improvement_per_second': -0.021879228006754743,\n",
       " 'loss': 0.3385135233402252,\n",
       " 'elapsed': 3877.710918188095}"
      ]
     },
     "execution_count": 6,
     "metadata": {},
     "output_type": "execute_result"
    }
   ],
   "source": [
    "trace[0]"
   ]
  },
  {
   "cell_type": "code",
   "execution_count": 10,
   "metadata": {},
   "outputs": [],
   "source": [
    "params = [\n",
    "    'n_epochs',\n",
    "    'batch_size',\n",
    "    'learning_rate',\n",
    "    'adam_epsilon',\n",
    "    'n_conv_1',\n",
    "    'n_filters_1',\n",
    "    'kernel_size_1',\n",
    "    'l2_reg_1',\n",
    "    'n_conv_2',\n",
    "    'n_filters_2',\n",
    "    'kernel_size_2',\n",
    "    'l2_reg_2',\n",
    "    'dropout',\n",
    "]"
   ]
  },
  {
   "cell_type": "code",
   "execution_count": 7,
   "metadata": {},
   "outputs": [],
   "source": [
    "X = np.array([\n",
    "    [\n",
    "        t['x']['n_epochs'],\n",
    "        t['x']['batch_size'],\n",
    "        t['x']['learning_rate'],\n",
    "        t['x']['adam_epsilon'],\n",
    "        t['x']['n_conv_1'],\n",
    "        t['x']['n_filters_1'],\n",
    "        t['x']['kernel_size_1'],\n",
    "        t['x']['l2_reg_1'],\n",
    "        t['x']['n_conv_2'],\n",
    "        t['x']['n_filters_2'],\n",
    "        t['x']['kernel_size_2'],\n",
    "        t['x']['l2_reg_2'],\n",
    "        t['x']['dropout'],\n",
    "    ]\n",
    "    for i, t in enumerate(trace)\n",
    "], dtype='float32')\n",
    "Y = np.array([t['loss'] for t in trace])[:, np.newaxis]\n",
    "T = np.array([np.log(t['elapsed']) for t in trace])[:, np.newaxis]"
   ]
  },
  {
   "cell_type": "code",
   "execution_count": 8,
   "metadata": {},
   "outputs": [],
   "source": [
    "gpr.fit(X, Y);\n",
    "gpr_s.fit(X, T);"
   ]
  },
  {
   "cell_type": "code",
   "execution_count": 11,
   "metadata": {},
   "outputs": [
    {
     "data": {
      "text/plain": [
       "(1, 13)"
      ]
     },
     "execution_count": 11,
     "metadata": {},
     "output_type": "execute_result"
    }
   ],
   "source": [
    "X_init_def = [\n",
    "    dict(\n",
    "        n_epochs=5,\n",
    "        batch_size=32,\n",
    "        learning_rate=-4,\n",
    "        adam_epsilon=-7,\n",
    "        n_conv_1=2,\n",
    "        n_filters_1=100, \n",
    "        kernel_size_1=10,\n",
    "        l2_reg_1=0.,\n",
    "        n_conv_2=2,\n",
    "        n_filters_2=100, \n",
    "        kernel_size_2=10,\n",
    "        l2_reg_2=0.,\n",
    "        dropout=0.5,\n",
    "    ),\n",
    "]\n",
    "X_new = np.array([\n",
    "    [x[p] for p in params]\n",
    "    for x in X_init_def\n",
    "], dtype='float32')\n",
    "X_new.shape"
   ]
  },
  {
   "cell_type": "code",
   "execution_count": 38,
   "metadata": {},
   "outputs": [],
   "source": [
    "def expected_improvement_(X, X_sample, Y_sample, gpr, gpr_s, xi=0.01, per_second=False):\n",
    "    mu, sigma = gpr.predict(X, return_std=True)\n",
    "    expected_duration_ln = gpr_s.predict(X)\n",
    "    expected_duration = np.exp(expected_duration_ln)\n",
    "    \n",
    "    sigma = sigma[..., np.newaxis]\n",
    "\n",
    "    mu_sample_opt = np.max(Y_sample)\n",
    "\n",
    "    with np.errstate(divide='ignore'):\n",
    "        imp = mu - mu_sample_opt - xi\n",
    "        Z = imp / sigma\n",
    "        ei = imp * norm.cdf(Z) + sigma * norm.pdf(Z)\n",
    "        ei[sigma == 0.0] = 0.0\n",
    "\n",
    "    if per_second:\n",
    "        return ei / expected_duration\n",
    "    else:\n",
    "        return ei"
   ]
  },
  {
   "cell_type": "code",
   "execution_count": 39,
   "metadata": {},
   "outputs": [
    {
     "name": "stdout",
     "output_type": "stream",
     "text": [
      "(1,)\n",
      "(1, 1)\n"
     ]
    },
    {
     "data": {
      "text/plain": [
       "array([[0.0241454]])"
      ]
     },
     "execution_count": 39,
     "metadata": {},
     "output_type": "execute_result"
    }
   ],
   "source": [
    "expected_improvement_(X_new, X, Y, gpr, gpr_s)"
   ]
  },
  {
   "cell_type": "code",
   "execution_count": 37,
   "metadata": {},
   "outputs": [
    {
     "data": {
      "text/plain": [
       "array([[0.0241454]])"
      ]
     },
     "execution_count": 37,
     "metadata": {},
     "output_type": "execute_result"
    }
   ],
   "source": [
    "expected_improvement_(X_new, X, Y, gpr, gpr_s, per_second=True)"
   ]
  },
  {
   "cell_type": "code",
   "execution_count": null,
   "metadata": {},
   "outputs": [],
   "source": []
  }
 ],
 "metadata": {
  "kernelspec": {
   "display_name": "Python 3",
   "language": "python",
   "name": "python3"
  },
  "language_info": {
   "codemirror_mode": {
    "name": "ipython",
    "version": 3
   },
   "file_extension": ".py",
   "mimetype": "text/x-python",
   "name": "python",
   "nbconvert_exporter": "python",
   "pygments_lexer": "ipython3",
   "version": "3.7.5"
  }
 },
 "nbformat": 4,
 "nbformat_minor": 4
}
