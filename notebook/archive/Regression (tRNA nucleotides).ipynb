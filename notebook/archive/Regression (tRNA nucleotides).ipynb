{
 "cells": [
  {
   "cell_type": "code",
   "execution_count": 1,
   "metadata": {},
   "outputs": [],
   "source": [
    "import os\n",
    "\n",
    "import pandas as pd\n",
    "import numpy as np\n",
    "import tensorflow as tf\n",
    "import matplotlib.pyplot as plt\n",
    "import seaborn as sns\n",
    "\n",
    "if os.getcwd().endswith('notebook'):\n",
    "    os.chdir('..')\n",
    "\n",
    "from rna_learn.model import (\n",
    "    rnn_regression_model, \n",
    "    compile_regression_model,\n",
    ")\n",
    "from rna_learn.transform import (\n",
    "    sequence_embedding, \n",
    "    split_train_test_set, \n",
    "    make_dataset_balanced,\n",
    "    normalize, \n",
    "    denormalize,\n",
    ")\n",
    "from rna_learn.load import load_rna_nucleotides_dataset"
   ]
  },
  {
   "cell_type": "code",
   "execution_count": 2,
   "metadata": {},
   "outputs": [],
   "source": [
    "seed = 456\n",
    "np.random.seed(seed)\n",
    "\n",
    "sns.set(palette='colorblind', font_scale=1.3)"
   ]
  },
  {
   "cell_type": "markdown",
   "metadata": {},
   "source": [
    "## Model"
   ]
  },
  {
   "cell_type": "code",
   "execution_count": 3,
   "metadata": {},
   "outputs": [
    {
     "name": "stdout",
     "output_type": "stream",
     "text": [
      "Model: \"model\"\n",
      "_________________________________________________________________\n",
      "Layer (type)                 Output Shape              Param #   \n",
      "=================================================================\n",
      "sequence (InputLayer)        [(None, None, 4)]         0         \n",
      "_________________________________________________________________\n",
      "masking (Masking)            (None, None, 4)           0         \n",
      "_________________________________________________________________\n",
      "lstm (LSTM)                  (None, None, 100)         42000     \n",
      "_________________________________________________________________\n",
      "lstm_1 (LSTM)                (None, 100)               80400     \n",
      "_________________________________________________________________\n",
      "logits (Dense)               (None, 100)               10100     \n",
      "_________________________________________________________________\n",
      "dropout (Dropout)            (None, 100)               0         \n",
      "_________________________________________________________________\n",
      "dense (Dense)                (None, 1)                 101       \n",
      "=================================================================\n",
      "Total params: 132,601\n",
      "Trainable params: 132,601\n",
      "Non-trainable params: 0\n",
      "_________________________________________________________________\n"
     ]
    }
   ],
   "source": [
    "rna = 'trna'\n",
    "alphabet = ['A', 'T', 'G', 'C']\n",
    "alphabet_size = len(alphabet)\n",
    "metadata_folder = f'data/tab/{rna}.tab'\n",
    "sequences_folder = 'data/seq/'\n",
    "    \n",
    "model = rnn_regression_model(alphabet_size=alphabet_size, n_lstm=2)\n",
    "model.summary()"
   ]
  },
  {
   "cell_type": "code",
   "execution_count": 4,
   "metadata": {},
   "outputs": [],
   "source": [
    "compile_regression_model(model, learning_rate=1e-4)"
   ]
  },
  {
   "cell_type": "code",
   "execution_count": 5,
   "metadata": {},
   "outputs": [],
   "source": [
    "output_folder = os.path.join(os.getcwd(), 'saved_models', f'seed_{seed}')\n",
    "output_path = os.path.join(output_folder, f'{rna}_regression.h5')\n",
    "\n",
    "model.load_weights(output_path)"
   ]
  },
  {
   "cell_type": "markdown",
   "metadata": {},
   "source": [
    "## Data"
   ]
  },
  {
   "cell_type": "code",
   "execution_count": 6,
   "metadata": {},
   "outputs": [
    {
     "name": "stdout",
     "output_type": "stream",
     "text": [
      "CPU times: user 189 ms, sys: 148 ms, total: 337 ms\n",
      "Wall time: 339 ms\n"
     ]
    }
   ],
   "source": [
    "%%time\n",
    "metadata = pd.read_csv(metadata_folder, delimiter='\\t')\n",
    "metadata['category'] = metadata['temp.cat']\n",
    "\n",
    "sequences = load_rna_nucleotides_dataset(metadata, sequences_folder)"
   ]
  },
  {
   "cell_type": "code",
   "execution_count": 7,
   "metadata": {},
   "outputs": [
    {
     "name": "stdout",
     "output_type": "stream",
     "text": [
      "CPU times: user 191 ms, sys: 23.6 ms, total: 215 ms\n",
      "Wall time: 214 ms\n"
     ]
    }
   ],
   "source": [
    "%%time\n",
    "n_entries_per_class = 153\n",
    "y, balanced_metadata = make_dataset_balanced(\n",
    "    metadata, \n",
    "    output_col='temp', \n",
    "    n_entries_per_class=n_entries_per_class,\n",
    ")\n",
    "y = y.astype(np.float32)\n",
    "\n",
    "sequences = load_rna_nucleotides_dataset(balanced_metadata, sequences_folder)\n",
    "x = sequence_embedding(sequences, alphabet)"
   ]
  },
  {
   "cell_type": "code",
   "execution_count": 8,
   "metadata": {},
   "outputs": [],
   "source": [
    "x_train, y_train, x_test, y_test, train_idx, test_idx = split_train_test_set(\n",
    "    x, y, test_ratio=0.2, return_indices=True)\n",
    "\n",
    "mean, std = np.mean(y), np.std(y)\n",
    "\n",
    "y_test_norm = normalize(y_test, mean, std)\n",
    "y_train_norm = normalize(y_train, mean, std)"
   ]
  },
  {
   "cell_type": "markdown",
   "metadata": {},
   "source": [
    "## Evaluation"
   ]
  },
  {
   "cell_type": "code",
   "execution_count": 9,
   "metadata": {},
   "outputs": [
    {
     "name": "stdout",
     "output_type": "stream",
     "text": [
      "CPU times: user 888 ms, sys: 130 ms, total: 1.02 s\n",
      "Wall time: 665 ms\n"
     ]
    },
    {
     "data": {
      "text/plain": [
       "0.7199011650241789"
      ]
     },
     "execution_count": 9,
     "metadata": {},
     "output_type": "execute_result"
    }
   ],
   "source": [
    "%%time\n",
    "model.evaluate(x_test, y_test_norm, verbose=0)"
   ]
  },
  {
   "cell_type": "code",
   "execution_count": 10,
   "metadata": {},
   "outputs": [
    {
     "name": "stdout",
     "output_type": "stream",
     "text": [
      "CPU times: user 784 ms, sys: 188 ms, total: 973 ms\n",
      "Wall time: 599 ms\n"
     ]
    }
   ],
   "source": [
    "%%time\n",
    "y_hat = model(x_test)\n",
    "y_hat_mean = y_hat.mean().numpy().flatten()\n",
    "y_mean = denormalize(y_hat_mean, mean, std)\n",
    "y_std = denormalize(y_hat.stddev().numpy().flatten(), mean, std)"
   ]
  },
  {
   "cell_type": "code",
   "execution_count": 11,
   "metadata": {},
   "outputs": [],
   "source": [
    "def plot_true_vs_prediction_scatter(metadata, y_true, y_pred):\n",
    "    f, ax = plt.subplots(1, 1, figsize=(8, 8))\n",
    "    \n",
    "    palette = sns.color_palette()\n",
    "    \n",
    "    for i, tpl in enumerate(metadata.itertuples()):\n",
    "        y_t = y_true[i]\n",
    "        y_p = y_pred[i]\n",
    "        ax.plot(y_t, y_p, 'o', color=palette[0])\n",
    "    \n",
    "    x_straight = range(0, 100)\n",
    "    ax.plot(x_straight, x_straight, '--', color=palette[1], alpha=0.5)\n",
    "    \n",
    "    ax.set_xlabel('Temperature °C (true)')\n",
    "    ax.set_ylabel('Temperature °C (prediction)')"
   ]
  },
  {
   "cell_type": "code",
   "execution_count": 12,
   "metadata": {},
   "outputs": [
    {
     "data": {
      "image/png": "[encoded data removed]",
      "text/plain": [
       "<Figure size 576x576 with 1 Axes>"
      ]
     },
     "metadata": {},
     "output_type": "display_data"
    }
   ],
   "source": [
    "plot_true_vs_prediction_scatter(balanced_metadata.iloc[test_idx], y_test, y_mean)"
   ]
  },
  {
   "cell_type": "code",
   "execution_count": null,
   "metadata": {},
   "outputs": [],
   "source": []
  }
 ],
 "metadata": {
  "kernelspec": {
   "display_name": "Python 3",
   "language": "python",
   "name": "python3"
  },
  "language_info": {
   "codemirror_mode": {
    "name": "ipython",
    "version": 3
   },
   "file_extension": ".py",
   "mimetype": "text/x-python",
   "name": "python",
   "nbconvert_exporter": "python",
   "pygments_lexer": "ipython3",
   "version": "3.7.6"
  }
 },
 "nbformat": 4,
 "nbformat_minor": 2
}
