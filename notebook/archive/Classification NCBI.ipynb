{
 "cells": [
  {
   "cell_type": "code",
   "execution_count": 1,
   "metadata": {},
   "outputs": [],
   "source": [
    "import os\n",
    "\n",
    "import pandas as pd\n",
    "import numpy as np\n",
    "import tensorflow as tf\n",
    "import matplotlib.pyplot as plt\n",
    "import seaborn as sns\n",
    "import json\n",
    "\n",
    "if os.getcwd().endswith('notebook'):\n",
    "    os.chdir('..')\n",
    "\n",
    "from rna_learn.transform import (\n",
    "    sequence_embedding, \n",
    "    normalize, denormalize,\n",
    "    make_dataset_balanced,\n",
    "    one_hot_encode_classes,\n",
    "    split_train_test_set,\n",
    "    get_x_extras,\n",
    ")\n",
    "from rna_learn.model import (\n",
    "    conv1d_classification_model,\n",
    "    compile_classification_model,\n",
    ")\n",
    "from rna_learn.load import load_mrna_model, load_dataset"
   ]
  },
  {
   "cell_type": "code",
   "execution_count": 2,
   "metadata": {},
   "outputs": [],
   "source": [
    "sns.set(palette='colorblind', font_scale=1.3)"
   ]
  },
  {
   "cell_type": "code",
   "execution_count": 3,
   "metadata": {},
   "outputs": [],
   "source": [
    "alphabet = ['A', 'T', 'G', 'C']\n",
    "classes = ['psychrophilic', 'mesophilic', 'thermophilic']\n",
    "\n",
    "model = conv1d_classification_model(\n",
    "    alphabet_size=len(alphabet), \n",
    "    n_classes=len(classes),\n",
    "    n_conv_1=10,\n",
    "    n_filters_1=100, \n",
    "    kernel_size_1=58,\n",
    "    l2_reg_1=0.,\n",
    "    n_conv_2=10,\n",
    "    n_filters_2=100, \n",
    "    kernel_size_2=40,\n",
    "    l2_reg_2=0.,\n",
    "    dropout=0.5,\n",
    ")\n",
    "compile_classification_model(\n",
    "    model,\n",
    "    learning_rate=1e-4,\n",
    "    epsilon=1e-7\n",
    ")"
   ]
  },
  {
   "cell_type": "code",
   "execution_count": 4,
   "metadata": {},
   "outputs": [
    {
     "name": "stdout",
     "output_type": "stream",
     "text": [
      "Model: \"model\"\n",
      "_________________________________________________________________\n",
      "Layer (type)                 Output Shape              Param #   \n",
      "=================================================================\n",
      "sequence (InputLayer)        [(None, None, 4)]         0         \n",
      "_________________________________________________________________\n",
      "conv1d (Conv1D)              (None, None, 100)         23300     \n",
      "_________________________________________________________________\n",
      "conv1d_1 (Conv1D)            (None, None, 100)         580100    \n",
      "_________________________________________________________________\n",
      "conv1d_2 (Conv1D)            (None, None, 100)         580100    \n",
      "_________________________________________________________________\n",
      "conv1d_3 (Conv1D)            (None, None, 100)         580100    \n",
      "_________________________________________________________________\n",
      "conv1d_4 (Conv1D)            (None, None, 100)         580100    \n",
      "_________________________________________________________________\n",
      "conv1d_5 (Conv1D)            (None, None, 100)         580100    \n",
      "_________________________________________________________________\n",
      "conv1d_6 (Conv1D)            (None, None, 100)         580100    \n",
      "_________________________________________________________________\n",
      "conv1d_7 (Conv1D)            (None, None, 100)         580100    \n",
      "_________________________________________________________________\n",
      "conv1d_8 (Conv1D)            (None, None, 100)         580100    \n",
      "_________________________________________________________________\n",
      "conv1d_9 (Conv1D)            (None, None, 100)         580100    \n",
      "_________________________________________________________________\n",
      "conv1d_10 (Conv1D)           (None, None, 100)         400100    \n",
      "_________________________________________________________________\n",
      "conv1d_11 (Conv1D)           (None, None, 100)         400100    \n",
      "_________________________________________________________________\n",
      "conv1d_12 (Conv1D)           (None, None, 100)         400100    \n",
      "_________________________________________________________________\n",
      "conv1d_13 (Conv1D)           (None, None, 100)         400100    \n",
      "_________________________________________________________________\n",
      "conv1d_14 (Conv1D)           (None, None, 100)         400100    \n",
      "_________________________________________________________________\n",
      "conv1d_15 (Conv1D)           (None, None, 100)         400100    \n",
      "_________________________________________________________________\n",
      "conv1d_16 (Conv1D)           (None, None, 100)         400100    \n",
      "_________________________________________________________________\n",
      "conv1d_17 (Conv1D)           (None, None, 100)         400100    \n",
      "_________________________________________________________________\n",
      "conv1d_18 (Conv1D)           (None, None, 100)         400100    \n",
      "_________________________________________________________________\n",
      "conv1d_19 (Conv1D)           (None, None, 100)         400100    \n",
      "_________________________________________________________________\n",
      "global_average_pooling1d (Gl (None, 100)               0         \n",
      "_________________________________________________________________\n",
      "dropout (Dropout)            (None, 100)               0         \n",
      "_________________________________________________________________\n",
      "dense (Dense)                (None, 3)                 303       \n",
      "=================================================================\n",
      "Total params: 9,245,503\n",
      "Trainable params: 9,245,503\n",
      "Non-trainable params: 0\n",
      "_________________________________________________________________\n"
     ]
    }
   ],
   "source": [
    "model.summary()"
   ]
  },
  {
   "cell_type": "code",
   "execution_count": 6,
   "metadata": {},
   "outputs": [
    {
     "name": "stdout",
     "output_type": "stream",
     "text": [
      "(3700, 3483, 4) (3700, 3)\n"
     ]
    }
   ],
   "source": [
    "test_set_path = os.path.join(os.getcwd(), 'data/dataset_test.csv')\n",
    "\n",
    "dataset_df = pd.read_csv(test_set_path)\n",
    "\n",
    "sequences = dataset_df['sequence'].values\n",
    "temperature_classes = dataset_df['temperature_range'].values\n",
    "\n",
    "x_test = sequence_embedding(sequences, alphabet)\n",
    "y_test = one_hot_encode_classes(temperature_classes, classes)\n",
    "\n",
    "print(x_test.shape, y_test.shape)"
   ]
  },
  {
   "cell_type": "code",
   "execution_count": null,
   "metadata": {},
   "outputs": [],
   "source": [
    "model.evaluate(x_test, y_test, verbose=1)"
   ]
  },
  {
   "cell_type": "code",
   "execution_count": 8,
   "metadata": {},
   "outputs": [
    {
     "name": "stdout",
     "output_type": "stream",
     "text": [
      "CPU times: user 2min 28s, sys: 1min, total: 3min 28s\n",
      "Wall time: 46.7 s\n"
     ]
    }
   ],
   "source": [
    "%%time\n",
    "y_pred = model(x_test)\n",
    "\n",
    "labels = [np.argmax(el) for el in y_test]\n",
    "predictions = [np.argmax(el) for el in y_pred]"
   ]
  },
  {
   "cell_type": "code",
   "execution_count": 9,
   "metadata": {},
   "outputs": [],
   "source": [
    "def plot_confusion_matrix(labels, predictions, classes):\n",
    "    conf = tf.math.confusion_matrix(labels, predictions).numpy()\n",
    "    conf_sum = np.sum(conf, axis=1)\n",
    "    conf_p = conf / conf_sum\n",
    "    \n",
    "    df_cm = pd.DataFrame(\n",
    "        conf_p, \n",
    "        index=[f'{c}: {i}' for i, c in enumerate(classes)],\n",
    "        columns=[f'{i}' for i, c in enumerate(classes)],\n",
    "    )\n",
    "    ax = sns.heatmap(df_cm, cmap=\"Purples\", annot=True, fmt='.0%', cbar=False);\n",
    "    ax.set_xlabel('Predictions');\n",
    "    ax.set_ylabel('Labels');"
   ]
  },
  {
   "cell_type": "code",
   "execution_count": 10,
   "metadata": {},
   "outputs": [
    {
     "data": {
      "image/png": "[encoded data removed]",
      "text/plain": [
       "<Figure size 432x288 with 1 Axes>"
      ]
     },
     "metadata": {},
     "output_type": "display_data"
    }
   ],
   "source": [
    "plot_confusion_matrix(labels, predictions, classes)"
   ]
  },
  {
   "cell_type": "code",
   "execution_count": null,
   "metadata": {},
   "outputs": [],
   "source": []
  }
 ],
 "metadata": {
  "kernelspec": {
   "display_name": "Python 3",
   "language": "python",
   "name": "python3"
  },
  "language_info": {
   "codemirror_mode": {
    "name": "ipython",
    "version": 3
   },
   "file_extension": ".py",
   "mimetype": "text/x-python",
   "name": "python",
   "nbconvert_exporter": "python",
   "pygments_lexer": "ipython3",
   "version": "3.7.5"
  }
 },
 "nbformat": 4,
 "nbformat_minor": 2
}
