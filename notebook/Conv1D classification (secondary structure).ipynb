{
 "cells": [
  {
   "cell_type": "code",
   "execution_count": 1,
   "metadata": {},
   "outputs": [],
   "source": [
    "import collections\n",
    "import os\n",
    "import json\n",
    "\n",
    "import pandas as pd\n",
    "import numpy as np\n",
    "import tensorflow as tf\n",
    "import matplotlib.pyplot as plt\n",
    "import seaborn as sns\n",
    "from tensorflow.keras.models import load_model\n",
    "import statsmodels.api as sm\n",
    "\n",
    "if os.getcwd().endswith('notebook'):\n",
    "    os.chdir('..')\n",
    "\n",
    "from rna_learn.transform import (\n",
    "    sequence_embedding, \n",
    "    normalize, denormalize,\n",
    "    make_dataset_balanced,\n",
    "    one_hot_encode_classes,\n",
    "    split_train_test_set,\n",
    ")\n",
    "from rna_learn.load import load_mrna_model, load_dataset\n",
    "from rna_learn.model import conv1d_classification_model\n",
    "from rna_learn.vae import variational_autoencoder, compile_vae"
   ]
  },
  {
   "cell_type": "code",
   "execution_count": 2,
   "metadata": {},
   "outputs": [],
   "source": [
    "sns.set(palette='colorblind', font_scale=1.3)"
   ]
  },
  {
   "cell_type": "code",
   "execution_count": 3,
   "metadata": {},
   "outputs": [],
   "source": [
    "alphabet_primary = ['A', 'T', 'G', 'C']\n",
    "alphabet = ['.', '(', ')']\n",
    "classes = ['psychrophilic', 'mesophilic', 'thermophilic']"
   ]
  },
  {
   "cell_type": "code",
   "execution_count": 5,
   "metadata": {},
   "outputs": [],
   "source": [
    "therun_id = 'run_mpfr1'\n",
    "output_folder = os.path.join(os.getcwd(), f'saved_models_2d/{run_id}/')\n",
    "model_path = os.path.join(output_folder, f'model.h5')\n",
    "hyperparameters_path = os.path.join(output_folder, f'metadata.json')\n",
    "test_set_path = os.path.join(os.getcwd(), 'data/dataset_test.csv')"
   ]
  },
  {
   "cell_type": "code",
   "execution_count": 6,
   "metadata": {},
   "outputs": [
    {
     "data": {
      "text/plain": [
       "{'run_id': 'run_mpfr1',\n",
       " 'alphabet': ['.', '(', ')'],\n",
       " 'classes': ['psychrophilic', 'mesophilic', 'thermophilic'],\n",
       " 'n_epochs': 9,\n",
       " 'n_conv_1': 2,\n",
       " 'n_filters_1': 100,\n",
       " 'kernel_size_1': 10,\n",
       " 'n_conv_2': 0,\n",
       " 'n_filters_2': 0,\n",
       " 'kernel_size_2': 0,\n",
       " 'l2_reg': 0.0001,\n",
       " 'dropout': 0.5,\n",
       " 'val_loss': 1.099292516708374,\n",
       " 'val_accuracy': 0.3609789311885834}"
      ]
     },
     "execution_count": 6,
     "metadata": {},
     "output_type": "execute_result"
    }
   ],
   "source": [
    "with open(hyperparameters_path) as f:\n",
    "    hyperparameters = json.load(f)\n",
    "    \n",
    "hyperparameters"
   ]
  },
  {
   "cell_type": "code",
   "execution_count": 7,
   "metadata": {},
   "outputs": [
    {
     "name": "stdout",
     "output_type": "stream",
     "text": [
      "Model: \"model\"\n",
      "_________________________________________________________________\n",
      "Layer (type)                 Output Shape              Param #   \n",
      "=================================================================\n",
      "sequence (InputLayer)        [(None, None, 3)]         0         \n",
      "_________________________________________________________________\n",
      "conv1d (Conv1D)              (None, None, 100)         3100      \n",
      "_________________________________________________________________\n",
      "conv1d_1 (Conv1D)            (None, None, 100)         100100    \n",
      "_________________________________________________________________\n",
      "global_average_pooling1d (Gl (None, 100)               0         \n",
      "_________________________________________________________________\n",
      "dropout (Dropout)            (None, 100)               0         \n",
      "_________________________________________________________________\n",
      "dense (Dense)                (None, 3)                 303       \n",
      "=================================================================\n",
      "Total params: 103,503\n",
      "Trainable params: 103,503\n",
      "Non-trainable params: 0\n",
      "_________________________________________________________________\n"
     ]
    }
   ],
   "source": [
    "model = load_model(model_path)\n",
    "model.summary()"
   ]
  },
  {
   "cell_type": "code",
   "execution_count": 8,
   "metadata": {},
   "outputs": [
    {
     "data": {
      "text/html": [
       "<div>\n",
       "<style scoped>\n",
       "    .dataframe tbody tr th:only-of-type {\n",
       "        vertical-align: middle;\n",
       "    }\n",
       "\n",
       "    .dataframe tbody tr th {\n",
       "        vertical-align: top;\n",
       "    }\n",
       "\n",
       "    .dataframe thead th {\n",
       "        text-align: right;\n",
       "    }\n",
       "</style>\n",
       "<table border=\"1\" class=\"dataframe\">\n",
       "  <thead>\n",
       "    <tr style=\"text-align: right;\">\n",
       "      <th></th>\n",
       "      <th>specie_name</th>\n",
       "      <th>seqid</th>\n",
       "      <th>gene_name</th>\n",
       "      <th>start_inclusive</th>\n",
       "      <th>end_exclusive</th>\n",
       "      <th>length</th>\n",
       "      <th>strand</th>\n",
       "      <th>temperature</th>\n",
       "      <th>temperature_range</th>\n",
       "      <th>sequence</th>\n",
       "      <th>gc_content</th>\n",
       "      <th>secondary_structure</th>\n",
       "      <th>paired_nucleotides</th>\n",
       "    </tr>\n",
       "  </thead>\n",
       "  <tbody>\n",
       "    <tr>\n",
       "      <th>0</th>\n",
       "      <td>Micropolyspora internatus</td>\n",
       "      <td>NC_013159.1</td>\n",
       "      <td>rnpB</td>\n",
       "      <td>742238</td>\n",
       "      <td>742645</td>\n",
       "      <td>407</td>\n",
       "      <td>+</td>\n",
       "      <td>45.0</td>\n",
       "      <td>thermophilic</td>\n",
       "      <td>CGAGTTGGCAGGGCGGCCGCGGCCGAGGGCATCGTCTCGACGTCTT...</td>\n",
       "      <td>0.685504</td>\n",
       "      <td>((((((((((((((..((.(((((((((((.(((...))).)))))...</td>\n",
       "      <td>0.707617</td>\n",
       "    </tr>\n",
       "    <tr>\n",
       "      <th>1</th>\n",
       "      <td>Listonella anguillarum</td>\n",
       "      <td>NC_015633.1</td>\n",
       "      <td>recA</td>\n",
       "      <td>2753532</td>\n",
       "      <td>2754579</td>\n",
       "      <td>1047</td>\n",
       "      <td>-</td>\n",
       "      <td>20.0</td>\n",
       "      <td>psychrophilic</td>\n",
       "      <td>ATGGACGAAAATAAGCAGAAGGCGCTAGCCGCAGCACTGGGTCAAA...</td>\n",
       "      <td>0.442216</td>\n",
       "      <td>....................(((....)))(((((..(((((((((...</td>\n",
       "      <td>0.617001</td>\n",
       "    </tr>\n",
       "    <tr>\n",
       "      <th>2</th>\n",
       "      <td>Comamonas badia</td>\n",
       "      <td>NZ_AXVM01000006.1</td>\n",
       "      <td>rpsR</td>\n",
       "      <td>29593</td>\n",
       "      <td>29878</td>\n",
       "      <td>285</td>\n",
       "      <td>-</td>\n",
       "      <td>28.0</td>\n",
       "      <td>mesophilic</td>\n",
       "      <td>TTGACCATGTTCAGGAAATTCAACAAGAATGGCAAGAACGGCAAGC...</td>\n",
       "      <td>0.568421</td>\n",
       "      <td>(((.((..((((..(..((((.....))))..)..)))))))))((...</td>\n",
       "      <td>0.610526</td>\n",
       "    </tr>\n",
       "    <tr>\n",
       "      <th>3</th>\n",
       "      <td>Acetobacter orientalis</td>\n",
       "      <td>NZ_BAMX01000009.1</td>\n",
       "      <td>tsaD</td>\n",
       "      <td>11584</td>\n",
       "      <td>12799</td>\n",
       "      <td>1215</td>\n",
       "      <td>-</td>\n",
       "      <td>30.0</td>\n",
       "      <td>mesophilic</td>\n",
       "      <td>ATGGCGGTCAGCAGCCAGTTTTCAGGCTTACCCGGCACCCCTCACA...</td>\n",
       "      <td>0.596708</td>\n",
       "      <td>.(((.((((...((((........)))).....(((.............</td>\n",
       "      <td>0.627160</td>\n",
       "    </tr>\n",
       "    <tr>\n",
       "      <th>4</th>\n",
       "      <td>Alicyclobacillus kakegawensis</td>\n",
       "      <td>NZ_BCRP01000001.1</td>\n",
       "      <td>tsaD</td>\n",
       "      <td>64880</td>\n",
       "      <td>65918</td>\n",
       "      <td>1038</td>\n",
       "      <td>-</td>\n",
       "      <td>50.0</td>\n",
       "      <td>thermophilic</td>\n",
       "      <td>TTGCTCCTGTTGGGCATTGAGACGAGTTGCGACGAGACCGCCGCGG...</td>\n",
       "      <td>0.680154</td>\n",
       "      <td>......((((.(((((.((...((....((((((.(((((.(((((...</td>\n",
       "      <td>0.697495</td>\n",
       "    </tr>\n",
       "  </tbody>\n",
       "</table>\n",
       "</div>"
      ],
      "text/plain": [
       "                     specie_name              seqid gene_name  \\\n",
       "0      Micropolyspora internatus        NC_013159.1      rnpB   \n",
       "1         Listonella anguillarum        NC_015633.1      recA   \n",
       "2                Comamonas badia  NZ_AXVM01000006.1      rpsR   \n",
       "3         Acetobacter orientalis  NZ_BAMX01000009.1      tsaD   \n",
       "4  Alicyclobacillus kakegawensis  NZ_BCRP01000001.1      tsaD   \n",
       "\n",
       "   start_inclusive  end_exclusive  length strand  temperature  \\\n",
       "0           742238         742645     407      +         45.0   \n",
       "1          2753532        2754579    1047      -         20.0   \n",
       "2            29593          29878     285      -         28.0   \n",
       "3            11584          12799    1215      -         30.0   \n",
       "4            64880          65918    1038      -         50.0   \n",
       "\n",
       "  temperature_range                                           sequence  \\\n",
       "0      thermophilic  CGAGTTGGCAGGGCGGCCGCGGCCGAGGGCATCGTCTCGACGTCTT...   \n",
       "1     psychrophilic  ATGGACGAAAATAAGCAGAAGGCGCTAGCCGCAGCACTGGGTCAAA...   \n",
       "2        mesophilic  TTGACCATGTTCAGGAAATTCAACAAGAATGGCAAGAACGGCAAGC...   \n",
       "3        mesophilic  ATGGCGGTCAGCAGCCAGTTTTCAGGCTTACCCGGCACCCCTCACA...   \n",
       "4      thermophilic  TTGCTCCTGTTGGGCATTGAGACGAGTTGCGACGAGACCGCCGCGG...   \n",
       "\n",
       "   gc_content                                secondary_structure  \\\n",
       "0    0.685504  ((((((((((((((..((.(((((((((((.(((...))).)))))...   \n",
       "1    0.442216  ....................(((....)))(((((..(((((((((...   \n",
       "2    0.568421  (((.((..((((..(..((((.....))))..)..)))))))))((...   \n",
       "3    0.596708  .(((.((((...((((........)))).....(((.............   \n",
       "4    0.680154  ......((((.(((((.((...((....((((((.(((((.(((((...   \n",
       "\n",
       "   paired_nucleotides  \n",
       "0            0.707617  \n",
       "1            0.617001  \n",
       "2            0.610526  \n",
       "3            0.627160  \n",
       "4            0.697495  "
      ]
     },
     "execution_count": 8,
     "metadata": {},
     "output_type": "execute_result"
    }
   ],
   "source": [
    "dataset_df = load_dataset(test_set_path, alphabet_primary)\n",
    "dataset_df.head()"
   ]
  },
  {
   "cell_type": "code",
   "execution_count": 9,
   "metadata": {},
   "outputs": [],
   "source": [
    "sequences = dataset_df['secondary_structure'].values\n",
    "temperature_classes = dataset_df['temperature_range'].values\n",
    "\n",
    "x_test = sequence_embedding(sequences, alphabet)\n",
    "y_test = one_hot_encode_classes(temperature_classes, classes)"
   ]
  },
  {
   "cell_type": "code",
   "execution_count": 10,
   "metadata": {},
   "outputs": [
    {
     "name": "stdout",
     "output_type": "stream",
     "text": [
      "CPU times: user 1min 13s, sys: 984 ms, total: 1min 14s\n",
      "Wall time: 11.2 s\n"
     ]
    },
    {
     "data": {
      "text/plain": [
       "[1.0979865629608567, 0.3737838]"
      ]
     },
     "execution_count": 10,
     "metadata": {},
     "output_type": "execute_result"
    }
   ],
   "source": [
    "%%time\n",
    "model.evaluate(x_test, y_test, verbose=0)"
   ]
  },
  {
   "cell_type": "code",
   "execution_count": 11,
   "metadata": {},
   "outputs": [
    {
     "name": "stdout",
     "output_type": "stream",
     "text": [
      "CPU times: user 1min 34s, sys: 42.2 s, total: 2min 16s\n",
      "Wall time: 29.7 s\n"
     ]
    }
   ],
   "source": [
    "%%time\n",
    "y_pred = model(x_test)\n",
    "\n",
    "labels = [np.argmax(el) for el in y_test]\n",
    "predictions = [np.argmax(el) for el in y_pred]"
   ]
  },
  {
   "cell_type": "code",
   "execution_count": 12,
   "metadata": {},
   "outputs": [],
   "source": [
    "def plot_confusion_matrix(labels, predictions, classes, ax=None):\n",
    "    if ax is None:\n",
    "        _, ax = plt.subplots(1, 1, figsize=(10, 5))\n",
    "        \n",
    "    conf = tf.math.confusion_matrix(labels, predictions).numpy()\n",
    "    conf_sum = np.sum(conf, axis=1)\n",
    "    conf_p = conf / conf_sum\n",
    "    \n",
    "    df_cm = pd.DataFrame(\n",
    "        conf_p, \n",
    "        index=[f'{c.title()}' for i, c in enumerate(classes)],\n",
    "        columns=[f'{c.title()}' for i, c in enumerate(classes)],\n",
    "    )\n",
    "    ax = sns.heatmap(df_cm, cmap=\"Greys\", annot=True, fmt='.0%', cbar=False, ax=ax);\n",
    "    plt.yticks(rotation=0)\n",
    "    ax.set_xlabel('\\nPredictions');\n",
    "    ax.set_ylabel('Labels');\n",
    "    ax.set_title('Confusion Matrix')"
   ]
  },
  {
   "cell_type": "code",
   "execution_count": 13,
   "metadata": {},
   "outputs": [
    {
     "data": {
      "image/png": "[encoded data removed]",
      "text/plain": [
       "<Figure size 720x360 with 1 Axes>"
      ]
     },
     "metadata": {},
     "output_type": "display_data"
    }
   ],
   "source": [
    "plot_confusion_matrix(labels, predictions, classes)"
   ]
  },
  {
   "cell_type": "code",
   "execution_count": null,
   "metadata": {},
   "outputs": [],
   "source": []
  }
 ],
 "metadata": {
  "kernelspec": {
   "display_name": "Python 3",
   "language": "python",
   "name": "python3"
  },
  "language_info": {
   "codemirror_mode": {
    "name": "ipython",
    "version": 3
   },
   "file_extension": ".py",
   "mimetype": "text/x-python",
   "name": "python",
   "nbconvert_exporter": "python",
   "pygments_lexer": "ipython3",
   "version": "3.7.6"
  }
 },
 "nbformat": 4,
 "nbformat_minor": 4
}
