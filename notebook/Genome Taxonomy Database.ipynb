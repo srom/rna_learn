{
 "cells": [
  {
   "cell_type": "code",
   "execution_count": 219,
   "metadata": {},
   "outputs": [],
   "source": [
    "import collections\n",
    "import os\n",
    "\n",
    "import pandas as pd\n",
    "import numpy as np\n",
    "import matplotlib.pyplot as plt\n",
    "import seaborn as sns\n",
    "\n",
    "if os.getcwd().endswith('notebook'):\n",
    "    os.chdir('..')\n",
    "    \n",
    "from Bio import SeqIO\n",
    "from Bio.Seq import Seq\n",
    "from Bio.Data import CodonTable"
   ]
  },
  {
   "cell_type": "code",
   "execution_count": 249,
   "metadata": {},
   "outputs": [],
   "source": [
    "default_random_seed = 444\n",
    "sns.set(palette='colorblind', font_scale=1.3)"
   ]
  },
  {
   "cell_type": "code",
   "execution_count": 4,
   "metadata": {},
   "outputs": [],
   "source": [
    "metadata_path = os.path.join(os.getcwd(), 'data/gtdb/bac120_metadata.tsv')\n",
    "metadata_df = pd.read_csv(metadata_path, delimiter='\\t')"
   ]
  },
  {
   "cell_type": "code",
   "execution_count": 22,
   "metadata": {},
   "outputs": [
    {
     "data": {
      "text/plain": [
       "(2178, 3)"
      ]
     },
     "execution_count": 22,
     "metadata": {},
     "output_type": "execute_result"
    }
   ],
   "source": [
    "species_with_ogt_path = os.path.join(os.getcwd(), 'data/species_with_ogt.csv')\n",
    "species_with_ogt_df = pd.read_csv(species_with_ogt_path)\n",
    "species_with_ogt_df.shape"
   ]
  },
  {
   "cell_type": "code",
   "execution_count": 96,
   "metadata": {},
   "outputs": [
    {
     "data": {
      "text/html": [
       "<div>\n",
       "<style scoped>\n",
       "    .dataframe tbody tr th:only-of-type {\n",
       "        vertical-align: middle;\n",
       "    }\n",
       "\n",
       "    .dataframe tbody tr th {\n",
       "        vertical-align: top;\n",
       "    }\n",
       "\n",
       "    .dataframe thead th {\n",
       "        text-align: right;\n",
       "    }\n",
       "</style>\n",
       "<table border=\"1\" class=\"dataframe\">\n",
       "  <thead>\n",
       "    <tr style=\"text-align: right;\">\n",
       "      <th></th>\n",
       "      <th>specie_name</th>\n",
       "      <th>temperature</th>\n",
       "      <th>temperature_range</th>\n",
       "    </tr>\n",
       "  </thead>\n",
       "  <tbody>\n",
       "    <tr>\n",
       "      <th>0</th>\n",
       "      <td>Abiotrophia defectiva</td>\n",
       "      <td>37.0</td>\n",
       "      <td>mesophilic</td>\n",
       "    </tr>\n",
       "    <tr>\n",
       "      <th>1</th>\n",
       "      <td>Acetoanaerobium sticklandii</td>\n",
       "      <td>35.0</td>\n",
       "      <td>mesophilic</td>\n",
       "    </tr>\n",
       "    <tr>\n",
       "      <th>2</th>\n",
       "      <td>Acetobacter cerevisiae</td>\n",
       "      <td>26.0</td>\n",
       "      <td>mesophilic</td>\n",
       "    </tr>\n",
       "    <tr>\n",
       "      <th>3</th>\n",
       "      <td>Acetobacter cibinongensis</td>\n",
       "      <td>30.0</td>\n",
       "      <td>mesophilic</td>\n",
       "    </tr>\n",
       "    <tr>\n",
       "      <th>4</th>\n",
       "      <td>Acetobacter ghanensis</td>\n",
       "      <td>30.0</td>\n",
       "      <td>mesophilic</td>\n",
       "    </tr>\n",
       "  </tbody>\n",
       "</table>\n",
       "</div>"
      ],
      "text/plain": [
       "                   specie_name  temperature temperature_range\n",
       "0        Abiotrophia defectiva         37.0        mesophilic\n",
       "1  Acetoanaerobium sticklandii         35.0        mesophilic\n",
       "2       Acetobacter cerevisiae         26.0        mesophilic\n",
       "3    Acetobacter cibinongensis         30.0        mesophilic\n",
       "4        Acetobacter ghanensis         30.0        mesophilic"
      ]
     },
     "execution_count": 96,
     "metadata": {},
     "output_type": "execute_result"
    }
   ],
   "source": [
    "species_with_ogt_df.head()"
   ]
  },
  {
   "cell_type": "code",
   "execution_count": 87,
   "metadata": {},
   "outputs": [
    {
     "data": {
      "text/html": [
       "<div>\n",
       "<style scoped>\n",
       "    .dataframe tbody tr th:only-of-type {\n",
       "        vertical-align: middle;\n",
       "    }\n",
       "\n",
       "    .dataframe tbody tr th {\n",
       "        vertical-align: top;\n",
       "    }\n",
       "\n",
       "    .dataframe thead th {\n",
       "        text-align: right;\n",
       "    }\n",
       "</style>\n",
       "<table border=\"1\" class=\"dataframe\">\n",
       "  <thead>\n",
       "    <tr style=\"text-align: right;\">\n",
       "      <th></th>\n",
       "      <th>Marker Id</th>\n",
       "      <th>Name</th>\n",
       "      <th>Description</th>\n",
       "      <th>Length (bp)</th>\n",
       "      <th>Single copy (%)</th>\n",
       "      <th>Ubiquity (%)</th>\n",
       "    </tr>\n",
       "  </thead>\n",
       "  <tbody>\n",
       "    <tr>\n",
       "      <th>0</th>\n",
       "      <td>PFAM_PF00380.14</td>\n",
       "      <td>Ribosomal_S9</td>\n",
       "      <td>Ribosomal protein S9/S16</td>\n",
       "      <td>121</td>\n",
       "      <td>94.61</td>\n",
       "      <td>95.34</td>\n",
       "    </tr>\n",
       "    <tr>\n",
       "      <th>1</th>\n",
       "      <td>PFAM_PF00410.14</td>\n",
       "      <td>Ribosomal_S8</td>\n",
       "      <td>Ribosomal protein S8</td>\n",
       "      <td>129</td>\n",
       "      <td>93.32</td>\n",
       "      <td>93.93</td>\n",
       "    </tr>\n",
       "    <tr>\n",
       "      <th>2</th>\n",
       "      <td>PFAM_PF00466.15</td>\n",
       "      <td>Ribosomal_L10</td>\n",
       "      <td>Ribosomal protein L10</td>\n",
       "      <td>100</td>\n",
       "      <td>91.72</td>\n",
       "      <td>92.21</td>\n",
       "    </tr>\n",
       "    <tr>\n",
       "      <th>3</th>\n",
       "      <td>PFAM_PF01025.14</td>\n",
       "      <td>GrpE</td>\n",
       "      <td>GrpE</td>\n",
       "      <td>166</td>\n",
       "      <td>88.70</td>\n",
       "      <td>96.47</td>\n",
       "    </tr>\n",
       "    <tr>\n",
       "      <th>4</th>\n",
       "      <td>PFAM_PF02576.12</td>\n",
       "      <td>DUF150</td>\n",
       "      <td>Uncharacterised BCR, YhbC family COG0779</td>\n",
       "      <td>141</td>\n",
       "      <td>82.98</td>\n",
       "      <td>83.47</td>\n",
       "    </tr>\n",
       "  </tbody>\n",
       "</table>\n",
       "</div>"
      ],
      "text/plain": [
       "         Marker Id           Name                               Description  \\\n",
       "0  PFAM_PF00380.14   Ribosomal_S9                  Ribosomal protein S9/S16   \n",
       "1  PFAM_PF00410.14   Ribosomal_S8                      Ribosomal protein S8   \n",
       "2  PFAM_PF00466.15  Ribosomal_L10                     Ribosomal protein L10   \n",
       "3  PFAM_PF01025.14           GrpE                                      GrpE   \n",
       "4  PFAM_PF02576.12         DUF150  Uncharacterised BCR, YhbC family COG0779   \n",
       "\n",
       "   Length (bp)  Single copy (%)  Ubiquity (%)  \n",
       "0          121            94.61         95.34  \n",
       "1          129            93.32         93.93  \n",
       "2          100            91.72         92.21  \n",
       "3          166            88.70         96.47  \n",
       "4          141            82.98         83.47  "
      ]
     },
     "execution_count": 87,
     "metadata": {},
     "output_type": "execute_result"
    }
   ],
   "source": [
    "marker_info_path = os.path.join(os.getcwd(), 'data/gtdb/bac120_msa_marker_info.tsv')\n",
    "marker_info_df = pd.read_csv(marker_info_path, delimiter='\\t')\n",
    "marker_info_df.head()"
   ]
  },
  {
   "cell_type": "code",
   "execution_count": 95,
   "metadata": {},
   "outputs": [
    {
     "data": {
      "text/plain": [
       "(120, 6)"
      ]
     },
     "execution_count": 95,
     "metadata": {},
     "output_type": "execute_result"
    }
   ],
   "source": [
    "marker_info_df.shape"
   ]
  },
  {
   "cell_type": "code",
   "execution_count": 6,
   "metadata": {},
   "outputs": [
    {
     "data": {
      "text/plain": [
       "(143512, 110)"
      ]
     },
     "execution_count": 6,
     "metadata": {},
     "output_type": "execute_result"
    }
   ],
   "source": [
    "metadata_df.shape"
   ]
  },
  {
   "cell_type": "code",
   "execution_count": 8,
   "metadata": {},
   "outputs": [
    {
     "data": {
      "text/plain": [
       "['accession',\n",
       " 'ambiguous_bases',\n",
       " 'checkm_completeness',\n",
       " 'checkm_contamination',\n",
       " 'checkm_marker_count',\n",
       " 'checkm_marker_lineage',\n",
       " 'checkm_marker_set_count',\n",
       " 'checkm_strain_heterogeneity',\n",
       " 'coding_bases',\n",
       " 'coding_density',\n",
       " 'contig_count',\n",
       " 'gc_count',\n",
       " 'gc_percentage',\n",
       " 'genome_size',\n",
       " 'gtdb_genome_representative',\n",
       " 'gtdb_representative',\n",
       " 'gtdb_taxonomy',\n",
       " 'gtdb_type_designation',\n",
       " 'gtdb_type_designation_sources',\n",
       " 'gtdb_type_species_of_genus',\n",
       " 'l50_contigs',\n",
       " 'l50_scaffolds',\n",
       " 'longest_contig',\n",
       " 'longest_scaffold',\n",
       " 'lsu_23s_contig_len',\n",
       " 'lsu_23s_count',\n",
       " 'lsu_23s_length',\n",
       " 'lsu_23s_query_id',\n",
       " 'lsu_5s_contig_len',\n",
       " 'lsu_5s_count',\n",
       " 'lsu_5s_length',\n",
       " 'lsu_5s_query_id',\n",
       " 'lsu_silva_23s_blast_align_len',\n",
       " 'lsu_silva_23s_blast_bitscore',\n",
       " 'lsu_silva_23s_blast_evalue',\n",
       " 'lsu_silva_23s_blast_perc_identity',\n",
       " 'lsu_silva_23s_blast_subject_id',\n",
       " 'lsu_silva_23s_taxonomy',\n",
       " 'mean_contig_length',\n",
       " 'mean_scaffold_length',\n",
       " 'mimag_high_quality',\n",
       " 'mimag_low_quality',\n",
       " 'mimag_medium_quality',\n",
       " 'n50_contigs',\n",
       " 'n50_scaffolds',\n",
       " 'ncbi_assembly_level',\n",
       " 'ncbi_assembly_name',\n",
       " 'ncbi_assembly_type',\n",
       " 'ncbi_bioproject',\n",
       " 'ncbi_biosample',\n",
       " 'ncbi_contig_count',\n",
       " 'ncbi_contig_n50',\n",
       " 'ncbi_country',\n",
       " 'ncbi_date',\n",
       " 'ncbi_genbank_assembly_accession',\n",
       " 'ncbi_genome_category',\n",
       " 'ncbi_genome_representation',\n",
       " 'ncbi_isolate',\n",
       " 'ncbi_isolation_source',\n",
       " 'ncbi_lat_lon',\n",
       " 'ncbi_molecule_count',\n",
       " 'ncbi_ncrna_count',\n",
       " 'ncbi_organism_name',\n",
       " 'ncbi_protein_count',\n",
       " 'ncbi_refseq_category',\n",
       " 'ncbi_rrna_count',\n",
       " 'ncbi_scaffold_count',\n",
       " 'ncbi_scaffold_l50',\n",
       " 'ncbi_scaffold_n50',\n",
       " 'ncbi_scaffold_n75',\n",
       " 'ncbi_scaffold_n90',\n",
       " 'ncbi_seq_rel_date',\n",
       " 'ncbi_spanned_gaps',\n",
       " 'ncbi_species_taxid',\n",
       " 'ncbi_ssu_count',\n",
       " 'ncbi_strain_identifiers',\n",
       " 'ncbi_submitter',\n",
       " 'ncbi_taxid',\n",
       " 'ncbi_taxonomy',\n",
       " 'ncbi_taxonomy_unfiltered',\n",
       " 'ncbi_total_gap_length',\n",
       " 'ncbi_total_length',\n",
       " 'ncbi_translation_table',\n",
       " 'ncbi_trna_count',\n",
       " 'ncbi_type_material_designation',\n",
       " 'ncbi_ungapped_length',\n",
       " 'ncbi_unspanned_gaps',\n",
       " 'ncbi_wgs_master',\n",
       " 'protein_count',\n",
       " 'scaffold_count',\n",
       " 'ssu_contig_len',\n",
       " 'ssu_count',\n",
       " 'ssu_gg_blast_align_len',\n",
       " 'ssu_gg_blast_bitscore',\n",
       " 'ssu_gg_blast_evalue',\n",
       " 'ssu_gg_blast_perc_identity',\n",
       " 'ssu_gg_blast_subject_id',\n",
       " 'ssu_gg_taxonomy',\n",
       " 'ssu_length',\n",
       " 'ssu_query_id',\n",
       " 'ssu_silva_blast_align_len',\n",
       " 'ssu_silva_blast_bitscore',\n",
       " 'ssu_silva_blast_evalue',\n",
       " 'ssu_silva_blast_perc_identity',\n",
       " 'ssu_silva_blast_subject_id',\n",
       " 'ssu_silva_taxonomy',\n",
       " 'total_gap_length',\n",
       " 'trna_aa_count',\n",
       " 'trna_count',\n",
       " 'trna_selenocysteine_count']"
      ]
     },
     "execution_count": 8,
     "metadata": {},
     "output_type": "execute_result"
    }
   ],
   "source": [
    "metadata_df.columns.tolist()"
   ]
  },
  {
   "cell_type": "code",
   "execution_count": 189,
   "metadata": {},
   "outputs": [
    {
     "data": {
      "text/plain": [
       "(143512, 143512)"
      ]
     },
     "execution_count": 189,
     "metadata": {},
     "output_type": "execute_result"
    }
   ],
   "source": [
    "len(metadata_df), len(metadata_df['accession'].unique())"
   ]
  },
  {
   "cell_type": "code",
   "execution_count": 86,
   "metadata": {
    "scrolled": false
   },
   "outputs": [
    {
     "name": "stdout",
     "output_type": "stream",
     "text": [
      "accession | RS_GCF_001999625.1\n",
      "ambiguous_bases | 0\n",
      "checkm_completeness | 99.63\n",
      "checkm_contamination | 0.01\n",
      "checkm_marker_count | 475\n",
      "checkm_marker_lineage | o__Lactobacillales (UID544)\n",
      "checkm_marker_set_count | 267\n",
      "checkm_strain_heterogeneity | 0.0\n",
      "coding_bases | 2653992\n",
      "coding_density | 88.1355099173\n",
      "contig_count | 49\n",
      "gc_count | 1123359\n",
      "gc_percentage | 37.305838341\n",
      "genome_size | 3011263\n",
      "gtdb_genome_representative | RS_GCF_000392875.1\n",
      "gtdb_representative | f\n",
      "gtdb_taxonomy | d__Bacteria;p__Firmicutes;c__Bacilli;o__Lactobacillales;f__Enterococcaceae;g__Enterococcus;s__Enterococcus faecalis\n",
      "gtdb_type_designation | not type material\n",
      "gtdb_type_designation_sources | none\n",
      "gtdb_type_species_of_genus | f\n",
      "l50_contigs | 6\n",
      "l50_scaffolds | 6\n",
      "longest_contig | 634867\n",
      "longest_scaffold | 634877\n",
      "lsu_23s_contig_len | 4790\n",
      "lsu_23s_count | 1\n",
      "lsu_23s_length | 2908\n",
      "lsu_23s_query_id | NZ_MTFY01000001.1\n",
      "lsu_5s_contig_len | 121606\n",
      "lsu_5s_count | 1\n",
      "lsu_5s_length | 109\n",
      "lsu_5s_query_id | NZ_MTFY01000014.1\n",
      "lsu_silva_23s_blast_align_len | 2908\n",
      "lsu_silva_23s_blast_bitscore | 5371\n",
      "lsu_silva_23s_blast_evalue | 0\n",
      "lsu_silva_23s_blast_perc_identity | 100\n",
      "lsu_silva_23s_blast_subject_id | CP008816.110051.112961\n",
      "lsu_silva_23s_taxonomy | Bacteria;Firmicutes;Bacilli;Lactobacillales;Enterococcaceae;Enterococcus;Enterococcus faecalis ATCC 29212\n",
      "mean_contig_length | 61453\n",
      "mean_scaffold_length | 61454\n",
      "mimag_high_quality | t\n",
      "mimag_low_quality | f\n",
      "mimag_medium_quality | f\n",
      "n50_contigs | 151084\n",
      "n50_scaffolds | 151086\n",
      "ncbi_assembly_level | Contig\n",
      "ncbi_assembly_name | ASM199962v1\n",
      "ncbi_assembly_type | nan\n",
      "ncbi_bioproject | PRJNA224116\n",
      "ncbi_biosample | SAMN05721774\n",
      "ncbi_contig_count | 49\n",
      "ncbi_contig_n50 | 151086\n",
      "ncbi_country | none\n",
      "ncbi_date | 2017-2-13\n",
      "ncbi_genbank_assembly_accession | GCA_001999625.1\n",
      "ncbi_genome_category | none\n",
      "ncbi_genome_representation | full\n",
      "ncbi_isolate | none\n",
      "ncbi_isolation_source | none\n",
      "ncbi_lat_lon | none\n",
      "ncbi_molecule_count | 0\n",
      "ncbi_ncrna_count | 1\n",
      "ncbi_organism_name | Enterococcus faecalis ATCC 29212\n",
      "ncbi_protein_count | 3037\n",
      "ncbi_refseq_category | na\n",
      "ncbi_rrna_count | 3\n",
      "ncbi_scaffold_count | none\n",
      "ncbi_scaffold_l50 | none\n",
      "ncbi_scaffold_n50 | none\n",
      "ncbi_scaffold_n75 | none\n",
      "ncbi_scaffold_n90 | none\n",
      "ncbi_seq_rel_date | 2017/02/13\n",
      "ncbi_spanned_gaps | 0\n",
      "ncbi_species_taxid | 1351\n",
      "ncbi_ssu_count | 1\n",
      "ncbi_strain_identifiers | ATCC 29212\n",
      "ncbi_submitter | California Department of Public Health\n",
      "ncbi_taxid | 1201292\n",
      "ncbi_taxonomy | d__Bacteria;p__Firmicutes;c__Bacilli;o__Lactobacillales;f__Enterococcaceae;g__Enterococcus;s__Enterococcus faecalis\n",
      "ncbi_taxonomy_unfiltered | d__Bacteria;x__Terrabacteria group;p__Firmicutes;c__Bacilli;o__Lactobacillales;f__Enterococcaceae;g__Enterococcus;s__Enterococcus faecalis;x__Enterococcus faecalis ATCC 29212\n",
      "ncbi_total_gap_length | 0\n",
      "ncbi_total_length | 3011263\n",
      "ncbi_translation_table | 11\n",
      "ncbi_trna_count | 52\n",
      "ncbi_type_material_designation | none\n",
      "ncbi_ungapped_length | 3011263\n",
      "ncbi_unspanned_gaps | 0\n",
      "ncbi_wgs_master | MTFY00000000.1\n",
      "protein_count | 2899\n",
      "scaffold_count | 49\n",
      "ssu_contig_len | 4790\n",
      "ssu_count | 1\n",
      "ssu_gg_blast_align_len | 1557\n",
      "ssu_gg_blast_bitscore | 2870\n",
      "ssu_gg_blast_evalue | 0\n",
      "ssu_gg_blast_perc_identity | 99.936\n",
      "ssu_gg_blast_subject_id | 4465153\n",
      "ssu_gg_taxonomy | k__Bacteria;p__Firmicutes;c__Bacilli;o__Lactobacillales;f__Enterococcaceae;g__Enterococcus;s__\n",
      "ssu_length | 1557\n",
      "ssu_query_id | NZ_MTFY01000001.1\n",
      "ssu_silva_blast_align_len | 1557\n",
      "ssu_silva_blast_bitscore | 2876\n",
      "ssu_silva_blast_evalue | 0\n",
      "ssu_silva_blast_perc_identity | 100\n",
      "ssu_silva_blast_subject_id | JMEC01000001.672967.674528\n",
      "ssu_silva_taxonomy | Bacteria;Firmicutes;Bacilli;Lactobacillales;Enterococcaceae;Enterococcus;Enterococcus faecalis\n",
      "total_gap_length | 48\n",
      "trna_aa_count | 20\n",
      "trna_count | 52\n",
      "trna_selenocysteine_count | 0\n",
      "specie_name | Enterococcus faecalis\n"
     ]
    }
   ],
   "source": [
    "for c in metadata_df.columns:\n",
    "    print(c, '|', metadata_df.iloc[0][c])"
   ]
  },
  {
   "cell_type": "code",
   "execution_count": 132,
   "metadata": {},
   "outputs": [],
   "source": [
    "taxonomy = metadata_df['ssu_silva_taxonomy'].head().values\n",
    "taxonomy[0].split(';')[-1].strip()\n",
    "\n",
    "metadata_df['specie_name'] = metadata_df['ssu_silva_taxonomy'].apply(lambda v: v.split(';')[-1].strip())"
   ]
  },
  {
   "cell_type": "code",
   "execution_count": 133,
   "metadata": {},
   "outputs": [],
   "source": [
    "metadata_df['phylum'] = metadata_df['gtdb_taxonomy'].apply(lambda v: v.split(';')[1].strip()[3:])"
   ]
  },
  {
   "cell_type": "code",
   "execution_count": 134,
   "metadata": {},
   "outputs": [
    {
     "data": {
      "text/plain": [
       "0          Firmicutes\n",
       "1          Firmicutes\n",
       "2      Proteobacteria\n",
       "3    Actinobacteriota\n",
       "4      Proteobacteria\n",
       "Name: phylum, dtype: object"
      ]
     },
     "execution_count": 134,
     "metadata": {},
     "output_type": "execute_result"
    }
   ],
   "source": [
    "metadata_df['phylum'].head()"
   ]
  },
  {
   "cell_type": "code",
   "execution_count": 51,
   "metadata": {},
   "outputs": [
    {
     "data": {
      "text/plain": [
       "0                              Enterococcus faecalis\n",
       "1                Staphylococcus epidermidis NIHLM088\n",
       "2                            Acinetobacter baumannii\n",
       "3                                Mycobacterium bovis\n",
       "4    Klebsiella pneumoniae subsp. pneumoniae KPNIH18\n",
       "Name: specie_name, dtype: object"
      ]
     },
     "execution_count": 51,
     "metadata": {},
     "output_type": "execute_result"
    }
   ],
   "source": [
    "metadata_df['specie_name'].head()"
   ]
  },
  {
   "cell_type": "code",
   "execution_count": 84,
   "metadata": {},
   "outputs": [
    {
     "data": {
      "text/plain": [
       "10782"
      ]
     },
     "execution_count": 84,
     "metadata": {},
     "output_type": "execute_result"
    }
   ],
   "source": [
    "len(metadata_df['specie_name'].unique())"
   ]
  },
  {
   "cell_type": "code",
   "execution_count": 139,
   "metadata": {},
   "outputs": [
    {
     "data": {
      "text/plain": [
       "23458"
      ]
     },
     "execution_count": 139,
     "metadata": {},
     "output_type": "execute_result"
    }
   ],
   "source": [
    "len(metadata_df['gtdb_genome_representative'].unique())"
   ]
  },
  {
   "cell_type": "code",
   "execution_count": 52,
   "metadata": {},
   "outputs": [
    {
     "data": {
      "text/plain": [
       "0    RS_GCF_000392875.1\n",
       "1    RS_GCF_002087975.1\n",
       "2    RS_GCF_002811175.1\n",
       "3    RS_GCF_000195955.2\n",
       "4    RS_GCF_000742135.1\n",
       "Name: gtdb_genome_representative, dtype: object"
      ]
     },
     "execution_count": 52,
     "metadata": {},
     "output_type": "execute_result"
    }
   ],
   "source": [
    "metadata_df['gtdb_genome_representative'].head()"
   ]
  },
  {
   "cell_type": "code",
   "execution_count": 142,
   "metadata": {},
   "outputs": [],
   "source": [
    "metadata_df['domain'] = 'Bacteria'"
   ]
  },
  {
   "cell_type": "code",
   "execution_count": 190,
   "metadata": {},
   "outputs": [
    {
     "data": {
      "text/plain": [
       "(1269, 7)"
      ]
     },
     "execution_count": 190,
     "metadata": {},
     "output_type": "execute_result"
    }
   ],
   "source": [
    "gtdb_simple_df = metadata_df[\n",
    "    ['accession', 'specie_name', 'domain', 'phylum', 'gtdb_genome_representative']\n",
    "].reset_index(drop=True)\n",
    "\n",
    "merged_df = pd.merge(\n",
    "    left=gtdb_simple_df,\n",
    "    right=species_with_ogt_df,\n",
    "    on='specie_name'\n",
    ")\n",
    "merged_df = merged_df.drop_duplicates(subset=['specie_name', 'gtdb_genome_representative'])\n",
    "merged_df.shape"
   ]
  },
  {
   "cell_type": "code",
   "execution_count": 191,
   "metadata": {},
   "outputs": [
    {
     "data": {
      "text/plain": [
       "720"
      ]
     },
     "execution_count": 191,
     "metadata": {},
     "output_type": "execute_result"
    }
   ],
   "source": [
    "len(merged_df['specie_name'].unique())"
   ]
  },
  {
   "cell_type": "code",
   "execution_count": 192,
   "metadata": {},
   "outputs": [
    {
     "data": {
      "text/html": [
       "<div>\n",
       "<style scoped>\n",
       "    .dataframe tbody tr th:only-of-type {\n",
       "        vertical-align: middle;\n",
       "    }\n",
       "\n",
       "    .dataframe tbody tr th {\n",
       "        vertical-align: top;\n",
       "    }\n",
       "\n",
       "    .dataframe thead th {\n",
       "        text-align: right;\n",
       "    }\n",
       "</style>\n",
       "<table border=\"1\" class=\"dataframe\">\n",
       "  <thead>\n",
       "    <tr style=\"text-align: right;\">\n",
       "      <th></th>\n",
       "      <th>accession</th>\n",
       "      <th>specie_name</th>\n",
       "      <th>domain</th>\n",
       "      <th>phylum</th>\n",
       "      <th>gtdb_genome_representative</th>\n",
       "      <th>temperature</th>\n",
       "      <th>temperature_range</th>\n",
       "    </tr>\n",
       "  </thead>\n",
       "  <tbody>\n",
       "    <tr>\n",
       "      <th>0</th>\n",
       "      <td>RS_GCF_001999625.1</td>\n",
       "      <td>Enterococcus faecalis</td>\n",
       "      <td>Bacteria</td>\n",
       "      <td>Firmicutes</td>\n",
       "      <td>RS_GCF_000392875.1</td>\n",
       "      <td>37.0</td>\n",
       "      <td>mesophilic</td>\n",
       "    </tr>\n",
       "    <tr>\n",
       "      <th>9</th>\n",
       "      <td>RS_GCF_000589255.1</td>\n",
       "      <td>Enterococcus faecalis</td>\n",
       "      <td>Bacteria</td>\n",
       "      <td>Proteobacteria</td>\n",
       "      <td>RS_GCF_000368085.1</td>\n",
       "      <td>37.0</td>\n",
       "      <td>mesophilic</td>\n",
       "    </tr>\n",
       "    <tr>\n",
       "      <th>14</th>\n",
       "      <td>RS_GCF_000204435.1</td>\n",
       "      <td>Enterococcus faecalis</td>\n",
       "      <td>Bacteria</td>\n",
       "      <td>Firmicutes</td>\n",
       "      <td>RS_GCF_000160875.1</td>\n",
       "      <td>37.0</td>\n",
       "      <td>mesophilic</td>\n",
       "    </tr>\n",
       "    <tr>\n",
       "      <th>22</th>\n",
       "      <td>RS_GCF_900407265.1</td>\n",
       "      <td>Enterococcus faecalis</td>\n",
       "      <td>Bacteria</td>\n",
       "      <td>Proteobacteria</td>\n",
       "      <td>RS_GCF_000742135.1</td>\n",
       "      <td>37.0</td>\n",
       "      <td>mesophilic</td>\n",
       "    </tr>\n",
       "    <tr>\n",
       "      <th>36</th>\n",
       "      <td>RS_GCF_001814125.1</td>\n",
       "      <td>Enterococcus faecalis</td>\n",
       "      <td>Bacteria</td>\n",
       "      <td>Firmicutes</td>\n",
       "      <td>RS_GCF_002901845.1</td>\n",
       "      <td>37.0</td>\n",
       "      <td>mesophilic</td>\n",
       "    </tr>\n",
       "  </tbody>\n",
       "</table>\n",
       "</div>"
      ],
      "text/plain": [
       "             accession            specie_name    domain          phylum  \\\n",
       "0   RS_GCF_001999625.1  Enterococcus faecalis  Bacteria      Firmicutes   \n",
       "9   RS_GCF_000589255.1  Enterococcus faecalis  Bacteria  Proteobacteria   \n",
       "14  RS_GCF_000204435.1  Enterococcus faecalis  Bacteria      Firmicutes   \n",
       "22  RS_GCF_900407265.1  Enterococcus faecalis  Bacteria  Proteobacteria   \n",
       "36  RS_GCF_001814125.1  Enterococcus faecalis  Bacteria      Firmicutes   \n",
       "\n",
       "   gtdb_genome_representative  temperature temperature_range  \n",
       "0          RS_GCF_000392875.1         37.0        mesophilic  \n",
       "9          RS_GCF_000368085.1         37.0        mesophilic  \n",
       "14         RS_GCF_000160875.1         37.0        mesophilic  \n",
       "22         RS_GCF_000742135.1         37.0        mesophilic  \n",
       "36         RS_GCF_002901845.1         37.0        mesophilic  "
      ]
     },
     "execution_count": 192,
     "metadata": {},
     "output_type": "execute_result"
    }
   ],
   "source": [
    "merged_df.head()"
   ]
  },
  {
   "cell_type": "code",
   "execution_count": 193,
   "metadata": {},
   "outputs": [],
   "source": [
    "temperatures = merged_df['temperature'].values"
   ]
  },
  {
   "cell_type": "code",
   "execution_count": 194,
   "metadata": {},
   "outputs": [
    {
     "data": {
      "image/png": "[encoded data removed]",
      "text/plain": [
       "<Figure size 864x432 with 1 Axes>"
      ]
     },
     "metadata": {},
     "output_type": "display_data"
    }
   ],
   "source": [
    "f, ax = plt.subplots(1, 1, figsize=(12, 6))\n",
    "_, bins, _ = ax.hist(temperatures, bins=10)"
   ]
  },
  {
   "cell_type": "code",
   "execution_count": 195,
   "metadata": {},
   "outputs": [
    {
     "data": {
      "text/plain": [
       "array([ 4. , 11.4, 18.8, 26.2, 33.6, 41. , 48.4, 55.8, 63.2, 70.6, 78. ])"
      ]
     },
     "execution_count": 195,
     "metadata": {},
     "output_type": "execute_result"
    }
   ],
   "source": [
    "bins"
   ]
  },
  {
   "cell_type": "code",
   "execution_count": 199,
   "metadata": {},
   "outputs": [],
   "source": [
    "def balance_dataset(data_df, bins, max_items=50, random_seed=default_random_seed):\n",
    "    rs = np.random.RandomState(random_seed)\n",
    "    \n",
    "    z_bins = list(zip(bins, bins[1:]))\n",
    "    selected_indices = []\n",
    "    for i, (low, high) in enumerate(z_bins):\n",
    "        if i + 1 == len(z_bins):\n",
    "            high += 1\n",
    "        \n",
    "        indices = data_df[\n",
    "            (data_df['temperature'] >= low) &\n",
    "            (data_df['temperature'] < high)\n",
    "        ].index\n",
    "        \n",
    "        selected_indices += rs.choice(indices, size=min(max_items, len(indices)), replace=False).tolist()\n",
    "        \n",
    "    return data_df.loc[selected_indices].reset_index(drop=True)"
   ]
  },
  {
   "cell_type": "code",
   "execution_count": 200,
   "metadata": {},
   "outputs": [
    {
     "data": {
      "text/plain": [
       "(310, 7)"
      ]
     },
     "execution_count": 200,
     "metadata": {},
     "output_type": "execute_result"
    }
   ],
   "source": [
    "balanced_df = balance_dataset(merged_df, bins)\n",
    "balanced_df.shape"
   ]
  },
  {
   "cell_type": "code",
   "execution_count": 201,
   "metadata": {},
   "outputs": [
    {
     "data": {
      "text/html": [
       "<div>\n",
       "<style scoped>\n",
       "    .dataframe tbody tr th:only-of-type {\n",
       "        vertical-align: middle;\n",
       "    }\n",
       "\n",
       "    .dataframe tbody tr th {\n",
       "        vertical-align: top;\n",
       "    }\n",
       "\n",
       "    .dataframe thead th {\n",
       "        text-align: right;\n",
       "    }\n",
       "</style>\n",
       "<table border=\"1\" class=\"dataframe\">\n",
       "  <thead>\n",
       "    <tr style=\"text-align: right;\">\n",
       "      <th></th>\n",
       "      <th>accession</th>\n",
       "      <th>specie_name</th>\n",
       "      <th>domain</th>\n",
       "      <th>phylum</th>\n",
       "      <th>gtdb_genome_representative</th>\n",
       "      <th>temperature</th>\n",
       "      <th>temperature_range</th>\n",
       "    </tr>\n",
       "  </thead>\n",
       "  <tbody>\n",
       "    <tr>\n",
       "      <th>0</th>\n",
       "      <td>RS_GCF_003259265.1</td>\n",
       "      <td>Gelidibacter algens</td>\n",
       "      <td>Bacteria</td>\n",
       "      <td>Bacteroidota</td>\n",
       "      <td>RS_GCF_001678675.1</td>\n",
       "      <td>10.0</td>\n",
       "      <td>psychrophilic</td>\n",
       "    </tr>\n",
       "    <tr>\n",
       "      <th>1</th>\n",
       "      <td>RS_GCF_000971275.1</td>\n",
       "      <td>Devosia psychrophila</td>\n",
       "      <td>Bacteria</td>\n",
       "      <td>Proteobacteria</td>\n",
       "      <td>RS_GCF_000971275.1</td>\n",
       "      <td>10.0</td>\n",
       "      <td>psychrophilic</td>\n",
       "    </tr>\n",
       "    <tr>\n",
       "      <th>2</th>\n",
       "      <td>RS_GCF_000196255.1</td>\n",
       "      <td>Photobacterium profundum</td>\n",
       "      <td>Bacteria</td>\n",
       "      <td>Proteobacteria</td>\n",
       "      <td>RS_GCF_000196255.1</td>\n",
       "      <td>10.0</td>\n",
       "      <td>psychrophilic</td>\n",
       "    </tr>\n",
       "    <tr>\n",
       "      <th>3</th>\n",
       "      <td>RS_GCF_001298525.1</td>\n",
       "      <td>Psychrobacter urativorans</td>\n",
       "      <td>Bacteria</td>\n",
       "      <td>Proteobacteria</td>\n",
       "      <td>RS_GCF_001298525.1</td>\n",
       "      <td>10.0</td>\n",
       "      <td>psychrophilic</td>\n",
       "    </tr>\n",
       "    <tr>\n",
       "      <th>4</th>\n",
       "      <td>RS_GCF_900177385.1</td>\n",
       "      <td>Carnobacterium iners</td>\n",
       "      <td>Bacteria</td>\n",
       "      <td>Firmicutes</td>\n",
       "      <td>RS_GCF_900177385.1</td>\n",
       "      <td>10.0</td>\n",
       "      <td>psychrophilic</td>\n",
       "    </tr>\n",
       "  </tbody>\n",
       "</table>\n",
       "</div>"
      ],
      "text/plain": [
       "            accession                specie_name    domain          phylum  \\\n",
       "0  RS_GCF_003259265.1        Gelidibacter algens  Bacteria    Bacteroidota   \n",
       "1  RS_GCF_000971275.1       Devosia psychrophila  Bacteria  Proteobacteria   \n",
       "2  RS_GCF_000196255.1   Photobacterium profundum  Bacteria  Proteobacteria   \n",
       "3  RS_GCF_001298525.1  Psychrobacter urativorans  Bacteria  Proteobacteria   \n",
       "4  RS_GCF_900177385.1       Carnobacterium iners  Bacteria      Firmicutes   \n",
       "\n",
       "  gtdb_genome_representative  temperature temperature_range  \n",
       "0         RS_GCF_001678675.1         10.0     psychrophilic  \n",
       "1         RS_GCF_000971275.1         10.0     psychrophilic  \n",
       "2         RS_GCF_000196255.1         10.0     psychrophilic  \n",
       "3         RS_GCF_001298525.1         10.0     psychrophilic  \n",
       "4         RS_GCF_900177385.1         10.0     psychrophilic  "
      ]
     },
     "execution_count": 201,
     "metadata": {},
     "output_type": "execute_result"
    }
   ],
   "source": [
    "balanced_df.head()"
   ]
  },
  {
   "cell_type": "code",
   "execution_count": 202,
   "metadata": {},
   "outputs": [
    {
     "data": {
      "image/png": "[encoded data removed]",
      "text/plain": [
       "<Figure size 864x432 with 1 Axes>"
      ]
     },
     "metadata": {},
     "output_type": "display_data"
    }
   ],
   "source": [
    "f, ax = plt.subplots(1, 1, figsize=(12, 6))\n",
    "_, bins, _ = ax.hist(balanced_df['temperature'].values, bins=10)\n",
    "ax.set_title('Distribution of temperature in the balanced dataset');\n",
    "ax.set_xlabel('Optimal Growth Temperature (°C)');"
   ]
  },
  {
   "cell_type": "code",
   "execution_count": 203,
   "metadata": {},
   "outputs": [
    {
     "data": {
      "text/plain": [
       "37200"
      ]
     },
     "execution_count": 203,
     "metadata": {},
     "output_type": "execute_result"
    }
   ],
   "source": [
    "len(balanced_df) * 120"
   ]
  },
  {
   "cell_type": "code",
   "execution_count": 204,
   "metadata": {},
   "outputs": [
    {
     "data": {
      "text/plain": [
       "38.52903225806452"
      ]
     },
     "execution_count": 204,
     "metadata": {},
     "output_type": "execute_result"
    }
   ],
   "source": [
    "balanced_df['temperature'].mean()"
   ]
  },
  {
   "cell_type": "markdown",
   "metadata": {},
   "source": [
    "## Add sequences to dataset"
   ]
  },
  {
   "cell_type": "code",
   "execution_count": 205,
   "metadata": {},
   "outputs": [],
   "source": [
    "fasta_path = os.path.join(os.getcwd(), 'data/gtdb/bac120_msa.faa')"
   ]
  },
  {
   "cell_type": "code",
   "execution_count": 206,
   "metadata": {},
   "outputs": [],
   "source": [
    "def load_sequences(fasta_path):\n",
    "    records = {}\n",
    "    with open(fasta_path) as f:\n",
    "        for record in SeqIO.parse(f, 'fasta'):\n",
    "            records[record.id] = record.seq._data\n",
    "    return records"
   ]
  },
  {
   "cell_type": "code",
   "execution_count": 207,
   "metadata": {},
   "outputs": [],
   "source": [
    "sequences = load_sequences(fasta_path)"
   ]
  },
  {
   "cell_type": "code",
   "execution_count": 233,
   "metadata": {},
   "outputs": [],
   "source": [
    "balanced_df['proteome'] = balanced_df['gtdb_genome_representative'].apply(\n",
    "    lambda id_: ''.join(['-' if v == 'X' else v for v in sequences[id_]])\n",
    ")"
   ]
  },
  {
   "cell_type": "code",
   "execution_count": 234,
   "metadata": {},
   "outputs": [
    {
     "data": {
      "text/plain": [
       "Index(['accession', 'specie_name', 'domain', 'phylum',\n",
       "       'gtdb_genome_representative', 'temperature', 'temperature_range',\n",
       "       'proteome'],\n",
       "      dtype='object')"
      ]
     },
     "execution_count": 234,
     "metadata": {},
     "output_type": "execute_result"
    }
   ],
   "source": [
    "balanced_df.columns"
   ]
  },
  {
   "cell_type": "code",
   "execution_count": 235,
   "metadata": {},
   "outputs": [],
   "source": [
    "def get_reversed_table():\n",
    "    table = CodonTable.unambiguous_dna_by_id[1]\n",
    "    reversed_table = collections.defaultdict(list)\n",
    "\n",
    "    for codon in sorted(table.forward_table.keys()):\n",
    "        reversed_table[table.forward_table[codon]].append(codon)\n",
    "\n",
    "    return dict(reversed_table)"
   ]
  },
  {
   "cell_type": "code",
   "execution_count": 240,
   "metadata": {},
   "outputs": [],
   "source": [
    "def reverse_translate(rs, amino_acid_sequence):\n",
    "    table = get_reversed_table()\n",
    "    \n",
    "    mrna_sequence = ''\n",
    "    for i, amino_acid in enumerate(amino_acid_sequence):\n",
    "        if amino_acid == '-':\n",
    "            codon = '---'\n",
    "        else:\n",
    "            choices = table[amino_acid]\n",
    "            codon = rs.choice(choices)\n",
    "        \n",
    "        mrna_sequence += codon\n",
    "    \n",
    "    return mrna_sequence"
   ]
  },
  {
   "cell_type": "code",
   "execution_count": 241,
   "metadata": {
    "scrolled": true
   },
   "outputs": [
    {
     "data": {
      "text/plain": [
       "{'K': ['AAA', 'AAG'],\n",
       " 'N': ['AAC', 'AAT'],\n",
       " 'T': ['ACA', 'ACC', 'ACG', 'ACT'],\n",
       " 'R': ['AGA', 'AGG', 'CGA', 'CGC', 'CGG', 'CGT'],\n",
       " 'S': ['AGC', 'AGT', 'TCA', 'TCC', 'TCG', 'TCT'],\n",
       " 'I': ['ATA', 'ATC', 'ATT'],\n",
       " 'M': ['ATG'],\n",
       " 'Q': ['CAA', 'CAG'],\n",
       " 'H': ['CAC', 'CAT'],\n",
       " 'P': ['CCA', 'CCC', 'CCG', 'CCT'],\n",
       " 'L': ['CTA', 'CTC', 'CTG', 'CTT', 'TTA', 'TTG'],\n",
       " 'E': ['GAA', 'GAG'],\n",
       " 'D': ['GAC', 'GAT'],\n",
       " 'A': ['GCA', 'GCC', 'GCG', 'GCT'],\n",
       " 'G': ['GGA', 'GGC', 'GGG', 'GGT'],\n",
       " 'V': ['GTA', 'GTC', 'GTG', 'GTT'],\n",
       " 'Y': ['TAC', 'TAT'],\n",
       " 'C': ['TGC', 'TGT'],\n",
       " 'W': ['TGG'],\n",
       " 'F': ['TTC', 'TTT']}"
      ]
     },
     "execution_count": 241,
     "metadata": {},
     "output_type": "execute_result"
    }
   ],
   "source": [
    "get_reversed_table()"
   ]
  },
  {
   "cell_type": "code",
   "execution_count": 275,
   "metadata": {},
   "outputs": [],
   "source": [
    "def extract_protein_sequences_and_back_translate(balanced_df, marker_info_df, random_seed=default_random_seed):\n",
    "    rs = np.random.RandomState(random_seed)\n",
    "    \n",
    "    output = []\n",
    "    output_columns = [\n",
    "        'accession',\n",
    "        'specie_name',\n",
    "        'domain',\n",
    "        'phylum',\n",
    "        'gtdb_genome_representative',\n",
    "        'temperature',\n",
    "        'temperature_range',\n",
    "        'gene_marker_id',\n",
    "        'gene_name',\n",
    "        'amino_acid_sequence',\n",
    "        'mrna_candidate_sequence',\n",
    "    ]\n",
    "    \n",
    "    for tpl in balanced_df.itertuples():\n",
    "        proteome = str(tpl.proteome)\n",
    "        \n",
    "        for i, index in enumerate(marker_info_df.index):\n",
    "            row = marker_info_df.loc[index]\n",
    "            gene_marker_id = row['Marker Id']\n",
    "            gene_name = row['Name']\n",
    "            \n",
    "            amino_acid_sequence = proteome[i*42:i*42 + 42]\n",
    "            \n",
    "            if len([v for v in amino_acid_sequence if v == '-']) == len(amino_acid_sequence):\n",
    "                continue\n",
    "            \n",
    "            mrna_sequence_candidate = reverse_translate(rs, amino_acid_sequence)\n",
    "            \n",
    "            output.append([\n",
    "                tpl.accession,\n",
    "                tpl.specie_name,\n",
    "                tpl.domain,\n",
    "                tpl.phylum,\n",
    "                tpl.gtdb_genome_representative,\n",
    "                tpl.temperature,\n",
    "                tpl.temperature_range,\n",
    "                gene_marker_id,\n",
    "                gene_name,\n",
    "                amino_acid_sequence,\n",
    "                mrna_sequence_candidate,\n",
    "            ])\n",
    "            \n",
    "    return pd.DataFrame(output, columns=output_columns)"
   ]
  },
  {
   "cell_type": "code",
   "execution_count": 276,
   "metadata": {},
   "outputs": [],
   "source": [
    "balanced_with_prots_df = extract_protein_sequences_and_back_translate(balanced_df, marker_info_df)"
   ]
  },
  {
   "cell_type": "code",
   "execution_count": 277,
   "metadata": {},
   "outputs": [
    {
     "data": {
      "text/html": [
       "<div>\n",
       "<style scoped>\n",
       "    .dataframe tbody tr th:only-of-type {\n",
       "        vertical-align: middle;\n",
       "    }\n",
       "\n",
       "    .dataframe tbody tr th {\n",
       "        vertical-align: top;\n",
       "    }\n",
       "\n",
       "    .dataframe thead th {\n",
       "        text-align: right;\n",
       "    }\n",
       "</style>\n",
       "<table border=\"1\" class=\"dataframe\">\n",
       "  <thead>\n",
       "    <tr style=\"text-align: right;\">\n",
       "      <th></th>\n",
       "      <th>accession</th>\n",
       "      <th>specie_name</th>\n",
       "      <th>domain</th>\n",
       "      <th>phylum</th>\n",
       "      <th>gtdb_genome_representative</th>\n",
       "      <th>temperature</th>\n",
       "      <th>temperature_range</th>\n",
       "      <th>gene_marker_id</th>\n",
       "      <th>gene_name</th>\n",
       "      <th>amino_acid_sequence</th>\n",
       "      <th>mrna_candidate_sequence</th>\n",
       "    </tr>\n",
       "  </thead>\n",
       "  <tbody>\n",
       "    <tr>\n",
       "      <th>0</th>\n",
       "      <td>RS_GCF_003259265.1</td>\n",
       "      <td>Gelidibacter algens</td>\n",
       "      <td>Bacteria</td>\n",
       "      <td>Bacteroidota</td>\n",
       "      <td>RS_GCF_001678675.1</td>\n",
       "      <td>10.0</td>\n",
       "      <td>psychrophilic</td>\n",
       "      <td>PFAM_PF00380.14</td>\n",
       "      <td>Ribosomal_S9</td>\n",
       "      <td>ARAYVAKNIIPYSTYKPTNNGNFDVEALSREDANLLTVKKKF</td>\n",
       "      <td>GCTAGAGCTTACGTTGCAAAGAACATTATACCCTACTCAACGTATA...</td>\n",
       "    </tr>\n",
       "    <tr>\n",
       "      <th>1</th>\n",
       "      <td>RS_GCF_003259265.1</td>\n",
       "      <td>Gelidibacter algens</td>\n",
       "      <td>Bacteria</td>\n",
       "      <td>Bacteroidota</td>\n",
       "      <td>RS_GCF_001678675.1</td>\n",
       "      <td>10.0</td>\n",
       "      <td>psychrophilic</td>\n",
       "      <td>PFAM_PF00410.14</td>\n",
       "      <td>Ribosomal_S8</td>\n",
       "      <td>IYLTVVAHEIALETDQKSVKEPIKIKGASSEILAHTKHNVVY</td>\n",
       "      <td>ATCTACTTAACTGTCGTGGCCCACGAGATTGCGCTAGAGACCGACC...</td>\n",
       "    </tr>\n",
       "    <tr>\n",
       "      <th>2</th>\n",
       "      <td>RS_GCF_003259265.1</td>\n",
       "      <td>Gelidibacter algens</td>\n",
       "      <td>Bacteria</td>\n",
       "      <td>Bacteroidota</td>\n",
       "      <td>RS_GCF_001678675.1</td>\n",
       "      <td>10.0</td>\n",
       "      <td>psychrophilic</td>\n",
       "      <td>PFAM_PF00466.15</td>\n",
       "      <td>Ribosomal_L10</td>\n",
       "      <td>EVEELQTDISNNSELRFKAAVKTLLNKSDLSIMSEGNPKVIF</td>\n",
       "      <td>GAAGTCGAAGAGTTGCAAACTGACATTTCGAATAACTCAGAGCTCC...</td>\n",
       "    </tr>\n",
       "    <tr>\n",
       "      <th>3</th>\n",
       "      <td>RS_GCF_003259265.1</td>\n",
       "      <td>Gelidibacter algens</td>\n",
       "      <td>Bacteria</td>\n",
       "      <td>Bacteroidota</td>\n",
       "      <td>RS_GCF_001678675.1</td>\n",
       "      <td>10.0</td>\n",
       "      <td>psychrophilic</td>\n",
       "      <td>PFAM_PF01025.14</td>\n",
       "      <td>GrpE</td>\n",
       "      <td>NQL-EQLEDLDFKSLLLDESLEINFLEGTGNDLEAPSGIEYF</td>\n",
       "      <td>AATCAGCTA---GAGCAGTTAGAGGACCTAGATTTCAAGTCTCTCT...</td>\n",
       "    </tr>\n",
       "    <tr>\n",
       "      <th>4</th>\n",
       "      <td>RS_GCF_003259265.1</td>\n",
       "      <td>Gelidibacter algens</td>\n",
       "      <td>Bacteria</td>\n",
       "      <td>Bacteroidota</td>\n",
       "      <td>RS_GCF_001678675.1</td>\n",
       "      <td>10.0</td>\n",
       "      <td>psychrophilic</td>\n",
       "      <td>PFAM_PF02576.12</td>\n",
       "      <td>DUF150</td>\n",
       "      <td>---RDISVDGDVTSRAIEHDE-DSSRN--TDVGLDVLEKQLA</td>\n",
       "      <td>---------AGGGACATCTCCGTTGATGGGGACGTCACTAGCCGTG...</td>\n",
       "    </tr>\n",
       "  </tbody>\n",
       "</table>\n",
       "</div>"
      ],
      "text/plain": [
       "            accession          specie_name    domain        phylum  \\\n",
       "0  RS_GCF_003259265.1  Gelidibacter algens  Bacteria  Bacteroidota   \n",
       "1  RS_GCF_003259265.1  Gelidibacter algens  Bacteria  Bacteroidota   \n",
       "2  RS_GCF_003259265.1  Gelidibacter algens  Bacteria  Bacteroidota   \n",
       "3  RS_GCF_003259265.1  Gelidibacter algens  Bacteria  Bacteroidota   \n",
       "4  RS_GCF_003259265.1  Gelidibacter algens  Bacteria  Bacteroidota   \n",
       "\n",
       "  gtdb_genome_representative  temperature temperature_range   gene_marker_id  \\\n",
       "0         RS_GCF_001678675.1         10.0     psychrophilic  PFAM_PF00380.14   \n",
       "1         RS_GCF_001678675.1         10.0     psychrophilic  PFAM_PF00410.14   \n",
       "2         RS_GCF_001678675.1         10.0     psychrophilic  PFAM_PF00466.15   \n",
       "3         RS_GCF_001678675.1         10.0     psychrophilic  PFAM_PF01025.14   \n",
       "4         RS_GCF_001678675.1         10.0     psychrophilic  PFAM_PF02576.12   \n",
       "\n",
       "       gene_name                         amino_acid_sequence  \\\n",
       "0   Ribosomal_S9  ARAYVAKNIIPYSTYKPTNNGNFDVEALSREDANLLTVKKKF   \n",
       "1   Ribosomal_S8  IYLTVVAHEIALETDQKSVKEPIKIKGASSEILAHTKHNVVY   \n",
       "2  Ribosomal_L10  EVEELQTDISNNSELRFKAAVKTLLNKSDLSIMSEGNPKVIF   \n",
       "3           GrpE  NQL-EQLEDLDFKSLLLDESLEINFLEGTGNDLEAPSGIEYF   \n",
       "4         DUF150  ---RDISVDGDVTSRAIEHDE-DSSRN--TDVGLDVLEKQLA   \n",
       "\n",
       "                             mrna_candidate_sequence  \n",
       "0  GCTAGAGCTTACGTTGCAAAGAACATTATACCCTACTCAACGTATA...  \n",
       "1  ATCTACTTAACTGTCGTGGCCCACGAGATTGCGCTAGAGACCGACC...  \n",
       "2  GAAGTCGAAGAGTTGCAAACTGACATTTCGAATAACTCAGAGCTCC...  \n",
       "3  AATCAGCTA---GAGCAGTTAGAGGACCTAGATTTCAAGTCTCTCT...  \n",
       "4  ---------AGGGACATCTCCGTTGATGGGGACGTCACTAGCCGTG...  "
      ]
     },
     "execution_count": 277,
     "metadata": {},
     "output_type": "execute_result"
    }
   ],
   "source": [
    "balanced_with_prots_df.head()"
   ]
  },
  {
   "cell_type": "code",
   "execution_count": 278,
   "metadata": {},
   "outputs": [],
   "source": [
    "full_dataset_export_path = os.path.join(os.getcwd(), 'data/gtdb/dataset.csv')\n",
    "# balanced_with_prots_df.to_csv(full_dataset_export_path, index=False)"
   ]
  },
  {
   "cell_type": "markdown",
   "metadata": {},
   "source": [
    "## Split train / test sets"
   ]
  },
  {
   "cell_type": "code",
   "execution_count": 279,
   "metadata": {},
   "outputs": [],
   "source": [
    "def split_train_test_set_per_specie(df, test_ratio=0.2, random_seed=default_random_seed):\n",
    "    rs = np.random.RandomState(random_seed)\n",
    "    \n",
    "    representative_genomes = sorted(df['gtdb_genome_representative'].unique().tolist())\n",
    "    \n",
    "    n_seq = len(representative_genomes)\n",
    "    test_species = rs.choice(representative_genomes, size=int(test_ratio * n_seq), replace=False)\n",
    "    test_species_set = set(test_species.tolist())\n",
    "    train_species = np.array([s for s in representative_genomes if s not in test_species_set])\n",
    "    \n",
    "    return (\n",
    "        df[df['gtdb_genome_representative'].isin(train_species)].reset_index(drop=True),\n",
    "        df[df['gtdb_genome_representative'].isin(test_species)].reset_index(drop=True),\n",
    "    )"
   ]
  },
  {
   "cell_type": "code",
   "execution_count": 280,
   "metadata": {},
   "outputs": [],
   "source": [
    "train_df, test_df = split_train_test_set_per_specie(balanced_with_prots_df)"
   ]
  },
  {
   "cell_type": "code",
   "execution_count": 281,
   "metadata": {},
   "outputs": [
    {
     "data": {
      "text/plain": [
       "(29144, 7252)"
      ]
     },
     "execution_count": 281,
     "metadata": {},
     "output_type": "execute_result"
    }
   ],
   "source": [
    "len(train_df), len(test_df)"
   ]
  },
  {
   "cell_type": "code",
   "execution_count": 282,
   "metadata": {},
   "outputs": [],
   "source": [
    "train_dataset_export_path = os.path.join(os.getcwd(), 'data/gtdb/dataset_train.csv')\n",
    "test_dataset_export_path = os.path.join(os.getcwd(), 'data/gtdb/dataset_test.csv')\n",
    "\n",
    "# train_df.to_csv(train_dataset_export_path, index=False)\n",
    "# test_df.to_csv(test_dataset_export_path, index=False)"
   ]
  },
  {
   "cell_type": "code",
   "execution_count": 290,
   "metadata": {},
   "outputs": [],
   "source": [
    "def sanity_check_mrna_sequences(df):\n",
    "    for i, tpl in enumerate(df.itertuples()):\n",
    "        prot_seq = ''.join([v for v in tpl.amino_acid_sequence if v != '-'])\n",
    "        \n",
    "        seq = Seq(''.join([v for v in tpl.mrna_candidate_sequence if v != '-']))\n",
    "        translated = seq.translate()._data\n",
    "        \n",
    "        assert translated == prot_seq, f'Error ar index {i}'\n",
    "    \n",
    "    return True"
   ]
  },
  {
   "cell_type": "code",
   "execution_count": 291,
   "metadata": {},
   "outputs": [
    {
     "data": {
      "text/plain": [
       "True"
      ]
     },
     "execution_count": 291,
     "metadata": {},
     "output_type": "execute_result"
    }
   ],
   "source": [
    "sanity_check_mrna_sequences(train_df)"
   ]
  },
  {
   "cell_type": "code",
   "execution_count": 292,
   "metadata": {},
   "outputs": [
    {
     "data": {
      "text/plain": [
       "True"
      ]
     },
     "execution_count": 292,
     "metadata": {},
     "output_type": "execute_result"
    }
   ],
   "source": [
    "sanity_check_mrna_sequences(test_df)"
   ]
  },
  {
   "cell_type": "code",
   "execution_count": 293,
   "metadata": {},
   "outputs": [
    {
     "data": {
      "text/plain": [
       "(244, 61)"
      ]
     },
     "execution_count": 293,
     "metadata": {},
     "output_type": "execute_result"
    }
   ],
   "source": [
    "len(train_df['gtdb_genome_representative'].unique()), len(test_df['gtdb_genome_representative'].unique())"
   ]
  },
  {
   "cell_type": "code",
   "execution_count": null,
   "metadata": {},
   "outputs": [],
   "source": []
  }
 ],
 "metadata": {
  "kernelspec": {
   "display_name": "Python 3",
   "language": "python",
   "name": "python3"
  },
  "language_info": {
   "codemirror_mode": {
    "name": "ipython",
    "version": 3
   },
   "file_extension": ".py",
   "mimetype": "text/x-python",
   "name": "python",
   "nbconvert_exporter": "python",
   "pygments_lexer": "ipython3",
   "version": "3.7.6"
  }
 },
 "nbformat": 4,
 "nbformat_minor": 4
}
