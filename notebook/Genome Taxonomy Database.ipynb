{
 "cells": [
  {
   "cell_type": "code",
   "execution_count": 1,
   "metadata": {},
   "outputs": [],
   "source": [
    "import collections\n",
    "import os\n",
    "\n",
    "import pandas as pd\n",
    "import numpy as np\n",
    "import matplotlib.pyplot as plt\n",
    "import seaborn as sns\n",
    "\n",
    "if os.getcwd().endswith('notebook'):\n",
    "    os.chdir('..')\n",
    "    \n",
    "from Bio import SeqIO\n",
    "from Bio.Seq import Seq\n",
    "from Bio.Data import CodonTable"
   ]
  },
  {
   "cell_type": "code",
   "execution_count": 2,
   "metadata": {},
   "outputs": [],
   "source": [
    "default_random_seed = 444\n",
    "sns.set(palette='colorblind', font_scale=1.3)"
   ]
  },
  {
   "cell_type": "code",
   "execution_count": 3,
   "metadata": {},
   "outputs": [],
   "source": [
    "metadata_path = os.path.join(os.getcwd(), 'data/gtdb/bac120_metadata.tsv')\n",
    "metadata_df = pd.read_csv(metadata_path, delimiter='\\t')"
   ]
  },
  {
   "cell_type": "code",
   "execution_count": 63,
   "metadata": {},
   "outputs": [
    {
     "data": {
      "text/plain": [
       "(3991, 5)"
      ]
     },
     "execution_count": 63,
     "metadata": {},
     "output_type": "execute_result"
    }
   ],
   "source": [
    "species_with_ogt_path = os.path.join(os.getcwd(), 'data/bac_dive/species_new.csv')\n",
    "species_with_ogt_df = pd.read_csv(species_with_ogt_path)\n",
    "species_with_ogt_df.shape"
   ]
  },
  {
   "cell_type": "code",
   "execution_count": 64,
   "metadata": {},
   "outputs": [
    {
     "data": {
      "text/html": [
       "<div>\n",
       "<style scoped>\n",
       "    .dataframe tbody tr th:only-of-type {\n",
       "        vertical-align: middle;\n",
       "    }\n",
       "\n",
       "    .dataframe tbody tr th {\n",
       "        vertical-align: top;\n",
       "    }\n",
       "\n",
       "    .dataframe thead th {\n",
       "        text-align: right;\n",
       "    }\n",
       "</style>\n",
       "<table border=\"1\" class=\"dataframe\">\n",
       "  <thead>\n",
       "    <tr style=\"text-align: right;\">\n",
       "      <th></th>\n",
       "      <th>bacdive_id</th>\n",
       "      <th>domain</th>\n",
       "      <th>specie_name</th>\n",
       "      <th>temperature</th>\n",
       "      <th>temperature_range</th>\n",
       "    </tr>\n",
       "  </thead>\n",
       "  <tbody>\n",
       "    <tr>\n",
       "      <th>0</th>\n",
       "      <td>1</td>\n",
       "      <td>Bacteria</td>\n",
       "      <td>Acetobacter aceti</td>\n",
       "      <td>26.0</td>\n",
       "      <td>mesophilic</td>\n",
       "    </tr>\n",
       "    <tr>\n",
       "      <th>1</th>\n",
       "      <td>3</td>\n",
       "      <td>Bacteria</td>\n",
       "      <td>Acetobacter cerevisiae</td>\n",
       "      <td>26.0</td>\n",
       "      <td>mesophilic</td>\n",
       "    </tr>\n",
       "    <tr>\n",
       "      <th>2</th>\n",
       "      <td>4</td>\n",
       "      <td>Bacteria</td>\n",
       "      <td>Acetobacter pasteurianus</td>\n",
       "      <td>26.0</td>\n",
       "      <td>mesophilic</td>\n",
       "    </tr>\n",
       "    <tr>\n",
       "      <th>3</th>\n",
       "      <td>8</td>\n",
       "      <td>Bacteria</td>\n",
       "      <td>Acetobacter orleanensis</td>\n",
       "      <td>28.0</td>\n",
       "      <td>mesophilic</td>\n",
       "    </tr>\n",
       "    <tr>\n",
       "      <th>4</th>\n",
       "      <td>9</td>\n",
       "      <td>Bacteria</td>\n",
       "      <td>Acetobacter lovaniensis</td>\n",
       "      <td>28.0</td>\n",
       "      <td>mesophilic</td>\n",
       "    </tr>\n",
       "  </tbody>\n",
       "</table>\n",
       "</div>"
      ],
      "text/plain": [
       "   bacdive_id    domain               specie_name  temperature  \\\n",
       "0           1  Bacteria         Acetobacter aceti         26.0   \n",
       "1           3  Bacteria    Acetobacter cerevisiae         26.0   \n",
       "2           4  Bacteria  Acetobacter pasteurianus         26.0   \n",
       "3           8  Bacteria   Acetobacter orleanensis         28.0   \n",
       "4           9  Bacteria   Acetobacter lovaniensis         28.0   \n",
       "\n",
       "  temperature_range  \n",
       "0        mesophilic  \n",
       "1        mesophilic  \n",
       "2        mesophilic  \n",
       "3        mesophilic  \n",
       "4        mesophilic  "
      ]
     },
     "execution_count": 64,
     "metadata": {},
     "output_type": "execute_result"
    }
   ],
   "source": [
    "species_with_ogt_df.head()"
   ]
  },
  {
   "cell_type": "code",
   "execution_count": 6,
   "metadata": {},
   "outputs": [
    {
     "data": {
      "text/html": [
       "<div>\n",
       "<style scoped>\n",
       "    .dataframe tbody tr th:only-of-type {\n",
       "        vertical-align: middle;\n",
       "    }\n",
       "\n",
       "    .dataframe tbody tr th {\n",
       "        vertical-align: top;\n",
       "    }\n",
       "\n",
       "    .dataframe thead th {\n",
       "        text-align: right;\n",
       "    }\n",
       "</style>\n",
       "<table border=\"1\" class=\"dataframe\">\n",
       "  <thead>\n",
       "    <tr style=\"text-align: right;\">\n",
       "      <th></th>\n",
       "      <th>Marker Id</th>\n",
       "      <th>Name</th>\n",
       "      <th>Description</th>\n",
       "      <th>Length (bp)</th>\n",
       "      <th>Single copy (%)</th>\n",
       "      <th>Ubiquity (%)</th>\n",
       "    </tr>\n",
       "  </thead>\n",
       "  <tbody>\n",
       "    <tr>\n",
       "      <th>0</th>\n",
       "      <td>PFAM_PF00380.14</td>\n",
       "      <td>Ribosomal_S9</td>\n",
       "      <td>Ribosomal protein S9/S16</td>\n",
       "      <td>121</td>\n",
       "      <td>94.61</td>\n",
       "      <td>95.34</td>\n",
       "    </tr>\n",
       "    <tr>\n",
       "      <th>1</th>\n",
       "      <td>PFAM_PF00410.14</td>\n",
       "      <td>Ribosomal_S8</td>\n",
       "      <td>Ribosomal protein S8</td>\n",
       "      <td>129</td>\n",
       "      <td>93.32</td>\n",
       "      <td>93.93</td>\n",
       "    </tr>\n",
       "    <tr>\n",
       "      <th>2</th>\n",
       "      <td>PFAM_PF00466.15</td>\n",
       "      <td>Ribosomal_L10</td>\n",
       "      <td>Ribosomal protein L10</td>\n",
       "      <td>100</td>\n",
       "      <td>91.72</td>\n",
       "      <td>92.21</td>\n",
       "    </tr>\n",
       "    <tr>\n",
       "      <th>3</th>\n",
       "      <td>PFAM_PF01025.14</td>\n",
       "      <td>GrpE</td>\n",
       "      <td>GrpE</td>\n",
       "      <td>166</td>\n",
       "      <td>88.70</td>\n",
       "      <td>96.47</td>\n",
       "    </tr>\n",
       "    <tr>\n",
       "      <th>4</th>\n",
       "      <td>PFAM_PF02576.12</td>\n",
       "      <td>DUF150</td>\n",
       "      <td>Uncharacterised BCR, YhbC family COG0779</td>\n",
       "      <td>141</td>\n",
       "      <td>82.98</td>\n",
       "      <td>83.47</td>\n",
       "    </tr>\n",
       "  </tbody>\n",
       "</table>\n",
       "</div>"
      ],
      "text/plain": [
       "         Marker Id           Name                               Description  \\\n",
       "0  PFAM_PF00380.14   Ribosomal_S9                  Ribosomal protein S9/S16   \n",
       "1  PFAM_PF00410.14   Ribosomal_S8                      Ribosomal protein S8   \n",
       "2  PFAM_PF00466.15  Ribosomal_L10                     Ribosomal protein L10   \n",
       "3  PFAM_PF01025.14           GrpE                                      GrpE   \n",
       "4  PFAM_PF02576.12         DUF150  Uncharacterised BCR, YhbC family COG0779   \n",
       "\n",
       "   Length (bp)  Single copy (%)  Ubiquity (%)  \n",
       "0          121            94.61         95.34  \n",
       "1          129            93.32         93.93  \n",
       "2          100            91.72         92.21  \n",
       "3          166            88.70         96.47  \n",
       "4          141            82.98         83.47  "
      ]
     },
     "execution_count": 6,
     "metadata": {},
     "output_type": "execute_result"
    }
   ],
   "source": [
    "marker_info_path = os.path.join(os.getcwd(), 'data/gtdb/bac120_msa_marker_info.tsv')\n",
    "marker_info_df = pd.read_csv(marker_info_path, delimiter='\\t')\n",
    "marker_info_df.head()"
   ]
  },
  {
   "cell_type": "code",
   "execution_count": 7,
   "metadata": {},
   "outputs": [
    {
     "data": {
      "text/plain": [
       "(120, 6)"
      ]
     },
     "execution_count": 7,
     "metadata": {},
     "output_type": "execute_result"
    }
   ],
   "source": [
    "marker_info_df.shape"
   ]
  },
  {
   "cell_type": "code",
   "execution_count": 8,
   "metadata": {},
   "outputs": [
    {
     "data": {
      "text/plain": [
       "(143512, 110)"
      ]
     },
     "execution_count": 8,
     "metadata": {},
     "output_type": "execute_result"
    }
   ],
   "source": [
    "metadata_df.shape"
   ]
  },
  {
   "cell_type": "code",
   "execution_count": 9,
   "metadata": {},
   "outputs": [
    {
     "data": {
      "text/plain": [
       "['accession',\n",
       " 'ambiguous_bases',\n",
       " 'checkm_completeness',\n",
       " 'checkm_contamination',\n",
       " 'checkm_marker_count',\n",
       " 'checkm_marker_lineage',\n",
       " 'checkm_marker_set_count',\n",
       " 'checkm_strain_heterogeneity',\n",
       " 'coding_bases',\n",
       " 'coding_density',\n",
       " 'contig_count',\n",
       " 'gc_count',\n",
       " 'gc_percentage',\n",
       " 'genome_size',\n",
       " 'gtdb_genome_representative',\n",
       " 'gtdb_representative',\n",
       " 'gtdb_taxonomy',\n",
       " 'gtdb_type_designation',\n",
       " 'gtdb_type_designation_sources',\n",
       " 'gtdb_type_species_of_genus',\n",
       " 'l50_contigs',\n",
       " 'l50_scaffolds',\n",
       " 'longest_contig',\n",
       " 'longest_scaffold',\n",
       " 'lsu_23s_contig_len',\n",
       " 'lsu_23s_count',\n",
       " 'lsu_23s_length',\n",
       " 'lsu_23s_query_id',\n",
       " 'lsu_5s_contig_len',\n",
       " 'lsu_5s_count',\n",
       " 'lsu_5s_length',\n",
       " 'lsu_5s_query_id',\n",
       " 'lsu_silva_23s_blast_align_len',\n",
       " 'lsu_silva_23s_blast_bitscore',\n",
       " 'lsu_silva_23s_blast_evalue',\n",
       " 'lsu_silva_23s_blast_perc_identity',\n",
       " 'lsu_silva_23s_blast_subject_id',\n",
       " 'lsu_silva_23s_taxonomy',\n",
       " 'mean_contig_length',\n",
       " 'mean_scaffold_length',\n",
       " 'mimag_high_quality',\n",
       " 'mimag_low_quality',\n",
       " 'mimag_medium_quality',\n",
       " 'n50_contigs',\n",
       " 'n50_scaffolds',\n",
       " 'ncbi_assembly_level',\n",
       " 'ncbi_assembly_name',\n",
       " 'ncbi_assembly_type',\n",
       " 'ncbi_bioproject',\n",
       " 'ncbi_biosample',\n",
       " 'ncbi_contig_count',\n",
       " 'ncbi_contig_n50',\n",
       " 'ncbi_country',\n",
       " 'ncbi_date',\n",
       " 'ncbi_genbank_assembly_accession',\n",
       " 'ncbi_genome_category',\n",
       " 'ncbi_genome_representation',\n",
       " 'ncbi_isolate',\n",
       " 'ncbi_isolation_source',\n",
       " 'ncbi_lat_lon',\n",
       " 'ncbi_molecule_count',\n",
       " 'ncbi_ncrna_count',\n",
       " 'ncbi_organism_name',\n",
       " 'ncbi_protein_count',\n",
       " 'ncbi_refseq_category',\n",
       " 'ncbi_rrna_count',\n",
       " 'ncbi_scaffold_count',\n",
       " 'ncbi_scaffold_l50',\n",
       " 'ncbi_scaffold_n50',\n",
       " 'ncbi_scaffold_n75',\n",
       " 'ncbi_scaffold_n90',\n",
       " 'ncbi_seq_rel_date',\n",
       " 'ncbi_spanned_gaps',\n",
       " 'ncbi_species_taxid',\n",
       " 'ncbi_ssu_count',\n",
       " 'ncbi_strain_identifiers',\n",
       " 'ncbi_submitter',\n",
       " 'ncbi_taxid',\n",
       " 'ncbi_taxonomy',\n",
       " 'ncbi_taxonomy_unfiltered',\n",
       " 'ncbi_total_gap_length',\n",
       " 'ncbi_total_length',\n",
       " 'ncbi_translation_table',\n",
       " 'ncbi_trna_count',\n",
       " 'ncbi_type_material_designation',\n",
       " 'ncbi_ungapped_length',\n",
       " 'ncbi_unspanned_gaps',\n",
       " 'ncbi_wgs_master',\n",
       " 'protein_count',\n",
       " 'scaffold_count',\n",
       " 'ssu_contig_len',\n",
       " 'ssu_count',\n",
       " 'ssu_gg_blast_align_len',\n",
       " 'ssu_gg_blast_bitscore',\n",
       " 'ssu_gg_blast_evalue',\n",
       " 'ssu_gg_blast_perc_identity',\n",
       " 'ssu_gg_blast_subject_id',\n",
       " 'ssu_gg_taxonomy',\n",
       " 'ssu_length',\n",
       " 'ssu_query_id',\n",
       " 'ssu_silva_blast_align_len',\n",
       " 'ssu_silva_blast_bitscore',\n",
       " 'ssu_silva_blast_evalue',\n",
       " 'ssu_silva_blast_perc_identity',\n",
       " 'ssu_silva_blast_subject_id',\n",
       " 'ssu_silva_taxonomy',\n",
       " 'total_gap_length',\n",
       " 'trna_aa_count',\n",
       " 'trna_count',\n",
       " 'trna_selenocysteine_count']"
      ]
     },
     "execution_count": 9,
     "metadata": {},
     "output_type": "execute_result"
    }
   ],
   "source": [
    "metadata_df.columns.tolist()"
   ]
  },
  {
   "cell_type": "code",
   "execution_count": 10,
   "metadata": {},
   "outputs": [
    {
     "data": {
      "text/plain": [
       "(143512, 143512)"
      ]
     },
     "execution_count": 10,
     "metadata": {},
     "output_type": "execute_result"
    }
   ],
   "source": [
    "len(metadata_df), len(metadata_df['accession'].unique())"
   ]
  },
  {
   "cell_type": "code",
   "execution_count": 11,
   "metadata": {
    "scrolled": false
   },
   "outputs": [
    {
     "name": "stdout",
     "output_type": "stream",
     "text": [
      "accession | RS_GCF_001999625.1\n",
      "ambiguous_bases | 0\n",
      "checkm_completeness | 99.63\n",
      "checkm_contamination | 0.01\n",
      "checkm_marker_count | 475\n",
      "checkm_marker_lineage | o__Lactobacillales (UID544)\n",
      "checkm_marker_set_count | 267\n",
      "checkm_strain_heterogeneity | 0.0\n",
      "coding_bases | 2653992\n",
      "coding_density | 88.1355099173\n",
      "contig_count | 49\n",
      "gc_count | 1123359\n",
      "gc_percentage | 37.305838341\n",
      "genome_size | 3011263\n",
      "gtdb_genome_representative | RS_GCF_000392875.1\n",
      "gtdb_representative | f\n",
      "gtdb_taxonomy | d__Bacteria;p__Firmicutes;c__Bacilli;o__Lactobacillales;f__Enterococcaceae;g__Enterococcus;s__Enterococcus faecalis\n",
      "gtdb_type_designation | not type material\n",
      "gtdb_type_designation_sources | none\n",
      "gtdb_type_species_of_genus | f\n",
      "l50_contigs | 6\n",
      "l50_scaffolds | 6\n",
      "longest_contig | 634867\n",
      "longest_scaffold | 634877\n",
      "lsu_23s_contig_len | 4790\n",
      "lsu_23s_count | 1\n",
      "lsu_23s_length | 2908\n",
      "lsu_23s_query_id | NZ_MTFY01000001.1\n",
      "lsu_5s_contig_len | 121606\n",
      "lsu_5s_count | 1\n",
      "lsu_5s_length | 109\n",
      "lsu_5s_query_id | NZ_MTFY01000014.1\n",
      "lsu_silva_23s_blast_align_len | 2908\n",
      "lsu_silva_23s_blast_bitscore | 5371\n",
      "lsu_silva_23s_blast_evalue | 0\n",
      "lsu_silva_23s_blast_perc_identity | 100\n",
      "lsu_silva_23s_blast_subject_id | CP008816.110051.112961\n",
      "lsu_silva_23s_taxonomy | Bacteria;Firmicutes;Bacilli;Lactobacillales;Enterococcaceae;Enterococcus;Enterococcus faecalis ATCC 29212\n",
      "mean_contig_length | 61453\n",
      "mean_scaffold_length | 61454\n",
      "mimag_high_quality | t\n",
      "mimag_low_quality | f\n",
      "mimag_medium_quality | f\n",
      "n50_contigs | 151084\n",
      "n50_scaffolds | 151086\n",
      "ncbi_assembly_level | Contig\n",
      "ncbi_assembly_name | ASM199962v1\n",
      "ncbi_assembly_type | nan\n",
      "ncbi_bioproject | PRJNA224116\n",
      "ncbi_biosample | SAMN05721774\n",
      "ncbi_contig_count | 49\n",
      "ncbi_contig_n50 | 151086\n",
      "ncbi_country | none\n",
      "ncbi_date | 2017-2-13\n",
      "ncbi_genbank_assembly_accession | GCA_001999625.1\n",
      "ncbi_genome_category | none\n",
      "ncbi_genome_representation | full\n",
      "ncbi_isolate | none\n",
      "ncbi_isolation_source | none\n",
      "ncbi_lat_lon | none\n",
      "ncbi_molecule_count | 0\n",
      "ncbi_ncrna_count | 1\n",
      "ncbi_organism_name | Enterococcus faecalis ATCC 29212\n",
      "ncbi_protein_count | 3037\n",
      "ncbi_refseq_category | na\n",
      "ncbi_rrna_count | 3\n",
      "ncbi_scaffold_count | none\n",
      "ncbi_scaffold_l50 | none\n",
      "ncbi_scaffold_n50 | none\n",
      "ncbi_scaffold_n75 | none\n",
      "ncbi_scaffold_n90 | none\n",
      "ncbi_seq_rel_date | 2017/02/13\n",
      "ncbi_spanned_gaps | 0\n",
      "ncbi_species_taxid | 1351\n",
      "ncbi_ssu_count | 1\n",
      "ncbi_strain_identifiers | ATCC 29212\n",
      "ncbi_submitter | California Department of Public Health\n",
      "ncbi_taxid | 1201292\n",
      "ncbi_taxonomy | d__Bacteria;p__Firmicutes;c__Bacilli;o__Lactobacillales;f__Enterococcaceae;g__Enterococcus;s__Enterococcus faecalis\n",
      "ncbi_taxonomy_unfiltered | d__Bacteria;x__Terrabacteria group;p__Firmicutes;c__Bacilli;o__Lactobacillales;f__Enterococcaceae;g__Enterococcus;s__Enterococcus faecalis;x__Enterococcus faecalis ATCC 29212\n",
      "ncbi_total_gap_length | 0\n",
      "ncbi_total_length | 3011263\n",
      "ncbi_translation_table | 11\n",
      "ncbi_trna_count | 52\n",
      "ncbi_type_material_designation | none\n",
      "ncbi_ungapped_length | 3011263\n",
      "ncbi_unspanned_gaps | 0\n",
      "ncbi_wgs_master | MTFY00000000.1\n",
      "protein_count | 2899\n",
      "scaffold_count | 49\n",
      "ssu_contig_len | 4790\n",
      "ssu_count | 1\n",
      "ssu_gg_blast_align_len | 1557\n",
      "ssu_gg_blast_bitscore | 2870\n",
      "ssu_gg_blast_evalue | 0\n",
      "ssu_gg_blast_perc_identity | 99.936\n",
      "ssu_gg_blast_subject_id | 4465153\n",
      "ssu_gg_taxonomy | k__Bacteria;p__Firmicutes;c__Bacilli;o__Lactobacillales;f__Enterococcaceae;g__Enterococcus;s__\n",
      "ssu_length | 1557\n",
      "ssu_query_id | NZ_MTFY01000001.1\n",
      "ssu_silva_blast_align_len | 1557\n",
      "ssu_silva_blast_bitscore | 2876\n",
      "ssu_silva_blast_evalue | 0\n",
      "ssu_silva_blast_perc_identity | 100\n",
      "ssu_silva_blast_subject_id | JMEC01000001.672967.674528\n",
      "ssu_silva_taxonomy | Bacteria;Firmicutes;Bacilli;Lactobacillales;Enterococcaceae;Enterococcus;Enterococcus faecalis\n",
      "total_gap_length | 48\n",
      "trna_aa_count | 20\n",
      "trna_count | 52\n",
      "trna_selenocysteine_count | 0\n"
     ]
    }
   ],
   "source": [
    "for c in metadata_df.columns:\n",
    "    print(c, '|', metadata_df.iloc[0][c])"
   ]
  },
  {
   "cell_type": "code",
   "execution_count": 12,
   "metadata": {},
   "outputs": [],
   "source": [
    "taxonomy = metadata_df['ssu_silva_taxonomy'].head().values\n",
    "taxonomy[0].split(';')[-1].strip()\n",
    "\n",
    "metadata_df['specie_name'] = metadata_df['ssu_silva_taxonomy'].apply(lambda v: v.split(';')[-1].strip())"
   ]
  },
  {
   "cell_type": "code",
   "execution_count": 13,
   "metadata": {},
   "outputs": [],
   "source": [
    "metadata_df['phylum'] = metadata_df['gtdb_taxonomy'].apply(lambda v: v.split(';')[1].strip()[3:])"
   ]
  },
  {
   "cell_type": "code",
   "execution_count": 14,
   "metadata": {},
   "outputs": [
    {
     "data": {
      "text/plain": [
       "0          Firmicutes\n",
       "1          Firmicutes\n",
       "2      Proteobacteria\n",
       "3    Actinobacteriota\n",
       "4      Proteobacteria\n",
       "Name: phylum, dtype: object"
      ]
     },
     "execution_count": 14,
     "metadata": {},
     "output_type": "execute_result"
    }
   ],
   "source": [
    "metadata_df['phylum'].head()"
   ]
  },
  {
   "cell_type": "code",
   "execution_count": 15,
   "metadata": {},
   "outputs": [
    {
     "data": {
      "text/plain": [
       "0                              Enterococcus faecalis\n",
       "1                Staphylococcus epidermidis NIHLM088\n",
       "2                            Acinetobacter baumannii\n",
       "3                                Mycobacterium bovis\n",
       "4    Klebsiella pneumoniae subsp. pneumoniae KPNIH18\n",
       "Name: specie_name, dtype: object"
      ]
     },
     "execution_count": 15,
     "metadata": {},
     "output_type": "execute_result"
    }
   ],
   "source": [
    "metadata_df['specie_name'].head()"
   ]
  },
  {
   "cell_type": "code",
   "execution_count": 16,
   "metadata": {},
   "outputs": [
    {
     "data": {
      "text/plain": [
       "10782"
      ]
     },
     "execution_count": 16,
     "metadata": {},
     "output_type": "execute_result"
    }
   ],
   "source": [
    "len(metadata_df['specie_name'].unique())"
   ]
  },
  {
   "cell_type": "code",
   "execution_count": 17,
   "metadata": {},
   "outputs": [
    {
     "data": {
      "text/plain": [
       "23458"
      ]
     },
     "execution_count": 17,
     "metadata": {},
     "output_type": "execute_result"
    }
   ],
   "source": [
    "len(metadata_df['gtdb_genome_representative'].unique())"
   ]
  },
  {
   "cell_type": "code",
   "execution_count": 18,
   "metadata": {},
   "outputs": [
    {
     "data": {
      "text/plain": [
       "0    RS_GCF_000392875.1\n",
       "1    RS_GCF_002087975.1\n",
       "2    RS_GCF_002811175.1\n",
       "3    RS_GCF_000195955.2\n",
       "4    RS_GCF_000742135.1\n",
       "Name: gtdb_genome_representative, dtype: object"
      ]
     },
     "execution_count": 18,
     "metadata": {},
     "output_type": "execute_result"
    }
   ],
   "source": [
    "metadata_df['gtdb_genome_representative'].head()"
   ]
  },
  {
   "cell_type": "code",
   "execution_count": 19,
   "metadata": {},
   "outputs": [],
   "source": [
    "metadata_df['domain'] = 'Bacteria'"
   ]
  },
  {
   "cell_type": "code",
   "execution_count": 245,
   "metadata": {},
   "outputs": [
    {
     "data": {
      "text/plain": [
       "(1636, 7)"
      ]
     },
     "execution_count": 245,
     "metadata": {},
     "output_type": "execute_result"
    }
   ],
   "source": [
    "gtdb_simple_df = metadata_df[\n",
    "    ['accession', 'specie_name', 'domain', 'phylum', 'gtdb_genome_representative']\n",
    "].reset_index(drop=True)\n",
    "\n",
    "merged_df = pd.merge(\n",
    "    left=gtdb_simple_df,\n",
    "    right=species_with_ogt_df[['specie_name', 'temperature', 'temperature_range']],\n",
    "    on='specie_name'\n",
    ")\n",
    "merged_df = merged_df.drop_duplicates(subset=['specie_name', 'gtdb_genome_representative'])\n",
    "merged_df.shape"
   ]
  },
  {
   "cell_type": "code",
   "execution_count": 246,
   "metadata": {},
   "outputs": [
    {
     "data": {
      "text/plain": [
       "973"
      ]
     },
     "execution_count": 246,
     "metadata": {},
     "output_type": "execute_result"
    }
   ],
   "source": [
    "len(merged_df['specie_name'].unique())"
   ]
  },
  {
   "cell_type": "code",
   "execution_count": 247,
   "metadata": {},
   "outputs": [
    {
     "data": {
      "text/html": [
       "<div>\n",
       "<style scoped>\n",
       "    .dataframe tbody tr th:only-of-type {\n",
       "        vertical-align: middle;\n",
       "    }\n",
       "\n",
       "    .dataframe tbody tr th {\n",
       "        vertical-align: top;\n",
       "    }\n",
       "\n",
       "    .dataframe thead th {\n",
       "        text-align: right;\n",
       "    }\n",
       "</style>\n",
       "<table border=\"1\" class=\"dataframe\">\n",
       "  <thead>\n",
       "    <tr style=\"text-align: right;\">\n",
       "      <th></th>\n",
       "      <th>accession</th>\n",
       "      <th>specie_name</th>\n",
       "      <th>domain</th>\n",
       "      <th>phylum</th>\n",
       "      <th>gtdb_genome_representative</th>\n",
       "      <th>temperature</th>\n",
       "      <th>temperature_range</th>\n",
       "    </tr>\n",
       "  </thead>\n",
       "  <tbody>\n",
       "    <tr>\n",
       "      <th>0</th>\n",
       "      <td>RS_GCF_001999625.1</td>\n",
       "      <td>Enterococcus faecalis</td>\n",
       "      <td>Bacteria</td>\n",
       "      <td>Firmicutes</td>\n",
       "      <td>RS_GCF_000392875.1</td>\n",
       "      <td>37.0</td>\n",
       "      <td>mesophilic</td>\n",
       "    </tr>\n",
       "    <tr>\n",
       "      <th>9</th>\n",
       "      <td>RS_GCF_000589255.1</td>\n",
       "      <td>Enterococcus faecalis</td>\n",
       "      <td>Bacteria</td>\n",
       "      <td>Proteobacteria</td>\n",
       "      <td>RS_GCF_000368085.1</td>\n",
       "      <td>37.0</td>\n",
       "      <td>mesophilic</td>\n",
       "    </tr>\n",
       "    <tr>\n",
       "      <th>14</th>\n",
       "      <td>RS_GCF_000204435.1</td>\n",
       "      <td>Enterococcus faecalis</td>\n",
       "      <td>Bacteria</td>\n",
       "      <td>Firmicutes</td>\n",
       "      <td>RS_GCF_000160875.1</td>\n",
       "      <td>37.0</td>\n",
       "      <td>mesophilic</td>\n",
       "    </tr>\n",
       "    <tr>\n",
       "      <th>22</th>\n",
       "      <td>RS_GCF_900407265.1</td>\n",
       "      <td>Enterococcus faecalis</td>\n",
       "      <td>Bacteria</td>\n",
       "      <td>Proteobacteria</td>\n",
       "      <td>RS_GCF_000742135.1</td>\n",
       "      <td>37.0</td>\n",
       "      <td>mesophilic</td>\n",
       "    </tr>\n",
       "    <tr>\n",
       "      <th>36</th>\n",
       "      <td>RS_GCF_001814125.1</td>\n",
       "      <td>Enterococcus faecalis</td>\n",
       "      <td>Bacteria</td>\n",
       "      <td>Firmicutes</td>\n",
       "      <td>RS_GCF_002901845.1</td>\n",
       "      <td>37.0</td>\n",
       "      <td>mesophilic</td>\n",
       "    </tr>\n",
       "  </tbody>\n",
       "</table>\n",
       "</div>"
      ],
      "text/plain": [
       "             accession            specie_name    domain          phylum  \\\n",
       "0   RS_GCF_001999625.1  Enterococcus faecalis  Bacteria      Firmicutes   \n",
       "9   RS_GCF_000589255.1  Enterococcus faecalis  Bacteria  Proteobacteria   \n",
       "14  RS_GCF_000204435.1  Enterococcus faecalis  Bacteria      Firmicutes   \n",
       "22  RS_GCF_900407265.1  Enterococcus faecalis  Bacteria  Proteobacteria   \n",
       "36  RS_GCF_001814125.1  Enterococcus faecalis  Bacteria      Firmicutes   \n",
       "\n",
       "   gtdb_genome_representative  temperature temperature_range  \n",
       "0          RS_GCF_000392875.1         37.0        mesophilic  \n",
       "9          RS_GCF_000368085.1         37.0        mesophilic  \n",
       "14         RS_GCF_000160875.1         37.0        mesophilic  \n",
       "22         RS_GCF_000742135.1         37.0        mesophilic  \n",
       "36         RS_GCF_002901845.1         37.0        mesophilic  "
      ]
     },
     "execution_count": 247,
     "metadata": {},
     "output_type": "execute_result"
    }
   ],
   "source": [
    "merged_df.head()"
   ]
  },
  {
   "cell_type": "code",
   "execution_count": 248,
   "metadata": {},
   "outputs": [],
   "source": [
    "temperatures = merged_df['temperature'].values"
   ]
  },
  {
   "cell_type": "code",
   "execution_count": 249,
   "metadata": {},
   "outputs": [
    {
     "data": {
      "image/png": "[encoded data removed]",
      "text/plain": [
       "<Figure size 864x432 with 1 Axes>"
      ]
     },
     "metadata": {},
     "output_type": "display_data"
    }
   ],
   "source": [
    "f, ax = plt.subplots(1, 1, figsize=(12, 6))\n",
    "_, bins, _ = ax.hist(temperatures, bins=10)"
   ]
  },
  {
   "cell_type": "code",
   "execution_count": 250,
   "metadata": {},
   "outputs": [
    {
     "data": {
      "text/plain": [
       "array([ 4. , 12.1, 20.2, 28.3, 36.4, 44.5, 52.6, 60.7, 68.8, 76.9, 85. ])"
      ]
     },
     "execution_count": 250,
     "metadata": {},
     "output_type": "execute_result"
    }
   ],
   "source": [
    "bins"
   ]
  },
  {
   "cell_type": "code",
   "execution_count": 251,
   "metadata": {},
   "outputs": [],
   "source": [
    "def balance_dataset(data_df, bins, max_items=80, random_seed=default_random_seed):\n",
    "    rs = np.random.RandomState(random_seed)\n",
    "    \n",
    "    z_bins = list(zip(bins, bins[1:]))\n",
    "    selected_indices = []\n",
    "    for i, (low, high) in enumerate(z_bins):\n",
    "        if i + 1 == len(z_bins):\n",
    "            high += 1\n",
    "        \n",
    "        indices = data_df[\n",
    "            (data_df['temperature'] >= low) &\n",
    "            (data_df['temperature'] < high)\n",
    "        ].index\n",
    "        \n",
    "        selected_indices += rs.choice(indices, size=min(max_items, len(indices)), replace=False).tolist()\n",
    "        \n",
    "    return data_df.loc[selected_indices].reset_index(drop=True)"
   ]
  },
  {
   "cell_type": "code",
   "execution_count": 252,
   "metadata": {},
   "outputs": [
    {
     "data": {
      "text/plain": [
       "(502, 7)"
      ]
     },
     "execution_count": 252,
     "metadata": {},
     "output_type": "execute_result"
    }
   ],
   "source": [
    "balanced_df = balance_dataset(merged_df, bins)\n",
    "balanced_df.shape"
   ]
  },
  {
   "cell_type": "code",
   "execution_count": 253,
   "metadata": {},
   "outputs": [
    {
     "data": {
      "text/html": [
       "<div>\n",
       "<style scoped>\n",
       "    .dataframe tbody tr th:only-of-type {\n",
       "        vertical-align: middle;\n",
       "    }\n",
       "\n",
       "    .dataframe tbody tr th {\n",
       "        vertical-align: top;\n",
       "    }\n",
       "\n",
       "    .dataframe thead th {\n",
       "        text-align: right;\n",
       "    }\n",
       "</style>\n",
       "<table border=\"1\" class=\"dataframe\">\n",
       "  <thead>\n",
       "    <tr style=\"text-align: right;\">\n",
       "      <th></th>\n",
       "      <th>accession</th>\n",
       "      <th>specie_name</th>\n",
       "      <th>domain</th>\n",
       "      <th>phylum</th>\n",
       "      <th>gtdb_genome_representative</th>\n",
       "      <th>temperature</th>\n",
       "      <th>temperature_range</th>\n",
       "    </tr>\n",
       "  </thead>\n",
       "  <tbody>\n",
       "    <tr>\n",
       "      <th>0</th>\n",
       "      <td>RS_GCF_000428905.1</td>\n",
       "      <td>Glaciecola pallidula</td>\n",
       "      <td>Bacteria</td>\n",
       "      <td>Proteobacteria</td>\n",
       "      <td>RS_GCF_000428905.1</td>\n",
       "      <td>8.5</td>\n",
       "      <td>psychrophilic</td>\n",
       "    </tr>\n",
       "    <tr>\n",
       "      <th>1</th>\n",
       "      <td>RS_GCF_002835545.1</td>\n",
       "      <td>Psychrobium conchae</td>\n",
       "      <td>Bacteria</td>\n",
       "      <td>Proteobacteria</td>\n",
       "      <td>RS_GCF_002835545.1</td>\n",
       "      <td>12.0</td>\n",
       "      <td>psychrophilic</td>\n",
       "    </tr>\n",
       "    <tr>\n",
       "      <th>2</th>\n",
       "      <td>RS_GCF_002995745.1</td>\n",
       "      <td>Clostridium vincentii</td>\n",
       "      <td>Bacteria</td>\n",
       "      <td>Firmicutes_A</td>\n",
       "      <td>RS_GCF_002995745.1</td>\n",
       "      <td>12.0</td>\n",
       "      <td>psychrophilic</td>\n",
       "    </tr>\n",
       "    <tr>\n",
       "      <th>3</th>\n",
       "      <td>RS_GCF_000196255.1</td>\n",
       "      <td>Photobacterium profundum</td>\n",
       "      <td>Bacteria</td>\n",
       "      <td>Proteobacteria</td>\n",
       "      <td>RS_GCF_000196255.1</td>\n",
       "      <td>10.0</td>\n",
       "      <td>psychrophilic</td>\n",
       "    </tr>\n",
       "    <tr>\n",
       "      <th>4</th>\n",
       "      <td>RS_GCF_001440345.1</td>\n",
       "      <td>Colwellia psychrerythraea</td>\n",
       "      <td>Bacteria</td>\n",
       "      <td>Proteobacteria</td>\n",
       "      <td>RS_GCF_001440345.1</td>\n",
       "      <td>10.0</td>\n",
       "      <td>psychrophilic</td>\n",
       "    </tr>\n",
       "  </tbody>\n",
       "</table>\n",
       "</div>"
      ],
      "text/plain": [
       "            accession                specie_name    domain          phylum  \\\n",
       "0  RS_GCF_000428905.1       Glaciecola pallidula  Bacteria  Proteobacteria   \n",
       "1  RS_GCF_002835545.1        Psychrobium conchae  Bacteria  Proteobacteria   \n",
       "2  RS_GCF_002995745.1      Clostridium vincentii  Bacteria    Firmicutes_A   \n",
       "3  RS_GCF_000196255.1   Photobacterium profundum  Bacteria  Proteobacteria   \n",
       "4  RS_GCF_001440345.1  Colwellia psychrerythraea  Bacteria  Proteobacteria   \n",
       "\n",
       "  gtdb_genome_representative  temperature temperature_range  \n",
       "0         RS_GCF_000428905.1          8.5     psychrophilic  \n",
       "1         RS_GCF_002835545.1         12.0     psychrophilic  \n",
       "2         RS_GCF_002995745.1         12.0     psychrophilic  \n",
       "3         RS_GCF_000196255.1         10.0     psychrophilic  \n",
       "4         RS_GCF_001440345.1         10.0     psychrophilic  "
      ]
     },
     "execution_count": 253,
     "metadata": {},
     "output_type": "execute_result"
    }
   ],
   "source": [
    "balanced_df.head()"
   ]
  },
  {
   "cell_type": "code",
   "execution_count": 254,
   "metadata": {},
   "outputs": [
    {
     "data": {
      "image/png": "[encoded data removed]",
      "text/plain": [
       "<Figure size 864x432 with 1 Axes>"
      ]
     },
     "metadata": {},
     "output_type": "display_data"
    }
   ],
   "source": [
    "f, ax = plt.subplots(1, 1, figsize=(12, 6))\n",
    "_, bins, _ = ax.hist(balanced_df['temperature'].values, bins=10)\n",
    "ax.set_title('Distribution of temperature in the balanced dataset');\n",
    "ax.set_xlabel('Optimal Growth Temperature (°C)');"
   ]
  },
  {
   "cell_type": "code",
   "execution_count": 255,
   "metadata": {},
   "outputs": [
    {
     "data": {
      "text/plain": [
       "60240"
      ]
     },
     "execution_count": 255,
     "metadata": {},
     "output_type": "execute_result"
    }
   ],
   "source": [
    "len(balanced_df) * 120"
   ]
  },
  {
   "cell_type": "code",
   "execution_count": 256,
   "metadata": {},
   "outputs": [
    {
     "data": {
      "text/plain": [
       "36.89143426294821"
      ]
     },
     "execution_count": 256,
     "metadata": {},
     "output_type": "execute_result"
    }
   ],
   "source": [
    "balanced_df['temperature'].mean()"
   ]
  },
  {
   "cell_type": "markdown",
   "metadata": {},
   "source": [
    "## Load sequences"
   ]
  },
  {
   "cell_type": "code",
   "execution_count": 257,
   "metadata": {},
   "outputs": [],
   "source": [
    "nucleotides_fasta_folder = os.path.join(os.getcwd(), 'data/gtdb/bac120_89_individual_genes/fna')\n",
    "amino_acids_fasta_folder = os.path.join(os.getcwd(), 'data/gtdb/bac120_89_individual_genes/faa')"
   ]
  },
  {
   "cell_type": "code",
   "execution_count": 258,
   "metadata": {},
   "outputs": [],
   "source": [
    "def load_sequences(fasta_path):\n",
    "    records = {}\n",
    "    with open(fasta_path) as f:\n",
    "        for record in SeqIO.parse(f, 'fasta'):\n",
    "            records[record.id] = record.seq._data\n",
    "    return records"
   ]
  },
  {
   "cell_type": "code",
   "execution_count": 259,
   "metadata": {},
   "outputs": [],
   "source": [
    "def load_sequences_per_marker_id(marker_info_df, folder_path, extension):\n",
    "    sequences_per_marker_id = {}\n",
    "    \n",
    "    for i, index in enumerate(marker_info_df.index):\n",
    "        row = marker_info_df.loc[index]\n",
    "        gene_marker_id_parts = row['Marker Id'].split('_')\n",
    "        assert len(gene_marker_id_parts) == 2\n",
    "        gene_marker_id = gene_marker_id_parts[1]\n",
    "        \n",
    "        fasta_path = os.path.join(folder_path, f'{gene_marker_id}{extension}')\n",
    "        \n",
    "        sequences_per_marker_id[gene_marker_id] = load_sequences(fasta_path)\n",
    "    \n",
    "    return sequences_per_marker_id"
   ]
  },
  {
   "cell_type": "code",
   "execution_count": 260,
   "metadata": {},
   "outputs": [],
   "source": [
    "nucleotide_sequences = load_sequences_per_marker_id(marker_info_df, nucleotides_fasta_folder, '.fna')\n",
    "amino_acid_sequences = load_sequences_per_marker_id(marker_info_df, amino_acids_fasta_folder, '.faa')"
   ]
  },
  {
   "cell_type": "code",
   "execution_count": 261,
   "metadata": {},
   "outputs": [],
   "source": [
    "def merge_data_and_sequences(\n",
    "    balanced_df, \n",
    "    marker_info_df, \n",
    "    nucleotide_sequences, \n",
    "    amino_acid_sequences,\n",
    "):\n",
    "    output = []\n",
    "    output_columns = [\n",
    "        'accession',\n",
    "        'specie_name',\n",
    "        'domain',\n",
    "        'phylum',\n",
    "        'gtdb_genome_representative',\n",
    "        'temperature',\n",
    "        'temperature_range',\n",
    "        'gene_marker_id',\n",
    "        'gene_name',\n",
    "        'nucleotide_sequence',\n",
    "        'amino_acid_sequence',\n",
    "    ]\n",
    "    \n",
    "    for tpl in balanced_df.itertuples():\n",
    "        genome_key = tpl.gtdb_genome_representative[3:]\n",
    "        \n",
    "        for i, index in enumerate(marker_info_df.index):\n",
    "            row = marker_info_df.loc[index]\n",
    "            gene_marker_id = row['Marker Id']\n",
    "            gene_name = row['Name']\n",
    "            \n",
    "            gene_marker_id_key = gene_marker_id.split('_')[1]\n",
    "            \n",
    "            nucleotide_sequence = nucleotide_sequences[gene_marker_id_key].get(genome_key)\n",
    "            amino_acid_sequence = amino_acid_sequences[gene_marker_id_key].get(genome_key)\n",
    "            \n",
    "            if nucleotide_sequence is None or amino_acid_sequence is None:\n",
    "                continue\n",
    "                \n",
    "            if 'X' in nucleotide_sequence or 'X' in amino_acid_sequence:\n",
    "                continue\n",
    "            \n",
    "            output.append([\n",
    "                tpl.accession,\n",
    "                tpl.specie_name,\n",
    "                tpl.domain,\n",
    "                tpl.phylum,\n",
    "                tpl.gtdb_genome_representative,\n",
    "                tpl.temperature,\n",
    "                tpl.temperature_range,\n",
    "                gene_marker_id,\n",
    "                gene_name,\n",
    "                nucleotide_sequence,\n",
    "                amino_acid_sequence,\n",
    "            ])\n",
    "            \n",
    "    return pd.DataFrame(output, columns=output_columns)"
   ]
  },
  {
   "cell_type": "code",
   "execution_count": 262,
   "metadata": {},
   "outputs": [],
   "source": [
    "df_with_sequences = merge_data_and_sequences(\n",
    "    balanced_df,\n",
    "    marker_info_df,\n",
    "    nucleotide_sequences,\n",
    "    amino_acid_sequences,\n",
    ")"
   ]
  },
  {
   "cell_type": "code",
   "execution_count": 263,
   "metadata": {},
   "outputs": [
    {
     "data": {
      "text/plain": [
       "(58501, 11)"
      ]
     },
     "execution_count": 263,
     "metadata": {},
     "output_type": "execute_result"
    }
   ],
   "source": [
    "df_with_sequences.shape"
   ]
  },
  {
   "cell_type": "code",
   "execution_count": 215,
   "metadata": {},
   "outputs": [],
   "source": [
    "full_dataset_export_path = os.path.join(os.getcwd(), 'data/gtdb/dataset_full.csv')\n",
    "# df_with_sequences.to_csv(full_dataset_export_path, index=False)"
   ]
  },
  {
   "cell_type": "markdown",
   "metadata": {},
   "source": [
    "## Split train / test sets"
   ]
  },
  {
   "cell_type": "code",
   "execution_count": 216,
   "metadata": {},
   "outputs": [],
   "source": [
    "def split_train_test_set_per_specie(df, test_ratio=0.2, random_seed=default_random_seed):\n",
    "    rs = np.random.RandomState(random_seed)\n",
    "    \n",
    "    representative_genomes = sorted(df['gtdb_genome_representative'].unique().tolist())\n",
    "    \n",
    "    n_seq = len(representative_genomes)\n",
    "    test_species = rs.choice(representative_genomes, size=int(test_ratio * n_seq), replace=False)\n",
    "    test_species_set = set(test_species.tolist())\n",
    "    train_species = np.array([s for s in representative_genomes if s not in test_species_set])\n",
    "    \n",
    "    return (\n",
    "        df[df['gtdb_genome_representative'].isin(train_species)].reset_index(drop=True),\n",
    "        df[df['gtdb_genome_representative'].isin(test_species)].reset_index(drop=True),\n",
    "    )"
   ]
  },
  {
   "cell_type": "code",
   "execution_count": 217,
   "metadata": {},
   "outputs": [],
   "source": [
    "train_df, test_df = split_train_test_set_per_specie(df_with_sequences)"
   ]
  },
  {
   "cell_type": "code",
   "execution_count": 218,
   "metadata": {},
   "outputs": [
    {
     "data": {
      "text/plain": [
       "(46905, 11596)"
      ]
     },
     "execution_count": 218,
     "metadata": {},
     "output_type": "execute_result"
    }
   ],
   "source": [
    "len(train_df), len(test_df)"
   ]
  },
  {
   "cell_type": "code",
   "execution_count": 219,
   "metadata": {},
   "outputs": [],
   "source": [
    "train_dataset_export_path = os.path.join(os.getcwd(), 'data/gtdb/dataset_full_train.csv')\n",
    "test_dataset_export_path = os.path.join(os.getcwd(), 'data/gtdb/dataset_full_test.csv')\n",
    "\n",
    "# train_df.to_csv(train_dataset_export_path, index=False)\n",
    "# test_df.to_csv(test_dataset_export_path, index=False)"
   ]
  },
  {
   "cell_type": "code",
   "execution_count": 220,
   "metadata": {},
   "outputs": [
    {
     "name": "stdout",
     "output_type": "stream",
     "text": [
      "105 8652 1143 774\n"
     ]
    }
   ],
   "source": [
    "nucleotide_sequence_lengths = [len(s) for s in df_with_sequences['nucleotide_sequence']]\n",
    "\n",
    "min_ = np.min(nucleotide_sequence_lengths)\n",
    "max_ = np.max(nucleotide_sequence_lengths)\n",
    "mean_ = int(np.mean(nucleotide_sequence_lengths))\n",
    "std_ = int(np.std(nucleotide_sequence_lengths))\n",
    "\n",
    "print(min_, max_, mean_, std_)"
   ]
  },
  {
   "cell_type": "code",
   "execution_count": 221,
   "metadata": {},
   "outputs": [
    {
     "data": {
      "image/png": "[encoded data removed]",
      "text/plain": [
       "<Figure size 720x360 with 1 Axes>"
      ]
     },
     "metadata": {},
     "output_type": "display_data"
    }
   ],
   "source": [
    "_, ax = plt.subplots(1, 1, figsize=(10, 5))\n",
    "ax.hist(nucleotide_sequence_lengths, bins=20);\n",
    "ax.set_title('Histogram of nucleotide sequence lengths');"
   ]
  },
  {
   "cell_type": "code",
   "execution_count": null,
   "metadata": {},
   "outputs": [],
   "source": []
  }
 ],
 "metadata": {
  "kernelspec": {
   "display_name": "Python 3",
   "language": "python",
   "name": "python3"
  },
  "language_info": {
   "codemirror_mode": {
    "name": "ipython",
    "version": 3
   },
   "file_extension": ".py",
   "mimetype": "text/x-python",
   "name": "python",
   "nbconvert_exporter": "python",
   "pygments_lexer": "ipython3",
   "version": "3.7.6"
  }
 },
 "nbformat": 4,
 "nbformat_minor": 4
}
