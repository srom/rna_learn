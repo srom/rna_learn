{
 "cells": [
  {
   "cell_type": "code",
   "execution_count": 1,
   "metadata": {},
   "outputs": [],
   "source": [
    "import collections\n",
    "import os\n",
    "import json\n",
    "import logging\n",
    "import string\n",
    "import re\n",
    "\n",
    "from scipy.stats import entropy\n",
    "import pandas as pd\n",
    "import numpy as np\n",
    "import matplotlib.pyplot as plt\n",
    "import seaborn as sns\n",
    "from sqlalchemy import create_engine\n",
    "import statsmodels.api as sm\n",
    "from statsmodels.sandbox.regression.predstd import wls_prediction_std\n",
    "import networkx as nx\n",
    "\n",
    "if os.getcwd().endswith('notebook'):\n",
    "    os.chdir('..')"
   ]
  },
  {
   "cell_type": "code",
   "execution_count": 2,
   "metadata": {},
   "outputs": [],
   "source": [
    "sns.set(palette='colorblind', font_scale=1.3)\n",
    "palette = sns.color_palette()\n",
    "logging.basicConfig(level=logging.INFO, format=\"%(asctime)s (%(levelname)s) %(message)s\")\n",
    "logger = logging.getLogger(__name__)"
   ]
  },
  {
   "cell_type": "code",
   "execution_count": 3,
   "metadata": {},
   "outputs": [],
   "source": [
    "db_path = os.path.join(os.getcwd(), 'data/db/seq.db')\n",
    "engine = create_engine(f'sqlite+pysqlite:///{db_path}')"
   ]
  },
  {
   "cell_type": "markdown",
   "metadata": {},
   "source": [
    "## Load PFAM file"
   ]
  },
  {
   "cell_type": "code",
   "execution_count": 30,
   "metadata": {},
   "outputs": [],
   "source": [
    "def load_pfam_file(path, skiplines=4, n_cols=19):\n",
    "    p = r'\\s+'.join([r'([^\\s]+)' for _ in range(n_cols)])\n",
    "    pattern = f'^{p}$'\n",
    "    \n",
    "    line_nb = 0\n",
    "    with open(path, 'r') as f:\n",
    "        for line in f:\n",
    "            line_nb += 1\n",
    "            if line_nb < skiplines:\n",
    "                continue\n",
    "\n",
    "            m = re.match(pattern, line)\n",
    "            row = [m[i+1] for i in range(n_cols)]\n",
    "            \n",
    "            first_el = row[0]\n",
    "            \n",
    "            a, genome_accession = tuple(first_el.split('$'))\n",
    "            _, protein_id = tuple(a.split('@'))\n",
    "            protein_label = row[-1] if row[-1] != '-' else None\n",
    "            \n",
    "            pfam_query = row[2]\n",
    "            pfam_accession = row[3]\n",
    "            \n",
    "            data_row = [\n",
    "                genome_accession,\n",
    "                protein_id,\n",
    "                pfam_query,\n",
    "                pfam_accession,\n",
    "                protein_label,\n",
    "            ]\n",
    "            print(data_row)\n",
    "            \n",
    "            if line_nb > 10:\n",
    "                break"
   ]
  },
  {
   "cell_type": "code",
   "execution_count": 31,
   "metadata": {},
   "outputs": [
    {
     "name": "stdout",
     "output_type": "stream",
     "text": [
      "['GCA_900115545.1', 'SFO79740.1', 'DUF3492', 'PF11997.8', 'Glycosyltransferase-involved-in-cell-wall-bisynthesis']\n",
      "['GCA_002298975.1', 'DBMV01000004.1-16', 'DUF3492', 'PF11997.8', None]\n",
      "['GCA_000620465.1', 'KK211140.1-377', 'DUF3492', 'PF11997.8', None]\n",
      "['GCA_000955795.1', 'KJJ94947.1', 'DUF3492', 'PF11997.8', 'glycosyl-transferase-family-1']\n",
      "['GCA_003851545.1', 'GCB03505.1', 'DUF3492', 'PF11997.8', 'pellicle/biofilm-biosynthesis-glycosyltransferase-PelF']\n",
      "['GCA_002332825.1', 'DDBR01000017.1-226', 'DUF3492', 'PF11997.8', None]\n",
      "['GCA_000020205.1', 'ACD27603.1', 'DUF3492', 'PF11997.8', 'glycosyl-transferase-group-1']\n",
      "['GCA_001634945.1', 'KZY35435.1', 'DUF3492', 'PF11997.8', 'glycosyl-transferase-family-1']\n"
     ]
    }
   ],
   "source": [
    "path = os.path.join(os.getcwd(), 'data/Large_EBMC_Bact_DB/concat_bact95_hclust05_vs_Pfam_5_15_tbloutm.txt')\n",
    "load_pfam_file(path)"
   ]
  },
  {
   "cell_type": "code",
   "execution_count": null,
   "metadata": {},
   "outputs": [],
   "source": []
  },
  {
   "cell_type": "code",
   "execution_count": null,
   "metadata": {},
   "outputs": [],
   "source": []
  },
  {
   "cell_type": "code",
   "execution_count": null,
   "metadata": {},
   "outputs": [],
   "source": []
  },
  {
   "cell_type": "code",
   "execution_count": null,
   "metadata": {},
   "outputs": [],
   "source": []
  },
  {
   "cell_type": "code",
   "execution_count": 19,
   "metadata": {},
   "outputs": [
    {
     "data": {
      "text/plain": [
       "1846"
      ]
     },
     "execution_count": 19,
     "metadata": {},
     "output_type": "execute_result"
    }
   ],
   "source": [
    "sequence_query = \"\"\"\n",
    "select metadata_json from sequences where assembly_accession = 'GCA_000008545.1'\n",
    "\"\"\"\n",
    "df = pd.read_sql(sequence_query, engine)\n",
    "metadata_json = df['metadata_json'].values\n",
    "len(metadata_json)\n",
    "\n",
    "protein_id_set = set()\n",
    "for m in metadata_json:\n",
    "    if m is not None:\n",
    "        metadata = json.loads(m)\n",
    "        protein_id = metadata.get('protein_id')\n",
    "        if protein_id is not None:\n",
    "            protein_id_set.add(protein_id.strip())\n",
    "            \n",
    "len(protein_id_set)"
   ]
  },
  {
   "cell_type": "code",
   "execution_count": 23,
   "metadata": {},
   "outputs": [
    {
     "data": {
      "text/plain": [
       "True"
      ]
     },
     "execution_count": 23,
     "metadata": {},
     "output_type": "execute_result"
    }
   ],
   "source": [
    "'AAD36476.1' in protein_id_set"
   ]
  },
  {
   "cell_type": "code",
   "execution_count": null,
   "metadata": {},
   "outputs": [],
   "source": []
  },
  {
   "cell_type": "code",
   "execution_count": null,
   "metadata": {},
   "outputs": [],
   "source": []
  }
 ],
 "metadata": {
  "kernelspec": {
   "display_name": "Python 3",
   "language": "python",
   "name": "python3"
  },
  "language_info": {
   "codemirror_mode": {
    "name": "ipython",
    "version": 3
   },
   "file_extension": ".py",
   "mimetype": "text/x-python",
   "name": "python",
   "nbconvert_exporter": "python",
   "pygments_lexer": "ipython3",
   "version": "3.7.6"
  }
 },
 "nbformat": 4,
 "nbformat_minor": 4
}
