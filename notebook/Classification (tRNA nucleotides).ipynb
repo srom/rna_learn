{
 "cells": [
  {
   "cell_type": "code",
   "execution_count": 82,
   "metadata": {},
   "outputs": [],
   "source": [
    "import collections\n",
    "import os\n",
    "\n",
    "import pandas as pd\n",
    "import numpy as np\n",
    "import tensorflow as tf\n",
    "import matplotlib.pyplot as plt\n",
    "import seaborn as sns\n",
    "\n",
    "if os.getcwd().endswith('notebook'):\n",
    "    os.chdir('..')\n",
    "\n",
    "from rna_learn.model import (\n",
    "    rnn_classification_model,\n",
    "    compile_classification_model,\n",
    ")\n",
    "from rna_learn.transform import (\n",
    "    sequence_embedding, \n",
    "    make_dataset_balanced,\n",
    "    one_hot_encode_classes,\n",
    "    split_train_test_set,\n",
    "    normalize, \n",
    "    denormalize,\n",
    ")\n",
    "from rna_learn.load import load_rna_nucleotides_dataset\n",
    "from rna_learn.vae import variational_autoencoder, compile_vae"
   ]
  },
  {
   "cell_type": "code",
   "execution_count": 2,
   "metadata": {},
   "outputs": [],
   "source": [
    "seed = 123\n",
    "np.random.seed(seed)\n",
    "\n",
    "sns.set(palette='colorblind', font_scale=1.3)"
   ]
  },
  {
   "cell_type": "markdown",
   "metadata": {},
   "source": [
    "## Model"
   ]
  },
  {
   "cell_type": "code",
   "execution_count": 3,
   "metadata": {},
   "outputs": [],
   "source": [
    "rna = 'trna'\n",
    "alphabet = ['A', 'T', 'G', 'C']\n",
    "alphabet_size = len(alphabet)\n",
    "metadata_folder = f'data/rna_temp/tab/{rna}.tab'\n",
    "sequences_folder = 'data/rna_temp/seq/'\n",
    "classes = ['psychrophile', 'mesophile', 'thermophile', 'hyperthermophile']\n",
    "n_classes = len(classes)\n",
    "n_entries_per_class = 153"
   ]
  },
  {
   "cell_type": "code",
   "execution_count": 4,
   "metadata": {},
   "outputs": [
    {
     "name": "stdout",
     "output_type": "stream",
     "text": [
      "Model: \"model\"\n",
      "_________________________________________________________________\n",
      "Layer (type)                 Output Shape              Param #   \n",
      "=================================================================\n",
      "sequence (InputLayer)        [(None, None, 4)]         0         \n",
      "_________________________________________________________________\n",
      "masking (Masking)            (None, None, 4)           0         \n",
      "_________________________________________________________________\n",
      "lstm (LSTM)                  (None, None, 100)         42000     \n",
      "_________________________________________________________________\n",
      "lstm_1 (LSTM)                (None, 100)               80400     \n",
      "_________________________________________________________________\n",
      "dense (Dense)                (None, 100)               10100     \n",
      "_________________________________________________________________\n",
      "dropout (Dropout)            (None, 100)               0         \n",
      "_________________________________________________________________\n",
      "dense_1 (Dense)              (None, 4)                 404       \n",
      "=================================================================\n",
      "Total params: 132,904\n",
      "Trainable params: 132,904\n",
      "Non-trainable params: 0\n",
      "_________________________________________________________________\n"
     ]
    }
   ],
   "source": [
    "output_path = os.path.join(os.getcwd(), 'saved_models', f'seed_{seed}', f'{rna}_classification.h5')\n",
    "\n",
    "model = rnn_classification_model(alphabet_size=alphabet_size, n_classes=n_classes, n_lstm=2)\n",
    "compile_classification_model(model, learning_rate=1e-4)\n",
    "\n",
    "model.load_weights(output_path)\n",
    "\n",
    "model.summary()"
   ]
  },
  {
   "cell_type": "markdown",
   "metadata": {},
   "source": [
    "## Data"
   ]
  },
  {
   "cell_type": "code",
   "execution_count": 5,
   "metadata": {},
   "outputs": [
    {
     "name": "stdout",
     "output_type": "stream",
     "text": [
      "CPU times: user 178 ms, sys: 138 ms, total: 315 ms\n",
      "Wall time: 316 ms\n"
     ]
    }
   ],
   "source": [
    "%%time\n",
    "metadata = pd.read_csv(metadata_folder, delimiter='\\t')\n",
    "metadata['category'] = metadata['temp.cat']\n",
    "\n",
    "sequences = load_rna_nucleotides_dataset(metadata, sequences_folder)"
   ]
  },
  {
   "cell_type": "code",
   "execution_count": 6,
   "metadata": {},
   "outputs": [],
   "source": [
    "y_balanced, balanced_metadata = make_dataset_balanced(metadata, n_entries_per_class=n_entries_per_class)"
   ]
  },
  {
   "cell_type": "code",
   "execution_count": 7,
   "metadata": {},
   "outputs": [],
   "source": [
    "balanced_sequences = load_rna_nucleotides_dataset(balanced_metadata, sequences_folder)\n",
    "y = one_hot_encode_classes(y_balanced, classes)\n",
    "x = sequence_embedding(balanced_sequences, alphabet)\n",
    "x_train, y_train, x_test, y_test, train_idx, test_idx = split_train_test_set(\n",
    "    x, y, test_ratio=0.2, return_indices=True)"
   ]
  },
  {
   "cell_type": "markdown",
   "metadata": {},
   "source": [
    "## Evaluation"
   ]
  },
  {
   "cell_type": "code",
   "execution_count": 8,
   "metadata": {},
   "outputs": [
    {
     "name": "stdout",
     "output_type": "stream",
     "text": [
      "Loss: 1.2486\n",
      "Accuracy: 0.4098\n"
     ]
    }
   ],
   "source": [
    "loss, accuracy = model.evaluate(x_test, y_test, verbose=0)\n",
    "print(f'Loss: {loss:.4f}')\n",
    "print(f'Accuracy: {accuracy:.4f}')"
   ]
  },
  {
   "cell_type": "markdown",
   "metadata": {},
   "source": [
    "## Confusion matrix (test set)"
   ]
  },
  {
   "cell_type": "code",
   "execution_count": 9,
   "metadata": {},
   "outputs": [
    {
     "data": {
      "text/plain": [
       "array([[17,  5,  2,  2],\n",
       "       [15,  5,  7,  4],\n",
       "       [13,  4,  9, 10],\n",
       "       [ 3,  4,  3, 19]], dtype=int32)"
      ]
     },
     "execution_count": 9,
     "metadata": {},
     "output_type": "execute_result"
    }
   ],
   "source": [
    "y_pred = model(x_test)\n",
    "\n",
    "labels = [np.argmax(el) for el in y_test]\n",
    "predictions = [np.argmax(el) for el in y_pred]\n",
    "conf = tf.math.confusion_matrix(labels, predictions).numpy()\n",
    "conf"
   ]
  },
  {
   "cell_type": "code",
   "execution_count": 10,
   "metadata": {},
   "outputs": [
    {
     "data": {
      "image/png": "[encoded data removed]",
      "text/plain": [
       "<Figure size 432x288 with 2 Axes>"
      ]
     },
     "metadata": {},
     "output_type": "display_data"
    }
   ],
   "source": [
    "df_cm = pd.DataFrame(\n",
    "    conf, \n",
    "    index=[f'{c}: {i}' for i, c in enumerate(classes)],\n",
    "    columns=[f'{i}' for i, c in enumerate(classes)],\n",
    ")\n",
    "ax = sns.heatmap(df_cm, cmap=\"Purples\");\n",
    "ax.set_xlabel('Predictions');\n",
    "ax.set_ylabel('Labels');"
   ]
  },
  {
   "cell_type": "code",
   "execution_count": 11,
   "metadata": {},
   "outputs": [
    {
     "name": "stdout",
     "output_type": "stream",
     "text": [
      "Accuracy for class psychrophile: 65.4%\n",
      "Accuracy for class mesophile: 16.1%\n",
      "Accuracy for class thermophile: 25.0%\n",
      "Accuracy for class hyperthermophile: 65.5%\n"
     ]
    }
   ],
   "source": [
    "conf_sum = np.sum(conf, axis=1)\n",
    "for i in range(len(classes)):\n",
    "    acc = 100 * conf[i, i] / conf_sum[i]\n",
    "    print(f'Accuracy for class {classes[i]}: {acc:.1f}%')"
   ]
  },
  {
   "cell_type": "markdown",
   "metadata": {},
   "source": [
    "## Confusion matrix (train set)"
   ]
  },
  {
   "cell_type": "code",
   "execution_count": 12,
   "metadata": {},
   "outputs": [
    {
     "data": {
      "text/plain": [
       "array([[91, 14, 15,  7],\n",
       "       [61, 26, 22, 13],\n",
       "       [41, 17, 31, 28],\n",
       "       [16,  4, 19, 85]], dtype=int32)"
      ]
     },
     "execution_count": 12,
     "metadata": {},
     "output_type": "execute_result"
    }
   ],
   "source": [
    "y_pred_t = model(x_train)\n",
    "\n",
    "labels_t = [np.argmax(el) for el in y_train]\n",
    "predictions_t = [np.argmax(el) for el in y_pred_t]\n",
    "conf_t = tf.math.confusion_matrix(labels_t, predictions_t).numpy()\n",
    "conf_t"
   ]
  },
  {
   "cell_type": "code",
   "execution_count": 13,
   "metadata": {},
   "outputs": [
    {
     "data": {
      "image/png": "[encoded data removed]",
      "text/plain": [
       "<Figure size 432x288 with 2 Axes>"
      ]
     },
     "metadata": {},
     "output_type": "display_data"
    }
   ],
   "source": [
    "df_cm_t = pd.DataFrame(\n",
    "    conf_t, \n",
    "    index=[f'{c}: {i}' for i, c in enumerate(classes)],\n",
    "    columns=[f'{i}' for i, c in enumerate(classes)],\n",
    ")\n",
    "ax = sns.heatmap(df_cm_t, cmap=\"Purples\");\n",
    "ax.set_xlabel('Predictions');\n",
    "ax.set_ylabel('Labels');"
   ]
  },
  {
   "cell_type": "code",
   "execution_count": 14,
   "metadata": {},
   "outputs": [
    {
     "name": "stdout",
     "output_type": "stream",
     "text": [
      "Accuracy for class psychrophile: 71.7%\n",
      "Accuracy for class mesophile: 21.3%\n",
      "Accuracy for class thermophile: 26.5%\n",
      "Accuracy for class hyperthermophile: 68.5%\n"
     ]
    }
   ],
   "source": [
    "conf_sum_t = np.sum(conf_t, axis=1)\n",
    "for i in range(len(classes)):\n",
    "    acc = 100 * conf_t[i, i] / conf_sum_t[i]\n",
    "    print(f'Accuracy for class {classes[i]}: {acc:.1f}%')"
   ]
  },
  {
   "cell_type": "markdown",
   "metadata": {},
   "source": [
    "## VAE"
   ]
  },
  {
   "cell_type": "code",
   "execution_count": 15,
   "metadata": {},
   "outputs": [
    {
     "name": "stdout",
     "output_type": "stream",
     "text": [
      "Model: \"model_3\"\n",
      "_________________________________________________________________\n",
      "Layer (type)                 Output Shape              Param #   \n",
      "=================================================================\n",
      "input_1 (InputLayer)         [(None, 100)]             0         \n",
      "_________________________________________________________________\n",
      "dense_2 (Dense)              (None, 300)               30300     \n",
      "_________________________________________________________________\n",
      "dropout_1 (Dropout)          (None, 300)               0         \n",
      "_________________________________________________________________\n",
      "dense_3 (Dense)              (None, 5)                 1505      \n",
      "_________________________________________________________________\n",
      "multivariate_normal_tri_l (M ((None, 2), (None, 2))    0         \n",
      "_________________________________________________________________\n",
      "model_2 (Model)              (None, 100)               61100     \n",
      "=================================================================\n",
      "Total params: 92,905\n",
      "Trainable params: 92,905\n",
      "Non-trainable params: 0\n",
      "_________________________________________________________________\n"
     ]
    }
   ],
   "source": [
    "prior, encoder, decoder, vae = variational_autoencoder(n_inputs=100, encoding_size=2, n_hidden=300)\n",
    "compile_vae(vae, learning_rate=1e-4)\n",
    "vae.summary()"
   ]
  },
  {
   "cell_type": "code",
   "execution_count": 16,
   "metadata": {},
   "outputs": [
    {
     "name": "stdout",
     "output_type": "stream",
     "text": [
      "(490, 100) (122, 100)\n"
     ]
    }
   ],
   "source": [
    "layer_name = 'dense'\n",
    "intermediate_layer_model = tf.keras.Model(\n",
    "    inputs=model.input,\n",
    "    outputs=model.get_layer(layer_name).output,\n",
    ")\n",
    "train_logits = intermediate_layer_model(x_train).numpy()\n",
    "test_logits = intermediate_layer_model(x_test).numpy()\n",
    "print(train_logits.shape, test_logits.shape)"
   ]
  },
  {
   "cell_type": "code",
   "execution_count": 17,
   "metadata": {
    "scrolled": true
   },
   "outputs": [
    {
     "name": "stdout",
     "output_type": "stream",
     "text": [
      "Train on 490 samples, validate on 122 samples\n",
      "Epoch 1/200\n",
      "490/490 [==============================] - 2s 3ms/sample - loss: 58.2549 - val_loss: 56.7157\n",
      "Epoch 2/200\n",
      "490/490 [==============================] - 0s 123us/sample - loss: 56.8497 - val_loss: 55.1827\n",
      "Epoch 3/200\n",
      "490/490 [==============================] - 0s 112us/sample - loss: 55.2468 - val_loss: 53.7047\n",
      "Epoch 4/200\n",
      "490/490 [==============================] - 0s 103us/sample - loss: 53.2585 - val_loss: 51.1662\n",
      "Epoch 5/200\n",
      "490/490 [==============================] - 0s 106us/sample - loss: 51.3165 - val_loss: 48.8007\n",
      "Epoch 6/200\n",
      "490/490 [==============================] - 0s 108us/sample - loss: 49.2814 - val_loss: 46.1809\n",
      "Epoch 7/200\n",
      "490/490 [==============================] - 0s 329us/sample - loss: 46.2690 - val_loss: 42.9845\n",
      "Epoch 8/200\n",
      "490/490 [==============================] - 0s 116us/sample - loss: 43.6229 - val_loss: 38.1457\n",
      "Epoch 9/200\n",
      "490/490 [==============================] - 0s 104us/sample - loss: 40.7398 - val_loss: 33.0887\n",
      "Epoch 10/200\n",
      "490/490 [==============================] - 0s 108us/sample - loss: 37.2631 - val_loss: 29.5537\n",
      "Epoch 11/200\n",
      "490/490 [==============================] - 0s 103us/sample - loss: 34.4358 - val_loss: 27.8969\n",
      "Epoch 12/200\n",
      "490/490 [==============================] - 0s 103us/sample - loss: 31.5595 - val_loss: 23.2148\n",
      "Epoch 13/200\n",
      "490/490 [==============================] - 0s 106us/sample - loss: 31.2242 - val_loss: 23.2392\n",
      "Epoch 14/200\n",
      "490/490 [==============================] - 0s 105us/sample - loss: 28.4324 - val_loss: 18.9278\n",
      "Epoch 15/200\n",
      "490/490 [==============================] - 0s 107us/sample - loss: 24.4636 - val_loss: 13.1548\n",
      "Epoch 16/200\n",
      "490/490 [==============================] - 0s 103us/sample - loss: 22.9043 - val_loss: 11.4771\n",
      "Epoch 17/200\n",
      "490/490 [==============================] - 0s 102us/sample - loss: 21.6936 - val_loss: 10.8232\n",
      "Epoch 18/200\n",
      "490/490 [==============================] - 0s 102us/sample - loss: 19.7974 - val_loss: 8.6361\n",
      "Epoch 19/200\n",
      "490/490 [==============================] - 0s 101us/sample - loss: 16.6510 - val_loss: 6.7369\n",
      "Epoch 20/200\n",
      "490/490 [==============================] - 0s 109us/sample - loss: 15.5726 - val_loss: -0.6339\n",
      "Epoch 21/200\n",
      "490/490 [==============================] - 0s 107us/sample - loss: 13.4778 - val_loss: 2.0439\n",
      "Epoch 22/200\n",
      "490/490 [==============================] - 0s 107us/sample - loss: 11.9272 - val_loss: -0.0620\n",
      "Epoch 23/200\n",
      "490/490 [==============================] - 0s 107us/sample - loss: 9.5565 - val_loss: -4.8654\n",
      "Epoch 24/200\n",
      "490/490 [==============================] - 0s 102us/sample - loss: 7.1194 - val_loss: -6.6527\n",
      "Epoch 25/200\n",
      "490/490 [==============================] - 0s 105us/sample - loss: 6.6087 - val_loss: -9.3597\n",
      "Epoch 26/200\n",
      "490/490 [==============================] - 0s 100us/sample - loss: 6.0305 - val_loss: -5.9535\n",
      "Epoch 27/200\n",
      "490/490 [==============================] - 0s 101us/sample - loss: 4.4042 - val_loss: -8.8240\n",
      "Epoch 28/200\n",
      "490/490 [==============================] - 0s 103us/sample - loss: 0.7700 - val_loss: -12.5925\n",
      "Epoch 29/200\n",
      "490/490 [==============================] - 0s 105us/sample - loss: 1.8688 - val_loss: -15.2392\n",
      "Epoch 30/200\n",
      "490/490 [==============================] - 0s 104us/sample - loss: -0.6460 - val_loss: -13.2562\n",
      "Epoch 31/200\n",
      "490/490 [==============================] - 0s 102us/sample - loss: -2.7750 - val_loss: -17.6318\n",
      "Epoch 32/200\n",
      "490/490 [==============================] - 0s 105us/sample - loss: -4.3662 - val_loss: -21.5033\n",
      "Epoch 33/200\n",
      "490/490 [==============================] - 0s 102us/sample - loss: -8.2178 - val_loss: -21.9472\n",
      "Epoch 34/200\n",
      "490/490 [==============================] - 0s 102us/sample - loss: -7.4250 - val_loss: -24.6509\n",
      "Epoch 35/200\n",
      "490/490 [==============================] - 0s 101us/sample - loss: -10.3292 - val_loss: -28.1767\n",
      "Epoch 36/200\n",
      "490/490 [==============================] - 0s 99us/sample - loss: -12.5643 - val_loss: -28.8963\n",
      "Epoch 37/200\n",
      "490/490 [==============================] - 0s 102us/sample - loss: -12.4287 - val_loss: -31.5541\n",
      "Epoch 38/200\n",
      "490/490 [==============================] - 0s 103us/sample - loss: -15.0302 - val_loss: -33.7000\n",
      "Epoch 39/200\n",
      "490/490 [==============================] - 0s 106us/sample - loss: -16.9345 - val_loss: -32.1647\n",
      "Epoch 40/200\n",
      "490/490 [==============================] - 0s 103us/sample - loss: -20.0548 - val_loss: -36.9585\n",
      "Epoch 41/200\n",
      "490/490 [==============================] - 0s 102us/sample - loss: -21.1428 - val_loss: -39.2205\n",
      "Epoch 42/200\n",
      "490/490 [==============================] - 0s 102us/sample - loss: -23.7123 - val_loss: -45.5387\n",
      "Epoch 43/200\n",
      "490/490 [==============================] - 0s 103us/sample - loss: -23.6107 - val_loss: -41.9988\n",
      "Epoch 44/200\n",
      "490/490 [==============================] - 0s 105us/sample - loss: -25.0719 - val_loss: -45.1953\n",
      "Epoch 45/200\n",
      "490/490 [==============================] - 0s 105us/sample - loss: -27.8391 - val_loss: -45.3834\n",
      "Epoch 46/200\n",
      "490/490 [==============================] - 0s 104us/sample - loss: -28.0251 - val_loss: -49.5014\n",
      "Epoch 47/200\n",
      "490/490 [==============================] - 0s 102us/sample - loss: -31.3876 - val_loss: -52.3265\n",
      "Epoch 48/200\n",
      "490/490 [==============================] - 0s 105us/sample - loss: -31.6767 - val_loss: -49.7910\n",
      "Epoch 49/200\n",
      "490/490 [==============================] - 0s 106us/sample - loss: -34.2108 - val_loss: -53.6507\n",
      "Epoch 50/200\n",
      "490/490 [==============================] - 0s 105us/sample - loss: -35.5722 - val_loss: -56.9792\n",
      "Epoch 51/200\n",
      "490/490 [==============================] - 0s 104us/sample - loss: -36.7283 - val_loss: -57.6996\n",
      "Epoch 52/200\n",
      "490/490 [==============================] - 0s 102us/sample - loss: -39.9089 - val_loss: -59.0506\n",
      "Epoch 53/200\n",
      "490/490 [==============================] - 0s 101us/sample - loss: -41.2488 - val_loss: -62.8583\n",
      "Epoch 54/200\n",
      "490/490 [==============================] - 0s 101us/sample - loss: -44.4207 - val_loss: -67.0499\n",
      "Epoch 55/200\n",
      "490/490 [==============================] - 0s 100us/sample - loss: -46.9887 - val_loss: -69.3974\n",
      "Epoch 56/200\n",
      "490/490 [==============================] - 0s 101us/sample - loss: -46.9228 - val_loss: -71.7580\n",
      "Epoch 57/200\n",
      "490/490 [==============================] - 0s 102us/sample - loss: -50.0228 - val_loss: -73.7676\n",
      "Epoch 58/200\n",
      "490/490 [==============================] - 0s 101us/sample - loss: -51.6199 - val_loss: -77.1490\n",
      "Epoch 59/200\n",
      "490/490 [==============================] - 0s 100us/sample - loss: -53.7842 - val_loss: -78.0302\n",
      "Epoch 60/200\n",
      "490/490 [==============================] - 0s 103us/sample - loss: -55.2183 - val_loss: -80.5688\n",
      "Epoch 61/200\n",
      "490/490 [==============================] - 0s 107us/sample - loss: -56.5128 - val_loss: -82.7685\n",
      "Epoch 62/200\n",
      "490/490 [==============================] - 0s 106us/sample - loss: -58.1951 - val_loss: -85.7291\n",
      "Epoch 63/200\n",
      "490/490 [==============================] - 0s 109us/sample - loss: -60.1026 - val_loss: -87.0333\n",
      "Epoch 64/200\n",
      "490/490 [==============================] - 0s 102us/sample - loss: -61.0475 - val_loss: -88.9387\n",
      "Epoch 65/200\n",
      "490/490 [==============================] - 0s 102us/sample - loss: -62.0748 - val_loss: -91.0895\n",
      "Epoch 66/200\n",
      "490/490 [==============================] - 0s 102us/sample - loss: -64.4953 - val_loss: -93.0511\n",
      "Epoch 67/200\n",
      "490/490 [==============================] - 0s 101us/sample - loss: -65.7188 - val_loss: -94.5208\n",
      "Epoch 68/200\n",
      "490/490 [==============================] - 0s 103us/sample - loss: -65.2695 - val_loss: -94.8583\n",
      "Epoch 69/200\n",
      "490/490 [==============================] - 0s 107us/sample - loss: -68.4037 - val_loss: -96.2806\n",
      "Epoch 70/200\n",
      "490/490 [==============================] - 0s 106us/sample - loss: -69.2240 - val_loss: -97.0887\n",
      "Epoch 71/200\n",
      "490/490 [==============================] - 0s 104us/sample - loss: -70.6956 - val_loss: -100.1058\n",
      "Epoch 72/200\n",
      "490/490 [==============================] - 0s 100us/sample - loss: -71.4767 - val_loss: -101.1090\n",
      "Epoch 73/200\n",
      "490/490 [==============================] - 0s 103us/sample - loss: -71.0946 - val_loss: -101.4940\n",
      "Epoch 74/200\n",
      "490/490 [==============================] - 0s 106us/sample - loss: -73.6751 - val_loss: -100.8141\n",
      "Epoch 75/200\n",
      "490/490 [==============================] - 0s 102us/sample - loss: -74.6854 - val_loss: -104.0474\n"
     ]
    },
    {
     "name": "stdout",
     "output_type": "stream",
     "text": [
      "Epoch 76/200\n",
      "490/490 [==============================] - 0s 106us/sample - loss: -76.2455 - val_loss: -104.1112\n",
      "Epoch 77/200\n",
      "490/490 [==============================] - 0s 102us/sample - loss: -77.1413 - val_loss: -107.1581\n",
      "Epoch 78/200\n",
      "490/490 [==============================] - 0s 100us/sample - loss: -76.5459 - val_loss: -108.2682\n",
      "Epoch 79/200\n",
      "490/490 [==============================] - 0s 101us/sample - loss: -79.1573 - val_loss: -107.8220\n",
      "Epoch 80/200\n",
      "490/490 [==============================] - 0s 100us/sample - loss: -80.5106 - val_loss: -108.9979\n",
      "Epoch 81/200\n",
      "490/490 [==============================] - 0s 105us/sample - loss: -80.6278 - val_loss: -110.4571\n",
      "Epoch 82/200\n",
      "490/490 [==============================] - 0s 103us/sample - loss: -81.2680 - val_loss: -110.5782\n",
      "Epoch 83/200\n",
      "490/490 [==============================] - 0s 109us/sample - loss: -82.2121 - val_loss: -112.1137\n",
      "Epoch 84/200\n",
      "490/490 [==============================] - 0s 104us/sample - loss: -83.1320 - val_loss: -112.0116\n",
      "Epoch 85/200\n",
      "490/490 [==============================] - 0s 102us/sample - loss: -83.8663 - val_loss: -114.3740\n",
      "Epoch 86/200\n",
      "490/490 [==============================] - 0s 103us/sample - loss: -86.2281 - val_loss: -114.6586\n",
      "Epoch 87/200\n",
      "490/490 [==============================] - 0s 106us/sample - loss: -86.0753 - val_loss: -114.4734\n",
      "Epoch 88/200\n",
      "490/490 [==============================] - 0s 104us/sample - loss: -85.7764 - val_loss: -116.4553\n",
      "Epoch 89/200\n",
      "490/490 [==============================] - 0s 102us/sample - loss: -88.5228 - val_loss: -117.5456\n",
      "Epoch 90/200\n",
      "490/490 [==============================] - 0s 102us/sample - loss: -87.7134 - val_loss: -117.5888\n",
      "Epoch 91/200\n",
      "490/490 [==============================] - 0s 106us/sample - loss: -89.4321 - val_loss: -119.0497\n",
      "Epoch 92/200\n",
      "490/490 [==============================] - 0s 104us/sample - loss: -90.9143 - val_loss: -120.5796\n",
      "Epoch 93/200\n",
      "490/490 [==============================] - 0s 107us/sample - loss: -90.9783 - val_loss: -121.9322\n",
      "Epoch 94/200\n",
      "490/490 [==============================] - 0s 102us/sample - loss: -92.4939 - val_loss: -121.7171\n",
      "Epoch 95/200\n",
      "490/490 [==============================] - 0s 101us/sample - loss: -92.5744 - val_loss: -122.2218\n",
      "Epoch 96/200\n",
      "490/490 [==============================] - 0s 102us/sample - loss: -94.5547 - val_loss: -122.9394\n",
      "Epoch 97/200\n",
      "490/490 [==============================] - 0s 102us/sample - loss: -95.3925 - val_loss: -124.7418\n",
      "Epoch 98/200\n",
      "490/490 [==============================] - 0s 100us/sample - loss: -96.1184 - val_loss: -125.0492\n",
      "Epoch 99/200\n",
      "490/490 [==============================] - 0s 101us/sample - loss: -97.2024 - val_loss: -125.5669\n",
      "Epoch 100/200\n",
      "490/490 [==============================] - 0s 105us/sample - loss: -96.7772 - val_loss: -127.7357\n",
      "Epoch 101/200\n",
      "490/490 [==============================] - 0s 106us/sample - loss: -100.4223 - val_loss: -128.3184\n",
      "Epoch 102/200\n",
      "490/490 [==============================] - 0s 103us/sample - loss: -100.1832 - val_loss: -130.3933\n",
      "Epoch 103/200\n",
      "490/490 [==============================] - 0s 101us/sample - loss: -99.7757 - val_loss: -129.4216\n",
      "Epoch 104/200\n",
      "490/490 [==============================] - 0s 104us/sample - loss: -101.0800 - val_loss: -130.6260\n",
      "Epoch 105/200\n",
      "490/490 [==============================] - 0s 102us/sample - loss: -101.9601 - val_loss: -131.3919\n",
      "Epoch 106/200\n",
      "490/490 [==============================] - 0s 106us/sample - loss: -104.3980 - val_loss: -131.8183\n",
      "Epoch 107/200\n",
      "490/490 [==============================] - 0s 103us/sample - loss: -105.0376 - val_loss: -133.1500\n",
      "Epoch 108/200\n",
      "490/490 [==============================] - 0s 105us/sample - loss: -105.0871 - val_loss: -134.5507\n",
      "Epoch 109/200\n",
      "490/490 [==============================] - 0s 105us/sample - loss: -106.6594 - val_loss: -135.4268\n",
      "Epoch 110/200\n",
      "490/490 [==============================] - 0s 103us/sample - loss: -107.2030 - val_loss: -135.8475\n",
      "Epoch 111/200\n",
      "490/490 [==============================] - 0s 100us/sample - loss: -108.2022 - val_loss: -137.3533\n",
      "Epoch 112/200\n",
      "490/490 [==============================] - 0s 102us/sample - loss: -109.4009 - val_loss: -137.5335\n",
      "Epoch 113/200\n",
      "490/490 [==============================] - 0s 108us/sample - loss: -109.3289 - val_loss: -139.4717\n",
      "Epoch 114/200\n",
      "490/490 [==============================] - 0s 102us/sample - loss: -111.0724 - val_loss: -139.7174\n",
      "Epoch 115/200\n",
      "490/490 [==============================] - 0s 103us/sample - loss: -112.2020 - val_loss: -140.9051\n",
      "Epoch 116/200\n",
      "490/490 [==============================] - 0s 102us/sample - loss: -112.0657 - val_loss: -141.5068\n",
      "Epoch 117/200\n",
      "490/490 [==============================] - 0s 102us/sample - loss: -112.2166 - val_loss: -141.6330\n",
      "Epoch 118/200\n",
      "490/490 [==============================] - 0s 102us/sample - loss: -114.1325 - val_loss: -143.4830\n",
      "Epoch 119/200\n",
      "490/490 [==============================] - 0s 102us/sample - loss: -116.1307 - val_loss: -145.4713\n",
      "Epoch 120/200\n",
      "490/490 [==============================] - 0s 104us/sample - loss: -115.6588 - val_loss: -145.4699\n",
      "Epoch 121/200\n",
      "490/490 [==============================] - 0s 106us/sample - loss: -117.1935 - val_loss: -143.3129\n",
      "Epoch 122/200\n",
      "490/490 [==============================] - 0s 107us/sample - loss: -117.9550 - val_loss: -145.7760\n",
      "Epoch 123/200\n",
      "490/490 [==============================] - 0s 102us/sample - loss: -119.2554 - val_loss: -148.3044\n",
      "Epoch 124/200\n",
      "490/490 [==============================] - 0s 102us/sample - loss: -121.1433 - val_loss: -149.5166\n",
      "Epoch 125/200\n",
      "490/490 [==============================] - 0s 105us/sample - loss: -120.4011 - val_loss: -150.3376\n",
      "Epoch 126/200\n",
      "490/490 [==============================] - 0s 104us/sample - loss: -122.9857 - val_loss: -152.2797\n",
      "Epoch 127/200\n",
      "490/490 [==============================] - 0s 107us/sample - loss: -123.9435 - val_loss: -153.1957\n",
      "Epoch 128/200\n",
      "490/490 [==============================] - 0s 100us/sample - loss: -123.1900 - val_loss: -152.8510\n",
      "Epoch 129/200\n",
      "490/490 [==============================] - 0s 100us/sample - loss: -124.2502 - val_loss: -154.0886\n",
      "Epoch 130/200\n",
      "490/490 [==============================] - 0s 101us/sample - loss: -126.6577 - val_loss: -154.5831\n",
      "Epoch 131/200\n",
      "490/490 [==============================] - 0s 103us/sample - loss: -128.4674 - val_loss: -156.1843\n",
      "Epoch 132/200\n",
      "490/490 [==============================] - 0s 107us/sample - loss: -128.5894 - val_loss: -156.4045\n",
      "Epoch 133/200\n",
      "490/490 [==============================] - 0s 103us/sample - loss: -129.4528 - val_loss: -158.0526\n",
      "Epoch 134/200\n",
      "490/490 [==============================] - 0s 110us/sample - loss: -131.7120 - val_loss: -159.7845\n",
      "Epoch 135/200\n",
      "490/490 [==============================] - 0s 102us/sample - loss: -131.1872 - val_loss: -159.8304\n",
      "Epoch 136/200\n",
      "490/490 [==============================] - 0s 106us/sample - loss: -132.9404 - val_loss: -160.5565\n",
      "Epoch 137/200\n",
      "490/490 [==============================] - 0s 105us/sample - loss: -134.1048 - val_loss: -162.6317\n",
      "Epoch 138/200\n",
      "490/490 [==============================] - 0s 104us/sample - loss: -135.2387 - val_loss: -162.3831\n",
      "Epoch 139/200\n",
      "490/490 [==============================] - 0s 102us/sample - loss: -135.7521 - val_loss: -163.6444\n",
      "Epoch 140/200\n",
      "490/490 [==============================] - 0s 102us/sample - loss: -137.9141 - val_loss: -165.7497\n",
      "Epoch 141/200\n",
      "490/490 [==============================] - 0s 105us/sample - loss: -138.1648 - val_loss: -166.7695\n",
      "Epoch 142/200\n",
      "490/490 [==============================] - 0s 108us/sample - loss: -138.7788 - val_loss: -166.7127\n",
      "Epoch 143/200\n",
      "490/490 [==============================] - 0s 105us/sample - loss: -140.5276 - val_loss: -167.5473\n",
      "Epoch 144/200\n",
      "490/490 [==============================] - 0s 102us/sample - loss: -141.0014 - val_loss: -167.7474\n",
      "Epoch 145/200\n",
      "490/490 [==============================] - 0s 101us/sample - loss: -141.8365 - val_loss: -170.4845\n",
      "Epoch 146/200\n",
      "490/490 [==============================] - 0s 105us/sample - loss: -143.4147 - val_loss: -170.9549\n",
      "Epoch 147/200\n",
      "490/490 [==============================] - 0s 103us/sample - loss: -144.7242 - val_loss: -172.3402\n",
      "Epoch 148/200\n",
      "490/490 [==============================] - 0s 105us/sample - loss: -143.6631 - val_loss: -171.7064\n"
     ]
    },
    {
     "name": "stdout",
     "output_type": "stream",
     "text": [
      "Epoch 149/200\n",
      "490/490 [==============================] - 0s 106us/sample - loss: -146.3220 - val_loss: -173.2560\n",
      "Epoch 150/200\n",
      "490/490 [==============================] - 0s 111us/sample - loss: -149.3122 - val_loss: -175.7649\n",
      "Epoch 151/200\n",
      "490/490 [==============================] - 0s 104us/sample - loss: -148.3433 - val_loss: -176.6339\n",
      "Epoch 152/200\n",
      "490/490 [==============================] - 0s 103us/sample - loss: -151.8590 - val_loss: -178.0861\n",
      "Epoch 153/200\n",
      "490/490 [==============================] - 0s 105us/sample - loss: -152.5494 - val_loss: -178.9435\n",
      "Epoch 154/200\n",
      "490/490 [==============================] - 0s 105us/sample - loss: -151.4835 - val_loss: -180.1916\n",
      "Epoch 155/200\n",
      "490/490 [==============================] - 0s 104us/sample - loss: -153.5866 - val_loss: -181.3360\n",
      "Epoch 156/200\n",
      "490/490 [==============================] - 0s 102us/sample - loss: -153.9989 - val_loss: -182.5128\n",
      "Epoch 157/200\n",
      "490/490 [==============================] - 0s 105us/sample - loss: -155.3681 - val_loss: -183.4963\n",
      "Epoch 158/200\n",
      "490/490 [==============================] - 0s 103us/sample - loss: -157.5636 - val_loss: -185.4517\n",
      "Epoch 159/200\n",
      "490/490 [==============================] - 0s 106us/sample - loss: -159.5131 - val_loss: -185.2412\n",
      "Epoch 160/200\n",
      "490/490 [==============================] - 0s 106us/sample - loss: -159.6434 - val_loss: -186.9401\n",
      "Epoch 161/200\n",
      "490/490 [==============================] - 0s 106us/sample - loss: -160.5409 - val_loss: -187.2404\n",
      "Epoch 162/200\n",
      "490/490 [==============================] - 0s 100us/sample - loss: -161.9517 - val_loss: -186.6193\n",
      "Epoch 163/200\n",
      "490/490 [==============================] - 0s 105us/sample - loss: -164.1756 - val_loss: -189.6367\n",
      "Epoch 164/200\n",
      "490/490 [==============================] - 0s 102us/sample - loss: -164.4166 - val_loss: -189.4857\n",
      "Epoch 165/200\n",
      "490/490 [==============================] - 0s 100us/sample - loss: -165.1206 - val_loss: -190.0585\n",
      "Epoch 166/200\n",
      "490/490 [==============================] - 0s 102us/sample - loss: -164.9807 - val_loss: -192.2357\n",
      "Epoch 167/200\n",
      "490/490 [==============================] - 0s 102us/sample - loss: -167.1444 - val_loss: -192.9076\n",
      "Epoch 168/200\n",
      "490/490 [==============================] - 0s 103us/sample - loss: -169.1566 - val_loss: -193.9785\n",
      "Epoch 169/200\n",
      "490/490 [==============================] - 0s 107us/sample - loss: -168.6662 - val_loss: -194.7427\n",
      "Epoch 170/200\n",
      "490/490 [==============================] - 0s 106us/sample - loss: -168.8785 - val_loss: -194.5141\n",
      "Epoch 171/200\n",
      "490/490 [==============================] - 0s 124us/sample - loss: -173.9531 - val_loss: -195.7512\n",
      "Epoch 172/200\n",
      "490/490 [==============================] - 0s 116us/sample - loss: -175.1776 - val_loss: -199.4728\n",
      "Epoch 173/200\n",
      "490/490 [==============================] - 0s 107us/sample - loss: -176.1920 - val_loss: -199.2749\n",
      "Epoch 174/200\n",
      "490/490 [==============================] - 0s 104us/sample - loss: -176.2494 - val_loss: -201.1033\n",
      "Epoch 175/200\n",
      "490/490 [==============================] - 0s 102us/sample - loss: -174.8692 - val_loss: -198.3330\n",
      "Epoch 176/200\n",
      "490/490 [==============================] - 0s 101us/sample - loss: -177.0281 - val_loss: -202.0200\n",
      "Epoch 177/200\n",
      "490/490 [==============================] - 0s 100us/sample - loss: -180.9320 - val_loss: -204.5076\n",
      "Epoch 178/200\n",
      "490/490 [==============================] - 0s 101us/sample - loss: -181.3766 - val_loss: -206.6752\n",
      "Epoch 179/200\n",
      "490/490 [==============================] - 0s 101us/sample - loss: -181.2788 - val_loss: -204.3359\n",
      "Epoch 180/200\n",
      "490/490 [==============================] - 0s 102us/sample - loss: -181.7512 - val_loss: -204.4141\n",
      "Epoch 181/200\n",
      "490/490 [==============================] - 0s 103us/sample - loss: -184.3259 - val_loss: -206.2128\n",
      "Epoch 182/200\n",
      "490/490 [==============================] - 0s 103us/sample - loss: -184.7561 - val_loss: -207.5157\n",
      "Epoch 183/200\n",
      "490/490 [==============================] - 0s 104us/sample - loss: -182.8469 - val_loss: -207.2557\n",
      "Epoch 184/200\n",
      "490/490 [==============================] - 0s 104us/sample - loss: -185.1542 - val_loss: -207.6619\n",
      "Epoch 185/200\n",
      "490/490 [==============================] - 0s 100us/sample - loss: -186.5792 - val_loss: -208.4623\n",
      "Epoch 186/200\n",
      "490/490 [==============================] - 0s 105us/sample - loss: -186.7335 - val_loss: -211.1515\n",
      "Epoch 187/200\n",
      "490/490 [==============================] - 0s 107us/sample - loss: -188.3163 - val_loss: -211.9790\n",
      "Epoch 188/200\n",
      "490/490 [==============================] - 0s 107us/sample - loss: -188.4503 - val_loss: -214.2250\n",
      "Epoch 189/200\n",
      "490/490 [==============================] - 0s 104us/sample - loss: -190.8792 - val_loss: -213.9178\n",
      "Epoch 190/200\n",
      "490/490 [==============================] - 0s 100us/sample - loss: -189.6331 - val_loss: -213.1729\n",
      "Epoch 191/200\n",
      "490/490 [==============================] - 0s 101us/sample - loss: -192.1934 - val_loss: -215.7490\n",
      "Epoch 192/200\n",
      "490/490 [==============================] - 0s 100us/sample - loss: -194.1032 - val_loss: -216.4105\n",
      "Epoch 193/200\n",
      "490/490 [==============================] - 0s 106us/sample - loss: -196.6470 - val_loss: -216.0855\n",
      "Epoch 194/200\n",
      "490/490 [==============================] - 0s 101us/sample - loss: -196.1780 - val_loss: -216.1468\n",
      "Epoch 195/200\n",
      "490/490 [==============================] - 0s 105us/sample - loss: -196.3755 - val_loss: -217.5604\n",
      "Epoch 196/200\n",
      "490/490 [==============================] - 0s 104us/sample - loss: -196.9007 - val_loss: -219.5931\n",
      "Epoch 197/200\n",
      "490/490 [==============================] - 0s 105us/sample - loss: -194.9834 - val_loss: -219.2451\n",
      "Epoch 198/200\n",
      "490/490 [==============================] - 0s 106us/sample - loss: -198.8770 - val_loss: -221.4131\n",
      "Epoch 199/200\n",
      "490/490 [==============================] - 0s 106us/sample - loss: -192.7698 - val_loss: -217.0143\n",
      "Epoch 200/200\n",
      "490/490 [==============================] - 0s 103us/sample - loss: -191.9163 - val_loss: -212.9696\n"
     ]
    }
   ],
   "source": [
    "do_train_vae = False\n",
    "vae_model_path = os.path.join(os.getcwd(), 'saved_models', f'seed_{seed}', f'{rna}_vae.h5')\n",
    "\n",
    "if do_train_vae:\n",
    "    vae.fit(\n",
    "        train_logits, train_logits,\n",
    "        validation_data=(test_logits, test_logits),\n",
    "        batch_size=32,\n",
    "        epochs=200,\n",
    "    )\n",
    "    vae.save(vae_model_path)\n",
    "else:\n",
    "    vae.load_weights(vae_model_path)"
   ]
  },
  {
   "cell_type": "code",
   "execution_count": 20,
   "metadata": {},
   "outputs": [
    {
     "data": {
      "text/plain": [
       "(122, 2)"
      ]
     },
     "execution_count": 20,
     "metadata": {},
     "output_type": "execute_result"
    }
   ],
   "source": [
    "encoding_test_dist = encoder(test_logits)\n",
    "encoding_test = encoding_test_dist.mean().numpy()\n",
    "encoding_test.shape"
   ]
  },
  {
   "cell_type": "code",
   "execution_count": 71,
   "metadata": {},
   "outputs": [
    {
     "data": {
      "text/plain": [
       "array([15, 10, 70, 28, 70, 55, 55, 75, 75, 70, 26, 15, 10, 75, 55, 27, 30,\n",
       "       37, 80, 70, 65, 10, 80, 12, 55, 30, 37, 26, 37, 25, 55, 15, 26, 75,\n",
       "       75, 37, 55, 75, 37, 85, 80, 30, 25, 80, 10, 61, 30, 50, 28, 75, 41,\n",
       "       65, 70, 75,  4, 55, 55, 12, 70, 30, 37,  4, 88, 60, 75, 10,  4, 65,\n",
       "       10, 60, 22, 75, 95, 10,  4, 10, 90, 22,  4, 55, 10, 37, 37, 55, 95,\n",
       "        4, 75, 75, 55, 65, 45, 75, 95, 30, 65, 60, 26, 70,  4, 26, 75, 15,\n",
       "       56, 70, 55, 55, 80, 61, 37, 45, 65, 75, 28, 10, 80, 80, 55, 34, 75,\n",
       "       65, 28, 12])"
      ]
     },
     "execution_count": 71,
     "metadata": {},
     "output_type": "execute_result"
    }
   ],
   "source": [
    "temp_test = balanced_metadata.iloc[test_idx]['temp'].values\n",
    "temp_test"
   ]
  },
  {
   "cell_type": "code",
   "execution_count": 104,
   "metadata": {},
   "outputs": [],
   "source": [
    "def plot_encoding(encoding, labels, figsize=(12, 6), show_only=None):\n",
    "    f, ax = plt.subplots(1, 1, figsize=figsize)\n",
    "    \n",
    "    palette = sns.color_palette()\n",
    "    \n",
    "    for i, code in enumerate(encoding):\n",
    "        if show_only is not None and labels[i] not in show_only:\n",
    "            continue\n",
    "        ax.plot(code[0], code[1], 'o', color=palette[labels[i]])\n",
    "    \n",
    "    return f, ax"
   ]
  },
  {
   "cell_type": "code",
   "execution_count": 105,
   "metadata": {},
   "outputs": [
    {
     "data": {
      "image/png": "[encoded data removed]",
      "text/plain": [
       "<Figure size 864x432 with 1 Axes>"
      ]
     },
     "metadata": {},
     "output_type": "display_data"
    }
   ],
   "source": [
    "plot_encoding(encoding_test, labels, show_only=(0, 3));"
   ]
  },
  {
   "cell_type": "code",
   "execution_count": 110,
   "metadata": {},
   "outputs": [],
   "source": [
    "def plot_encoding_with_colors(encoding, labels, color_vals, figsize=(12, 6), show_only=None):\n",
    "    f, ax = plt.subplots(1, 1, figsize=figsize)\n",
    "    \n",
    "    palette = sns.color_palette()\n",
    "    \n",
    "    x_d, y_d = [], []\n",
    "    colors = []\n",
    "    \n",
    "    for i, code in enumerate(encoding):\n",
    "        if show_only is not None and labels[i] not in show_only:\n",
    "            continue\n",
    "        \n",
    "        x_d.append(encoding[i,0])\n",
    "        y_d.append(encoding[i,1])\n",
    "        colors.append(color_vals[i])\n",
    "    \n",
    "    sc = ax.scatter(x_d, y_d, c=colors, cmap='YlOrRd')\n",
    "    plt.colorbar(sc)\n",
    "    \n",
    "    return f, ax"
   ]
  },
  {
   "cell_type": "code",
   "execution_count": 118,
   "metadata": {},
   "outputs": [
    {
     "data": {
      "image/png": "[encoded data removed]",
      "text/plain": [
       "<Figure size 864x432 with 2 Axes>"
      ]
     },
     "metadata": {},
     "output_type": "display_data"
    }
   ],
   "source": [
    "plot_encoding_with_colors(encoding_test, labels, temp_test, show_only=(0, 3));"
   ]
  },
  {
   "cell_type": "code",
   "execution_count": null,
   "metadata": {},
   "outputs": [],
   "source": []
  }
 ],
 "metadata": {
  "kernelspec": {
   "display_name": "Python 3",
   "language": "python",
   "name": "python3"
  },
  "language_info": {
   "codemirror_mode": {
    "name": "ipython",
    "version": 3
   },
   "file_extension": ".py",
   "mimetype": "text/x-python",
   "name": "python",
   "nbconvert_exporter": "python",
   "pygments_lexer": "ipython3",
   "version": "3.7.5"
  }
 },
 "nbformat": 4,
 "nbformat_minor": 2
}
